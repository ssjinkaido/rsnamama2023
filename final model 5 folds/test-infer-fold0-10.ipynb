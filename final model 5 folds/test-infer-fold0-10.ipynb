{
 "cells": [
  {
   "cell_type": "code",
   "execution_count": 1,
   "id": "f33e90c9",
   "metadata": {
    "execution": {
     "iopub.execute_input": "2023-02-15T05:21:15.095070Z",
     "iopub.status.busy": "2023-02-15T05:21:15.094160Z",
     "iopub.status.idle": "2023-02-15T05:21:24.134967Z",
     "shell.execute_reply": "2023-02-15T05:21:24.133896Z"
    },
    "papermill": {
     "duration": 9.050675,
     "end_time": "2023-02-15T05:21:24.137557",
     "exception": false,
     "start_time": "2023-02-15T05:21:15.086882",
     "status": "completed"
    },
    "tags": []
   },
   "outputs": [],
   "source": [
    "import numpy as np\n",
    "import pandas as pd\n",
    "import random\n",
    "from glob import glob\n",
    "import os, shutil\n",
    "from tqdm import tqdm\n",
    "tqdm.pandas()\n",
    "import time\n",
    "import copy\n",
    "import joblib\n",
    "from collections import defaultdict\n",
    "import gc\n",
    "from IPython import display as ipd\n",
    "import math\n",
    "# visualization\n",
    "import cv2\n",
    "from glob import glob\n",
    "# Sklearn\n",
    "from sklearn.model_selection import StratifiedKFold, KFold, StratifiedGroupKFold\n",
    "from sklearn.metrics import accuracy_score, roc_auc_score, f1_score, confusion_matrix, roc_curve\n",
    "import timm\n",
    "# PyTorch \n",
    "import torch\n",
    "import torch.nn as nn\n",
    "import torch.optim as optim\n",
    "from torch.optim import lr_scheduler\n",
    "from torch.utils.data import Dataset, DataLoader\n",
    "from torch.cuda.amp import autocast, GradScaler\n",
    "import torch.nn.functional as F\n",
    "from torch.optim.swa_utils import AveragedModel, SWALR\n",
    "from transformers import get_cosine_schedule_with_warmup\n",
    "from collections import defaultdict\n",
    "# import matplotlib.pyplot as plt\n",
    "# Albumentations for augmentations\n",
    "import albumentations as A\n",
    "import albumentations\n",
    "import albumentations as albu\n",
    "from albumentations.pytorch import ToTensorV2\n",
    "from datetime import datetime\n",
    "import warnings\n",
    "warnings.filterwarnings(\"ignore\")"
   ]
  },
  {
   "cell_type": "code",
   "execution_count": 2,
   "id": "1355b4b1",
   "metadata": {
    "execution": {
     "iopub.execute_input": "2023-02-15T05:21:24.147061Z",
     "iopub.status.busy": "2023-02-15T05:21:24.146746Z",
     "iopub.status.idle": "2023-02-15T05:21:24.216081Z",
     "shell.execute_reply": "2023-02-15T05:21:24.215032Z"
    },
    "papermill": {
     "duration": 0.077418,
     "end_time": "2023-02-15T05:21:24.219358",
     "exception": false,
     "start_time": "2023-02-15T05:21:24.141940",
     "status": "completed"
    },
    "tags": []
   },
   "outputs": [
    {
     "name": "stdout",
     "output_type": "stream",
     "text": [
      "cuda\n"
     ]
    }
   ],
   "source": [
    "class CFG:\n",
    "    seed = 1\n",
    "    model_name = \"tf_efficientnetv2_b2\"\n",
    "    train_bs = 16\n",
    "    valid_bs = train_bs*4\n",
    "    image_size = 1024\n",
    "    epochs = 25\n",
    "    device = torch.device(\"cuda\" if torch.cuda.is_available() else \"cpu\")\n",
    "\n",
    "print(CFG.device)"
   ]
  },
  {
   "cell_type": "code",
   "execution_count": 3,
   "id": "8e2af19a",
   "metadata": {
    "execution": {
     "iopub.execute_input": "2023-02-15T05:21:24.229681Z",
     "iopub.status.busy": "2023-02-15T05:21:24.228809Z",
     "iopub.status.idle": "2023-02-15T05:21:24.384897Z",
     "shell.execute_reply": "2023-02-15T05:21:24.383728Z"
    },
    "papermill": {
     "duration": 0.16338,
     "end_time": "2023-02-15T05:21:24.387180",
     "exception": false,
     "start_time": "2023-02-15T05:21:24.223800",
     "status": "completed"
    },
    "tags": []
   },
   "outputs": [
    {
     "data": {
      "text/html": [
       "<div>\n",
       "<style scoped>\n",
       "    .dataframe tbody tr th:only-of-type {\n",
       "        vertical-align: middle;\n",
       "    }\n",
       "\n",
       "    .dataframe tbody tr th {\n",
       "        vertical-align: top;\n",
       "    }\n",
       "\n",
       "    .dataframe thead th {\n",
       "        text-align: right;\n",
       "    }\n",
       "</style>\n",
       "<table border=\"1\" class=\"dataframe\">\n",
       "  <thead>\n",
       "    <tr style=\"text-align: right;\">\n",
       "      <th></th>\n",
       "      <th>site_id</th>\n",
       "      <th>patient_id</th>\n",
       "      <th>image_id</th>\n",
       "      <th>laterality</th>\n",
       "      <th>view</th>\n",
       "      <th>age</th>\n",
       "      <th>cancer</th>\n",
       "      <th>biopsy</th>\n",
       "      <th>invasive</th>\n",
       "      <th>BIRADS</th>\n",
       "      <th>implant</th>\n",
       "      <th>density</th>\n",
       "      <th>machine_id</th>\n",
       "      <th>difficult_negative_case</th>\n",
       "      <th>split</th>\n",
       "      <th>fold</th>\n",
       "    </tr>\n",
       "  </thead>\n",
       "  <tbody>\n",
       "    <tr>\n",
       "      <th>0</th>\n",
       "      <td>2</td>\n",
       "      <td>10006</td>\n",
       "      <td>462822612</td>\n",
       "      <td>L</td>\n",
       "      <td>CC</td>\n",
       "      <td>61.0</td>\n",
       "      <td>0</td>\n",
       "      <td>0</td>\n",
       "      <td>0</td>\n",
       "      <td>NaN</td>\n",
       "      <td>0</td>\n",
       "      <td>NaN</td>\n",
       "      <td>29</td>\n",
       "      <td>False</td>\n",
       "      <td>10006_L</td>\n",
       "      <td>0</td>\n",
       "    </tr>\n",
       "    <tr>\n",
       "      <th>1</th>\n",
       "      <td>2</td>\n",
       "      <td>10006</td>\n",
       "      <td>1459541791</td>\n",
       "      <td>L</td>\n",
       "      <td>MLO</td>\n",
       "      <td>61.0</td>\n",
       "      <td>0</td>\n",
       "      <td>0</td>\n",
       "      <td>0</td>\n",
       "      <td>NaN</td>\n",
       "      <td>0</td>\n",
       "      <td>NaN</td>\n",
       "      <td>29</td>\n",
       "      <td>False</td>\n",
       "      <td>10006_L</td>\n",
       "      <td>0</td>\n",
       "    </tr>\n",
       "    <tr>\n",
       "      <th>2</th>\n",
       "      <td>2</td>\n",
       "      <td>10006</td>\n",
       "      <td>1864590858</td>\n",
       "      <td>R</td>\n",
       "      <td>MLO</td>\n",
       "      <td>61.0</td>\n",
       "      <td>0</td>\n",
       "      <td>0</td>\n",
       "      <td>0</td>\n",
       "      <td>NaN</td>\n",
       "      <td>0</td>\n",
       "      <td>NaN</td>\n",
       "      <td>29</td>\n",
       "      <td>False</td>\n",
       "      <td>10006_R</td>\n",
       "      <td>2</td>\n",
       "    </tr>\n",
       "    <tr>\n",
       "      <th>3</th>\n",
       "      <td>2</td>\n",
       "      <td>10006</td>\n",
       "      <td>1874946579</td>\n",
       "      <td>R</td>\n",
       "      <td>CC</td>\n",
       "      <td>61.0</td>\n",
       "      <td>0</td>\n",
       "      <td>0</td>\n",
       "      <td>0</td>\n",
       "      <td>NaN</td>\n",
       "      <td>0</td>\n",
       "      <td>NaN</td>\n",
       "      <td>29</td>\n",
       "      <td>False</td>\n",
       "      <td>10006_R</td>\n",
       "      <td>2</td>\n",
       "    </tr>\n",
       "    <tr>\n",
       "      <th>4</th>\n",
       "      <td>2</td>\n",
       "      <td>10011</td>\n",
       "      <td>220375232</td>\n",
       "      <td>L</td>\n",
       "      <td>CC</td>\n",
       "      <td>55.0</td>\n",
       "      <td>0</td>\n",
       "      <td>0</td>\n",
       "      <td>0</td>\n",
       "      <td>0.0</td>\n",
       "      <td>0</td>\n",
       "      <td>NaN</td>\n",
       "      <td>21</td>\n",
       "      <td>True</td>\n",
       "      <td>10011_L</td>\n",
       "      <td>5</td>\n",
       "    </tr>\n",
       "  </tbody>\n",
       "</table>\n",
       "</div>"
      ],
      "text/plain": [
       "   site_id  patient_id    image_id laterality view   age  cancer  biopsy  \\\n",
       "0        2       10006   462822612          L   CC  61.0       0       0   \n",
       "1        2       10006  1459541791          L  MLO  61.0       0       0   \n",
       "2        2       10006  1864590858          R  MLO  61.0       0       0   \n",
       "3        2       10006  1874946579          R   CC  61.0       0       0   \n",
       "4        2       10011   220375232          L   CC  55.0       0       0   \n",
       "\n",
       "   invasive  BIRADS  implant density  machine_id  difficult_negative_case  \\\n",
       "0         0     NaN        0     NaN          29                    False   \n",
       "1         0     NaN        0     NaN          29                    False   \n",
       "2         0     NaN        0     NaN          29                    False   \n",
       "3         0     NaN        0     NaN          29                    False   \n",
       "4         0     0.0        0     NaN          21                     True   \n",
       "\n",
       "     split  fold  \n",
       "0  10006_L     0  \n",
       "1  10006_L     0  \n",
       "2  10006_R     2  \n",
       "3  10006_R     2  \n",
       "4  10011_L     5  "
      ]
     },
     "execution_count": 3,
     "metadata": {},
     "output_type": "execute_result"
    }
   ],
   "source": [
    "df = pd.read_csv(\"/kaggle/input/10folds/train_10folds.csv\")\n",
    "df.head()"
   ]
  },
  {
   "cell_type": "code",
   "execution_count": 4,
   "id": "deb2e82f",
   "metadata": {
    "execution": {
     "iopub.execute_input": "2023-02-15T05:21:24.398829Z",
     "iopub.status.busy": "2023-02-15T05:21:24.398011Z",
     "iopub.status.idle": "2023-02-15T05:21:24.409294Z",
     "shell.execute_reply": "2023-02-15T05:21:24.408380Z"
    },
    "papermill": {
     "duration": 0.019289,
     "end_time": "2023-02-15T05:21:24.411484",
     "exception": false,
     "start_time": "2023-02-15T05:21:24.392195",
     "status": "completed"
    },
    "tags": []
   },
   "outputs": [
    {
     "name": "stderr",
     "output_type": "stream",
     "text": [
      "Date :02/15/2023, 05:21:24\n"
     ]
    }
   ],
   "source": [
    "def init_logger(log_file='train1.log'):\n",
    "    from logging import getLogger, INFO, FileHandler,  Formatter,  StreamHandler\n",
    "    logger = getLogger(__name__)\n",
    "    logger.setLevel(INFO)\n",
    "    handler1 = StreamHandler()\n",
    "    handler1.setFormatter(Formatter(\"%(message)s\"))\n",
    "    handler2 = FileHandler(filename=log_file)\n",
    "    handler2.setFormatter(Formatter(\"%(message)s\"))\n",
    "    logger.addHandler(handler1)\n",
    "    logger.addHandler(handler2)\n",
    "    return logger\n",
    "\n",
    "LOGGER = init_logger()\n",
    "now = datetime.now()\n",
    "datetime_now = now.strftime(\"%m/%d/%Y, %H:%M:%S\")\n",
    "LOGGER.info(f\"Date :{datetime_now}\")"
   ]
  },
  {
   "cell_type": "code",
   "execution_count": 5,
   "id": "b97c9227",
   "metadata": {
    "execution": {
     "iopub.execute_input": "2023-02-15T05:21:24.422282Z",
     "iopub.status.busy": "2023-02-15T05:21:24.421997Z",
     "iopub.status.idle": "2023-02-15T05:21:24.440995Z",
     "shell.execute_reply": "2023-02-15T05:21:24.439564Z"
    },
    "papermill": {
     "duration": 0.02685,
     "end_time": "2023-02-15T05:21:24.443061",
     "exception": false,
     "start_time": "2023-02-15T05:21:24.416211",
     "status": "completed"
    },
    "tags": []
   },
   "outputs": [
    {
     "name": "stderr",
     "output_type": "stream",
     "text": [
      "train transformCompose([\n",
      "  VerticalFlip(always_apply=False, p=0.5),\n",
      "  ColorJitter(always_apply=False, p=0.5, brightness=[0.8, 1.2], contrast=[0.8, 1.2], saturation=[0.8, 1.2], hue=[-0.2, 0.2]),\n",
      "  ShiftScaleRotate(always_apply=False, p=0.5, shift_limit_x=(-0.0625, 0.0625), shift_limit_y=(-0.0625, 0.0625), scale_limit=(-0.050000000000000044, 0.050000000000000044), rotate_limit=(-10, 10), interpolation=1, border_mode=4, value=None, mask_value=None, rotate_method='largest_box'),\n",
      "  HorizontalFlip(always_apply=False, p=0.5),\n",
      "  Cutout(always_apply=False, p=0.5, num_holes=5, max_h_size=102, max_w_size=102),\n",
      "  ToTensorV2(always_apply=True, p=1.0, transpose_mask=False),\n",
      "], p=1.0, bbox_params=None, keypoint_params=None, additional_targets={})\n"
     ]
    }
   ],
   "source": [
    "from albumentations import DualTransform\n",
    "image_size = 1024\n",
    "def isotropically_resize_image(img, size, interpolation_down=cv2.INTER_AREA, interpolation_up=cv2.INTER_CUBIC):\n",
    "    h, w = img.shape[:2]\n",
    "    if max(w, h) == size:\n",
    "        return img\n",
    "    if w > h:\n",
    "        scale = size / w\n",
    "        h = h * scale\n",
    "        w = size\n",
    "    else:\n",
    "        scale = size / h\n",
    "        w = w * scale\n",
    "        h = size\n",
    "    interpolation = interpolation_up if scale > 1 else interpolation_down\n",
    "    resized = cv2.resize(img, (int(w), int(h)), interpolation=interpolation)\n",
    "    return resized\n",
    "\n",
    "\n",
    "class IsotropicResize(DualTransform):\n",
    "    def __init__(self, max_side, interpolation_down=cv2.INTER_AREA, interpolation_up=cv2.INTER_CUBIC,\n",
    "                 always_apply=False, p=1):\n",
    "        super(IsotropicResize, self).__init__(always_apply, p)\n",
    "        self.max_side = max_side\n",
    "        self.interpolation_down = interpolation_down\n",
    "        self.interpolation_up = interpolation_up\n",
    "\n",
    "    def apply(self, img, interpolation_down=cv2.INTER_AREA, interpolation_up=cv2.INTER_CUBIC, **params):\n",
    "        return isotropically_resize_image(img, size=self.max_side, interpolation_down=interpolation_down,\n",
    "                                          interpolation_up=interpolation_up)\n",
    "\n",
    "    def apply_to_mask(self, img, **params):\n",
    "        return self.apply(img, interpolation_down=cv2.INTER_NEAREST, interpolation_up=cv2.INTER_NEAREST, **params)\n",
    "\n",
    "    def get_transform_init_args_names(self):\n",
    "        return (\"max_side\", \"interpolation_down\", \"interpolation_up\")\n",
    "    \n",
    "data_transforms = {\n",
    "    \"train\": A.Compose([\n",
    "        # A.Resize(image_size, image_size),\n",
    "        # IsotropicResize(max_side = image_size),\n",
    "        # A.PadIfNeeded(min_height=image_size, min_width=image_size, border_mode=cv2.BORDER_CONSTANT),\n",
    "        # A.RandomBrightnessContrast(),\n",
    "        A.VerticalFlip(p=0.5),   \n",
    "        A.ColorJitter(p=0.5),\n",
    "        A.ShiftScaleRotate(shift_limit=0.0625, scale_limit=0.05, rotate_limit=10, p=0.5),\n",
    "        A.HorizontalFlip(p=0.5),\n",
    "        A.Cutout(max_h_size=int(image_size*0.1), max_w_size=int(image_size*0.1), num_holes=5, p=0.5), \n",
    "        # A.OneOf([\n",
    "        #         A.OpticalDistortion(),\n",
    "        #         A.IAAPiecewiseAffine(),\n",
    "        #     ], p=0.1),\n",
    "        # A.OneOf([\n",
    "        #     A.GaussNoise(),\n",
    "        #     A.MotionBlur(blur_limit=(3, 5)),\n",
    "        # ], p=0.1),\n",
    "        # A.ColorJitter(),\n",
    "        # A.ShiftScaleRotate(shift_limit=0.0625, scale_limit=0.05, rotate_limit=10, p=0.5),\n",
    "        # A.HorizontalFlip(p=0.5),\n",
    "        # A.Cutout(max_h_size=102, max_w_size=102, num_holes=5, p=0.5),\n",
    "        # A.CLAHE(p=1.0),\n",
    "        # albumentations.HorizontalFlip(p=0.5),\n",
    "        # # albumentations.VerticalFlip(p=0.5),\n",
    "        # albumentations.RandomBrightness(limit=0.2, p=0.75),\n",
    "        # albumentations.RandomContrast(limit=0.2, p=0.75),\n",
    "\n",
    "        # albumentations.OneOf([\n",
    "        #     albumentations.OpticalDistortion(distort_limit=1.),\n",
    "        #     albumentations.GridDistortion(num_steps=5, distort_limit=1.),\n",
    "        # ], p=0.75),\n",
    "\n",
    "        # albumentations.HueSaturationValue(hue_shift_limit=40, sat_shift_limit=40, val_shift_limit=0, p=0.75),\n",
    "        # albumentations.ShiftScaleRotate(shift_limit=0.2, scale_limit=0.3, rotate_limit=30, border_mode=0, p=0.75),\n",
    "        # A.Cutout(always_apply=False, p=0.5, num_holes=1, max_h_size=409, max_w_size=409),\n",
    "        # A.OneOf([ \n",
    "        # A.OpticalDistortion(distort_limit=1.0), \n",
    "        # A.GridDistortion(num_steps=5, distort_limit=1.),\n",
    "        # A.ElasticTransform(alpha=3), ], p=0.2),\n",
    "        # A.OneOf([\n",
    "        #     # A.GaussNoise(var_limit=[10, 50]),\n",
    "        #     A.GaussianBlur(),\n",
    "        #     A.MotionBlur(),\n",
    "        #     A.MedianBlur(), ], p=0.2),\n",
    "        # A.OneOf([\n",
    "        #     A.GridDistortion(num_steps=5, distort_limit=0.05, p=1.0),\n",
    "        #     A.OpticalDistortion(distort_limit=0.05, shift_limit=0.05, p=1.0),\n",
    "        #     A.ElasticTransform(alpha=1, sigma=50, alpha_affine=50, p=1.0)\n",
    "        # ], p=0.25),\n",
    "        # A.CoarseDropout(max_holes=8, max_height=image_size//20, max_width=image_size//20,\n",
    "        #                  min_holes=5, fill_value=0, mask_fill_value=0, p=0.5),\n",
    "        # A.Normalize(mean=0, std=1),\n",
    "        ToTensorV2(),], p=1.0),\n",
    "    \n",
    "    \"valid\": A.Compose([\n",
    "        # IsotropicResize(max_side =image_size),\n",
    "        # A.PadIfNeeded(min_height=image_size, min_width=image_size, border_mode=cv2.BORDER_CONSTANT),\n",
    "        # A.Normalize(mean=0, std=1),\n",
    "        # A.Resize(image_size, image_size),\n",
    "        ToTensorV2(),\n",
    "        ], p=1.0)\n",
    "}\n",
    "\n",
    "LOGGER.info(f\"train transform{data_transforms['train']}\")\n"
   ]
  },
  {
   "cell_type": "code",
   "execution_count": 6,
   "id": "5316e62e",
   "metadata": {
    "execution": {
     "iopub.execute_input": "2023-02-15T05:21:24.452377Z",
     "iopub.status.busy": "2023-02-15T05:21:24.452086Z",
     "iopub.status.idle": "2023-02-15T05:21:24.547104Z",
     "shell.execute_reply": "2023-02-15T05:21:24.545946Z"
    },
    "papermill": {
     "duration": 0.103481,
     "end_time": "2023-02-15T05:21:24.550610",
     "exception": false,
     "start_time": "2023-02-15T05:21:24.447129",
     "status": "completed"
    },
    "tags": []
   },
   "outputs": [
    {
     "name": "stdout",
     "output_type": "stream",
     "text": [
      "torch.Size([3, 1344, 840]) tensor(0)\n",
      "tensor(255.)\n"
     ]
    }
   ],
   "source": [
    "def pad(array, target_shape):\n",
    "    return np.pad(\n",
    "        array,\n",
    "        [(0, target_shape[i] - array.shape[i]) for i in range(len(array.shape))],\n",
    "        \"constant\",\n",
    "    )\n",
    "\n",
    "def load_img2(img_path):\n",
    "    image = cv2.imread(img_path)\n",
    "    image = cv2.cvtColor(image, cv2.COLOR_BGR2RGB)\n",
    "    return image\n",
    "class BreastDataset(Dataset):\n",
    "    def __init__(self, df, transforms=None):\n",
    "        self.df = df\n",
    "        self.transforms = transforms\n",
    "        \n",
    "    def __getitem__(self, index):\n",
    "        row = self.df.iloc[index]\n",
    "        if (os.path.exists(f\"/kaggle/input/27300next/output/{row.patient_id}_{row.image_id}.png\")):\n",
    "            img_path = f\"/kaggle/input/27300next/output/{row.patient_id}_{row.image_id}.png\"\n",
    "        else:\n",
    "            img_path = f\"/kaggle/input/1024bicubic/output/{row.patient_id}_{row.image_id}.png\"\n",
    "        img = load_img2(img_path)\n",
    "        label = row['cancer']\n",
    "        # img = np.transpose(img, (2, 0, 1))\n",
    "        data = self.transforms(image=img)\n",
    "        img  = data['image']\n",
    "        # img = img/255\n",
    "        return torch.tensor(img).float(), torch.tensor(label).long()\n",
    "        \n",
    "    def __len__(self):\n",
    "        return len(self.df)\n",
    "    \n",
    "fold0 = df[df['fold']==0]\n",
    "train_dataset = BreastDataset(fold0, transforms = data_transforms['train'])\n",
    "image, label = train_dataset[0]\n",
    "print(image.shape, label)\n",
    "print(image.max())"
   ]
  },
  {
   "cell_type": "code",
   "execution_count": 7,
   "id": "01f4ef01",
   "metadata": {
    "execution": {
     "iopub.execute_input": "2023-02-15T05:21:24.563530Z",
     "iopub.status.busy": "2023-02-15T05:21:24.561770Z",
     "iopub.status.idle": "2023-02-15T05:21:24.569108Z",
     "shell.execute_reply": "2023-02-15T05:21:24.568147Z"
    },
    "papermill": {
     "duration": 0.015018,
     "end_time": "2023-02-15T05:21:24.571140",
     "exception": false,
     "start_time": "2023-02-15T05:21:24.556122",
     "status": "completed"
    },
    "tags": []
   },
   "outputs": [],
   "source": [
    "\n",
    "class ModelOld(nn.Module):\n",
    "    def __init__(self, model_name):\n",
    "        super().__init__()\n",
    "        # ,drop_rate = 0.3, drop_path_rate = 0.2\n",
    "        self.backbone = timm.create_model(CFG.model_name, pretrained=False,drop_rate = 0.3, drop_path_rate = 0.2)\n",
    "        self.fc = nn.Linear(self.backbone.classifier.in_features,2)\n",
    "        self.dropout = nn.Dropout(0.5)\n",
    "        self.backbone.classifier = nn.Identity()\n",
    "    def forward(self, x):\n",
    "        x = self.backbone(x)\n",
    "        x = self.fc(self.dropout(x))\n",
    "        return x\n"
   ]
  },
  {
   "cell_type": "code",
   "execution_count": 8,
   "id": "81efdd92",
   "metadata": {
    "execution": {
     "iopub.execute_input": "2023-02-15T05:21:24.581788Z",
     "iopub.status.busy": "2023-02-15T05:21:24.580923Z",
     "iopub.status.idle": "2023-02-15T05:21:24.588936Z",
     "shell.execute_reply": "2023-02-15T05:21:24.588001Z"
    },
    "papermill": {
     "duration": 0.015319,
     "end_time": "2023-02-15T05:21:24.591007",
     "exception": false,
     "start_time": "2023-02-15T05:21:24.575688",
     "status": "completed"
    },
    "tags": []
   },
   "outputs": [],
   "source": [
    "class AverageMeter(object):\n",
    "    \"\"\"Computes and stores the average and current value\"\"\"\n",
    "    def __init__(self):\n",
    "        self.reset()\n",
    "\n",
    "    def reset(self):\n",
    "        self.val = 0\n",
    "        self.avg = 0\n",
    "        self.sum = 0\n",
    "        self.count = 0\n",
    "\n",
    "    def update(self, val, n=1):\n",
    "        self.val = val\n",
    "        self.sum += val * n\n",
    "        self.count += n\n",
    "        self.avg = self.sum / self.count\n",
    "\n",
    "\n",
    "def asMinutes(s):\n",
    "    m = math.floor(s / 60)\n",
    "    s -= m * 60\n",
    "    return '%dm %ds' % (m, s)\n",
    "\n",
    "\n",
    "def timeSince(since, percent):\n",
    "    now = time.time()\n",
    "    s = now - since\n",
    "    es = s / (percent)\n",
    "    rs = es - s\n",
    "    return '%s (remain %s)' % (asMinutes(s), asMinutes(rs))"
   ]
  },
  {
   "cell_type": "code",
   "execution_count": 9,
   "id": "bec45b55",
   "metadata": {
    "execution": {
     "iopub.execute_input": "2023-02-15T05:21:24.600685Z",
     "iopub.status.busy": "2023-02-15T05:21:24.600385Z",
     "iopub.status.idle": "2023-02-15T05:21:24.609010Z",
     "shell.execute_reply": "2023-02-15T05:21:24.608009Z"
    },
    "papermill": {
     "duration": 0.01595,
     "end_time": "2023-02-15T05:21:24.611121",
     "exception": false,
     "start_time": "2023-02-15T05:21:24.595171",
     "status": "completed"
    },
    "tags": []
   },
   "outputs": [],
   "source": [
    "\n",
    "def valid_fn_two(val_dataloader, model, criterion, device):\n",
    "    losses = AverageMeter()\n",
    "    model.eval()\n",
    "    truth = []\n",
    "    preds = []\n",
    "    valid_labels = []\n",
    "    start = end = time.time()\n",
    "    pbar = tqdm(enumerate(val_dataloader), total=len(val_dataloader), desc='Val')\n",
    "    for step, (images, labels) in pbar:\n",
    "        images = images.to(device, non_blocking=True)\n",
    "        labels = labels.to(device, non_blocking=True)\n",
    "        batch_size = labels.size(0)\n",
    "        with torch.no_grad():\n",
    "            outputs = model(images)\n",
    "        valid_labels.append(labels.cpu().numpy())\n",
    "        loss = criterion(outputs, labels)\n",
    "#         loss = bi_tempered_logistic_loss(outputs, labels, t1=0.8, t2 = 1.4)\n",
    "        losses.update(loss.item(), batch_size)\n",
    "#         print(outputs)\n",
    "        preds.append(F.softmax(outputs).to('cpu').numpy())\n",
    "        mem = torch.cuda.memory_reserved() / 1E9 if torch.cuda.is_available() else 0\n",
    "        pbar.set_postfix(eval_loss=f'{losses.avg:0.4f}',\n",
    "                        gpu_mem=f'{mem:0.2f} GB')\n",
    "    predictions = np.concatenate(preds)\n",
    "    valid_labels = np.concatenate(valid_labels)\n",
    "    return losses.avg, predictions, valid_labels\n"
   ]
  },
  {
   "cell_type": "code",
   "execution_count": 10,
   "id": "c4ab6ab0",
   "metadata": {
    "execution": {
     "iopub.execute_input": "2023-02-15T05:21:24.621093Z",
     "iopub.status.busy": "2023-02-15T05:21:24.620819Z",
     "iopub.status.idle": "2023-02-15T05:21:24.841682Z",
     "shell.execute_reply": "2023-02-15T05:21:24.841015Z"
    },
    "papermill": {
     "duration": 0.228447,
     "end_time": "2023-02-15T05:21:24.843666",
     "exception": false,
     "start_time": "2023-02-15T05:21:24.615219",
     "status": "completed"
    },
    "tags": []
   },
   "outputs": [
    {
     "name": "stdout",
     "output_type": "stream",
     "text": [
      "> SEEDING DONE\n"
     ]
    },
    {
     "name": "stderr",
     "output_type": "stream",
     "text": [
      "5 fold\n",
      "Fold: 0\n",
      "Model name: tf_efficientnetv2_b2\n",
      "Len valid df: 5471\n"
     ]
    }
   ],
   "source": [
    "\n",
    "def pfbeta(labels, predictions, beta=1):\n",
    "    y_true_count = 0\n",
    "    ctp = 0\n",
    "    cfp = 0\n",
    "\n",
    "    for idx in range(len(labels)):\n",
    "        prediction = min(max(predictions[idx], 0), 1)\n",
    "        if (labels[idx]):\n",
    "            y_true_count += 1\n",
    "            ctp += prediction\n",
    "        else:\n",
    "            cfp += prediction\n",
    "\n",
    "    beta_squared = beta * beta\n",
    "    c_precision = ctp / (ctp + cfp)\n",
    "    c_recall = ctp / y_true_count\n",
    "    if (c_precision > 0 and c_recall > 0):\n",
    "        result = (1 + beta_squared) * (c_precision * c_recall) / (beta_squared * c_precision + c_recall)\n",
    "        return result\n",
    "    else:\n",
    "        return 0\n",
    "\n",
    "def pfbeta_np(labels, preds, beta=1):\n",
    "    preds = preds.clip(0, 1)\n",
    "    y_true_count = labels.sum()\n",
    "    ctp = preds[labels==1].sum()\n",
    "    cfp = preds[labels==0].sum()\n",
    "    beta_squared = beta * beta\n",
    "    c_precision = ctp / (ctp + cfp)\n",
    "    c_recall = ctp / y_true_count\n",
    "    if (c_precision > 0 and c_recall > 0):\n",
    "        result = (1 + beta_squared) * (c_precision * c_recall) / (beta_squared * c_precision + c_recall)\n",
    "        return result\n",
    "    else:\n",
    "        return 0.0\n",
    "    \n",
    "def dfs_freeze(module):\n",
    "    for param in module.parameters():\n",
    "        param.requires_grad = False\n",
    "        \n",
    "def dfs_unfreeze(module):\n",
    "    for param in module.parameters():\n",
    "        param.requires_grad = True\n",
    "    \n",
    "def set_seed(seed = 42):\n",
    "    '''Sets the seed of the entire notebook so results are the same every time we run.\n",
    "    This is for REPRODUCIBILITY.'''\n",
    "    np.random.seed(seed)\n",
    "    random.seed(seed)\n",
    "    torch.manual_seed(seed)\n",
    "    torch.cuda.manual_seed(seed)\n",
    "    # When running on the CuDNN backend, two further options must be set\n",
    "    torch.backends.cudnn.deterministic = True\n",
    "    torch.backends.cudnn.benchmark = False\n",
    "    # Set a fixed value for the hash seed\n",
    "    os.environ['PYTHONHASHSEED'] = str(seed)\n",
    "    print('> SEEDING DONE')\n",
    "\n",
    "def sigmoid(x):\n",
    "  return 1 / (1 + math.exp(-x))\n",
    "def valid_fn_two(val_dataloader, model, criterion, device):\n",
    "    losses = AverageMeter()\n",
    "    model.eval()\n",
    "    preds = []\n",
    "    pbar = tqdm(enumerate(val_dataloader), total=len(val_dataloader), desc='Val')\n",
    "    for step, (images, labels) in pbar:\n",
    "        images = images.to(device, non_blocking=True)\n",
    "        labels = labels.to(device, non_blocking=True)\n",
    "        batch_size = labels.size(0)\n",
    "        with torch.no_grad():\n",
    "            with autocast(enabled=True):\n",
    "                outputs = model(images)\n",
    "                loss = criterion(outputs, labels)\n",
    "#         loss = bi_tempered_logistic_loss(outputs, labels, t1=0.8, t2 = 1.4)\n",
    "        losses.update(loss.item(), batch_size)\n",
    "#         print(outputs)\n",
    "        preds.append(F.softmax(outputs).to('cpu').numpy())\n",
    "        mem = torch.cuda.memory_reserved() / 1E9 if torch.cuda.is_available() else 0\n",
    "        pbar.set_postfix(eval_loss=f'{losses.avg:0.4f}',\n",
    "                        gpu_mem=f'{mem:0.2f} GB')\n",
    "    predictions = np.concatenate(preds)\n",
    "    return losses.avg, predictions\n",
    "set_seed(1)\n",
    "gc.collect()\n",
    "torch.cuda.empty_cache()\n",
    "for fold in [0]:\n",
    "    LOGGER.info(\"5 fold\")\n",
    "    LOGGER.info(f\"Fold: {fold}\")\n",
    "    LOGGER.info(f\"Model name: {CFG.model_name}\")\n",
    "    valid_df = df[df['fold']==fold].reset_index(drop=True)\n",
    "    LOGGER.info(f\"Len valid df: {len(valid_df)}\")\n",
    "    \n",
    "    valid_dataset = BreastDataset(valid_df, transforms=data_transforms['valid'])\n",
    "\n",
    "    valid_loader = DataLoader(valid_dataset, batch_size = CFG.valid_bs, \n",
    "                                  num_workers=1, shuffle=False, pin_memory=True, drop_last=False)\n",
    "    # model = Model(model_name=CFG.model_name).to(device)\n",
    "    best_f1 = 0\n",
    "    best_metric = 0\n",
    "    total_epoch = 30\n",
    "    warmup = 1\n",
    "#     model = ModelOld(model_name=CFG.model_name).to(CFG.device)\n",
    "#     checkpoint = torch.load(\"/kaggle/input/10folds/tf_efficientnetv2_b2_fold_0_model_epoch_2_0.5510_0.151.pth\")\n",
    "#     model.load_state_dict(checkpoint['state_dict'])\n",
    "#     criterion = nn.CrossEntropyLoss().to(CFG.device)\n",
    "#     LOGGER.info(f\"Train bs: {CFG.train_bs}\")\n",
    "#     # LOGGER.info(f\"Model: {model}\")\n",
    "#     LOGGER.info(f\"{model.__class__.__name__}\")\n",
    "#     LOGGER.info(f\"optimizer: {optimizer}\")\n",
    "#     LOGGER.info(f\"total_epoch :{total_epoch}\")\n",
    "#     LOGGER.info(f\"Warmup: {warmup}\")\n",
    "#     for epoch in range(1, total_epoch+1):\n",
    "#         LOGGER.info(f\"Epoch: {epoch}/{total_epoch}\")\n",
    "#         # loss_train = train_fn(train_loader, model, criterion, optimizer, epoch, scheduler, CFG.device)\n",
    "#         loss_valid, valid_preds = valid_fn_two(valid_loader, model, criterion, CFG.device)\n",
    "#         valid_preds = valid_preds[:, 1]\n",
    "#         valid_df['prediction_id'] = valid_df['patient_id'].astype(str) + '_' + valid_df['laterality'].astype(str)\n",
    "#         valid_preds = np.array(valid_preds).flatten()\n",
    "        \n",
    "#         valid_df['raw_pred'] = valid_preds\n",
    "#         LOGGER.info(f\"Valid loss:{loss_valid:.4f}\")\n",
    "#         # LOGGER.info(f\"Train loss:{loss_train:.4f}, Valid loss:{loss_valid:.4f}\")\n",
    "#         # print(valid_df.head())\n",
    "#         grp_df = valid_df.groupby('prediction_id')['raw_pred', 'cancer'].mean()\n",
    "#         grp_df['cancer'] = grp_df['cancer'].astype(np.int)\n",
    "#         valid_labels_mean = grp_df['cancer'].values\n",
    "#         valid_preds_mean = grp_df['raw_pred'].values\n",
    "#         # print(valid_labels[:5], valid_preds_mean[:5])\n",
    "#         val_metric_mean = pfbeta(valid_labels_mean, valid_preds_mean)\n",
    "#         LOGGER.info(f\"Val metric mean prob: {val_metric_mean:.4f}\")\n",
    "#         best_metric_mean_at_epoch = 0\n",
    "#         best_metric1 = 0\n",
    "#         best_threshold_mean = 0\n",
    "#         best_auc = 0\n",
    "#         best_cf = None\n",
    "#         for i in np.arange(0.001, 0.599, 0.001):\n",
    "#             valid_argmax = (valid_preds_mean>i).astype(np.int32)\n",
    "#     #             print(valid_argmax)\n",
    "#             # val_metric = pfbeta(valid_labels_mean, valid_argmax)\n",
    "#             val_metric1 = pfbeta_np(valid_labels_mean, valid_argmax)\n",
    "#             val_acc = accuracy_score(valid_labels_mean, valid_argmax)\n",
    "#             val_f1 = f1_score(valid_labels_mean, valid_argmax)\n",
    "#             val_auc = roc_auc_score(valid_labels_mean, valid_argmax)\n",
    "#             cf = confusion_matrix(valid_labels_mean, valid_argmax)\n",
    "#             if val_metric1> best_metric1:\n",
    "#                 best_metric1 = val_metric1\n",
    "#                 # best_metric_mean_at_epoch = val_metric\n",
    "#                 best_threshold_mean = i\n",
    "#                 best_auc = val_auc\n",
    "#                 best_cf = cf\n",
    "#         LOGGER.info(f\"Best metric at epoch {epoch}: {best_metric1:.4f} {best_threshold_mean:.4f}  {best_auc:.4f}\")\n",
    "#         LOGGER.info(f\"Cf: {best_cf}\")\n",
    "#         if best_metric1> best_metric:\n",
    "\n",
    "#             LOGGER.info(f\"Model improve: {best_metric:.4f} -> {best_metric1:.4f}\")\n",
    "#             best_metric = best_metric1\n",
    "#         state = {'epoch': epoch, 'state_dict': model.state_dict()}\n",
    "#         # state = {'epoch': epoch, 'state_dict': model.state_dict(),'optimizer': optimizer.state_dict(), 'scheduler':scheduler.state_dict()}\n",
    "#         path = f'foldonefive/{CFG.model_name}_fold_{fold}_model_epoch_{epoch}_{best_metric1:.4f}_{best_threshold_mean:.3f}.pth'\n",
    "#         torch.save(state, path)\n",
    "\n",
    "        "
   ]
  },
  {
   "cell_type": "code",
   "execution_count": 11,
   "id": "c4431b02",
   "metadata": {
    "execution": {
     "iopub.execute_input": "2023-02-15T05:21:24.854667Z",
     "iopub.status.busy": "2023-02-15T05:21:24.854373Z",
     "iopub.status.idle": "2023-02-15T07:45:52.704838Z",
     "shell.execute_reply": "2023-02-15T07:45:52.703599Z"
    },
    "papermill": {
     "duration": 8667.858631,
     "end_time": "2023-02-15T07:45:52.706979",
     "exception": false,
     "start_time": "2023-02-15T05:21:24.848348",
     "status": "completed"
    },
    "tags": []
   },
   "outputs": [
    {
     "name": "stderr",
     "output_type": "stream",
     "text": [
      "\u001b[32m[I 2023-02-15 05:21:25,072]\u001b[0m A new study created in memory with name: no-name-ccc41467-a5e7-43b8-ad61-d1a93b1eaf1e\u001b[0m\n"
     ]
    },
    {
     "name": "stdout",
     "output_type": "stream",
     "text": [
      "> SEEDING DONE\n",
      "/kaggle/input/10folds/tf_efficientnetv2_b2_fold_0_model_epoch_2_0.5510_0.151.pth\n",
      "none:  /kaggle/input/10folds/tf_efficientnetv2_b2_fold_0_model_epoch_2_0.5510_0.151.pth\n",
      "/kaggle/input/10folds/tf_efficientnetv2_b2_fold_0_model_epoch_13_0.5750_0.437.pth\n",
      "hehe /kaggle/input/10folds/tf_efficientnetv2_b2_fold_0_model_epoch_13_0.5750_0.437.pth\n",
      "/kaggle/input/10folds/tf_efficientnetv2_b2_fold_0_model_epoch_11_0.5610_0.440.pth\n",
      "noob /kaggle/input/10folds/tf_efficientnetv2_b2_fold_0_model_epoch_11_0.5610_0.440.pth\n",
      "0.4186815646085225 0.4215346625675324 0.15978377282394512\n",
      "\n"
     ]
    },
    {
     "name": "stderr",
     "output_type": "stream",
     "text": [
      "Val: 100%|██████████| 86/86 [03:57<00:00,  2.76s/it, eval_loss=0.0793, gpu_mem=6.88 GB]\n",
      "Valid loss:0.0793\n",
      "Val metric mean prob: 0.3213\n",
      "Best metric at: 0.5556 0.4100  0.7517\n",
      "Cf: [[2318   16]\n",
      " [  24   25]]\n",
      "\u001b[32m[I 2023-02-15 05:25:33,787]\u001b[0m Trial 0 finished with value: 0.5555555555555556 and parameters: {'a1': 0.4186815646085225, 'a2': 0.4215346625675324}. Best is trial 0 with value: 0.5555555555555556.\u001b[0m\n"
     ]
    },
    {
     "name": "stdout",
     "output_type": "stream",
     "text": [
      "/kaggle/input/10folds/tf_efficientnetv2_b2_fold_0_model_epoch_2_0.5510_0.151.pth\n",
      "none:  /kaggle/input/10folds/tf_efficientnetv2_b2_fold_0_model_epoch_2_0.5510_0.151.pth\n",
      "/kaggle/input/10folds/tf_efficientnetv2_b2_fold_0_model_epoch_13_0.5750_0.437.pth\n",
      "hehe /kaggle/input/10folds/tf_efficientnetv2_b2_fold_0_model_epoch_13_0.5750_0.437.pth\n",
      "/kaggle/input/10folds/tf_efficientnetv2_b2_fold_0_model_epoch_11_0.5610_0.440.pth\n",
      "noob /kaggle/input/10folds/tf_efficientnetv2_b2_fold_0_model_epoch_11_0.5610_0.440.pth\n",
      "0.010112087320997989 0.30625203353108627 0.6836358791479158\n",
      "\n"
     ]
    },
    {
     "name": "stderr",
     "output_type": "stream",
     "text": [
      "Val: 100%|██████████| 86/86 [04:06<00:00,  2.86s/it, eval_loss=0.0926, gpu_mem=6.88 GB]\n",
      "Valid loss:0.0926\n",
      "Val metric mean prob: 0.3474\n",
      "Best metric at: 0.5714 0.4620  0.7232\n",
      "Cf: [[2328    6]\n",
      " [  27   22]]\n",
      "\u001b[32m[I 2023-02-15 05:29:45,722]\u001b[0m Trial 1 finished with value: 0.5714285714285714 and parameters: {'a1': 0.010112087320997989, 'a2': 0.30625203353108627}. Best is trial 1 with value: 0.5714285714285714.\u001b[0m\n"
     ]
    },
    {
     "name": "stdout",
     "output_type": "stream",
     "text": [
      "/kaggle/input/10folds/tf_efficientnetv2_b2_fold_0_model_epoch_2_0.5510_0.151.pth\n",
      "none:  /kaggle/input/10folds/tf_efficientnetv2_b2_fold_0_model_epoch_2_0.5510_0.151.pth\n",
      "/kaggle/input/10folds/tf_efficientnetv2_b2_fold_0_model_epoch_13_0.5750_0.437.pth\n",
      "hehe /kaggle/input/10folds/tf_efficientnetv2_b2_fold_0_model_epoch_13_0.5750_0.437.pth\n",
      "/kaggle/input/10folds/tf_efficientnetv2_b2_fold_0_model_epoch_11_0.5610_0.440.pth\n",
      "noob /kaggle/input/10folds/tf_efficientnetv2_b2_fold_0_model_epoch_11_0.5610_0.440.pth\n",
      "0.1538207730007708 0.08721161479596841 0.7589676122032608\n",
      "\n"
     ]
    },
    {
     "name": "stderr",
     "output_type": "stream",
     "text": [
      "Val: 100%|██████████| 86/86 [04:05<00:00,  2.86s/it, eval_loss=0.0858, gpu_mem=6.88 GB]\n",
      "Valid loss:0.0858\n",
      "Val metric mean prob: 0.3577\n",
      "Best metric at: 0.5682 0.4400  0.7521\n",
      "Cf: [[2320   14]\n",
      " [  24   25]]\n",
      "\u001b[32m[I 2023-02-15 05:33:54,626]\u001b[0m Trial 2 finished with value: 0.5681818181818182 and parameters: {'a1': 0.1538207730007708, 'a2': 0.08721161479596841}. Best is trial 1 with value: 0.5714285714285714.\u001b[0m\n"
     ]
    },
    {
     "name": "stdout",
     "output_type": "stream",
     "text": [
      "/kaggle/input/10folds/tf_efficientnetv2_b2_fold_0_model_epoch_2_0.5510_0.151.pth\n",
      "none:  /kaggle/input/10folds/tf_efficientnetv2_b2_fold_0_model_epoch_2_0.5510_0.151.pth\n",
      "/kaggle/input/10folds/tf_efficientnetv2_b2_fold_0_model_epoch_13_0.5750_0.437.pth\n",
      "hehe /kaggle/input/10folds/tf_efficientnetv2_b2_fold_0_model_epoch_13_0.5750_0.437.pth\n",
      "/kaggle/input/10folds/tf_efficientnetv2_b2_fold_0_model_epoch_11_0.5610_0.440.pth\n",
      "noob /kaggle/input/10folds/tf_efficientnetv2_b2_fold_0_model_epoch_11_0.5610_0.440.pth\n",
      "0.19253500715011748 0.2855725827205843 0.5218924101292982\n",
      "\n"
     ]
    },
    {
     "name": "stderr",
     "output_type": "stream",
     "text": [
      "Val: 100%|██████████| 86/86 [03:16<00:00,  2.29s/it, eval_loss=0.0848, gpu_mem=6.88 GB]\n",
      "Valid loss:0.0848\n",
      "Val metric mean prob: 0.3566\n",
      "Best metric at: 0.5652 0.4250  0.7617\n",
      "Cf: [[2317   17]\n",
      " [  23   26]]\n",
      "\u001b[32m[I 2023-02-15 05:37:14,645]\u001b[0m Trial 3 finished with value: 0.5652173913043479 and parameters: {'a1': 0.19253500715011748, 'a2': 0.2855725827205843}. Best is trial 1 with value: 0.5714285714285714.\u001b[0m\n"
     ]
    },
    {
     "name": "stdout",
     "output_type": "stream",
     "text": [
      "/kaggle/input/10folds/tf_efficientnetv2_b2_fold_0_model_epoch_2_0.5510_0.151.pth\n",
      "none:  /kaggle/input/10folds/tf_efficientnetv2_b2_fold_0_model_epoch_2_0.5510_0.151.pth\n",
      "/kaggle/input/10folds/tf_efficientnetv2_b2_fold_0_model_epoch_13_0.5750_0.437.pth\n",
      "hehe /kaggle/input/10folds/tf_efficientnetv2_b2_fold_0_model_epoch_13_0.5750_0.437.pth\n",
      "/kaggle/input/10folds/tf_efficientnetv2_b2_fold_0_model_epoch_11_0.5610_0.440.pth\n",
      "noob /kaggle/input/10folds/tf_efficientnetv2_b2_fold_0_model_epoch_11_0.5610_0.440.pth\n",
      "0.39883212474605656 0.32853114379203374 0.2726367314619097\n",
      "\n"
     ]
    },
    {
     "name": "stderr",
     "output_type": "stream",
     "text": [
      "Val: 100%|██████████| 86/86 [04:07<00:00,  2.88s/it, eval_loss=0.0796, gpu_mem=6.88 GB]\n",
      "Valid loss:0.0796\n",
      "Val metric mean prob: 0.3255\n",
      "Best metric at: 0.5556 0.4100  0.7517\n",
      "Cf: [[2318   16]\n",
      " [  24   25]]\n",
      "\u001b[32m[I 2023-02-15 05:41:25,379]\u001b[0m Trial 4 finished with value: 0.5555555555555556 and parameters: {'a1': 0.39883212474605656, 'a2': 0.32853114379203374}. Best is trial 1 with value: 0.5714285714285714.\u001b[0m\n"
     ]
    },
    {
     "name": "stdout",
     "output_type": "stream",
     "text": [
      "/kaggle/input/10folds/tf_efficientnetv2_b2_fold_0_model_epoch_2_0.5510_0.151.pth\n",
      "none:  /kaggle/input/10folds/tf_efficientnetv2_b2_fold_0_model_epoch_2_0.5510_0.151.pth\n",
      "/kaggle/input/10folds/tf_efficientnetv2_b2_fold_0_model_epoch_13_0.5750_0.437.pth\n",
      "hehe /kaggle/input/10folds/tf_efficientnetv2_b2_fold_0_model_epoch_13_0.5750_0.437.pth\n",
      "/kaggle/input/10folds/tf_efficientnetv2_b2_fold_0_model_epoch_11_0.5610_0.440.pth\n",
      "noob /kaggle/input/10folds/tf_efficientnetv2_b2_fold_0_model_epoch_11_0.5610_0.440.pth\n",
      "0.4208106241152289 0.40001965977490617 0.17916971610986487\n",
      "\n"
     ]
    },
    {
     "name": "stderr",
     "output_type": "stream",
     "text": [
      "Val: 100%|██████████| 86/86 [04:07<00:00,  2.88s/it, eval_loss=0.0792, gpu_mem=6.88 GB]\n",
      "Valid loss:0.0792\n",
      "Val metric mean prob: 0.3209\n",
      "Best metric at: 0.5556 0.4060  0.7517\n",
      "Cf: [[2318   16]\n",
      " [  24   25]]\n",
      "\u001b[32m[I 2023-02-15 05:45:36,216]\u001b[0m Trial 5 finished with value: 0.5555555555555556 and parameters: {'a1': 0.4208106241152289, 'a2': 0.40001965977490617}. Best is trial 1 with value: 0.5714285714285714.\u001b[0m\n"
     ]
    },
    {
     "name": "stdout",
     "output_type": "stream",
     "text": [
      "/kaggle/input/10folds/tf_efficientnetv2_b2_fold_0_model_epoch_2_0.5510_0.151.pth\n",
      "none:  /kaggle/input/10folds/tf_efficientnetv2_b2_fold_0_model_epoch_2_0.5510_0.151.pth\n",
      "/kaggle/input/10folds/tf_efficientnetv2_b2_fold_0_model_epoch_13_0.5750_0.437.pth\n",
      "hehe /kaggle/input/10folds/tf_efficientnetv2_b2_fold_0_model_epoch_13_0.5750_0.437.pth\n",
      "/kaggle/input/10folds/tf_efficientnetv2_b2_fold_0_model_epoch_11_0.5610_0.440.pth\n",
      "noob /kaggle/input/10folds/tf_efficientnetv2_b2_fold_0_model_epoch_11_0.5610_0.440.pth\n",
      "0.21036320473688708 0.6946126639724971 0.09502413129061582\n",
      "\n"
     ]
    },
    {
     "name": "stderr",
     "output_type": "stream",
     "text": [
      "Val: 100%|██████████| 86/86 [03:16<00:00,  2.29s/it, eval_loss=0.0849, gpu_mem=6.88 GB]\n",
      "Valid loss:0.0849\n",
      "Val metric mean prob: 0.3557\n",
      "Best metric at: 0.5542 0.4890  0.7323\n",
      "Cf: [[2323   11]\n",
      " [  26   23]]\n",
      "\u001b[32m[I 2023-02-15 05:48:56,012]\u001b[0m Trial 6 finished with value: 0.5542168674698795 and parameters: {'a1': 0.21036320473688708, 'a2': 0.6946126639724971}. Best is trial 1 with value: 0.5714285714285714.\u001b[0m\n"
     ]
    },
    {
     "name": "stdout",
     "output_type": "stream",
     "text": [
      "/kaggle/input/10folds/tf_efficientnetv2_b2_fold_0_model_epoch_2_0.5510_0.151.pth\n",
      "none:  /kaggle/input/10folds/tf_efficientnetv2_b2_fold_0_model_epoch_2_0.5510_0.151.pth\n",
      "/kaggle/input/10folds/tf_efficientnetv2_b2_fold_0_model_epoch_13_0.5750_0.437.pth\n",
      "hehe /kaggle/input/10folds/tf_efficientnetv2_b2_fold_0_model_epoch_13_0.5750_0.437.pth\n",
      "/kaggle/input/10folds/tf_efficientnetv2_b2_fold_0_model_epoch_11_0.5610_0.440.pth\n",
      "noob /kaggle/input/10folds/tf_efficientnetv2_b2_fold_0_model_epoch_11_0.5610_0.440.pth\n",
      "0.036839841333967636 0.6490629183820655 0.3140972402839668\n",
      "\n"
     ]
    },
    {
     "name": "stderr",
     "output_type": "stream",
     "text": [
      "Val: 100%|██████████| 86/86 [03:18<00:00,  2.31s/it, eval_loss=0.0909, gpu_mem=6.88 GB]\n",
      "Valid loss:0.0909\n",
      "Val metric mean prob: 0.3569\n",
      "Best metric at: 0.5974 0.4850  0.7336\n",
      "Cf: [[2329    5]\n",
      " [  26   23]]\n",
      "\u001b[32m[I 2023-02-15 05:52:18,069]\u001b[0m Trial 7 finished with value: 0.5974025974025974 and parameters: {'a1': 0.036839841333967636, 'a2': 0.6490629183820655}. Best is trial 7 with value: 0.5974025974025974.\u001b[0m\n"
     ]
    },
    {
     "name": "stdout",
     "output_type": "stream",
     "text": [
      "/kaggle/input/10folds/tf_efficientnetv2_b2_fold_0_model_epoch_2_0.5510_0.151.pth\n",
      "none:  /kaggle/input/10folds/tf_efficientnetv2_b2_fold_0_model_epoch_2_0.5510_0.151.pth\n",
      "/kaggle/input/10folds/tf_efficientnetv2_b2_fold_0_model_epoch_13_0.5750_0.437.pth\n",
      "hehe /kaggle/input/10folds/tf_efficientnetv2_b2_fold_0_model_epoch_13_0.5750_0.437.pth\n",
      "/kaggle/input/10folds/tf_efficientnetv2_b2_fold_0_model_epoch_11_0.5610_0.440.pth\n",
      "noob /kaggle/input/10folds/tf_efficientnetv2_b2_fold_0_model_epoch_11_0.5610_0.440.pth\n",
      "0.41895870631978444 0.32903496240163976 0.25200633127857586\n",
      "\n"
     ]
    },
    {
     "name": "stderr",
     "output_type": "stream",
     "text": [
      "Val: 100%|██████████| 86/86 [03:18<00:00,  2.31s/it, eval_loss=0.0791, gpu_mem=6.88 GB]\n",
      "Valid loss:0.0791\n",
      "Val metric mean prob: 0.3213\n",
      "Best metric at: 0.5556 0.4040  0.7517\n",
      "Cf: [[2318   16]\n",
      " [  24   25]]\n",
      "\u001b[32m[I 2023-02-15 05:55:40,222]\u001b[0m Trial 8 finished with value: 0.5555555555555556 and parameters: {'a1': 0.41895870631978444, 'a2': 0.32903496240163976}. Best is trial 7 with value: 0.5974025974025974.\u001b[0m\n"
     ]
    },
    {
     "name": "stdout",
     "output_type": "stream",
     "text": [
      "/kaggle/input/10folds/tf_efficientnetv2_b2_fold_0_model_epoch_2_0.5510_0.151.pth\n",
      "none:  /kaggle/input/10folds/tf_efficientnetv2_b2_fold_0_model_epoch_2_0.5510_0.151.pth\n",
      "/kaggle/input/10folds/tf_efficientnetv2_b2_fold_0_model_epoch_13_0.5750_0.437.pth\n",
      "hehe /kaggle/input/10folds/tf_efficientnetv2_b2_fold_0_model_epoch_13_0.5750_0.437.pth\n",
      "/kaggle/input/10folds/tf_efficientnetv2_b2_fold_0_model_epoch_11_0.5610_0.440.pth\n",
      "noob /kaggle/input/10folds/tf_efficientnetv2_b2_fold_0_model_epoch_11_0.5610_0.440.pth\n",
      "0.1475791998233291 0.17688481495107364 0.6755359852255972\n",
      "\n"
     ]
    },
    {
     "name": "stderr",
     "output_type": "stream",
     "text": [
      "Val: 100%|██████████| 86/86 [04:06<00:00,  2.86s/it, eval_loss=0.0860, gpu_mem=6.88 GB]\n",
      "Valid loss:0.0860\n",
      "Val metric mean prob: 0.3591\n",
      "Best metric at: 0.5679 0.4980  0.7328\n",
      "Cf: [[2325    9]\n",
      " [  26   23]]\n",
      "\u001b[32m[I 2023-02-15 05:59:49,663]\u001b[0m Trial 9 finished with value: 0.5679012345679012 and parameters: {'a1': 0.1475791998233291, 'a2': 0.17688481495107364}. Best is trial 7 with value: 0.5974025974025974.\u001b[0m\n"
     ]
    },
    {
     "name": "stdout",
     "output_type": "stream",
     "text": [
      "/kaggle/input/10folds/tf_efficientnetv2_b2_fold_0_model_epoch_2_0.5510_0.151.pth\n",
      "none:  /kaggle/input/10folds/tf_efficientnetv2_b2_fold_0_model_epoch_2_0.5510_0.151.pth\n",
      "/kaggle/input/10folds/tf_efficientnetv2_b2_fold_0_model_epoch_13_0.5750_0.437.pth\n",
      "hehe /kaggle/input/10folds/tf_efficientnetv2_b2_fold_0_model_epoch_13_0.5750_0.437.pth\n",
      "/kaggle/input/10folds/tf_efficientnetv2_b2_fold_0_model_epoch_11_0.5610_0.440.pth\n",
      "noob /kaggle/input/10folds/tf_efficientnetv2_b2_fold_0_model_epoch_11_0.5610_0.440.pth\n",
      "0.8203834303942985 0.030584221261124617 0.14903234834457688\n",
      "\n"
     ]
    },
    {
     "name": "stderr",
     "output_type": "stream",
     "text": [
      "Val: 100%|██████████| 86/86 [03:19<00:00,  2.31s/it, eval_loss=0.0772, gpu_mem=6.88 GB]\n",
      "Valid loss:0.0772\n",
      "Val metric mean prob: 0.1973\n",
      "Best metric at: 0.5435 0.2070  0.7512\n",
      "Cf: [[2316   18]\n",
      " [  24   25]]\n",
      "\u001b[32m[I 2023-02-15 06:03:11,666]\u001b[0m Trial 10 finished with value: 0.5434782608695652 and parameters: {'a1': 0.8203834303942985, 'a2': 0.030584221261124617}. Best is trial 7 with value: 0.5974025974025974.\u001b[0m\n"
     ]
    },
    {
     "name": "stdout",
     "output_type": "stream",
     "text": [
      "/kaggle/input/10folds/tf_efficientnetv2_b2_fold_0_model_epoch_2_0.5510_0.151.pth\n",
      "none:  /kaggle/input/10folds/tf_efficientnetv2_b2_fold_0_model_epoch_2_0.5510_0.151.pth\n",
      "/kaggle/input/10folds/tf_efficientnetv2_b2_fold_0_model_epoch_13_0.5750_0.437.pth\n",
      "hehe /kaggle/input/10folds/tf_efficientnetv2_b2_fold_0_model_epoch_13_0.5750_0.437.pth\n",
      "/kaggle/input/10folds/tf_efficientnetv2_b2_fold_0_model_epoch_11_0.5610_0.440.pth\n",
      "noob /kaggle/input/10folds/tf_efficientnetv2_b2_fold_0_model_epoch_11_0.5610_0.440.pth\n",
      "0.018696222976613587 0.626062912330748 0.3552408646926385\n",
      "\n"
     ]
    },
    {
     "name": "stderr",
     "output_type": "stream",
     "text": [
      "Val: 100%|██████████| 86/86 [04:08<00:00,  2.89s/it, eval_loss=0.0921, gpu_mem=6.88 GB]\n",
      "Valid loss:0.0921\n",
      "Val metric mean prob: 0.3536\n",
      "Best metric at: 0.5974 0.4860  0.7336\n",
      "Cf: [[2329    5]\n",
      " [  26   23]]\n",
      "\u001b[32m[I 2023-02-15 06:07:22,892]\u001b[0m Trial 11 finished with value: 0.5974025974025974 and parameters: {'a1': 0.018696222976613587, 'a2': 0.626062912330748}. Best is trial 7 with value: 0.5974025974025974.\u001b[0m\n"
     ]
    },
    {
     "name": "stdout",
     "output_type": "stream",
     "text": [
      "/kaggle/input/10folds/tf_efficientnetv2_b2_fold_0_model_epoch_2_0.5510_0.151.pth\n",
      "none:  /kaggle/input/10folds/tf_efficientnetv2_b2_fold_0_model_epoch_2_0.5510_0.151.pth\n",
      "/kaggle/input/10folds/tf_efficientnetv2_b2_fold_0_model_epoch_13_0.5750_0.437.pth\n",
      "hehe /kaggle/input/10folds/tf_efficientnetv2_b2_fold_0_model_epoch_13_0.5750_0.437.pth\n",
      "/kaggle/input/10folds/tf_efficientnetv2_b2_fold_0_model_epoch_11_0.5610_0.440.pth\n",
      "noob /kaggle/input/10folds/tf_efficientnetv2_b2_fold_0_model_epoch_11_0.5610_0.440.pth\n",
      "0.0190871604859653 0.6619672500719901 0.31894558944204465\n",
      "\n"
     ]
    },
    {
     "name": "stderr",
     "output_type": "stream",
     "text": [
      "Val: 100%|██████████| 86/86 [04:07<00:00,  2.88s/it, eval_loss=0.0921, gpu_mem=6.88 GB]\n",
      "Valid loss:0.0921\n",
      "Val metric mean prob: 0.3541\n",
      "Best metric at: 0.5974 0.4830  0.7336\n",
      "Cf: [[2329    5]\n",
      " [  26   23]]\n",
      "\u001b[32m[I 2023-02-15 06:11:34,027]\u001b[0m Trial 12 finished with value: 0.5974025974025974 and parameters: {'a1': 0.0190871604859653, 'a2': 0.6619672500719901}. Best is trial 7 with value: 0.5974025974025974.\u001b[0m\n"
     ]
    },
    {
     "name": "stdout",
     "output_type": "stream",
     "text": [
      "/kaggle/input/10folds/tf_efficientnetv2_b2_fold_0_model_epoch_2_0.5510_0.151.pth\n",
      "none:  /kaggle/input/10folds/tf_efficientnetv2_b2_fold_0_model_epoch_2_0.5510_0.151.pth\n",
      "/kaggle/input/10folds/tf_efficientnetv2_b2_fold_0_model_epoch_13_0.5750_0.437.pth\n",
      "hehe /kaggle/input/10folds/tf_efficientnetv2_b2_fold_0_model_epoch_13_0.5750_0.437.pth\n",
      "/kaggle/input/10folds/tf_efficientnetv2_b2_fold_0_model_epoch_11_0.5610_0.440.pth\n",
      "noob /kaggle/input/10folds/tf_efficientnetv2_b2_fold_0_model_epoch_11_0.5610_0.440.pth\n",
      "0.6453521138282193 0.34524241187148497 0.009405474300295702\n",
      "\n"
     ]
    },
    {
     "name": "stderr",
     "output_type": "stream",
     "text": [
      "Val: 100%|██████████| 86/86 [03:18<00:00,  2.31s/it, eval_loss=0.0757, gpu_mem=6.88 GB]\n",
      "Valid loss:0.0757\n",
      "Val metric mean prob: 0.2617\n",
      "Best metric at: 0.5652 0.2940  0.7617\n",
      "Cf: [[2317   17]\n",
      " [  23   26]]\n",
      "\u001b[32m[I 2023-02-15 06:14:55,220]\u001b[0m Trial 13 finished with value: 0.5652173913043479 and parameters: {'a1': 0.6453521138282193, 'a2': 0.34524241187148497}. Best is trial 7 with value: 0.5974025974025974.\u001b[0m\n"
     ]
    },
    {
     "name": "stdout",
     "output_type": "stream",
     "text": [
      "/kaggle/input/10folds/tf_efficientnetv2_b2_fold_0_model_epoch_2_0.5510_0.151.pth\n",
      "none:  /kaggle/input/10folds/tf_efficientnetv2_b2_fold_0_model_epoch_2_0.5510_0.151.pth\n",
      "/kaggle/input/10folds/tf_efficientnetv2_b2_fold_0_model_epoch_13_0.5750_0.437.pth\n",
      "hehe /kaggle/input/10folds/tf_efficientnetv2_b2_fold_0_model_epoch_13_0.5750_0.437.pth\n",
      "/kaggle/input/10folds/tf_efficientnetv2_b2_fold_0_model_epoch_11_0.5610_0.440.pth\n",
      "noob /kaggle/input/10folds/tf_efficientnetv2_b2_fold_0_model_epoch_11_0.5610_0.440.pth\n",
      "0.2842979387477665 0.5722378984212868 0.14346416283094676\n",
      "\n"
     ]
    },
    {
     "name": "stderr",
     "output_type": "stream",
     "text": [
      "Val: 100%|██████████| 86/86 [04:08<00:00,  2.89s/it, eval_loss=0.0829, gpu_mem=6.88 GB]\n",
      "Valid loss:0.0829\n",
      "Val metric mean prob: 0.3455\n",
      "Best metric at: 0.5495 0.4380  0.7515\n",
      "Cf: [[2317   17]\n",
      " [  24   25]]\n",
      "\u001b[32m[I 2023-02-15 06:19:06,798]\u001b[0m Trial 14 finished with value: 0.5494505494505494 and parameters: {'a1': 0.2842979387477665, 'a2': 0.5722378984212868}. Best is trial 7 with value: 0.5974025974025974.\u001b[0m\n"
     ]
    },
    {
     "name": "stdout",
     "output_type": "stream",
     "text": [
      "/kaggle/input/10folds/tf_efficientnetv2_b2_fold_0_model_epoch_2_0.5510_0.151.pth\n",
      "none:  /kaggle/input/10folds/tf_efficientnetv2_b2_fold_0_model_epoch_2_0.5510_0.151.pth\n",
      "/kaggle/input/10folds/tf_efficientnetv2_b2_fold_0_model_epoch_13_0.5750_0.437.pth\n",
      "hehe /kaggle/input/10folds/tf_efficientnetv2_b2_fold_0_model_epoch_13_0.5750_0.437.pth\n",
      "/kaggle/input/10folds/tf_efficientnetv2_b2_fold_0_model_epoch_11_0.5610_0.440.pth\n",
      "noob /kaggle/input/10folds/tf_efficientnetv2_b2_fold_0_model_epoch_11_0.5610_0.440.pth\n",
      "0.027989638866281124 0.8717264126844333 0.10028394844928556\n",
      "\n"
     ]
    },
    {
     "name": "stderr",
     "output_type": "stream",
     "text": [
      "Val: 100%|██████████| 86/86 [03:17<00:00,  2.30s/it, eval_loss=0.0917, gpu_mem=6.88 GB]\n",
      "Valid loss:0.0917\n",
      "Val metric mean prob: 0.3579\n",
      "Best metric at: 0.5974 0.4890  0.7336\n",
      "Cf: [[2329    5]\n",
      " [  26   23]]\n",
      "\u001b[32m[I 2023-02-15 06:22:27,302]\u001b[0m Trial 15 finished with value: 0.5974025974025974 and parameters: {'a1': 0.027989638866281124, 'a2': 0.8717264126844333}. Best is trial 7 with value: 0.5974025974025974.\u001b[0m\n"
     ]
    },
    {
     "name": "stdout",
     "output_type": "stream",
     "text": [
      "/kaggle/input/10folds/tf_efficientnetv2_b2_fold_0_model_epoch_2_0.5510_0.151.pth\n",
      "none:  /kaggle/input/10folds/tf_efficientnetv2_b2_fold_0_model_epoch_2_0.5510_0.151.pth\n",
      "/kaggle/input/10folds/tf_efficientnetv2_b2_fold_0_model_epoch_13_0.5750_0.437.pth\n",
      "hehe /kaggle/input/10folds/tf_efficientnetv2_b2_fold_0_model_epoch_13_0.5750_0.437.pth\n",
      "/kaggle/input/10folds/tf_efficientnetv2_b2_fold_0_model_epoch_11_0.5610_0.440.pth\n",
      "noob /kaggle/input/10folds/tf_efficientnetv2_b2_fold_0_model_epoch_11_0.5610_0.440.pth\n",
      "0.2842573248425073 0.4802937952899147 0.23544887986757795\n",
      "\n"
     ]
    },
    {
     "name": "stderr",
     "output_type": "stream",
     "text": [
      "Val: 100%|██████████| 86/86 [03:19<00:00,  2.32s/it, eval_loss=0.0827, gpu_mem=6.88 GB]\n",
      "Valid loss:0.0827\n",
      "Val metric mean prob: 0.3457\n",
      "Best metric at: 0.5517 0.4640  0.7419\n",
      "Cf: [[2320   14]\n",
      " [  25   24]]\n",
      "\u001b[32m[I 2023-02-15 06:25:50,056]\u001b[0m Trial 16 finished with value: 0.5517241379310346 and parameters: {'a1': 0.2842573248425073, 'a2': 0.4802937952899147}. Best is trial 7 with value: 0.5974025974025974.\u001b[0m\n"
     ]
    },
    {
     "name": "stdout",
     "output_type": "stream",
     "text": [
      "/kaggle/input/10folds/tf_efficientnetv2_b2_fold_0_model_epoch_2_0.5510_0.151.pth\n",
      "none:  /kaggle/input/10folds/tf_efficientnetv2_b2_fold_0_model_epoch_2_0.5510_0.151.pth\n",
      "/kaggle/input/10folds/tf_efficientnetv2_b2_fold_0_model_epoch_13_0.5750_0.437.pth\n",
      "hehe /kaggle/input/10folds/tf_efficientnetv2_b2_fold_0_model_epoch_13_0.5750_0.437.pth\n",
      "/kaggle/input/10folds/tf_efficientnetv2_b2_fold_0_model_epoch_11_0.5610_0.440.pth\n",
      "noob /kaggle/input/10folds/tf_efficientnetv2_b2_fold_0_model_epoch_11_0.5610_0.440.pth\n",
      "0.6073273955232595 0.17922335051831195 0.2134492539584285\n",
      "\n"
     ]
    },
    {
     "name": "stderr",
     "output_type": "stream",
     "text": [
      "Val: 100%|██████████| 86/86 [03:17<00:00,  2.29s/it, eval_loss=0.0755, gpu_mem=6.88 GB]\n",
      "Valid loss:0.0755\n",
      "Val metric mean prob: 0.2738\n",
      "Best metric at: 0.5714 0.3040  0.7619\n",
      "Cf: [[2318   16]\n",
      " [  23   26]]\n",
      "\u001b[32m[I 2023-02-15 06:29:10,633]\u001b[0m Trial 17 finished with value: 0.5714285714285714 and parameters: {'a1': 0.6073273955232595, 'a2': 0.17922335051831195}. Best is trial 7 with value: 0.5974025974025974.\u001b[0m\n"
     ]
    },
    {
     "name": "stdout",
     "output_type": "stream",
     "text": [
      "/kaggle/input/10folds/tf_efficientnetv2_b2_fold_0_model_epoch_2_0.5510_0.151.pth\n",
      "none:  /kaggle/input/10folds/tf_efficientnetv2_b2_fold_0_model_epoch_2_0.5510_0.151.pth\n",
      "/kaggle/input/10folds/tf_efficientnetv2_b2_fold_0_model_epoch_13_0.5750_0.437.pth\n",
      "hehe /kaggle/input/10folds/tf_efficientnetv2_b2_fold_0_model_epoch_13_0.5750_0.437.pth\n",
      "/kaggle/input/10folds/tf_efficientnetv2_b2_fold_0_model_epoch_11_0.5610_0.440.pth\n",
      "noob /kaggle/input/10folds/tf_efficientnetv2_b2_fold_0_model_epoch_11_0.5610_0.440.pth\n",
      "0.11817164715890541 0.5356254367043944 0.3462029161367002\n",
      "\n"
     ]
    },
    {
     "name": "stderr",
     "output_type": "stream",
     "text": [
      "Val: 100%|██████████| 86/86 [03:19<00:00,  2.32s/it, eval_loss=0.0873, gpu_mem=6.88 GB]\n",
      "Valid loss:0.0873\n",
      "Val metric mean prob: 0.3617\n",
      "Best metric at: 0.5750 0.4920  0.7330\n",
      "Cf: [[2326    8]\n",
      " [  26   23]]\n",
      "\u001b[32m[I 2023-02-15 06:32:32,953]\u001b[0m Trial 18 finished with value: 0.5750000000000001 and parameters: {'a1': 0.11817164715890541, 'a2': 0.5356254367043944}. Best is trial 7 with value: 0.5974025974025974.\u001b[0m\n"
     ]
    },
    {
     "name": "stdout",
     "output_type": "stream",
     "text": [
      "/kaggle/input/10folds/tf_efficientnetv2_b2_fold_0_model_epoch_2_0.5510_0.151.pth\n",
      "none:  /kaggle/input/10folds/tf_efficientnetv2_b2_fold_0_model_epoch_2_0.5510_0.151.pth\n",
      "/kaggle/input/10folds/tf_efficientnetv2_b2_fold_0_model_epoch_13_0.5750_0.437.pth\n",
      "hehe /kaggle/input/10folds/tf_efficientnetv2_b2_fold_0_model_epoch_13_0.5750_0.437.pth\n",
      "/kaggle/input/10folds/tf_efficientnetv2_b2_fold_0_model_epoch_11_0.5610_0.440.pth\n",
      "noob /kaggle/input/10folds/tf_efficientnetv2_b2_fold_0_model_epoch_11_0.5610_0.440.pth\n",
      "0.08310383760626769 0.7569319421694161 0.15996422022431622\n",
      "\n"
     ]
    },
    {
     "name": "stderr",
     "output_type": "stream",
     "text": [
      "Val: 100%|██████████| 86/86 [03:24<00:00,  2.38s/it, eval_loss=0.0889, gpu_mem=6.88 GB]\n",
      "Valid loss:0.0889\n",
      "Val metric mean prob: 0.3618\n",
      "Best metric at: 0.5750 0.4830  0.7330\n",
      "Cf: [[2326    8]\n",
      " [  26   23]]\n",
      "\u001b[32m[I 2023-02-15 06:36:00,918]\u001b[0m Trial 19 finished with value: 0.5750000000000001 and parameters: {'a1': 0.08310383760626769, 'a2': 0.7569319421694161}. Best is trial 7 with value: 0.5974025974025974.\u001b[0m\n"
     ]
    },
    {
     "name": "stdout",
     "output_type": "stream",
     "text": [
      "/kaggle/input/10folds/tf_efficientnetv2_b2_fold_0_model_epoch_2_0.5510_0.151.pth\n",
      "none:  /kaggle/input/10folds/tf_efficientnetv2_b2_fold_0_model_epoch_2_0.5510_0.151.pth\n",
      "/kaggle/input/10folds/tf_efficientnetv2_b2_fold_0_model_epoch_13_0.5750_0.437.pth\n",
      "hehe /kaggle/input/10folds/tf_efficientnetv2_b2_fold_0_model_epoch_13_0.5750_0.437.pth\n",
      "/kaggle/input/10folds/tf_efficientnetv2_b2_fold_0_model_epoch_11_0.5610_0.440.pth\n",
      "noob /kaggle/input/10folds/tf_efficientnetv2_b2_fold_0_model_epoch_11_0.5610_0.440.pth\n",
      "0.29746908358611224 0.4870955123074989 0.21543540410638884\n",
      "\n"
     ]
    },
    {
     "name": "stderr",
     "output_type": "stream",
     "text": [
      "Val: 100%|██████████| 86/86 [03:18<00:00,  2.30s/it, eval_loss=0.0824, gpu_mem=6.88 GB]\n",
      "Valid loss:0.0824\n",
      "Val metric mean prob: 0.3433\n",
      "Best metric at: 0.5495 0.4350  0.7515\n",
      "Cf: [[2317   17]\n",
      " [  24   25]]\n",
      "\u001b[32m[I 2023-02-15 06:39:23,848]\u001b[0m Trial 20 finished with value: 0.5494505494505494 and parameters: {'a1': 0.29746908358611224, 'a2': 0.4870955123074989}. Best is trial 7 with value: 0.5974025974025974.\u001b[0m\n"
     ]
    },
    {
     "name": "stdout",
     "output_type": "stream",
     "text": [
      "/kaggle/input/10folds/tf_efficientnetv2_b2_fold_0_model_epoch_2_0.5510_0.151.pth\n",
      "none:  /kaggle/input/10folds/tf_efficientnetv2_b2_fold_0_model_epoch_2_0.5510_0.151.pth\n",
      "/kaggle/input/10folds/tf_efficientnetv2_b2_fold_0_model_epoch_13_0.5750_0.437.pth\n",
      "hehe /kaggle/input/10folds/tf_efficientnetv2_b2_fold_0_model_epoch_13_0.5750_0.437.pth\n",
      "/kaggle/input/10folds/tf_efficientnetv2_b2_fold_0_model_epoch_11_0.5610_0.440.pth\n",
      "noob /kaggle/input/10folds/tf_efficientnetv2_b2_fold_0_model_epoch_11_0.5610_0.440.pth\n",
      "0.011866006363864765 0.630388853626318 0.35774514000981716\n",
      "\n"
     ]
    },
    {
     "name": "stderr",
     "output_type": "stream",
     "text": [
      "Val: 100%|██████████| 86/86 [03:16<00:00,  2.29s/it, eval_loss=0.0925, gpu_mem=6.88 GB]\n",
      "Valid loss:0.0925\n",
      "Val metric mean prob: 0.3520\n",
      "Best metric at: 0.5974 0.4850  0.7336\n",
      "Cf: [[2329    5]\n",
      " [  26   23]]\n",
      "\u001b[32m[I 2023-02-15 06:42:44,189]\u001b[0m Trial 21 finished with value: 0.5974025974025974 and parameters: {'a1': 0.011866006363864765, 'a2': 0.630388853626318}. Best is trial 7 with value: 0.5974025974025974.\u001b[0m\n"
     ]
    },
    {
     "name": "stdout",
     "output_type": "stream",
     "text": [
      "/kaggle/input/10folds/tf_efficientnetv2_b2_fold_0_model_epoch_2_0.5510_0.151.pth\n",
      "none:  /kaggle/input/10folds/tf_efficientnetv2_b2_fold_0_model_epoch_2_0.5510_0.151.pth\n",
      "/kaggle/input/10folds/tf_efficientnetv2_b2_fold_0_model_epoch_13_0.5750_0.437.pth\n",
      "hehe /kaggle/input/10folds/tf_efficientnetv2_b2_fold_0_model_epoch_13_0.5750_0.437.pth\n",
      "/kaggle/input/10folds/tf_efficientnetv2_b2_fold_0_model_epoch_11_0.5610_0.440.pth\n",
      "noob /kaggle/input/10folds/tf_efficientnetv2_b2_fold_0_model_epoch_11_0.5610_0.440.pth\n",
      "0.09865063643741455 0.6297881599595453 0.27156120360304015\n",
      "\n"
     ]
    },
    {
     "name": "stderr",
     "output_type": "stream",
     "text": [
      "Val: 100%|██████████| 86/86 [03:17<00:00,  2.30s/it, eval_loss=0.0881, gpu_mem=6.88 GB]\n",
      "Valid loss:0.0881\n",
      "Val metric mean prob: 0.3618\n",
      "Best metric at: 0.5679 0.4880  0.7328\n",
      "Cf: [[2325    9]\n",
      " [  26   23]]\n",
      "\u001b[32m[I 2023-02-15 06:46:05,000]\u001b[0m Trial 22 finished with value: 0.5679012345679012 and parameters: {'a1': 0.09865063643741455, 'a2': 0.6297881599595453}. Best is trial 7 with value: 0.5974025974025974.\u001b[0m\n"
     ]
    },
    {
     "name": "stdout",
     "output_type": "stream",
     "text": [
      "/kaggle/input/10folds/tf_efficientnetv2_b2_fold_0_model_epoch_2_0.5510_0.151.pth\n",
      "none:  /kaggle/input/10folds/tf_efficientnetv2_b2_fold_0_model_epoch_2_0.5510_0.151.pth\n",
      "/kaggle/input/10folds/tf_efficientnetv2_b2_fold_0_model_epoch_13_0.5750_0.437.pth\n",
      "hehe /kaggle/input/10folds/tf_efficientnetv2_b2_fold_0_model_epoch_13_0.5750_0.437.pth\n",
      "/kaggle/input/10folds/tf_efficientnetv2_b2_fold_0_model_epoch_11_0.5610_0.440.pth\n",
      "noob /kaggle/input/10folds/tf_efficientnetv2_b2_fold_0_model_epoch_11_0.5610_0.440.pth\n",
      "0.07535698479274969 0.7923854986651897 0.13225751654206064\n",
      "\n"
     ]
    },
    {
     "name": "stderr",
     "output_type": "stream",
     "text": [
      "Val: 100%|██████████| 86/86 [04:06<00:00,  2.87s/it, eval_loss=0.0893, gpu_mem=6.88 GB]\n",
      "Valid loss:0.0893\n",
      "Val metric mean prob: 0.3619\n",
      "Best metric at: 0.5750 0.4820  0.7330\n",
      "Cf: [[2326    8]\n",
      " [  26   23]]\n",
      "\u001b[32m[I 2023-02-15 06:50:14,702]\u001b[0m Trial 23 finished with value: 0.5750000000000001 and parameters: {'a1': 0.07535698479274969, 'a2': 0.7923854986651897}. Best is trial 7 with value: 0.5974025974025974.\u001b[0m\n"
     ]
    },
    {
     "name": "stdout",
     "output_type": "stream",
     "text": [
      "/kaggle/input/10folds/tf_efficientnetv2_b2_fold_0_model_epoch_2_0.5510_0.151.pth\n",
      "none:  /kaggle/input/10folds/tf_efficientnetv2_b2_fold_0_model_epoch_2_0.5510_0.151.pth\n",
      "/kaggle/input/10folds/tf_efficientnetv2_b2_fold_0_model_epoch_13_0.5750_0.437.pth\n",
      "hehe /kaggle/input/10folds/tf_efficientnetv2_b2_fold_0_model_epoch_13_0.5750_0.437.pth\n",
      "/kaggle/input/10folds/tf_efficientnetv2_b2_fold_0_model_epoch_11_0.5610_0.440.pth\n",
      "noob /kaggle/input/10folds/tf_efficientnetv2_b2_fold_0_model_epoch_11_0.5610_0.440.pth\n",
      "0.2112202834531654 0.6135110534626637 0.175268663084171\n",
      "\n"
     ]
    },
    {
     "name": "stderr",
     "output_type": "stream",
     "text": [
      "Val: 100%|██████████| 86/86 [03:30<00:00,  2.45s/it, eval_loss=0.0848, gpu_mem=6.88 GB]\n",
      "Valid loss:0.0848\n",
      "Val metric mean prob: 0.3557\n",
      "Best metric at: 0.5542 0.4900  0.7323\n",
      "Cf: [[2323   11]\n",
      " [  26   23]]\n",
      "\u001b[32m[I 2023-02-15 06:53:48,120]\u001b[0m Trial 24 finished with value: 0.5542168674698795 and parameters: {'a1': 0.2112202834531654, 'a2': 0.6135110534626637}. Best is trial 7 with value: 0.5974025974025974.\u001b[0m\n"
     ]
    },
    {
     "name": "stdout",
     "output_type": "stream",
     "text": [
      "/kaggle/input/10folds/tf_efficientnetv2_b2_fold_0_model_epoch_2_0.5510_0.151.pth\n",
      "none:  /kaggle/input/10folds/tf_efficientnetv2_b2_fold_0_model_epoch_2_0.5510_0.151.pth\n",
      "/kaggle/input/10folds/tf_efficientnetv2_b2_fold_0_model_epoch_13_0.5750_0.437.pth\n",
      "hehe /kaggle/input/10folds/tf_efficientnetv2_b2_fold_0_model_epoch_13_0.5750_0.437.pth\n",
      "/kaggle/input/10folds/tf_efficientnetv2_b2_fold_0_model_epoch_11_0.5610_0.440.pth\n",
      "noob /kaggle/input/10folds/tf_efficientnetv2_b2_fold_0_model_epoch_11_0.5610_0.440.pth\n",
      "0.07507934483008294 0.7000620825894094 0.22485857258050768\n",
      "\n"
     ]
    },
    {
     "name": "stderr",
     "output_type": "stream",
     "text": [
      "Val: 100%|██████████| 86/86 [03:17<00:00,  2.30s/it, eval_loss=0.0891, gpu_mem=6.88 GB]\n",
      "Valid loss:0.0891\n",
      "Val metric mean prob: 0.3613\n",
      "Best metric at: 0.5750 0.4850  0.7330\n",
      "Cf: [[2326    8]\n",
      " [  26   23]]\n",
      "\u001b[32m[I 2023-02-15 06:57:08,726]\u001b[0m Trial 25 finished with value: 0.5750000000000001 and parameters: {'a1': 0.07507934483008294, 'a2': 0.7000620825894094}. Best is trial 7 with value: 0.5974025974025974.\u001b[0m\n"
     ]
    },
    {
     "name": "stdout",
     "output_type": "stream",
     "text": [
      "/kaggle/input/10folds/tf_efficientnetv2_b2_fold_0_model_epoch_2_0.5510_0.151.pth\n",
      "none:  /kaggle/input/10folds/tf_efficientnetv2_b2_fold_0_model_epoch_2_0.5510_0.151.pth\n",
      "/kaggle/input/10folds/tf_efficientnetv2_b2_fold_0_model_epoch_13_0.5750_0.437.pth\n",
      "hehe /kaggle/input/10folds/tf_efficientnetv2_b2_fold_0_model_epoch_13_0.5750_0.437.pth\n",
      "/kaggle/input/10folds/tf_efficientnetv2_b2_fold_0_model_epoch_11_0.5610_0.440.pth\n",
      "noob /kaggle/input/10folds/tf_efficientnetv2_b2_fold_0_model_epoch_11_0.5610_0.440.pth\n",
      "0.1519273029946733 0.5486182339153002 0.29945446309002655\n",
      "\n"
     ]
    },
    {
     "name": "stderr",
     "output_type": "stream",
     "text": [
      "Val: 100%|██████████| 86/86 [03:20<00:00,  2.33s/it, eval_loss=0.0863, gpu_mem=6.88 GB]\n",
      "Valid loss:0.0863\n",
      "Val metric mean prob: 0.3608\n",
      "Best metric at: 0.5542 0.4840  0.7323\n",
      "Cf: [[2323   11]\n",
      " [  26   23]]\n",
      "\u001b[32m[I 2023-02-15 07:00:33,352]\u001b[0m Trial 26 finished with value: 0.5542168674698795 and parameters: {'a1': 0.1519273029946733, 'a2': 0.5486182339153002}. Best is trial 7 with value: 0.5974025974025974.\u001b[0m\n"
     ]
    },
    {
     "name": "stdout",
     "output_type": "stream",
     "text": [
      "/kaggle/input/10folds/tf_efficientnetv2_b2_fold_0_model_epoch_2_0.5510_0.151.pth\n",
      "none:  /kaggle/input/10folds/tf_efficientnetv2_b2_fold_0_model_epoch_2_0.5510_0.151.pth\n",
      "/kaggle/input/10folds/tf_efficientnetv2_b2_fold_0_model_epoch_13_0.5750_0.437.pth\n",
      "hehe /kaggle/input/10folds/tf_efficientnetv2_b2_fold_0_model_epoch_13_0.5750_0.437.pth\n",
      "/kaggle/input/10folds/tf_efficientnetv2_b2_fold_0_model_epoch_11_0.5610_0.440.pth\n",
      "noob /kaggle/input/10folds/tf_efficientnetv2_b2_fold_0_model_epoch_11_0.5610_0.440.pth\n",
      "0.06425971804827252 0.921943404230559 0.013796877721168554\n",
      "\n"
     ]
    },
    {
     "name": "stderr",
     "output_type": "stream",
     "text": [
      "Val: 100%|██████████| 86/86 [03:18<00:00,  2.31s/it, eval_loss=0.0899, gpu_mem=6.88 GB]\n",
      "Valid loss:0.0899\n",
      "Val metric mean prob: 0.3620\n",
      "Best metric at: 0.5823 0.4950  0.7332\n",
      "Cf: [[2327    7]\n",
      " [  26   23]]\n",
      "\u001b[32m[I 2023-02-15 07:03:55,910]\u001b[0m Trial 27 finished with value: 0.5822784810126582 and parameters: {'a1': 0.06425971804827252, 'a2': 0.921943404230559}. Best is trial 7 with value: 0.5974025974025974.\u001b[0m\n"
     ]
    },
    {
     "name": "stdout",
     "output_type": "stream",
     "text": [
      "/kaggle/input/10folds/tf_efficientnetv2_b2_fold_0_model_epoch_2_0.5510_0.151.pth\n",
      "none:  /kaggle/input/10folds/tf_efficientnetv2_b2_fold_0_model_epoch_2_0.5510_0.151.pth\n",
      "/kaggle/input/10folds/tf_efficientnetv2_b2_fold_0_model_epoch_13_0.5750_0.437.pth\n",
      "hehe /kaggle/input/10folds/tf_efficientnetv2_b2_fold_0_model_epoch_13_0.5750_0.437.pth\n",
      "/kaggle/input/10folds/tf_efficientnetv2_b2_fold_0_model_epoch_11_0.5610_0.440.pth\n",
      "noob /kaggle/input/10folds/tf_efficientnetv2_b2_fold_0_model_epoch_11_0.5610_0.440.pth\n",
      "0.020670883304692425 0.7862344476190941 0.19309466907621342\n",
      "\n"
     ]
    },
    {
     "name": "stderr",
     "output_type": "stream",
     "text": [
      "Val: 100%|██████████| 86/86 [03:22<00:00,  2.36s/it, eval_loss=0.0921, gpu_mem=6.88 GB]\n",
      "Valid loss:0.0921\n",
      "Val metric mean prob: 0.3558\n",
      "Best metric at: 0.5974 0.4870  0.7336\n",
      "Cf: [[2329    5]\n",
      " [  26   23]]\n",
      "\u001b[32m[I 2023-02-15 07:07:22,186]\u001b[0m Trial 28 finished with value: 0.5974025974025974 and parameters: {'a1': 0.020670883304692425, 'a2': 0.7862344476190941}. Best is trial 7 with value: 0.5974025974025974.\u001b[0m\n"
     ]
    },
    {
     "name": "stdout",
     "output_type": "stream",
     "text": [
      "/kaggle/input/10folds/tf_efficientnetv2_b2_fold_0_model_epoch_2_0.5510_0.151.pth\n",
      "none:  /kaggle/input/10folds/tf_efficientnetv2_b2_fold_0_model_epoch_2_0.5510_0.151.pth\n",
      "/kaggle/input/10folds/tf_efficientnetv2_b2_fold_0_model_epoch_13_0.5750_0.437.pth\n",
      "hehe /kaggle/input/10folds/tf_efficientnetv2_b2_fold_0_model_epoch_13_0.5750_0.437.pth\n",
      "/kaggle/input/10folds/tf_efficientnetv2_b2_fold_0_model_epoch_11_0.5610_0.440.pth\n",
      "noob /kaggle/input/10folds/tf_efficientnetv2_b2_fold_0_model_epoch_11_0.5610_0.440.pth\n",
      "0.2440753627850919 0.4561347976621759 0.2997898395527322\n",
      "\n"
     ]
    },
    {
     "name": "stderr",
     "output_type": "stream",
     "text": [
      "Val: 100%|██████████| 86/86 [03:26<00:00,  2.41s/it, eval_loss=0.0837, gpu_mem=6.88 GB]\n",
      "Valid loss:0.0837\n",
      "Val metric mean prob: 0.3513\n",
      "Best metric at: 0.5556 0.4350  0.7517\n",
      "Cf: [[2318   16]\n",
      " [  24   25]]\n",
      "\u001b[32m[I 2023-02-15 07:10:52,948]\u001b[0m Trial 29 finished with value: 0.5555555555555556 and parameters: {'a1': 0.2440753627850919, 'a2': 0.4561347976621759}. Best is trial 7 with value: 0.5974025974025974.\u001b[0m\n"
     ]
    },
    {
     "name": "stdout",
     "output_type": "stream",
     "text": [
      "/kaggle/input/10folds/tf_efficientnetv2_b2_fold_0_model_epoch_2_0.5510_0.151.pth\n",
      "none:  /kaggle/input/10folds/tf_efficientnetv2_b2_fold_0_model_epoch_2_0.5510_0.151.pth\n",
      "/kaggle/input/10folds/tf_efficientnetv2_b2_fold_0_model_epoch_13_0.5750_0.437.pth\n",
      "hehe /kaggle/input/10folds/tf_efficientnetv2_b2_fold_0_model_epoch_13_0.5750_0.437.pth\n",
      "/kaggle/input/10folds/tf_efficientnetv2_b2_fold_0_model_epoch_11_0.5610_0.440.pth\n",
      "noob /kaggle/input/10folds/tf_efficientnetv2_b2_fold_0_model_epoch_11_0.5610_0.440.pth\n",
      "0.13545019105438325 0.6610456469085784 0.20350416203703836\n",
      "\n"
     ]
    },
    {
     "name": "stderr",
     "output_type": "stream",
     "text": [
      "Val: 100%|██████████| 86/86 [03:23<00:00,  2.37s/it, eval_loss=0.0869, gpu_mem=6.88 GB]\n",
      "Valid loss:0.0869\n",
      "Val metric mean prob: 0.3620\n",
      "Best metric at: 0.5679 0.4870  0.7328\n",
      "Cf: [[2325    9]\n",
      " [  26   23]]\n",
      "\u001b[32m[I 2023-02-15 07:14:19,403]\u001b[0m Trial 30 finished with value: 0.5679012345679012 and parameters: {'a1': 0.13545019105438325, 'a2': 0.6610456469085784}. Best is trial 7 with value: 0.5974025974025974.\u001b[0m\n"
     ]
    },
    {
     "name": "stdout",
     "output_type": "stream",
     "text": [
      "/kaggle/input/10folds/tf_efficientnetv2_b2_fold_0_model_epoch_2_0.5510_0.151.pth\n",
      "none:  /kaggle/input/10folds/tf_efficientnetv2_b2_fold_0_model_epoch_2_0.5510_0.151.pth\n",
      "/kaggle/input/10folds/tf_efficientnetv2_b2_fold_0_model_epoch_13_0.5750_0.437.pth\n",
      "hehe /kaggle/input/10folds/tf_efficientnetv2_b2_fold_0_model_epoch_13_0.5750_0.437.pth\n",
      "/kaggle/input/10folds/tf_efficientnetv2_b2_fold_0_model_epoch_11_0.5610_0.440.pth\n",
      "noob /kaggle/input/10folds/tf_efficientnetv2_b2_fold_0_model_epoch_11_0.5610_0.440.pth\n",
      "0.018879183897121617 0.8632242791850933 0.11789653691778512\n",
      "\n"
     ]
    },
    {
     "name": "stderr",
     "output_type": "stream",
     "text": [
      "Val: 100%|██████████| 86/86 [03:25<00:00,  2.38s/it, eval_loss=0.0922, gpu_mem=6.88 GB]\n",
      "Valid loss:0.0922\n",
      "Val metric mean prob: 0.3559\n",
      "Best metric at: 0.5974 0.4910  0.7336\n",
      "Cf: [[2329    5]\n",
      " [  26   23]]\n",
      "\u001b[32m[I 2023-02-15 07:17:48,725]\u001b[0m Trial 31 finished with value: 0.5974025974025974 and parameters: {'a1': 0.018879183897121617, 'a2': 0.8632242791850933}. Best is trial 7 with value: 0.5974025974025974.\u001b[0m\n"
     ]
    },
    {
     "name": "stdout",
     "output_type": "stream",
     "text": [
      "/kaggle/input/10folds/tf_efficientnetv2_b2_fold_0_model_epoch_2_0.5510_0.151.pth\n",
      "none:  /kaggle/input/10folds/tf_efficientnetv2_b2_fold_0_model_epoch_2_0.5510_0.151.pth\n",
      "/kaggle/input/10folds/tf_efficientnetv2_b2_fold_0_model_epoch_13_0.5750_0.437.pth\n",
      "hehe /kaggle/input/10folds/tf_efficientnetv2_b2_fold_0_model_epoch_13_0.5750_0.437.pth\n",
      "/kaggle/input/10folds/tf_efficientnetv2_b2_fold_0_model_epoch_11_0.5610_0.440.pth\n",
      "noob /kaggle/input/10folds/tf_efficientnetv2_b2_fold_0_model_epoch_11_0.5610_0.440.pth\n",
      "0.011114374961478393 0.9865743188136958 0.002311306224825782\n",
      "\n"
     ]
    },
    {
     "name": "stderr",
     "output_type": "stream",
     "text": [
      "Val: 100%|██████████| 86/86 [03:41<00:00,  2.57s/it, eval_loss=0.0929, gpu_mem=6.88 GB]\n",
      "Valid loss:0.0929\n",
      "Val metric mean prob: 0.3557\n",
      "Best metric at: 0.5897 0.4680  0.7334\n",
      "Cf: [[2328    6]\n",
      " [  26   23]]\n",
      "\u001b[32m[I 2023-02-15 07:21:32,836]\u001b[0m Trial 32 finished with value: 0.5897435897435898 and parameters: {'a1': 0.011114374961478393, 'a2': 0.9865743188136958}. Best is trial 7 with value: 0.5974025974025974.\u001b[0m\n"
     ]
    },
    {
     "name": "stdout",
     "output_type": "stream",
     "text": [
      "/kaggle/input/10folds/tf_efficientnetv2_b2_fold_0_model_epoch_2_0.5510_0.151.pth\n",
      "none:  /kaggle/input/10folds/tf_efficientnetv2_b2_fold_0_model_epoch_2_0.5510_0.151.pth\n",
      "/kaggle/input/10folds/tf_efficientnetv2_b2_fold_0_model_epoch_13_0.5750_0.437.pth\n",
      "hehe /kaggle/input/10folds/tf_efficientnetv2_b2_fold_0_model_epoch_13_0.5750_0.437.pth\n",
      "/kaggle/input/10folds/tf_efficientnetv2_b2_fold_0_model_epoch_11_0.5610_0.440.pth\n",
      "noob /kaggle/input/10folds/tf_efficientnetv2_b2_fold_0_model_epoch_11_0.5610_0.440.pth\n",
      "0.08151331307059533 0.718669654812617 0.1998170321167877\n",
      "\n"
     ]
    },
    {
     "name": "stderr",
     "output_type": "stream",
     "text": [
      "Val: 100%|██████████| 86/86 [03:19<00:00,  2.32s/it, eval_loss=0.0889, gpu_mem=6.88 GB]\n",
      "Valid loss:0.0889\n",
      "Val metric mean prob: 0.3618\n",
      "Best metric at: 0.5750 0.4850  0.7330\n",
      "Cf: [[2326    8]\n",
      " [  26   23]]\n",
      "\u001b[32m[I 2023-02-15 07:24:56,535]\u001b[0m Trial 33 finished with value: 0.5750000000000001 and parameters: {'a1': 0.08151331307059533, 'a2': 0.718669654812617}. Best is trial 7 with value: 0.5974025974025974.\u001b[0m\n"
     ]
    },
    {
     "name": "stdout",
     "output_type": "stream",
     "text": [
      "/kaggle/input/10folds/tf_efficientnetv2_b2_fold_0_model_epoch_2_0.5510_0.151.pth\n",
      "none:  /kaggle/input/10folds/tf_efficientnetv2_b2_fold_0_model_epoch_2_0.5510_0.151.pth\n",
      "/kaggle/input/10folds/tf_efficientnetv2_b2_fold_0_model_epoch_13_0.5750_0.437.pth\n",
      "hehe /kaggle/input/10folds/tf_efficientnetv2_b2_fold_0_model_epoch_13_0.5750_0.437.pth\n",
      "/kaggle/input/10folds/tf_efficientnetv2_b2_fold_0_model_epoch_11_0.5610_0.440.pth\n",
      "noob /kaggle/input/10folds/tf_efficientnetv2_b2_fold_0_model_epoch_11_0.5610_0.440.pth\n",
      "0.18026730378844652 0.58159635965941 0.2381363365521434\n",
      "\n"
     ]
    },
    {
     "name": "stderr",
     "output_type": "stream",
     "text": [
      "Val: 100%|██████████| 86/86 [03:23<00:00,  2.37s/it, eval_loss=0.0855, gpu_mem=6.88 GB]\n",
      "Valid loss:0.0855\n",
      "Val metric mean prob: 0.3587\n",
      "Best metric at: 0.5495 0.4300  0.7515\n",
      "Cf: [[2317   17]\n",
      " [  24   25]]\n",
      "\u001b[32m[I 2023-02-15 07:28:23,561]\u001b[0m Trial 34 finished with value: 0.5494505494505494 and parameters: {'a1': 0.18026730378844652, 'a2': 0.58159635965941}. Best is trial 7 with value: 0.5974025974025974.\u001b[0m\n"
     ]
    },
    {
     "name": "stdout",
     "output_type": "stream",
     "text": [
      "/kaggle/input/10folds/tf_efficientnetv2_b2_fold_0_model_epoch_2_0.5510_0.151.pth\n",
      "none:  /kaggle/input/10folds/tf_efficientnetv2_b2_fold_0_model_epoch_2_0.5510_0.151.pth\n",
      "/kaggle/input/10folds/tf_efficientnetv2_b2_fold_0_model_epoch_13_0.5750_0.437.pth\n",
      "hehe /kaggle/input/10folds/tf_efficientnetv2_b2_fold_0_model_epoch_13_0.5750_0.437.pth\n",
      "/kaggle/input/10folds/tf_efficientnetv2_b2_fold_0_model_epoch_11_0.5610_0.440.pth\n",
      "noob /kaggle/input/10folds/tf_efficientnetv2_b2_fold_0_model_epoch_11_0.5610_0.440.pth\n",
      "0.11942704310510091 0.6667778065554698 0.2137951503394293\n",
      "\n"
     ]
    },
    {
     "name": "stderr",
     "output_type": "stream",
     "text": [
      "Val: 100%|██████████| 86/86 [03:17<00:00,  2.30s/it, eval_loss=0.0874, gpu_mem=6.88 GB]\n",
      "Valid loss:0.0874\n",
      "Val metric mean prob: 0.3624\n",
      "Best metric at: 0.5750 0.4960  0.7330\n",
      "Cf: [[2326    8]\n",
      " [  26   23]]\n",
      "\u001b[32m[I 2023-02-15 07:31:45,378]\u001b[0m Trial 35 finished with value: 0.5750000000000001 and parameters: {'a1': 0.11942704310510091, 'a2': 0.6667778065554698}. Best is trial 7 with value: 0.5974025974025974.\u001b[0m\n"
     ]
    },
    {
     "name": "stdout",
     "output_type": "stream",
     "text": [
      "/kaggle/input/10folds/tf_efficientnetv2_b2_fold_0_model_epoch_2_0.5510_0.151.pth\n",
      "none:  /kaggle/input/10folds/tf_efficientnetv2_b2_fold_0_model_epoch_2_0.5510_0.151.pth\n",
      "/kaggle/input/10folds/tf_efficientnetv2_b2_fold_0_model_epoch_13_0.5750_0.437.pth\n",
      "hehe /kaggle/input/10folds/tf_efficientnetv2_b2_fold_0_model_epoch_13_0.5750_0.437.pth\n",
      "/kaggle/input/10folds/tf_efficientnetv2_b2_fold_0_model_epoch_11_0.5610_0.440.pth\n",
      "noob /kaggle/input/10folds/tf_efficientnetv2_b2_fold_0_model_epoch_11_0.5610_0.440.pth\n",
      "0.15678395355949065 0.7419003473897616 0.10131569905074778\n",
      "\n"
     ]
    },
    {
     "name": "stderr",
     "output_type": "stream",
     "text": [
      "Val: 100%|██████████| 86/86 [03:47<00:00,  2.64s/it, eval_loss=0.0864, gpu_mem=6.88 GB]\n",
      "Valid loss:0.0864\n",
      "Val metric mean prob: 0.3606\n",
      "Best metric at: 0.5393 0.4460  0.7415\n",
      "Cf: [[2318   16]\n",
      " [  25   24]]\n",
      "\u001b[32m[I 2023-02-15 07:35:36,148]\u001b[0m Trial 36 finished with value: 0.5393258426966292 and parameters: {'a1': 0.15678395355949065, 'a2': 0.7419003473897616}. Best is trial 7 with value: 0.5974025974025974.\u001b[0m\n"
     ]
    },
    {
     "name": "stdout",
     "output_type": "stream",
     "text": [
      "/kaggle/input/10folds/tf_efficientnetv2_b2_fold_0_model_epoch_2_0.5510_0.151.pth\n",
      "none:  /kaggle/input/10folds/tf_efficientnetv2_b2_fold_0_model_epoch_2_0.5510_0.151.pth\n",
      "/kaggle/input/10folds/tf_efficientnetv2_b2_fold_0_model_epoch_13_0.5750_0.437.pth\n",
      "hehe /kaggle/input/10folds/tf_efficientnetv2_b2_fold_0_model_epoch_13_0.5750_0.437.pth\n",
      "/kaggle/input/10folds/tf_efficientnetv2_b2_fold_0_model_epoch_11_0.5610_0.440.pth\n",
      "noob /kaggle/input/10folds/tf_efficientnetv2_b2_fold_0_model_epoch_11_0.5610_0.440.pth\n",
      "0.33623196617064094 0.5267657208168789 0.13700231301248011\n",
      "\n"
     ]
    },
    {
     "name": "stderr",
     "output_type": "stream",
     "text": [
      "Val: 100%|██████████| 86/86 [03:30<00:00,  2.44s/it, eval_loss=0.0815, gpu_mem=6.88 GB]\n",
      "Valid loss:0.0815\n",
      "Val metric mean prob: 0.3369\n",
      "Best metric at: 0.5591 0.4270  0.7615\n",
      "Cf: [[2316   18]\n",
      " [  23   26]]\n",
      "\u001b[32m[I 2023-02-15 07:39:09,225]\u001b[0m Trial 37 finished with value: 0.5591397849462366 and parameters: {'a1': 0.33623196617064094, 'a2': 0.5267657208168789}. Best is trial 7 with value: 0.5974025974025974.\u001b[0m\n"
     ]
    },
    {
     "name": "stdout",
     "output_type": "stream",
     "text": [
      "/kaggle/input/10folds/tf_efficientnetv2_b2_fold_0_model_epoch_2_0.5510_0.151.pth\n",
      "none:  /kaggle/input/10folds/tf_efficientnetv2_b2_fold_0_model_epoch_2_0.5510_0.151.pth\n",
      "/kaggle/input/10folds/tf_efficientnetv2_b2_fold_0_model_epoch_13_0.5750_0.437.pth\n",
      "hehe /kaggle/input/10folds/tf_efficientnetv2_b2_fold_0_model_epoch_13_0.5750_0.437.pth\n",
      "/kaggle/input/10folds/tf_efficientnetv2_b2_fold_0_model_epoch_11_0.5610_0.440.pth\n",
      "noob /kaggle/input/10folds/tf_efficientnetv2_b2_fold_0_model_epoch_11_0.5610_0.440.pth\n",
      "0.20773082721271285 0.6630078379409625 0.12926133484632463\n",
      "\n"
     ]
    },
    {
     "name": "stderr",
     "output_type": "stream",
     "text": [
      "Val: 100%|██████████| 86/86 [03:17<00:00,  2.29s/it, eval_loss=0.0850, gpu_mem=6.88 GB]\n",
      "Valid loss:0.0850\n",
      "Val metric mean prob: 0.3559\n",
      "Best metric at: 0.5542 0.4890  0.7323\n",
      "Cf: [[2323   11]\n",
      " [  26   23]]\n",
      "\u001b[32m[I 2023-02-15 07:42:30,951]\u001b[0m Trial 38 finished with value: 0.5542168674698795 and parameters: {'a1': 0.20773082721271285, 'a2': 0.6630078379409625}. Best is trial 7 with value: 0.5974025974025974.\u001b[0m\n"
     ]
    },
    {
     "name": "stdout",
     "output_type": "stream",
     "text": [
      "/kaggle/input/10folds/tf_efficientnetv2_b2_fold_0_model_epoch_2_0.5510_0.151.pth\n",
      "none:  /kaggle/input/10folds/tf_efficientnetv2_b2_fold_0_model_epoch_2_0.5510_0.151.pth\n",
      "/kaggle/input/10folds/tf_efficientnetv2_b2_fold_0_model_epoch_13_0.5750_0.437.pth\n",
      "hehe /kaggle/input/10folds/tf_efficientnetv2_b2_fold_0_model_epoch_13_0.5750_0.437.pth\n",
      "/kaggle/input/10folds/tf_efficientnetv2_b2_fold_0_model_epoch_11_0.5610_0.440.pth\n",
      "noob /kaggle/input/10folds/tf_efficientnetv2_b2_fold_0_model_epoch_11_0.5610_0.440.pth\n",
      "0.048733167040615505 0.8085259133049778 0.14274091965440672\n",
      "\n"
     ]
    },
    {
     "name": "stderr",
     "output_type": "stream",
     "text": [
      "Val: 100%|██████████| 86/86 [03:18<00:00,  2.31s/it, eval_loss=0.0904, gpu_mem=6.88 GB]\n",
      "Valid loss:0.0904\n",
      "Val metric mean prob: 0.3598\n",
      "Best metric at: 0.5974 0.4900  0.7336\n",
      "Cf: [[2329    5]\n",
      " [  26   23]]\n",
      "\u001b[32m[I 2023-02-15 07:45:52,690]\u001b[0m Trial 39 finished with value: 0.5974025974025974 and parameters: {'a1': 0.048733167040615505, 'a2': 0.8085259133049778}. Best is trial 7 with value: 0.5974025974025974.\u001b[0m\n"
     ]
    },
    {
     "data": {
      "text/plain": [
       "{'a1': 0.036839841333967636, 'a2': 0.6490629183820655}"
      ]
     },
     "execution_count": 11,
     "metadata": {},
     "output_type": "execute_result"
    }
   ],
   "source": [
    "import optuna\n",
    "from optuna.samplers import TPESampler\n",
    "\n",
    "def valid_fn_two(val_dataloader, model, criterion, device):\n",
    "    losses = AverageMeter()\n",
    "    model.eval()\n",
    "    preds = []\n",
    "    pbar = tqdm(enumerate(val_dataloader), total=len(val_dataloader), desc='Val')\n",
    "    for step, (images, labels) in pbar:\n",
    "        images = images.to(device, non_blocking=True)\n",
    "        labels = labels.to(device, non_blocking=True)\n",
    "        batch_size = labels.size(0)\n",
    "        with torch.no_grad():\n",
    "            with autocast(enabled=True):\n",
    "                outputs = model(images)\n",
    "                loss = criterion(outputs, labels)\n",
    "#         loss = bi_tempered_logistic_loss(outputs, labels, t1=0.8, t2 = 1.4)\n",
    "        losses.update(loss.item(), batch_size)\n",
    "#         print(outputs)\n",
    "        preds.append(F.softmax(outputs).to('cpu').numpy())\n",
    "        mem = torch.cuda.memory_reserved() / 1E9 if torch.cuda.is_available() else 0\n",
    "        pbar.set_postfix(eval_loss=f'{losses.avg:0.4f}',\n",
    "                        gpu_mem=f'{mem:0.2f} GB')\n",
    "    predictions = np.concatenate(preds)\n",
    "    return losses.avg, predictions\n",
    "set_seed(1)\n",
    "out_file = 'swa_model_fold0_10.pth' \n",
    "iteration = [\n",
    "    '/kaggle/input/10folds/tf_efficientnetv2_b2_fold_0_model_epoch_2_0.5510_0.151.pth',\n",
    "    '/kaggle/input/10folds/tf_efficientnetv2_b2_fold_0_model_epoch_13_0.5750_0.437.pth',\n",
    "    '/kaggle/input/10folds/tf_efficientnetv2_b2_fold_0_model_epoch_11_0.5610_0.440.pth'\n",
    "]\n",
    "\n",
    "criterion = nn.CrossEntropyLoss().to(CFG.device)\n",
    "best_metric = 0\n",
    "torch.cuda.empty_cache()\n",
    "def objective(trial):\n",
    "#     a1 = 0.4962849464623993 \n",
    "#     a2 = 0.5037150535376007\n",
    "#     a1 = 0.1689507073116359 \n",
    "#     a2 = 0.47142151346976024 \n",
    "#     a3 = 0.3596277792186039\n",
    "#     a1 = trial.suggest_uniform('a1', 0.01, 0.79)\n",
    "#     a2 = 1-a1\n",
    "    a1 = trial.suggest_uniform('a1', 0.01, 0.99)\n",
    "    a2 = trial.suggest_uniform('a2', 0.01, 1-a1)\n",
    "    a3 = 1-a1-a2\n",
    "    state_dict = None\n",
    "    for i in iteration:\n",
    "        f = i\n",
    "        print(f)\n",
    "        f = torch.load(f, map_location=lambda storage, loc: storage)\n",
    "        if state_dict is None:\n",
    "            print(\"none: \", i)\n",
    "            state_dict = f['state_dict']\n",
    "            key = list(f['state_dict'].keys())\n",
    "            for k in key:\n",
    "                state_dict[k] = f['state_dict'][k]*a1\n",
    "        elif i=='/kaggle/input/10folds/tf_efficientnetv2_b2_fold_0_model_epoch_13_0.5750_0.437.pth': \n",
    "            print(\"hehe\", i)\n",
    "            key = list(f['state_dict'].keys())\n",
    "            for k in key:\n",
    "                state_dict[k] = state_dict[k] + a2*f['state_dict'][k]\n",
    "        elif i=='/kaggle/input/10folds/tf_efficientnetv2_b2_fold_0_model_epoch_11_0.5610_0.440.pth':\n",
    "            print(\"noob\", i)\n",
    "            key = list(f['state_dict'].keys())\n",
    "            for k in key:\n",
    "                state_dict[k] = state_dict[k] + a3*f['state_dict'][k]\n",
    "    print(a1, a2, a3)\n",
    "    # for k in key:\n",
    "    #     state_dict[k] = state_dict[k] / len(iteration)\n",
    "    print('')\n",
    "\n",
    "    # print(out_file)\n",
    "    torch.save({'state_dict': state_dict}, out_file)\n",
    "\n",
    "    model = ModelOld(model_name=CFG.model_name).to(CFG.device)\n",
    "    checkpoint = torch.load(\"swa_model_fold0_10.pth\")\n",
    "    model.load_state_dict(checkpoint['state_dict'])\n",
    "#     model = nn.DataParallel(model)\n",
    "\n",
    "    loss_valid, valid_preds = valid_fn_two(valid_loader, model, criterion, CFG.device)\n",
    "    valid_preds = valid_preds[:, 1]\n",
    "    valid_df['prediction_id'] = valid_df['patient_id'].astype(str) + '_' + valid_df['laterality'].astype(str)\n",
    "    valid_preds = np.array(valid_preds).flatten()\n",
    "    \n",
    "    valid_df['raw_pred'] = valid_preds\n",
    "    LOGGER.info(f\"Valid loss:{loss_valid:.4f}\")\n",
    "    grp_df = valid_df.groupby('prediction_id')['raw_pred', 'cancer'].mean()\n",
    "    grp_df['cancer'] = grp_df['cancer'].astype(np.int)\n",
    "    valid_labels_mean = grp_df['cancer'].values\n",
    "    valid_preds_mean = grp_df['raw_pred'].values\n",
    "    # print(valid_labels[:5], valid_preds_mean[:5])\n",
    "    val_metric_mean = pfbeta(valid_labels_mean, valid_preds_mean)\n",
    "    LOGGER.info(f\"Val metric mean prob: {val_metric_mean:.4f}\")\n",
    "    best_metric_mean_at_epoch = 0\n",
    "    best_metric = 0\n",
    "    \n",
    "    best_threshold_mean = 0\n",
    "    best_auc = 0\n",
    "    best_cf = None\n",
    "    for i in np.arange(0.001, 0.599, 0.001):\n",
    "        valid_argmax = (valid_preds_mean>i).astype(np.int32)\n",
    "        val_metric = pfbeta_np(valid_labels_mean, valid_argmax)\n",
    "        val_acc = accuracy_score(valid_labels_mean, valid_argmax)\n",
    "        val_f1 = f1_score(valid_labels_mean, valid_argmax)\n",
    "        val_auc = roc_auc_score(valid_labels_mean, valid_argmax)\n",
    "        cf = confusion_matrix(valid_labels_mean, valid_argmax)\n",
    "        if val_metric> best_metric:\n",
    "            best_metric = val_metric\n",
    "            # best_metric_mean_at_epoch = val_metric\n",
    "            best_threshold_mean = i\n",
    "            best_auc = val_auc\n",
    "            best_cf = cf\n",
    "    state = {'state_dict': model.state_dict()}\n",
    "    path = f'swa_{CFG.model_name}_fold_{fold}_model_{best_metric:.4f}_{best_threshold_mean:.4f}.pth'\n",
    "    torch.save(state, path)\n",
    "    \n",
    "    LOGGER.info(f\"Best metric at: {best_metric:.4f} {best_threshold_mean:.4f}  {best_auc:.4f}\")\n",
    "    LOGGER.info(f\"Cf: {best_cf}\")\n",
    "    return best_metric\n",
    "\n",
    "study = optuna.create_study(direction='maximize', sampler = TPESampler(seed=1))\n",
    "study.optimize(func=objective, n_trials=40)\n",
    "study.best_params\n",
    "# # 0.5563409550491111 0.4436590449508889 fold 0\n",
    "# # 0.12634002523631388 0.8351954705276587 0.03846450423602743 0.5393 \n",
    "# # 0.583301614081906 0.3673525472043472 0.04934583871374687 fold 2 0.50\n",
    "# # 0.1689507073116359 0.47142151346976024 0.3596277792186039 fold 2 0.5055 0.5055 0.3670  0.7261"
   ]
  },
  {
   "cell_type": "code",
   "execution_count": 12,
   "id": "25810c6b",
   "metadata": {
    "execution": {
     "iopub.execute_input": "2023-02-15T07:45:53.460573Z",
     "iopub.status.busy": "2023-02-15T07:45:53.460194Z",
     "iopub.status.idle": "2023-02-15T07:45:53.467747Z",
     "shell.execute_reply": "2023-02-15T07:45:53.466804Z"
    },
    "papermill": {
     "duration": 0.39188,
     "end_time": "2023-02-15T07:45:53.469825",
     "exception": false,
     "start_time": "2023-02-15T07:45:53.077945",
     "status": "completed"
    },
    "tags": []
   },
   "outputs": [],
   "source": [
    "# set_seed(1)\n",
    "# out_file = 'swa_model_fold2_10.pth' \n",
    "# iteration = [\n",
    "#     '/kaggle/input/10folds/tf_efficientnetv2_b2_fold_2_model_epoch_5_0.4598_0.286.pth',\n",
    "#     '/kaggle/input/10folds/tf_efficientnetv2_b2_fold_2_model_epoch_3_0.4615_0.250.pth',\n",
    "#     '/kaggle/input/10folds/tf_efficientnetv2_b2_fold_2_model_epoch_7_0.4848_0.266.pth'\n",
    "# ]\n",
    "\n",
    "# criterion = nn.CrossEntropyLoss().to(CFG.device)\n",
    "# best_metric = 0\n",
    "# torch.cuda.empty_cache()\n",
    "# def objective(trial):\n",
    "# #     a1 = 0.015006661988523864 \n",
    "# #     a2 = 0.12003546043452194 \n",
    "# #     a3 = 0.8649578775769542\n",
    "#     a1 = 0.020317850755860567 \n",
    "#     a2 = 0.1293785181217534 \n",
    "#     a3 = 0.850303631122386\n",
    "# #     a1 = 0.12634002523631388\n",
    "# #     a2 = 0.8351954705276587\n",
    "# #     a3 = 0.03846450423602743\n",
    "# #     a1 = trial.suggest_uniform('a1', 0.01, 0.99)\n",
    "# #     a2 = trial.suggest_uniform('a2', 0.01, 1-a1)\n",
    "# #     a3 = 1-a1-a2\n",
    "#     state_dict = None\n",
    "#     for i in iteration:\n",
    "#         f = i\n",
    "#         print(f)\n",
    "#         f = torch.load(f, map_location=lambda storage, loc: storage)\n",
    "#         if state_dict is None:\n",
    "#             print(\"none: \", i)\n",
    "#             state_dict = f['state_dict']\n",
    "#             key = list(f['state_dict'].keys())\n",
    "#             for k in key:\n",
    "#                 state_dict[k] = f['state_dict'][k]*a1\n",
    "#         elif i=='/kaggle/input/10folds/tf_efficientnetv2_b2_fold_2_model_epoch_3_0.4615_0.250.pth': \n",
    "#             print(\"hehe\", i)\n",
    "#             key = list(f['state_dict'].keys())\n",
    "#             for k in key:\n",
    "#                 state_dict[k] = state_dict[k] + a2*f['state_dict'][k]\n",
    "#         elif i=='/kaggle/input/10folds/tf_efficientnetv2_b2_fold_2_model_epoch_7_0.4848_0.266.pth':\n",
    "#             print(\"noob\", i)\n",
    "#             key = list(f['state_dict'].keys())\n",
    "#             for k in key:\n",
    "#                 state_dict[k] = state_dict[k] + a3*f['state_dict'][k]\n",
    "#     print(a1, a2, a3)\n",
    "#     # for k in key:\n",
    "#     #     state_dict[k] = state_dict[k] / len(iteration)\n",
    "#     print('')\n",
    "\n",
    "#     # print(out_file)\n",
    "#     torch.save({'state_dict': state_dict}, out_file)\n",
    "\n",
    "#     model = ModelOld(model_name=CFG.model_name).to(CFG.device)\n",
    "#     checkpoint = torch.load(\"swa_model_fold2_10.pth\")\n",
    "#     model.load_state_dict(checkpoint['state_dict'])\n",
    "# #     model = nn.DataParallel(model)\n",
    "\n",
    "#     loss_valid, valid_preds = valid_fn_two(valid_loader, model, criterion, CFG.device)\n",
    "#     valid_preds = valid_preds[:, 1]\n",
    "#     valid_df['prediction_id'] = valid_df['patient_id'].astype(str) + '_' + valid_df['laterality'].astype(str)\n",
    "#     valid_preds = np.array(valid_preds).flatten()\n",
    "    \n",
    "#     valid_df['raw_pred'] = valid_preds\n",
    "#     LOGGER.info(f\"Valid loss:{loss_valid:.4f}\")\n",
    "#     grp_df = valid_df.groupby('prediction_id')['raw_pred', 'cancer'].mean()\n",
    "#     grp_df['cancer'] = grp_df['cancer'].astype(np.int)\n",
    "#     valid_labels_mean = grp_df['cancer'].values\n",
    "#     valid_preds_mean = grp_df['raw_pred'].values\n",
    "#     # print(valid_labels[:5], valid_preds_mean[:5])\n",
    "#     val_metric_mean = pfbeta(valid_labels_mean, valid_preds_mean)\n",
    "#     LOGGER.info(f\"Val metric mean prob: {val_metric_mean:.4f}\")\n",
    "#     best_metric_mean_at_epoch = 0\n",
    "#     best_metric = 0\n",
    "    \n",
    "#     best_threshold_mean = 0\n",
    "#     best_auc = 0\n",
    "#     best_cf = None\n",
    "#     for i in np.arange(0.001, 0.599, 0.001):\n",
    "#         valid_argmax = (valid_preds_mean>i).astype(np.int32)\n",
    "#         val_metric = pfbeta_np(valid_labels_mean, valid_argmax)\n",
    "#         val_acc = accuracy_score(valid_labels_mean, valid_argmax)\n",
    "#         val_f1 = f1_score(valid_labels_mean, valid_argmax)\n",
    "#         val_auc = roc_auc_score(valid_labels_mean, valid_argmax)\n",
    "#         cf = confusion_matrix(valid_labels_mean, valid_argmax)\n",
    "#         if val_metric> best_metric:\n",
    "#             best_metric = val_metric\n",
    "#             # best_metric_mean_at_epoch = val_metric\n",
    "#             best_threshold_mean = i\n",
    "#             best_auc = val_auc\n",
    "#             best_cf = cf\n",
    "#     state = {'state_dict': model.state_dict()}\n",
    "#     path = f'swa_{CFG.model_name}_fold_{fold}_model_{best_metric:.4f}_{best_threshold_mean:.3f}.pth'\n",
    "#     torch.save(state, path)\n",
    "    \n",
    "#     LOGGER.info(f\"Best metric at: {best_metric:.4f} {best_threshold_mean:.4f}  {best_auc:.4f}\")\n",
    "#     LOGGER.info(f\"Cf: {best_cf}\")\n",
    "#     return best_metric\n",
    "\n",
    "# study = optuna.create_study(direction='maximize', sampler = TPESampler(seed=666))\n",
    "# study.optimize(func=objective, n_trials=1)\n",
    "# study.best_params"
   ]
  },
  {
   "cell_type": "code",
   "execution_count": 13,
   "id": "40caf064",
   "metadata": {
    "execution": {
     "iopub.execute_input": "2023-02-15T07:45:54.212215Z",
     "iopub.status.busy": "2023-02-15T07:45:54.211849Z",
     "iopub.status.idle": "2023-02-15T07:45:54.219126Z",
     "shell.execute_reply": "2023-02-15T07:45:54.218117Z"
    },
    "papermill": {
     "duration": 0.385967,
     "end_time": "2023-02-15T07:45:54.221386",
     "exception": false,
     "start_time": "2023-02-15T07:45:53.835419",
     "status": "completed"
    },
    "tags": []
   },
   "outputs": [],
   "source": [
    "# set_seed(1)\n",
    "# out_file = 'swa_model_fold1_10.pth' \n",
    "# iteration = [\n",
    "#     '/kaggle/input/10folds/tf_efficientnetv2_b2_fold_1_model_epoch_3_0.5055_0.360.pth',\n",
    "#     '/kaggle/input/10folds/tf_efficientnetv2_b2_fold_1_model_epoch_5_0.4865_0.324.pth',\n",
    "# #     '/kaggle/input/10folds/tf_efficientnetv2_b2_fold_2_model_epoch_7_0.4848_0.266.pth'\n",
    "# ]\n",
    "\n",
    "# criterion = nn.CrossEntropyLoss().to(CFG.device)\n",
    "# best_metric = 0\n",
    "# torch.cuda.empty_cache()\n",
    "# def objective(trial):\n",
    "# #     a1 = 1\n",
    "# #     a2 = 0.0\n",
    "# #     a1 = 0.1689507073116359 \n",
    "# #     a2 = 0.47142151346976024 \n",
    "# #     a3 = 0.3596277792186039\n",
    "#     a1 = trial.suggest_uniform('a1', 0.01, 0.99)\n",
    "#     a2 = 1-a1\n",
    "# #     a2 = trial.suggest_uniform('a2', 0.1, 1-a1)\n",
    "# #     a3 = 1-a1-a2\n",
    "#     state_dict = None\n",
    "#     for i in iteration:\n",
    "#         f = i\n",
    "#         print(f)\n",
    "#         f = torch.load(f, map_location=lambda storage, loc: storage)\n",
    "#         if state_dict is None:\n",
    "#             print(\"none: \", i)\n",
    "#             state_dict = f['state_dict']\n",
    "#             key = list(f['state_dict'].keys())\n",
    "#             for k in key:\n",
    "#                 state_dict[k] = f['state_dict'][k]*a1\n",
    "#         elif i=='/kaggle/input/10folds/tf_efficientnetv2_b2_fold_1_model_epoch_5_0.4865_0.324.pth': \n",
    "#             print(\"hehe\", i)\n",
    "#             key = list(f['state_dict'].keys())\n",
    "#             for k in key:\n",
    "#                 state_dict[k] = state_dict[k] + a2*f['state_dict'][k]\n",
    "# #         elif i=='/kaggle/input/10folds/tf_efficientnetv2_b2_fold_2_model_epoch_7_0.4848_0.266.pth':\n",
    "# #             print(\"noob\", i)\n",
    "# #             key = list(f['state_dict'].keys())\n",
    "# #             for k in key:\n",
    "# #                 state_dict[k] = state_dict[k] + a3*f['state_dict'][k]\n",
    "#     print(a1, a2)\n",
    "#     # for k in key:\n",
    "#     #     state_dict[k] = state_dict[k] / len(iteration)\n",
    "#     print('')\n",
    "\n",
    "#     # print(out_file)\n",
    "#     torch.save({'state_dict': state_dict}, out_file)\n",
    "\n",
    "#     model = ModelOld(model_name=CFG.model_name).to(CFG.device)\n",
    "#     checkpoint = torch.load(\"/kaggle/input/10folds/tf_efficientnetv2_b2_fold_1_model_epoch_3_0.5055_0.360.pth\")\n",
    "#     model.load_state_dict(checkpoint['state_dict'])\n",
    "# #     model = nn.DataParallel(model)\n",
    "\n",
    "#     loss_valid, valid_preds = valid_fn_two(valid_loader, model, criterion, CFG.device)\n",
    "#     valid_preds = valid_preds[:, 1]\n",
    "#     valid_df['prediction_id'] = valid_df['patient_id'].astype(str) + '_' + valid_df['laterality'].astype(str)\n",
    "#     valid_preds = np.array(valid_preds).flatten()\n",
    "    \n",
    "#     valid_df['raw_pred'] = valid_preds\n",
    "#     LOGGER.info(f\"Valid loss:{loss_valid:.4f}\")\n",
    "#     grp_df = valid_df.groupby('prediction_id')['raw_pred', 'cancer'].mean()\n",
    "#     grp_df['cancer'] = grp_df['cancer'].astype(np.int)\n",
    "#     valid_labels_mean = grp_df['cancer'].values\n",
    "#     valid_preds_mean = grp_df['raw_pred'].values\n",
    "#     # print(valid_labels[:5], valid_preds_mean[:5])\n",
    "#     val_metric_mean = pfbeta(valid_labels_mean, valid_preds_mean)\n",
    "#     LOGGER.info(f\"Val metric mean prob: {val_metric_mean:.4f}\")\n",
    "#     best_metric_mean_at_epoch = 0\n",
    "#     best_metric = 0\n",
    "    \n",
    "#     best_threshold_mean = 0\n",
    "#     best_auc = 0\n",
    "#     best_cf = None\n",
    "#     for i in np.arange(0.001, 0.599, 0.001):\n",
    "#         valid_argmax = (valid_preds_mean>i).astype(np.int32)\n",
    "#         val_metric = pfbeta_np(valid_labels_mean, valid_argmax)\n",
    "#         val_acc = accuracy_score(valid_labels_mean, valid_argmax)\n",
    "#         val_f1 = f1_score(valid_labels_mean, valid_argmax)\n",
    "#         val_auc = roc_auc_score(valid_labels_mean, valid_argmax)\n",
    "#         cf = confusion_matrix(valid_labels_mean, valid_argmax)\n",
    "#         if val_metric> best_metric:\n",
    "#             best_metric = val_metric\n",
    "#             # best_metric_mean_at_epoch = val_metric\n",
    "#             best_threshold_mean = i\n",
    "#             best_auc = val_auc\n",
    "#             best_cf = cf\n",
    "#     state = {'state_dict': model.state_dict()}\n",
    "#     path = f'swa_{CFG.model_name}_fold_{fold}_model_{best_metric:.4f}_{best_threshold_mean:.4f}.pth'\n",
    "#     torch.save(state, path)\n",
    "    \n",
    "#     LOGGER.info(f\"Best metric at: {best_metric:.4f} {best_threshold_mean:.4f}  {best_auc:.4f}\")\n",
    "#     LOGGER.info(f\"Cf: {best_cf}\")\n",
    "#     return best_metric\n",
    "\n",
    "# study = optuna.create_study(direction='maximize', sampler = TPESampler(seed=666))\n",
    "# study.optimize(func=objective, n_trials=40)\n",
    "# study.best_params\n",
    "# 0.696428379420678 0.30357162057932197 fold 1\n",
    "# # 0.5563409550491111 0.4436590449508889 fold 0\n",
    "# # 0.12634002523631388 0.8351954705276587 0.03846450423602743 0.5393 \n",
    "# # 0.583301614081906 0.3673525472043472 0.04934583871374687 fold 2 0.50\n",
    "# # 0.1689507073116359 0.47142151346976024 0.3596277792186039 fold 2 0.5055 0.5055 0.3670  0.7261"
   ]
  }
 ],
 "metadata": {
  "kernelspec": {
   "display_name": "Python 3",
   "language": "python",
   "name": "python3"
  },
  "language_info": {
   "codemirror_mode": {
    "name": "ipython",
    "version": 3
   },
   "file_extension": ".py",
   "mimetype": "text/x-python",
   "name": "python",
   "nbconvert_exporter": "python",
   "pygments_lexer": "ipython3",
   "version": "3.7.12"
  },
  "papermill": {
   "default_parameters": {},
   "duration": 8691.606969,
   "end_time": "2023-02-15T07:45:59.102924",
   "environment_variables": {},
   "exception": null,
   "input_path": "__notebook__.ipynb",
   "output_path": "__notebook__.ipynb",
   "parameters": {},
   "start_time": "2023-02-15T05:21:07.495955",
   "version": "2.3.4"
  }
 },
 "nbformat": 4,
 "nbformat_minor": 5
}
