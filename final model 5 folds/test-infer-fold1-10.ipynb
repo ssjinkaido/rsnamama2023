{
 "cells": [
  {
   "cell_type": "code",
   "execution_count": 1,
   "id": "04b4a8d0",
   "metadata": {
    "execution": {
     "iopub.execute_input": "2023-02-15T03:53:09.673640Z",
     "iopub.status.busy": "2023-02-15T03:53:09.673073Z",
     "iopub.status.idle": "2023-02-15T03:53:19.017299Z",
     "shell.execute_reply": "2023-02-15T03:53:19.016256Z"
    },
    "papermill": {
     "duration": 9.354345,
     "end_time": "2023-02-15T03:53:19.020176",
     "exception": false,
     "start_time": "2023-02-15T03:53:09.665831",
     "status": "completed"
    },
    "tags": []
   },
   "outputs": [],
   "source": [
    "import numpy as np\n",
    "import pandas as pd\n",
    "import random\n",
    "from glob import glob\n",
    "import os, shutil\n",
    "from tqdm import tqdm\n",
    "tqdm.pandas()\n",
    "import time\n",
    "import copy\n",
    "import joblib\n",
    "from collections import defaultdict\n",
    "import gc\n",
    "from IPython import display as ipd\n",
    "import math\n",
    "# visualization\n",
    "import cv2\n",
    "from glob import glob\n",
    "# Sklearn\n",
    "from sklearn.model_selection import StratifiedKFold, KFold, StratifiedGroupKFold\n",
    "from sklearn.metrics import accuracy_score, roc_auc_score, f1_score, confusion_matrix, roc_curve\n",
    "import timm\n",
    "# PyTorch \n",
    "import torch\n",
    "import torch.nn as nn\n",
    "import torch.optim as optim\n",
    "from torch.optim import lr_scheduler\n",
    "from torch.utils.data import Dataset, DataLoader\n",
    "from torch.cuda.amp import autocast, GradScaler\n",
    "import torch.nn.functional as F\n",
    "from torch.optim.swa_utils import AveragedModel, SWALR\n",
    "from transformers import get_cosine_schedule_with_warmup\n",
    "from collections import defaultdict\n",
    "# import matplotlib.pyplot as plt\n",
    "# Albumentations for augmentations\n",
    "import albumentations as A\n",
    "import albumentations\n",
    "import albumentations as albu\n",
    "from albumentations.pytorch import ToTensorV2\n",
    "from datetime import datetime\n",
    "import warnings\n",
    "warnings.filterwarnings(\"ignore\")"
   ]
  },
  {
   "cell_type": "code",
   "execution_count": 2,
   "id": "c49ea7a4",
   "metadata": {
    "execution": {
     "iopub.execute_input": "2023-02-15T03:53:19.030553Z",
     "iopub.status.busy": "2023-02-15T03:53:19.029536Z",
     "iopub.status.idle": "2023-02-15T03:53:19.101219Z",
     "shell.execute_reply": "2023-02-15T03:53:19.100023Z"
    },
    "papermill": {
     "duration": 0.07896,
     "end_time": "2023-02-15T03:53:19.103441",
     "exception": false,
     "start_time": "2023-02-15T03:53:19.024481",
     "status": "completed"
    },
    "tags": []
   },
   "outputs": [
    {
     "name": "stdout",
     "output_type": "stream",
     "text": [
      "cuda\n"
     ]
    }
   ],
   "source": [
    "class CFG:\n",
    "    seed = 1\n",
    "    model_name = \"tf_efficientnetv2_b2\"\n",
    "    train_bs = 16\n",
    "    valid_bs = train_bs*4\n",
    "    image_size = 1024\n",
    "    epochs = 25\n",
    "    device = torch.device(\"cuda\" if torch.cuda.is_available() else \"cpu\")\n",
    "\n",
    "print(CFG.device)"
   ]
  },
  {
   "cell_type": "code",
   "execution_count": 3,
   "id": "e60ab12e",
   "metadata": {
    "execution": {
     "iopub.execute_input": "2023-02-15T03:53:19.114143Z",
     "iopub.status.busy": "2023-02-15T03:53:19.112494Z",
     "iopub.status.idle": "2023-02-15T03:53:19.269651Z",
     "shell.execute_reply": "2023-02-15T03:53:19.268548Z"
    },
    "papermill": {
     "duration": 0.164419,
     "end_time": "2023-02-15T03:53:19.271865",
     "exception": false,
     "start_time": "2023-02-15T03:53:19.107446",
     "status": "completed"
    },
    "tags": []
   },
   "outputs": [
    {
     "data": {
      "text/html": [
       "<div>\n",
       "<style scoped>\n",
       "    .dataframe tbody tr th:only-of-type {\n",
       "        vertical-align: middle;\n",
       "    }\n",
       "\n",
       "    .dataframe tbody tr th {\n",
       "        vertical-align: top;\n",
       "    }\n",
       "\n",
       "    .dataframe thead th {\n",
       "        text-align: right;\n",
       "    }\n",
       "</style>\n",
       "<table border=\"1\" class=\"dataframe\">\n",
       "  <thead>\n",
       "    <tr style=\"text-align: right;\">\n",
       "      <th></th>\n",
       "      <th>site_id</th>\n",
       "      <th>patient_id</th>\n",
       "      <th>image_id</th>\n",
       "      <th>laterality</th>\n",
       "      <th>view</th>\n",
       "      <th>age</th>\n",
       "      <th>cancer</th>\n",
       "      <th>biopsy</th>\n",
       "      <th>invasive</th>\n",
       "      <th>BIRADS</th>\n",
       "      <th>implant</th>\n",
       "      <th>density</th>\n",
       "      <th>machine_id</th>\n",
       "      <th>difficult_negative_case</th>\n",
       "      <th>split</th>\n",
       "      <th>fold</th>\n",
       "    </tr>\n",
       "  </thead>\n",
       "  <tbody>\n",
       "    <tr>\n",
       "      <th>0</th>\n",
       "      <td>2</td>\n",
       "      <td>10006</td>\n",
       "      <td>462822612</td>\n",
       "      <td>L</td>\n",
       "      <td>CC</td>\n",
       "      <td>61.0</td>\n",
       "      <td>0</td>\n",
       "      <td>0</td>\n",
       "      <td>0</td>\n",
       "      <td>NaN</td>\n",
       "      <td>0</td>\n",
       "      <td>NaN</td>\n",
       "      <td>29</td>\n",
       "      <td>False</td>\n",
       "      <td>10006_L</td>\n",
       "      <td>0</td>\n",
       "    </tr>\n",
       "    <tr>\n",
       "      <th>1</th>\n",
       "      <td>2</td>\n",
       "      <td>10006</td>\n",
       "      <td>1459541791</td>\n",
       "      <td>L</td>\n",
       "      <td>MLO</td>\n",
       "      <td>61.0</td>\n",
       "      <td>0</td>\n",
       "      <td>0</td>\n",
       "      <td>0</td>\n",
       "      <td>NaN</td>\n",
       "      <td>0</td>\n",
       "      <td>NaN</td>\n",
       "      <td>29</td>\n",
       "      <td>False</td>\n",
       "      <td>10006_L</td>\n",
       "      <td>0</td>\n",
       "    </tr>\n",
       "    <tr>\n",
       "      <th>2</th>\n",
       "      <td>2</td>\n",
       "      <td>10006</td>\n",
       "      <td>1864590858</td>\n",
       "      <td>R</td>\n",
       "      <td>MLO</td>\n",
       "      <td>61.0</td>\n",
       "      <td>0</td>\n",
       "      <td>0</td>\n",
       "      <td>0</td>\n",
       "      <td>NaN</td>\n",
       "      <td>0</td>\n",
       "      <td>NaN</td>\n",
       "      <td>29</td>\n",
       "      <td>False</td>\n",
       "      <td>10006_R</td>\n",
       "      <td>2</td>\n",
       "    </tr>\n",
       "    <tr>\n",
       "      <th>3</th>\n",
       "      <td>2</td>\n",
       "      <td>10006</td>\n",
       "      <td>1874946579</td>\n",
       "      <td>R</td>\n",
       "      <td>CC</td>\n",
       "      <td>61.0</td>\n",
       "      <td>0</td>\n",
       "      <td>0</td>\n",
       "      <td>0</td>\n",
       "      <td>NaN</td>\n",
       "      <td>0</td>\n",
       "      <td>NaN</td>\n",
       "      <td>29</td>\n",
       "      <td>False</td>\n",
       "      <td>10006_R</td>\n",
       "      <td>2</td>\n",
       "    </tr>\n",
       "    <tr>\n",
       "      <th>4</th>\n",
       "      <td>2</td>\n",
       "      <td>10011</td>\n",
       "      <td>220375232</td>\n",
       "      <td>L</td>\n",
       "      <td>CC</td>\n",
       "      <td>55.0</td>\n",
       "      <td>0</td>\n",
       "      <td>0</td>\n",
       "      <td>0</td>\n",
       "      <td>0.0</td>\n",
       "      <td>0</td>\n",
       "      <td>NaN</td>\n",
       "      <td>21</td>\n",
       "      <td>True</td>\n",
       "      <td>10011_L</td>\n",
       "      <td>5</td>\n",
       "    </tr>\n",
       "  </tbody>\n",
       "</table>\n",
       "</div>"
      ],
      "text/plain": [
       "   site_id  patient_id    image_id laterality view   age  cancer  biopsy  \\\n",
       "0        2       10006   462822612          L   CC  61.0       0       0   \n",
       "1        2       10006  1459541791          L  MLO  61.0       0       0   \n",
       "2        2       10006  1864590858          R  MLO  61.0       0       0   \n",
       "3        2       10006  1874946579          R   CC  61.0       0       0   \n",
       "4        2       10011   220375232          L   CC  55.0       0       0   \n",
       "\n",
       "   invasive  BIRADS  implant density  machine_id  difficult_negative_case  \\\n",
       "0         0     NaN        0     NaN          29                    False   \n",
       "1         0     NaN        0     NaN          29                    False   \n",
       "2         0     NaN        0     NaN          29                    False   \n",
       "3         0     NaN        0     NaN          29                    False   \n",
       "4         0     0.0        0     NaN          21                     True   \n",
       "\n",
       "     split  fold  \n",
       "0  10006_L     0  \n",
       "1  10006_L     0  \n",
       "2  10006_R     2  \n",
       "3  10006_R     2  \n",
       "4  10011_L     5  "
      ]
     },
     "execution_count": 3,
     "metadata": {},
     "output_type": "execute_result"
    }
   ],
   "source": [
    "df = pd.read_csv(\"/kaggle/input/10folds/train_10folds.csv\")\n",
    "df.head()"
   ]
  },
  {
   "cell_type": "code",
   "execution_count": 4,
   "id": "5390ccba",
   "metadata": {
    "execution": {
     "iopub.execute_input": "2023-02-15T03:53:19.281888Z",
     "iopub.status.busy": "2023-02-15T03:53:19.281585Z",
     "iopub.status.idle": "2023-02-15T03:53:19.290516Z",
     "shell.execute_reply": "2023-02-15T03:53:19.289477Z"
    },
    "papermill": {
     "duration": 0.016238,
     "end_time": "2023-02-15T03:53:19.292676",
     "exception": false,
     "start_time": "2023-02-15T03:53:19.276438",
     "status": "completed"
    },
    "tags": []
   },
   "outputs": [
    {
     "name": "stderr",
     "output_type": "stream",
     "text": [
      "Date :02/15/2023, 03:53:19\n"
     ]
    }
   ],
   "source": [
    "def init_logger(log_file='train1.log'):\n",
    "    from logging import getLogger, INFO, FileHandler,  Formatter,  StreamHandler\n",
    "    logger = getLogger(__name__)\n",
    "    logger.setLevel(INFO)\n",
    "    handler1 = StreamHandler()\n",
    "    handler1.setFormatter(Formatter(\"%(message)s\"))\n",
    "    handler2 = FileHandler(filename=log_file)\n",
    "    handler2.setFormatter(Formatter(\"%(message)s\"))\n",
    "    logger.addHandler(handler1)\n",
    "    logger.addHandler(handler2)\n",
    "    return logger\n",
    "\n",
    "LOGGER = init_logger()\n",
    "now = datetime.now()\n",
    "datetime_now = now.strftime(\"%m/%d/%Y, %H:%M:%S\")\n",
    "LOGGER.info(f\"Date :{datetime_now}\")"
   ]
  },
  {
   "cell_type": "code",
   "execution_count": 5,
   "id": "04a66ebd",
   "metadata": {
    "execution": {
     "iopub.execute_input": "2023-02-15T03:53:19.303309Z",
     "iopub.status.busy": "2023-02-15T03:53:19.302984Z",
     "iopub.status.idle": "2023-02-15T03:53:19.320805Z",
     "shell.execute_reply": "2023-02-15T03:53:19.319763Z"
    },
    "papermill": {
     "duration": 0.027926,
     "end_time": "2023-02-15T03:53:19.324847",
     "exception": false,
     "start_time": "2023-02-15T03:53:19.296921",
     "status": "completed"
    },
    "tags": []
   },
   "outputs": [
    {
     "name": "stderr",
     "output_type": "stream",
     "text": [
      "train transformCompose([\n",
      "  VerticalFlip(always_apply=False, p=0.5),\n",
      "  ColorJitter(always_apply=False, p=0.5, brightness=[0.8, 1.2], contrast=[0.8, 1.2], saturation=[0.8, 1.2], hue=[-0.2, 0.2]),\n",
      "  ShiftScaleRotate(always_apply=False, p=0.5, shift_limit_x=(-0.0625, 0.0625), shift_limit_y=(-0.0625, 0.0625), scale_limit=(-0.050000000000000044, 0.050000000000000044), rotate_limit=(-10, 10), interpolation=1, border_mode=4, value=None, mask_value=None, rotate_method='largest_box'),\n",
      "  HorizontalFlip(always_apply=False, p=0.5),\n",
      "  Cutout(always_apply=False, p=0.5, num_holes=5, max_h_size=102, max_w_size=102),\n",
      "  ToTensorV2(always_apply=True, p=1.0, transpose_mask=False),\n",
      "], p=1.0, bbox_params=None, keypoint_params=None, additional_targets={})\n"
     ]
    }
   ],
   "source": [
    "from albumentations import DualTransform\n",
    "image_size = 1024\n",
    "def isotropically_resize_image(img, size, interpolation_down=cv2.INTER_AREA, interpolation_up=cv2.INTER_CUBIC):\n",
    "    h, w = img.shape[:2]\n",
    "    if max(w, h) == size:\n",
    "        return img\n",
    "    if w > h:\n",
    "        scale = size / w\n",
    "        h = h * scale\n",
    "        w = size\n",
    "    else:\n",
    "        scale = size / h\n",
    "        w = w * scale\n",
    "        h = size\n",
    "    interpolation = interpolation_up if scale > 1 else interpolation_down\n",
    "    resized = cv2.resize(img, (int(w), int(h)), interpolation=interpolation)\n",
    "    return resized\n",
    "\n",
    "\n",
    "class IsotropicResize(DualTransform):\n",
    "    def __init__(self, max_side, interpolation_down=cv2.INTER_AREA, interpolation_up=cv2.INTER_CUBIC,\n",
    "                 always_apply=False, p=1):\n",
    "        super(IsotropicResize, self).__init__(always_apply, p)\n",
    "        self.max_side = max_side\n",
    "        self.interpolation_down = interpolation_down\n",
    "        self.interpolation_up = interpolation_up\n",
    "\n",
    "    def apply(self, img, interpolation_down=cv2.INTER_AREA, interpolation_up=cv2.INTER_CUBIC, **params):\n",
    "        return isotropically_resize_image(img, size=self.max_side, interpolation_down=interpolation_down,\n",
    "                                          interpolation_up=interpolation_up)\n",
    "\n",
    "    def apply_to_mask(self, img, **params):\n",
    "        return self.apply(img, interpolation_down=cv2.INTER_NEAREST, interpolation_up=cv2.INTER_NEAREST, **params)\n",
    "\n",
    "    def get_transform_init_args_names(self):\n",
    "        return (\"max_side\", \"interpolation_down\", \"interpolation_up\")\n",
    "    \n",
    "data_transforms = {\n",
    "    \"train\": A.Compose([\n",
    "        # A.Resize(image_size, image_size),\n",
    "        # IsotropicResize(max_side = image_size),\n",
    "        # A.PadIfNeeded(min_height=image_size, min_width=image_size, border_mode=cv2.BORDER_CONSTANT),\n",
    "        # A.RandomBrightnessContrast(),\n",
    "        A.VerticalFlip(p=0.5),   \n",
    "        A.ColorJitter(p=0.5),\n",
    "        A.ShiftScaleRotate(shift_limit=0.0625, scale_limit=0.05, rotate_limit=10, p=0.5),\n",
    "        A.HorizontalFlip(p=0.5),\n",
    "        A.Cutout(max_h_size=int(image_size*0.1), max_w_size=int(image_size*0.1), num_holes=5, p=0.5), \n",
    "        # A.OneOf([\n",
    "        #         A.OpticalDistortion(),\n",
    "        #         A.IAAPiecewiseAffine(),\n",
    "        #     ], p=0.1),\n",
    "        # A.OneOf([\n",
    "        #     A.GaussNoise(),\n",
    "        #     A.MotionBlur(blur_limit=(3, 5)),\n",
    "        # ], p=0.1),\n",
    "        # A.ColorJitter(),\n",
    "        # A.ShiftScaleRotate(shift_limit=0.0625, scale_limit=0.05, rotate_limit=10, p=0.5),\n",
    "        # A.HorizontalFlip(p=0.5),\n",
    "        # A.Cutout(max_h_size=102, max_w_size=102, num_holes=5, p=0.5),\n",
    "        # A.CLAHE(p=1.0),\n",
    "        # albumentations.HorizontalFlip(p=0.5),\n",
    "        # # albumentations.VerticalFlip(p=0.5),\n",
    "        # albumentations.RandomBrightness(limit=0.2, p=0.75),\n",
    "        # albumentations.RandomContrast(limit=0.2, p=0.75),\n",
    "\n",
    "        # albumentations.OneOf([\n",
    "        #     albumentations.OpticalDistortion(distort_limit=1.),\n",
    "        #     albumentations.GridDistortion(num_steps=5, distort_limit=1.),\n",
    "        # ], p=0.75),\n",
    "\n",
    "        # albumentations.HueSaturationValue(hue_shift_limit=40, sat_shift_limit=40, val_shift_limit=0, p=0.75),\n",
    "        # albumentations.ShiftScaleRotate(shift_limit=0.2, scale_limit=0.3, rotate_limit=30, border_mode=0, p=0.75),\n",
    "        # A.Cutout(always_apply=False, p=0.5, num_holes=1, max_h_size=409, max_w_size=409),\n",
    "        # A.OneOf([ \n",
    "        # A.OpticalDistortion(distort_limit=1.0), \n",
    "        # A.GridDistortion(num_steps=5, distort_limit=1.),\n",
    "        # A.ElasticTransform(alpha=3), ], p=0.2),\n",
    "        # A.OneOf([\n",
    "        #     # A.GaussNoise(var_limit=[10, 50]),\n",
    "        #     A.GaussianBlur(),\n",
    "        #     A.MotionBlur(),\n",
    "        #     A.MedianBlur(), ], p=0.2),\n",
    "        # A.OneOf([\n",
    "        #     A.GridDistortion(num_steps=5, distort_limit=0.05, p=1.0),\n",
    "        #     A.OpticalDistortion(distort_limit=0.05, shift_limit=0.05, p=1.0),\n",
    "        #     A.ElasticTransform(alpha=1, sigma=50, alpha_affine=50, p=1.0)\n",
    "        # ], p=0.25),\n",
    "        # A.CoarseDropout(max_holes=8, max_height=image_size//20, max_width=image_size//20,\n",
    "        #                  min_holes=5, fill_value=0, mask_fill_value=0, p=0.5),\n",
    "        # A.Normalize(mean=0, std=1),\n",
    "        ToTensorV2(),], p=1.0),\n",
    "    \n",
    "    \"valid\": A.Compose([\n",
    "        # IsotropicResize(max_side =image_size),\n",
    "        # A.PadIfNeeded(min_height=image_size, min_width=image_size, border_mode=cv2.BORDER_CONSTANT),\n",
    "        # A.Normalize(mean=0, std=1),\n",
    "        # A.Resize(image_size, image_size),\n",
    "        ToTensorV2(),\n",
    "        ], p=1.0)\n",
    "}\n",
    "\n",
    "LOGGER.info(f\"train transform{data_transforms['train']}\")\n"
   ]
  },
  {
   "cell_type": "code",
   "execution_count": 6,
   "id": "422f6bb2",
   "metadata": {
    "execution": {
     "iopub.execute_input": "2023-02-15T03:53:19.334562Z",
     "iopub.status.busy": "2023-02-15T03:53:19.334289Z",
     "iopub.status.idle": "2023-02-15T03:53:19.445220Z",
     "shell.execute_reply": "2023-02-15T03:53:19.444052Z"
    },
    "papermill": {
     "duration": 0.11919,
     "end_time": "2023-02-15T03:53:19.448472",
     "exception": false,
     "start_time": "2023-02-15T03:53:19.329282",
     "status": "completed"
    },
    "tags": []
   },
   "outputs": [
    {
     "name": "stdout",
     "output_type": "stream",
     "text": [
      "torch.Size([3, 1344, 840]) tensor(0)\n",
      "tensor(249.)\n"
     ]
    }
   ],
   "source": [
    "def pad(array, target_shape):\n",
    "    return np.pad(\n",
    "        array,\n",
    "        [(0, target_shape[i] - array.shape[i]) for i in range(len(array.shape))],\n",
    "        \"constant\",\n",
    "    )\n",
    "\n",
    "def load_img2(img_path):\n",
    "    image = cv2.imread(img_path)\n",
    "    image = cv2.cvtColor(image, cv2.COLOR_BGR2RGB)\n",
    "    return image\n",
    "class BreastDataset(Dataset):\n",
    "    def __init__(self, df, transforms=None):\n",
    "        self.df = df\n",
    "        self.transforms = transforms\n",
    "        \n",
    "    def __getitem__(self, index):\n",
    "        row = self.df.iloc[index]\n",
    "        if (os.path.exists(f\"/kaggle/input/27300next/output/{row.patient_id}_{row.image_id}.png\")):\n",
    "            img_path = f\"/kaggle/input/27300next/output/{row.patient_id}_{row.image_id}.png\"\n",
    "        else:\n",
    "            img_path = f\"/kaggle/input/1024bicubic/output/{row.patient_id}_{row.image_id}.png\"\n",
    "        img = load_img2(img_path)\n",
    "        label = row['cancer']\n",
    "        # img = np.transpose(img, (2, 0, 1))\n",
    "        data = self.transforms(image=img)\n",
    "        img  = data['image']\n",
    "        # img = img/255\n",
    "        return torch.tensor(img).float(), torch.tensor(label).long()\n",
    "        \n",
    "    def __len__(self):\n",
    "        return len(self.df)\n",
    "    \n",
    "fold0 = df[df['fold']==0]\n",
    "train_dataset = BreastDataset(fold0, transforms = data_transforms['train'])\n",
    "image, label = train_dataset[0]\n",
    "print(image.shape, label)\n",
    "print(image.max())"
   ]
  },
  {
   "cell_type": "code",
   "execution_count": 7,
   "id": "6a9ac4c6",
   "metadata": {
    "execution": {
     "iopub.execute_input": "2023-02-15T03:53:19.461090Z",
     "iopub.status.busy": "2023-02-15T03:53:19.459381Z",
     "iopub.status.idle": "2023-02-15T03:53:19.466751Z",
     "shell.execute_reply": "2023-02-15T03:53:19.465764Z"
    },
    "papermill": {
     "duration": 0.015504,
     "end_time": "2023-02-15T03:53:19.469075",
     "exception": false,
     "start_time": "2023-02-15T03:53:19.453571",
     "status": "completed"
    },
    "tags": []
   },
   "outputs": [],
   "source": [
    "\n",
    "class ModelOld(nn.Module):\n",
    "    def __init__(self, model_name):\n",
    "        super().__init__()\n",
    "        # ,drop_rate = 0.3, drop_path_rate = 0.2\n",
    "        self.backbone = timm.create_model(CFG.model_name, pretrained=False,drop_rate = 0.3, drop_path_rate = 0.2)\n",
    "        self.fc = nn.Linear(self.backbone.classifier.in_features,2)\n",
    "        self.dropout = nn.Dropout(0.5)\n",
    "        self.backbone.classifier = nn.Identity()\n",
    "    def forward(self, x):\n",
    "        x = self.backbone(x)\n",
    "        x = self.fc(self.dropout(x))\n",
    "        return x\n"
   ]
  },
  {
   "cell_type": "code",
   "execution_count": 8,
   "id": "3ffdb9cc",
   "metadata": {
    "execution": {
     "iopub.execute_input": "2023-02-15T03:53:19.479667Z",
     "iopub.status.busy": "2023-02-15T03:53:19.478632Z",
     "iopub.status.idle": "2023-02-15T03:53:19.487979Z",
     "shell.execute_reply": "2023-02-15T03:53:19.487015Z"
    },
    "papermill": {
     "duration": 0.01688,
     "end_time": "2023-02-15T03:53:19.490226",
     "exception": false,
     "start_time": "2023-02-15T03:53:19.473346",
     "status": "completed"
    },
    "tags": []
   },
   "outputs": [],
   "source": [
    "class AverageMeter(object):\n",
    "    \"\"\"Computes and stores the average and current value\"\"\"\n",
    "    def __init__(self):\n",
    "        self.reset()\n",
    "\n",
    "    def reset(self):\n",
    "        self.val = 0\n",
    "        self.avg = 0\n",
    "        self.sum = 0\n",
    "        self.count = 0\n",
    "\n",
    "    def update(self, val, n=1):\n",
    "        self.val = val\n",
    "        self.sum += val * n\n",
    "        self.count += n\n",
    "        self.avg = self.sum / self.count\n",
    "\n",
    "\n",
    "def asMinutes(s):\n",
    "    m = math.floor(s / 60)\n",
    "    s -= m * 60\n",
    "    return '%dm %ds' % (m, s)\n",
    "\n",
    "\n",
    "def timeSince(since, percent):\n",
    "    now = time.time()\n",
    "    s = now - since\n",
    "    es = s / (percent)\n",
    "    rs = es - s\n",
    "    return '%s (remain %s)' % (asMinutes(s), asMinutes(rs))"
   ]
  },
  {
   "cell_type": "code",
   "execution_count": 9,
   "id": "02c5e626",
   "metadata": {
    "execution": {
     "iopub.execute_input": "2023-02-15T03:53:19.500616Z",
     "iopub.status.busy": "2023-02-15T03:53:19.500327Z",
     "iopub.status.idle": "2023-02-15T03:53:19.510437Z",
     "shell.execute_reply": "2023-02-15T03:53:19.509569Z"
    },
    "papermill": {
     "duration": 0.018186,
     "end_time": "2023-02-15T03:53:19.512639",
     "exception": false,
     "start_time": "2023-02-15T03:53:19.494453",
     "status": "completed"
    },
    "tags": []
   },
   "outputs": [],
   "source": [
    "\n",
    "def valid_fn_two(val_dataloader, model, criterion, device):\n",
    "    losses = AverageMeter()\n",
    "    model.eval()\n",
    "    truth = []\n",
    "    preds = []\n",
    "    valid_labels = []\n",
    "    start = end = time.time()\n",
    "    pbar = tqdm(enumerate(val_dataloader), total=len(val_dataloader), desc='Val')\n",
    "    for step, (images, labels) in pbar:\n",
    "        images = images.to(device, non_blocking=True)\n",
    "        labels = labels.to(device, non_blocking=True)\n",
    "        batch_size = labels.size(0)\n",
    "        with torch.no_grad():\n",
    "            outputs = model(images)\n",
    "        valid_labels.append(labels.cpu().numpy())\n",
    "        loss = criterion(outputs, labels)\n",
    "#         loss = bi_tempered_logistic_loss(outputs, labels, t1=0.8, t2 = 1.4)\n",
    "        losses.update(loss.item(), batch_size)\n",
    "#         print(outputs)\n",
    "        preds.append(F.softmax(outputs).to('cpu').numpy())\n",
    "        mem = torch.cuda.memory_reserved() / 1E9 if torch.cuda.is_available() else 0\n",
    "        pbar.set_postfix(eval_loss=f'{losses.avg:0.4f}',\n",
    "                        gpu_mem=f'{mem:0.2f} GB')\n",
    "    predictions = np.concatenate(preds)\n",
    "    valid_labels = np.concatenate(valid_labels)\n",
    "    return losses.avg, predictions, valid_labels\n"
   ]
  },
  {
   "cell_type": "code",
   "execution_count": 10,
   "id": "15c9899e",
   "metadata": {
    "execution": {
     "iopub.execute_input": "2023-02-15T03:53:19.523469Z",
     "iopub.status.busy": "2023-02-15T03:53:19.523185Z",
     "iopub.status.idle": "2023-02-15T03:53:19.756154Z",
     "shell.execute_reply": "2023-02-15T03:53:19.755043Z"
    },
    "papermill": {
     "duration": 0.242197,
     "end_time": "2023-02-15T03:53:19.759335",
     "exception": false,
     "start_time": "2023-02-15T03:53:19.517138",
     "status": "completed"
    },
    "tags": []
   },
   "outputs": [
    {
     "name": "stdout",
     "output_type": "stream",
     "text": [
      "> SEEDING DONE\n"
     ]
    },
    {
     "name": "stderr",
     "output_type": "stream",
     "text": [
      "5 fold\n"
     ]
    },
    {
     "name": "stderr",
     "output_type": "stream",
     "text": [
      "Fold: 1\n"
     ]
    },
    {
     "name": "stderr",
     "output_type": "stream",
     "text": [
      "Model name: tf_efficientnetv2_b2\n"
     ]
    },
    {
     "name": "stderr",
     "output_type": "stream",
     "text": [
      "Len valid df: 5470\n"
     ]
    }
   ],
   "source": [
    "\n",
    "def pfbeta(labels, predictions, beta=1):\n",
    "    y_true_count = 0\n",
    "    ctp = 0\n",
    "    cfp = 0\n",
    "\n",
    "    for idx in range(len(labels)):\n",
    "        prediction = min(max(predictions[idx], 0), 1)\n",
    "        if (labels[idx]):\n",
    "            y_true_count += 1\n",
    "            ctp += prediction\n",
    "        else:\n",
    "            cfp += prediction\n",
    "\n",
    "    beta_squared = beta * beta\n",
    "    c_precision = ctp / (ctp + cfp)\n",
    "    c_recall = ctp / y_true_count\n",
    "    if (c_precision > 0 and c_recall > 0):\n",
    "        result = (1 + beta_squared) * (c_precision * c_recall) / (beta_squared * c_precision + c_recall)\n",
    "        return result\n",
    "    else:\n",
    "        return 0\n",
    "\n",
    "def pfbeta_np(labels, preds, beta=1):\n",
    "    preds = preds.clip(0, 1)\n",
    "    y_true_count = labels.sum()\n",
    "    ctp = preds[labels==1].sum()\n",
    "    cfp = preds[labels==0].sum()\n",
    "    beta_squared = beta * beta\n",
    "    c_precision = ctp / (ctp + cfp)\n",
    "    c_recall = ctp / y_true_count\n",
    "    if (c_precision > 0 and c_recall > 0):\n",
    "        result = (1 + beta_squared) * (c_precision * c_recall) / (beta_squared * c_precision + c_recall)\n",
    "        return result\n",
    "    else:\n",
    "        return 0.0\n",
    "    \n",
    "def dfs_freeze(module):\n",
    "    for param in module.parameters():\n",
    "        param.requires_grad = False\n",
    "        \n",
    "def dfs_unfreeze(module):\n",
    "    for param in module.parameters():\n",
    "        param.requires_grad = True\n",
    "    \n",
    "def set_seed(seed = 42):\n",
    "    '''Sets the seed of the entire notebook so results are the same every time we run.\n",
    "    This is for REPRODUCIBILITY.'''\n",
    "    np.random.seed(seed)\n",
    "    random.seed(seed)\n",
    "    torch.manual_seed(seed)\n",
    "    torch.cuda.manual_seed(seed)\n",
    "    # When running on the CuDNN backend, two further options must be set\n",
    "    torch.backends.cudnn.deterministic = True\n",
    "    torch.backends.cudnn.benchmark = False\n",
    "    # Set a fixed value for the hash seed\n",
    "    os.environ['PYTHONHASHSEED'] = str(seed)\n",
    "    print('> SEEDING DONE')\n",
    "\n",
    "def sigmoid(x):\n",
    "  return 1 / (1 + math.exp(-x))\n",
    "def valid_fn_two(val_dataloader, model, criterion, device):\n",
    "    losses = AverageMeter()\n",
    "    model.eval()\n",
    "    preds = []\n",
    "    pbar = tqdm(enumerate(val_dataloader), total=len(val_dataloader), desc='Val')\n",
    "    for step, (images, labels) in pbar:\n",
    "        images = images.to(device, non_blocking=True)\n",
    "        labels = labels.to(device, non_blocking=True)\n",
    "        batch_size = labels.size(0)\n",
    "        with torch.no_grad():\n",
    "            with autocast(enabled=True):\n",
    "                outputs = model(images)\n",
    "                loss = criterion(outputs, labels)\n",
    "#         loss = bi_tempered_logistic_loss(outputs, labels, t1=0.8, t2 = 1.4)\n",
    "        losses.update(loss.item(), batch_size)\n",
    "#         print(outputs)\n",
    "        preds.append(F.softmax(outputs).to('cpu').numpy())\n",
    "        mem = torch.cuda.memory_reserved() / 1E9 if torch.cuda.is_available() else 0\n",
    "        pbar.set_postfix(eval_loss=f'{losses.avg:0.4f}',\n",
    "                        gpu_mem=f'{mem:0.2f} GB')\n",
    "    predictions = np.concatenate(preds)\n",
    "    return losses.avg, predictions\n",
    "set_seed(1)\n",
    "gc.collect()\n",
    "torch.cuda.empty_cache()\n",
    "for fold in [1]:\n",
    "    LOGGER.info(\"5 fold\")\n",
    "    LOGGER.info(f\"Fold: {fold}\")\n",
    "    LOGGER.info(f\"Model name: {CFG.model_name}\")\n",
    "    valid_df = df[df['fold']==fold].reset_index(drop=True)\n",
    "    LOGGER.info(f\"Len valid df: {len(valid_df)}\")\n",
    "    \n",
    "    valid_dataset = BreastDataset(valid_df, transforms=data_transforms['valid'])\n",
    "\n",
    "    valid_loader = DataLoader(valid_dataset, batch_size = CFG.valid_bs, \n",
    "                                  num_workers=1, shuffle=False, pin_memory=True, drop_last=False)\n",
    "    # model = Model(model_name=CFG.model_name).to(device)\n",
    "    best_f1 = 0\n",
    "    best_metric = 0\n",
    "    total_epoch = 30\n",
    "    warmup = 1\n",
    "#     model = ModelOld(model_name=CFG.model_name).to(CFG.device)\n",
    "#     checkpoint = torch.load(\"/kaggle/input/10folds/tf_efficientnetv2_b2_fold_0_model_epoch_2_0.5510_0.151.pth\")\n",
    "#     model.load_state_dict(checkpoint['state_dict'])\n",
    "#     criterion = nn.CrossEntropyLoss().to(CFG.device)\n",
    "#     LOGGER.info(f\"Train bs: {CFG.train_bs}\")\n",
    "#     # LOGGER.info(f\"Model: {model}\")\n",
    "#     LOGGER.info(f\"{model.__class__.__name__}\")\n",
    "#     LOGGER.info(f\"optimizer: {optimizer}\")\n",
    "#     LOGGER.info(f\"total_epoch :{total_epoch}\")\n",
    "#     LOGGER.info(f\"Warmup: {warmup}\")\n",
    "#     for epoch in range(1, total_epoch+1):\n",
    "#         LOGGER.info(f\"Epoch: {epoch}/{total_epoch}\")\n",
    "#         # loss_train = train_fn(train_loader, model, criterion, optimizer, epoch, scheduler, CFG.device)\n",
    "#         loss_valid, valid_preds = valid_fn_two(valid_loader, model, criterion, CFG.device)\n",
    "#         valid_preds = valid_preds[:, 1]\n",
    "#         valid_df['prediction_id'] = valid_df['patient_id'].astype(str) + '_' + valid_df['laterality'].astype(str)\n",
    "#         valid_preds = np.array(valid_preds).flatten()\n",
    "        \n",
    "#         valid_df['raw_pred'] = valid_preds\n",
    "#         LOGGER.info(f\"Valid loss:{loss_valid:.4f}\")\n",
    "#         # LOGGER.info(f\"Train loss:{loss_train:.4f}, Valid loss:{loss_valid:.4f}\")\n",
    "#         # print(valid_df.head())\n",
    "#         grp_df = valid_df.groupby('prediction_id')['raw_pred', 'cancer'].mean()\n",
    "#         grp_df['cancer'] = grp_df['cancer'].astype(np.int)\n",
    "#         valid_labels_mean = grp_df['cancer'].values\n",
    "#         valid_preds_mean = grp_df['raw_pred'].values\n",
    "#         # print(valid_labels[:5], valid_preds_mean[:5])\n",
    "#         val_metric_mean = pfbeta(valid_labels_mean, valid_preds_mean)\n",
    "#         LOGGER.info(f\"Val metric mean prob: {val_metric_mean:.4f}\")\n",
    "#         best_metric_mean_at_epoch = 0\n",
    "#         best_metric1 = 0\n",
    "#         best_threshold_mean = 0\n",
    "#         best_auc = 0\n",
    "#         best_cf = None\n",
    "#         for i in np.arange(0.001, 0.599, 0.001):\n",
    "#             valid_argmax = (valid_preds_mean>i).astype(np.int32)\n",
    "#     #             print(valid_argmax)\n",
    "#             # val_metric = pfbeta(valid_labels_mean, valid_argmax)\n",
    "#             val_metric1 = pfbeta_np(valid_labels_mean, valid_argmax)\n",
    "#             val_acc = accuracy_score(valid_labels_mean, valid_argmax)\n",
    "#             val_f1 = f1_score(valid_labels_mean, valid_argmax)\n",
    "#             val_auc = roc_auc_score(valid_labels_mean, valid_argmax)\n",
    "#             cf = confusion_matrix(valid_labels_mean, valid_argmax)\n",
    "#             if val_metric1> best_metric1:\n",
    "#                 best_metric1 = val_metric1\n",
    "#                 # best_metric_mean_at_epoch = val_metric\n",
    "#                 best_threshold_mean = i\n",
    "#                 best_auc = val_auc\n",
    "#                 best_cf = cf\n",
    "#         LOGGER.info(f\"Best metric at epoch {epoch}: {best_metric1:.4f} {best_threshold_mean:.4f}  {best_auc:.4f}\")\n",
    "#         LOGGER.info(f\"Cf: {best_cf}\")\n",
    "#         if best_metric1> best_metric:\n",
    "\n",
    "#             LOGGER.info(f\"Model improve: {best_metric:.4f} -> {best_metric1:.4f}\")\n",
    "#             best_metric = best_metric1\n",
    "#         state = {'epoch': epoch, 'state_dict': model.state_dict()}\n",
    "#         # state = {'epoch': epoch, 'state_dict': model.state_dict(),'optimizer': optimizer.state_dict(), 'scheduler':scheduler.state_dict()}\n",
    "#         path = f'foldonefive/{CFG.model_name}_fold_{fold}_model_epoch_{epoch}_{best_metric1:.4f}_{best_threshold_mean:.3f}.pth'\n",
    "#         torch.save(state, path)\n",
    "\n",
    "        "
   ]
  },
  {
   "cell_type": "code",
   "execution_count": 11,
   "id": "4fb4b535",
   "metadata": {
    "execution": {
     "iopub.execute_input": "2023-02-15T03:53:19.771111Z",
     "iopub.status.busy": "2023-02-15T03:53:19.770794Z",
     "iopub.status.idle": "2023-02-15T03:53:19.994018Z",
     "shell.execute_reply": "2023-02-15T03:53:19.993002Z"
    },
    "papermill": {
     "duration": 0.232657,
     "end_time": "2023-02-15T03:53:19.996969",
     "exception": false,
     "start_time": "2023-02-15T03:53:19.764312",
     "status": "completed"
    },
    "tags": []
   },
   "outputs": [],
   "source": [
    "import optuna\n",
    "from optuna.samplers import TPESampler\n",
    "\n",
    "def valid_fn_two(val_dataloader, model, criterion, device):\n",
    "    losses = AverageMeter()\n",
    "    model.eval()\n",
    "    preds = []\n",
    "    pbar = tqdm(enumerate(val_dataloader), total=len(val_dataloader), desc='Val')\n",
    "    for step, (images, labels) in pbar:\n",
    "        images = images.to(device, non_blocking=True)\n",
    "        labels = labels.to(device, non_blocking=True)\n",
    "        batch_size = labels.size(0)\n",
    "        with torch.no_grad():\n",
    "            with autocast(enabled=True):\n",
    "                outputs = model(images)\n",
    "                loss = criterion(outputs, labels)\n",
    "#         loss = bi_tempered_logistic_loss(outputs, labels, t1=0.8, t2 = 1.4)\n",
    "        losses.update(loss.item(), batch_size)\n",
    "#         print(outputs)\n",
    "        preds.append(F.softmax(outputs).to('cpu').numpy())\n",
    "        mem = torch.cuda.memory_reserved() / 1E9 if torch.cuda.is_available() else 0\n",
    "        pbar.set_postfix(eval_loss=f'{losses.avg:0.4f}',\n",
    "                        gpu_mem=f'{mem:0.2f} GB')\n",
    "    predictions = np.concatenate(preds)\n",
    "    return losses.avg, predictions\n",
    "# set_seed(1)\n",
    "# out_file = 'swa_model_fold0_10.pth' \n",
    "# iteration = [\n",
    "#     '/kaggle/input/10folds/tf_efficientnetv2_b2_fold_0_model_epoch_2_0.5510_0.151.pth',\n",
    "#     '/kaggle/input/10folds/tf_efficientnetv2_b2_fold_0_model_epoch_13_0.5750_0.437.pth',\n",
    "# #     '/kaggle/input/10folds/tf_efficientnetv2_b2_fold_2_model_epoch_7_0.4848_0.266.pth'\n",
    "# ]\n",
    "\n",
    "# criterion = nn.CrossEntropyLoss().to(CFG.device)\n",
    "# best_metric = 0\n",
    "# torch.cuda.empty_cache()\n",
    "# def objective(trial):\n",
    "# #     a1 = 0.4962849464623993 \n",
    "# #     a2 = 0.5037150535376007\n",
    "# #     a1 = 0.1689507073116359 \n",
    "# #     a2 = 0.47142151346976024 \n",
    "# #     a3 = 0.3596277792186039\n",
    "#     a1 = trial.suggest_uniform('a1', 0.01, 0.79)\n",
    "#     a2 = 1-a1\n",
    "# #     a2 = trial.suggest_uniform('a2', 0.1, 1-a1)\n",
    "# #     a3 = 1-a1-a2\n",
    "#     state_dict = None\n",
    "#     for i in iteration:\n",
    "#         f = i\n",
    "#         print(f)\n",
    "#         f = torch.load(f, map_location=lambda storage, loc: storage)\n",
    "#         if state_dict is None:\n",
    "#             print(\"none: \", i)\n",
    "#             state_dict = f['state_dict']\n",
    "#             key = list(f['state_dict'].keys())\n",
    "#             for k in key:\n",
    "#                 state_dict[k] = f['state_dict'][k]*a1\n",
    "#         elif i=='/kaggle/input/10folds/tf_efficientnetv2_b2_fold_0_model_epoch_13_0.5750_0.437.pth': \n",
    "#             print(\"hehe\", i)\n",
    "#             key = list(f['state_dict'].keys())\n",
    "#             for k in key:\n",
    "#                 state_dict[k] = state_dict[k] + a2*f['state_dict'][k]\n",
    "# #         elif i=='/kaggle/input/10folds/tf_efficientnetv2_b2_fold_2_model_epoch_7_0.4848_0.266.pth':\n",
    "# #             print(\"noob\", i)\n",
    "# #             key = list(f['state_dict'].keys())\n",
    "# #             for k in key:\n",
    "# #                 state_dict[k] = state_dict[k] + a3*f['state_dict'][k]\n",
    "#     print(a1, a2)\n",
    "#     # for k in key:\n",
    "#     #     state_dict[k] = state_dict[k] / len(iteration)\n",
    "#     print('')\n",
    "\n",
    "#     # print(out_file)\n",
    "#     torch.save({'state_dict': state_dict}, out_file)\n",
    "\n",
    "#     model = ModelOld(model_name=CFG.model_name).to(CFG.device)\n",
    "#     checkpoint = torch.load(\"swa_model_fold0_10.pth\")\n",
    "#     model.load_state_dict(checkpoint['state_dict'])\n",
    "# #     model = nn.DataParallel(model)\n",
    "\n",
    "#     loss_valid, valid_preds = valid_fn_two(valid_loader, model, criterion, CFG.device)\n",
    "#     valid_preds = valid_preds[:, 1]\n",
    "#     valid_df['prediction_id'] = valid_df['patient_id'].astype(str) + '_' + valid_df['laterality'].astype(str)\n",
    "#     valid_preds = np.array(valid_preds).flatten()\n",
    "    \n",
    "#     valid_df['raw_pred'] = valid_preds\n",
    "#     LOGGER.info(f\"Valid loss:{loss_valid:.4f}\")\n",
    "#     grp_df = valid_df.groupby('prediction_id')['raw_pred', 'cancer'].mean()\n",
    "#     grp_df['cancer'] = grp_df['cancer'].astype(np.int)\n",
    "#     valid_labels_mean = grp_df['cancer'].values\n",
    "#     valid_preds_mean = grp_df['raw_pred'].values\n",
    "#     # print(valid_labels[:5], valid_preds_mean[:5])\n",
    "#     val_metric_mean = pfbeta(valid_labels_mean, valid_preds_mean)\n",
    "#     LOGGER.info(f\"Val metric mean prob: {val_metric_mean:.4f}\")\n",
    "#     best_metric_mean_at_epoch = 0\n",
    "#     best_metric = 0\n",
    "    \n",
    "#     best_threshold_mean = 0\n",
    "#     best_auc = 0\n",
    "#     best_cf = None\n",
    "#     for i in np.arange(0.001, 0.599, 0.001):\n",
    "#         valid_argmax = (valid_preds_mean>i).astype(np.int32)\n",
    "#         val_metric = pfbeta_np(valid_labels_mean, valid_argmax)\n",
    "#         val_acc = accuracy_score(valid_labels_mean, valid_argmax)\n",
    "#         val_f1 = f1_score(valid_labels_mean, valid_argmax)\n",
    "#         val_auc = roc_auc_score(valid_labels_mean, valid_argmax)\n",
    "#         cf = confusion_matrix(valid_labels_mean, valid_argmax)\n",
    "#         if val_metric> best_metric:\n",
    "#             best_metric = val_metric\n",
    "#             # best_metric_mean_at_epoch = val_metric\n",
    "#             best_threshold_mean = i\n",
    "#             best_auc = val_auc\n",
    "#             best_cf = cf\n",
    "#     state = {'state_dict': model.state_dict()}\n",
    "#     path = f'swa_{CFG.model_name}_fold_{fold}_model_{best_metric:.4f}_{best_threshold_mean:.4f}.pth'\n",
    "#     torch.save(state, path)\n",
    "    \n",
    "#     LOGGER.info(f\"Best metric at: {best_metric:.4f} {best_threshold_mean:.4f}  {best_auc:.4f}\")\n",
    "#     LOGGER.info(f\"Cf: {best_cf}\")\n",
    "#     return best_metric\n",
    "\n",
    "# study = optuna.create_study(direction='maximize', sampler = TPESampler(seed=1))\n",
    "# study.optimize(func=objective, n_trials=40)\n",
    "# study.best_params\n",
    "# # 0.5563409550491111 0.4436590449508889 fold 0\n",
    "# # 0.12634002523631388 0.8351954705276587 0.03846450423602743 0.5393 \n",
    "# # 0.583301614081906 0.3673525472043472 0.04934583871374687 fold 2 0.50\n",
    "# # 0.1689507073116359 0.47142151346976024 0.3596277792186039 fold 2 0.5055 0.5055 0.3670  0.7261"
   ]
  },
  {
   "cell_type": "code",
   "execution_count": 12,
   "id": "43eb35fe",
   "metadata": {
    "execution": {
     "iopub.execute_input": "2023-02-15T03:53:20.008279Z",
     "iopub.status.busy": "2023-02-15T03:53:20.007889Z",
     "iopub.status.idle": "2023-02-15T03:53:20.015684Z",
     "shell.execute_reply": "2023-02-15T03:53:20.014740Z"
    },
    "papermill": {
     "duration": 0.015975,
     "end_time": "2023-02-15T03:53:20.017898",
     "exception": false,
     "start_time": "2023-02-15T03:53:20.001923",
     "status": "completed"
    },
    "tags": []
   },
   "outputs": [],
   "source": [
    "# set_seed(1)\n",
    "# out_file = 'swa_model_fold2_10.pth' \n",
    "# iteration = [\n",
    "#     '/kaggle/input/10folds/tf_efficientnetv2_b2_fold_2_model_epoch_5_0.4598_0.286.pth',\n",
    "#     '/kaggle/input/10folds/tf_efficientnetv2_b2_fold_2_model_epoch_3_0.4615_0.250.pth',\n",
    "#     '/kaggle/input/10folds/tf_efficientnetv2_b2_fold_2_model_epoch_7_0.4848_0.266.pth'\n",
    "# ]\n",
    "\n",
    "# criterion = nn.CrossEntropyLoss().to(CFG.device)\n",
    "# best_metric = 0\n",
    "# torch.cuda.empty_cache()\n",
    "# def objective(trial):\n",
    "#     a1 = 0.12634002523631388\n",
    "#     a2 = 0.8351954705276587\n",
    "#     a3 = 0.03846450423602743\n",
    "# #     a1 = trial.suggest_uniform('a1', 0.1, 0.79)\n",
    "# #     a2 = trial.suggest_uniform('a2', 0.1, 1-a1)\n",
    "# #     a3 = 1-a1-a2\n",
    "#     state_dict = None\n",
    "#     for i in iteration:\n",
    "#         f = i\n",
    "#         print(f)\n",
    "#         f = torch.load(f, map_location=lambda storage, loc: storage)\n",
    "#         if state_dict is None:\n",
    "#             print(\"none: \", i)\n",
    "#             state_dict = f['state_dict']\n",
    "#             key = list(f['state_dict'].keys())\n",
    "#             for k in key:\n",
    "#                 state_dict[k] = f['state_dict'][k]*a1\n",
    "#         elif i=='/kaggle/input/10folds/tf_efficientnetv2_b2_fold_2_model_epoch_3_0.4615_0.250.pth': \n",
    "#             print(\"hehe\", i)\n",
    "#             key = list(f['state_dict'].keys())\n",
    "#             for k in key:\n",
    "#                 state_dict[k] = state_dict[k] + a2*f['state_dict'][k]\n",
    "#         elif i=='/kaggle/input/10folds/tf_efficientnetv2_b2_fold_2_model_epoch_7_0.4848_0.266.pth':\n",
    "#             print(\"noob\", i)\n",
    "#             key = list(f['state_dict'].keys())\n",
    "#             for k in key:\n",
    "#                 state_dict[k] = state_dict[k] + a3*f['state_dict'][k]\n",
    "#     print(a1, a2, a3)\n",
    "#     # for k in key:\n",
    "#     #     state_dict[k] = state_dict[k] / len(iteration)\n",
    "#     print('')\n",
    "\n",
    "#     # print(out_file)\n",
    "#     torch.save({'state_dict': state_dict}, out_file)\n",
    "\n",
    "#     model = ModelOld(model_name=CFG.model_name).to(CFG.device)\n",
    "#     checkpoint = torch.load(\"swa_model_fold2_10.pth\")\n",
    "#     model.load_state_dict(checkpoint['state_dict'])\n",
    "# #     model = nn.DataParallel(model)\n",
    "\n",
    "#     loss_valid, valid_preds = valid_fn_two(valid_loader, model, criterion, CFG.device)\n",
    "#     valid_preds = valid_preds[:, 1]\n",
    "#     valid_df['prediction_id'] = valid_df['patient_id'].astype(str) + '_' + valid_df['laterality'].astype(str)\n",
    "#     valid_preds = np.array(valid_preds).flatten()\n",
    "    \n",
    "#     valid_df['raw_pred'] = valid_preds\n",
    "#     LOGGER.info(f\"Valid loss:{loss_valid:.4f}\")\n",
    "#     grp_df = valid_df.groupby('prediction_id')['raw_pred', 'cancer'].mean()\n",
    "#     grp_df['cancer'] = grp_df['cancer'].astype(np.int)\n",
    "#     valid_labels_mean = grp_df['cancer'].values\n",
    "#     valid_preds_mean = grp_df['raw_pred'].values\n",
    "#     # print(valid_labels[:5], valid_preds_mean[:5])\n",
    "#     val_metric_mean = pfbeta(valid_labels_mean, valid_preds_mean)\n",
    "#     LOGGER.info(f\"Val metric mean prob: {val_metric_mean:.4f}\")\n",
    "#     best_metric_mean_at_epoch = 0\n",
    "#     best_metric = 0\n",
    "    \n",
    "#     best_threshold_mean = 0\n",
    "#     best_auc = 0\n",
    "#     best_cf = None\n",
    "#     for i in np.arange(0.001, 0.599, 0.001):\n",
    "#         valid_argmax = (valid_preds_mean>i).astype(np.int32)\n",
    "#         val_metric = pfbeta_np(valid_labels_mean, valid_argmax)\n",
    "#         val_acc = accuracy_score(valid_labels_mean, valid_argmax)\n",
    "#         val_f1 = f1_score(valid_labels_mean, valid_argmax)\n",
    "#         val_auc = roc_auc_score(valid_labels_mean, valid_argmax)\n",
    "#         cf = confusion_matrix(valid_labels_mean, valid_argmax)\n",
    "#         if val_metric> best_metric:\n",
    "#             best_metric = val_metric\n",
    "#             # best_metric_mean_at_epoch = val_metric\n",
    "#             best_threshold_mean = i\n",
    "#             best_auc = val_auc\n",
    "#             best_cf = cf\n",
    "#     state = {'state_dict': model.state_dict()}\n",
    "#     path = f'swa_{CFG.model_name}_fold_{fold}_model_{best_metric:.4f}_{best_threshold_mean:.3f}.pth'\n",
    "#     torch.save(state, path)\n",
    "    \n",
    "#     LOGGER.info(f\"Best metric at: {best_metric:.4f} {best_threshold_mean:.4f}  {best_auc:.4f}\")\n",
    "#     LOGGER.info(f\"Cf: {best_cf}\")\n",
    "#     return best_metric\n",
    "\n",
    "# study = optuna.create_study(direction='maximize', sampler = TPESampler(seed=666))\n",
    "# study.optimize(func=objective, n_trials=40)\n",
    "# study.best_params"
   ]
  },
  {
   "cell_type": "code",
   "execution_count": 13,
   "id": "6d9e4999",
   "metadata": {
    "execution": {
     "iopub.execute_input": "2023-02-15T03:53:20.029105Z",
     "iopub.status.busy": "2023-02-15T03:53:20.028774Z"
    },
    "papermill": {
     "duration": null,
     "end_time": null,
     "exception": false,
     "start_time": "2023-02-15T03:53:20.022865",
     "status": "running"
    },
    "tags": []
   },
   "outputs": [
    {
     "name": "stderr",
     "output_type": "stream",
     "text": [
      "\u001b[32m[I 2023-02-15 03:53:20,046]\u001b[0m A new study created in memory with name: no-name-89cdc3dc-3ffc-4246-a334-4b3df16c51bc\u001b[0m\n"
     ]
    },
    {
     "name": "stdout",
     "output_type": "stream",
     "text": [
      "> SEEDING DONE\n",
      "/kaggle/input/10folds/tf_efficientnetv2_b2_fold_1_model_epoch_3_0.5055_0.360.pth\n"
     ]
    },
    {
     "name": "stdout",
     "output_type": "stream",
     "text": [
      "none:  /kaggle/input/10folds/tf_efficientnetv2_b2_fold_1_model_epoch_3_0.5055_0.360.pth\n",
      "/kaggle/input/10folds/tf_efficientnetv2_b2_fold_1_model_epoch_5_0.4865_0.324.pth\n"
     ]
    },
    {
     "name": "stdout",
     "output_type": "stream",
     "text": [
      "hehe /kaggle/input/10folds/tf_efficientnetv2_b2_fold_1_model_epoch_5_0.4865_0.324.pth\n",
      "0.696428379420678 0.30357162057932197\n",
      "\n"
     ]
    },
    {
     "name": "stderr",
     "output_type": "stream",
     "text": [
      "\r",
      "Val:   0%|          | 0/86 [00:00<?, ?it/s]"
     ]
    },
    {
     "name": "stderr",
     "output_type": "stream",
     "text": [
      "\r",
      "Val:   0%|          | 0/86 [00:12<?, ?it/s, eval_loss=0.0552, gpu_mem=6.91 GB]"
     ]
    },
    {
     "name": "stderr",
     "output_type": "stream",
     "text": [
      "\r",
      "Val:   1%|          | 1/86 [00:12<17:23, 12.28s/it, eval_loss=0.0552, gpu_mem=6.91 GB]"
     ]
    },
    {
     "name": "stderr",
     "output_type": "stream",
     "text": [
      "\r",
      "Val:   1%|          | 1/86 [00:13<17:23, 12.28s/it, eval_loss=0.0431, gpu_mem=6.91 GB]"
     ]
    },
    {
     "name": "stderr",
     "output_type": "stream",
     "text": [
      "\r",
      "Val:   2%|▏         | 2/86 [00:13<08:03,  5.75s/it, eval_loss=0.0431, gpu_mem=6.91 GB]"
     ]
    },
    {
     "name": "stderr",
     "output_type": "stream",
     "text": [
      "\r",
      "Val:   2%|▏         | 2/86 [00:14<08:03,  5.75s/it, eval_loss=0.0889, gpu_mem=6.91 GB]"
     ]
    },
    {
     "name": "stderr",
     "output_type": "stream",
     "text": [
      "\r",
      "Val:   3%|▎         | 3/86 [00:14<05:04,  3.67s/it, eval_loss=0.0889, gpu_mem=6.91 GB]"
     ]
    },
    {
     "name": "stderr",
     "output_type": "stream",
     "text": [
      "\r",
      "Val:   3%|▎         | 3/86 [00:16<05:04,  3.67s/it, eval_loss=0.0997, gpu_mem=6.91 GB]"
     ]
    },
    {
     "name": "stderr",
     "output_type": "stream",
     "text": [
      "\r",
      "Val:   5%|▍         | 4/86 [00:16<04:05,  3.00s/it, eval_loss=0.0997, gpu_mem=6.91 GB]"
     ]
    },
    {
     "name": "stderr",
     "output_type": "stream",
     "text": [
      "\r",
      "Val:   5%|▍         | 4/86 [00:19<04:05,  3.00s/it, eval_loss=0.0955, gpu_mem=6.91 GB]"
     ]
    },
    {
     "name": "stderr",
     "output_type": "stream",
     "text": [
      "\r",
      "Val:   6%|▌         | 5/86 [00:19<03:55,  2.91s/it, eval_loss=0.0955, gpu_mem=6.91 GB]"
     ]
    },
    {
     "name": "stderr",
     "output_type": "stream",
     "text": [
      "\r",
      "Val:   6%|▌         | 5/86 [00:21<03:55,  2.91s/it, eval_loss=0.0924, gpu_mem=6.91 GB]"
     ]
    },
    {
     "name": "stderr",
     "output_type": "stream",
     "text": [
      "\r",
      "Val:   7%|▋         | 6/86 [00:21<03:42,  2.78s/it, eval_loss=0.0924, gpu_mem=6.91 GB]"
     ]
    },
    {
     "name": "stderr",
     "output_type": "stream",
     "text": [
      "\r",
      "Val:   7%|▋         | 6/86 [00:24<03:42,  2.78s/it, eval_loss=0.0847, gpu_mem=6.91 GB]"
     ]
    },
    {
     "name": "stderr",
     "output_type": "stream",
     "text": [
      "\r",
      "Val:   8%|▊         | 7/86 [00:24<03:34,  2.71s/it, eval_loss=0.0847, gpu_mem=6.91 GB]"
     ]
    },
    {
     "name": "stderr",
     "output_type": "stream",
     "text": [
      "\r",
      "Val:   8%|▊         | 7/86 [00:27<03:34,  2.71s/it, eval_loss=0.0818, gpu_mem=6.91 GB]"
     ]
    },
    {
     "name": "stderr",
     "output_type": "stream",
     "text": [
      "\r",
      "Val:   9%|▉         | 8/86 [00:27<03:28,  2.68s/it, eval_loss=0.0818, gpu_mem=6.91 GB]"
     ]
    },
    {
     "name": "stderr",
     "output_type": "stream",
     "text": [
      "\r",
      "Val:   9%|▉         | 8/86 [00:29<03:28,  2.68s/it, eval_loss=0.0801, gpu_mem=6.91 GB]"
     ]
    },
    {
     "name": "stderr",
     "output_type": "stream",
     "text": [
      "\r",
      "Val:  10%|█         | 9/86 [00:29<03:27,  2.70s/it, eval_loss=0.0801, gpu_mem=6.91 GB]"
     ]
    },
    {
     "name": "stderr",
     "output_type": "stream",
     "text": [
      "\r",
      "Val:  10%|█         | 9/86 [00:32<03:27,  2.70s/it, eval_loss=0.0871, gpu_mem=6.91 GB]"
     ]
    },
    {
     "name": "stderr",
     "output_type": "stream",
     "text": [
      "\r",
      "Val:  12%|█▏        | 10/86 [00:32<03:21,  2.66s/it, eval_loss=0.0871, gpu_mem=6.91 GB]"
     ]
    },
    {
     "name": "stderr",
     "output_type": "stream",
     "text": [
      "\r",
      "Val:  12%|█▏        | 10/86 [00:34<03:21,  2.66s/it, eval_loss=0.0842, gpu_mem=6.91 GB]"
     ]
    },
    {
     "name": "stderr",
     "output_type": "stream",
     "text": [
      "\r",
      "Val:  13%|█▎        | 11/86 [00:34<03:18,  2.64s/it, eval_loss=0.0842, gpu_mem=6.91 GB]"
     ]
    },
    {
     "name": "stderr",
     "output_type": "stream",
     "text": [
      "\r",
      "Val:  13%|█▎        | 11/86 [00:37<03:18,  2.64s/it, eval_loss=0.0844, gpu_mem=6.91 GB]"
     ]
    },
    {
     "name": "stderr",
     "output_type": "stream",
     "text": [
      "\r",
      "Val:  14%|█▍        | 12/86 [00:37<03:16,  2.66s/it, eval_loss=0.0844, gpu_mem=6.91 GB]"
     ]
    },
    {
     "name": "stderr",
     "output_type": "stream",
     "text": [
      "\r",
      "Val:  14%|█▍        | 12/86 [00:40<03:16,  2.66s/it, eval_loss=0.0865, gpu_mem=6.91 GB]"
     ]
    },
    {
     "name": "stderr",
     "output_type": "stream",
     "text": [
      "\r",
      "Val:  15%|█▌        | 13/86 [00:40<03:12,  2.64s/it, eval_loss=0.0865, gpu_mem=6.91 GB]"
     ]
    },
    {
     "name": "stderr",
     "output_type": "stream",
     "text": [
      "\r",
      "Val:  15%|█▌        | 13/86 [00:43<03:12,  2.64s/it, eval_loss=0.0828, gpu_mem=6.91 GB]"
     ]
    },
    {
     "name": "stderr",
     "output_type": "stream",
     "text": [
      "\r",
      "Val:  16%|█▋        | 14/86 [00:43<03:14,  2.70s/it, eval_loss=0.0828, gpu_mem=6.91 GB]"
     ]
    },
    {
     "name": "stderr",
     "output_type": "stream",
     "text": [
      "\r",
      "Val:  16%|█▋        | 14/86 [00:46<03:14,  2.70s/it, eval_loss=0.0800, gpu_mem=6.91 GB]"
     ]
    },
    {
     "name": "stderr",
     "output_type": "stream",
     "text": [
      "\r",
      "Val:  17%|█▋        | 15/86 [00:46<03:19,  2.80s/it, eval_loss=0.0800, gpu_mem=6.91 GB]"
     ]
    },
    {
     "name": "stderr",
     "output_type": "stream",
     "text": [
      "\r",
      "Val:  17%|█▋        | 15/86 [00:48<03:19,  2.80s/it, eval_loss=0.0781, gpu_mem=6.91 GB]"
     ]
    },
    {
     "name": "stderr",
     "output_type": "stream",
     "text": [
      "\r",
      "Val:  19%|█▊        | 16/86 [00:48<03:10,  2.72s/it, eval_loss=0.0781, gpu_mem=6.91 GB]"
     ]
    },
    {
     "name": "stderr",
     "output_type": "stream",
     "text": [
      "\r",
      "Val:  19%|█▊        | 16/86 [00:51<03:10,  2.72s/it, eval_loss=0.0782, gpu_mem=6.91 GB]"
     ]
    },
    {
     "name": "stderr",
     "output_type": "stream",
     "text": [
      "\r",
      "Val:  20%|█▉        | 17/86 [00:51<03:09,  2.75s/it, eval_loss=0.0782, gpu_mem=6.91 GB]"
     ]
    },
    {
     "name": "stderr",
     "output_type": "stream",
     "text": [
      "\r",
      "Val:  20%|█▉        | 17/86 [00:54<03:09,  2.75s/it, eval_loss=0.0777, gpu_mem=6.91 GB]"
     ]
    },
    {
     "name": "stderr",
     "output_type": "stream",
     "text": [
      "\r",
      "Val:  21%|██        | 18/86 [00:54<03:03,  2.70s/it, eval_loss=0.0777, gpu_mem=6.91 GB]"
     ]
    },
    {
     "name": "stderr",
     "output_type": "stream",
     "text": [
      "\r",
      "Val:  21%|██        | 18/86 [00:56<03:03,  2.70s/it, eval_loss=0.0779, gpu_mem=6.91 GB]"
     ]
    },
    {
     "name": "stderr",
     "output_type": "stream",
     "text": [
      "\r",
      "Val:  22%|██▏       | 19/86 [00:56<02:56,  2.63s/it, eval_loss=0.0779, gpu_mem=6.91 GB]"
     ]
    },
    {
     "name": "stderr",
     "output_type": "stream",
     "text": [
      "\r",
      "Val:  22%|██▏       | 19/86 [00:59<02:56,  2.63s/it, eval_loss=0.0785, gpu_mem=6.91 GB]"
     ]
    },
    {
     "name": "stderr",
     "output_type": "stream",
     "text": [
      "\r",
      "Val:  23%|██▎       | 20/86 [00:59<02:52,  2.62s/it, eval_loss=0.0785, gpu_mem=6.91 GB]"
     ]
    },
    {
     "name": "stderr",
     "output_type": "stream",
     "text": [
      "\r",
      "Val:  23%|██▎       | 20/86 [01:01<02:52,  2.62s/it, eval_loss=0.0771, gpu_mem=6.91 GB]"
     ]
    },
    {
     "name": "stderr",
     "output_type": "stream",
     "text": [
      "\r",
      "Val:  24%|██▍       | 21/86 [01:01<02:50,  2.62s/it, eval_loss=0.0771, gpu_mem=6.91 GB]"
     ]
    },
    {
     "name": "stderr",
     "output_type": "stream",
     "text": [
      "\r",
      "Val:  24%|██▍       | 21/86 [01:04<02:50,  2.62s/it, eval_loss=0.0804, gpu_mem=6.91 GB]"
     ]
    },
    {
     "name": "stderr",
     "output_type": "stream",
     "text": [
      "\r",
      "Val:  26%|██▌       | 22/86 [01:04<02:53,  2.71s/it, eval_loss=0.0804, gpu_mem=6.91 GB]"
     ]
    },
    {
     "name": "stderr",
     "output_type": "stream",
     "text": [
      "\r",
      "Val:  26%|██▌       | 22/86 [01:07<02:53,  2.71s/it, eval_loss=0.0844, gpu_mem=6.91 GB]"
     ]
    },
    {
     "name": "stderr",
     "output_type": "stream",
     "text": [
      "\r",
      "Val:  27%|██▋       | 23/86 [01:07<02:46,  2.65s/it, eval_loss=0.0844, gpu_mem=6.91 GB]"
     ]
    },
    {
     "name": "stderr",
     "output_type": "stream",
     "text": [
      "\r",
      "Val:  27%|██▋       | 23/86 [01:09<02:46,  2.65s/it, eval_loss=0.0839, gpu_mem=6.91 GB]"
     ]
    },
    {
     "name": "stderr",
     "output_type": "stream",
     "text": [
      "\r",
      "Val:  28%|██▊       | 24/86 [01:09<02:42,  2.62s/it, eval_loss=0.0839, gpu_mem=6.91 GB]"
     ]
    },
    {
     "name": "stderr",
     "output_type": "stream",
     "text": [
      "\r",
      "Val:  28%|██▊       | 24/86 [01:12<02:42,  2.62s/it, eval_loss=0.0837, gpu_mem=6.91 GB]"
     ]
    },
    {
     "name": "stderr",
     "output_type": "stream",
     "text": [
      "\r",
      "Val:  29%|██▉       | 25/86 [01:12<02:38,  2.60s/it, eval_loss=0.0837, gpu_mem=6.91 GB]"
     ]
    },
    {
     "name": "stderr",
     "output_type": "stream",
     "text": [
      "\r",
      "Val:  29%|██▉       | 25/86 [01:15<02:38,  2.60s/it, eval_loss=0.0816, gpu_mem=6.91 GB]"
     ]
    },
    {
     "name": "stderr",
     "output_type": "stream",
     "text": [
      "\r",
      "Val:  30%|███       | 26/86 [01:15<02:38,  2.65s/it, eval_loss=0.0816, gpu_mem=6.91 GB]"
     ]
    },
    {
     "name": "stderr",
     "output_type": "stream",
     "text": [
      "\r",
      "Val:  30%|███       | 26/86 [01:18<02:38,  2.65s/it, eval_loss=0.0853, gpu_mem=6.91 GB]"
     ]
    },
    {
     "name": "stderr",
     "output_type": "stream",
     "text": [
      "\r",
      "Val:  31%|███▏      | 27/86 [01:18<02:44,  2.80s/it, eval_loss=0.0853, gpu_mem=6.91 GB]"
     ]
    },
    {
     "name": "stderr",
     "output_type": "stream",
     "text": [
      "\r",
      "Val:  31%|███▏      | 27/86 [01:20<02:44,  2.80s/it, eval_loss=0.0848, gpu_mem=6.91 GB]"
     ]
    },
    {
     "name": "stderr",
     "output_type": "stream",
     "text": [
      "\r",
      "Val:  33%|███▎      | 28/86 [01:20<02:38,  2.74s/it, eval_loss=0.0848, gpu_mem=6.91 GB]"
     ]
    },
    {
     "name": "stderr",
     "output_type": "stream",
     "text": [
      "\r",
      "Val:  33%|███▎      | 28/86 [01:23<02:38,  2.74s/it, eval_loss=0.0838, gpu_mem=6.91 GB]"
     ]
    },
    {
     "name": "stderr",
     "output_type": "stream",
     "text": [
      "\r",
      "Val:  34%|███▎      | 29/86 [01:23<02:32,  2.68s/it, eval_loss=0.0838, gpu_mem=6.91 GB]"
     ]
    },
    {
     "name": "stderr",
     "output_type": "stream",
     "text": [
      "\r",
      "Val:  34%|███▎      | 29/86 [01:26<02:32,  2.68s/it, eval_loss=0.0838, gpu_mem=6.91 GB]"
     ]
    },
    {
     "name": "stderr",
     "output_type": "stream",
     "text": [
      "\r",
      "Val:  35%|███▍      | 30/86 [01:26<02:31,  2.71s/it, eval_loss=0.0838, gpu_mem=6.91 GB]"
     ]
    },
    {
     "name": "stderr",
     "output_type": "stream",
     "text": [
      "\r",
      "Val:  35%|███▍      | 30/86 [01:28<02:31,  2.71s/it, eval_loss=0.0830, gpu_mem=6.91 GB]"
     ]
    },
    {
     "name": "stderr",
     "output_type": "stream",
     "text": [
      "\r",
      "Val:  36%|███▌      | 31/86 [01:28<02:26,  2.66s/it, eval_loss=0.0830, gpu_mem=6.91 GB]"
     ]
    },
    {
     "name": "stderr",
     "output_type": "stream",
     "text": [
      "\r",
      "Val:  36%|███▌      | 31/86 [01:31<02:26,  2.66s/it, eval_loss=0.0905, gpu_mem=6.91 GB]"
     ]
    },
    {
     "name": "stderr",
     "output_type": "stream",
     "text": [
      "\r",
      "Val:  37%|███▋      | 32/86 [01:31<02:22,  2.64s/it, eval_loss=0.0905, gpu_mem=6.91 GB]"
     ]
    },
    {
     "name": "stderr",
     "output_type": "stream",
     "text": [
      "\r",
      "Val:  37%|███▋      | 32/86 [01:33<02:22,  2.64s/it, eval_loss=0.0886, gpu_mem=6.91 GB]"
     ]
    },
    {
     "name": "stderr",
     "output_type": "stream",
     "text": [
      "\r",
      "Val:  38%|███▊      | 33/86 [01:33<02:19,  2.62s/it, eval_loss=0.0886, gpu_mem=6.91 GB]"
     ]
    },
    {
     "name": "stderr",
     "output_type": "stream",
     "text": [
      "\r",
      "Val:  38%|███▊      | 33/86 [01:36<02:19,  2.62s/it, eval_loss=0.0899, gpu_mem=6.91 GB]"
     ]
    },
    {
     "name": "stderr",
     "output_type": "stream",
     "text": [
      "\r",
      "Val:  40%|███▉      | 34/86 [01:36<02:18,  2.66s/it, eval_loss=0.0899, gpu_mem=6.91 GB]"
     ]
    },
    {
     "name": "stderr",
     "output_type": "stream",
     "text": [
      "\r",
      "Val:  40%|███▉      | 34/86 [01:39<02:18,  2.66s/it, eval_loss=0.0889, gpu_mem=6.91 GB]"
     ]
    },
    {
     "name": "stderr",
     "output_type": "stream",
     "text": [
      "\r",
      "Val:  41%|████      | 35/86 [01:39<02:15,  2.65s/it, eval_loss=0.0889, gpu_mem=6.91 GB]"
     ]
    },
    {
     "name": "stderr",
     "output_type": "stream",
     "text": [
      "\r",
      "Val:  41%|████      | 35/86 [01:41<02:15,  2.65s/it, eval_loss=0.0875, gpu_mem=6.91 GB]"
     ]
    },
    {
     "name": "stderr",
     "output_type": "stream",
     "text": [
      "\r",
      "Val:  42%|████▏     | 36/86 [01:41<02:10,  2.61s/it, eval_loss=0.0875, gpu_mem=6.91 GB]"
     ]
    },
    {
     "name": "stderr",
     "output_type": "stream",
     "text": [
      "\r",
      "Val:  42%|████▏     | 36/86 [01:44<02:10,  2.61s/it, eval_loss=0.0881, gpu_mem=6.91 GB]"
     ]
    },
    {
     "name": "stderr",
     "output_type": "stream",
     "text": [
      "\r",
      "Val:  43%|████▎     | 37/86 [01:44<02:07,  2.60s/it, eval_loss=0.0881, gpu_mem=6.91 GB]"
     ]
    },
    {
     "name": "stderr",
     "output_type": "stream",
     "text": [
      "\r",
      "Val:  43%|████▎     | 37/86 [01:47<02:07,  2.60s/it, eval_loss=0.0879, gpu_mem=6.91 GB]"
     ]
    },
    {
     "name": "stderr",
     "output_type": "stream",
     "text": [
      "\r",
      "Val:  44%|████▍     | 38/86 [01:47<02:09,  2.71s/it, eval_loss=0.0879, gpu_mem=6.91 GB]"
     ]
    },
    {
     "name": "stderr",
     "output_type": "stream",
     "text": [
      "\r",
      "Val:  44%|████▍     | 38/86 [01:50<02:09,  2.71s/it, eval_loss=0.0865, gpu_mem=6.91 GB]"
     ]
    },
    {
     "name": "stderr",
     "output_type": "stream",
     "text": [
      "\r",
      "Val:  45%|████▌     | 39/86 [01:50<02:13,  2.83s/it, eval_loss=0.0865, gpu_mem=6.91 GB]"
     ]
    },
    {
     "name": "stderr",
     "output_type": "stream",
     "text": [
      "\r",
      "Val:  45%|████▌     | 39/86 [01:52<02:13,  2.83s/it, eval_loss=0.0864, gpu_mem=6.91 GB]"
     ]
    },
    {
     "name": "stderr",
     "output_type": "stream",
     "text": [
      "\r",
      "Val:  47%|████▋     | 40/86 [01:52<02:06,  2.76s/it, eval_loss=0.0864, gpu_mem=6.91 GB]"
     ]
    },
    {
     "name": "stderr",
     "output_type": "stream",
     "text": [
      "\r",
      "Val:  47%|████▋     | 40/86 [01:55<02:06,  2.76s/it, eval_loss=0.0859, gpu_mem=6.91 GB]"
     ]
    },
    {
     "name": "stderr",
     "output_type": "stream",
     "text": [
      "\r",
      "Val:  48%|████▊     | 41/86 [01:55<02:01,  2.70s/it, eval_loss=0.0859, gpu_mem=6.91 GB]"
     ]
    },
    {
     "name": "stderr",
     "output_type": "stream",
     "text": [
      "\r",
      "Val:  48%|████▊     | 41/86 [01:58<02:01,  2.70s/it, eval_loss=0.0854, gpu_mem=6.91 GB]"
     ]
    },
    {
     "name": "stderr",
     "output_type": "stream",
     "text": [
      "\r",
      "Val:  49%|████▉     | 42/86 [01:58<01:59,  2.71s/it, eval_loss=0.0854, gpu_mem=6.91 GB]"
     ]
    },
    {
     "name": "stderr",
     "output_type": "stream",
     "text": [
      "\r",
      "Val:  49%|████▉     | 42/86 [02:00<01:59,  2.71s/it, eval_loss=0.0845, gpu_mem=6.91 GB]"
     ]
    },
    {
     "name": "stderr",
     "output_type": "stream",
     "text": [
      "\r",
      "Val:  50%|█████     | 43/86 [02:00<01:56,  2.70s/it, eval_loss=0.0845, gpu_mem=6.91 GB]"
     ]
    },
    {
     "name": "stderr",
     "output_type": "stream",
     "text": [
      "\r",
      "Val:  50%|█████     | 43/86 [02:03<01:56,  2.70s/it, eval_loss=0.0877, gpu_mem=6.91 GB]"
     ]
    },
    {
     "name": "stderr",
     "output_type": "stream",
     "text": [
      "\r",
      "Val:  51%|█████     | 44/86 [02:03<01:53,  2.69s/it, eval_loss=0.0877, gpu_mem=6.91 GB]"
     ]
    },
    {
     "name": "stderr",
     "output_type": "stream",
     "text": [
      "\r",
      "Val:  51%|█████     | 44/86 [02:06<01:53,  2.69s/it, eval_loss=0.0864, gpu_mem=6.91 GB]"
     ]
    },
    {
     "name": "stderr",
     "output_type": "stream",
     "text": [
      "\r",
      "Val:  52%|█████▏    | 45/86 [02:06<01:50,  2.68s/it, eval_loss=0.0864, gpu_mem=6.91 GB]"
     ]
    },
    {
     "name": "stderr",
     "output_type": "stream",
     "text": [
      "\r",
      "Val:  52%|█████▏    | 45/86 [02:09<01:50,  2.68s/it, eval_loss=0.0863, gpu_mem=6.91 GB]"
     ]
    },
    {
     "name": "stderr",
     "output_type": "stream",
     "text": [
      "\r",
      "Val:  53%|█████▎    | 46/86 [02:09<01:49,  2.74s/it, eval_loss=0.0863, gpu_mem=6.91 GB]"
     ]
    },
    {
     "name": "stderr",
     "output_type": "stream",
     "text": [
      "\r",
      "Val:  53%|█████▎    | 46/86 [02:11<01:49,  2.74s/it, eval_loss=0.0856, gpu_mem=6.91 GB]"
     ]
    },
    {
     "name": "stderr",
     "output_type": "stream",
     "text": [
      "\r",
      "Val:  55%|█████▍    | 47/86 [02:11<01:45,  2.72s/it, eval_loss=0.0856, gpu_mem=6.91 GB]"
     ]
    },
    {
     "name": "stderr",
     "output_type": "stream",
     "text": [
      "\r",
      "Val:  55%|█████▍    | 47/86 [02:14<01:45,  2.72s/it, eval_loss=0.0874, gpu_mem=6.91 GB]"
     ]
    },
    {
     "name": "stderr",
     "output_type": "stream",
     "text": [
      "\r",
      "Val:  56%|█████▌    | 48/86 [02:14<01:43,  2.74s/it, eval_loss=0.0874, gpu_mem=6.91 GB]"
     ]
    },
    {
     "name": "stderr",
     "output_type": "stream",
     "text": [
      "\r",
      "Val:  56%|█████▌    | 48/86 [02:17<01:43,  2.74s/it, eval_loss=0.0869, gpu_mem=6.91 GB]"
     ]
    },
    {
     "name": "stderr",
     "output_type": "stream",
     "text": [
      "\r",
      "Val:  57%|█████▋    | 49/86 [02:17<01:40,  2.72s/it, eval_loss=0.0869, gpu_mem=6.91 GB]"
     ]
    },
    {
     "name": "stderr",
     "output_type": "stream",
     "text": [
      "\r",
      "Val:  57%|█████▋    | 49/86 [02:20<01:40,  2.72s/it, eval_loss=0.0866, gpu_mem=6.91 GB]"
     ]
    },
    {
     "name": "stderr",
     "output_type": "stream",
     "text": [
      "\r",
      "Val:  58%|█████▊    | 50/86 [02:20<01:46,  2.95s/it, eval_loss=0.0866, gpu_mem=6.91 GB]"
     ]
    },
    {
     "name": "stderr",
     "output_type": "stream",
     "text": [
      "\r",
      "Val:  58%|█████▊    | 50/86 [02:23<01:46,  2.95s/it, eval_loss=0.0895, gpu_mem=6.91 GB]"
     ]
    },
    {
     "name": "stderr",
     "output_type": "stream",
     "text": [
      "\r",
      "Val:  59%|█████▉    | 51/86 [02:23<01:39,  2.85s/it, eval_loss=0.0895, gpu_mem=6.91 GB]"
     ]
    },
    {
     "name": "stderr",
     "output_type": "stream",
     "text": [
      "\r",
      "Val:  59%|█████▉    | 51/86 [02:25<01:39,  2.85s/it, eval_loss=0.0909, gpu_mem=6.91 GB]"
     ]
    },
    {
     "name": "stderr",
     "output_type": "stream",
     "text": [
      "\r",
      "Val:  60%|██████    | 52/86 [02:25<01:34,  2.77s/it, eval_loss=0.0909, gpu_mem=6.91 GB]"
     ]
    },
    {
     "name": "stderr",
     "output_type": "stream",
     "text": [
      "\r",
      "Val:  60%|██████    | 52/86 [02:28<01:34,  2.77s/it, eval_loss=0.0922, gpu_mem=6.91 GB]"
     ]
    },
    {
     "name": "stderr",
     "output_type": "stream",
     "text": [
      "\r",
      "Val:  62%|██████▏   | 53/86 [02:28<01:29,  2.71s/it, eval_loss=0.0922, gpu_mem=6.91 GB]"
     ]
    },
    {
     "name": "stderr",
     "output_type": "stream",
     "text": [
      "\r",
      "Val:  62%|██████▏   | 53/86 [02:31<01:29,  2.71s/it, eval_loss=0.0915, gpu_mem=6.91 GB]"
     ]
    },
    {
     "name": "stderr",
     "output_type": "stream",
     "text": [
      "\r",
      "Val:  63%|██████▎   | 54/86 [02:31<01:28,  2.75s/it, eval_loss=0.0915, gpu_mem=6.91 GB]"
     ]
    },
    {
     "name": "stderr",
     "output_type": "stream",
     "text": [
      "\r",
      "Val:  63%|██████▎   | 54/86 [02:34<01:28,  2.75s/it, eval_loss=0.0922, gpu_mem=6.91 GB]"
     ]
    },
    {
     "name": "stderr",
     "output_type": "stream",
     "text": [
      "\r",
      "Val:  64%|██████▍   | 55/86 [02:34<01:24,  2.72s/it, eval_loss=0.0922, gpu_mem=6.91 GB]"
     ]
    },
    {
     "name": "stderr",
     "output_type": "stream",
     "text": [
      "\r",
      "Val:  64%|██████▍   | 55/86 [02:36<01:24,  2.72s/it, eval_loss=0.0918, gpu_mem=6.91 GB]"
     ]
    },
    {
     "name": "stderr",
     "output_type": "stream",
     "text": [
      "\r",
      "Val:  65%|██████▌   | 56/86 [02:36<01:19,  2.67s/it, eval_loss=0.0918, gpu_mem=6.91 GB]"
     ]
    },
    {
     "name": "stderr",
     "output_type": "stream",
     "text": [
      "\r",
      "Val:  65%|██████▌   | 56/86 [02:39<01:19,  2.67s/it, eval_loss=0.0917, gpu_mem=6.91 GB]"
     ]
    },
    {
     "name": "stderr",
     "output_type": "stream",
     "text": [
      "\r",
      "Val:  66%|██████▋   | 57/86 [02:39<01:17,  2.66s/it, eval_loss=0.0917, gpu_mem=6.91 GB]"
     ]
    },
    {
     "name": "stderr",
     "output_type": "stream",
     "text": [
      "\r",
      "Val:  66%|██████▋   | 57/86 [02:42<01:17,  2.66s/it, eval_loss=0.0940, gpu_mem=6.91 GB]"
     ]
    },
    {
     "name": "stderr",
     "output_type": "stream",
     "text": [
      "\r",
      "Val:  67%|██████▋   | 58/86 [02:42<01:15,  2.71s/it, eval_loss=0.0940, gpu_mem=6.91 GB]"
     ]
    },
    {
     "name": "stderr",
     "output_type": "stream",
     "text": [
      "\r",
      "Val:  67%|██████▋   | 58/86 [02:44<01:15,  2.71s/it, eval_loss=0.0935, gpu_mem=6.91 GB]"
     ]
    },
    {
     "name": "stderr",
     "output_type": "stream",
     "text": [
      "\r",
      "Val:  69%|██████▊   | 59/86 [02:44<01:12,  2.68s/it, eval_loss=0.0935, gpu_mem=6.91 GB]"
     ]
    },
    {
     "name": "stderr",
     "output_type": "stream",
     "text": [
      "\r",
      "Val:  69%|██████▊   | 59/86 [02:47<01:12,  2.68s/it, eval_loss=0.0953, gpu_mem=6.91 GB]"
     ]
    },
    {
     "name": "stderr",
     "output_type": "stream",
     "text": [
      "\r",
      "Val:  70%|██████▉   | 60/86 [02:47<01:08,  2.65s/it, eval_loss=0.0953, gpu_mem=6.91 GB]"
     ]
    },
    {
     "name": "stderr",
     "output_type": "stream",
     "text": [
      "\r",
      "Val:  70%|██████▉   | 60/86 [02:49<01:08,  2.65s/it, eval_loss=0.0947, gpu_mem=6.91 GB]"
     ]
    },
    {
     "name": "stderr",
     "output_type": "stream",
     "text": [
      "\r",
      "Val:  71%|███████   | 61/86 [02:49<01:05,  2.63s/it, eval_loss=0.0947, gpu_mem=6.91 GB]"
     ]
    },
    {
     "name": "stderr",
     "output_type": "stream",
     "text": [
      "\r",
      "Val:  71%|███████   | 61/86 [02:53<01:05,  2.63s/it, eval_loss=0.0943, gpu_mem=6.91 GB]"
     ]
    },
    {
     "name": "stderr",
     "output_type": "stream",
     "text": [
      "\r",
      "Val:  72%|███████▏  | 62/86 [02:53<01:07,  2.83s/it, eval_loss=0.0943, gpu_mem=6.91 GB]"
     ]
    },
    {
     "name": "stderr",
     "output_type": "stream",
     "text": [
      "\r",
      "Val:  72%|███████▏  | 62/86 [02:55<01:07,  2.83s/it, eval_loss=0.0942, gpu_mem=6.91 GB]"
     ]
    },
    {
     "name": "stderr",
     "output_type": "stream",
     "text": [
      "\r",
      "Val:  73%|███████▎  | 63/86 [02:55<01:02,  2.73s/it, eval_loss=0.0942, gpu_mem=6.91 GB]"
     ]
    },
    {
     "name": "stderr",
     "output_type": "stream",
     "text": [
      "\r",
      "Val:  73%|███████▎  | 63/86 [02:58<01:02,  2.73s/it, eval_loss=0.0941, gpu_mem=6.91 GB]"
     ]
    },
    {
     "name": "stderr",
     "output_type": "stream",
     "text": [
      "\r",
      "Val:  74%|███████▍  | 64/86 [02:58<00:59,  2.69s/it, eval_loss=0.0941, gpu_mem=6.91 GB]"
     ]
    },
    {
     "name": "stderr",
     "output_type": "stream",
     "text": [
      "\r",
      "Val:  74%|███████▍  | 64/86 [03:00<00:59,  2.69s/it, eval_loss=0.0932, gpu_mem=6.91 GB]"
     ]
    },
    {
     "name": "stderr",
     "output_type": "stream",
     "text": [
      "\r",
      "Val:  76%|███████▌  | 65/86 [03:00<00:55,  2.65s/it, eval_loss=0.0932, gpu_mem=6.91 GB]"
     ]
    },
    {
     "name": "stderr",
     "output_type": "stream",
     "text": [
      "\r",
      "Val:  76%|███████▌  | 65/86 [03:03<00:55,  2.65s/it, eval_loss=0.0950, gpu_mem=6.91 GB]"
     ]
    },
    {
     "name": "stderr",
     "output_type": "stream",
     "text": [
      "\r",
      "Val:  77%|███████▋  | 66/86 [03:03<00:53,  2.69s/it, eval_loss=0.0950, gpu_mem=6.91 GB]"
     ]
    },
    {
     "name": "stderr",
     "output_type": "stream",
     "text": [
      "\r",
      "Val:  77%|███████▋  | 66/86 [03:06<00:53,  2.69s/it, eval_loss=0.0942, gpu_mem=6.91 GB]"
     ]
    },
    {
     "name": "stderr",
     "output_type": "stream",
     "text": [
      "\r",
      "Val:  78%|███████▊  | 67/86 [03:06<00:51,  2.70s/it, eval_loss=0.0942, gpu_mem=6.91 GB]"
     ]
    },
    {
     "name": "stderr",
     "output_type": "stream",
     "text": [
      "\r",
      "Val:  78%|███████▊  | 67/86 [03:08<00:51,  2.70s/it, eval_loss=0.0966, gpu_mem=6.91 GB]"
     ]
    },
    {
     "name": "stderr",
     "output_type": "stream",
     "text": [
      "\r",
      "Val:  79%|███████▉  | 68/86 [03:08<00:48,  2.67s/it, eval_loss=0.0966, gpu_mem=6.91 GB]"
     ]
    },
    {
     "name": "stderr",
     "output_type": "stream",
     "text": [
      "\r",
      "Val:  79%|███████▉  | 68/86 [03:11<00:48,  2.67s/it, eval_loss=0.0967, gpu_mem=6.91 GB]"
     ]
    },
    {
     "name": "stderr",
     "output_type": "stream",
     "text": [
      "\r",
      "Val:  80%|████████  | 69/86 [03:11<00:44,  2.64s/it, eval_loss=0.0967, gpu_mem=6.91 GB]"
     ]
    },
    {
     "name": "stderr",
     "output_type": "stream",
     "text": [
      "\r",
      "Val:  80%|████████  | 69/86 [03:14<00:44,  2.64s/it, eval_loss=0.0964, gpu_mem=6.91 GB]"
     ]
    },
    {
     "name": "stderr",
     "output_type": "stream",
     "text": [
      "\r",
      "Val:  81%|████████▏ | 70/86 [03:14<00:42,  2.65s/it, eval_loss=0.0964, gpu_mem=6.91 GB]"
     ]
    },
    {
     "name": "stderr",
     "output_type": "stream",
     "text": [
      "\r",
      "Val:  81%|████████▏ | 70/86 [03:16<00:42,  2.65s/it, eval_loss=0.0971, gpu_mem=6.91 GB]"
     ]
    },
    {
     "name": "stderr",
     "output_type": "stream",
     "text": [
      "\r",
      "Val:  83%|████████▎ | 71/86 [03:16<00:40,  2.70s/it, eval_loss=0.0971, gpu_mem=6.91 GB]"
     ]
    },
    {
     "name": "stderr",
     "output_type": "stream",
     "text": [
      "\r",
      "Val:  83%|████████▎ | 71/86 [03:19<00:40,  2.70s/it, eval_loss=0.0967, gpu_mem=6.91 GB]"
     ]
    },
    {
     "name": "stderr",
     "output_type": "stream",
     "text": [
      "\r",
      "Val:  84%|████████▎ | 72/86 [03:19<00:37,  2.67s/it, eval_loss=0.0967, gpu_mem=6.91 GB]"
     ]
    },
    {
     "name": "stderr",
     "output_type": "stream",
     "text": [
      "\r",
      "Val:  84%|████████▎ | 72/86 [03:22<00:37,  2.67s/it, eval_loss=0.0964, gpu_mem=6.91 GB]"
     ]
    },
    {
     "name": "stderr",
     "output_type": "stream",
     "text": [
      "\r",
      "Val:  85%|████████▍ | 73/86 [03:22<00:34,  2.64s/it, eval_loss=0.0964, gpu_mem=6.91 GB]"
     ]
    },
    {
     "name": "stderr",
     "output_type": "stream",
     "text": [
      "\r",
      "Val:  85%|████████▍ | 73/86 [03:25<00:34,  2.64s/it, eval_loss=0.0967, gpu_mem=6.91 GB]"
     ]
    },
    {
     "name": "stderr",
     "output_type": "stream",
     "text": [
      "\r",
      "Val:  86%|████████▌ | 74/86 [03:25<00:33,  2.80s/it, eval_loss=0.0967, gpu_mem=6.91 GB]"
     ]
    },
    {
     "name": "stderr",
     "output_type": "stream",
     "text": [
      "\r",
      "Val:  86%|████████▌ | 74/86 [03:27<00:33,  2.80s/it, eval_loss=0.0961, gpu_mem=6.91 GB]"
     ]
    },
    {
     "name": "stderr",
     "output_type": "stream",
     "text": [
      "\r",
      "Val:  87%|████████▋ | 75/86 [03:27<00:30,  2.77s/it, eval_loss=0.0961, gpu_mem=6.91 GB]"
     ]
    },
    {
     "name": "stderr",
     "output_type": "stream",
     "text": [
      "\r",
      "Val:  87%|████████▋ | 75/86 [03:30<00:30,  2.77s/it, eval_loss=0.0955, gpu_mem=6.91 GB]"
     ]
    },
    {
     "name": "stderr",
     "output_type": "stream",
     "text": [
      "\r",
      "Val:  88%|████████▊ | 76/86 [03:30<00:27,  2.76s/it, eval_loss=0.0955, gpu_mem=6.91 GB]"
     ]
    },
    {
     "name": "stderr",
     "output_type": "stream",
     "text": [
      "\r",
      "Val:  88%|████████▊ | 76/86 [03:33<00:27,  2.76s/it, eval_loss=0.0966, gpu_mem=6.91 GB]"
     ]
    },
    {
     "name": "stderr",
     "output_type": "stream",
     "text": [
      "\r",
      "Val:  90%|████████▉ | 77/86 [03:33<00:24,  2.73s/it, eval_loss=0.0966, gpu_mem=6.91 GB]"
     ]
    },
    {
     "name": "stderr",
     "output_type": "stream",
     "text": [
      "\r",
      "Val:  90%|████████▉ | 77/86 [03:36<00:24,  2.73s/it, eval_loss=0.0959, gpu_mem=6.91 GB]"
     ]
    },
    {
     "name": "stderr",
     "output_type": "stream",
     "text": [
      "\r",
      "Val:  91%|█████████ | 78/86 [03:36<00:22,  2.75s/it, eval_loss=0.0959, gpu_mem=6.91 GB]"
     ]
    },
    {
     "name": "stderr",
     "output_type": "stream",
     "text": [
      "\r",
      "Val:  91%|█████████ | 78/86 [03:39<00:22,  2.75s/it, eval_loss=0.0958, gpu_mem=6.91 GB]"
     ]
    },
    {
     "name": "stderr",
     "output_type": "stream",
     "text": [
      "\r",
      "Val:  92%|█████████▏| 79/86 [03:39<00:19,  2.81s/it, eval_loss=0.0958, gpu_mem=6.91 GB]"
     ]
    },
    {
     "name": "stderr",
     "output_type": "stream",
     "text": [
      "\r",
      "Val:  92%|█████████▏| 79/86 [03:41<00:19,  2.81s/it, eval_loss=0.0960, gpu_mem=6.91 GB]"
     ]
    },
    {
     "name": "stderr",
     "output_type": "stream",
     "text": [
      "\r",
      "Val:  93%|█████████▎| 80/86 [03:41<00:16,  2.76s/it, eval_loss=0.0960, gpu_mem=6.91 GB]"
     ]
    },
    {
     "name": "stderr",
     "output_type": "stream",
     "text": [
      "\r",
      "Val:  93%|█████████▎| 80/86 [03:44<00:16,  2.76s/it, eval_loss=0.0954, gpu_mem=6.91 GB]"
     ]
    },
    {
     "name": "stderr",
     "output_type": "stream",
     "text": [
      "\r",
      "Val:  94%|█████████▍| 81/86 [03:44<00:13,  2.72s/it, eval_loss=0.0954, gpu_mem=6.91 GB]"
     ]
    },
    {
     "name": "stderr",
     "output_type": "stream",
     "text": [
      "\r",
      "Val:  94%|█████████▍| 81/86 [03:47<00:13,  2.72s/it, eval_loss=0.0950, gpu_mem=6.91 GB]"
     ]
    },
    {
     "name": "stderr",
     "output_type": "stream",
     "text": [
      "\r",
      "Val:  95%|█████████▌| 82/86 [03:47<00:11,  2.76s/it, eval_loss=0.0950, gpu_mem=6.91 GB]"
     ]
    },
    {
     "name": "stderr",
     "output_type": "stream",
     "text": [
      "\r",
      "Val:  95%|█████████▌| 82/86 [03:50<00:11,  2.76s/it, eval_loss=0.0948, gpu_mem=6.91 GB]"
     ]
    },
    {
     "name": "stderr",
     "output_type": "stream",
     "text": [
      "\r",
      "Val:  97%|█████████▋| 83/86 [03:50<00:08,  2.79s/it, eval_loss=0.0948, gpu_mem=6.91 GB]"
     ]
    },
    {
     "name": "stderr",
     "output_type": "stream",
     "text": [
      "\r",
      "Val:  97%|█████████▋| 83/86 [03:52<00:08,  2.79s/it, eval_loss=0.0945, gpu_mem=6.91 GB]"
     ]
    },
    {
     "name": "stderr",
     "output_type": "stream",
     "text": [
      "\r",
      "Val:  98%|█████████▊| 84/86 [03:52<00:05,  2.76s/it, eval_loss=0.0945, gpu_mem=6.91 GB]"
     ]
    },
    {
     "name": "stderr",
     "output_type": "stream",
     "text": [
      "\r",
      "Val:  98%|█████████▊| 84/86 [03:55<00:05,  2.76s/it, eval_loss=0.0972, gpu_mem=6.91 GB]"
     ]
    },
    {
     "name": "stderr",
     "output_type": "stream",
     "text": [
      "\r",
      "Val:  99%|█████████▉| 85/86 [03:55<00:02,  2.89s/it, eval_loss=0.0972, gpu_mem=6.91 GB]"
     ]
    },
    {
     "name": "stderr",
     "output_type": "stream",
     "text": [
      "\r",
      "Val:  99%|█████████▉| 85/86 [03:56<00:02,  2.89s/it, eval_loss=0.0972, gpu_mem=6.91 GB]"
     ]
    },
    {
     "name": "stderr",
     "output_type": "stream",
     "text": [
      "\r",
      "Val: 100%|██████████| 86/86 [03:56<00:00,  2.18s/it, eval_loss=0.0972, gpu_mem=6.91 GB]"
     ]
    },
    {
     "name": "stderr",
     "output_type": "stream",
     "text": [
      "\r",
      "Val: 100%|██████████| 86/86 [03:56<00:00,  2.75s/it, eval_loss=0.0972, gpu_mem=6.91 GB]"
     ]
    },
    {
     "name": "stderr",
     "output_type": "stream",
     "text": [
      "\n",
      "Valid loss:0.0972\n"
     ]
    },
    {
     "name": "stderr",
     "output_type": "stream",
     "text": [
      "Val metric mean prob: 0.1867\n"
     ]
    },
    {
     "name": "stderr",
     "output_type": "stream",
     "text": [
      "Best metric at: 0.5111 0.3630  0.7308\n"
     ]
    },
    {
     "name": "stderr",
     "output_type": "stream",
     "text": [
      "Cf: [[2315   18]\n",
      " [  26   23]]\n"
     ]
    },
    {
     "name": "stderr",
     "output_type": "stream",
     "text": [
      "\u001b[32m[I 2023-02-15 03:57:26,145]\u001b[0m Trial 0 finished with value: 0.5111111111111111 and parameters: {'a1': 0.696428379420678}. Best is trial 0 with value: 0.5111111111111111.\u001b[0m\n"
     ]
    },
    {
     "name": "stdout",
     "output_type": "stream",
     "text": [
      "/kaggle/input/10folds/tf_efficientnetv2_b2_fold_1_model_epoch_3_0.5055_0.360.pth\n"
     ]
    },
    {
     "name": "stdout",
     "output_type": "stream",
     "text": [
      "none:  /kaggle/input/10folds/tf_efficientnetv2_b2_fold_1_model_epoch_3_0.5055_0.360.pth\n",
      "/kaggle/input/10folds/tf_efficientnetv2_b2_fold_1_model_epoch_5_0.4865_0.324.pth\n"
     ]
    },
    {
     "name": "stdout",
     "output_type": "stream",
     "text": [
      "hehe /kaggle/input/10folds/tf_efficientnetv2_b2_fold_1_model_epoch_5_0.4865_0.324.pth\n",
      "0.8373029099934258 0.16269709000657417\n",
      "\n"
     ]
    },
    {
     "name": "stderr",
     "output_type": "stream",
     "text": [
      "\r",
      "Val:   0%|          | 0/86 [00:00<?, ?it/s]"
     ]
    },
    {
     "name": "stderr",
     "output_type": "stream",
     "text": [
      "\r",
      "Val:   0%|          | 0/86 [00:04<?, ?it/s, eval_loss=0.0552, gpu_mem=6.91 GB]"
     ]
    },
    {
     "name": "stderr",
     "output_type": "stream",
     "text": [
      "\r",
      "Val:   1%|          | 1/86 [00:04<06:24,  4.52s/it, eval_loss=0.0552, gpu_mem=6.91 GB]"
     ]
    },
    {
     "name": "stderr",
     "output_type": "stream",
     "text": [
      "\r",
      "Val:   1%|          | 1/86 [00:06<06:24,  4.52s/it, eval_loss=0.0431, gpu_mem=6.91 GB]"
     ]
    },
    {
     "name": "stderr",
     "output_type": "stream",
     "text": [
      "\r",
      "Val:   2%|▏         | 2/86 [00:06<04:32,  3.24s/it, eval_loss=0.0431, gpu_mem=6.91 GB]"
     ]
    },
    {
     "name": "stderr",
     "output_type": "stream",
     "text": [
      "\r",
      "Val:   2%|▏         | 2/86 [00:09<04:32,  3.24s/it, eval_loss=0.0889, gpu_mem=6.91 GB]"
     ]
    },
    {
     "name": "stderr",
     "output_type": "stream",
     "text": [
      "\r",
      "Val:   3%|▎         | 3/86 [00:09<04:06,  2.97s/it, eval_loss=0.0889, gpu_mem=6.91 GB]"
     ]
    },
    {
     "name": "stderr",
     "output_type": "stream",
     "text": [
      "\r",
      "Val:   3%|▎         | 3/86 [00:11<04:06,  2.97s/it, eval_loss=0.0997, gpu_mem=6.91 GB]"
     ]
    },
    {
     "name": "stderr",
     "output_type": "stream",
     "text": [
      "\r",
      "Val:   5%|▍         | 4/86 [00:11<03:45,  2.75s/it, eval_loss=0.0997, gpu_mem=6.91 GB]"
     ]
    },
    {
     "name": "stderr",
     "output_type": "stream",
     "text": [
      "\r",
      "Val:   5%|▍         | 4/86 [00:14<03:45,  2.75s/it, eval_loss=0.0955, gpu_mem=6.91 GB]"
     ]
    },
    {
     "name": "stderr",
     "output_type": "stream",
     "text": [
      "\r",
      "Val:   6%|▌         | 5/86 [00:14<03:31,  2.62s/it, eval_loss=0.0955, gpu_mem=6.91 GB]"
     ]
    },
    {
     "name": "stderr",
     "output_type": "stream",
     "text": [
      "\r",
      "Val:   6%|▌         | 5/86 [00:16<03:31,  2.62s/it, eval_loss=0.0924, gpu_mem=6.91 GB]"
     ]
    },
    {
     "name": "stderr",
     "output_type": "stream",
     "text": [
      "\r",
      "Val:   7%|▋         | 6/86 [00:16<03:22,  2.53s/it, eval_loss=0.0924, gpu_mem=6.91 GB]"
     ]
    },
    {
     "name": "stderr",
     "output_type": "stream",
     "text": [
      "\r",
      "Val:   7%|▋         | 6/86 [00:19<03:22,  2.53s/it, eval_loss=0.0847, gpu_mem=6.91 GB]"
     ]
    },
    {
     "name": "stderr",
     "output_type": "stream",
     "text": [
      "\r",
      "Val:   8%|▊         | 7/86 [00:19<03:15,  2.47s/it, eval_loss=0.0847, gpu_mem=6.91 GB]"
     ]
    },
    {
     "name": "stderr",
     "output_type": "stream",
     "text": [
      "\r",
      "Val:   8%|▊         | 7/86 [00:21<03:15,  2.47s/it, eval_loss=0.0818, gpu_mem=6.91 GB]"
     ]
    },
    {
     "name": "stderr",
     "output_type": "stream",
     "text": [
      "\r",
      "Val:   9%|▉         | 8/86 [00:21<03:16,  2.52s/it, eval_loss=0.0818, gpu_mem=6.91 GB]"
     ]
    },
    {
     "name": "stderr",
     "output_type": "stream",
     "text": [
      "\r",
      "Val:   9%|▉         | 8/86 [00:23<03:16,  2.52s/it, eval_loss=0.0801, gpu_mem=6.91 GB]"
     ]
    },
    {
     "name": "stderr",
     "output_type": "stream",
     "text": [
      "\r",
      "Val:  10%|█         | 9/86 [00:24<03:10,  2.47s/it, eval_loss=0.0801, gpu_mem=6.91 GB]"
     ]
    },
    {
     "name": "stderr",
     "output_type": "stream",
     "text": [
      "\r",
      "Val:  10%|█         | 9/86 [00:26<03:10,  2.47s/it, eval_loss=0.0871, gpu_mem=6.91 GB]"
     ]
    },
    {
     "name": "stderr",
     "output_type": "stream",
     "text": [
      "\r",
      "Val:  12%|█▏        | 10/86 [00:26<03:12,  2.54s/it, eval_loss=0.0871, gpu_mem=6.91 GB]"
     ]
    },
    {
     "name": "stderr",
     "output_type": "stream",
     "text": [
      "\r",
      "Val:  12%|█▏        | 10/86 [00:29<03:12,  2.54s/it, eval_loss=0.0842, gpu_mem=6.91 GB]"
     ]
    },
    {
     "name": "stderr",
     "output_type": "stream",
     "text": [
      "\r",
      "Val:  13%|█▎        | 11/86 [00:29<03:15,  2.61s/it, eval_loss=0.0842, gpu_mem=6.91 GB]"
     ]
    },
    {
     "name": "stderr",
     "output_type": "stream",
     "text": [
      "\r",
      "Val:  13%|█▎        | 11/86 [00:32<03:15,  2.61s/it, eval_loss=0.0844, gpu_mem=6.91 GB]"
     ]
    },
    {
     "name": "stderr",
     "output_type": "stream",
     "text": [
      "\r",
      "Val:  14%|█▍        | 12/86 [00:32<03:26,  2.80s/it, eval_loss=0.0844, gpu_mem=6.91 GB]"
     ]
    },
    {
     "name": "stderr",
     "output_type": "stream",
     "text": [
      "\r",
      "Val:  14%|█▍        | 12/86 [00:35<03:26,  2.80s/it, eval_loss=0.0865, gpu_mem=6.91 GB]"
     ]
    },
    {
     "name": "stderr",
     "output_type": "stream",
     "text": [
      "\r",
      "Val:  15%|█▌        | 13/86 [00:35<03:14,  2.67s/it, eval_loss=0.0865, gpu_mem=6.91 GB]"
     ]
    },
    {
     "name": "stderr",
     "output_type": "stream",
     "text": [
      "\r",
      "Val:  15%|█▌        | 13/86 [00:38<03:14,  2.67s/it, eval_loss=0.0828, gpu_mem=6.91 GB]"
     ]
    },
    {
     "name": "stderr",
     "output_type": "stream",
     "text": [
      "\r",
      "Val:  16%|█▋        | 14/86 [00:38<03:21,  2.79s/it, eval_loss=0.0828, gpu_mem=6.91 GB]"
     ]
    },
    {
     "name": "stderr",
     "output_type": "stream",
     "text": [
      "\r",
      "Val:  16%|█▋        | 14/86 [00:41<03:21,  2.79s/it, eval_loss=0.0800, gpu_mem=6.91 GB]"
     ]
    },
    {
     "name": "stderr",
     "output_type": "stream",
     "text": [
      "\r",
      "Val:  17%|█▋        | 15/86 [00:41<03:26,  2.91s/it, eval_loss=0.0800, gpu_mem=6.91 GB]"
     ]
    },
    {
     "name": "stderr",
     "output_type": "stream",
     "text": [
      "\r",
      "Val:  17%|█▋        | 15/86 [00:44<03:26,  2.91s/it, eval_loss=0.0781, gpu_mem=6.91 GB]"
     ]
    },
    {
     "name": "stderr",
     "output_type": "stream",
     "text": [
      "\r",
      "Val:  19%|█▊        | 16/86 [00:44<03:36,  3.09s/it, eval_loss=0.0781, gpu_mem=6.91 GB]"
     ]
    },
    {
     "name": "stderr",
     "output_type": "stream",
     "text": [
      "\r",
      "Val:  19%|█▊        | 16/86 [00:48<03:36,  3.09s/it, eval_loss=0.0782, gpu_mem=6.91 GB]"
     ]
    },
    {
     "name": "stderr",
     "output_type": "stream",
     "text": [
      "\r",
      "Val:  20%|█▉        | 17/86 [00:48<03:45,  3.27s/it, eval_loss=0.0782, gpu_mem=6.91 GB]"
     ]
    },
    {
     "name": "stderr",
     "output_type": "stream",
     "text": [
      "\r",
      "Val:  20%|█▉        | 17/86 [00:51<03:45,  3.27s/it, eval_loss=0.0777, gpu_mem=6.91 GB]"
     ]
    },
    {
     "name": "stderr",
     "output_type": "stream",
     "text": [
      "\r",
      "Val:  21%|██        | 18/86 [00:51<03:36,  3.18s/it, eval_loss=0.0777, gpu_mem=6.91 GB]"
     ]
    },
    {
     "name": "stderr",
     "output_type": "stream",
     "text": [
      "\r",
      "Val:  21%|██        | 18/86 [00:54<03:36,  3.18s/it, eval_loss=0.0779, gpu_mem=6.91 GB]"
     ]
    },
    {
     "name": "stderr",
     "output_type": "stream",
     "text": [
      "\r",
      "Val:  22%|██▏       | 19/86 [00:54<03:32,  3.18s/it, eval_loss=0.0779, gpu_mem=6.91 GB]"
     ]
    },
    {
     "name": "stderr",
     "output_type": "stream",
     "text": [
      "\r",
      "Val:  22%|██▏       | 19/86 [00:57<03:32,  3.18s/it, eval_loss=0.0785, gpu_mem=6.91 GB]"
     ]
    },
    {
     "name": "stderr",
     "output_type": "stream",
     "text": [
      "\r",
      "Val:  23%|██▎       | 20/86 [00:57<03:24,  3.09s/it, eval_loss=0.0785, gpu_mem=6.91 GB]"
     ]
    },
    {
     "name": "stderr",
     "output_type": "stream",
     "text": [
      "\r",
      "Val:  23%|██▎       | 20/86 [01:00<03:24,  3.09s/it, eval_loss=0.0771, gpu_mem=6.91 GB]"
     ]
    },
    {
     "name": "stderr",
     "output_type": "stream",
     "text": [
      "\r",
      "Val:  24%|██▍       | 21/86 [01:00<03:17,  3.03s/it, eval_loss=0.0771, gpu_mem=6.91 GB]"
     ]
    },
    {
     "name": "stderr",
     "output_type": "stream",
     "text": [
      "\r",
      "Val:  24%|██▍       | 21/86 [01:03<03:17,  3.03s/it, eval_loss=0.0804, gpu_mem=6.91 GB]"
     ]
    },
    {
     "name": "stderr",
     "output_type": "stream",
     "text": [
      "\r",
      "Val:  26%|██▌       | 22/86 [01:03<03:08,  2.95s/it, eval_loss=0.0804, gpu_mem=6.91 GB]"
     ]
    },
    {
     "name": "stderr",
     "output_type": "stream",
     "text": [
      "\r",
      "Val:  26%|██▌       | 22/86 [01:05<03:08,  2.95s/it, eval_loss=0.0844, gpu_mem=6.91 GB]"
     ]
    },
    {
     "name": "stderr",
     "output_type": "stream",
     "text": [
      "\r",
      "Val:  27%|██▋       | 23/86 [01:05<03:00,  2.86s/it, eval_loss=0.0844, gpu_mem=6.91 GB]"
     ]
    },
    {
     "name": "stderr",
     "output_type": "stream",
     "text": [
      "\r",
      "Val:  27%|██▋       | 23/86 [01:08<03:00,  2.86s/it, eval_loss=0.0839, gpu_mem=6.91 GB]"
     ]
    },
    {
     "name": "stderr",
     "output_type": "stream",
     "text": [
      "\r",
      "Val:  28%|██▊       | 24/86 [01:08<02:47,  2.71s/it, eval_loss=0.0839, gpu_mem=6.91 GB]"
     ]
    },
    {
     "name": "stderr",
     "output_type": "stream",
     "text": [
      "\r",
      "Val:  28%|██▊       | 24/86 [01:11<02:47,  2.71s/it, eval_loss=0.0837, gpu_mem=6.91 GB]"
     ]
    },
    {
     "name": "stderr",
     "output_type": "stream",
     "text": [
      "\r",
      "Val:  29%|██▉       | 25/86 [01:11<02:55,  2.88s/it, eval_loss=0.0837, gpu_mem=6.91 GB]"
     ]
    },
    {
     "name": "stderr",
     "output_type": "stream",
     "text": [
      "\r",
      "Val:  29%|██▉       | 25/86 [01:14<02:55,  2.88s/it, eval_loss=0.0816, gpu_mem=6.91 GB]"
     ]
    },
    {
     "name": "stderr",
     "output_type": "stream",
     "text": [
      "\r",
      "Val:  30%|███       | 26/86 [01:14<02:47,  2.79s/it, eval_loss=0.0816, gpu_mem=6.91 GB]"
     ]
    },
    {
     "name": "stderr",
     "output_type": "stream",
     "text": [
      "\r",
      "Val:  30%|███       | 26/86 [01:16<02:47,  2.79s/it, eval_loss=0.0853, gpu_mem=6.91 GB]"
     ]
    },
    {
     "name": "stderr",
     "output_type": "stream",
     "text": [
      "\r",
      "Val:  31%|███▏      | 27/86 [01:16<02:42,  2.75s/it, eval_loss=0.0853, gpu_mem=6.91 GB]"
     ]
    },
    {
     "name": "stderr",
     "output_type": "stream",
     "text": [
      "\r",
      "Val:  31%|███▏      | 27/86 [01:19<02:42,  2.75s/it, eval_loss=0.0848, gpu_mem=6.91 GB]"
     ]
    },
    {
     "name": "stderr",
     "output_type": "stream",
     "text": [
      "\r",
      "Val:  33%|███▎      | 28/86 [01:19<02:35,  2.68s/it, eval_loss=0.0848, gpu_mem=6.91 GB]"
     ]
    },
    {
     "name": "stderr",
     "output_type": "stream",
     "text": [
      "\r",
      "Val:  33%|███▎      | 28/86 [01:21<02:35,  2.68s/it, eval_loss=0.0838, gpu_mem=6.91 GB]"
     ]
    },
    {
     "name": "stderr",
     "output_type": "stream",
     "text": [
      "\r",
      "Val:  34%|███▎      | 29/86 [01:21<02:27,  2.58s/it, eval_loss=0.0838, gpu_mem=6.91 GB]"
     ]
    },
    {
     "name": "stderr",
     "output_type": "stream",
     "text": [
      "\r",
      "Val:  34%|███▎      | 29/86 [01:23<02:27,  2.58s/it, eval_loss=0.0838, gpu_mem=6.91 GB]"
     ]
    },
    {
     "name": "stderr",
     "output_type": "stream",
     "text": [
      "\r",
      "Val:  35%|███▍      | 30/86 [01:23<02:20,  2.51s/it, eval_loss=0.0838, gpu_mem=6.91 GB]"
     ]
    },
    {
     "name": "stderr",
     "output_type": "stream",
     "text": [
      "\r",
      "Val:  35%|███▍      | 30/86 [01:26<02:20,  2.51s/it, eval_loss=0.0830, gpu_mem=6.91 GB]"
     ]
    },
    {
     "name": "stderr",
     "output_type": "stream",
     "text": [
      "\r",
      "Val:  36%|███▌      | 31/86 [01:26<02:19,  2.54s/it, eval_loss=0.0830, gpu_mem=6.91 GB]"
     ]
    },
    {
     "name": "stderr",
     "output_type": "stream",
     "text": [
      "\r",
      "Val:  36%|███▌      | 31/86 [01:28<02:19,  2.54s/it, eval_loss=0.0905, gpu_mem=6.91 GB]"
     ]
    },
    {
     "name": "stderr",
     "output_type": "stream",
     "text": [
      "\r",
      "Val:  37%|███▋      | 32/86 [01:28<02:14,  2.49s/it, eval_loss=0.0905, gpu_mem=6.91 GB]"
     ]
    },
    {
     "name": "stderr",
     "output_type": "stream",
     "text": [
      "\r",
      "Val:  37%|███▋      | 32/86 [01:31<02:14,  2.49s/it, eval_loss=0.0886, gpu_mem=6.91 GB]"
     ]
    },
    {
     "name": "stderr",
     "output_type": "stream",
     "text": [
      "\r",
      "Val:  38%|███▊      | 33/86 [01:31<02:17,  2.59s/it, eval_loss=0.0886, gpu_mem=6.91 GB]"
     ]
    },
    {
     "name": "stderr",
     "output_type": "stream",
     "text": [
      "\r",
      "Val:  38%|███▊      | 33/86 [01:34<02:17,  2.59s/it, eval_loss=0.0899, gpu_mem=6.91 GB]"
     ]
    },
    {
     "name": "stderr",
     "output_type": "stream",
     "text": [
      "\r",
      "Val:  40%|███▉      | 34/86 [01:34<02:11,  2.52s/it, eval_loss=0.0899, gpu_mem=6.91 GB]"
     ]
    },
    {
     "name": "stderr",
     "output_type": "stream",
     "text": [
      "\r",
      "Val:  40%|███▉      | 34/86 [01:36<02:11,  2.52s/it, eval_loss=0.0889, gpu_mem=6.91 GB]"
     ]
    },
    {
     "name": "stderr",
     "output_type": "stream",
     "text": [
      "\r",
      "Val:  41%|████      | 35/86 [01:36<02:05,  2.47s/it, eval_loss=0.0889, gpu_mem=6.91 GB]"
     ]
    },
    {
     "name": "stderr",
     "output_type": "stream",
     "text": [
      "\r",
      "Val:  41%|████      | 35/86 [01:39<02:05,  2.47s/it, eval_loss=0.0875, gpu_mem=6.91 GB]"
     ]
    },
    {
     "name": "stderr",
     "output_type": "stream",
     "text": [
      "\r",
      "Val:  42%|████▏     | 36/86 [01:39<02:08,  2.57s/it, eval_loss=0.0875, gpu_mem=6.91 GB]"
     ]
    },
    {
     "name": "stderr",
     "output_type": "stream",
     "text": [
      "\r",
      "Val:  42%|████▏     | 36/86 [01:41<02:08,  2.57s/it, eval_loss=0.0881, gpu_mem=6.91 GB]"
     ]
    },
    {
     "name": "stderr",
     "output_type": "stream",
     "text": [
      "\r",
      "Val:  43%|████▎     | 37/86 [01:41<02:04,  2.54s/it, eval_loss=0.0881, gpu_mem=6.91 GB]"
     ]
    },
    {
     "name": "stderr",
     "output_type": "stream",
     "text": [
      "\r",
      "Val:  43%|████▎     | 37/86 [01:44<02:04,  2.54s/it, eval_loss=0.0879, gpu_mem=6.91 GB]"
     ]
    },
    {
     "name": "stderr",
     "output_type": "stream",
     "text": [
      "\r",
      "Val:  44%|████▍     | 38/86 [01:44<01:58,  2.48s/it, eval_loss=0.0879, gpu_mem=6.91 GB]"
     ]
    },
    {
     "name": "stderr",
     "output_type": "stream",
     "text": [
      "\r",
      "Val:  44%|████▍     | 38/86 [01:46<01:58,  2.48s/it, eval_loss=0.0865, gpu_mem=6.91 GB]"
     ]
    },
    {
     "name": "stderr",
     "output_type": "stream",
     "text": [
      "\r",
      "Val:  45%|████▌     | 39/86 [01:46<01:58,  2.52s/it, eval_loss=0.0865, gpu_mem=6.91 GB]"
     ]
    },
    {
     "name": "stderr",
     "output_type": "stream",
     "text": [
      "\r",
      "Val:  45%|████▌     | 39/86 [01:50<01:58,  2.52s/it, eval_loss=0.0864, gpu_mem=6.91 GB]"
     ]
    },
    {
     "name": "stderr",
     "output_type": "stream",
     "text": [
      "\r",
      "Val:  47%|████▋     | 40/86 [01:50<02:11,  2.87s/it, eval_loss=0.0864, gpu_mem=6.91 GB]"
     ]
    },
    {
     "name": "stderr",
     "output_type": "stream",
     "text": [
      "\r",
      "Val:  47%|████▋     | 40/86 [01:53<02:11,  2.87s/it, eval_loss=0.0859, gpu_mem=6.91 GB]"
     ]
    },
    {
     "name": "stderr",
     "output_type": "stream",
     "text": [
      "\r",
      "Val:  48%|████▊     | 41/86 [01:53<02:08,  2.85s/it, eval_loss=0.0859, gpu_mem=6.91 GB]"
     ]
    },
    {
     "name": "stderr",
     "output_type": "stream",
     "text": [
      "\r",
      "Val:  48%|████▊     | 41/86 [01:55<02:08,  2.85s/it, eval_loss=0.0854, gpu_mem=6.91 GB]"
     ]
    },
    {
     "name": "stderr",
     "output_type": "stream",
     "text": [
      "\r",
      "Val:  49%|████▉     | 42/86 [01:55<01:58,  2.70s/it, eval_loss=0.0854, gpu_mem=6.91 GB]"
     ]
    },
    {
     "name": "stderr",
     "output_type": "stream",
     "text": [
      "\r",
      "Val:  49%|████▉     | 42/86 [01:57<01:58,  2.70s/it, eval_loss=0.0845, gpu_mem=6.91 GB]"
     ]
    },
    {
     "name": "stderr",
     "output_type": "stream",
     "text": [
      "\r",
      "Val:  50%|█████     | 43/86 [01:57<01:51,  2.60s/it, eval_loss=0.0845, gpu_mem=6.91 GB]"
     ]
    },
    {
     "name": "stderr",
     "output_type": "stream",
     "text": [
      "\r",
      "Val:  50%|█████     | 43/86 [02:00<01:51,  2.60s/it, eval_loss=0.0877, gpu_mem=6.91 GB]"
     ]
    },
    {
     "name": "stderr",
     "output_type": "stream",
     "text": [
      "\r",
      "Val:  51%|█████     | 44/86 [02:00<01:49,  2.60s/it, eval_loss=0.0877, gpu_mem=6.91 GB]"
     ]
    },
    {
     "name": "stderr",
     "output_type": "stream",
     "text": [
      "\r",
      "Val:  51%|█████     | 44/86 [02:03<01:49,  2.60s/it, eval_loss=0.0864, gpu_mem=6.91 GB]"
     ]
    },
    {
     "name": "stderr",
     "output_type": "stream",
     "text": [
      "\r",
      "Val:  52%|█████▏    | 45/86 [02:03<01:51,  2.72s/it, eval_loss=0.0864, gpu_mem=6.91 GB]"
     ]
    },
    {
     "name": "stderr",
     "output_type": "stream",
     "text": [
      "\r",
      "Val:  52%|█████▏    | 45/86 [02:05<01:51,  2.72s/it, eval_loss=0.0863, gpu_mem=6.91 GB]"
     ]
    },
    {
     "name": "stderr",
     "output_type": "stream",
     "text": [
      "\r",
      "Val:  53%|█████▎    | 46/86 [02:05<01:44,  2.61s/it, eval_loss=0.0863, gpu_mem=6.91 GB]"
     ]
    },
    {
     "name": "stderr",
     "output_type": "stream",
     "text": [
      "\r",
      "Val:  53%|█████▎    | 46/86 [02:08<01:44,  2.61s/it, eval_loss=0.0856, gpu_mem=6.91 GB]"
     ]
    },
    {
     "name": "stderr",
     "output_type": "stream",
     "text": [
      "\r",
      "Val:  55%|█████▍    | 47/86 [02:08<01:38,  2.54s/it, eval_loss=0.0856, gpu_mem=6.91 GB]"
     ]
    },
    {
     "name": "stderr",
     "output_type": "stream",
     "text": [
      "\r",
      "Val:  55%|█████▍    | 47/86 [02:10<01:38,  2.54s/it, eval_loss=0.0874, gpu_mem=6.91 GB]"
     ]
    },
    {
     "name": "stderr",
     "output_type": "stream",
     "text": [
      "\r",
      "Val:  56%|█████▌    | 48/86 [02:10<01:38,  2.58s/it, eval_loss=0.0874, gpu_mem=6.91 GB]"
     ]
    },
    {
     "name": "stderr",
     "output_type": "stream",
     "text": [
      "\r",
      "Val:  56%|█████▌    | 48/86 [02:13<01:38,  2.58s/it, eval_loss=0.0869, gpu_mem=6.91 GB]"
     ]
    },
    {
     "name": "stderr",
     "output_type": "stream",
     "text": [
      "\r",
      "Val:  57%|█████▋    | 49/86 [02:13<01:36,  2.62s/it, eval_loss=0.0869, gpu_mem=6.91 GB]"
     ]
    },
    {
     "name": "stderr",
     "output_type": "stream",
     "text": [
      "\r",
      "Val:  57%|█████▋    | 49/86 [02:15<01:36,  2.62s/it, eval_loss=0.0866, gpu_mem=6.91 GB]"
     ]
    },
    {
     "name": "stderr",
     "output_type": "stream",
     "text": [
      "\r",
      "Val:  58%|█████▊    | 50/86 [02:15<01:31,  2.54s/it, eval_loss=0.0866, gpu_mem=6.91 GB]"
     ]
    },
    {
     "name": "stderr",
     "output_type": "stream",
     "text": [
      "\r",
      "Val:  58%|█████▊    | 50/86 [02:18<01:31,  2.54s/it, eval_loss=0.0895, gpu_mem=6.91 GB]"
     ]
    },
    {
     "name": "stderr",
     "output_type": "stream",
     "text": [
      "\r",
      "Val:  59%|█████▉    | 51/86 [02:18<01:26,  2.48s/it, eval_loss=0.0895, gpu_mem=6.91 GB]"
     ]
    },
    {
     "name": "stderr",
     "output_type": "stream",
     "text": [
      "\r",
      "Val:  59%|█████▉    | 51/86 [02:20<01:26,  2.48s/it, eval_loss=0.0909, gpu_mem=6.91 GB]"
     ]
    },
    {
     "name": "stderr",
     "output_type": "stream",
     "text": [
      "\r",
      "Val:  60%|██████    | 52/86 [02:20<01:24,  2.47s/it, eval_loss=0.0909, gpu_mem=6.91 GB]"
     ]
    },
    {
     "name": "stderr",
     "output_type": "stream",
     "text": [
      "\r",
      "Val:  60%|██████    | 52/86 [02:23<01:24,  2.47s/it, eval_loss=0.0922, gpu_mem=6.91 GB]"
     ]
    },
    {
     "name": "stderr",
     "output_type": "stream",
     "text": [
      "\r",
      "Val:  62%|██████▏   | 53/86 [02:23<01:22,  2.49s/it, eval_loss=0.0922, gpu_mem=6.91 GB]"
     ]
    },
    {
     "name": "stderr",
     "output_type": "stream",
     "text": [
      "\r",
      "Val:  62%|██████▏   | 53/86 [02:25<01:22,  2.49s/it, eval_loss=0.0915, gpu_mem=6.91 GB]"
     ]
    },
    {
     "name": "stderr",
     "output_type": "stream",
     "text": [
      "\r",
      "Val:  63%|██████▎   | 54/86 [02:25<01:18,  2.45s/it, eval_loss=0.0915, gpu_mem=6.91 GB]"
     ]
    },
    {
     "name": "stderr",
     "output_type": "stream",
     "text": [
      "\r",
      "Val:  63%|██████▎   | 54/86 [02:27<01:18,  2.45s/it, eval_loss=0.0922, gpu_mem=6.91 GB]"
     ]
    },
    {
     "name": "stderr",
     "output_type": "stream",
     "text": [
      "\r",
      "Val:  64%|██████▍   | 55/86 [02:27<01:15,  2.42s/it, eval_loss=0.0922, gpu_mem=6.91 GB]"
     ]
    },
    {
     "name": "stderr",
     "output_type": "stream",
     "text": [
      "\r",
      "Val:  64%|██████▍   | 55/86 [02:30<01:15,  2.42s/it, eval_loss=0.0918, gpu_mem=6.91 GB]"
     ]
    },
    {
     "name": "stderr",
     "output_type": "stream",
     "text": [
      "\r",
      "Val:  65%|██████▌   | 56/86 [02:30<01:12,  2.42s/it, eval_loss=0.0918, gpu_mem=6.91 GB]"
     ]
    },
    {
     "name": "stderr",
     "output_type": "stream",
     "text": [
      "\r",
      "Val:  65%|██████▌   | 56/86 [02:33<01:12,  2.42s/it, eval_loss=0.0917, gpu_mem=6.91 GB]"
     ]
    },
    {
     "name": "stderr",
     "output_type": "stream",
     "text": [
      "\r",
      "Val:  66%|██████▋   | 57/86 [02:33<01:11,  2.48s/it, eval_loss=0.0917, gpu_mem=6.91 GB]"
     ]
    },
    {
     "name": "stderr",
     "output_type": "stream",
     "text": [
      "\r",
      "Val:  66%|██████▋   | 57/86 [02:35<01:11,  2.48s/it, eval_loss=0.0940, gpu_mem=6.91 GB]"
     ]
    },
    {
     "name": "stderr",
     "output_type": "stream",
     "text": [
      "\r",
      "Val:  67%|██████▋   | 58/86 [02:35<01:11,  2.57s/it, eval_loss=0.0940, gpu_mem=6.91 GB]"
     ]
    },
    {
     "name": "stderr",
     "output_type": "stream",
     "text": [
      "\r",
      "Val:  67%|██████▋   | 58/86 [02:38<01:11,  2.57s/it, eval_loss=0.0935, gpu_mem=6.91 GB]"
     ]
    },
    {
     "name": "stderr",
     "output_type": "stream",
     "text": [
      "\r",
      "Val:  69%|██████▊   | 59/86 [02:38<01:07,  2.51s/it, eval_loss=0.0935, gpu_mem=6.91 GB]"
     ]
    },
    {
     "name": "stderr",
     "output_type": "stream",
     "text": [
      "\r",
      "Val:  69%|██████▊   | 59/86 [02:40<01:07,  2.51s/it, eval_loss=0.0953, gpu_mem=6.91 GB]"
     ]
    },
    {
     "name": "stderr",
     "output_type": "stream",
     "text": [
      "\r",
      "Val:  70%|██████▉   | 60/86 [02:40<01:04,  2.47s/it, eval_loss=0.0953, gpu_mem=6.91 GB]"
     ]
    },
    {
     "name": "stderr",
     "output_type": "stream",
     "text": [
      "\r",
      "Val:  70%|██████▉   | 60/86 [02:43<01:04,  2.47s/it, eval_loss=0.0947, gpu_mem=6.91 GB]"
     ]
    },
    {
     "name": "stderr",
     "output_type": "stream",
     "text": [
      "\r",
      "Val:  71%|███████   | 61/86 [02:43<01:02,  2.48s/it, eval_loss=0.0947, gpu_mem=6.91 GB]"
     ]
    },
    {
     "name": "stderr",
     "output_type": "stream",
     "text": [
      "\r",
      "Val:  71%|███████   | 61/86 [02:45<01:02,  2.48s/it, eval_loss=0.0943, gpu_mem=6.91 GB]"
     ]
    },
    {
     "name": "stderr",
     "output_type": "stream",
     "text": [
      "\r",
      "Val:  72%|███████▏  | 62/86 [02:45<01:00,  2.52s/it, eval_loss=0.0943, gpu_mem=6.91 GB]"
     ]
    },
    {
     "name": "stderr",
     "output_type": "stream",
     "text": [
      "\r",
      "Val:  72%|███████▏  | 62/86 [02:47<01:00,  2.52s/it, eval_loss=0.0942, gpu_mem=6.91 GB]"
     ]
    },
    {
     "name": "stderr",
     "output_type": "stream",
     "text": [
      "\r",
      "Val:  73%|███████▎  | 63/86 [02:48<00:56,  2.47s/it, eval_loss=0.0942, gpu_mem=6.91 GB]"
     ]
    },
    {
     "name": "stderr",
     "output_type": "stream",
     "text": [
      "\r",
      "Val:  73%|███████▎  | 63/86 [02:50<00:56,  2.47s/it, eval_loss=0.0941, gpu_mem=6.91 GB]"
     ]
    },
    {
     "name": "stderr",
     "output_type": "stream",
     "text": [
      "\r",
      "Val:  74%|███████▍  | 64/86 [02:50<00:54,  2.47s/it, eval_loss=0.0941, gpu_mem=6.91 GB]"
     ]
    },
    {
     "name": "stderr",
     "output_type": "stream",
     "text": [
      "\r",
      "Val:  74%|███████▍  | 64/86 [02:52<00:54,  2.47s/it, eval_loss=0.0932, gpu_mem=6.91 GB]"
     ]
    },
    {
     "name": "stderr",
     "output_type": "stream",
     "text": [
      "\r",
      "Val:  76%|███████▌  | 65/86 [02:52<00:51,  2.46s/it, eval_loss=0.0932, gpu_mem=6.91 GB]"
     ]
    },
    {
     "name": "stderr",
     "output_type": "stream",
     "text": [
      "\r",
      "Val:  76%|███████▌  | 65/86 [02:55<00:51,  2.46s/it, eval_loss=0.0950, gpu_mem=6.91 GB]"
     ]
    },
    {
     "name": "stderr",
     "output_type": "stream",
     "text": [
      "\r",
      "Val:  77%|███████▋  | 66/86 [02:55<00:49,  2.49s/it, eval_loss=0.0950, gpu_mem=6.91 GB]"
     ]
    },
    {
     "name": "stderr",
     "output_type": "stream",
     "text": [
      "\r",
      "Val:  77%|███████▋  | 66/86 [02:57<00:49,  2.49s/it, eval_loss=0.0942, gpu_mem=6.91 GB]"
     ]
    },
    {
     "name": "stderr",
     "output_type": "stream",
     "text": [
      "\r",
      "Val:  78%|███████▊  | 67/86 [02:57<00:46,  2.46s/it, eval_loss=0.0942, gpu_mem=6.91 GB]"
     ]
    },
    {
     "name": "stderr",
     "output_type": "stream",
     "text": [
      "\r",
      "Val:  78%|███████▊  | 67/86 [03:00<00:46,  2.46s/it, eval_loss=0.0966, gpu_mem=6.91 GB]"
     ]
    },
    {
     "name": "stderr",
     "output_type": "stream",
     "text": [
      "\r",
      "Val:  79%|███████▉  | 68/86 [03:00<00:43,  2.44s/it, eval_loss=0.0966, gpu_mem=6.91 GB]"
     ]
    },
    {
     "name": "stderr",
     "output_type": "stream",
     "text": [
      "\r",
      "Val:  79%|███████▉  | 68/86 [03:02<00:43,  2.44s/it, eval_loss=0.0967, gpu_mem=6.91 GB]"
     ]
    },
    {
     "name": "stderr",
     "output_type": "stream",
     "text": [
      "\r",
      "Val:  80%|████████  | 69/86 [03:02<00:41,  2.44s/it, eval_loss=0.0967, gpu_mem=6.91 GB]"
     ]
    },
    {
     "name": "stderr",
     "output_type": "stream",
     "text": [
      "\r",
      "Val:  80%|████████  | 69/86 [03:05<00:41,  2.44s/it, eval_loss=0.0964, gpu_mem=6.91 GB]"
     ]
    },
    {
     "name": "stderr",
     "output_type": "stream",
     "text": [
      "\r",
      "Val:  81%|████████▏ | 70/86 [03:05<00:39,  2.48s/it, eval_loss=0.0964, gpu_mem=6.91 GB]"
     ]
    },
    {
     "name": "stderr",
     "output_type": "stream",
     "text": [
      "\r",
      "Val:  81%|████████▏ | 70/86 [03:08<00:39,  2.48s/it, eval_loss=0.0971, gpu_mem=6.91 GB]"
     ]
    },
    {
     "name": "stderr",
     "output_type": "stream",
     "text": [
      "\r",
      "Val:  83%|████████▎ | 71/86 [03:08<00:39,  2.66s/it, eval_loss=0.0971, gpu_mem=6.91 GB]"
     ]
    },
    {
     "name": "stderr",
     "output_type": "stream",
     "text": [
      "\r",
      "Val:  83%|████████▎ | 71/86 [03:10<00:39,  2.66s/it, eval_loss=0.0967, gpu_mem=6.91 GB]"
     ]
    },
    {
     "name": "stderr",
     "output_type": "stream",
     "text": [
      "\r",
      "Val:  84%|████████▎ | 72/86 [03:10<00:36,  2.57s/it, eval_loss=0.0967, gpu_mem=6.91 GB]"
     ]
    },
    {
     "name": "stderr",
     "output_type": "stream",
     "text": [
      "\r",
      "Val:  84%|████████▎ | 72/86 [03:13<00:36,  2.57s/it, eval_loss=0.0964, gpu_mem=6.91 GB]"
     ]
    },
    {
     "name": "stderr",
     "output_type": "stream",
     "text": [
      "\r",
      "Val:  85%|████████▍ | 73/86 [03:13<00:32,  2.53s/it, eval_loss=0.0964, gpu_mem=6.91 GB]"
     ]
    },
    {
     "name": "stderr",
     "output_type": "stream",
     "text": [
      "\r",
      "Val:  85%|████████▍ | 73/86 [03:15<00:32,  2.53s/it, eval_loss=0.0967, gpu_mem=6.91 GB]"
     ]
    },
    {
     "name": "stderr",
     "output_type": "stream",
     "text": [
      "\r",
      "Val:  86%|████████▌ | 74/86 [03:15<00:30,  2.51s/it, eval_loss=0.0967, gpu_mem=6.91 GB]"
     ]
    },
    {
     "name": "stderr",
     "output_type": "stream",
     "text": [
      "\r",
      "Val:  86%|████████▌ | 74/86 [03:18<00:30,  2.51s/it, eval_loss=0.0961, gpu_mem=6.91 GB]"
     ]
    },
    {
     "name": "stderr",
     "output_type": "stream",
     "text": [
      "\r",
      "Val:  87%|████████▋ | 75/86 [03:18<00:28,  2.56s/it, eval_loss=0.0961, gpu_mem=6.91 GB]"
     ]
    },
    {
     "name": "stderr",
     "output_type": "stream",
     "text": [
      "\r",
      "Val:  87%|████████▋ | 75/86 [03:20<00:28,  2.56s/it, eval_loss=0.0955, gpu_mem=6.91 GB]"
     ]
    },
    {
     "name": "stderr",
     "output_type": "stream",
     "text": [
      "\r",
      "Val:  88%|████████▊ | 76/86 [03:20<00:25,  2.50s/it, eval_loss=0.0955, gpu_mem=6.91 GB]"
     ]
    },
    {
     "name": "stderr",
     "output_type": "stream",
     "text": [
      "\r",
      "Val:  88%|████████▊ | 76/86 [03:23<00:25,  2.50s/it, eval_loss=0.0966, gpu_mem=6.91 GB]"
     ]
    },
    {
     "name": "stderr",
     "output_type": "stream",
     "text": [
      "\r",
      "Val:  90%|████████▉ | 77/86 [03:23<00:22,  2.46s/it, eval_loss=0.0966, gpu_mem=6.91 GB]"
     ]
    },
    {
     "name": "stderr",
     "output_type": "stream",
     "text": [
      "\r",
      "Val:  90%|████████▉ | 77/86 [03:25<00:22,  2.46s/it, eval_loss=0.0959, gpu_mem=6.91 GB]"
     ]
    },
    {
     "name": "stderr",
     "output_type": "stream",
     "text": [
      "\r",
      "Val:  91%|█████████ | 78/86 [03:25<00:19,  2.44s/it, eval_loss=0.0959, gpu_mem=6.91 GB]"
     ]
    },
    {
     "name": "stderr",
     "output_type": "stream",
     "text": [
      "\r",
      "Val:  91%|█████████ | 78/86 [03:27<00:19,  2.44s/it, eval_loss=0.0958, gpu_mem=6.91 GB]"
     ]
    },
    {
     "name": "stderr",
     "output_type": "stream",
     "text": [
      "\r",
      "Val:  92%|█████████▏| 79/86 [03:27<00:17,  2.46s/it, eval_loss=0.0958, gpu_mem=6.91 GB]"
     ]
    },
    {
     "name": "stderr",
     "output_type": "stream",
     "text": [
      "\r",
      "Val:  92%|█████████▏| 79/86 [03:30<00:17,  2.46s/it, eval_loss=0.0960, gpu_mem=6.91 GB]"
     ]
    },
    {
     "name": "stderr",
     "output_type": "stream",
     "text": [
      "\r",
      "Val:  93%|█████████▎| 80/86 [03:30<00:14,  2.43s/it, eval_loss=0.0960, gpu_mem=6.91 GB]"
     ]
    },
    {
     "name": "stderr",
     "output_type": "stream",
     "text": [
      "\r",
      "Val:  93%|█████████▎| 80/86 [03:32<00:14,  2.43s/it, eval_loss=0.0954, gpu_mem=6.91 GB]"
     ]
    },
    {
     "name": "stderr",
     "output_type": "stream",
     "text": [
      "\r",
      "Val:  94%|█████████▍| 81/86 [03:32<00:12,  2.40s/it, eval_loss=0.0954, gpu_mem=6.91 GB]"
     ]
    },
    {
     "name": "stderr",
     "output_type": "stream",
     "text": [
      "\r",
      "Val:  94%|█████████▍| 81/86 [03:35<00:12,  2.40s/it, eval_loss=0.0950, gpu_mem=6.91 GB]"
     ]
    },
    {
     "name": "stderr",
     "output_type": "stream",
     "text": [
      "\r",
      "Val:  95%|█████████▌| 82/86 [03:35<00:09,  2.41s/it, eval_loss=0.0950, gpu_mem=6.91 GB]"
     ]
    },
    {
     "name": "stderr",
     "output_type": "stream",
     "text": [
      "\r",
      "Val:  95%|█████████▌| 82/86 [03:37<00:09,  2.41s/it, eval_loss=0.0948, gpu_mem=6.91 GB]"
     ]
    },
    {
     "name": "stderr",
     "output_type": "stream",
     "text": [
      "\r",
      "Val:  97%|█████████▋| 83/86 [03:37<00:07,  2.45s/it, eval_loss=0.0948, gpu_mem=6.91 GB]"
     ]
    },
    {
     "name": "stderr",
     "output_type": "stream",
     "text": [
      "\r",
      "Val:  97%|█████████▋| 83/86 [03:40<00:07,  2.45s/it, eval_loss=0.0945, gpu_mem=6.91 GB]"
     ]
    },
    {
     "name": "stderr",
     "output_type": "stream",
     "text": [
      "\r",
      "Val:  98%|█████████▊| 84/86 [03:40<00:05,  2.65s/it, eval_loss=0.0945, gpu_mem=6.91 GB]"
     ]
    },
    {
     "name": "stderr",
     "output_type": "stream",
     "text": [
      "\r",
      "Val:  98%|█████████▊| 84/86 [03:43<00:05,  2.65s/it, eval_loss=0.0972, gpu_mem=6.91 GB]"
     ]
    },
    {
     "name": "stderr",
     "output_type": "stream",
     "text": [
      "\r",
      "Val:  99%|█████████▉| 85/86 [03:43<00:02,  2.56s/it, eval_loss=0.0972, gpu_mem=6.91 GB]"
     ]
    },
    {
     "name": "stderr",
     "output_type": "stream",
     "text": [
      "\r",
      "Val:  99%|█████████▉| 85/86 [03:43<00:02,  2.56s/it, eval_loss=0.0972, gpu_mem=6.91 GB]"
     ]
    },
    {
     "name": "stderr",
     "output_type": "stream",
     "text": [
      "\r",
      "Val: 100%|██████████| 86/86 [03:43<00:00,  1.95s/it, eval_loss=0.0972, gpu_mem=6.91 GB]"
     ]
    },
    {
     "name": "stderr",
     "output_type": "stream",
     "text": [
      "\r",
      "Val: 100%|██████████| 86/86 [03:43<00:00,  2.60s/it, eval_loss=0.0972, gpu_mem=6.91 GB]"
     ]
    },
    {
     "name": "stderr",
     "output_type": "stream",
     "text": [
      "\n",
      "Valid loss:0.0972\n"
     ]
    },
    {
     "name": "stderr",
     "output_type": "stream",
     "text": [
      "Val metric mean prob: 0.1867\n"
     ]
    },
    {
     "name": "stderr",
     "output_type": "stream",
     "text": [
      "Best metric at: 0.5111 0.3630  0.7308\n"
     ]
    },
    {
     "name": "stderr",
     "output_type": "stream",
     "text": [
      "Cf: [[2315   18]\n",
      " [  26   23]]\n"
     ]
    },
    {
     "name": "stderr",
     "output_type": "stream",
     "text": [
      "\u001b[32m[I 2023-02-15 04:01:13,356]\u001b[0m Trial 1 finished with value: 0.5111111111111111 and parameters: {'a1': 0.8373029099934258}. Best is trial 0 with value: 0.5111111111111111.\u001b[0m\n"
     ]
    },
    {
     "name": "stdout",
     "output_type": "stream",
     "text": [
      "/kaggle/input/10folds/tf_efficientnetv2_b2_fold_1_model_epoch_3_0.5055_0.360.pth\n",
      "none:  /kaggle/input/10folds/tf_efficientnetv2_b2_fold_1_model_epoch_3_0.5055_0.360.pth\n",
      "/kaggle/input/10folds/tf_efficientnetv2_b2_fold_1_model_epoch_5_0.4865_0.324.pth\n",
      "hehe /kaggle/input/10folds/tf_efficientnetv2_b2_fold_1_model_epoch_5_0.4865_0.324.pth\n",
      "0.6729840492188729 0.3270159507811271\n",
      "\n"
     ]
    },
    {
     "name": "stderr",
     "output_type": "stream",
     "text": [
      "\r",
      "Val:   0%|          | 0/86 [00:00<?, ?it/s]"
     ]
    },
    {
     "name": "stderr",
     "output_type": "stream",
     "text": [
      "\r",
      "Val:   0%|          | 0/86 [00:04<?, ?it/s, eval_loss=0.0552, gpu_mem=6.91 GB]"
     ]
    },
    {
     "name": "stderr",
     "output_type": "stream",
     "text": [
      "\r",
      "Val:   1%|          | 1/86 [00:04<06:48,  4.80s/it, eval_loss=0.0552, gpu_mem=6.91 GB]"
     ]
    },
    {
     "name": "stderr",
     "output_type": "stream",
     "text": [
      "\r",
      "Val:   1%|          | 1/86 [00:07<06:48,  4.80s/it, eval_loss=0.0431, gpu_mem=6.91 GB]"
     ]
    },
    {
     "name": "stderr",
     "output_type": "stream",
     "text": [
      "\r",
      "Val:   2%|▏         | 2/86 [00:07<05:14,  3.74s/it, eval_loss=0.0431, gpu_mem=6.91 GB]"
     ]
    },
    {
     "name": "stderr",
     "output_type": "stream",
     "text": [
      "\r",
      "Val:   2%|▏         | 2/86 [00:10<05:14,  3.74s/it, eval_loss=0.0889, gpu_mem=6.91 GB]"
     ]
    },
    {
     "name": "stderr",
     "output_type": "stream",
     "text": [
      "\r",
      "Val:   3%|▎         | 3/86 [00:10<04:42,  3.40s/it, eval_loss=0.0889, gpu_mem=6.91 GB]"
     ]
    },
    {
     "name": "stderr",
     "output_type": "stream",
     "text": [
      "\r",
      "Val:   3%|▎         | 3/86 [00:14<04:42,  3.40s/it, eval_loss=0.0997, gpu_mem=6.91 GB]"
     ]
    },
    {
     "name": "stderr",
     "output_type": "stream",
     "text": [
      "\r",
      "Val:   5%|▍         | 4/86 [00:14<04:33,  3.34s/it, eval_loss=0.0997, gpu_mem=6.91 GB]"
     ]
    },
    {
     "name": "stderr",
     "output_type": "stream",
     "text": [
      "\r",
      "Val:   5%|▍         | 4/86 [00:17<04:33,  3.34s/it, eval_loss=0.0955, gpu_mem=6.91 GB]"
     ]
    },
    {
     "name": "stderr",
     "output_type": "stream",
     "text": [
      "\r",
      "Val:   6%|▌         | 5/86 [00:17<04:21,  3.23s/it, eval_loss=0.0955, gpu_mem=6.91 GB]"
     ]
    },
    {
     "name": "stderr",
     "output_type": "stream",
     "text": [
      "\r",
      "Val:   6%|▌         | 5/86 [00:20<04:21,  3.23s/it, eval_loss=0.0924, gpu_mem=6.91 GB]"
     ]
    },
    {
     "name": "stderr",
     "output_type": "stream",
     "text": [
      "\r",
      "Val:   7%|▋         | 6/86 [00:20<04:12,  3.15s/it, eval_loss=0.0924, gpu_mem=6.91 GB]"
     ]
    },
    {
     "name": "stderr",
     "output_type": "stream",
     "text": [
      "\r",
      "Val:   7%|▋         | 6/86 [00:23<04:12,  3.15s/it, eval_loss=0.0847, gpu_mem=6.91 GB]"
     ]
    },
    {
     "name": "stderr",
     "output_type": "stream",
     "text": [
      "\r",
      "Val:   8%|▊         | 7/86 [00:23<04:08,  3.14s/it, eval_loss=0.0847, gpu_mem=6.91 GB]"
     ]
    },
    {
     "name": "stderr",
     "output_type": "stream",
     "text": [
      "\r",
      "Val:   8%|▊         | 7/86 [00:26<04:08,  3.14s/it, eval_loss=0.0818, gpu_mem=6.91 GB]"
     ]
    },
    {
     "name": "stderr",
     "output_type": "stream",
     "text": [
      "\r",
      "Val:   9%|▉         | 8/86 [00:26<04:20,  3.34s/it, eval_loss=0.0818, gpu_mem=6.91 GB]"
     ]
    },
    {
     "name": "stderr",
     "output_type": "stream",
     "text": [
      "\r",
      "Val:   9%|▉         | 8/86 [00:30<04:20,  3.34s/it, eval_loss=0.0801, gpu_mem=6.91 GB]"
     ]
    },
    {
     "name": "stderr",
     "output_type": "stream",
     "text": [
      "\r",
      "Val:  10%|█         | 9/86 [00:30<04:09,  3.25s/it, eval_loss=0.0801, gpu_mem=6.91 GB]"
     ]
    },
    {
     "name": "stderr",
     "output_type": "stream",
     "text": [
      "\r",
      "Val:  10%|█         | 9/86 [00:33<04:09,  3.25s/it, eval_loss=0.0871, gpu_mem=6.91 GB]"
     ]
    },
    {
     "name": "stderr",
     "output_type": "stream",
     "text": [
      "\r",
      "Val:  12%|█▏        | 10/86 [00:33<04:01,  3.17s/it, eval_loss=0.0871, gpu_mem=6.91 GB]"
     ]
    },
    {
     "name": "stderr",
     "output_type": "stream",
     "text": [
      "\r",
      "Val:  12%|█▏        | 10/86 [00:36<04:01,  3.17s/it, eval_loss=0.0842, gpu_mem=6.91 GB]"
     ]
    },
    {
     "name": "stderr",
     "output_type": "stream",
     "text": [
      "\r",
      "Val:  13%|█▎        | 11/86 [00:36<03:58,  3.18s/it, eval_loss=0.0842, gpu_mem=6.91 GB]"
     ]
    },
    {
     "name": "stderr",
     "output_type": "stream",
     "text": [
      "\r",
      "Val:  13%|█▎        | 11/86 [00:39<03:58,  3.18s/it, eval_loss=0.0844, gpu_mem=6.91 GB]"
     ]
    },
    {
     "name": "stderr",
     "output_type": "stream",
     "text": [
      "\r",
      "Val:  14%|█▍        | 12/86 [00:39<03:51,  3.13s/it, eval_loss=0.0844, gpu_mem=6.91 GB]"
     ]
    },
    {
     "name": "stderr",
     "output_type": "stream",
     "text": [
      "\r",
      "Val:  14%|█▍        | 12/86 [00:42<03:51,  3.13s/it, eval_loss=0.0865, gpu_mem=6.91 GB]"
     ]
    },
    {
     "name": "stderr",
     "output_type": "stream",
     "text": [
      "\r",
      "Val:  15%|█▌        | 13/86 [00:42<03:45,  3.09s/it, eval_loss=0.0865, gpu_mem=6.91 GB]"
     ]
    },
    {
     "name": "stderr",
     "output_type": "stream",
     "text": [
      "\r",
      "Val:  15%|█▌        | 13/86 [00:45<03:45,  3.09s/it, eval_loss=0.0828, gpu_mem=6.91 GB]"
     ]
    },
    {
     "name": "stderr",
     "output_type": "stream",
     "text": [
      "\r",
      "Val:  16%|█▋        | 14/86 [00:45<03:40,  3.06s/it, eval_loss=0.0828, gpu_mem=6.91 GB]"
     ]
    },
    {
     "name": "stderr",
     "output_type": "stream",
     "text": [
      "\r",
      "Val:  16%|█▋        | 14/86 [00:48<03:40,  3.06s/it, eval_loss=0.0800, gpu_mem=6.91 GB]"
     ]
    },
    {
     "name": "stderr",
     "output_type": "stream",
     "text": [
      "\r",
      "Val:  17%|█▋        | 15/86 [00:48<03:42,  3.13s/it, eval_loss=0.0800, gpu_mem=6.91 GB]"
     ]
    },
    {
     "name": "stderr",
     "output_type": "stream",
     "text": [
      "\r",
      "Val:  17%|█▋        | 15/86 [00:51<03:42,  3.13s/it, eval_loss=0.0781, gpu_mem=6.91 GB]"
     ]
    },
    {
     "name": "stderr",
     "output_type": "stream",
     "text": [
      "\r",
      "Val:  19%|█▊        | 16/86 [00:51<03:36,  3.09s/it, eval_loss=0.0781, gpu_mem=6.91 GB]"
     ]
    },
    {
     "name": "stderr",
     "output_type": "stream",
     "text": [
      "\r",
      "Val:  19%|█▊        | 16/86 [00:54<03:36,  3.09s/it, eval_loss=0.0782, gpu_mem=6.91 GB]"
     ]
    },
    {
     "name": "stderr",
     "output_type": "stream",
     "text": [
      "\r",
      "Val:  20%|█▉        | 17/86 [00:54<03:31,  3.06s/it, eval_loss=0.0782, gpu_mem=6.91 GB]"
     ]
    },
    {
     "name": "stderr",
     "output_type": "stream",
     "text": [
      "\r",
      "Val:  20%|█▉        | 17/86 [00:58<03:31,  3.06s/it, eval_loss=0.0777, gpu_mem=6.91 GB]"
     ]
    },
    {
     "name": "stderr",
     "output_type": "stream",
     "text": [
      "\r",
      "Val:  21%|██        | 18/86 [00:58<03:41,  3.26s/it, eval_loss=0.0777, gpu_mem=6.91 GB]"
     ]
    },
    {
     "name": "stderr",
     "output_type": "stream",
     "text": [
      "\r",
      "Val:  21%|██        | 18/86 [01:01<03:41,  3.26s/it, eval_loss=0.0779, gpu_mem=6.91 GB]"
     ]
    },
    {
     "name": "stderr",
     "output_type": "stream",
     "text": [
      "\r",
      "Val:  22%|██▏       | 19/86 [01:01<03:32,  3.18s/it, eval_loss=0.0779, gpu_mem=6.91 GB]"
     ]
    },
    {
     "name": "stderr",
     "output_type": "stream",
     "text": [
      "\r",
      "Val:  22%|██▏       | 19/86 [01:04<03:32,  3.18s/it, eval_loss=0.0785, gpu_mem=6.91 GB]"
     ]
    },
    {
     "name": "stderr",
     "output_type": "stream",
     "text": [
      "\r",
      "Val:  23%|██▎       | 20/86 [01:04<03:26,  3.13s/it, eval_loss=0.0785, gpu_mem=6.91 GB]"
     ]
    },
    {
     "name": "stderr",
     "output_type": "stream",
     "text": [
      "\r",
      "Val:  23%|██▎       | 20/86 [01:07<03:26,  3.13s/it, eval_loss=0.0771, gpu_mem=6.91 GB]"
     ]
    },
    {
     "name": "stderr",
     "output_type": "stream",
     "text": [
      "\r",
      "Val:  24%|██▍       | 21/86 [01:07<03:21,  3.10s/it, eval_loss=0.0771, gpu_mem=6.91 GB]"
     ]
    },
    {
     "name": "stderr",
     "output_type": "stream",
     "text": [
      "\r",
      "Val:  24%|██▍       | 21/86 [01:10<03:21,  3.10s/it, eval_loss=0.0804, gpu_mem=6.91 GB]"
     ]
    },
    {
     "name": "stderr",
     "output_type": "stream",
     "text": [
      "\r",
      "Val:  26%|██▌       | 22/86 [01:10<03:22,  3.17s/it, eval_loss=0.0804, gpu_mem=6.91 GB]"
     ]
    },
    {
     "name": "stderr",
     "output_type": "stream",
     "text": [
      "\r",
      "Val:  26%|██▌       | 22/86 [01:13<03:22,  3.17s/it, eval_loss=0.0844, gpu_mem=6.91 GB]"
     ]
    },
    {
     "name": "stderr",
     "output_type": "stream",
     "text": [
      "\r",
      "Val:  27%|██▋       | 23/86 [01:13<03:17,  3.13s/it, eval_loss=0.0844, gpu_mem=6.91 GB]"
     ]
    },
    {
     "name": "stderr",
     "output_type": "stream",
     "text": [
      "\r",
      "Val:  27%|██▋       | 23/86 [01:16<03:17,  3.13s/it, eval_loss=0.0839, gpu_mem=6.91 GB]"
     ]
    },
    {
     "name": "stderr",
     "output_type": "stream",
     "text": [
      "\r",
      "Val:  28%|██▊       | 24/86 [01:16<03:12,  3.10s/it, eval_loss=0.0839, gpu_mem=6.91 GB]"
     ]
    },
    {
     "name": "stderr",
     "output_type": "stream",
     "text": [
      "\r",
      "Val:  28%|██▊       | 24/86 [01:19<03:12,  3.10s/it, eval_loss=0.0837, gpu_mem=6.91 GB]"
     ]
    },
    {
     "name": "stderr",
     "output_type": "stream",
     "text": [
      "\r",
      "Val:  29%|██▉       | 25/86 [01:19<03:13,  3.16s/it, eval_loss=0.0837, gpu_mem=6.91 GB]"
     ]
    },
    {
     "name": "stderr",
     "output_type": "stream",
     "text": [
      "\r",
      "Val:  29%|██▉       | 25/86 [01:22<03:13,  3.16s/it, eval_loss=0.0816, gpu_mem=6.91 GB]"
     ]
    },
    {
     "name": "stderr",
     "output_type": "stream",
     "text": [
      "\r",
      "Val:  30%|███       | 26/86 [01:22<03:07,  3.12s/it, eval_loss=0.0816, gpu_mem=6.91 GB]"
     ]
    },
    {
     "name": "stderr",
     "output_type": "stream",
     "text": [
      "\r",
      "Val:  30%|███       | 26/86 [01:26<03:07,  3.12s/it, eval_loss=0.0853, gpu_mem=6.91 GB]"
     ]
    },
    {
     "name": "stderr",
     "output_type": "stream",
     "text": [
      "\r",
      "Val:  31%|███▏      | 27/86 [01:26<03:02,  3.09s/it, eval_loss=0.0853, gpu_mem=6.91 GB]"
     ]
    },
    {
     "name": "stderr",
     "output_type": "stream",
     "text": [
      "\r",
      "Val:  31%|███▏      | 27/86 [01:29<03:02,  3.09s/it, eval_loss=0.0848, gpu_mem=6.91 GB]"
     ]
    },
    {
     "name": "stderr",
     "output_type": "stream",
     "text": [
      "\r",
      "Val:  33%|███▎      | 28/86 [01:29<03:06,  3.21s/it, eval_loss=0.0848, gpu_mem=6.91 GB]"
     ]
    },
    {
     "name": "stderr",
     "output_type": "stream",
     "text": [
      "\r",
      "Val:  33%|███▎      | 28/86 [01:32<03:06,  3.21s/it, eval_loss=0.0838, gpu_mem=6.91 GB]"
     ]
    },
    {
     "name": "stderr",
     "output_type": "stream",
     "text": [
      "\r",
      "Val:  34%|███▎      | 29/86 [01:33<03:07,  3.30s/it, eval_loss=0.0838, gpu_mem=6.91 GB]"
     ]
    },
    {
     "name": "stderr",
     "output_type": "stream",
     "text": [
      "\r",
      "Val:  34%|███▎      | 29/86 [01:36<03:07,  3.30s/it, eval_loss=0.0838, gpu_mem=6.91 GB]"
     ]
    },
    {
     "name": "stderr",
     "output_type": "stream",
     "text": [
      "\r",
      "Val:  35%|███▍      | 30/86 [01:36<03:04,  3.30s/it, eval_loss=0.0838, gpu_mem=6.91 GB]"
     ]
    },
    {
     "name": "stderr",
     "output_type": "stream",
     "text": [
      "\r",
      "Val:  35%|███▍      | 30/86 [01:39<03:04,  3.30s/it, eval_loss=0.0830, gpu_mem=6.91 GB]"
     ]
    },
    {
     "name": "stderr",
     "output_type": "stream",
     "text": [
      "\r",
      "Val:  36%|███▌      | 31/86 [01:39<03:02,  3.32s/it, eval_loss=0.0830, gpu_mem=6.91 GB]"
     ]
    },
    {
     "name": "stderr",
     "output_type": "stream",
     "text": [
      "\r",
      "Val:  36%|███▌      | 31/86 [01:42<03:02,  3.32s/it, eval_loss=0.0905, gpu_mem=6.91 GB]"
     ]
    },
    {
     "name": "stderr",
     "output_type": "stream",
     "text": [
      "\r",
      "Val:  37%|███▋      | 32/86 [01:42<02:59,  3.32s/it, eval_loss=0.0905, gpu_mem=6.91 GB]"
     ]
    },
    {
     "name": "stderr",
     "output_type": "stream",
     "text": [
      "\r",
      "Val:  37%|███▋      | 32/86 [01:45<02:59,  3.32s/it, eval_loss=0.0886, gpu_mem=6.91 GB]"
     ]
    },
    {
     "name": "stderr",
     "output_type": "stream",
     "text": [
      "\r",
      "Val:  38%|███▊      | 33/86 [01:45<02:49,  3.20s/it, eval_loss=0.0886, gpu_mem=6.91 GB]"
     ]
    },
    {
     "name": "stderr",
     "output_type": "stream",
     "text": [
      "\r",
      "Val:  38%|███▊      | 33/86 [01:48<02:49,  3.20s/it, eval_loss=0.0899, gpu_mem=6.91 GB]"
     ]
    },
    {
     "name": "stderr",
     "output_type": "stream",
     "text": [
      "\r",
      "Val:  40%|███▉      | 34/86 [01:48<02:42,  3.12s/it, eval_loss=0.0899, gpu_mem=6.91 GB]"
     ]
    },
    {
     "name": "stderr",
     "output_type": "stream",
     "text": [
      "\r",
      "Val:  40%|███▉      | 34/86 [01:51<02:42,  3.12s/it, eval_loss=0.0889, gpu_mem=6.91 GB]"
     ]
    },
    {
     "name": "stderr",
     "output_type": "stream",
     "text": [
      "\r",
      "Val:  41%|████      | 35/86 [01:51<02:37,  3.08s/it, eval_loss=0.0889, gpu_mem=6.91 GB]"
     ]
    },
    {
     "name": "stderr",
     "output_type": "stream",
     "text": [
      "\r",
      "Val:  41%|████      | 35/86 [01:55<02:37,  3.08s/it, eval_loss=0.0875, gpu_mem=6.91 GB]"
     ]
    },
    {
     "name": "stderr",
     "output_type": "stream",
     "text": [
      "\r",
      "Val:  42%|████▏     | 36/86 [01:55<02:36,  3.13s/it, eval_loss=0.0875, gpu_mem=6.91 GB]"
     ]
    },
    {
     "name": "stderr",
     "output_type": "stream",
     "text": [
      "\r",
      "Val:  42%|████▏     | 36/86 [01:57<02:36,  3.13s/it, eval_loss=0.0881, gpu_mem=6.91 GB]"
     ]
    },
    {
     "name": "stderr",
     "output_type": "stream",
     "text": [
      "\r",
      "Val:  43%|████▎     | 37/86 [01:57<02:30,  3.06s/it, eval_loss=0.0881, gpu_mem=6.91 GB]"
     ]
    },
    {
     "name": "stderr",
     "output_type": "stream",
     "text": [
      "\r",
      "Val:  43%|████▎     | 37/86 [02:01<02:30,  3.06s/it, eval_loss=0.0879, gpu_mem=6.91 GB]"
     ]
    },
    {
     "name": "stderr",
     "output_type": "stream",
     "text": [
      "\r",
      "Val:  44%|████▍     | 38/86 [02:01<02:30,  3.14s/it, eval_loss=0.0879, gpu_mem=6.91 GB]"
     ]
    },
    {
     "name": "stderr",
     "output_type": "stream",
     "text": [
      "\r",
      "Val:  44%|████▍     | 38/86 [02:04<02:30,  3.14s/it, eval_loss=0.0865, gpu_mem=6.91 GB]"
     ]
    },
    {
     "name": "stderr",
     "output_type": "stream",
     "text": [
      "\r",
      "Val:  45%|████▌     | 39/86 [02:04<02:27,  3.14s/it, eval_loss=0.0865, gpu_mem=6.91 GB]"
     ]
    },
    {
     "name": "stderr",
     "output_type": "stream",
     "text": [
      "\r",
      "Val:  45%|████▌     | 39/86 [02:07<02:27,  3.14s/it, eval_loss=0.0864, gpu_mem=6.91 GB]"
     ]
    },
    {
     "name": "stderr",
     "output_type": "stream",
     "text": [
      "\r",
      "Val:  47%|████▋     | 40/86 [02:07<02:20,  3.05s/it, eval_loss=0.0864, gpu_mem=6.91 GB]"
     ]
    },
    {
     "name": "stderr",
     "output_type": "stream",
     "text": [
      "\r",
      "Val:  47%|████▋     | 40/86 [02:10<02:20,  3.05s/it, eval_loss=0.0859, gpu_mem=6.91 GB]"
     ]
    },
    {
     "name": "stderr",
     "output_type": "stream",
     "text": [
      "\r",
      "Val:  48%|████▊     | 41/86 [02:10<02:15,  3.00s/it, eval_loss=0.0859, gpu_mem=6.91 GB]"
     ]
    },
    {
     "name": "stderr",
     "output_type": "stream",
     "text": [
      "\r",
      "Val:  48%|████▊     | 41/86 [02:13<02:15,  3.00s/it, eval_loss=0.0854, gpu_mem=6.91 GB]"
     ]
    },
    {
     "name": "stderr",
     "output_type": "stream",
     "text": [
      "\r",
      "Val:  49%|████▉     | 42/86 [02:13<02:11,  2.98s/it, eval_loss=0.0854, gpu_mem=6.91 GB]"
     ]
    },
    {
     "name": "stderr",
     "output_type": "stream",
     "text": [
      "\r",
      "Val:  49%|████▉     | 42/86 [02:16<02:11,  2.98s/it, eval_loss=0.0845, gpu_mem=6.91 GB]"
     ]
    },
    {
     "name": "stderr",
     "output_type": "stream",
     "text": [
      "\r",
      "Val:  50%|█████     | 43/86 [02:16<02:10,  3.04s/it, eval_loss=0.0845, gpu_mem=6.91 GB]"
     ]
    },
    {
     "name": "stderr",
     "output_type": "stream",
     "text": [
      "\r",
      "Val:  50%|█████     | 43/86 [02:19<02:10,  3.04s/it, eval_loss=0.0877, gpu_mem=6.91 GB]"
     ]
    },
    {
     "name": "stderr",
     "output_type": "stream",
     "text": [
      "\r",
      "Val:  51%|█████     | 44/86 [02:19<02:05,  2.99s/it, eval_loss=0.0877, gpu_mem=6.91 GB]"
     ]
    },
    {
     "name": "stderr",
     "output_type": "stream",
     "text": [
      "\r",
      "Val:  51%|█████     | 44/86 [02:22<02:05,  2.99s/it, eval_loss=0.0864, gpu_mem=6.91 GB]"
     ]
    },
    {
     "name": "stderr",
     "output_type": "stream",
     "text": [
      "\r",
      "Val:  52%|█████▏    | 45/86 [02:22<02:01,  2.96s/it, eval_loss=0.0864, gpu_mem=6.91 GB]"
     ]
    },
    {
     "name": "stderr",
     "output_type": "stream",
     "text": [
      "\r",
      "Val:  52%|█████▏    | 45/86 [02:24<02:01,  2.96s/it, eval_loss=0.0863, gpu_mem=6.91 GB]"
     ]
    },
    {
     "name": "stderr",
     "output_type": "stream",
     "text": [
      "\r",
      "Val:  53%|█████▎    | 46/86 [02:24<01:57,  2.93s/it, eval_loss=0.0863, gpu_mem=6.91 GB]"
     ]
    },
    {
     "name": "stderr",
     "output_type": "stream",
     "text": [
      "\r",
      "Val:  53%|█████▎    | 46/86 [02:28<01:57,  2.93s/it, eval_loss=0.0856, gpu_mem=6.91 GB]"
     ]
    },
    {
     "name": "stderr",
     "output_type": "stream",
     "text": [
      "\r",
      "Val:  55%|█████▍    | 47/86 [02:28<01:57,  3.02s/it, eval_loss=0.0856, gpu_mem=6.91 GB]"
     ]
    },
    {
     "name": "stderr",
     "output_type": "stream",
     "text": [
      "\r",
      "Val:  55%|█████▍    | 47/86 [02:31<01:57,  3.02s/it, eval_loss=0.0874, gpu_mem=6.91 GB]"
     ]
    },
    {
     "name": "stderr",
     "output_type": "stream",
     "text": [
      "\r",
      "Val:  56%|█████▌    | 48/86 [02:31<02:00,  3.17s/it, eval_loss=0.0874, gpu_mem=6.91 GB]"
     ]
    },
    {
     "name": "stderr",
     "output_type": "stream",
     "text": [
      "\r",
      "Val:  56%|█████▌    | 48/86 [02:34<02:00,  3.17s/it, eval_loss=0.0869, gpu_mem=6.91 GB]"
     ]
    },
    {
     "name": "stderr",
     "output_type": "stream",
     "text": [
      "\r",
      "Val:  57%|█████▋    | 49/86 [02:34<01:56,  3.14s/it, eval_loss=0.0869, gpu_mem=6.91 GB]"
     ]
    },
    {
     "name": "stderr",
     "output_type": "stream",
     "text": [
      "\r",
      "Val:  57%|█████▋    | 49/86 [02:37<01:56,  3.14s/it, eval_loss=0.0866, gpu_mem=6.91 GB]"
     ]
    },
    {
     "name": "stderr",
     "output_type": "stream",
     "text": [
      "\r",
      "Val:  58%|█████▊    | 50/86 [02:37<01:54,  3.17s/it, eval_loss=0.0866, gpu_mem=6.91 GB]"
     ]
    },
    {
     "name": "stderr",
     "output_type": "stream",
     "text": [
      "\r",
      "Val:  58%|█████▊    | 50/86 [02:40<01:54,  3.17s/it, eval_loss=0.0895, gpu_mem=6.91 GB]"
     ]
    },
    {
     "name": "stderr",
     "output_type": "stream",
     "text": [
      "\r",
      "Val:  59%|█████▉    | 51/86 [02:40<01:48,  3.09s/it, eval_loss=0.0895, gpu_mem=6.91 GB]"
     ]
    },
    {
     "name": "stderr",
     "output_type": "stream",
     "text": [
      "\r",
      "Val:  59%|█████▉    | 51/86 [02:43<01:48,  3.09s/it, eval_loss=0.0909, gpu_mem=6.91 GB]"
     ]
    },
    {
     "name": "stderr",
     "output_type": "stream",
     "text": [
      "\r",
      "Val:  60%|██████    | 52/86 [02:43<01:42,  3.02s/it, eval_loss=0.0909, gpu_mem=6.91 GB]"
     ]
    },
    {
     "name": "stderr",
     "output_type": "stream",
     "text": [
      "\r",
      "Val:  60%|██████    | 52/86 [02:46<01:42,  3.02s/it, eval_loss=0.0922, gpu_mem=6.91 GB]"
     ]
    },
    {
     "name": "stderr",
     "output_type": "stream",
     "text": [
      "\r",
      "Val:  62%|██████▏   | 53/86 [02:46<01:39,  3.01s/it, eval_loss=0.0922, gpu_mem=6.91 GB]"
     ]
    },
    {
     "name": "stderr",
     "output_type": "stream",
     "text": [
      "\r",
      "Val:  62%|██████▏   | 53/86 [02:49<01:39,  3.01s/it, eval_loss=0.0915, gpu_mem=6.91 GB]"
     ]
    },
    {
     "name": "stderr",
     "output_type": "stream",
     "text": [
      "\r",
      "Val:  63%|██████▎   | 54/86 [02:49<01:38,  3.09s/it, eval_loss=0.0915, gpu_mem=6.91 GB]"
     ]
    },
    {
     "name": "stderr",
     "output_type": "stream",
     "text": [
      "\r",
      "Val:  63%|██████▎   | 54/86 [02:52<01:38,  3.09s/it, eval_loss=0.0922, gpu_mem=6.91 GB]"
     ]
    },
    {
     "name": "stderr",
     "output_type": "stream",
     "text": [
      "\r",
      "Val:  64%|██████▍   | 55/86 [02:52<01:33,  3.03s/it, eval_loss=0.0922, gpu_mem=6.91 GB]"
     ]
    },
    {
     "name": "stderr",
     "output_type": "stream",
     "text": [
      "\r",
      "Val:  64%|██████▍   | 55/86 [02:55<01:33,  3.03s/it, eval_loss=0.0918, gpu_mem=6.91 GB]"
     ]
    },
    {
     "name": "stderr",
     "output_type": "stream",
     "text": [
      "\r",
      "Val:  65%|██████▌   | 56/86 [02:55<01:29,  3.00s/it, eval_loss=0.0918, gpu_mem=6.91 GB]"
     ]
    },
    {
     "name": "stderr",
     "output_type": "stream",
     "text": [
      "\r",
      "Val:  65%|██████▌   | 56/86 [02:58<01:29,  3.00s/it, eval_loss=0.0917, gpu_mem=6.91 GB]"
     ]
    },
    {
     "name": "stderr",
     "output_type": "stream",
     "text": [
      "\r",
      "Val:  66%|██████▋   | 57/86 [02:58<01:27,  3.03s/it, eval_loss=0.0917, gpu_mem=6.91 GB]"
     ]
    },
    {
     "name": "stderr",
     "output_type": "stream",
     "text": [
      "\r",
      "Val:  66%|██████▋   | 57/86 [03:02<01:27,  3.03s/it, eval_loss=0.0940, gpu_mem=6.91 GB]"
     ]
    },
    {
     "name": "stderr",
     "output_type": "stream",
     "text": [
      "\r",
      "Val:  67%|██████▋   | 58/86 [03:02<01:26,  3.08s/it, eval_loss=0.0940, gpu_mem=6.91 GB]"
     ]
    },
    {
     "name": "stderr",
     "output_type": "stream",
     "text": [
      "\r",
      "Val:  67%|██████▋   | 58/86 [03:05<01:26,  3.08s/it, eval_loss=0.0935, gpu_mem=6.91 GB]"
     ]
    },
    {
     "name": "stderr",
     "output_type": "stream",
     "text": [
      "\r",
      "Val:  69%|██████▊   | 59/86 [03:05<01:27,  3.23s/it, eval_loss=0.0935, gpu_mem=6.91 GB]"
     ]
    },
    {
     "name": "stderr",
     "output_type": "stream",
     "text": [
      "\r",
      "Val:  69%|██████▊   | 59/86 [03:08<01:27,  3.23s/it, eval_loss=0.0953, gpu_mem=6.91 GB]"
     ]
    },
    {
     "name": "stderr",
     "output_type": "stream",
     "text": [
      "\r",
      "Val:  70%|██████▉   | 60/86 [03:08<01:23,  3.21s/it, eval_loss=0.0953, gpu_mem=6.91 GB]"
     ]
    },
    {
     "name": "stderr",
     "output_type": "stream",
     "text": [
      "\r",
      "Val:  70%|██████▉   | 60/86 [03:12<01:23,  3.21s/it, eval_loss=0.0947, gpu_mem=6.91 GB]"
     ]
    },
    {
     "name": "stderr",
     "output_type": "stream",
     "text": [
      "\r",
      "Val:  71%|███████   | 61/86 [03:12<01:22,  3.31s/it, eval_loss=0.0947, gpu_mem=6.91 GB]"
     ]
    },
    {
     "name": "stderr",
     "output_type": "stream",
     "text": [
      "\r",
      "Val:  71%|███████   | 61/86 [03:15<01:22,  3.31s/it, eval_loss=0.0943, gpu_mem=6.91 GB]"
     ]
    },
    {
     "name": "stderr",
     "output_type": "stream",
     "text": [
      "\r",
      "Val:  72%|███████▏  | 62/86 [03:15<01:16,  3.18s/it, eval_loss=0.0943, gpu_mem=6.91 GB]"
     ]
    },
    {
     "name": "stderr",
     "output_type": "stream",
     "text": [
      "\r",
      "Val:  72%|███████▏  | 62/86 [03:18<01:16,  3.18s/it, eval_loss=0.0942, gpu_mem=6.91 GB]"
     ]
    },
    {
     "name": "stderr",
     "output_type": "stream",
     "text": [
      "\r",
      "Val:  73%|███████▎  | 63/86 [03:18<01:11,  3.10s/it, eval_loss=0.0942, gpu_mem=6.91 GB]"
     ]
    },
    {
     "name": "stderr",
     "output_type": "stream",
     "text": [
      "\r",
      "Val:  73%|███████▎  | 63/86 [03:21<01:11,  3.10s/it, eval_loss=0.0941, gpu_mem=6.91 GB]"
     ]
    },
    {
     "name": "stderr",
     "output_type": "stream",
     "text": [
      "\r",
      "Val:  74%|███████▍  | 64/86 [03:21<01:07,  3.09s/it, eval_loss=0.0941, gpu_mem=6.91 GB]"
     ]
    },
    {
     "name": "stderr",
     "output_type": "stream",
     "text": [
      "\r",
      "Val:  74%|███████▍  | 64/86 [03:24<01:07,  3.09s/it, eval_loss=0.0932, gpu_mem=6.91 GB]"
     ]
    },
    {
     "name": "stderr",
     "output_type": "stream",
     "text": [
      "\r",
      "Val:  76%|███████▌  | 65/86 [03:24<01:03,  3.02s/it, eval_loss=0.0932, gpu_mem=6.91 GB]"
     ]
    },
    {
     "name": "stderr",
     "output_type": "stream",
     "text": [
      "\r",
      "Val:  76%|███████▌  | 65/86 [03:27<01:03,  3.02s/it, eval_loss=0.0950, gpu_mem=6.91 GB]"
     ]
    },
    {
     "name": "stderr",
     "output_type": "stream",
     "text": [
      "\r",
      "Val:  77%|███████▋  | 66/86 [03:27<00:59,  2.99s/it, eval_loss=0.0950, gpu_mem=6.91 GB]"
     ]
    },
    {
     "name": "stderr",
     "output_type": "stream",
     "text": [
      "\r",
      "Val:  77%|███████▋  | 66/86 [03:29<00:59,  2.99s/it, eval_loss=0.0942, gpu_mem=6.91 GB]"
     ]
    },
    {
     "name": "stderr",
     "output_type": "stream",
     "text": [
      "\r",
      "Val:  78%|███████▊  | 67/86 [03:29<00:56,  2.97s/it, eval_loss=0.0942, gpu_mem=6.91 GB]"
     ]
    },
    {
     "name": "stderr",
     "output_type": "stream",
     "text": [
      "\r",
      "Val:  78%|███████▊  | 67/86 [03:33<00:56,  2.97s/it, eval_loss=0.0966, gpu_mem=6.91 GB]"
     ]
    },
    {
     "name": "stderr",
     "output_type": "stream",
     "text": [
      "\r",
      "Val:  79%|███████▉  | 68/86 [03:33<00:54,  3.00s/it, eval_loss=0.0966, gpu_mem=6.91 GB]"
     ]
    },
    {
     "name": "stderr",
     "output_type": "stream",
     "text": [
      "\r",
      "Val:  79%|███████▉  | 68/86 [03:36<00:54,  3.00s/it, eval_loss=0.0967, gpu_mem=6.91 GB]"
     ]
    },
    {
     "name": "stderr",
     "output_type": "stream",
     "text": [
      "\r",
      "Val:  80%|████████  | 69/86 [03:36<00:52,  3.10s/it, eval_loss=0.0967, gpu_mem=6.91 GB]"
     ]
    },
    {
     "name": "stderr",
     "output_type": "stream",
     "text": [
      "\r",
      "Val:  80%|████████  | 69/86 [03:39<00:52,  3.10s/it, eval_loss=0.0964, gpu_mem=6.91 GB]"
     ]
    },
    {
     "name": "stderr",
     "output_type": "stream",
     "text": [
      "\r",
      "Val:  81%|████████▏ | 70/86 [03:39<00:48,  3.03s/it, eval_loss=0.0964, gpu_mem=6.91 GB]"
     ]
    },
    {
     "name": "stderr",
     "output_type": "stream",
     "text": [
      "\r",
      "Val:  81%|████████▏ | 70/86 [03:42<00:48,  3.03s/it, eval_loss=0.0971, gpu_mem=6.91 GB]"
     ]
    },
    {
     "name": "stderr",
     "output_type": "stream",
     "text": [
      "\r",
      "Val:  83%|████████▎ | 71/86 [03:42<00:45,  3.03s/it, eval_loss=0.0971, gpu_mem=6.91 GB]"
     ]
    },
    {
     "name": "stderr",
     "output_type": "stream",
     "text": [
      "\r",
      "Val:  83%|████████▎ | 71/86 [03:45<00:45,  3.03s/it, eval_loss=0.0967, gpu_mem=6.91 GB]"
     ]
    },
    {
     "name": "stderr",
     "output_type": "stream",
     "text": [
      "\r",
      "Val:  84%|████████▎ | 72/86 [03:45<00:42,  3.05s/it, eval_loss=0.0967, gpu_mem=6.91 GB]"
     ]
    },
    {
     "name": "stderr",
     "output_type": "stream",
     "text": [
      "\r",
      "Val:  84%|████████▎ | 72/86 [03:48<00:42,  3.05s/it, eval_loss=0.0964, gpu_mem=6.91 GB]"
     ]
    },
    {
     "name": "stderr",
     "output_type": "stream",
     "text": [
      "\r",
      "Val:  85%|████████▍ | 73/86 [03:48<00:38,  3.00s/it, eval_loss=0.0964, gpu_mem=6.91 GB]"
     ]
    },
    {
     "name": "stderr",
     "output_type": "stream",
     "text": [
      "\r",
      "Val:  85%|████████▍ | 73/86 [03:51<00:38,  3.00s/it, eval_loss=0.0967, gpu_mem=6.91 GB]"
     ]
    },
    {
     "name": "stderr",
     "output_type": "stream",
     "text": [
      "\r",
      "Val:  86%|████████▌ | 74/86 [03:51<00:35,  2.97s/it, eval_loss=0.0967, gpu_mem=6.91 GB]"
     ]
    },
    {
     "name": "stderr",
     "output_type": "stream",
     "text": [
      "\r",
      "Val:  86%|████████▌ | 74/86 [03:54<00:35,  2.97s/it, eval_loss=0.0961, gpu_mem=6.91 GB]"
     ]
    },
    {
     "name": "stderr",
     "output_type": "stream",
     "text": [
      "\r",
      "Val:  87%|████████▋ | 75/86 [03:54<00:32,  3.00s/it, eval_loss=0.0961, gpu_mem=6.91 GB]"
     ]
    },
    {
     "name": "stderr",
     "output_type": "stream",
     "text": [
      "\r",
      "Val:  87%|████████▋ | 75/86 [03:57<00:32,  3.00s/it, eval_loss=0.0955, gpu_mem=6.91 GB]"
     ]
    },
    {
     "name": "stderr",
     "output_type": "stream",
     "text": [
      "\r",
      "Val:  88%|████████▊ | 76/86 [03:57<00:29,  2.97s/it, eval_loss=0.0955, gpu_mem=6.91 GB]"
     ]
    },
    {
     "name": "stderr",
     "output_type": "stream",
     "text": [
      "\r",
      "Val:  88%|████████▊ | 76/86 [03:59<00:29,  2.97s/it, eval_loss=0.0966, gpu_mem=6.91 GB]"
     ]
    },
    {
     "name": "stderr",
     "output_type": "stream",
     "text": [
      "\r",
      "Val:  90%|████████▉ | 77/86 [03:59<00:26,  2.94s/it, eval_loss=0.0966, gpu_mem=6.91 GB]"
     ]
    },
    {
     "name": "stderr",
     "output_type": "stream",
     "text": [
      "\r",
      "Val:  90%|████████▉ | 77/86 [04:02<00:26,  2.94s/it, eval_loss=0.0959, gpu_mem=6.91 GB]"
     ]
    },
    {
     "name": "stderr",
     "output_type": "stream",
     "text": [
      "\r",
      "Val:  91%|█████████ | 78/86 [04:02<00:23,  2.94s/it, eval_loss=0.0959, gpu_mem=6.91 GB]"
     ]
    },
    {
     "name": "stderr",
     "output_type": "stream",
     "text": [
      "\r",
      "Val:  91%|█████████ | 78/86 [04:06<00:23,  2.94s/it, eval_loss=0.0958, gpu_mem=6.91 GB]"
     ]
    },
    {
     "name": "stderr",
     "output_type": "stream",
     "text": [
      "\r",
      "Val:  92%|█████████▏| 79/86 [04:06<00:21,  3.01s/it, eval_loss=0.0958, gpu_mem=6.91 GB]"
     ]
    },
    {
     "name": "stderr",
     "output_type": "stream",
     "text": [
      "\r",
      "Val:  92%|█████████▏| 79/86 [04:09<00:21,  3.01s/it, eval_loss=0.0960, gpu_mem=6.91 GB]"
     ]
    },
    {
     "name": "stderr",
     "output_type": "stream",
     "text": [
      "\r",
      "Val:  93%|█████████▎| 80/86 [04:09<00:18,  3.13s/it, eval_loss=0.0960, gpu_mem=6.91 GB]"
     ]
    },
    {
     "name": "stderr",
     "output_type": "stream",
     "text": [
      "\r",
      "Val:  93%|█████████▎| 80/86 [04:12<00:18,  3.13s/it, eval_loss=0.0954, gpu_mem=6.91 GB]"
     ]
    },
    {
     "name": "stderr",
     "output_type": "stream",
     "text": [
      "\r",
      "Val:  94%|█████████▍| 81/86 [04:12<00:15,  3.05s/it, eval_loss=0.0954, gpu_mem=6.91 GB]"
     ]
    },
    {
     "name": "stderr",
     "output_type": "stream",
     "text": [
      "\r",
      "Val:  94%|█████████▍| 81/86 [04:15<00:15,  3.05s/it, eval_loss=0.0950, gpu_mem=6.91 GB]"
     ]
    },
    {
     "name": "stderr",
     "output_type": "stream",
     "text": [
      "\r",
      "Val:  95%|█████████▌| 82/86 [04:15<00:12,  3.11s/it, eval_loss=0.0950, gpu_mem=6.91 GB]"
     ]
    },
    {
     "name": "stderr",
     "output_type": "stream",
     "text": [
      "\r",
      "Val:  95%|█████████▌| 82/86 [04:18<00:12,  3.11s/it, eval_loss=0.0948, gpu_mem=6.91 GB]"
     ]
    },
    {
     "name": "stderr",
     "output_type": "stream",
     "text": [
      "\r",
      "Val:  97%|█████████▋| 83/86 [04:18<00:09,  3.03s/it, eval_loss=0.0948, gpu_mem=6.91 GB]"
     ]
    },
    {
     "name": "stderr",
     "output_type": "stream",
     "text": [
      "\r",
      "Val:  97%|█████████▋| 83/86 [04:21<00:09,  3.03s/it, eval_loss=0.0945, gpu_mem=6.91 GB]"
     ]
    },
    {
     "name": "stderr",
     "output_type": "stream",
     "text": [
      "\r",
      "Val:  98%|█████████▊| 84/86 [04:21<00:05,  2.99s/it, eval_loss=0.0945, gpu_mem=6.91 GB]"
     ]
    },
    {
     "name": "stderr",
     "output_type": "stream",
     "text": [
      "\r",
      "Val:  98%|█████████▊| 84/86 [04:24<00:05,  2.99s/it, eval_loss=0.0972, gpu_mem=6.91 GB]"
     ]
    },
    {
     "name": "stderr",
     "output_type": "stream",
     "text": [
      "\r",
      "Val:  99%|█████████▉| 85/86 [04:24<00:02,  2.98s/it, eval_loss=0.0972, gpu_mem=6.91 GB]"
     ]
    },
    {
     "name": "stderr",
     "output_type": "stream",
     "text": [
      "\r",
      "Val:  99%|█████████▉| 85/86 [04:24<00:02,  2.98s/it, eval_loss=0.0972, gpu_mem=6.91 GB]"
     ]
    },
    {
     "name": "stderr",
     "output_type": "stream",
     "text": [
      "\r",
      "Val: 100%|██████████| 86/86 [04:24<00:00,  2.24s/it, eval_loss=0.0972, gpu_mem=6.91 GB]"
     ]
    },
    {
     "name": "stderr",
     "output_type": "stream",
     "text": [
      "\r",
      "Val: 100%|██████████| 86/86 [04:24<00:00,  3.08s/it, eval_loss=0.0972, gpu_mem=6.91 GB]"
     ]
    },
    {
     "name": "stderr",
     "output_type": "stream",
     "text": [
      "\n",
      "Valid loss:0.0972\n"
     ]
    },
    {
     "name": "stderr",
     "output_type": "stream",
     "text": [
      "Val metric mean prob: 0.1867\n"
     ]
    },
    {
     "name": "stderr",
     "output_type": "stream",
     "text": [
      "Best metric at: 0.5111 0.3630  0.7308\n"
     ]
    },
    {
     "name": "stderr",
     "output_type": "stream",
     "text": [
      "Cf: [[2315   18]\n",
      " [  26   23]]\n"
     ]
    },
    {
     "name": "stderr",
     "output_type": "stream",
     "text": [
      "\u001b[32m[I 2023-02-15 04:05:41,243]\u001b[0m Trial 2 finished with value: 0.5111111111111111 and parameters: {'a1': 0.6729840492188729}. Best is trial 0 with value: 0.5111111111111111.\u001b[0m\n"
     ]
    },
    {
     "name": "stdout",
     "output_type": "stream",
     "text": [
      "/kaggle/input/10folds/tf_efficientnetv2_b2_fold_1_model_epoch_3_0.5055_0.360.pth\n",
      "none:  /kaggle/input/10folds/tf_efficientnetv2_b2_fold_1_model_epoch_3_0.5055_0.360.pth\n",
      "/kaggle/input/10folds/tf_efficientnetv2_b2_fold_1_model_epoch_5_0.4865_0.324.pth\n",
      "hehe /kaggle/input/10folds/tf_efficientnetv2_b2_fold_1_model_epoch_5_0.4865_0.324.pth\n",
      "0.7233008961031133 0.2766991038968867\n",
      "\n"
     ]
    },
    {
     "name": "stderr",
     "output_type": "stream",
     "text": [
      "\r",
      "Val:   0%|          | 0/86 [00:00<?, ?it/s]"
     ]
    },
    {
     "name": "stderr",
     "output_type": "stream",
     "text": [
      "\r",
      "Val:   0%|          | 0/86 [00:04<?, ?it/s, eval_loss=0.0552, gpu_mem=6.91 GB]"
     ]
    },
    {
     "name": "stderr",
     "output_type": "stream",
     "text": [
      "\r",
      "Val:   1%|          | 1/86 [00:04<06:36,  4.67s/it, eval_loss=0.0552, gpu_mem=6.91 GB]"
     ]
    },
    {
     "name": "stderr",
     "output_type": "stream",
     "text": [
      "\r",
      "Val:   1%|          | 1/86 [00:07<06:36,  4.67s/it, eval_loss=0.0431, gpu_mem=6.91 GB]"
     ]
    },
    {
     "name": "stderr",
     "output_type": "stream",
     "text": [
      "\r",
      "Val:   2%|▏         | 2/86 [00:07<05:12,  3.72s/it, eval_loss=0.0431, gpu_mem=6.91 GB]"
     ]
    },
    {
     "name": "stderr",
     "output_type": "stream",
     "text": [
      "\r",
      "Val:   2%|▏         | 2/86 [00:11<05:12,  3.72s/it, eval_loss=0.0889, gpu_mem=6.91 GB]"
     ]
    },
    {
     "name": "stderr",
     "output_type": "stream",
     "text": [
      "\r",
      "Val:   3%|▎         | 3/86 [00:11<05:01,  3.63s/it, eval_loss=0.0889, gpu_mem=6.91 GB]"
     ]
    },
    {
     "name": "stderr",
     "output_type": "stream",
     "text": [
      "\r",
      "Val:   3%|▎         | 3/86 [00:13<05:01,  3.63s/it, eval_loss=0.0997, gpu_mem=6.91 GB]"
     ]
    },
    {
     "name": "stderr",
     "output_type": "stream",
     "text": [
      "\r",
      "Val:   5%|▍         | 4/86 [00:13<04:27,  3.26s/it, eval_loss=0.0997, gpu_mem=6.91 GB]"
     ]
    },
    {
     "name": "stderr",
     "output_type": "stream",
     "text": [
      "\r",
      "Val:   5%|▍         | 4/86 [00:16<04:27,  3.26s/it, eval_loss=0.0955, gpu_mem=6.91 GB]"
     ]
    },
    {
     "name": "stderr",
     "output_type": "stream",
     "text": [
      "\r",
      "Val:   6%|▌         | 5/86 [00:16<04:06,  3.04s/it, eval_loss=0.0955, gpu_mem=6.91 GB]"
     ]
    },
    {
     "name": "stderr",
     "output_type": "stream",
     "text": [
      "\r",
      "Val:   6%|▌         | 5/86 [00:19<04:06,  3.04s/it, eval_loss=0.0924, gpu_mem=6.91 GB]"
     ]
    },
    {
     "name": "stderr",
     "output_type": "stream",
     "text": [
      "\r",
      "Val:   7%|▋         | 6/86 [00:19<03:53,  2.92s/it, eval_loss=0.0924, gpu_mem=6.91 GB]"
     ]
    },
    {
     "name": "stderr",
     "output_type": "stream",
     "text": [
      "\r",
      "Val:   7%|▋         | 6/86 [00:22<03:53,  2.92s/it, eval_loss=0.0847, gpu_mem=6.91 GB]"
     ]
    },
    {
     "name": "stderr",
     "output_type": "stream",
     "text": [
      "\r",
      "Val:   8%|▊         | 7/86 [00:22<03:50,  2.92s/it, eval_loss=0.0847, gpu_mem=6.91 GB]"
     ]
    },
    {
     "name": "stderr",
     "output_type": "stream",
     "text": [
      "\r",
      "Val:   8%|▊         | 7/86 [00:24<03:50,  2.92s/it, eval_loss=0.0818, gpu_mem=6.91 GB]"
     ]
    },
    {
     "name": "stderr",
     "output_type": "stream",
     "text": [
      "\r",
      "Val:   9%|▉         | 8/86 [00:24<03:41,  2.83s/it, eval_loss=0.0818, gpu_mem=6.91 GB]"
     ]
    },
    {
     "name": "stderr",
     "output_type": "stream",
     "text": [
      "\r",
      "Val:   9%|▉         | 8/86 [00:27<03:41,  2.83s/it, eval_loss=0.0801, gpu_mem=6.91 GB]"
     ]
    },
    {
     "name": "stderr",
     "output_type": "stream",
     "text": [
      "\r",
      "Val:  10%|█         | 9/86 [00:27<03:34,  2.78s/it, eval_loss=0.0801, gpu_mem=6.91 GB]"
     ]
    },
    {
     "name": "stderr",
     "output_type": "stream",
     "text": [
      "\r",
      "Val:  10%|█         | 9/86 [00:30<03:34,  2.78s/it, eval_loss=0.0871, gpu_mem=6.91 GB]"
     ]
    },
    {
     "name": "stderr",
     "output_type": "stream",
     "text": [
      "\r",
      "Val:  12%|█▏        | 10/86 [00:30<03:27,  2.73s/it, eval_loss=0.0871, gpu_mem=6.91 GB]"
     ]
    },
    {
     "name": "stderr",
     "output_type": "stream",
     "text": [
      "\r",
      "Val:  12%|█▏        | 10/86 [00:32<03:27,  2.73s/it, eval_loss=0.0842, gpu_mem=6.91 GB]"
     ]
    },
    {
     "name": "stderr",
     "output_type": "stream",
     "text": [
      "\r",
      "Val:  13%|█▎        | 11/86 [00:32<03:26,  2.75s/it, eval_loss=0.0842, gpu_mem=6.91 GB]"
     ]
    },
    {
     "name": "stderr",
     "output_type": "stream",
     "text": [
      "\r",
      "Val:  13%|█▎        | 11/86 [00:35<03:26,  2.75s/it, eval_loss=0.0844, gpu_mem=6.91 GB]"
     ]
    },
    {
     "name": "stderr",
     "output_type": "stream",
     "text": [
      "\r",
      "Val:  14%|█▍        | 12/86 [00:35<03:22,  2.74s/it, eval_loss=0.0844, gpu_mem=6.91 GB]"
     ]
    },
    {
     "name": "stderr",
     "output_type": "stream",
     "text": [
      "\r",
      "Val:  14%|█▍        | 12/86 [00:38<03:22,  2.74s/it, eval_loss=0.0865, gpu_mem=6.91 GB]"
     ]
    },
    {
     "name": "stderr",
     "output_type": "stream",
     "text": [
      "\r",
      "Val:  15%|█▌        | 13/86 [00:38<03:16,  2.70s/it, eval_loss=0.0865, gpu_mem=6.91 GB]"
     ]
    },
    {
     "name": "stderr",
     "output_type": "stream",
     "text": [
      "\r",
      "Val:  15%|█▌        | 13/86 [00:40<03:16,  2.70s/it, eval_loss=0.0828, gpu_mem=6.91 GB]"
     ]
    },
    {
     "name": "stderr",
     "output_type": "stream",
     "text": [
      "\r",
      "Val:  16%|█▋        | 14/86 [00:40<03:12,  2.68s/it, eval_loss=0.0828, gpu_mem=6.91 GB]"
     ]
    },
    {
     "name": "stderr",
     "output_type": "stream",
     "text": [
      "\r",
      "Val:  16%|█▋        | 14/86 [00:44<03:12,  2.68s/it, eval_loss=0.0800, gpu_mem=6.91 GB]"
     ]
    },
    {
     "name": "stderr",
     "output_type": "stream",
     "text": [
      "\r",
      "Val:  17%|█▋        | 15/86 [00:44<03:25,  2.90s/it, eval_loss=0.0800, gpu_mem=6.91 GB]"
     ]
    },
    {
     "name": "stderr",
     "output_type": "stream",
     "text": [
      "\r",
      "Val:  17%|█▋        | 15/86 [00:46<03:25,  2.90s/it, eval_loss=0.0781, gpu_mem=6.91 GB]"
     ]
    },
    {
     "name": "stderr",
     "output_type": "stream",
     "text": [
      "\r",
      "Val:  19%|█▊        | 16/86 [00:46<03:18,  2.83s/it, eval_loss=0.0781, gpu_mem=6.91 GB]"
     ]
    },
    {
     "name": "stderr",
     "output_type": "stream",
     "text": [
      "\r",
      "Val:  19%|█▊        | 16/86 [00:49<03:18,  2.83s/it, eval_loss=0.0782, gpu_mem=6.91 GB]"
     ]
    },
    {
     "name": "stderr",
     "output_type": "stream",
     "text": [
      "\r",
      "Val:  20%|█▉        | 17/86 [00:49<03:10,  2.76s/it, eval_loss=0.0782, gpu_mem=6.91 GB]"
     ]
    },
    {
     "name": "stderr",
     "output_type": "stream",
     "text": [
      "\r",
      "Val:  20%|█▉        | 17/86 [00:52<03:10,  2.76s/it, eval_loss=0.0777, gpu_mem=6.91 GB]"
     ]
    },
    {
     "name": "stderr",
     "output_type": "stream",
     "text": [
      "\r",
      "Val:  21%|██        | 18/86 [00:52<03:04,  2.72s/it, eval_loss=0.0777, gpu_mem=6.91 GB]"
     ]
    },
    {
     "name": "stderr",
     "output_type": "stream",
     "text": [
      "\r",
      "Val:  21%|██        | 18/86 [00:55<03:04,  2.72s/it, eval_loss=0.0779, gpu_mem=6.91 GB]"
     ]
    },
    {
     "name": "stderr",
     "output_type": "stream",
     "text": [
      "\r",
      "Val:  22%|██▏       | 19/86 [00:55<03:04,  2.76s/it, eval_loss=0.0779, gpu_mem=6.91 GB]"
     ]
    },
    {
     "name": "stderr",
     "output_type": "stream",
     "text": [
      "\r",
      "Val:  22%|██▏       | 19/86 [00:57<03:04,  2.76s/it, eval_loss=0.0785, gpu_mem=6.91 GB]"
     ]
    },
    {
     "name": "stderr",
     "output_type": "stream",
     "text": [
      "\r",
      "Val:  23%|██▎       | 20/86 [00:57<02:59,  2.72s/it, eval_loss=0.0785, gpu_mem=6.91 GB]"
     ]
    },
    {
     "name": "stderr",
     "output_type": "stream",
     "text": [
      "\r",
      "Val:  23%|██▎       | 20/86 [01:00<02:59,  2.72s/it, eval_loss=0.0771, gpu_mem=6.91 GB]"
     ]
    },
    {
     "name": "stderr",
     "output_type": "stream",
     "text": [
      "\r",
      "Val:  24%|██▍       | 21/86 [01:00<02:54,  2.68s/it, eval_loss=0.0771, gpu_mem=6.91 GB]"
     ]
    },
    {
     "name": "stderr",
     "output_type": "stream",
     "text": [
      "\r",
      "Val:  24%|██▍       | 21/86 [01:02<02:54,  2.68s/it, eval_loss=0.0804, gpu_mem=6.91 GB]"
     ]
    },
    {
     "name": "stderr",
     "output_type": "stream",
     "text": [
      "\r",
      "Val:  26%|██▌       | 22/86 [01:02<02:51,  2.69s/it, eval_loss=0.0804, gpu_mem=6.91 GB]"
     ]
    },
    {
     "name": "stderr",
     "output_type": "stream",
     "text": [
      "\r",
      "Val:  26%|██▌       | 22/86 [01:05<02:51,  2.69s/it, eval_loss=0.0844, gpu_mem=6.91 GB]"
     ]
    },
    {
     "name": "stderr",
     "output_type": "stream",
     "text": [
      "\r",
      "Val:  27%|██▋       | 23/86 [01:05<02:55,  2.79s/it, eval_loss=0.0844, gpu_mem=6.91 GB]"
     ]
    },
    {
     "name": "stderr",
     "output_type": "stream",
     "text": [
      "\r",
      "Val:  27%|██▋       | 23/86 [01:08<02:55,  2.79s/it, eval_loss=0.0839, gpu_mem=6.91 GB]"
     ]
    },
    {
     "name": "stderr",
     "output_type": "stream",
     "text": [
      "\r",
      "Val:  28%|██▊       | 24/86 [01:08<02:46,  2.69s/it, eval_loss=0.0839, gpu_mem=6.91 GB]"
     ]
    },
    {
     "name": "stderr",
     "output_type": "stream",
     "text": [
      "\r",
      "Val:  28%|██▊       | 24/86 [01:10<02:46,  2.69s/it, eval_loss=0.0837, gpu_mem=6.91 GB]"
     ]
    },
    {
     "name": "stderr",
     "output_type": "stream",
     "text": [
      "\r",
      "Val:  29%|██▉       | 25/86 [01:10<02:40,  2.64s/it, eval_loss=0.0837, gpu_mem=6.91 GB]"
     ]
    },
    {
     "name": "stderr",
     "output_type": "stream",
     "text": [
      "\r",
      "Val:  29%|██▉       | 25/86 [01:13<02:40,  2.64s/it, eval_loss=0.0816, gpu_mem=6.91 GB]"
     ]
    },
    {
     "name": "stderr",
     "output_type": "stream",
     "text": [
      "\r",
      "Val:  30%|███       | 26/86 [01:13<02:42,  2.70s/it, eval_loss=0.0816, gpu_mem=6.91 GB]"
     ]
    },
    {
     "name": "stderr",
     "output_type": "stream",
     "text": [
      "\r",
      "Val:  30%|███       | 26/86 [01:17<02:42,  2.70s/it, eval_loss=0.0853, gpu_mem=6.91 GB]"
     ]
    },
    {
     "name": "stderr",
     "output_type": "stream",
     "text": [
      "\r",
      "Val:  31%|███▏      | 27/86 [01:17<02:52,  2.92s/it, eval_loss=0.0853, gpu_mem=6.91 GB]"
     ]
    },
    {
     "name": "stderr",
     "output_type": "stream",
     "text": [
      "\r",
      "Val:  31%|███▏      | 27/86 [01:20<02:52,  2.92s/it, eval_loss=0.0848, gpu_mem=6.91 GB]"
     ]
    },
    {
     "name": "stderr",
     "output_type": "stream",
     "text": [
      "\r",
      "Val:  33%|███▎      | 28/86 [01:20<02:47,  2.89s/it, eval_loss=0.0848, gpu_mem=6.91 GB]"
     ]
    },
    {
     "name": "stderr",
     "output_type": "stream",
     "text": [
      "\r",
      "Val:  33%|███▎      | 28/86 [01:22<02:47,  2.89s/it, eval_loss=0.0838, gpu_mem=6.91 GB]"
     ]
    },
    {
     "name": "stderr",
     "output_type": "stream",
     "text": [
      "\r",
      "Val:  34%|███▎      | 29/86 [01:22<02:44,  2.88s/it, eval_loss=0.0838, gpu_mem=6.91 GB]"
     ]
    },
    {
     "name": "stderr",
     "output_type": "stream",
     "text": [
      "\r",
      "Val:  34%|███▎      | 29/86 [01:25<02:44,  2.88s/it, eval_loss=0.0838, gpu_mem=6.91 GB]"
     ]
    },
    {
     "name": "stderr",
     "output_type": "stream",
     "text": [
      "\r",
      "Val:  35%|███▍      | 30/86 [01:25<02:40,  2.86s/it, eval_loss=0.0838, gpu_mem=6.91 GB]"
     ]
    },
    {
     "name": "stderr",
     "output_type": "stream",
     "text": [
      "\r",
      "Val:  35%|███▍      | 30/86 [01:28<02:40,  2.86s/it, eval_loss=0.0830, gpu_mem=6.91 GB]"
     ]
    },
    {
     "name": "stderr",
     "output_type": "stream",
     "text": [
      "\r",
      "Val:  36%|███▌      | 31/86 [01:28<02:42,  2.95s/it, eval_loss=0.0830, gpu_mem=6.91 GB]"
     ]
    },
    {
     "name": "stderr",
     "output_type": "stream",
     "text": [
      "\r",
      "Val:  36%|███▌      | 31/86 [01:31<02:42,  2.95s/it, eval_loss=0.0905, gpu_mem=6.91 GB]"
     ]
    },
    {
     "name": "stderr",
     "output_type": "stream",
     "text": [
      "\r",
      "Val:  37%|███▋      | 32/86 [01:31<02:34,  2.86s/it, eval_loss=0.0905, gpu_mem=6.91 GB]"
     ]
    },
    {
     "name": "stderr",
     "output_type": "stream",
     "text": [
      "\r",
      "Val:  37%|███▋      | 32/86 [01:34<02:34,  2.86s/it, eval_loss=0.0886, gpu_mem=6.91 GB]"
     ]
    },
    {
     "name": "stderr",
     "output_type": "stream",
     "text": [
      "\r",
      "Val:  38%|███▊      | 33/86 [01:34<02:28,  2.80s/it, eval_loss=0.0886, gpu_mem=6.91 GB]"
     ]
    },
    {
     "name": "stderr",
     "output_type": "stream",
     "text": [
      "\r",
      "Val:  38%|███▊      | 33/86 [01:37<02:28,  2.80s/it, eval_loss=0.0899, gpu_mem=6.91 GB]"
     ]
    },
    {
     "name": "stderr",
     "output_type": "stream",
     "text": [
      "\r",
      "Val:  40%|███▉      | 34/86 [01:37<02:26,  2.81s/it, eval_loss=0.0899, gpu_mem=6.91 GB]"
     ]
    },
    {
     "name": "stderr",
     "output_type": "stream",
     "text": [
      "\r",
      "Val:  40%|███▉      | 34/86 [01:40<02:26,  2.81s/it, eval_loss=0.0889, gpu_mem=6.91 GB]"
     ]
    },
    {
     "name": "stderr",
     "output_type": "stream",
     "text": [
      "\r",
      "Val:  41%|████      | 35/86 [01:40<02:25,  2.86s/it, eval_loss=0.0889, gpu_mem=6.91 GB]"
     ]
    },
    {
     "name": "stderr",
     "output_type": "stream",
     "text": [
      "\r",
      "Val:  41%|████      | 35/86 [01:42<02:25,  2.86s/it, eval_loss=0.0875, gpu_mem=6.91 GB]"
     ]
    },
    {
     "name": "stderr",
     "output_type": "stream",
     "text": [
      "\r",
      "Val:  42%|████▏     | 36/86 [01:42<02:21,  2.83s/it, eval_loss=0.0875, gpu_mem=6.91 GB]"
     ]
    },
    {
     "name": "stderr",
     "output_type": "stream",
     "text": [
      "\r",
      "Val:  42%|████▏     | 36/86 [01:45<02:21,  2.83s/it, eval_loss=0.0881, gpu_mem=6.91 GB]"
     ]
    },
    {
     "name": "stderr",
     "output_type": "stream",
     "text": [
      "\r",
      "Val:  43%|████▎     | 37/86 [01:45<02:16,  2.78s/it, eval_loss=0.0881, gpu_mem=6.91 GB]"
     ]
    },
    {
     "name": "stderr",
     "output_type": "stream",
     "text": [
      "\r",
      "Val:  43%|████▎     | 37/86 [01:49<02:16,  2.78s/it, eval_loss=0.0879, gpu_mem=6.91 GB]"
     ]
    },
    {
     "name": "stderr",
     "output_type": "stream",
     "text": [
      "\r",
      "Val:  44%|████▍     | 38/86 [01:49<02:24,  3.02s/it, eval_loss=0.0879, gpu_mem=6.91 GB]"
     ]
    },
    {
     "name": "stderr",
     "output_type": "stream",
     "text": [
      "\r",
      "Val:  44%|████▍     | 38/86 [01:51<02:24,  3.02s/it, eval_loss=0.0865, gpu_mem=6.91 GB]"
     ]
    },
    {
     "name": "stderr",
     "output_type": "stream",
     "text": [
      "\r",
      "Val:  45%|████▌     | 39/86 [01:51<02:17,  2.92s/it, eval_loss=0.0865, gpu_mem=6.91 GB]"
     ]
    },
    {
     "name": "stderr",
     "output_type": "stream",
     "text": [
      "\r",
      "Val:  45%|████▌     | 39/86 [01:54<02:17,  2.92s/it, eval_loss=0.0864, gpu_mem=6.91 GB]"
     ]
    },
    {
     "name": "stderr",
     "output_type": "stream",
     "text": [
      "\r",
      "Val:  47%|████▋     | 40/86 [01:54<02:09,  2.81s/it, eval_loss=0.0864, gpu_mem=6.91 GB]"
     ]
    },
    {
     "name": "stderr",
     "output_type": "stream",
     "text": [
      "\r",
      "Val:  47%|████▋     | 40/86 [01:57<02:09,  2.81s/it, eval_loss=0.0859, gpu_mem=6.91 GB]"
     ]
    },
    {
     "name": "stderr",
     "output_type": "stream",
     "text": [
      "\r",
      "Val:  48%|████▊     | 41/86 [01:57<02:05,  2.79s/it, eval_loss=0.0859, gpu_mem=6.91 GB]"
     ]
    },
    {
     "name": "stderr",
     "output_type": "stream",
     "text": [
      "\r",
      "Val:  48%|████▊     | 41/86 [02:00<02:05,  2.79s/it, eval_loss=0.0854, gpu_mem=6.91 GB]"
     ]
    },
    {
     "name": "stderr",
     "output_type": "stream",
     "text": [
      "\r",
      "Val:  49%|████▉     | 42/86 [02:00<02:07,  2.90s/it, eval_loss=0.0854, gpu_mem=6.91 GB]"
     ]
    },
    {
     "name": "stderr",
     "output_type": "stream",
     "text": [
      "\r",
      "Val:  49%|████▉     | 42/86 [02:02<02:07,  2.90s/it, eval_loss=0.0845, gpu_mem=6.91 GB]"
     ]
    },
    {
     "name": "stderr",
     "output_type": "stream",
     "text": [
      "\r",
      "Val:  50%|█████     | 43/86 [02:02<02:03,  2.87s/it, eval_loss=0.0845, gpu_mem=6.91 GB]"
     ]
    },
    {
     "name": "stderr",
     "output_type": "stream",
     "text": [
      "\r",
      "Val:  50%|█████     | 43/86 [02:05<02:03,  2.87s/it, eval_loss=0.0877, gpu_mem=6.91 GB]"
     ]
    },
    {
     "name": "stderr",
     "output_type": "stream",
     "text": [
      "\r",
      "Val:  51%|█████     | 44/86 [02:05<02:00,  2.88s/it, eval_loss=0.0877, gpu_mem=6.91 GB]"
     ]
    },
    {
     "name": "stderr",
     "output_type": "stream",
     "text": [
      "\r",
      "Val:  51%|█████     | 44/86 [02:08<02:00,  2.88s/it, eval_loss=0.0864, gpu_mem=6.91 GB]"
     ]
    },
    {
     "name": "stderr",
     "output_type": "stream",
     "text": [
      "\r",
      "Val:  52%|█████▏    | 45/86 [02:08<01:57,  2.87s/it, eval_loss=0.0864, gpu_mem=6.91 GB]"
     ]
    },
    {
     "name": "stderr",
     "output_type": "stream",
     "text": [
      "\r",
      "Val:  52%|█████▏    | 45/86 [02:11<01:57,  2.87s/it, eval_loss=0.0863, gpu_mem=6.91 GB]"
     ]
    },
    {
     "name": "stderr",
     "output_type": "stream",
     "text": [
      "\r",
      "Val:  53%|█████▎    | 46/86 [02:11<01:56,  2.90s/it, eval_loss=0.0863, gpu_mem=6.91 GB]"
     ]
    },
    {
     "name": "stderr",
     "output_type": "stream",
     "text": [
      "\r",
      "Val:  53%|█████▎    | 46/86 [02:14<01:56,  2.90s/it, eval_loss=0.0856, gpu_mem=6.91 GB]"
     ]
    },
    {
     "name": "stderr",
     "output_type": "stream",
     "text": [
      "\r",
      "Val:  55%|█████▍    | 47/86 [02:14<01:50,  2.83s/it, eval_loss=0.0856, gpu_mem=6.91 GB]"
     ]
    },
    {
     "name": "stderr",
     "output_type": "stream",
     "text": [
      "\r",
      "Val:  55%|█████▍    | 47/86 [02:17<01:50,  2.83s/it, eval_loss=0.0874, gpu_mem=6.91 GB]"
     ]
    },
    {
     "name": "stderr",
     "output_type": "stream",
     "text": [
      "\r",
      "Val:  56%|█████▌    | 48/86 [02:17<01:46,  2.80s/it, eval_loss=0.0874, gpu_mem=6.91 GB]"
     ]
    },
    {
     "name": "stderr",
     "output_type": "stream",
     "text": [
      "\r",
      "Val:  56%|█████▌    | 48/86 [02:20<01:46,  2.80s/it, eval_loss=0.0869, gpu_mem=6.91 GB]"
     ]
    },
    {
     "name": "stderr",
     "output_type": "stream",
     "text": [
      "\r",
      "Val:  57%|█████▋    | 49/86 [02:20<01:48,  2.93s/it, eval_loss=0.0869, gpu_mem=6.91 GB]"
     ]
    },
    {
     "name": "stderr",
     "output_type": "stream",
     "text": [
      "\r",
      "Val:  57%|█████▋    | 49/86 [02:23<01:48,  2.93s/it, eval_loss=0.0866, gpu_mem=6.91 GB]"
     ]
    },
    {
     "name": "stderr",
     "output_type": "stream",
     "text": [
      "\r",
      "Val:  58%|█████▊    | 50/86 [02:23<01:48,  3.01s/it, eval_loss=0.0866, gpu_mem=6.91 GB]"
     ]
    },
    {
     "name": "stderr",
     "output_type": "stream",
     "text": [
      "\r",
      "Val:  58%|█████▊    | 50/86 [02:26<01:48,  3.01s/it, eval_loss=0.0895, gpu_mem=6.91 GB]"
     ]
    },
    {
     "name": "stderr",
     "output_type": "stream",
     "text": [
      "\r",
      "Val:  59%|█████▉    | 51/86 [02:26<01:43,  2.96s/it, eval_loss=0.0895, gpu_mem=6.91 GB]"
     ]
    },
    {
     "name": "stderr",
     "output_type": "stream",
     "text": [
      "\r",
      "Val:  59%|█████▉    | 51/86 [02:29<01:43,  2.96s/it, eval_loss=0.0909, gpu_mem=6.91 GB]"
     ]
    },
    {
     "name": "stderr",
     "output_type": "stream",
     "text": [
      "\r",
      "Val:  60%|██████    | 52/86 [02:29<01:38,  2.89s/it, eval_loss=0.0909, gpu_mem=6.91 GB]"
     ]
    },
    {
     "name": "stderr",
     "output_type": "stream",
     "text": [
      "\r",
      "Val:  60%|██████    | 52/86 [02:31<01:38,  2.89s/it, eval_loss=0.0922, gpu_mem=6.91 GB]"
     ]
    },
    {
     "name": "stderr",
     "output_type": "stream",
     "text": [
      "\r",
      "Val:  62%|██████▏   | 53/86 [02:31<01:34,  2.86s/it, eval_loss=0.0922, gpu_mem=6.91 GB]"
     ]
    },
    {
     "name": "stderr",
     "output_type": "stream",
     "text": [
      "\r",
      "Val:  62%|██████▏   | 53/86 [02:34<01:34,  2.86s/it, eval_loss=0.0915, gpu_mem=6.91 GB]"
     ]
    },
    {
     "name": "stderr",
     "output_type": "stream",
     "text": [
      "\r",
      "Val:  63%|██████▎   | 54/86 [02:34<01:34,  2.94s/it, eval_loss=0.0915, gpu_mem=6.91 GB]"
     ]
    },
    {
     "name": "stderr",
     "output_type": "stream",
     "text": [
      "\r",
      "Val:  63%|██████▎   | 54/86 [02:37<01:34,  2.94s/it, eval_loss=0.0922, gpu_mem=6.91 GB]"
     ]
    },
    {
     "name": "stderr",
     "output_type": "stream",
     "text": [
      "\r",
      "Val:  64%|██████▍   | 55/86 [02:37<01:30,  2.93s/it, eval_loss=0.0922, gpu_mem=6.91 GB]"
     ]
    },
    {
     "name": "stderr",
     "output_type": "stream",
     "text": [
      "\r",
      "Val:  64%|██████▍   | 55/86 [02:40<01:30,  2.93s/it, eval_loss=0.0918, gpu_mem=6.91 GB]"
     ]
    },
    {
     "name": "stderr",
     "output_type": "stream",
     "text": [
      "\r",
      "Val:  65%|██████▌   | 56/86 [02:40<01:25,  2.84s/it, eval_loss=0.0918, gpu_mem=6.91 GB]"
     ]
    },
    {
     "name": "stderr",
     "output_type": "stream",
     "text": [
      "\r",
      "Val:  65%|██████▌   | 56/86 [02:43<01:25,  2.84s/it, eval_loss=0.0917, gpu_mem=6.91 GB]"
     ]
    },
    {
     "name": "stderr",
     "output_type": "stream",
     "text": [
      "\r",
      "Val:  66%|██████▋   | 57/86 [02:43<01:23,  2.88s/it, eval_loss=0.0917, gpu_mem=6.91 GB]"
     ]
    },
    {
     "name": "stderr",
     "output_type": "stream",
     "text": [
      "\r",
      "Val:  66%|██████▋   | 57/86 [02:46<01:23,  2.88s/it, eval_loss=0.0940, gpu_mem=6.91 GB]"
     ]
    },
    {
     "name": "stderr",
     "output_type": "stream",
     "text": [
      "\r",
      "Val:  67%|██████▋   | 58/86 [02:46<01:20,  2.88s/it, eval_loss=0.0940, gpu_mem=6.91 GB]"
     ]
    },
    {
     "name": "stderr",
     "output_type": "stream",
     "text": [
      "\r",
      "Val:  67%|██████▋   | 58/86 [02:49<01:20,  2.88s/it, eval_loss=0.0935, gpu_mem=6.91 GB]"
     ]
    },
    {
     "name": "stderr",
     "output_type": "stream",
     "text": [
      "\r",
      "Val:  69%|██████▊   | 59/86 [02:49<01:17,  2.86s/it, eval_loss=0.0935, gpu_mem=6.91 GB]"
     ]
    },
    {
     "name": "stderr",
     "output_type": "stream",
     "text": [
      "\r",
      "Val:  69%|██████▊   | 59/86 [02:52<01:17,  2.86s/it, eval_loss=0.0953, gpu_mem=6.91 GB]"
     ]
    },
    {
     "name": "stderr",
     "output_type": "stream",
     "text": [
      "\r",
      "Val:  70%|██████▉   | 60/86 [02:52<01:16,  2.94s/it, eval_loss=0.0953, gpu_mem=6.91 GB]"
     ]
    },
    {
     "name": "stderr",
     "output_type": "stream",
     "text": [
      "\r",
      "Val:  70%|██████▉   | 60/86 [02:55<01:16,  2.94s/it, eval_loss=0.0947, gpu_mem=6.91 GB]"
     ]
    },
    {
     "name": "stderr",
     "output_type": "stream",
     "text": [
      "\r",
      "Val:  71%|███████   | 61/86 [02:55<01:13,  2.93s/it, eval_loss=0.0947, gpu_mem=6.91 GB]"
     ]
    },
    {
     "name": "stderr",
     "output_type": "stream",
     "text": [
      "\r",
      "Val:  71%|███████   | 61/86 [02:58<01:13,  2.93s/it, eval_loss=0.0943, gpu_mem=6.91 GB]"
     ]
    },
    {
     "name": "stderr",
     "output_type": "stream",
     "text": [
      "\r",
      "Val:  72%|███████▏  | 62/86 [02:58<01:09,  2.89s/it, eval_loss=0.0943, gpu_mem=6.91 GB]"
     ]
    },
    {
     "name": "stderr",
     "output_type": "stream",
     "text": [
      "\r",
      "Val:  72%|███████▏  | 62/86 [03:00<01:09,  2.89s/it, eval_loss=0.0942, gpu_mem=6.91 GB]"
     ]
    },
    {
     "name": "stderr",
     "output_type": "stream",
     "text": [
      "\r",
      "Val:  73%|███████▎  | 63/86 [03:00<01:04,  2.81s/it, eval_loss=0.0942, gpu_mem=6.91 GB]"
     ]
    },
    {
     "name": "stderr",
     "output_type": "stream",
     "text": [
      "\r",
      "Val:  73%|███████▎  | 63/86 [03:03<01:04,  2.81s/it, eval_loss=0.0941, gpu_mem=6.91 GB]"
     ]
    },
    {
     "name": "stderr",
     "output_type": "stream",
     "text": [
      "\r",
      "Val:  74%|███████▍  | 64/86 [03:03<01:01,  2.80s/it, eval_loss=0.0941, gpu_mem=6.91 GB]"
     ]
    },
    {
     "name": "stderr",
     "output_type": "stream",
     "text": [
      "\r",
      "Val:  74%|███████▍  | 64/86 [03:06<01:01,  2.80s/it, eval_loss=0.0932, gpu_mem=6.91 GB]"
     ]
    },
    {
     "name": "stderr",
     "output_type": "stream",
     "text": [
      "\r",
      "Val:  76%|███████▌  | 65/86 [03:06<01:00,  2.87s/it, eval_loss=0.0932, gpu_mem=6.91 GB]"
     ]
    },
    {
     "name": "stderr",
     "output_type": "stream",
     "text": [
      "\r",
      "Val:  76%|███████▌  | 65/86 [03:09<01:00,  2.87s/it, eval_loss=0.0950, gpu_mem=6.91 GB]"
     ]
    },
    {
     "name": "stderr",
     "output_type": "stream",
     "text": [
      "\r",
      "Val:  77%|███████▋  | 66/86 [03:09<00:57,  2.87s/it, eval_loss=0.0950, gpu_mem=6.91 GB]"
     ]
    },
    {
     "name": "stderr",
     "output_type": "stream",
     "text": [
      "\r",
      "Val:  77%|███████▋  | 66/86 [03:12<00:57,  2.87s/it, eval_loss=0.0942, gpu_mem=6.91 GB]"
     ]
    },
    {
     "name": "stderr",
     "output_type": "stream",
     "text": [
      "\r",
      "Val:  78%|███████▊  | 67/86 [03:12<00:54,  2.85s/it, eval_loss=0.0942, gpu_mem=6.91 GB]"
     ]
    },
    {
     "name": "stderr",
     "output_type": "stream",
     "text": [
      "\r",
      "Val:  78%|███████▊  | 67/86 [03:14<00:54,  2.85s/it, eval_loss=0.0966, gpu_mem=6.91 GB]"
     ]
    },
    {
     "name": "stderr",
     "output_type": "stream",
     "text": [
      "\r",
      "Val:  79%|███████▉  | 68/86 [03:14<00:50,  2.83s/it, eval_loss=0.0966, gpu_mem=6.91 GB]"
     ]
    },
    {
     "name": "stderr",
     "output_type": "stream",
     "text": [
      "\r",
      "Val:  79%|███████▉  | 68/86 [03:17<00:50,  2.83s/it, eval_loss=0.0967, gpu_mem=6.91 GB]"
     ]
    },
    {
     "name": "stderr",
     "output_type": "stream",
     "text": [
      "\r",
      "Val:  80%|████████  | 69/86 [03:17<00:49,  2.90s/it, eval_loss=0.0967, gpu_mem=6.91 GB]"
     ]
    },
    {
     "name": "stderr",
     "output_type": "stream",
     "text": [
      "\r",
      "Val:  80%|████████  | 69/86 [03:20<00:49,  2.90s/it, eval_loss=0.0964, gpu_mem=6.91 GB]"
     ]
    },
    {
     "name": "stderr",
     "output_type": "stream",
     "text": [
      "\r",
      "Val:  81%|████████▏ | 70/86 [03:20<00:45,  2.84s/it, eval_loss=0.0964, gpu_mem=6.91 GB]"
     ]
    },
    {
     "name": "stderr",
     "output_type": "stream",
     "text": [
      "\r",
      "Val:  81%|████████▏ | 70/86 [03:23<00:45,  2.84s/it, eval_loss=0.0971, gpu_mem=6.91 GB]"
     ]
    },
    {
     "name": "stderr",
     "output_type": "stream",
     "text": [
      "\r",
      "Val:  83%|████████▎ | 71/86 [03:23<00:44,  2.94s/it, eval_loss=0.0971, gpu_mem=6.91 GB]"
     ]
    },
    {
     "name": "stderr",
     "output_type": "stream",
     "text": [
      "\r",
      "Val:  83%|████████▎ | 71/86 [03:26<00:44,  2.94s/it, eval_loss=0.0967, gpu_mem=6.91 GB]"
     ]
    },
    {
     "name": "stderr",
     "output_type": "stream",
     "text": [
      "\r",
      "Val:  84%|████████▎ | 72/86 [03:26<00:39,  2.85s/it, eval_loss=0.0967, gpu_mem=6.91 GB]"
     ]
    },
    {
     "name": "stderr",
     "output_type": "stream",
     "text": [
      "\r",
      "Val:  84%|████████▎ | 72/86 [03:29<00:39,  2.85s/it, eval_loss=0.0964, gpu_mem=6.91 GB]"
     ]
    },
    {
     "name": "stderr",
     "output_type": "stream",
     "text": [
      "\r",
      "Val:  85%|████████▍ | 73/86 [03:29<00:37,  2.89s/it, eval_loss=0.0964, gpu_mem=6.91 GB]"
     ]
    },
    {
     "name": "stderr",
     "output_type": "stream",
     "text": [
      "\r",
      "Val:  85%|████████▍ | 73/86 [03:32<00:37,  2.89s/it, eval_loss=0.0967, gpu_mem=6.91 GB]"
     ]
    },
    {
     "name": "stderr",
     "output_type": "stream",
     "text": [
      "\r",
      "Val:  86%|████████▌ | 74/86 [03:32<00:33,  2.80s/it, eval_loss=0.0967, gpu_mem=6.91 GB]"
     ]
    },
    {
     "name": "stderr",
     "output_type": "stream",
     "text": [
      "\r",
      "Val:  86%|████████▌ | 74/86 [03:34<00:33,  2.80s/it, eval_loss=0.0961, gpu_mem=6.91 GB]"
     ]
    },
    {
     "name": "stderr",
     "output_type": "stream",
     "text": [
      "\r",
      "Val:  87%|████████▋ | 75/86 [03:34<00:31,  2.82s/it, eval_loss=0.0961, gpu_mem=6.91 GB]"
     ]
    },
    {
     "name": "stderr",
     "output_type": "stream",
     "text": [
      "\r",
      "Val:  87%|████████▋ | 75/86 [03:37<00:31,  2.82s/it, eval_loss=0.0955, gpu_mem=6.91 GB]"
     ]
    },
    {
     "name": "stderr",
     "output_type": "stream",
     "text": [
      "\r",
      "Val:  88%|████████▊ | 76/86 [03:37<00:27,  2.79s/it, eval_loss=0.0955, gpu_mem=6.91 GB]"
     ]
    },
    {
     "name": "stderr",
     "output_type": "stream",
     "text": [
      "\r",
      "Val:  88%|████████▊ | 76/86 [03:40<00:27,  2.79s/it, eval_loss=0.0966, gpu_mem=6.91 GB]"
     ]
    },
    {
     "name": "stderr",
     "output_type": "stream",
     "text": [
      "\r",
      "Val:  90%|████████▉ | 77/86 [03:40<00:25,  2.84s/it, eval_loss=0.0966, gpu_mem=6.91 GB]"
     ]
    },
    {
     "name": "stderr",
     "output_type": "stream",
     "text": [
      "\r",
      "Val:  90%|████████▉ | 77/86 [03:43<00:25,  2.84s/it, eval_loss=0.0959, gpu_mem=6.91 GB]"
     ]
    },
    {
     "name": "stderr",
     "output_type": "stream",
     "text": [
      "\r",
      "Val:  91%|█████████ | 78/86 [03:43<00:22,  2.82s/it, eval_loss=0.0959, gpu_mem=6.91 GB]"
     ]
    },
    {
     "name": "stderr",
     "output_type": "stream",
     "text": [
      "\r",
      "Val:  91%|█████████ | 78/86 [03:46<00:22,  2.82s/it, eval_loss=0.0958, gpu_mem=6.91 GB]"
     ]
    },
    {
     "name": "stderr",
     "output_type": "stream",
     "text": [
      "\r",
      "Val:  92%|█████████▏| 79/86 [03:46<00:19,  2.80s/it, eval_loss=0.0958, gpu_mem=6.91 GB]"
     ]
    },
    {
     "name": "stderr",
     "output_type": "stream",
     "text": [
      "\r",
      "Val:  92%|█████████▏| 79/86 [03:48<00:19,  2.80s/it, eval_loss=0.0960, gpu_mem=6.91 GB]"
     ]
    },
    {
     "name": "stderr",
     "output_type": "stream",
     "text": [
      "\r",
      "Val:  93%|█████████▎| 80/86 [03:48<00:16,  2.78s/it, eval_loss=0.0960, gpu_mem=6.91 GB]"
     ]
    },
    {
     "name": "stderr",
     "output_type": "stream",
     "text": [
      "\r",
      "Val:  93%|█████████▎| 80/86 [03:51<00:16,  2.78s/it, eval_loss=0.0954, gpu_mem=6.91 GB]"
     ]
    },
    {
     "name": "stderr",
     "output_type": "stream",
     "text": [
      "\r",
      "Val:  94%|█████████▍| 81/86 [03:51<00:14,  2.84s/it, eval_loss=0.0954, gpu_mem=6.91 GB]"
     ]
    },
    {
     "name": "stderr",
     "output_type": "stream",
     "text": [
      "\r",
      "Val:  94%|█████████▍| 81/86 [03:54<00:14,  2.84s/it, eval_loss=0.0950, gpu_mem=6.91 GB]"
     ]
    },
    {
     "name": "stderr",
     "output_type": "stream",
     "text": [
      "\r",
      "Val:  95%|█████████▌| 82/86 [03:54<00:11,  2.93s/it, eval_loss=0.0950, gpu_mem=6.91 GB]"
     ]
    },
    {
     "name": "stderr",
     "output_type": "stream",
     "text": [
      "\r",
      "Val:  95%|█████████▌| 82/86 [03:57<00:11,  2.93s/it, eval_loss=0.0948, gpu_mem=6.91 GB]"
     ]
    },
    {
     "name": "stderr",
     "output_type": "stream",
     "text": [
      "\r",
      "Val:  97%|█████████▋| 83/86 [03:57<00:08,  2.82s/it, eval_loss=0.0948, gpu_mem=6.91 GB]"
     ]
    },
    {
     "name": "stderr",
     "output_type": "stream",
     "text": [
      "\r",
      "Val:  97%|█████████▋| 83/86 [04:00<00:08,  2.82s/it, eval_loss=0.0945, gpu_mem=6.91 GB]"
     ]
    },
    {
     "name": "stderr",
     "output_type": "stream",
     "text": [
      "\r",
      "Val:  98%|█████████▊| 84/86 [04:00<00:05,  2.86s/it, eval_loss=0.0945, gpu_mem=6.91 GB]"
     ]
    },
    {
     "name": "stderr",
     "output_type": "stream",
     "text": [
      "\r",
      "Val:  98%|█████████▊| 84/86 [04:03<00:05,  2.86s/it, eval_loss=0.0972, gpu_mem=6.91 GB]"
     ]
    },
    {
     "name": "stderr",
     "output_type": "stream",
     "text": [
      "\r",
      "Val:  99%|█████████▉| 85/86 [04:03<00:02,  2.79s/it, eval_loss=0.0972, gpu_mem=6.91 GB]"
     ]
    },
    {
     "name": "stderr",
     "output_type": "stream",
     "text": [
      "\r",
      "Val:  99%|█████████▉| 85/86 [04:03<00:02,  2.79s/it, eval_loss=0.0972, gpu_mem=6.91 GB]"
     ]
    },
    {
     "name": "stderr",
     "output_type": "stream",
     "text": [
      "\r",
      "Val: 100%|██████████| 86/86 [04:03<00:00,  2.11s/it, eval_loss=0.0972, gpu_mem=6.91 GB]"
     ]
    },
    {
     "name": "stderr",
     "output_type": "stream",
     "text": [
      "\r",
      "Val: 100%|██████████| 86/86 [04:03<00:00,  2.83s/it, eval_loss=0.0972, gpu_mem=6.91 GB]"
     ]
    },
    {
     "name": "stderr",
     "output_type": "stream",
     "text": [
      "\n",
      "Valid loss:0.0972\n"
     ]
    },
    {
     "name": "stderr",
     "output_type": "stream",
     "text": [
      "Val metric mean prob: 0.1867\n"
     ]
    },
    {
     "name": "stderr",
     "output_type": "stream",
     "text": [
      "Best metric at: 0.5111 0.3630  0.7308\n"
     ]
    },
    {
     "name": "stderr",
     "output_type": "stream",
     "text": [
      "Cf: [[2315   18]\n",
      " [  26   23]]\n"
     ]
    },
    {
     "name": "stderr",
     "output_type": "stream",
     "text": [
      "\u001b[32m[I 2023-02-15 04:09:47,927]\u001b[0m Trial 3 finished with value: 0.5111111111111111 and parameters: {'a1': 0.7233008961031133}. Best is trial 0 with value: 0.5111111111111111.\u001b[0m\n"
     ]
    },
    {
     "name": "stdout",
     "output_type": "stream",
     "text": [
      "/kaggle/input/10folds/tf_efficientnetv2_b2_fold_1_model_epoch_3_0.5055_0.360.pth\n",
      "none:  /kaggle/input/10folds/tf_efficientnetv2_b2_fold_1_model_epoch_3_0.5055_0.360.pth\n",
      "/kaggle/input/10folds/tf_efficientnetv2_b2_fold_1_model_epoch_5_0.4865_0.324.pth\n",
      "hehe /kaggle/input/10folds/tf_efficientnetv2_b2_fold_1_model_epoch_5_0.4865_0.324.pth\n",
      "0.9424287982974126 0.05757120170258745\n",
      "\n"
     ]
    },
    {
     "name": "stderr",
     "output_type": "stream",
     "text": [
      "\r",
      "Val:   0%|          | 0/86 [00:00<?, ?it/s]"
     ]
    },
    {
     "name": "stderr",
     "output_type": "stream",
     "text": [
      "\r",
      "Val:   0%|          | 0/86 [00:04<?, ?it/s, eval_loss=0.0552, gpu_mem=6.91 GB]"
     ]
    },
    {
     "name": "stderr",
     "output_type": "stream",
     "text": [
      "\r",
      "Val:   1%|          | 1/86 [00:04<06:25,  4.54s/it, eval_loss=0.0552, gpu_mem=6.91 GB]"
     ]
    },
    {
     "name": "stderr",
     "output_type": "stream",
     "text": [
      "\r",
      "Val:   1%|          | 1/86 [00:07<06:25,  4.54s/it, eval_loss=0.0431, gpu_mem=6.91 GB]"
     ]
    },
    {
     "name": "stderr",
     "output_type": "stream",
     "text": [
      "\r",
      "Val:   2%|▏         | 2/86 [00:07<05:13,  3.73s/it, eval_loss=0.0431, gpu_mem=6.91 GB]"
     ]
    },
    {
     "name": "stderr",
     "output_type": "stream",
     "text": [
      "\r",
      "Val:   2%|▏         | 2/86 [00:10<05:13,  3.73s/it, eval_loss=0.0889, gpu_mem=6.91 GB]"
     ]
    },
    {
     "name": "stderr",
     "output_type": "stream",
     "text": [
      "\r",
      "Val:   3%|▎         | 3/86 [00:10<04:36,  3.34s/it, eval_loss=0.0889, gpu_mem=6.91 GB]"
     ]
    },
    {
     "name": "stderr",
     "output_type": "stream",
     "text": [
      "\r",
      "Val:   3%|▎         | 3/86 [00:13<04:36,  3.34s/it, eval_loss=0.0997, gpu_mem=6.91 GB]"
     ]
    },
    {
     "name": "stderr",
     "output_type": "stream",
     "text": [
      "\r",
      "Val:   5%|▍         | 4/86 [00:13<04:20,  3.18s/it, eval_loss=0.0997, gpu_mem=6.91 GB]"
     ]
    },
    {
     "name": "stderr",
     "output_type": "stream",
     "text": [
      "\r",
      "Val:   5%|▍         | 4/86 [00:16<04:20,  3.18s/it, eval_loss=0.0955, gpu_mem=6.91 GB]"
     ]
    },
    {
     "name": "stderr",
     "output_type": "stream",
     "text": [
      "\r",
      "Val:   6%|▌         | 5/86 [00:16<04:15,  3.15s/it, eval_loss=0.0955, gpu_mem=6.91 GB]"
     ]
    },
    {
     "name": "stderr",
     "output_type": "stream",
     "text": [
      "\r",
      "Val:   6%|▌         | 5/86 [00:19<04:15,  3.15s/it, eval_loss=0.0924, gpu_mem=6.91 GB]"
     ]
    },
    {
     "name": "stderr",
     "output_type": "stream",
     "text": [
      "\r",
      "Val:   7%|▋         | 6/86 [00:19<04:16,  3.20s/it, eval_loss=0.0924, gpu_mem=6.91 GB]"
     ]
    },
    {
     "name": "stderr",
     "output_type": "stream",
     "text": [
      "\r",
      "Val:   7%|▋         | 6/86 [00:22<04:16,  3.20s/it, eval_loss=0.0847, gpu_mem=6.91 GB]"
     ]
    },
    {
     "name": "stderr",
     "output_type": "stream",
     "text": [
      "\r",
      "Val:   8%|▊         | 7/86 [00:22<04:03,  3.08s/it, eval_loss=0.0847, gpu_mem=6.91 GB]"
     ]
    },
    {
     "name": "stderr",
     "output_type": "stream",
     "text": [
      "\r",
      "Val:   8%|▊         | 7/86 [00:25<04:03,  3.08s/it, eval_loss=0.0818, gpu_mem=6.91 GB]"
     ]
    },
    {
     "name": "stderr",
     "output_type": "stream",
     "text": [
      "\r",
      "Val:   9%|▉         | 8/86 [00:25<03:56,  3.03s/it, eval_loss=0.0818, gpu_mem=6.91 GB]"
     ]
    },
    {
     "name": "stderr",
     "output_type": "stream",
     "text": [
      "\r",
      "Val:   9%|▉         | 8/86 [00:29<03:56,  3.03s/it, eval_loss=0.0801, gpu_mem=6.91 GB]"
     ]
    },
    {
     "name": "stderr",
     "output_type": "stream",
     "text": [
      "\r",
      "Val:  10%|█         | 9/86 [00:29<04:08,  3.22s/it, eval_loss=0.0801, gpu_mem=6.91 GB]"
     ]
    },
    {
     "name": "stderr",
     "output_type": "stream",
     "text": [
      "\r",
      "Val:  10%|█         | 9/86 [00:32<04:08,  3.22s/it, eval_loss=0.0871, gpu_mem=6.91 GB]"
     ]
    },
    {
     "name": "stderr",
     "output_type": "stream",
     "text": [
      "\r",
      "Val:  12%|█▏        | 10/86 [00:32<03:56,  3.11s/it, eval_loss=0.0871, gpu_mem=6.91 GB]"
     ]
    },
    {
     "name": "stderr",
     "output_type": "stream",
     "text": [
      "\r",
      "Val:  12%|█▏        | 10/86 [00:35<03:56,  3.11s/it, eval_loss=0.0842, gpu_mem=6.91 GB]"
     ]
    },
    {
     "name": "stderr",
     "output_type": "stream",
     "text": [
      "\r",
      "Val:  13%|█▎        | 11/86 [00:35<03:46,  3.03s/it, eval_loss=0.0842, gpu_mem=6.91 GB]"
     ]
    },
    {
     "name": "stderr",
     "output_type": "stream",
     "text": [
      "\r",
      "Val:  13%|█▎        | 11/86 [00:38<03:46,  3.03s/it, eval_loss=0.0844, gpu_mem=6.91 GB]"
     ]
    },
    {
     "name": "stderr",
     "output_type": "stream",
     "text": [
      "\r",
      "Val:  14%|█▍        | 12/86 [00:38<03:51,  3.13s/it, eval_loss=0.0844, gpu_mem=6.91 GB]"
     ]
    },
    {
     "name": "stderr",
     "output_type": "stream",
     "text": [
      "\r",
      "Val:  14%|█▍        | 12/86 [00:41<03:51,  3.13s/it, eval_loss=0.0865, gpu_mem=6.91 GB]"
     ]
    },
    {
     "name": "stderr",
     "output_type": "stream",
     "text": [
      "\r",
      "Val:  15%|█▌        | 13/86 [00:41<03:42,  3.05s/it, eval_loss=0.0865, gpu_mem=6.91 GB]"
     ]
    },
    {
     "name": "stderr",
     "output_type": "stream",
     "text": [
      "\r",
      "Val:  15%|█▌        | 13/86 [00:44<03:42,  3.05s/it, eval_loss=0.0828, gpu_mem=6.91 GB]"
     ]
    },
    {
     "name": "stderr",
     "output_type": "stream",
     "text": [
      "\r",
      "Val:  16%|█▋        | 14/86 [00:44<03:37,  3.02s/it, eval_loss=0.0828, gpu_mem=6.91 GB]"
     ]
    },
    {
     "name": "stderr",
     "output_type": "stream",
     "text": [
      "\r",
      "Val:  16%|█▋        | 14/86 [00:46<03:37,  3.02s/it, eval_loss=0.0800, gpu_mem=6.91 GB]"
     ]
    },
    {
     "name": "stderr",
     "output_type": "stream",
     "text": [
      "\r",
      "Val:  17%|█▋        | 15/86 [00:46<03:29,  2.95s/it, eval_loss=0.0800, gpu_mem=6.91 GB]"
     ]
    },
    {
     "name": "stderr",
     "output_type": "stream",
     "text": [
      "\r",
      "Val:  17%|█▋        | 15/86 [00:50<03:29,  2.95s/it, eval_loss=0.0781, gpu_mem=6.91 GB]"
     ]
    },
    {
     "name": "stderr",
     "output_type": "stream",
     "text": [
      "\r",
      "Val:  19%|█▊        | 16/86 [00:50<03:31,  3.03s/it, eval_loss=0.0781, gpu_mem=6.91 GB]"
     ]
    },
    {
     "name": "stderr",
     "output_type": "stream",
     "text": [
      "\r",
      "Val:  19%|█▊        | 16/86 [00:53<03:31,  3.03s/it, eval_loss=0.0782, gpu_mem=6.91 GB]"
     ]
    },
    {
     "name": "stderr",
     "output_type": "stream",
     "text": [
      "\r",
      "Val:  20%|█▉        | 17/86 [00:53<03:37,  3.15s/it, eval_loss=0.0782, gpu_mem=6.91 GB]"
     ]
    },
    {
     "name": "stderr",
     "output_type": "stream",
     "text": [
      "\r",
      "Val:  20%|█▉        | 17/86 [00:56<03:37,  3.15s/it, eval_loss=0.0777, gpu_mem=6.91 GB]"
     ]
    },
    {
     "name": "stderr",
     "output_type": "stream",
     "text": [
      "\r",
      "Val:  21%|██        | 18/86 [00:56<03:28,  3.07s/it, eval_loss=0.0777, gpu_mem=6.91 GB]"
     ]
    },
    {
     "name": "stderr",
     "output_type": "stream",
     "text": [
      "\r",
      "Val:  21%|██        | 18/86 [00:59<03:28,  3.07s/it, eval_loss=0.0779, gpu_mem=6.91 GB]"
     ]
    },
    {
     "name": "stderr",
     "output_type": "stream",
     "text": [
      "\r",
      "Val:  22%|██▏       | 19/86 [00:59<03:23,  3.04s/it, eval_loss=0.0779, gpu_mem=6.91 GB]"
     ]
    },
    {
     "name": "stderr",
     "output_type": "stream",
     "text": [
      "\r",
      "Val:  22%|██▏       | 19/86 [01:02<03:23,  3.04s/it, eval_loss=0.0785, gpu_mem=6.91 GB]"
     ]
    },
    {
     "name": "stderr",
     "output_type": "stream",
     "text": [
      "\r",
      "Val:  23%|██▎       | 20/86 [01:02<03:23,  3.08s/it, eval_loss=0.0785, gpu_mem=6.91 GB]"
     ]
    },
    {
     "name": "stderr",
     "output_type": "stream",
     "text": [
      "\r",
      "Val:  23%|██▎       | 20/86 [01:05<03:23,  3.08s/it, eval_loss=0.0771, gpu_mem=6.91 GB]"
     ]
    },
    {
     "name": "stderr",
     "output_type": "stream",
     "text": [
      "\r",
      "Val:  24%|██▍       | 21/86 [01:05<03:16,  3.02s/it, eval_loss=0.0771, gpu_mem=6.91 GB]"
     ]
    },
    {
     "name": "stderr",
     "output_type": "stream",
     "text": [
      "\r",
      "Val:  24%|██▍       | 21/86 [01:08<03:16,  3.02s/it, eval_loss=0.0804, gpu_mem=6.91 GB]"
     ]
    },
    {
     "name": "stderr",
     "output_type": "stream",
     "text": [
      "\r",
      "Val:  26%|██▌       | 22/86 [01:08<03:10,  2.98s/it, eval_loss=0.0804, gpu_mem=6.91 GB]"
     ]
    },
    {
     "name": "stderr",
     "output_type": "stream",
     "text": [
      "\r",
      "Val:  26%|██▌       | 22/86 [01:11<03:10,  2.98s/it, eval_loss=0.0844, gpu_mem=6.91 GB]"
     ]
    },
    {
     "name": "stderr",
     "output_type": "stream",
     "text": [
      "\r",
      "Val:  27%|██▋       | 23/86 [01:11<03:10,  3.03s/it, eval_loss=0.0844, gpu_mem=6.91 GB]"
     ]
    },
    {
     "name": "stderr",
     "output_type": "stream",
     "text": [
      "\r",
      "Val:  27%|██▋       | 23/86 [01:14<03:10,  3.03s/it, eval_loss=0.0839, gpu_mem=6.91 GB]"
     ]
    },
    {
     "name": "stderr",
     "output_type": "stream",
     "text": [
      "\r",
      "Val:  28%|██▊       | 24/86 [01:14<03:06,  3.00s/it, eval_loss=0.0839, gpu_mem=6.91 GB]"
     ]
    },
    {
     "name": "stderr",
     "output_type": "stream",
     "text": [
      "\r",
      "Val:  28%|██▊       | 24/86 [01:17<03:06,  3.00s/it, eval_loss=0.0837, gpu_mem=6.91 GB]"
     ]
    },
    {
     "name": "stderr",
     "output_type": "stream",
     "text": [
      "\r",
      "Val:  29%|██▉       | 25/86 [01:17<03:00,  2.96s/it, eval_loss=0.0837, gpu_mem=6.91 GB]"
     ]
    },
    {
     "name": "stderr",
     "output_type": "stream",
     "text": [
      "\r",
      "Val:  29%|██▉       | 25/86 [01:20<03:00,  2.96s/it, eval_loss=0.0816, gpu_mem=6.91 GB]"
     ]
    },
    {
     "name": "stderr",
     "output_type": "stream",
     "text": [
      "\r",
      "Val:  30%|███       | 26/86 [01:20<02:55,  2.93s/it, eval_loss=0.0816, gpu_mem=6.91 GB]"
     ]
    },
    {
     "name": "stderr",
     "output_type": "stream",
     "text": [
      "\r",
      "Val:  30%|███       | 26/86 [01:23<02:55,  2.93s/it, eval_loss=0.0853, gpu_mem=6.91 GB]"
     ]
    },
    {
     "name": "stderr",
     "output_type": "stream",
     "text": [
      "\r",
      "Val:  31%|███▏      | 27/86 [01:23<03:02,  3.10s/it, eval_loss=0.0853, gpu_mem=6.91 GB]"
     ]
    },
    {
     "name": "stderr",
     "output_type": "stream",
     "text": [
      "\r",
      "Val:  31%|███▏      | 27/86 [01:26<03:02,  3.10s/it, eval_loss=0.0848, gpu_mem=6.91 GB]"
     ]
    },
    {
     "name": "stderr",
     "output_type": "stream",
     "text": [
      "\r",
      "Val:  33%|███▎      | 28/86 [01:26<02:56,  3.04s/it, eval_loss=0.0848, gpu_mem=6.91 GB]"
     ]
    },
    {
     "name": "stderr",
     "output_type": "stream",
     "text": [
      "\r",
      "Val:  33%|███▎      | 28/86 [01:29<02:56,  3.04s/it, eval_loss=0.0838, gpu_mem=6.91 GB]"
     ]
    },
    {
     "name": "stderr",
     "output_type": "stream",
     "text": [
      "\r",
      "Val:  34%|███▎      | 29/86 [01:29<02:50,  2.99s/it, eval_loss=0.0838, gpu_mem=6.91 GB]"
     ]
    },
    {
     "name": "stderr",
     "output_type": "stream",
     "text": [
      "\r",
      "Val:  34%|███▎      | 29/86 [01:32<02:50,  2.99s/it, eval_loss=0.0838, gpu_mem=6.91 GB]"
     ]
    },
    {
     "name": "stderr",
     "output_type": "stream",
     "text": [
      "\r",
      "Val:  35%|███▍      | 30/86 [01:32<02:44,  2.93s/it, eval_loss=0.0838, gpu_mem=6.91 GB]"
     ]
    },
    {
     "name": "stderr",
     "output_type": "stream",
     "text": [
      "\r",
      "Val:  35%|███▍      | 30/86 [01:35<02:44,  2.93s/it, eval_loss=0.0830, gpu_mem=6.91 GB]"
     ]
    },
    {
     "name": "stderr",
     "output_type": "stream",
     "text": [
      "\r",
      "Val:  36%|███▌      | 31/86 [01:35<02:45,  3.02s/it, eval_loss=0.0830, gpu_mem=6.91 GB]"
     ]
    },
    {
     "name": "stderr",
     "output_type": "stream",
     "text": [
      "\r",
      "Val:  36%|███▌      | 31/86 [01:38<02:45,  3.02s/it, eval_loss=0.0905, gpu_mem=6.91 GB]"
     ]
    },
    {
     "name": "stderr",
     "output_type": "stream",
     "text": [
      "\r",
      "Val:  37%|███▋      | 32/86 [01:38<02:40,  2.98s/it, eval_loss=0.0905, gpu_mem=6.91 GB]"
     ]
    },
    {
     "name": "stderr",
     "output_type": "stream",
     "text": [
      "\r",
      "Val:  37%|███▋      | 32/86 [01:41<02:40,  2.98s/it, eval_loss=0.0886, gpu_mem=6.91 GB]"
     ]
    },
    {
     "name": "stderr",
     "output_type": "stream",
     "text": [
      "\r",
      "Val:  38%|███▊      | 33/86 [01:41<02:35,  2.94s/it, eval_loss=0.0886, gpu_mem=6.91 GB]"
     ]
    },
    {
     "name": "stderr",
     "output_type": "stream",
     "text": [
      "\r",
      "Val:  38%|███▊      | 33/86 [01:44<02:35,  2.94s/it, eval_loss=0.0899, gpu_mem=6.91 GB]"
     ]
    },
    {
     "name": "stderr",
     "output_type": "stream",
     "text": [
      "\r",
      "Val:  40%|███▉      | 34/86 [01:44<02:34,  2.98s/it, eval_loss=0.0899, gpu_mem=6.91 GB]"
     ]
    },
    {
     "name": "stderr",
     "output_type": "stream",
     "text": [
      "\r",
      "Val:  40%|███▉      | 34/86 [01:47<02:34,  2.98s/it, eval_loss=0.0889, gpu_mem=6.91 GB]"
     ]
    },
    {
     "name": "stderr",
     "output_type": "stream",
     "text": [
      "\r",
      "Val:  41%|████      | 35/86 [01:47<02:32,  3.00s/it, eval_loss=0.0889, gpu_mem=6.91 GB]"
     ]
    },
    {
     "name": "stderr",
     "output_type": "stream",
     "text": [
      "\r",
      "Val:  41%|████      | 35/86 [01:50<02:32,  3.00s/it, eval_loss=0.0875, gpu_mem=6.91 GB]"
     ]
    },
    {
     "name": "stderr",
     "output_type": "stream",
     "text": [
      "\r",
      "Val:  42%|████▏     | 36/86 [01:50<02:27,  2.95s/it, eval_loss=0.0875, gpu_mem=6.91 GB]"
     ]
    },
    {
     "name": "stderr",
     "output_type": "stream",
     "text": [
      "\r",
      "Val:  42%|████▏     | 36/86 [01:53<02:27,  2.95s/it, eval_loss=0.0881, gpu_mem=6.91 GB]"
     ]
    },
    {
     "name": "stderr",
     "output_type": "stream",
     "text": [
      "\r",
      "Val:  43%|████▎     | 37/86 [01:53<02:23,  2.93s/it, eval_loss=0.0881, gpu_mem=6.91 GB]"
     ]
    },
    {
     "name": "stderr",
     "output_type": "stream",
     "text": [
      "\r",
      "Val:  43%|████▎     | 37/86 [01:56<02:23,  2.93s/it, eval_loss=0.0879, gpu_mem=6.91 GB]"
     ]
    },
    {
     "name": "stderr",
     "output_type": "stream",
     "text": [
      "\r",
      "Val:  44%|████▍     | 38/86 [01:56<02:31,  3.16s/it, eval_loss=0.0879, gpu_mem=6.91 GB]"
     ]
    },
    {
     "name": "stderr",
     "output_type": "stream",
     "text": [
      "\r",
      "Val:  44%|████▍     | 38/86 [01:59<02:31,  3.16s/it, eval_loss=0.0865, gpu_mem=6.91 GB]"
     ]
    },
    {
     "name": "stderr",
     "output_type": "stream",
     "text": [
      "\r",
      "Val:  45%|████▌     | 39/86 [01:59<02:25,  3.10s/it, eval_loss=0.0865, gpu_mem=6.91 GB]"
     ]
    },
    {
     "name": "stderr",
     "output_type": "stream",
     "text": [
      "\r",
      "Val:  45%|████▌     | 39/86 [02:02<02:25,  3.10s/it, eval_loss=0.0864, gpu_mem=6.91 GB]"
     ]
    },
    {
     "name": "stderr",
     "output_type": "stream",
     "text": [
      "\r",
      "Val:  47%|████▋     | 40/86 [02:02<02:18,  3.02s/it, eval_loss=0.0864, gpu_mem=6.91 GB]"
     ]
    },
    {
     "name": "stderr",
     "output_type": "stream",
     "text": [
      "\r",
      "Val:  47%|████▋     | 40/86 [02:05<02:18,  3.02s/it, eval_loss=0.0859, gpu_mem=6.91 GB]"
     ]
    },
    {
     "name": "stderr",
     "output_type": "stream",
     "text": [
      "\r",
      "Val:  48%|████▊     | 41/86 [02:05<02:14,  2.98s/it, eval_loss=0.0859, gpu_mem=6.91 GB]"
     ]
    },
    {
     "name": "stderr",
     "output_type": "stream",
     "text": [
      "\r",
      "Val:  48%|████▊     | 41/86 [02:08<02:14,  2.98s/it, eval_loss=0.0854, gpu_mem=6.91 GB]"
     ]
    },
    {
     "name": "stderr",
     "output_type": "stream",
     "text": [
      "\r",
      "Val:  49%|████▉     | 42/86 [02:08<02:13,  3.03s/it, eval_loss=0.0854, gpu_mem=6.91 GB]"
     ]
    },
    {
     "name": "stderr",
     "output_type": "stream",
     "text": [
      "\r",
      "Val:  49%|████▉     | 42/86 [02:11<02:13,  3.03s/it, eval_loss=0.0845, gpu_mem=6.91 GB]"
     ]
    },
    {
     "name": "stderr",
     "output_type": "stream",
     "text": [
      "\r",
      "Val:  50%|█████     | 43/86 [02:11<02:09,  3.01s/it, eval_loss=0.0845, gpu_mem=6.91 GB]"
     ]
    },
    {
     "name": "stderr",
     "output_type": "stream",
     "text": [
      "\r",
      "Val:  50%|█████     | 43/86 [02:14<02:09,  3.01s/it, eval_loss=0.0877, gpu_mem=6.91 GB]"
     ]
    },
    {
     "name": "stderr",
     "output_type": "stream",
     "text": [
      "\r",
      "Val:  51%|█████     | 44/86 [02:14<02:05,  2.99s/it, eval_loss=0.0877, gpu_mem=6.91 GB]"
     ]
    },
    {
     "name": "stderr",
     "output_type": "stream",
     "text": [
      "\r",
      "Val:  51%|█████     | 44/86 [02:17<02:05,  2.99s/it, eval_loss=0.0864, gpu_mem=6.91 GB]"
     ]
    },
    {
     "name": "stderr",
     "output_type": "stream",
     "text": [
      "\r",
      "Val:  52%|█████▏    | 45/86 [02:17<02:04,  3.03s/it, eval_loss=0.0864, gpu_mem=6.91 GB]"
     ]
    },
    {
     "name": "stderr",
     "output_type": "stream",
     "text": [
      "\r",
      "Val:  52%|█████▏    | 45/86 [02:20<02:04,  3.03s/it, eval_loss=0.0863, gpu_mem=6.91 GB]"
     ]
    },
    {
     "name": "stderr",
     "output_type": "stream",
     "text": [
      "\r",
      "Val:  53%|█████▎    | 46/86 [02:20<01:59,  2.98s/it, eval_loss=0.0863, gpu_mem=6.91 GB]"
     ]
    },
    {
     "name": "stderr",
     "output_type": "stream",
     "text": [
      "\r",
      "Val:  53%|█████▎    | 46/86 [02:23<01:59,  2.98s/it, eval_loss=0.0856, gpu_mem=6.91 GB]"
     ]
    },
    {
     "name": "stderr",
     "output_type": "stream",
     "text": [
      "\r",
      "Val:  55%|█████▍    | 47/86 [02:23<01:56,  2.98s/it, eval_loss=0.0856, gpu_mem=6.91 GB]"
     ]
    },
    {
     "name": "stderr",
     "output_type": "stream",
     "text": [
      "\r",
      "Val:  55%|█████▍    | 47/86 [02:27<01:56,  2.98s/it, eval_loss=0.0874, gpu_mem=6.91 GB]"
     ]
    },
    {
     "name": "stderr",
     "output_type": "stream",
     "text": [
      "\r",
      "Val:  56%|█████▌    | 48/86 [02:27<02:00,  3.16s/it, eval_loss=0.0874, gpu_mem=6.91 GB]"
     ]
    },
    {
     "name": "stderr",
     "output_type": "stream",
     "text": [
      "\r",
      "Val:  56%|█████▌    | 48/86 [02:30<02:00,  3.16s/it, eval_loss=0.0869, gpu_mem=6.91 GB]"
     ]
    },
    {
     "name": "stderr",
     "output_type": "stream",
     "text": [
      "\r",
      "Val:  57%|█████▋    | 49/86 [02:30<01:57,  3.17s/it, eval_loss=0.0869, gpu_mem=6.91 GB]"
     ]
    },
    {
     "name": "stderr",
     "output_type": "stream",
     "text": [
      "\r",
      "Val:  57%|█████▋    | 49/86 [02:33<01:57,  3.17s/it, eval_loss=0.0866, gpu_mem=6.91 GB]"
     ]
    },
    {
     "name": "stderr",
     "output_type": "stream",
     "text": [
      "\r",
      "Val:  58%|█████▊    | 50/86 [02:33<01:51,  3.09s/it, eval_loss=0.0866, gpu_mem=6.91 GB]"
     ]
    },
    {
     "name": "stderr",
     "output_type": "stream",
     "text": [
      "\r",
      "Val:  58%|█████▊    | 50/86 [02:36<01:51,  3.09s/it, eval_loss=0.0895, gpu_mem=6.91 GB]"
     ]
    },
    {
     "name": "stderr",
     "output_type": "stream",
     "text": [
      "\r",
      "Val:  59%|█████▉    | 51/86 [02:36<01:46,  3.04s/it, eval_loss=0.0895, gpu_mem=6.91 GB]"
     ]
    },
    {
     "name": "stderr",
     "output_type": "stream",
     "text": [
      "\r",
      "Val:  59%|█████▉    | 51/86 [02:39<01:46,  3.04s/it, eval_loss=0.0909, gpu_mem=6.91 GB]"
     ]
    },
    {
     "name": "stderr",
     "output_type": "stream",
     "text": [
      "\r",
      "Val:  60%|██████    | 52/86 [02:39<01:43,  3.04s/it, eval_loss=0.0909, gpu_mem=6.91 GB]"
     ]
    },
    {
     "name": "stderr",
     "output_type": "stream",
     "text": [
      "\r",
      "Val:  60%|██████    | 52/86 [02:42<01:43,  3.04s/it, eval_loss=0.0922, gpu_mem=6.91 GB]"
     ]
    },
    {
     "name": "stderr",
     "output_type": "stream",
     "text": [
      "\r",
      "Val:  62%|██████▏   | 53/86 [02:42<01:42,  3.10s/it, eval_loss=0.0922, gpu_mem=6.91 GB]"
     ]
    },
    {
     "name": "stderr",
     "output_type": "stream",
     "text": [
      "\r",
      "Val:  62%|██████▏   | 53/86 [02:45<01:42,  3.10s/it, eval_loss=0.0915, gpu_mem=6.91 GB]"
     ]
    },
    {
     "name": "stderr",
     "output_type": "stream",
     "text": [
      "\r",
      "Val:  63%|██████▎   | 54/86 [02:45<01:37,  3.06s/it, eval_loss=0.0915, gpu_mem=6.91 GB]"
     ]
    },
    {
     "name": "stderr",
     "output_type": "stream",
     "text": [
      "\r",
      "Val:  63%|██████▎   | 54/86 [02:48<01:37,  3.06s/it, eval_loss=0.0922, gpu_mem=6.91 GB]"
     ]
    },
    {
     "name": "stderr",
     "output_type": "stream",
     "text": [
      "\r",
      "Val:  64%|██████▍   | 55/86 [02:48<01:33,  3.01s/it, eval_loss=0.0922, gpu_mem=6.91 GB]"
     ]
    },
    {
     "name": "stderr",
     "output_type": "stream",
     "text": [
      "\r",
      "Val:  64%|██████▍   | 55/86 [02:51<01:33,  3.01s/it, eval_loss=0.0918, gpu_mem=6.91 GB]"
     ]
    },
    {
     "name": "stderr",
     "output_type": "stream",
     "text": [
      "\r",
      "Val:  65%|██████▌   | 56/86 [02:51<01:31,  3.06s/it, eval_loss=0.0918, gpu_mem=6.91 GB]"
     ]
    },
    {
     "name": "stderr",
     "output_type": "stream",
     "text": [
      "\r",
      "Val:  65%|██████▌   | 56/86 [02:54<01:31,  3.06s/it, eval_loss=0.0917, gpu_mem=6.91 GB]"
     ]
    },
    {
     "name": "stderr",
     "output_type": "stream",
     "text": [
      "\r",
      "Val:  66%|██████▋   | 57/86 [02:54<01:28,  3.05s/it, eval_loss=0.0917, gpu_mem=6.91 GB]"
     ]
    },
    {
     "name": "stderr",
     "output_type": "stream",
     "text": [
      "\r",
      "Val:  66%|██████▋   | 57/86 [02:57<01:28,  3.05s/it, eval_loss=0.0940, gpu_mem=6.91 GB]"
     ]
    },
    {
     "name": "stderr",
     "output_type": "stream",
     "text": [
      "\r",
      "Val:  67%|██████▋   | 58/86 [02:57<01:24,  3.03s/it, eval_loss=0.0940, gpu_mem=6.91 GB]"
     ]
    },
    {
     "name": "stderr",
     "output_type": "stream",
     "text": [
      "\r",
      "Val:  67%|██████▋   | 58/86 [03:01<01:24,  3.03s/it, eval_loss=0.0935, gpu_mem=6.91 GB]"
     ]
    },
    {
     "name": "stderr",
     "output_type": "stream",
     "text": [
      "\r",
      "Val:  69%|██████▊   | 59/86 [03:01<01:27,  3.26s/it, eval_loss=0.0935, gpu_mem=6.91 GB]"
     ]
    },
    {
     "name": "stderr",
     "output_type": "stream",
     "text": [
      "\r",
      "Val:  69%|██████▊   | 59/86 [03:04<01:27,  3.26s/it, eval_loss=0.0953, gpu_mem=6.91 GB]"
     ]
    },
    {
     "name": "stderr",
     "output_type": "stream",
     "text": [
      "\r",
      "Val:  70%|██████▉   | 60/86 [03:04<01:23,  3.22s/it, eval_loss=0.0953, gpu_mem=6.91 GB]"
     ]
    },
    {
     "name": "stderr",
     "output_type": "stream",
     "text": [
      "\r",
      "Val:  70%|██████▉   | 60/86 [03:07<01:23,  3.22s/it, eval_loss=0.0947, gpu_mem=6.91 GB]"
     ]
    },
    {
     "name": "stderr",
     "output_type": "stream",
     "text": [
      "\r",
      "Val:  71%|███████   | 61/86 [03:07<01:19,  3.17s/it, eval_loss=0.0947, gpu_mem=6.91 GB]"
     ]
    },
    {
     "name": "stderr",
     "output_type": "stream",
     "text": [
      "\r",
      "Val:  71%|███████   | 61/86 [03:10<01:19,  3.17s/it, eval_loss=0.0943, gpu_mem=6.91 GB]"
     ]
    },
    {
     "name": "stderr",
     "output_type": "stream",
     "text": [
      "\r",
      "Val:  72%|███████▏  | 62/86 [03:10<01:14,  3.10s/it, eval_loss=0.0943, gpu_mem=6.91 GB]"
     ]
    },
    {
     "name": "stderr",
     "output_type": "stream",
     "text": [
      "\r",
      "Val:  72%|███████▏  | 62/86 [03:13<01:14,  3.10s/it, eval_loss=0.0942, gpu_mem=6.91 GB]"
     ]
    },
    {
     "name": "stderr",
     "output_type": "stream",
     "text": [
      "\r",
      "Val:  73%|███████▎  | 63/86 [03:13<01:11,  3.12s/it, eval_loss=0.0942, gpu_mem=6.91 GB]"
     ]
    },
    {
     "name": "stderr",
     "output_type": "stream",
     "text": [
      "\r",
      "Val:  73%|███████▎  | 63/86 [03:16<01:11,  3.12s/it, eval_loss=0.0941, gpu_mem=6.91 GB]"
     ]
    },
    {
     "name": "stderr",
     "output_type": "stream",
     "text": [
      "\r",
      "Val:  74%|███████▍  | 64/86 [03:16<01:08,  3.09s/it, eval_loss=0.0941, gpu_mem=6.91 GB]"
     ]
    },
    {
     "name": "stderr",
     "output_type": "stream",
     "text": [
      "\r",
      "Val:  74%|███████▍  | 64/86 [03:19<01:08,  3.09s/it, eval_loss=0.0932, gpu_mem=6.91 GB]"
     ]
    },
    {
     "name": "stderr",
     "output_type": "stream",
     "text": [
      "\r",
      "Val:  76%|███████▌  | 65/86 [03:19<01:04,  3.07s/it, eval_loss=0.0932, gpu_mem=6.91 GB]"
     ]
    },
    {
     "name": "stderr",
     "output_type": "stream",
     "text": [
      "\r",
      "Val:  76%|███████▌  | 65/86 [03:22<01:04,  3.07s/it, eval_loss=0.0950, gpu_mem=6.91 GB]"
     ]
    },
    {
     "name": "stderr",
     "output_type": "stream",
     "text": [
      "\r",
      "Val:  77%|███████▋  | 66/86 [03:22<01:01,  3.09s/it, eval_loss=0.0950, gpu_mem=6.91 GB]"
     ]
    },
    {
     "name": "stderr",
     "output_type": "stream",
     "text": [
      "\r",
      "Val:  77%|███████▋  | 66/86 [03:25<01:01,  3.09s/it, eval_loss=0.0942, gpu_mem=6.91 GB]"
     ]
    },
    {
     "name": "stderr",
     "output_type": "stream",
     "text": [
      "\r",
      "Val:  78%|███████▊  | 67/86 [03:25<01:00,  3.16s/it, eval_loss=0.0942, gpu_mem=6.91 GB]"
     ]
    },
    {
     "name": "stderr",
     "output_type": "stream",
     "text": [
      "\r",
      "Val:  78%|███████▊  | 67/86 [03:29<01:00,  3.16s/it, eval_loss=0.0966, gpu_mem=6.91 GB]"
     ]
    },
    {
     "name": "stderr",
     "output_type": "stream",
     "text": [
      "\r",
      "Val:  79%|███████▉  | 68/86 [03:29<00:56,  3.13s/it, eval_loss=0.0966, gpu_mem=6.91 GB]"
     ]
    },
    {
     "name": "stderr",
     "output_type": "stream",
     "text": [
      "\r",
      "Val:  79%|███████▉  | 68/86 [03:32<00:56,  3.13s/it, eval_loss=0.0967, gpu_mem=6.91 GB]"
     ]
    },
    {
     "name": "stderr",
     "output_type": "stream",
     "text": [
      "\r",
      "Val:  80%|████████  | 69/86 [03:32<00:55,  3.26s/it, eval_loss=0.0967, gpu_mem=6.91 GB]"
     ]
    },
    {
     "name": "stderr",
     "output_type": "stream",
     "text": [
      "\r",
      "Val:  80%|████████  | 69/86 [03:35<00:55,  3.26s/it, eval_loss=0.0964, gpu_mem=6.91 GB]"
     ]
    },
    {
     "name": "stderr",
     "output_type": "stream",
     "text": [
      "\r",
      "Val:  81%|████████▏ | 70/86 [03:35<00:52,  3.26s/it, eval_loss=0.0964, gpu_mem=6.91 GB]"
     ]
    },
    {
     "name": "stderr",
     "output_type": "stream",
     "text": [
      "\r",
      "Val:  81%|████████▏ | 70/86 [03:38<00:52,  3.26s/it, eval_loss=0.0971, gpu_mem=6.91 GB]"
     ]
    },
    {
     "name": "stderr",
     "output_type": "stream",
     "text": [
      "\r",
      "Val:  83%|████████▎ | 71/86 [03:38<00:47,  3.20s/it, eval_loss=0.0971, gpu_mem=6.91 GB]"
     ]
    },
    {
     "name": "stderr",
     "output_type": "stream",
     "text": [
      "\r",
      "Val:  83%|████████▎ | 71/86 [03:41<00:47,  3.20s/it, eval_loss=0.0967, gpu_mem=6.91 GB]"
     ]
    },
    {
     "name": "stderr",
     "output_type": "stream",
     "text": [
      "\r",
      "Val:  84%|████████▎ | 72/86 [03:41<00:44,  3.15s/it, eval_loss=0.0967, gpu_mem=6.91 GB]"
     ]
    },
    {
     "name": "stderr",
     "output_type": "stream",
     "text": [
      "\r",
      "Val:  84%|████████▎ | 72/86 [03:45<00:44,  3.15s/it, eval_loss=0.0964, gpu_mem=6.91 GB]"
     ]
    },
    {
     "name": "stderr",
     "output_type": "stream",
     "text": [
      "\r",
      "Val:  85%|████████▍ | 73/86 [03:45<00:41,  3.18s/it, eval_loss=0.0964, gpu_mem=6.91 GB]"
     ]
    },
    {
     "name": "stderr",
     "output_type": "stream",
     "text": [
      "\r",
      "Val:  85%|████████▍ | 73/86 [03:48<00:41,  3.18s/it, eval_loss=0.0967, gpu_mem=6.91 GB]"
     ]
    },
    {
     "name": "stderr",
     "output_type": "stream",
     "text": [
      "\r",
      "Val:  86%|████████▌ | 74/86 [03:48<00:38,  3.19s/it, eval_loss=0.0967, gpu_mem=6.91 GB]"
     ]
    },
    {
     "name": "stderr",
     "output_type": "stream",
     "text": [
      "\r",
      "Val:  86%|████████▌ | 74/86 [03:51<00:38,  3.19s/it, eval_loss=0.0961, gpu_mem=6.91 GB]"
     ]
    },
    {
     "name": "stderr",
     "output_type": "stream",
     "text": [
      "\r",
      "Val:  87%|████████▋ | 75/86 [03:51<00:34,  3.11s/it, eval_loss=0.0961, gpu_mem=6.91 GB]"
     ]
    },
    {
     "name": "stderr",
     "output_type": "stream",
     "text": [
      "\r",
      "Val:  87%|████████▋ | 75/86 [03:54<00:34,  3.11s/it, eval_loss=0.0955, gpu_mem=6.91 GB]"
     ]
    },
    {
     "name": "stderr",
     "output_type": "stream",
     "text": [
      "\r",
      "Val:  88%|████████▊ | 76/86 [03:54<00:30,  3.07s/it, eval_loss=0.0955, gpu_mem=6.91 GB]"
     ]
    },
    {
     "name": "stderr",
     "output_type": "stream",
     "text": [
      "\r",
      "Val:  88%|████████▊ | 76/86 [03:57<00:30,  3.07s/it, eval_loss=0.0966, gpu_mem=6.91 GB]"
     ]
    },
    {
     "name": "stderr",
     "output_type": "stream",
     "text": [
      "\r",
      "Val:  90%|████████▉ | 77/86 [03:57<00:27,  3.10s/it, eval_loss=0.0966, gpu_mem=6.91 GB]"
     ]
    },
    {
     "name": "stderr",
     "output_type": "stream",
     "text": [
      "\r",
      "Val:  90%|████████▉ | 77/86 [04:00<00:27,  3.10s/it, eval_loss=0.0959, gpu_mem=6.91 GB]"
     ]
    },
    {
     "name": "stderr",
     "output_type": "stream",
     "text": [
      "\r",
      "Val:  91%|█████████ | 78/86 [04:00<00:24,  3.06s/it, eval_loss=0.0959, gpu_mem=6.91 GB]"
     ]
    },
    {
     "name": "stderr",
     "output_type": "stream",
     "text": [
      "\r",
      "Val:  91%|█████████ | 78/86 [04:03<00:24,  3.06s/it, eval_loss=0.0958, gpu_mem=6.91 GB]"
     ]
    },
    {
     "name": "stderr",
     "output_type": "stream",
     "text": [
      "\r",
      "Val:  92%|█████████▏| 79/86 [04:03<00:22,  3.17s/it, eval_loss=0.0958, gpu_mem=6.91 GB]"
     ]
    },
    {
     "name": "stderr",
     "output_type": "stream",
     "text": [
      "\r",
      "Val:  92%|█████████▏| 79/86 [04:07<00:22,  3.17s/it, eval_loss=0.0960, gpu_mem=6.91 GB]"
     ]
    },
    {
     "name": "stderr",
     "output_type": "stream",
     "text": [
      "\r",
      "Val:  93%|█████████▎| 80/86 [04:07<00:18,  3.16s/it, eval_loss=0.0960, gpu_mem=6.91 GB]"
     ]
    },
    {
     "name": "stderr",
     "output_type": "stream",
     "text": [
      "\r",
      "Val:  93%|█████████▎| 80/86 [04:10<00:18,  3.16s/it, eval_loss=0.0954, gpu_mem=6.91 GB]"
     ]
    },
    {
     "name": "stderr",
     "output_type": "stream",
     "text": [
      "\r",
      "Val:  94%|█████████▍| 81/86 [04:10<00:15,  3.14s/it, eval_loss=0.0954, gpu_mem=6.91 GB]"
     ]
    },
    {
     "name": "stderr",
     "output_type": "stream",
     "text": [
      "\r",
      "Val:  94%|█████████▍| 81/86 [04:13<00:15,  3.14s/it, eval_loss=0.0950, gpu_mem=6.91 GB]"
     ]
    },
    {
     "name": "stderr",
     "output_type": "stream",
     "text": [
      "\r",
      "Val:  95%|█████████▌| 82/86 [04:13<00:12,  3.12s/it, eval_loss=0.0950, gpu_mem=6.91 GB]"
     ]
    },
    {
     "name": "stderr",
     "output_type": "stream",
     "text": [
      "\r",
      "Val:  95%|█████████▌| 82/86 [04:16<00:12,  3.12s/it, eval_loss=0.0948, gpu_mem=6.91 GB]"
     ]
    },
    {
     "name": "stderr",
     "output_type": "stream",
     "text": [
      "\r",
      "Val:  97%|█████████▋| 83/86 [04:16<00:09,  3.09s/it, eval_loss=0.0948, gpu_mem=6.91 GB]"
     ]
    },
    {
     "name": "stderr",
     "output_type": "stream",
     "text": [
      "\r",
      "Val:  97%|█████████▋| 83/86 [04:19<00:09,  3.09s/it, eval_loss=0.0945, gpu_mem=6.91 GB]"
     ]
    },
    {
     "name": "stderr",
     "output_type": "stream",
     "text": [
      "\r",
      "Val:  98%|█████████▊| 84/86 [04:19<00:06,  3.12s/it, eval_loss=0.0945, gpu_mem=6.91 GB]"
     ]
    },
    {
     "name": "stderr",
     "output_type": "stream",
     "text": [
      "\r",
      "Val:  98%|█████████▊| 84/86 [04:22<00:06,  3.12s/it, eval_loss=0.0972, gpu_mem=6.91 GB]"
     ]
    },
    {
     "name": "stderr",
     "output_type": "stream",
     "text": [
      "\r",
      "Val:  99%|█████████▉| 85/86 [04:22<00:03,  3.10s/it, eval_loss=0.0972, gpu_mem=6.91 GB]"
     ]
    },
    {
     "name": "stderr",
     "output_type": "stream",
     "text": [
      "\r",
      "Val:  99%|█████████▉| 85/86 [04:22<00:03,  3.10s/it, eval_loss=0.0972, gpu_mem=6.91 GB]"
     ]
    },
    {
     "name": "stderr",
     "output_type": "stream",
     "text": [
      "\r",
      "Val: 100%|██████████| 86/86 [04:22<00:00,  2.33s/it, eval_loss=0.0972, gpu_mem=6.91 GB]"
     ]
    },
    {
     "name": "stderr",
     "output_type": "stream",
     "text": [
      "\r",
      "Val: 100%|██████████| 86/86 [04:23<00:00,  3.06s/it, eval_loss=0.0972, gpu_mem=6.91 GB]"
     ]
    },
    {
     "name": "stderr",
     "output_type": "stream",
     "text": [
      "\n",
      "Valid loss:0.0972\n"
     ]
    },
    {
     "name": "stderr",
     "output_type": "stream",
     "text": [
      "Val metric mean prob: 0.1867\n"
     ]
    },
    {
     "name": "stderr",
     "output_type": "stream",
     "text": [
      "Best metric at: 0.5111 0.3630  0.7308\n"
     ]
    },
    {
     "name": "stderr",
     "output_type": "stream",
     "text": [
      "Cf: [[2315   18]\n",
      " [  26   23]]\n"
     ]
    },
    {
     "name": "stderr",
     "output_type": "stream",
     "text": [
      "\u001b[32m[I 2023-02-15 04:14:13,947]\u001b[0m Trial 4 finished with value: 0.5111111111111111 and parameters: {'a1': 0.9424287982974126}. Best is trial 0 with value: 0.5111111111111111.\u001b[0m\n"
     ]
    },
    {
     "name": "stdout",
     "output_type": "stream",
     "text": [
      "/kaggle/input/10folds/tf_efficientnetv2_b2_fold_1_model_epoch_3_0.5055_0.360.pth\n",
      "none:  /kaggle/input/10folds/tf_efficientnetv2_b2_fold_1_model_epoch_3_0.5055_0.360.pth\n",
      "/kaggle/input/10folds/tf_efficientnetv2_b2_fold_1_model_epoch_5_0.4865_0.324.pth\n",
      "hehe /kaggle/input/10folds/tf_efficientnetv2_b2_fold_1_model_epoch_5_0.4865_0.324.pth\n",
      "0.02244913309407228 0.9775508669059277\n",
      "\n"
     ]
    },
    {
     "name": "stderr",
     "output_type": "stream",
     "text": [
      "\r",
      "Val:   0%|          | 0/86 [00:00<?, ?it/s]"
     ]
    },
    {
     "name": "stderr",
     "output_type": "stream",
     "text": [
      "\r",
      "Val:   0%|          | 0/86 [00:04<?, ?it/s, eval_loss=0.0552, gpu_mem=6.91 GB]"
     ]
    },
    {
     "name": "stderr",
     "output_type": "stream",
     "text": [
      "\r",
      "Val:   1%|          | 1/86 [00:04<06:42,  4.74s/it, eval_loss=0.0552, gpu_mem=6.91 GB]"
     ]
    },
    {
     "name": "stderr",
     "output_type": "stream",
     "text": [
      "\r",
      "Val:   1%|          | 1/86 [00:07<06:42,  4.74s/it, eval_loss=0.0431, gpu_mem=6.91 GB]"
     ]
    },
    {
     "name": "stderr",
     "output_type": "stream",
     "text": [
      "\r",
      "Val:   2%|▏         | 2/86 [00:07<04:47,  3.42s/it, eval_loss=0.0431, gpu_mem=6.91 GB]"
     ]
    },
    {
     "name": "stderr",
     "output_type": "stream",
     "text": [
      "\r",
      "Val:   2%|▏         | 2/86 [00:10<04:47,  3.42s/it, eval_loss=0.0889, gpu_mem=6.91 GB]"
     ]
    },
    {
     "name": "stderr",
     "output_type": "stream",
     "text": [
      "\r",
      "Val:   3%|▎         | 3/86 [00:10<04:26,  3.21s/it, eval_loss=0.0889, gpu_mem=6.91 GB]"
     ]
    },
    {
     "name": "stderr",
     "output_type": "stream",
     "text": [
      "\r",
      "Val:   3%|▎         | 3/86 [00:12<04:26,  3.21s/it, eval_loss=0.0997, gpu_mem=6.91 GB]"
     ]
    },
    {
     "name": "stderr",
     "output_type": "stream",
     "text": [
      "\r",
      "Val:   5%|▍         | 4/86 [00:12<03:56,  2.89s/it, eval_loss=0.0997, gpu_mem=6.91 GB]"
     ]
    },
    {
     "name": "stderr",
     "output_type": "stream",
     "text": [
      "\r",
      "Val:   5%|▍         | 4/86 [00:15<03:56,  2.89s/it, eval_loss=0.0955, gpu_mem=6.91 GB]"
     ]
    },
    {
     "name": "stderr",
     "output_type": "stream",
     "text": [
      "\r",
      "Val:   6%|▌         | 5/86 [00:15<03:46,  2.79s/it, eval_loss=0.0955, gpu_mem=6.91 GB]"
     ]
    },
    {
     "name": "stderr",
     "output_type": "stream",
     "text": [
      "\r",
      "Val:   6%|▌         | 5/86 [00:17<03:46,  2.79s/it, eval_loss=0.0924, gpu_mem=6.91 GB]"
     ]
    },
    {
     "name": "stderr",
     "output_type": "stream",
     "text": [
      "\r",
      "Val:   7%|▋         | 6/86 [00:17<03:33,  2.67s/it, eval_loss=0.0924, gpu_mem=6.91 GB]"
     ]
    },
    {
     "name": "stderr",
     "output_type": "stream",
     "text": [
      "\r",
      "Val:   7%|▋         | 6/86 [00:19<03:33,  2.67s/it, eval_loss=0.0847, gpu_mem=6.91 GB]"
     ]
    },
    {
     "name": "stderr",
     "output_type": "stream",
     "text": [
      "\r",
      "Val:   8%|▊         | 7/86 [00:19<03:21,  2.56s/it, eval_loss=0.0847, gpu_mem=6.91 GB]"
     ]
    },
    {
     "name": "stderr",
     "output_type": "stream",
     "text": [
      "\r",
      "Val:   8%|▊         | 7/86 [00:22<03:21,  2.56s/it, eval_loss=0.0818, gpu_mem=6.91 GB]"
     ]
    },
    {
     "name": "stderr",
     "output_type": "stream",
     "text": [
      "\r",
      "Val:   9%|▉         | 8/86 [00:22<03:14,  2.50s/it, eval_loss=0.0818, gpu_mem=6.91 GB]"
     ]
    },
    {
     "name": "stderr",
     "output_type": "stream",
     "text": [
      "\r",
      "Val:   9%|▉         | 8/86 [00:25<03:14,  2.50s/it, eval_loss=0.0801, gpu_mem=6.91 GB]"
     ]
    },
    {
     "name": "stderr",
     "output_type": "stream",
     "text": [
      "\r",
      "Val:  10%|█         | 9/86 [00:25<03:17,  2.57s/it, eval_loss=0.0801, gpu_mem=6.91 GB]"
     ]
    },
    {
     "name": "stderr",
     "output_type": "stream",
     "text": [
      "\r",
      "Val:  10%|█         | 9/86 [00:27<03:17,  2.57s/it, eval_loss=0.0871, gpu_mem=6.91 GB]"
     ]
    },
    {
     "name": "stderr",
     "output_type": "stream",
     "text": [
      "\r",
      "Val:  12%|█▏        | 10/86 [00:27<03:13,  2.55s/it, eval_loss=0.0871, gpu_mem=6.91 GB]"
     ]
    },
    {
     "name": "stderr",
     "output_type": "stream",
     "text": [
      "\r",
      "Val:  12%|█▏        | 10/86 [00:29<03:13,  2.55s/it, eval_loss=0.0842, gpu_mem=6.91 GB]"
     ]
    },
    {
     "name": "stderr",
     "output_type": "stream",
     "text": [
      "\r",
      "Val:  13%|█▎        | 11/86 [00:29<03:07,  2.50s/it, eval_loss=0.0842, gpu_mem=6.91 GB]"
     ]
    },
    {
     "name": "stderr",
     "output_type": "stream",
     "text": [
      "\r",
      "Val:  13%|█▎        | 11/86 [00:32<03:07,  2.50s/it, eval_loss=0.0844, gpu_mem=6.91 GB]"
     ]
    },
    {
     "name": "stderr",
     "output_type": "stream",
     "text": [
      "\r",
      "Val:  14%|█▍        | 12/86 [00:32<03:01,  2.46s/it, eval_loss=0.0844, gpu_mem=6.91 GB]"
     ]
    },
    {
     "name": "stderr",
     "output_type": "stream",
     "text": [
      "\r",
      "Val:  14%|█▍        | 12/86 [00:34<03:01,  2.46s/it, eval_loss=0.0865, gpu_mem=6.91 GB]"
     ]
    },
    {
     "name": "stderr",
     "output_type": "stream",
     "text": [
      "\r",
      "Val:  15%|█▌        | 13/86 [00:34<02:55,  2.41s/it, eval_loss=0.0865, gpu_mem=6.91 GB]"
     ]
    },
    {
     "name": "stderr",
     "output_type": "stream",
     "text": [
      "\r",
      "Val:  15%|█▌        | 13/86 [00:37<02:55,  2.41s/it, eval_loss=0.0828, gpu_mem=6.91 GB]"
     ]
    },
    {
     "name": "stderr",
     "output_type": "stream",
     "text": [
      "\r",
      "Val:  16%|█▋        | 14/86 [00:37<02:57,  2.46s/it, eval_loss=0.0828, gpu_mem=6.91 GB]"
     ]
    },
    {
     "name": "stderr",
     "output_type": "stream",
     "text": [
      "\r",
      "Val:  16%|█▋        | 14/86 [00:39<02:57,  2.46s/it, eval_loss=0.0800, gpu_mem=6.91 GB]"
     ]
    },
    {
     "name": "stderr",
     "output_type": "stream",
     "text": [
      "\r",
      "Val:  17%|█▋        | 15/86 [00:39<03:01,  2.56s/it, eval_loss=0.0800, gpu_mem=6.91 GB]"
     ]
    },
    {
     "name": "stderr",
     "output_type": "stream",
     "text": [
      "\r",
      "Val:  17%|█▋        | 15/86 [00:42<03:01,  2.56s/it, eval_loss=0.0781, gpu_mem=6.91 GB]"
     ]
    },
    {
     "name": "stderr",
     "output_type": "stream",
     "text": [
      "\r",
      "Val:  19%|█▊        | 16/86 [00:42<03:01,  2.60s/it, eval_loss=0.0781, gpu_mem=6.91 GB]"
     ]
    },
    {
     "name": "stderr",
     "output_type": "stream",
     "text": [
      "\r",
      "Val:  19%|█▊        | 16/86 [00:45<03:01,  2.60s/it, eval_loss=0.0782, gpu_mem=6.91 GB]"
     ]
    },
    {
     "name": "stderr",
     "output_type": "stream",
     "text": [
      "\r",
      "Val:  20%|█▉        | 17/86 [00:45<02:55,  2.54s/it, eval_loss=0.0782, gpu_mem=6.91 GB]"
     ]
    },
    {
     "name": "stderr",
     "output_type": "stream",
     "text": [
      "\r",
      "Val:  20%|█▉        | 17/86 [00:47<02:55,  2.54s/it, eval_loss=0.0777, gpu_mem=6.91 GB]"
     ]
    },
    {
     "name": "stderr",
     "output_type": "stream",
     "text": [
      "\r",
      "Val:  21%|██        | 18/86 [00:47<02:54,  2.57s/it, eval_loss=0.0777, gpu_mem=6.91 GB]"
     ]
    },
    {
     "name": "stderr",
     "output_type": "stream",
     "text": [
      "\r",
      "Val:  21%|██        | 18/86 [00:50<02:54,  2.57s/it, eval_loss=0.0779, gpu_mem=6.91 GB]"
     ]
    },
    {
     "name": "stderr",
     "output_type": "stream",
     "text": [
      "\r",
      "Val:  22%|██▏       | 19/86 [00:50<02:48,  2.51s/it, eval_loss=0.0779, gpu_mem=6.91 GB]"
     ]
    },
    {
     "name": "stderr",
     "output_type": "stream",
     "text": [
      "\r",
      "Val:  22%|██▏       | 19/86 [00:52<02:48,  2.51s/it, eval_loss=0.0785, gpu_mem=6.91 GB]"
     ]
    },
    {
     "name": "stderr",
     "output_type": "stream",
     "text": [
      "\r",
      "Val:  23%|██▎       | 20/86 [00:52<02:42,  2.46s/it, eval_loss=0.0785, gpu_mem=6.91 GB]"
     ]
    },
    {
     "name": "stderr",
     "output_type": "stream",
     "text": [
      "\r",
      "Val:  23%|██▎       | 20/86 [00:54<02:42,  2.46s/it, eval_loss=0.0771, gpu_mem=6.91 GB]"
     ]
    },
    {
     "name": "stderr",
     "output_type": "stream",
     "text": [
      "\r",
      "Val:  24%|██▍       | 21/86 [00:54<02:38,  2.44s/it, eval_loss=0.0771, gpu_mem=6.91 GB]"
     ]
    },
    {
     "name": "stderr",
     "output_type": "stream",
     "text": [
      "\r",
      "Val:  24%|██▍       | 21/86 [00:57<02:38,  2.44s/it, eval_loss=0.0804, gpu_mem=6.91 GB]"
     ]
    },
    {
     "name": "stderr",
     "output_type": "stream",
     "text": [
      "\r",
      "Val:  26%|██▌       | 22/86 [00:57<02:34,  2.41s/it, eval_loss=0.0804, gpu_mem=6.91 GB]"
     ]
    },
    {
     "name": "stderr",
     "output_type": "stream",
     "text": [
      "\r",
      "Val:  26%|██▌       | 22/86 [01:00<02:34,  2.41s/it, eval_loss=0.0844, gpu_mem=6.91 GB]"
     ]
    },
    {
     "name": "stderr",
     "output_type": "stream",
     "text": [
      "\r",
      "Val:  27%|██▋       | 23/86 [01:00<02:43,  2.59s/it, eval_loss=0.0844, gpu_mem=6.91 GB]"
     ]
    },
    {
     "name": "stderr",
     "output_type": "stream",
     "text": [
      "\r",
      "Val:  27%|██▋       | 23/86 [01:02<02:43,  2.59s/it, eval_loss=0.0839, gpu_mem=6.91 GB]"
     ]
    },
    {
     "name": "stderr",
     "output_type": "stream",
     "text": [
      "\r",
      "Val:  28%|██▊       | 24/86 [01:02<02:38,  2.56s/it, eval_loss=0.0839, gpu_mem=6.91 GB]"
     ]
    },
    {
     "name": "stderr",
     "output_type": "stream",
     "text": [
      "\r",
      "Val:  28%|██▊       | 24/86 [01:04<02:38,  2.56s/it, eval_loss=0.0837, gpu_mem=6.91 GB]"
     ]
    },
    {
     "name": "stderr",
     "output_type": "stream",
     "text": [
      "\r",
      "Val:  29%|██▉       | 25/86 [01:04<02:32,  2.49s/it, eval_loss=0.0837, gpu_mem=6.91 GB]"
     ]
    },
    {
     "name": "stderr",
     "output_type": "stream",
     "text": [
      "\r",
      "Val:  29%|██▉       | 25/86 [01:07<02:32,  2.49s/it, eval_loss=0.0816, gpu_mem=6.91 GB]"
     ]
    },
    {
     "name": "stderr",
     "output_type": "stream",
     "text": [
      "\r",
      "Val:  30%|███       | 26/86 [01:07<02:26,  2.45s/it, eval_loss=0.0816, gpu_mem=6.91 GB]"
     ]
    },
    {
     "name": "stderr",
     "output_type": "stream",
     "text": [
      "\r",
      "Val:  30%|███       | 26/86 [01:09<02:26,  2.45s/it, eval_loss=0.0853, gpu_mem=6.91 GB]"
     ]
    },
    {
     "name": "stderr",
     "output_type": "stream",
     "text": [
      "\r",
      "Val:  31%|███▏      | 27/86 [01:09<02:26,  2.48s/it, eval_loss=0.0853, gpu_mem=6.91 GB]"
     ]
    },
    {
     "name": "stderr",
     "output_type": "stream",
     "text": [
      "\r",
      "Val:  31%|███▏      | 27/86 [01:12<02:26,  2.48s/it, eval_loss=0.0848, gpu_mem=6.91 GB]"
     ]
    },
    {
     "name": "stderr",
     "output_type": "stream",
     "text": [
      "\r",
      "Val:  33%|███▎      | 28/86 [01:12<02:30,  2.60s/it, eval_loss=0.0848, gpu_mem=6.91 GB]"
     ]
    },
    {
     "name": "stderr",
     "output_type": "stream",
     "text": [
      "\r",
      "Val:  33%|███▎      | 28/86 [01:15<02:30,  2.60s/it, eval_loss=0.0838, gpu_mem=6.91 GB]"
     ]
    },
    {
     "name": "stderr",
     "output_type": "stream",
     "text": [
      "\r",
      "Val:  34%|███▎      | 29/86 [01:15<02:23,  2.53s/it, eval_loss=0.0838, gpu_mem=6.91 GB]"
     ]
    },
    {
     "name": "stderr",
     "output_type": "stream",
     "text": [
      "\r",
      "Val:  34%|███▎      | 29/86 [01:17<02:23,  2.53s/it, eval_loss=0.0838, gpu_mem=6.91 GB]"
     ]
    },
    {
     "name": "stderr",
     "output_type": "stream",
     "text": [
      "\r",
      "Val:  35%|███▍      | 30/86 [01:17<02:19,  2.50s/it, eval_loss=0.0838, gpu_mem=6.91 GB]"
     ]
    },
    {
     "name": "stderr",
     "output_type": "stream",
     "text": [
      "\r",
      "Val:  35%|███▍      | 30/86 [01:20<02:19,  2.50s/it, eval_loss=0.0830, gpu_mem=6.91 GB]"
     ]
    },
    {
     "name": "stderr",
     "output_type": "stream",
     "text": [
      "\r",
      "Val:  36%|███▌      | 31/86 [01:20<02:18,  2.52s/it, eval_loss=0.0830, gpu_mem=6.91 GB]"
     ]
    },
    {
     "name": "stderr",
     "output_type": "stream",
     "text": [
      "\r",
      "Val:  36%|███▌      | 31/86 [01:22<02:18,  2.52s/it, eval_loss=0.0905, gpu_mem=6.91 GB]"
     ]
    },
    {
     "name": "stderr",
     "output_type": "stream",
     "text": [
      "\r",
      "Val:  37%|███▋      | 32/86 [01:22<02:15,  2.51s/it, eval_loss=0.0905, gpu_mem=6.91 GB]"
     ]
    },
    {
     "name": "stderr",
     "output_type": "stream",
     "text": [
      "\r",
      "Val:  37%|███▋      | 32/86 [01:24<02:15,  2.51s/it, eval_loss=0.0886, gpu_mem=6.91 GB]"
     ]
    },
    {
     "name": "stderr",
     "output_type": "stream",
     "text": [
      "\r",
      "Val:  38%|███▊      | 33/86 [01:24<02:09,  2.44s/it, eval_loss=0.0886, gpu_mem=6.91 GB]"
     ]
    },
    {
     "name": "stderr",
     "output_type": "stream",
     "text": [
      "\r",
      "Val:  38%|███▊      | 33/86 [01:27<02:09,  2.44s/it, eval_loss=0.0899, gpu_mem=6.91 GB]"
     ]
    },
    {
     "name": "stderr",
     "output_type": "stream",
     "text": [
      "\r",
      "Val:  40%|███▉      | 34/86 [01:27<02:04,  2.39s/it, eval_loss=0.0899, gpu_mem=6.91 GB]"
     ]
    },
    {
     "name": "stderr",
     "output_type": "stream",
     "text": [
      "\r",
      "Val:  40%|███▉      | 34/86 [01:29<02:04,  2.39s/it, eval_loss=0.0889, gpu_mem=6.91 GB]"
     ]
    },
    {
     "name": "stderr",
     "output_type": "stream",
     "text": [
      "\r",
      "Val:  41%|████      | 35/86 [01:29<02:00,  2.36s/it, eval_loss=0.0889, gpu_mem=6.91 GB]"
     ]
    },
    {
     "name": "stderr",
     "output_type": "stream",
     "text": [
      "\r",
      "Val:  41%|████      | 35/86 [01:31<02:00,  2.36s/it, eval_loss=0.0875, gpu_mem=6.91 GB]"
     ]
    },
    {
     "name": "stderr",
     "output_type": "stream",
     "text": [
      "\r",
      "Val:  42%|████▏     | 36/86 [01:31<02:00,  2.41s/it, eval_loss=0.0875, gpu_mem=6.91 GB]"
     ]
    },
    {
     "name": "stderr",
     "output_type": "stream",
     "text": [
      "\r",
      "Val:  42%|████▏     | 36/86 [01:34<02:00,  2.41s/it, eval_loss=0.0881, gpu_mem=6.91 GB]"
     ]
    },
    {
     "name": "stderr",
     "output_type": "stream",
     "text": [
      "\r",
      "Val:  43%|████▎     | 37/86 [01:34<01:56,  2.38s/it, eval_loss=0.0881, gpu_mem=6.91 GB]"
     ]
    },
    {
     "name": "stderr",
     "output_type": "stream",
     "text": [
      "\r",
      "Val:  43%|████▎     | 37/86 [01:36<01:56,  2.38s/it, eval_loss=0.0879, gpu_mem=6.91 GB]"
     ]
    },
    {
     "name": "stderr",
     "output_type": "stream",
     "text": [
      "\r",
      "Val:  44%|████▍     | 38/86 [01:36<01:54,  2.38s/it, eval_loss=0.0879, gpu_mem=6.91 GB]"
     ]
    },
    {
     "name": "stderr",
     "output_type": "stream",
     "text": [
      "\r",
      "Val:  44%|████▍     | 38/86 [01:38<01:54,  2.38s/it, eval_loss=0.0865, gpu_mem=6.91 GB]"
     ]
    },
    {
     "name": "stderr",
     "output_type": "stream",
     "text": [
      "\r",
      "Val:  45%|████▌     | 39/86 [01:38<01:50,  2.35s/it, eval_loss=0.0865, gpu_mem=6.91 GB]"
     ]
    },
    {
     "name": "stderr",
     "output_type": "stream",
     "text": [
      "\r",
      "Val:  45%|████▌     | 39/86 [01:41<01:50,  2.35s/it, eval_loss=0.0864, gpu_mem=6.91 GB]"
     ]
    },
    {
     "name": "stderr",
     "output_type": "stream",
     "text": [
      "\r",
      "Val:  47%|████▋     | 40/86 [01:41<01:46,  2.32s/it, eval_loss=0.0864, gpu_mem=6.91 GB]"
     ]
    },
    {
     "name": "stderr",
     "output_type": "stream",
     "text": [
      "\r",
      "Val:  47%|████▋     | 40/86 [01:44<01:46,  2.32s/it, eval_loss=0.0859, gpu_mem=6.91 GB]"
     ]
    },
    {
     "name": "stderr",
     "output_type": "stream",
     "text": [
      "\r",
      "Val:  48%|████▊     | 41/86 [01:44<01:55,  2.58s/it, eval_loss=0.0859, gpu_mem=6.91 GB]"
     ]
    },
    {
     "name": "stderr",
     "output_type": "stream",
     "text": [
      "\r",
      "Val:  48%|████▊     | 41/86 [01:47<01:55,  2.58s/it, eval_loss=0.0854, gpu_mem=6.91 GB]"
     ]
    },
    {
     "name": "stderr",
     "output_type": "stream",
     "text": [
      "\r",
      "Val:  49%|████▉     | 42/86 [01:47<01:57,  2.66s/it, eval_loss=0.0854, gpu_mem=6.91 GB]"
     ]
    },
    {
     "name": "stderr",
     "output_type": "stream",
     "text": [
      "\r",
      "Val:  49%|████▉     | 42/86 [01:49<01:57,  2.66s/it, eval_loss=0.0845, gpu_mem=6.91 GB]"
     ]
    },
    {
     "name": "stderr",
     "output_type": "stream",
     "text": [
      "\r",
      "Val:  50%|█████     | 43/86 [01:49<01:52,  2.63s/it, eval_loss=0.0845, gpu_mem=6.91 GB]"
     ]
    },
    {
     "name": "stderr",
     "output_type": "stream",
     "text": [
      "\r",
      "Val:  50%|█████     | 43/86 [01:52<01:52,  2.63s/it, eval_loss=0.0877, gpu_mem=6.91 GB]"
     ]
    },
    {
     "name": "stderr",
     "output_type": "stream",
     "text": [
      "\r",
      "Val:  51%|█████     | 44/86 [01:52<01:45,  2.52s/it, eval_loss=0.0877, gpu_mem=6.91 GB]"
     ]
    },
    {
     "name": "stderr",
     "output_type": "stream",
     "text": [
      "\r",
      "Val:  51%|█████     | 44/86 [01:54<01:45,  2.52s/it, eval_loss=0.0864, gpu_mem=6.91 GB]"
     ]
    },
    {
     "name": "stderr",
     "output_type": "stream",
     "text": [
      "\r",
      "Val:  52%|█████▏    | 45/86 [01:54<01:43,  2.53s/it, eval_loss=0.0864, gpu_mem=6.91 GB]"
     ]
    },
    {
     "name": "stderr",
     "output_type": "stream",
     "text": [
      "\r",
      "Val:  52%|█████▏    | 45/86 [01:56<01:43,  2.53s/it, eval_loss=0.0863, gpu_mem=6.91 GB]"
     ]
    },
    {
     "name": "stderr",
     "output_type": "stream",
     "text": [
      "\r",
      "Val:  53%|█████▎    | 46/86 [01:56<01:38,  2.47s/it, eval_loss=0.0863, gpu_mem=6.91 GB]"
     ]
    },
    {
     "name": "stderr",
     "output_type": "stream",
     "text": [
      "\r",
      "Val:  53%|█████▎    | 46/86 [01:59<01:38,  2.47s/it, eval_loss=0.0856, gpu_mem=6.91 GB]"
     ]
    },
    {
     "name": "stderr",
     "output_type": "stream",
     "text": [
      "\r",
      "Val:  55%|█████▍    | 47/86 [01:59<01:33,  2.40s/it, eval_loss=0.0856, gpu_mem=6.91 GB]"
     ]
    },
    {
     "name": "stderr",
     "output_type": "stream",
     "text": [
      "\r",
      "Val:  55%|█████▍    | 47/86 [02:01<01:33,  2.40s/it, eval_loss=0.0874, gpu_mem=6.91 GB]"
     ]
    },
    {
     "name": "stderr",
     "output_type": "stream",
     "text": [
      "\r",
      "Val:  56%|█████▌    | 48/86 [02:01<01:30,  2.39s/it, eval_loss=0.0874, gpu_mem=6.91 GB]"
     ]
    },
    {
     "name": "stderr",
     "output_type": "stream",
     "text": [
      "\r",
      "Val:  56%|█████▌    | 48/86 [02:04<01:30,  2.39s/it, eval_loss=0.0869, gpu_mem=6.91 GB]"
     ]
    },
    {
     "name": "stderr",
     "output_type": "stream",
     "text": [
      "\r",
      "Val:  57%|█████▋    | 49/86 [02:04<01:30,  2.45s/it, eval_loss=0.0869, gpu_mem=6.91 GB]"
     ]
    },
    {
     "name": "stderr",
     "output_type": "stream",
     "text": [
      "\r",
      "Val:  57%|█████▋    | 49/86 [02:06<01:30,  2.45s/it, eval_loss=0.0866, gpu_mem=6.91 GB]"
     ]
    },
    {
     "name": "stderr",
     "output_type": "stream",
     "text": [
      "\r",
      "Val:  58%|█████▊    | 50/86 [02:06<01:28,  2.45s/it, eval_loss=0.0866, gpu_mem=6.91 GB]"
     ]
    },
    {
     "name": "stderr",
     "output_type": "stream",
     "text": [
      "\r",
      "Val:  58%|█████▊    | 50/86 [02:08<01:28,  2.45s/it, eval_loss=0.0895, gpu_mem=6.91 GB]"
     ]
    },
    {
     "name": "stderr",
     "output_type": "stream",
     "text": [
      "\r",
      "Val:  59%|█████▉    | 51/86 [02:08<01:24,  2.41s/it, eval_loss=0.0895, gpu_mem=6.91 GB]"
     ]
    },
    {
     "name": "stderr",
     "output_type": "stream",
     "text": [
      "\r",
      "Val:  59%|█████▉    | 51/86 [02:11<01:24,  2.41s/it, eval_loss=0.0909, gpu_mem=6.91 GB]"
     ]
    },
    {
     "name": "stderr",
     "output_type": "stream",
     "text": [
      "\r",
      "Val:  60%|██████    | 52/86 [02:11<01:20,  2.38s/it, eval_loss=0.0909, gpu_mem=6.91 GB]"
     ]
    },
    {
     "name": "stderr",
     "output_type": "stream",
     "text": [
      "\r",
      "Val:  60%|██████    | 52/86 [02:13<01:20,  2.38s/it, eval_loss=0.0922, gpu_mem=6.91 GB]"
     ]
    },
    {
     "name": "stderr",
     "output_type": "stream",
     "text": [
      "\r",
      "Val:  62%|██████▏   | 53/86 [02:13<01:18,  2.37s/it, eval_loss=0.0922, gpu_mem=6.91 GB]"
     ]
    },
    {
     "name": "stderr",
     "output_type": "stream",
     "text": [
      "\r",
      "Val:  62%|██████▏   | 53/86 [02:16<01:18,  2.37s/it, eval_loss=0.0915, gpu_mem=6.91 GB]"
     ]
    },
    {
     "name": "stderr",
     "output_type": "stream",
     "text": [
      "\r",
      "Val:  63%|██████▎   | 54/86 [02:16<01:17,  2.41s/it, eval_loss=0.0915, gpu_mem=6.91 GB]"
     ]
    },
    {
     "name": "stderr",
     "output_type": "stream",
     "text": [
      "\r",
      "Val:  63%|██████▎   | 54/86 [02:18<01:17,  2.41s/it, eval_loss=0.0922, gpu_mem=6.91 GB]"
     ]
    },
    {
     "name": "stderr",
     "output_type": "stream",
     "text": [
      "\r",
      "Val:  64%|██████▍   | 55/86 [02:18<01:13,  2.38s/it, eval_loss=0.0922, gpu_mem=6.91 GB]"
     ]
    },
    {
     "name": "stderr",
     "output_type": "stream",
     "text": [
      "\r",
      "Val:  64%|██████▍   | 55/86 [02:21<01:13,  2.38s/it, eval_loss=0.0918, gpu_mem=6.91 GB]"
     ]
    },
    {
     "name": "stderr",
     "output_type": "stream",
     "text": [
      "\r",
      "Val:  65%|██████▌   | 56/86 [02:21<01:14,  2.48s/it, eval_loss=0.0918, gpu_mem=6.91 GB]"
     ]
    },
    {
     "name": "stderr",
     "output_type": "stream",
     "text": [
      "\r",
      "Val:  65%|██████▌   | 56/86 [02:23<01:14,  2.48s/it, eval_loss=0.0917, gpu_mem=6.91 GB]"
     ]
    },
    {
     "name": "stderr",
     "output_type": "stream",
     "text": [
      "\r",
      "Val:  66%|██████▋   | 57/86 [02:23<01:09,  2.41s/it, eval_loss=0.0917, gpu_mem=6.91 GB]"
     ]
    },
    {
     "name": "stderr",
     "output_type": "stream",
     "text": [
      "\r",
      "Val:  66%|██████▋   | 57/86 [02:25<01:09,  2.41s/it, eval_loss=0.0940, gpu_mem=6.91 GB]"
     ]
    },
    {
     "name": "stderr",
     "output_type": "stream",
     "text": [
      "\r",
      "Val:  67%|██████▋   | 58/86 [02:25<01:07,  2.41s/it, eval_loss=0.0940, gpu_mem=6.91 GB]"
     ]
    },
    {
     "name": "stderr",
     "output_type": "stream",
     "text": [
      "\r",
      "Val:  67%|██████▋   | 58/86 [02:28<01:07,  2.41s/it, eval_loss=0.0935, gpu_mem=6.91 GB]"
     ]
    },
    {
     "name": "stderr",
     "output_type": "stream",
     "text": [
      "\r",
      "Val:  69%|██████▊   | 59/86 [02:28<01:05,  2.43s/it, eval_loss=0.0935, gpu_mem=6.91 GB]"
     ]
    },
    {
     "name": "stderr",
     "output_type": "stream",
     "text": [
      "\r",
      "Val:  69%|██████▊   | 59/86 [02:30<01:05,  2.43s/it, eval_loss=0.0953, gpu_mem=6.91 GB]"
     ]
    },
    {
     "name": "stderr",
     "output_type": "stream",
     "text": [
      "\r",
      "Val:  70%|██████▉   | 60/86 [02:30<01:02,  2.39s/it, eval_loss=0.0953, gpu_mem=6.91 GB]"
     ]
    },
    {
     "name": "stderr",
     "output_type": "stream",
     "text": [
      "\r",
      "Val:  70%|██████▉   | 60/86 [02:32<01:02,  2.39s/it, eval_loss=0.0947, gpu_mem=6.91 GB]"
     ]
    },
    {
     "name": "stderr",
     "output_type": "stream",
     "text": [
      "\r",
      "Val:  71%|███████   | 61/86 [02:32<00:58,  2.35s/it, eval_loss=0.0947, gpu_mem=6.91 GB]"
     ]
    },
    {
     "name": "stderr",
     "output_type": "stream",
     "text": [
      "\r",
      "Val:  71%|███████   | 61/86 [02:34<00:58,  2.35s/it, eval_loss=0.0943, gpu_mem=6.91 GB]"
     ]
    },
    {
     "name": "stderr",
     "output_type": "stream",
     "text": [
      "\r",
      "Val:  72%|███████▏  | 62/86 [02:34<00:55,  2.32s/it, eval_loss=0.0943, gpu_mem=6.91 GB]"
     ]
    },
    {
     "name": "stderr",
     "output_type": "stream",
     "text": [
      "\r",
      "Val:  72%|███████▏  | 62/86 [02:37<00:55,  2.32s/it, eval_loss=0.0942, gpu_mem=6.91 GB]"
     ]
    },
    {
     "name": "stderr",
     "output_type": "stream",
     "text": [
      "\r",
      "Val:  73%|███████▎  | 63/86 [02:37<00:54,  2.37s/it, eval_loss=0.0942, gpu_mem=6.91 GB]"
     ]
    },
    {
     "name": "stderr",
     "output_type": "stream",
     "text": [
      "\r",
      "Val:  73%|███████▎  | 63/86 [02:39<00:54,  2.37s/it, eval_loss=0.0941, gpu_mem=6.91 GB]"
     ]
    },
    {
     "name": "stderr",
     "output_type": "stream",
     "text": [
      "\r",
      "Val:  74%|███████▍  | 64/86 [02:39<00:51,  2.34s/it, eval_loss=0.0941, gpu_mem=6.91 GB]"
     ]
    },
    {
     "name": "stderr",
     "output_type": "stream",
     "text": [
      "\r",
      "Val:  74%|███████▍  | 64/86 [02:42<00:51,  2.34s/it, eval_loss=0.0932, gpu_mem=6.91 GB]"
     ]
    },
    {
     "name": "stderr",
     "output_type": "stream",
     "text": [
      "\r",
      "Val:  76%|███████▌  | 65/86 [02:42<00:48,  2.33s/it, eval_loss=0.0932, gpu_mem=6.91 GB]"
     ]
    },
    {
     "name": "stderr",
     "output_type": "stream",
     "text": [
      "\r",
      "Val:  76%|███████▌  | 65/86 [02:44<00:48,  2.33s/it, eval_loss=0.0950, gpu_mem=6.91 GB]"
     ]
    },
    {
     "name": "stderr",
     "output_type": "stream",
     "text": [
      "\r",
      "Val:  77%|███████▋  | 66/86 [02:44<00:46,  2.34s/it, eval_loss=0.0950, gpu_mem=6.91 GB]"
     ]
    },
    {
     "name": "stderr",
     "output_type": "stream",
     "text": [
      "\r",
      "Val:  77%|███████▋  | 66/86 [02:46<00:46,  2.34s/it, eval_loss=0.0942, gpu_mem=6.91 GB]"
     ]
    },
    {
     "name": "stderr",
     "output_type": "stream",
     "text": [
      "\r",
      "Val:  78%|███████▊  | 67/86 [02:46<00:44,  2.35s/it, eval_loss=0.0942, gpu_mem=6.91 GB]"
     ]
    },
    {
     "name": "stderr",
     "output_type": "stream",
     "text": [
      "\r",
      "Val:  78%|███████▊  | 67/86 [02:49<00:44,  2.35s/it, eval_loss=0.0966, gpu_mem=6.91 GB]"
     ]
    },
    {
     "name": "stderr",
     "output_type": "stream",
     "text": [
      "\r",
      "Val:  79%|███████▉  | 68/86 [02:49<00:43,  2.44s/it, eval_loss=0.0966, gpu_mem=6.91 GB]"
     ]
    },
    {
     "name": "stderr",
     "output_type": "stream",
     "text": [
      "\r",
      "Val:  79%|███████▉  | 68/86 [02:52<00:43,  2.44s/it, eval_loss=0.0967, gpu_mem=6.91 GB]"
     ]
    },
    {
     "name": "stderr",
     "output_type": "stream",
     "text": [
      "\r",
      "Val:  80%|████████  | 69/86 [02:52<00:43,  2.58s/it, eval_loss=0.0967, gpu_mem=6.91 GB]"
     ]
    },
    {
     "name": "stderr",
     "output_type": "stream",
     "text": [
      "\r",
      "Val:  80%|████████  | 69/86 [02:54<00:43,  2.58s/it, eval_loss=0.0964, gpu_mem=6.91 GB]"
     ]
    },
    {
     "name": "stderr",
     "output_type": "stream",
     "text": [
      "\r",
      "Val:  81%|████████▏ | 70/86 [02:54<00:39,  2.50s/it, eval_loss=0.0964, gpu_mem=6.91 GB]"
     ]
    },
    {
     "name": "stderr",
     "output_type": "stream",
     "text": [
      "\r",
      "Val:  81%|████████▏ | 70/86 [02:56<00:39,  2.50s/it, eval_loss=0.0971, gpu_mem=6.91 GB]"
     ]
    },
    {
     "name": "stderr",
     "output_type": "stream",
     "text": [
      "\r",
      "Val:  83%|████████▎ | 71/86 [02:56<00:36,  2.45s/it, eval_loss=0.0971, gpu_mem=6.91 GB]"
     ]
    },
    {
     "name": "stderr",
     "output_type": "stream",
     "text": [
      "\r",
      "Val:  83%|████████▎ | 71/86 [02:59<00:36,  2.45s/it, eval_loss=0.0967, gpu_mem=6.91 GB]"
     ]
    },
    {
     "name": "stderr",
     "output_type": "stream",
     "text": [
      "\r",
      "Val:  84%|████████▎ | 72/86 [02:59<00:34,  2.47s/it, eval_loss=0.0967, gpu_mem=6.91 GB]"
     ]
    },
    {
     "name": "stderr",
     "output_type": "stream",
     "text": [
      "\r",
      "Val:  84%|████████▎ | 72/86 [03:01<00:34,  2.47s/it, eval_loss=0.0964, gpu_mem=6.91 GB]"
     ]
    },
    {
     "name": "stderr",
     "output_type": "stream",
     "text": [
      "\r",
      "Val:  85%|████████▍ | 73/86 [03:01<00:31,  2.44s/it, eval_loss=0.0964, gpu_mem=6.91 GB]"
     ]
    },
    {
     "name": "stderr",
     "output_type": "stream",
     "text": [
      "\r",
      "Val:  85%|████████▍ | 73/86 [03:04<00:31,  2.44s/it, eval_loss=0.0967, gpu_mem=6.91 GB]"
     ]
    },
    {
     "name": "stderr",
     "output_type": "stream",
     "text": [
      "\r",
      "Val:  86%|████████▌ | 74/86 [03:04<00:29,  2.42s/it, eval_loss=0.0967, gpu_mem=6.91 GB]"
     ]
    },
    {
     "name": "stderr",
     "output_type": "stream",
     "text": [
      "\r",
      "Val:  86%|████████▌ | 74/86 [03:06<00:29,  2.42s/it, eval_loss=0.0961, gpu_mem=6.91 GB]"
     ]
    },
    {
     "name": "stderr",
     "output_type": "stream",
     "text": [
      "\r",
      "Val:  87%|████████▋ | 75/86 [03:06<00:26,  2.42s/it, eval_loss=0.0961, gpu_mem=6.91 GB]"
     ]
    },
    {
     "name": "stderr",
     "output_type": "stream",
     "text": [
      "\r",
      "Val:  87%|████████▋ | 75/86 [03:09<00:26,  2.42s/it, eval_loss=0.0955, gpu_mem=6.91 GB]"
     ]
    },
    {
     "name": "stderr",
     "output_type": "stream",
     "text": [
      "\r",
      "Val:  88%|████████▊ | 76/86 [03:09<00:24,  2.41s/it, eval_loss=0.0955, gpu_mem=6.91 GB]"
     ]
    },
    {
     "name": "stderr",
     "output_type": "stream",
     "text": [
      "\r",
      "Val:  88%|████████▊ | 76/86 [03:11<00:24,  2.41s/it, eval_loss=0.0966, gpu_mem=6.91 GB]"
     ]
    },
    {
     "name": "stderr",
     "output_type": "stream",
     "text": [
      "\r",
      "Val:  90%|████████▉ | 77/86 [03:11<00:22,  2.51s/it, eval_loss=0.0966, gpu_mem=6.91 GB]"
     ]
    },
    {
     "name": "stderr",
     "output_type": "stream",
     "text": [
      "\r",
      "Val:  90%|████████▉ | 77/86 [03:14<00:22,  2.51s/it, eval_loss=0.0959, gpu_mem=6.91 GB]"
     ]
    },
    {
     "name": "stderr",
     "output_type": "stream",
     "text": [
      "\r",
      "Val:  91%|█████████ | 78/86 [03:14<00:19,  2.48s/it, eval_loss=0.0959, gpu_mem=6.91 GB]"
     ]
    },
    {
     "name": "stderr",
     "output_type": "stream",
     "text": [
      "\r",
      "Val:  91%|█████████ | 78/86 [03:16<00:19,  2.48s/it, eval_loss=0.0958, gpu_mem=6.91 GB]"
     ]
    },
    {
     "name": "stderr",
     "output_type": "stream",
     "text": [
      "\r",
      "Val:  92%|█████████▏| 79/86 [03:16<00:17,  2.47s/it, eval_loss=0.0958, gpu_mem=6.91 GB]"
     ]
    },
    {
     "name": "stderr",
     "output_type": "stream",
     "text": [
      "\r",
      "Val:  92%|█████████▏| 79/86 [03:19<00:17,  2.47s/it, eval_loss=0.0960, gpu_mem=6.91 GB]"
     ]
    },
    {
     "name": "stderr",
     "output_type": "stream",
     "text": [
      "\r",
      "Val:  93%|█████████▎| 80/86 [03:19<00:14,  2.43s/it, eval_loss=0.0960, gpu_mem=6.91 GB]"
     ]
    },
    {
     "name": "stderr",
     "output_type": "stream",
     "text": [
      "\r",
      "Val:  93%|█████████▎| 80/86 [03:21<00:14,  2.43s/it, eval_loss=0.0954, gpu_mem=6.91 GB]"
     ]
    },
    {
     "name": "stderr",
     "output_type": "stream",
     "text": [
      "\r",
      "Val:  94%|█████████▍| 81/86 [03:21<00:12,  2.48s/it, eval_loss=0.0954, gpu_mem=6.91 GB]"
     ]
    },
    {
     "name": "stderr",
     "output_type": "stream",
     "text": [
      "\r",
      "Val:  94%|█████████▍| 81/86 [03:24<00:12,  2.48s/it, eval_loss=0.0950, gpu_mem=6.91 GB]"
     ]
    },
    {
     "name": "stderr",
     "output_type": "stream",
     "text": [
      "\r",
      "Val:  95%|█████████▌| 82/86 [03:24<00:10,  2.63s/it, eval_loss=0.0950, gpu_mem=6.91 GB]"
     ]
    },
    {
     "name": "stderr",
     "output_type": "stream",
     "text": [
      "\r",
      "Val:  95%|█████████▌| 82/86 [03:27<00:10,  2.63s/it, eval_loss=0.0948, gpu_mem=6.91 GB]"
     ]
    },
    {
     "name": "stderr",
     "output_type": "stream",
     "text": [
      "\r",
      "Val:  97%|█████████▋| 83/86 [03:27<00:07,  2.58s/it, eval_loss=0.0948, gpu_mem=6.91 GB]"
     ]
    },
    {
     "name": "stderr",
     "output_type": "stream",
     "text": [
      "\r",
      "Val:  97%|█████████▋| 83/86 [03:29<00:07,  2.58s/it, eval_loss=0.0945, gpu_mem=6.91 GB]"
     ]
    },
    {
     "name": "stderr",
     "output_type": "stream",
     "text": [
      "\r",
      "Val:  98%|█████████▊| 84/86 [03:29<00:05,  2.54s/it, eval_loss=0.0945, gpu_mem=6.91 GB]"
     ]
    },
    {
     "name": "stderr",
     "output_type": "stream",
     "text": [
      "\r",
      "Val:  98%|█████████▊| 84/86 [03:32<00:05,  2.54s/it, eval_loss=0.0972, gpu_mem=6.91 GB]"
     ]
    },
    {
     "name": "stderr",
     "output_type": "stream",
     "text": [
      "\r",
      "Val:  99%|█████████▉| 85/86 [03:32<00:02,  2.57s/it, eval_loss=0.0972, gpu_mem=6.91 GB]"
     ]
    },
    {
     "name": "stderr",
     "output_type": "stream",
     "text": [
      "\r",
      "Val:  99%|█████████▉| 85/86 [03:32<00:02,  2.57s/it, eval_loss=0.0972, gpu_mem=6.91 GB]"
     ]
    },
    {
     "name": "stderr",
     "output_type": "stream",
     "text": [
      "\r",
      "Val: 100%|██████████| 86/86 [03:32<00:00,  1.96s/it, eval_loss=0.0972, gpu_mem=6.91 GB]"
     ]
    },
    {
     "name": "stderr",
     "output_type": "stream",
     "text": [
      "\r",
      "Val: 100%|██████████| 86/86 [03:32<00:00,  2.47s/it, eval_loss=0.0972, gpu_mem=6.91 GB]"
     ]
    },
    {
     "name": "stderr",
     "output_type": "stream",
     "text": [
      "\n",
      "Valid loss:0.0972\n"
     ]
    },
    {
     "name": "stderr",
     "output_type": "stream",
     "text": [
      "Val metric mean prob: 0.1867\n"
     ]
    },
    {
     "name": "stderr",
     "output_type": "stream",
     "text": [
      "Best metric at: 0.5111 0.3630  0.7308\n"
     ]
    },
    {
     "name": "stderr",
     "output_type": "stream",
     "text": [
      "Cf: [[2315   18]\n",
      " [  26   23]]\n"
     ]
    },
    {
     "name": "stderr",
     "output_type": "stream",
     "text": [
      "\u001b[32m[I 2023-02-15 04:17:49,610]\u001b[0m Trial 5 finished with value: 0.5111111111111111 and parameters: {'a1': 0.02244913309407228}. Best is trial 0 with value: 0.5111111111111111.\u001b[0m\n"
     ]
    },
    {
     "name": "stdout",
     "output_type": "stream",
     "text": [
      "/kaggle/input/10folds/tf_efficientnetv2_b2_fold_1_model_epoch_3_0.5055_0.360.pth\n",
      "none:  /kaggle/input/10folds/tf_efficientnetv2_b2_fold_1_model_epoch_3_0.5055_0.360.pth\n",
      "/kaggle/input/10folds/tf_efficientnetv2_b2_fold_1_model_epoch_5_0.4865_0.324.pth\n",
      "hehe /kaggle/input/10folds/tf_efficientnetv2_b2_fold_1_model_epoch_5_0.4865_0.324.pth\n",
      "0.415315944810793 0.584684055189207\n",
      "\n"
     ]
    },
    {
     "name": "stderr",
     "output_type": "stream",
     "text": [
      "\r",
      "Val:   0%|          | 0/86 [00:00<?, ?it/s]"
     ]
    },
    {
     "name": "stderr",
     "output_type": "stream",
     "text": [
      "\r",
      "Val:   0%|          | 0/86 [00:04<?, ?it/s, eval_loss=0.0552, gpu_mem=6.91 GB]"
     ]
    },
    {
     "name": "stderr",
     "output_type": "stream",
     "text": [
      "\r",
      "Val:   1%|          | 1/86 [00:04<06:23,  4.51s/it, eval_loss=0.0552, gpu_mem=6.91 GB]"
     ]
    },
    {
     "name": "stderr",
     "output_type": "stream",
     "text": [
      "\r",
      "Val:   1%|          | 1/86 [00:07<06:23,  4.51s/it, eval_loss=0.0431, gpu_mem=6.91 GB]"
     ]
    },
    {
     "name": "stderr",
     "output_type": "stream",
     "text": [
      "\r",
      "Val:   2%|▏         | 2/86 [00:07<05:03,  3.61s/it, eval_loss=0.0431, gpu_mem=6.91 GB]"
     ]
    },
    {
     "name": "stderr",
     "output_type": "stream",
     "text": [
      "\r",
      "Val:   2%|▏         | 2/86 [00:10<05:03,  3.61s/it, eval_loss=0.0889, gpu_mem=6.91 GB]"
     ]
    },
    {
     "name": "stderr",
     "output_type": "stream",
     "text": [
      "\r",
      "Val:   3%|▎         | 3/86 [00:10<04:22,  3.17s/it, eval_loss=0.0889, gpu_mem=6.91 GB]"
     ]
    },
    {
     "name": "stderr",
     "output_type": "stream",
     "text": [
      "\r",
      "Val:   3%|▎         | 3/86 [00:12<04:22,  3.17s/it, eval_loss=0.0997, gpu_mem=6.91 GB]"
     ]
    },
    {
     "name": "stderr",
     "output_type": "stream",
     "text": [
      "\r",
      "Val:   5%|▍         | 4/86 [00:12<04:06,  3.01s/it, eval_loss=0.0997, gpu_mem=6.91 GB]"
     ]
    },
    {
     "name": "stderr",
     "output_type": "stream",
     "text": [
      "\r",
      "Val:   5%|▍         | 4/86 [00:15<04:06,  3.01s/it, eval_loss=0.0955, gpu_mem=6.91 GB]"
     ]
    },
    {
     "name": "stderr",
     "output_type": "stream",
     "text": [
      "\r",
      "Val:   6%|▌         | 5/86 [00:15<03:53,  2.89s/it, eval_loss=0.0955, gpu_mem=6.91 GB]"
     ]
    },
    {
     "name": "stderr",
     "output_type": "stream",
     "text": [
      "\r",
      "Val:   6%|▌         | 5/86 [00:19<03:53,  2.89s/it, eval_loss=0.0924, gpu_mem=6.91 GB]"
     ]
    },
    {
     "name": "stderr",
     "output_type": "stream",
     "text": [
      "\r",
      "Val:   7%|▋         | 6/86 [00:19<04:12,  3.16s/it, eval_loss=0.0924, gpu_mem=6.91 GB]"
     ]
    },
    {
     "name": "stderr",
     "output_type": "stream",
     "text": [
      "\r",
      "Val:   7%|▋         | 6/86 [00:22<04:12,  3.16s/it, eval_loss=0.0847, gpu_mem=6.91 GB]"
     ]
    },
    {
     "name": "stderr",
     "output_type": "stream",
     "text": [
      "\r",
      "Val:   8%|▊         | 7/86 [00:22<03:59,  3.03s/it, eval_loss=0.0847, gpu_mem=6.91 GB]"
     ]
    },
    {
     "name": "stderr",
     "output_type": "stream",
     "text": [
      "\r",
      "Val:   8%|▊         | 7/86 [00:24<03:59,  3.03s/it, eval_loss=0.0818, gpu_mem=6.91 GB]"
     ]
    },
    {
     "name": "stderr",
     "output_type": "stream",
     "text": [
      "\r",
      "Val:   9%|▉         | 8/86 [00:24<03:49,  2.94s/it, eval_loss=0.0818, gpu_mem=6.91 GB]"
     ]
    },
    {
     "name": "stderr",
     "output_type": "stream",
     "text": [
      "\r",
      "Val:   9%|▉         | 8/86 [00:27<03:49,  2.94s/it, eval_loss=0.0801, gpu_mem=6.91 GB]"
     ]
    },
    {
     "name": "stderr",
     "output_type": "stream",
     "text": [
      "\r",
      "Val:  10%|█         | 9/86 [00:27<03:44,  2.92s/it, eval_loss=0.0801, gpu_mem=6.91 GB]"
     ]
    },
    {
     "name": "stderr",
     "output_type": "stream",
     "text": [
      "\r",
      "Val:  10%|█         | 9/86 [00:30<03:44,  2.92s/it, eval_loss=0.0871, gpu_mem=6.91 GB]"
     ]
    },
    {
     "name": "stderr",
     "output_type": "stream",
     "text": [
      "\r",
      "Val:  12%|█▏        | 10/86 [00:30<03:42,  2.93s/it, eval_loss=0.0871, gpu_mem=6.91 GB]"
     ]
    },
    {
     "name": "stderr",
     "output_type": "stream",
     "text": [
      "\r",
      "Val:  12%|█▏        | 10/86 [00:33<03:42,  2.93s/it, eval_loss=0.0842, gpu_mem=6.91 GB]"
     ]
    },
    {
     "name": "stderr",
     "output_type": "stream",
     "text": [
      "\r",
      "Val:  13%|█▎        | 11/86 [00:33<03:34,  2.87s/it, eval_loss=0.0842, gpu_mem=6.91 GB]"
     ]
    },
    {
     "name": "stderr",
     "output_type": "stream",
     "text": [
      "\r",
      "Val:  13%|█▎        | 11/86 [00:36<03:34,  2.87s/it, eval_loss=0.0844, gpu_mem=6.91 GB]"
     ]
    },
    {
     "name": "stderr",
     "output_type": "stream",
     "text": [
      "\r",
      "Val:  14%|█▍        | 12/86 [00:36<03:28,  2.81s/it, eval_loss=0.0844, gpu_mem=6.91 GB]"
     ]
    },
    {
     "name": "stderr",
     "output_type": "stream",
     "text": [
      "\r",
      "Val:  14%|█▍        | 12/86 [00:38<03:28,  2.81s/it, eval_loss=0.0865, gpu_mem=6.91 GB]"
     ]
    },
    {
     "name": "stderr",
     "output_type": "stream",
     "text": [
      "\r",
      "Val:  15%|█▌        | 13/86 [00:38<03:23,  2.78s/it, eval_loss=0.0865, gpu_mem=6.91 GB]"
     ]
    },
    {
     "name": "stderr",
     "output_type": "stream",
     "text": [
      "\r",
      "Val:  15%|█▌        | 13/86 [00:41<03:23,  2.78s/it, eval_loss=0.0828, gpu_mem=6.91 GB]"
     ]
    },
    {
     "name": "stderr",
     "output_type": "stream",
     "text": [
      "\r",
      "Val:  16%|█▋        | 14/86 [00:41<03:23,  2.83s/it, eval_loss=0.0828, gpu_mem=6.91 GB]"
     ]
    },
    {
     "name": "stderr",
     "output_type": "stream",
     "text": [
      "\r",
      "Val:  16%|█▋        | 14/86 [00:44<03:23,  2.83s/it, eval_loss=0.0800, gpu_mem=6.91 GB]"
     ]
    },
    {
     "name": "stderr",
     "output_type": "stream",
     "text": [
      "\r",
      "Val:  17%|█▋        | 15/86 [00:44<03:19,  2.81s/it, eval_loss=0.0800, gpu_mem=6.91 GB]"
     ]
    },
    {
     "name": "stderr",
     "output_type": "stream",
     "text": [
      "\r",
      "Val:  17%|█▋        | 15/86 [00:47<03:19,  2.81s/it, eval_loss=0.0781, gpu_mem=6.91 GB]"
     ]
    },
    {
     "name": "stderr",
     "output_type": "stream",
     "text": [
      "\r",
      "Val:  19%|█▊        | 16/86 [00:47<03:14,  2.78s/it, eval_loss=0.0781, gpu_mem=6.91 GB]"
     ]
    },
    {
     "name": "stderr",
     "output_type": "stream",
     "text": [
      "\r",
      "Val:  19%|█▊        | 16/86 [00:49<03:14,  2.78s/it, eval_loss=0.0782, gpu_mem=6.91 GB]"
     ]
    },
    {
     "name": "stderr",
     "output_type": "stream",
     "text": [
      "\r",
      "Val:  20%|█▉        | 17/86 [00:49<03:11,  2.78s/it, eval_loss=0.0782, gpu_mem=6.91 GB]"
     ]
    },
    {
     "name": "stderr",
     "output_type": "stream",
     "text": [
      "\r",
      "Val:  20%|█▉        | 17/86 [00:53<03:11,  2.78s/it, eval_loss=0.0777, gpu_mem=6.91 GB]"
     ]
    },
    {
     "name": "stderr",
     "output_type": "stream",
     "text": [
      "\r",
      "Val:  21%|██        | 18/86 [00:53<03:27,  3.05s/it, eval_loss=0.0777, gpu_mem=6.91 GB]"
     ]
    },
    {
     "name": "stderr",
     "output_type": "stream",
     "text": [
      "\r",
      "Val:  21%|██        | 18/86 [00:56<03:27,  3.05s/it, eval_loss=0.0779, gpu_mem=6.91 GB]"
     ]
    },
    {
     "name": "stderr",
     "output_type": "stream",
     "text": [
      "\r",
      "Val:  22%|██▏       | 19/86 [00:56<03:20,  2.99s/it, eval_loss=0.0779, gpu_mem=6.91 GB]"
     ]
    },
    {
     "name": "stderr",
     "output_type": "stream",
     "text": [
      "\r",
      "Val:  22%|██▏       | 19/86 [00:59<03:20,  2.99s/it, eval_loss=0.0785, gpu_mem=6.91 GB]"
     ]
    },
    {
     "name": "stderr",
     "output_type": "stream",
     "text": [
      "\r",
      "Val:  23%|██▎       | 20/86 [00:59<03:12,  2.91s/it, eval_loss=0.0785, gpu_mem=6.91 GB]"
     ]
    },
    {
     "name": "stderr",
     "output_type": "stream",
     "text": [
      "\r",
      "Val:  23%|██▎       | 20/86 [01:02<03:12,  2.91s/it, eval_loss=0.0771, gpu_mem=6.91 GB]"
     ]
    },
    {
     "name": "stderr",
     "output_type": "stream",
     "text": [
      "\r",
      "Val:  24%|██▍       | 21/86 [01:02<03:07,  2.89s/it, eval_loss=0.0771, gpu_mem=6.91 GB]"
     ]
    },
    {
     "name": "stderr",
     "output_type": "stream",
     "text": [
      "\r",
      "Val:  24%|██▍       | 21/86 [01:04<03:07,  2.89s/it, eval_loss=0.0804, gpu_mem=6.91 GB]"
     ]
    },
    {
     "name": "stderr",
     "output_type": "stream",
     "text": [
      "\r",
      "Val:  26%|██▌       | 22/86 [01:04<03:06,  2.91s/it, eval_loss=0.0804, gpu_mem=6.91 GB]"
     ]
    },
    {
     "name": "stderr",
     "output_type": "stream",
     "text": [
      "\r",
      "Val:  26%|██▌       | 22/86 [01:07<03:06,  2.91s/it, eval_loss=0.0844, gpu_mem=6.91 GB]"
     ]
    },
    {
     "name": "stderr",
     "output_type": "stream",
     "text": [
      "\r",
      "Val:  27%|██▋       | 23/86 [01:07<02:58,  2.84s/it, eval_loss=0.0844, gpu_mem=6.91 GB]"
     ]
    },
    {
     "name": "stderr",
     "output_type": "stream",
     "text": [
      "\r",
      "Val:  27%|██▋       | 23/86 [01:10<02:58,  2.84s/it, eval_loss=0.0839, gpu_mem=6.91 GB]"
     ]
    },
    {
     "name": "stderr",
     "output_type": "stream",
     "text": [
      "\r",
      "Val:  28%|██▊       | 24/86 [01:10<02:54,  2.81s/it, eval_loss=0.0839, gpu_mem=6.91 GB]"
     ]
    },
    {
     "name": "stderr",
     "output_type": "stream",
     "text": [
      "\r",
      "Val:  28%|██▊       | 24/86 [01:13<02:54,  2.81s/it, eval_loss=0.0837, gpu_mem=6.91 GB]"
     ]
    },
    {
     "name": "stderr",
     "output_type": "stream",
     "text": [
      "\r",
      "Val:  29%|██▉       | 25/86 [01:13<02:52,  2.83s/it, eval_loss=0.0837, gpu_mem=6.91 GB]"
     ]
    },
    {
     "name": "stderr",
     "output_type": "stream",
     "text": [
      "\r",
      "Val:  29%|██▉       | 25/86 [01:16<02:52,  2.83s/it, eval_loss=0.0816, gpu_mem=6.91 GB]"
     ]
    },
    {
     "name": "stderr",
     "output_type": "stream",
     "text": [
      "\r",
      "Val:  30%|███       | 26/86 [01:16<02:50,  2.83s/it, eval_loss=0.0816, gpu_mem=6.91 GB]"
     ]
    },
    {
     "name": "stderr",
     "output_type": "stream",
     "text": [
      "\r",
      "Val:  30%|███       | 26/86 [01:18<02:50,  2.83s/it, eval_loss=0.0853, gpu_mem=6.91 GB]"
     ]
    },
    {
     "name": "stderr",
     "output_type": "stream",
     "text": [
      "\r",
      "Val:  31%|███▏      | 27/86 [01:18<02:44,  2.79s/it, eval_loss=0.0853, gpu_mem=6.91 GB]"
     ]
    },
    {
     "name": "stderr",
     "output_type": "stream",
     "text": [
      "\r",
      "Val:  31%|███▏      | 27/86 [01:21<02:44,  2.79s/it, eval_loss=0.0848, gpu_mem=6.91 GB]"
     ]
    },
    {
     "name": "stderr",
     "output_type": "stream",
     "text": [
      "\r",
      "Val:  33%|███▎      | 28/86 [01:21<02:41,  2.79s/it, eval_loss=0.0848, gpu_mem=6.91 GB]"
     ]
    },
    {
     "name": "stderr",
     "output_type": "stream",
     "text": [
      "\r",
      "Val:  33%|███▎      | 28/86 [01:24<02:41,  2.79s/it, eval_loss=0.0838, gpu_mem=6.91 GB]"
     ]
    },
    {
     "name": "stderr",
     "output_type": "stream",
     "text": [
      "\r",
      "Val:  34%|███▎      | 29/86 [01:24<02:49,  2.98s/it, eval_loss=0.0838, gpu_mem=6.91 GB]"
     ]
    },
    {
     "name": "stderr",
     "output_type": "stream",
     "text": [
      "\r",
      "Val:  34%|███▎      | 29/86 [01:27<02:49,  2.98s/it, eval_loss=0.0838, gpu_mem=6.91 GB]"
     ]
    },
    {
     "name": "stderr",
     "output_type": "stream",
     "text": [
      "\r",
      "Val:  35%|███▍      | 30/86 [01:27<02:44,  2.94s/it, eval_loss=0.0838, gpu_mem=6.91 GB]"
     ]
    },
    {
     "name": "stderr",
     "output_type": "stream",
     "text": [
      "\r",
      "Val:  35%|███▍      | 30/86 [01:30<02:44,  2.94s/it, eval_loss=0.0830, gpu_mem=6.91 GB]"
     ]
    },
    {
     "name": "stderr",
     "output_type": "stream",
     "text": [
      "\r",
      "Val:  36%|███▌      | 31/86 [01:30<02:39,  2.89s/it, eval_loss=0.0830, gpu_mem=6.91 GB]"
     ]
    },
    {
     "name": "stderr",
     "output_type": "stream",
     "text": [
      "\r",
      "Val:  36%|███▌      | 31/86 [01:33<02:39,  2.89s/it, eval_loss=0.0905, gpu_mem=6.91 GB]"
     ]
    },
    {
     "name": "stderr",
     "output_type": "stream",
     "text": [
      "\r",
      "Val:  37%|███▋      | 32/86 [01:33<02:34,  2.86s/it, eval_loss=0.0905, gpu_mem=6.91 GB]"
     ]
    },
    {
     "name": "stderr",
     "output_type": "stream",
     "text": [
      "\r",
      "Val:  37%|███▋      | 32/86 [01:36<02:34,  2.86s/it, eval_loss=0.0886, gpu_mem=6.91 GB]"
     ]
    },
    {
     "name": "stderr",
     "output_type": "stream",
     "text": [
      "\r",
      "Val:  38%|███▊      | 33/86 [01:36<02:32,  2.87s/it, eval_loss=0.0886, gpu_mem=6.91 GB]"
     ]
    },
    {
     "name": "stderr",
     "output_type": "stream",
     "text": [
      "\r",
      "Val:  38%|███▊      | 33/86 [01:39<02:32,  2.87s/it, eval_loss=0.0899, gpu_mem=6.91 GB]"
     ]
    },
    {
     "name": "stderr",
     "output_type": "stream",
     "text": [
      "\r",
      "Val:  40%|███▉      | 34/86 [01:39<02:26,  2.82s/it, eval_loss=0.0899, gpu_mem=6.91 GB]"
     ]
    },
    {
     "name": "stderr",
     "output_type": "stream",
     "text": [
      "\r",
      "Val:  40%|███▉      | 34/86 [01:41<02:26,  2.82s/it, eval_loss=0.0889, gpu_mem=6.91 GB]"
     ]
    },
    {
     "name": "stderr",
     "output_type": "stream",
     "text": [
      "\r",
      "Val:  41%|████      | 35/86 [01:41<02:20,  2.76s/it, eval_loss=0.0889, gpu_mem=6.91 GB]"
     ]
    },
    {
     "name": "stderr",
     "output_type": "stream",
     "text": [
      "\r",
      "Val:  41%|████      | 35/86 [01:44<02:20,  2.76s/it, eval_loss=0.0875, gpu_mem=6.91 GB]"
     ]
    },
    {
     "name": "stderr",
     "output_type": "stream",
     "text": [
      "\r",
      "Val:  42%|████▏     | 36/86 [01:44<02:16,  2.74s/it, eval_loss=0.0875, gpu_mem=6.91 GB]"
     ]
    },
    {
     "name": "stderr",
     "output_type": "stream",
     "text": [
      "\r",
      "Val:  42%|████▏     | 36/86 [01:47<02:16,  2.74s/it, eval_loss=0.0881, gpu_mem=6.91 GB]"
     ]
    },
    {
     "name": "stderr",
     "output_type": "stream",
     "text": [
      "\r",
      "Val:  43%|████▎     | 37/86 [01:47<02:17,  2.80s/it, eval_loss=0.0881, gpu_mem=6.91 GB]"
     ]
    },
    {
     "name": "stderr",
     "output_type": "stream",
     "text": [
      "\r",
      "Val:  43%|████▎     | 37/86 [01:49<02:17,  2.80s/it, eval_loss=0.0879, gpu_mem=6.91 GB]"
     ]
    },
    {
     "name": "stderr",
     "output_type": "stream",
     "text": [
      "\r",
      "Val:  44%|████▍     | 38/86 [01:49<02:12,  2.76s/it, eval_loss=0.0879, gpu_mem=6.91 GB]"
     ]
    },
    {
     "name": "stderr",
     "output_type": "stream",
     "text": [
      "\r",
      "Val:  44%|████▍     | 38/86 [01:52<02:12,  2.76s/it, eval_loss=0.0865, gpu_mem=6.91 GB]"
     ]
    },
    {
     "name": "stderr",
     "output_type": "stream",
     "text": [
      "\r",
      "Val:  45%|████▌     | 39/86 [01:52<02:08,  2.74s/it, eval_loss=0.0865, gpu_mem=6.91 GB]"
     ]
    },
    {
     "name": "stderr",
     "output_type": "stream",
     "text": [
      "\r",
      "Val:  45%|████▌     | 39/86 [01:55<02:08,  2.74s/it, eval_loss=0.0864, gpu_mem=6.91 GB]"
     ]
    },
    {
     "name": "stderr",
     "output_type": "stream",
     "text": [
      "\r",
      "Val:  47%|████▋     | 40/86 [01:55<02:11,  2.86s/it, eval_loss=0.0864, gpu_mem=6.91 GB]"
     ]
    },
    {
     "name": "stderr",
     "output_type": "stream",
     "text": [
      "\r",
      "Val:  47%|████▋     | 40/86 [01:58<02:11,  2.86s/it, eval_loss=0.0859, gpu_mem=6.91 GB]"
     ]
    },
    {
     "name": "stderr",
     "output_type": "stream",
     "text": [
      "\r",
      "Val:  48%|████▊     | 41/86 [01:58<02:09,  2.87s/it, eval_loss=0.0859, gpu_mem=6.91 GB]"
     ]
    },
    {
     "name": "stderr",
     "output_type": "stream",
     "text": [
      "\r",
      "Val:  48%|████▊     | 41/86 [02:01<02:09,  2.87s/it, eval_loss=0.0854, gpu_mem=6.91 GB]"
     ]
    },
    {
     "name": "stderr",
     "output_type": "stream",
     "text": [
      "\r",
      "Val:  49%|████▉     | 42/86 [02:01<02:03,  2.81s/it, eval_loss=0.0854, gpu_mem=6.91 GB]"
     ]
    },
    {
     "name": "stderr",
     "output_type": "stream",
     "text": [
      "\r",
      "Val:  49%|████▉     | 42/86 [02:04<02:03,  2.81s/it, eval_loss=0.0845, gpu_mem=6.91 GB]"
     ]
    },
    {
     "name": "stderr",
     "output_type": "stream",
     "text": [
      "\r",
      "Val:  50%|█████     | 43/86 [02:04<01:59,  2.78s/it, eval_loss=0.0845, gpu_mem=6.91 GB]"
     ]
    },
    {
     "name": "stderr",
     "output_type": "stream",
     "text": [
      "\r",
      "Val:  50%|█████     | 43/86 [02:06<01:59,  2.78s/it, eval_loss=0.0877, gpu_mem=6.91 GB]"
     ]
    },
    {
     "name": "stderr",
     "output_type": "stream",
     "text": [
      "\r",
      "Val:  51%|█████     | 44/86 [02:06<01:55,  2.76s/it, eval_loss=0.0877, gpu_mem=6.91 GB]"
     ]
    },
    {
     "name": "stderr",
     "output_type": "stream",
     "text": [
      "\r",
      "Val:  51%|█████     | 44/86 [02:09<01:55,  2.76s/it, eval_loss=0.0864, gpu_mem=6.91 GB]"
     ]
    },
    {
     "name": "stderr",
     "output_type": "stream",
     "text": [
      "\r",
      "Val:  52%|█████▏    | 45/86 [02:09<01:55,  2.81s/it, eval_loss=0.0864, gpu_mem=6.91 GB]"
     ]
    },
    {
     "name": "stderr",
     "output_type": "stream",
     "text": [
      "\r",
      "Val:  52%|█████▏    | 45/86 [02:12<01:55,  2.81s/it, eval_loss=0.0863, gpu_mem=6.91 GB]"
     ]
    },
    {
     "name": "stderr",
     "output_type": "stream",
     "text": [
      "\r",
      "Val:  53%|█████▎    | 46/86 [02:12<01:51,  2.78s/it, eval_loss=0.0863, gpu_mem=6.91 GB]"
     ]
    },
    {
     "name": "stderr",
     "output_type": "stream",
     "text": [
      "\r",
      "Val:  53%|█████▎    | 46/86 [02:15<01:51,  2.78s/it, eval_loss=0.0856, gpu_mem=6.91 GB]"
     ]
    },
    {
     "name": "stderr",
     "output_type": "stream",
     "text": [
      "\r",
      "Val:  55%|█████▍    | 47/86 [02:15<01:47,  2.76s/it, eval_loss=0.0856, gpu_mem=6.91 GB]"
     ]
    },
    {
     "name": "stderr",
     "output_type": "stream",
     "text": [
      "\r",
      "Val:  55%|█████▍    | 47/86 [02:17<01:47,  2.76s/it, eval_loss=0.0874, gpu_mem=6.91 GB]"
     ]
    },
    {
     "name": "stderr",
     "output_type": "stream",
     "text": [
      "\r",
      "Val:  56%|█████▌    | 48/86 [02:17<01:44,  2.75s/it, eval_loss=0.0874, gpu_mem=6.91 GB]"
     ]
    },
    {
     "name": "stderr",
     "output_type": "stream",
     "text": [
      "\r",
      "Val:  56%|█████▌    | 48/86 [02:20<01:44,  2.75s/it, eval_loss=0.0869, gpu_mem=6.91 GB]"
     ]
    },
    {
     "name": "stderr",
     "output_type": "stream",
     "text": [
      "\r",
      "Val:  57%|█████▋    | 49/86 [02:20<01:43,  2.79s/it, eval_loss=0.0869, gpu_mem=6.91 GB]"
     ]
    },
    {
     "name": "stderr",
     "output_type": "stream",
     "text": [
      "\r",
      "Val:  57%|█████▋    | 49/86 [02:23<01:43,  2.79s/it, eval_loss=0.0866, gpu_mem=6.91 GB]"
     ]
    },
    {
     "name": "stderr",
     "output_type": "stream",
     "text": [
      "\r",
      "Val:  58%|█████▊    | 50/86 [02:23<01:39,  2.76s/it, eval_loss=0.0866, gpu_mem=6.91 GB]"
     ]
    },
    {
     "name": "stderr",
     "output_type": "stream",
     "text": [
      "\r",
      "Val:  58%|█████▊    | 50/86 [02:26<01:39,  2.76s/it, eval_loss=0.0895, gpu_mem=6.91 GB]"
     ]
    },
    {
     "name": "stderr",
     "output_type": "stream",
     "text": [
      "\r",
      "Val:  59%|█████▉    | 51/86 [02:26<01:39,  2.83s/it, eval_loss=0.0895, gpu_mem=6.91 GB]"
     ]
    },
    {
     "name": "stderr",
     "output_type": "stream",
     "text": [
      "\r",
      "Val:  59%|█████▉    | 51/86 [02:29<01:39,  2.83s/it, eval_loss=0.0909, gpu_mem=6.91 GB]"
     ]
    },
    {
     "name": "stderr",
     "output_type": "stream",
     "text": [
      "\r",
      "Val:  60%|██████    | 52/86 [02:29<01:40,  2.96s/it, eval_loss=0.0909, gpu_mem=6.91 GB]"
     ]
    },
    {
     "name": "stderr",
     "output_type": "stream",
     "text": [
      "\r",
      "Val:  60%|██████    | 52/86 [02:32<01:40,  2.96s/it, eval_loss=0.0922, gpu_mem=6.91 GB]"
     ]
    },
    {
     "name": "stderr",
     "output_type": "stream",
     "text": [
      "\r",
      "Val:  62%|██████▏   | 53/86 [02:32<01:38,  2.99s/it, eval_loss=0.0922, gpu_mem=6.91 GB]"
     ]
    },
    {
     "name": "stderr",
     "output_type": "stream",
     "text": [
      "\r",
      "Val:  62%|██████▏   | 53/86 [02:35<01:38,  2.99s/it, eval_loss=0.0915, gpu_mem=6.91 GB]"
     ]
    },
    {
     "name": "stderr",
     "output_type": "stream",
     "text": [
      "\r",
      "Val:  63%|██████▎   | 54/86 [02:35<01:33,  2.93s/it, eval_loss=0.0915, gpu_mem=6.91 GB]"
     ]
    },
    {
     "name": "stderr",
     "output_type": "stream",
     "text": [
      "\r",
      "Val:  63%|██████▎   | 54/86 [02:38<01:33,  2.93s/it, eval_loss=0.0922, gpu_mem=6.91 GB]"
     ]
    },
    {
     "name": "stderr",
     "output_type": "stream",
     "text": [
      "\r",
      "Val:  64%|██████▍   | 55/86 [02:38<01:29,  2.88s/it, eval_loss=0.0922, gpu_mem=6.91 GB]"
     ]
    },
    {
     "name": "stderr",
     "output_type": "stream",
     "text": [
      "\r",
      "Val:  64%|██████▍   | 55/86 [02:41<01:29,  2.88s/it, eval_loss=0.0918, gpu_mem=6.91 GB]"
     ]
    },
    {
     "name": "stderr",
     "output_type": "stream",
     "text": [
      "\r",
      "Val:  65%|██████▌   | 56/86 [02:41<01:26,  2.88s/it, eval_loss=0.0918, gpu_mem=6.91 GB]"
     ]
    },
    {
     "name": "stderr",
     "output_type": "stream",
     "text": [
      "\r",
      "Val:  65%|██████▌   | 56/86 [02:44<01:26,  2.88s/it, eval_loss=0.0917, gpu_mem=6.91 GB]"
     ]
    },
    {
     "name": "stderr",
     "output_type": "stream",
     "text": [
      "\r",
      "Val:  66%|██████▋   | 57/86 [02:44<01:23,  2.89s/it, eval_loss=0.0917, gpu_mem=6.91 GB]"
     ]
    },
    {
     "name": "stderr",
     "output_type": "stream",
     "text": [
      "\r",
      "Val:  66%|██████▋   | 57/86 [02:46<01:23,  2.89s/it, eval_loss=0.0940, gpu_mem=6.91 GB]"
     ]
    },
    {
     "name": "stderr",
     "output_type": "stream",
     "text": [
      "\r",
      "Val:  67%|██████▋   | 58/86 [02:46<01:19,  2.84s/it, eval_loss=0.0940, gpu_mem=6.91 GB]"
     ]
    },
    {
     "name": "stderr",
     "output_type": "stream",
     "text": [
      "\r",
      "Val:  67%|██████▋   | 58/86 [02:49<01:19,  2.84s/it, eval_loss=0.0935, gpu_mem=6.91 GB]"
     ]
    },
    {
     "name": "stderr",
     "output_type": "stream",
     "text": [
      "\r",
      "Val:  69%|██████▊   | 59/86 [02:49<01:16,  2.82s/it, eval_loss=0.0935, gpu_mem=6.91 GB]"
     ]
    },
    {
     "name": "stderr",
     "output_type": "stream",
     "text": [
      "\r",
      "Val:  69%|██████▊   | 59/86 [02:52<01:16,  2.82s/it, eval_loss=0.0953, gpu_mem=6.91 GB]"
     ]
    },
    {
     "name": "stderr",
     "output_type": "stream",
     "text": [
      "\r",
      "Val:  70%|██████▉   | 60/86 [02:52<01:15,  2.89s/it, eval_loss=0.0953, gpu_mem=6.91 GB]"
     ]
    },
    {
     "name": "stderr",
     "output_type": "stream",
     "text": [
      "\r",
      "Val:  70%|██████▉   | 60/86 [02:55<01:15,  2.89s/it, eval_loss=0.0947, gpu_mem=6.91 GB]"
     ]
    },
    {
     "name": "stderr",
     "output_type": "stream",
     "text": [
      "\r",
      "Val:  71%|███████   | 61/86 [02:55<01:12,  2.88s/it, eval_loss=0.0947, gpu_mem=6.91 GB]"
     ]
    },
    {
     "name": "stderr",
     "output_type": "stream",
     "text": [
      "\r",
      "Val:  71%|███████   | 61/86 [02:58<01:12,  2.88s/it, eval_loss=0.0943, gpu_mem=6.91 GB]"
     ]
    },
    {
     "name": "stderr",
     "output_type": "stream",
     "text": [
      "\r",
      "Val:  72%|███████▏  | 62/86 [02:58<01:08,  2.87s/it, eval_loss=0.0943, gpu_mem=6.91 GB]"
     ]
    },
    {
     "name": "stderr",
     "output_type": "stream",
     "text": [
      "\r",
      "Val:  72%|███████▏  | 62/86 [03:01<01:08,  2.87s/it, eval_loss=0.0942, gpu_mem=6.91 GB]"
     ]
    },
    {
     "name": "stderr",
     "output_type": "stream",
     "text": [
      "\r",
      "Val:  73%|███████▎  | 63/86 [03:01<01:09,  3.04s/it, eval_loss=0.0942, gpu_mem=6.91 GB]"
     ]
    },
    {
     "name": "stderr",
     "output_type": "stream",
     "text": [
      "\r",
      "Val:  73%|███████▎  | 63/86 [03:04<01:09,  3.04s/it, eval_loss=0.0941, gpu_mem=6.91 GB]"
     ]
    },
    {
     "name": "stderr",
     "output_type": "stream",
     "text": [
      "\r",
      "Val:  74%|███████▍  | 64/86 [03:04<01:06,  3.04s/it, eval_loss=0.0941, gpu_mem=6.91 GB]"
     ]
    },
    {
     "name": "stderr",
     "output_type": "stream",
     "text": [
      "\r",
      "Val:  74%|███████▍  | 64/86 [03:07<01:06,  3.04s/it, eval_loss=0.0932, gpu_mem=6.91 GB]"
     ]
    },
    {
     "name": "stderr",
     "output_type": "stream",
     "text": [
      "\r",
      "Val:  76%|███████▌  | 65/86 [03:07<01:01,  2.92s/it, eval_loss=0.0932, gpu_mem=6.91 GB]"
     ]
    },
    {
     "name": "stderr",
     "output_type": "stream",
     "text": [
      "\r",
      "Val:  76%|███████▌  | 65/86 [03:10<01:01,  2.92s/it, eval_loss=0.0950, gpu_mem=6.91 GB]"
     ]
    },
    {
     "name": "stderr",
     "output_type": "stream",
     "text": [
      "\r",
      "Val:  77%|███████▋  | 66/86 [03:10<00:57,  2.86s/it, eval_loss=0.0950, gpu_mem=6.91 GB]"
     ]
    },
    {
     "name": "stderr",
     "output_type": "stream",
     "text": [
      "\r",
      "Val:  77%|███████▋  | 66/86 [03:12<00:57,  2.86s/it, eval_loss=0.0942, gpu_mem=6.91 GB]"
     ]
    },
    {
     "name": "stderr",
     "output_type": "stream",
     "text": [
      "\r",
      "Val:  78%|███████▊  | 67/86 [03:12<00:53,  2.81s/it, eval_loss=0.0942, gpu_mem=6.91 GB]"
     ]
    },
    {
     "name": "stderr",
     "output_type": "stream",
     "text": [
      "\r",
      "Val:  78%|███████▊  | 67/86 [03:15<00:53,  2.81s/it, eval_loss=0.0966, gpu_mem=6.91 GB]"
     ]
    },
    {
     "name": "stderr",
     "output_type": "stream",
     "text": [
      "\r",
      "Val:  79%|███████▉  | 68/86 [03:15<00:51,  2.85s/it, eval_loss=0.0966, gpu_mem=6.91 GB]"
     ]
    },
    {
     "name": "stderr",
     "output_type": "stream",
     "text": [
      "\r",
      "Val:  79%|███████▉  | 68/86 [03:18<00:51,  2.85s/it, eval_loss=0.0967, gpu_mem=6.91 GB]"
     ]
    },
    {
     "name": "stderr",
     "output_type": "stream",
     "text": [
      "\r",
      "Val:  80%|████████  | 69/86 [03:18<00:48,  2.83s/it, eval_loss=0.0967, gpu_mem=6.91 GB]"
     ]
    },
    {
     "name": "stderr",
     "output_type": "stream",
     "text": [
      "\r",
      "Val:  80%|████████  | 69/86 [03:21<00:48,  2.83s/it, eval_loss=0.0964, gpu_mem=6.91 GB]"
     ]
    },
    {
     "name": "stderr",
     "output_type": "stream",
     "text": [
      "\r",
      "Val:  81%|████████▏ | 70/86 [03:21<00:44,  2.79s/it, eval_loss=0.0964, gpu_mem=6.91 GB]"
     ]
    },
    {
     "name": "stderr",
     "output_type": "stream",
     "text": [
      "\r",
      "Val:  81%|████████▏ | 70/86 [03:24<00:44,  2.79s/it, eval_loss=0.0971, gpu_mem=6.91 GB]"
     ]
    },
    {
     "name": "stderr",
     "output_type": "stream",
     "text": [
      "\r",
      "Val:  83%|████████▎ | 71/86 [03:24<00:41,  2.79s/it, eval_loss=0.0971, gpu_mem=6.91 GB]"
     ]
    },
    {
     "name": "stderr",
     "output_type": "stream",
     "text": [
      "\r",
      "Val:  83%|████████▎ | 71/86 [03:27<00:41,  2.79s/it, eval_loss=0.0967, gpu_mem=6.91 GB]"
     ]
    },
    {
     "name": "stderr",
     "output_type": "stream",
     "text": [
      "\r",
      "Val:  84%|████████▎ | 72/86 [03:27<00:39,  2.84s/it, eval_loss=0.0967, gpu_mem=6.91 GB]"
     ]
    },
    {
     "name": "stderr",
     "output_type": "stream",
     "text": [
      "\r",
      "Val:  84%|████████▎ | 72/86 [03:29<00:39,  2.84s/it, eval_loss=0.0964, gpu_mem=6.91 GB]"
     ]
    },
    {
     "name": "stderr",
     "output_type": "stream",
     "text": [
      "\r",
      "Val:  85%|████████▍ | 73/86 [03:29<00:36,  2.81s/it, eval_loss=0.0964, gpu_mem=6.91 GB]"
     ]
    },
    {
     "name": "stderr",
     "output_type": "stream",
     "text": [
      "\r",
      "Val:  85%|████████▍ | 73/86 [03:32<00:36,  2.81s/it, eval_loss=0.0967, gpu_mem=6.91 GB]"
     ]
    },
    {
     "name": "stderr",
     "output_type": "stream",
     "text": [
      "\r",
      "Val:  86%|████████▌ | 74/86 [03:32<00:35,  2.94s/it, eval_loss=0.0967, gpu_mem=6.91 GB]"
     ]
    },
    {
     "name": "stderr",
     "output_type": "stream",
     "text": [
      "\r",
      "Val:  86%|████████▌ | 74/86 [03:35<00:35,  2.94s/it, eval_loss=0.0961, gpu_mem=6.91 GB]"
     ]
    },
    {
     "name": "stderr",
     "output_type": "stream",
     "text": [
      "\r",
      "Val:  87%|████████▋ | 75/86 [03:35<00:31,  2.87s/it, eval_loss=0.0961, gpu_mem=6.91 GB]"
     ]
    },
    {
     "name": "stderr",
     "output_type": "stream",
     "text": [
      "\r",
      "Val:  87%|████████▋ | 75/86 [03:38<00:31,  2.87s/it, eval_loss=0.0955, gpu_mem=6.91 GB]"
     ]
    },
    {
     "name": "stderr",
     "output_type": "stream",
     "text": [
      "\r",
      "Val:  88%|████████▊ | 76/86 [03:38<00:29,  2.91s/it, eval_loss=0.0955, gpu_mem=6.91 GB]"
     ]
    },
    {
     "name": "stderr",
     "output_type": "stream",
     "text": [
      "\r",
      "Val:  88%|████████▊ | 76/86 [03:41<00:29,  2.91s/it, eval_loss=0.0966, gpu_mem=6.91 GB]"
     ]
    },
    {
     "name": "stderr",
     "output_type": "stream",
     "text": [
      "\r",
      "Val:  90%|████████▉ | 77/86 [03:41<00:25,  2.86s/it, eval_loss=0.0966, gpu_mem=6.91 GB]"
     ]
    },
    {
     "name": "stderr",
     "output_type": "stream",
     "text": [
      "\r",
      "Val:  90%|████████▉ | 77/86 [03:44<00:25,  2.86s/it, eval_loss=0.0959, gpu_mem=6.91 GB]"
     ]
    },
    {
     "name": "stderr",
     "output_type": "stream",
     "text": [
      "\r",
      "Val:  91%|█████████ | 78/86 [03:44<00:23,  2.94s/it, eval_loss=0.0959, gpu_mem=6.91 GB]"
     ]
    },
    {
     "name": "stderr",
     "output_type": "stream",
     "text": [
      "\r",
      "Val:  91%|█████████ | 78/86 [03:47<00:23,  2.94s/it, eval_loss=0.0958, gpu_mem=6.91 GB]"
     ]
    },
    {
     "name": "stderr",
     "output_type": "stream",
     "text": [
      "\r",
      "Val:  92%|█████████▏| 79/86 [03:47<00:21,  3.03s/it, eval_loss=0.0958, gpu_mem=6.91 GB]"
     ]
    },
    {
     "name": "stderr",
     "output_type": "stream",
     "text": [
      "\r",
      "Val:  92%|█████████▏| 79/86 [03:50<00:21,  3.03s/it, eval_loss=0.0960, gpu_mem=6.91 GB]"
     ]
    },
    {
     "name": "stderr",
     "output_type": "stream",
     "text": [
      "\r",
      "Val:  93%|█████████▎| 80/86 [03:50<00:18,  3.02s/it, eval_loss=0.0960, gpu_mem=6.91 GB]"
     ]
    },
    {
     "name": "stderr",
     "output_type": "stream",
     "text": [
      "\r",
      "Val:  93%|█████████▎| 80/86 [03:53<00:18,  3.02s/it, eval_loss=0.0954, gpu_mem=6.91 GB]"
     ]
    },
    {
     "name": "stderr",
     "output_type": "stream",
     "text": [
      "\r",
      "Val:  94%|█████████▍| 81/86 [03:53<00:14,  3.00s/it, eval_loss=0.0954, gpu_mem=6.91 GB]"
     ]
    },
    {
     "name": "stderr",
     "output_type": "stream",
     "text": [
      "\r",
      "Val:  94%|█████████▍| 81/86 [03:56<00:14,  3.00s/it, eval_loss=0.0950, gpu_mem=6.91 GB]"
     ]
    },
    {
     "name": "stderr",
     "output_type": "stream",
     "text": [
      "\r",
      "Val:  95%|█████████▌| 82/86 [03:56<00:11,  2.96s/it, eval_loss=0.0950, gpu_mem=6.91 GB]"
     ]
    },
    {
     "name": "stderr",
     "output_type": "stream",
     "text": [
      "\r",
      "Val:  95%|█████████▌| 82/86 [03:59<00:11,  2.96s/it, eval_loss=0.0948, gpu_mem=6.91 GB]"
     ]
    },
    {
     "name": "stderr",
     "output_type": "stream",
     "text": [
      "\r",
      "Val:  97%|█████████▋| 83/86 [03:59<00:08,  2.97s/it, eval_loss=0.0948, gpu_mem=6.91 GB]"
     ]
    },
    {
     "name": "stderr",
     "output_type": "stream",
     "text": [
      "\r",
      "Val:  97%|█████████▋| 83/86 [04:03<00:08,  2.97s/it, eval_loss=0.0945, gpu_mem=6.91 GB]"
     ]
    },
    {
     "name": "stderr",
     "output_type": "stream",
     "text": [
      "\r",
      "Val:  98%|█████████▊| 84/86 [04:03<00:06,  3.16s/it, eval_loss=0.0945, gpu_mem=6.91 GB]"
     ]
    },
    {
     "name": "stderr",
     "output_type": "stream",
     "text": [
      "\r",
      "Val:  98%|█████████▊| 84/86 [04:05<00:06,  3.16s/it, eval_loss=0.0972, gpu_mem=6.91 GB]"
     ]
    },
    {
     "name": "stderr",
     "output_type": "stream",
     "text": [
      "\r",
      "Val:  99%|█████████▉| 85/86 [04:05<00:03,  3.01s/it, eval_loss=0.0972, gpu_mem=6.91 GB]"
     ]
    },
    {
     "name": "stderr",
     "output_type": "stream",
     "text": [
      "\r",
      "Val:  99%|█████████▉| 85/86 [04:06<00:03,  3.01s/it, eval_loss=0.0972, gpu_mem=6.91 GB]"
     ]
    },
    {
     "name": "stderr",
     "output_type": "stream",
     "text": [
      "\r",
      "Val: 100%|██████████| 86/86 [04:06<00:00,  2.27s/it, eval_loss=0.0972, gpu_mem=6.91 GB]"
     ]
    },
    {
     "name": "stderr",
     "output_type": "stream",
     "text": [
      "\r",
      "Val: 100%|██████████| 86/86 [04:06<00:00,  2.87s/it, eval_loss=0.0972, gpu_mem=6.91 GB]"
     ]
    },
    {
     "name": "stderr",
     "output_type": "stream",
     "text": [
      "\n",
      "Valid loss:0.0972\n"
     ]
    },
    {
     "name": "stderr",
     "output_type": "stream",
     "text": [
      "Val metric mean prob: 0.1867\n"
     ]
    },
    {
     "name": "stderr",
     "output_type": "stream",
     "text": [
      "Best metric at: 0.5111 0.3630  0.7308\n"
     ]
    },
    {
     "name": "stderr",
     "output_type": "stream",
     "text": [
      "Cf: [[2315   18]\n",
      " [  26   23]]\n"
     ]
    },
    {
     "name": "stderr",
     "output_type": "stream",
     "text": [
      "\u001b[32m[I 2023-02-15 04:21:59,382]\u001b[0m Trial 6 finished with value: 0.5111111111111111 and parameters: {'a1': 0.415315944810793}. Best is trial 0 with value: 0.5111111111111111.\u001b[0m\n"
     ]
    },
    {
     "name": "stdout",
     "output_type": "stream",
     "text": [
      "/kaggle/input/10folds/tf_efficientnetv2_b2_fold_1_model_epoch_3_0.5055_0.360.pth\n",
      "none:  /kaggle/input/10folds/tf_efficientnetv2_b2_fold_1_model_epoch_3_0.5055_0.360.pth\n",
      "/kaggle/input/10folds/tf_efficientnetv2_b2_fold_1_model_epoch_5_0.4865_0.324.pth\n",
      "hehe /kaggle/input/10folds/tf_efficientnetv2_b2_fold_1_model_epoch_5_0.4865_0.324.pth\n",
      "0.05783653792400003 0.942163462076\n",
      "\n"
     ]
    },
    {
     "name": "stderr",
     "output_type": "stream",
     "text": [
      "\r",
      "Val:   0%|          | 0/86 [00:00<?, ?it/s]"
     ]
    },
    {
     "name": "stderr",
     "output_type": "stream",
     "text": [
      "\r",
      "Val:   0%|          | 0/86 [00:04<?, ?it/s, eval_loss=0.0552, gpu_mem=6.91 GB]"
     ]
    },
    {
     "name": "stderr",
     "output_type": "stream",
     "text": [
      "\r",
      "Val:   1%|          | 1/86 [00:04<06:26,  4.55s/it, eval_loss=0.0552, gpu_mem=6.91 GB]"
     ]
    },
    {
     "name": "stderr",
     "output_type": "stream",
     "text": [
      "\r",
      "Val:   1%|          | 1/86 [00:06<06:26,  4.55s/it, eval_loss=0.0431, gpu_mem=6.91 GB]"
     ]
    },
    {
     "name": "stderr",
     "output_type": "stream",
     "text": [
      "\r",
      "Val:   2%|▏         | 2/86 [00:06<04:34,  3.26s/it, eval_loss=0.0431, gpu_mem=6.91 GB]"
     ]
    },
    {
     "name": "stderr",
     "output_type": "stream",
     "text": [
      "\r",
      "Val:   2%|▏         | 2/86 [00:09<04:34,  3.26s/it, eval_loss=0.0889, gpu_mem=6.91 GB]"
     ]
    },
    {
     "name": "stderr",
     "output_type": "stream",
     "text": [
      "\r",
      "Val:   3%|▎         | 3/86 [00:09<03:57,  2.86s/it, eval_loss=0.0889, gpu_mem=6.91 GB]"
     ]
    },
    {
     "name": "stderr",
     "output_type": "stream",
     "text": [
      "\r",
      "Val:   3%|▎         | 3/86 [00:12<03:57,  2.86s/it, eval_loss=0.0997, gpu_mem=6.91 GB]"
     ]
    },
    {
     "name": "stderr",
     "output_type": "stream",
     "text": [
      "\r",
      "Val:   5%|▍         | 4/86 [00:12<03:50,  2.81s/it, eval_loss=0.0997, gpu_mem=6.91 GB]"
     ]
    },
    {
     "name": "stderr",
     "output_type": "stream",
     "text": [
      "\r",
      "Val:   5%|▍         | 4/86 [00:14<03:50,  2.81s/it, eval_loss=0.0955, gpu_mem=6.91 GB]"
     ]
    },
    {
     "name": "stderr",
     "output_type": "stream",
     "text": [
      "\r",
      "Val:   6%|▌         | 5/86 [00:14<03:36,  2.67s/it, eval_loss=0.0955, gpu_mem=6.91 GB]"
     ]
    },
    {
     "name": "stderr",
     "output_type": "stream",
     "text": [
      "\r",
      "Val:   6%|▌         | 5/86 [00:16<03:36,  2.67s/it, eval_loss=0.0924, gpu_mem=6.91 GB]"
     ]
    },
    {
     "name": "stderr",
     "output_type": "stream",
     "text": [
      "\r",
      "Val:   7%|▋         | 6/86 [00:16<03:26,  2.58s/it, eval_loss=0.0924, gpu_mem=6.91 GB]"
     ]
    },
    {
     "name": "stderr",
     "output_type": "stream",
     "text": [
      "\r",
      "Val:   7%|▋         | 6/86 [00:19<03:26,  2.58s/it, eval_loss=0.0847, gpu_mem=6.91 GB]"
     ]
    },
    {
     "name": "stderr",
     "output_type": "stream",
     "text": [
      "\r",
      "Val:   8%|▊         | 7/86 [00:19<03:17,  2.50s/it, eval_loss=0.0847, gpu_mem=6.91 GB]"
     ]
    },
    {
     "name": "stderr",
     "output_type": "stream",
     "text": [
      "\r",
      "Val:   8%|▊         | 7/86 [00:21<03:17,  2.50s/it, eval_loss=0.0818, gpu_mem=6.91 GB]"
     ]
    },
    {
     "name": "stderr",
     "output_type": "stream",
     "text": [
      "\r",
      "Val:   9%|▉         | 8/86 [00:21<03:17,  2.54s/it, eval_loss=0.0818, gpu_mem=6.91 GB]"
     ]
    },
    {
     "name": "stderr",
     "output_type": "stream",
     "text": [
      "\r",
      "Val:   9%|▉         | 8/86 [00:24<03:17,  2.54s/it, eval_loss=0.0801, gpu_mem=6.91 GB]"
     ]
    },
    {
     "name": "stderr",
     "output_type": "stream",
     "text": [
      "\r",
      "Val:  10%|█         | 9/86 [00:24<03:26,  2.69s/it, eval_loss=0.0801, gpu_mem=6.91 GB]"
     ]
    },
    {
     "name": "stderr",
     "output_type": "stream",
     "text": [
      "\r",
      "Val:  10%|█         | 9/86 [00:27<03:26,  2.69s/it, eval_loss=0.0871, gpu_mem=6.91 GB]"
     ]
    },
    {
     "name": "stderr",
     "output_type": "stream",
     "text": [
      "\r",
      "Val:  12%|█▏        | 10/86 [00:27<03:19,  2.63s/it, eval_loss=0.0871, gpu_mem=6.91 GB]"
     ]
    },
    {
     "name": "stderr",
     "output_type": "stream",
     "text": [
      "\r",
      "Val:  12%|█▏        | 10/86 [00:29<03:19,  2.63s/it, eval_loss=0.0842, gpu_mem=6.91 GB]"
     ]
    },
    {
     "name": "stderr",
     "output_type": "stream",
     "text": [
      "\r",
      "Val:  13%|█▎        | 11/86 [00:29<03:10,  2.54s/it, eval_loss=0.0842, gpu_mem=6.91 GB]"
     ]
    },
    {
     "name": "stderr",
     "output_type": "stream",
     "text": [
      "\r",
      "Val:  13%|█▎        | 11/86 [00:32<03:10,  2.54s/it, eval_loss=0.0844, gpu_mem=6.91 GB]"
     ]
    },
    {
     "name": "stderr",
     "output_type": "stream",
     "text": [
      "\r",
      "Val:  14%|█▍        | 12/86 [00:32<03:07,  2.53s/it, eval_loss=0.0844, gpu_mem=6.91 GB]"
     ]
    },
    {
     "name": "stderr",
     "output_type": "stream",
     "text": [
      "\r",
      "Val:  14%|█▍        | 12/86 [00:34<03:07,  2.53s/it, eval_loss=0.0865, gpu_mem=6.91 GB]"
     ]
    },
    {
     "name": "stderr",
     "output_type": "stream",
     "text": [
      "\r",
      "Val:  15%|█▌        | 13/86 [00:34<03:06,  2.56s/it, eval_loss=0.0865, gpu_mem=6.91 GB]"
     ]
    },
    {
     "name": "stderr",
     "output_type": "stream",
     "text": [
      "\r",
      "Val:  15%|█▌        | 13/86 [00:37<03:06,  2.56s/it, eval_loss=0.0828, gpu_mem=6.91 GB]"
     ]
    },
    {
     "name": "stderr",
     "output_type": "stream",
     "text": [
      "\r",
      "Val:  16%|█▋        | 14/86 [00:37<02:59,  2.50s/it, eval_loss=0.0828, gpu_mem=6.91 GB]"
     ]
    },
    {
     "name": "stderr",
     "output_type": "stream",
     "text": [
      "\r",
      "Val:  16%|█▋        | 14/86 [00:39<02:59,  2.50s/it, eval_loss=0.0800, gpu_mem=6.91 GB]"
     ]
    },
    {
     "name": "stderr",
     "output_type": "stream",
     "text": [
      "\r",
      "Val:  17%|█▋        | 15/86 [00:39<02:54,  2.46s/it, eval_loss=0.0800, gpu_mem=6.91 GB]"
     ]
    },
    {
     "name": "stderr",
     "output_type": "stream",
     "text": [
      "\r",
      "Val:  17%|█▋        | 15/86 [00:41<02:54,  2.46s/it, eval_loss=0.0781, gpu_mem=6.91 GB]"
     ]
    },
    {
     "name": "stderr",
     "output_type": "stream",
     "text": [
      "\r",
      "Val:  19%|█▊        | 16/86 [00:41<02:50,  2.44s/it, eval_loss=0.0781, gpu_mem=6.91 GB]"
     ]
    },
    {
     "name": "stderr",
     "output_type": "stream",
     "text": [
      "\r",
      "Val:  19%|█▊        | 16/86 [00:44<02:50,  2.44s/it, eval_loss=0.0782, gpu_mem=6.91 GB]"
     ]
    },
    {
     "name": "stderr",
     "output_type": "stream",
     "text": [
      "\r",
      "Val:  20%|█▉        | 17/86 [00:44<02:53,  2.51s/it, eval_loss=0.0782, gpu_mem=6.91 GB]"
     ]
    },
    {
     "name": "stderr",
     "output_type": "stream",
     "text": [
      "\r",
      "Val:  20%|█▉        | 17/86 [00:46<02:53,  2.51s/it, eval_loss=0.0777, gpu_mem=6.91 GB]"
     ]
    },
    {
     "name": "stderr",
     "output_type": "stream",
     "text": [
      "\r",
      "Val:  21%|██        | 18/86 [00:46<02:48,  2.47s/it, eval_loss=0.0777, gpu_mem=6.91 GB]"
     ]
    },
    {
     "name": "stderr",
     "output_type": "stream",
     "text": [
      "\r",
      "Val:  21%|██        | 18/86 [00:49<02:48,  2.47s/it, eval_loss=0.0779, gpu_mem=6.91 GB]"
     ]
    },
    {
     "name": "stderr",
     "output_type": "stream",
     "text": [
      "\r",
      "Val:  22%|██▏       | 19/86 [00:49<02:43,  2.44s/it, eval_loss=0.0779, gpu_mem=6.91 GB]"
     ]
    },
    {
     "name": "stderr",
     "output_type": "stream",
     "text": [
      "\r",
      "Val:  22%|██▏       | 19/86 [00:51<02:43,  2.44s/it, eval_loss=0.0785, gpu_mem=6.91 GB]"
     ]
    },
    {
     "name": "stderr",
     "output_type": "stream",
     "text": [
      "\r",
      "Val:  23%|██▎       | 20/86 [00:51<02:39,  2.42s/it, eval_loss=0.0785, gpu_mem=6.91 GB]"
     ]
    },
    {
     "name": "stderr",
     "output_type": "stream",
     "text": [
      "\r",
      "Val:  23%|██▎       | 20/86 [00:54<02:39,  2.42s/it, eval_loss=0.0771, gpu_mem=6.91 GB]"
     ]
    },
    {
     "name": "stderr",
     "output_type": "stream",
     "text": [
      "\r",
      "Val:  24%|██▍       | 21/86 [00:54<02:37,  2.43s/it, eval_loss=0.0771, gpu_mem=6.91 GB]"
     ]
    },
    {
     "name": "stderr",
     "output_type": "stream",
     "text": [
      "\r",
      "Val:  24%|██▍       | 21/86 [00:57<02:37,  2.43s/it, eval_loss=0.0804, gpu_mem=6.91 GB]"
     ]
    },
    {
     "name": "stderr",
     "output_type": "stream",
     "text": [
      "\r",
      "Val:  26%|██▌       | 22/86 [00:57<02:49,  2.65s/it, eval_loss=0.0804, gpu_mem=6.91 GB]"
     ]
    },
    {
     "name": "stderr",
     "output_type": "stream",
     "text": [
      "\r",
      "Val:  26%|██▌       | 22/86 [00:59<02:49,  2.65s/it, eval_loss=0.0844, gpu_mem=6.91 GB]"
     ]
    },
    {
     "name": "stderr",
     "output_type": "stream",
     "text": [
      "\r",
      "Val:  27%|██▋       | 23/86 [00:59<02:41,  2.56s/it, eval_loss=0.0844, gpu_mem=6.91 GB]"
     ]
    },
    {
     "name": "stderr",
     "output_type": "stream",
     "text": [
      "\r",
      "Val:  27%|██▋       | 23/86 [01:02<02:41,  2.56s/it, eval_loss=0.0839, gpu_mem=6.91 GB]"
     ]
    },
    {
     "name": "stderr",
     "output_type": "stream",
     "text": [
      "\r",
      "Val:  28%|██▊       | 24/86 [01:02<02:36,  2.52s/it, eval_loss=0.0839, gpu_mem=6.91 GB]"
     ]
    },
    {
     "name": "stderr",
     "output_type": "stream",
     "text": [
      "\r",
      "Val:  28%|██▊       | 24/86 [01:04<02:36,  2.52s/it, eval_loss=0.0837, gpu_mem=6.91 GB]"
     ]
    },
    {
     "name": "stderr",
     "output_type": "stream",
     "text": [
      "\r",
      "Val:  29%|██▉       | 25/86 [01:04<02:31,  2.48s/it, eval_loss=0.0837, gpu_mem=6.91 GB]"
     ]
    },
    {
     "name": "stderr",
     "output_type": "stream",
     "text": [
      "\r",
      "Val:  29%|██▉       | 25/86 [01:07<02:31,  2.48s/it, eval_loss=0.0816, gpu_mem=6.91 GB]"
     ]
    },
    {
     "name": "stderr",
     "output_type": "stream",
     "text": [
      "\r",
      "Val:  30%|███       | 26/86 [01:07<02:32,  2.54s/it, eval_loss=0.0816, gpu_mem=6.91 GB]"
     ]
    },
    {
     "name": "stderr",
     "output_type": "stream",
     "text": [
      "\r",
      "Val:  30%|███       | 26/86 [01:09<02:32,  2.54s/it, eval_loss=0.0853, gpu_mem=6.91 GB]"
     ]
    },
    {
     "name": "stderr",
     "output_type": "stream",
     "text": [
      "\r",
      "Val:  31%|███▏      | 27/86 [01:09<02:26,  2.49s/it, eval_loss=0.0853, gpu_mem=6.91 GB]"
     ]
    },
    {
     "name": "stderr",
     "output_type": "stream",
     "text": [
      "\r",
      "Val:  31%|███▏      | 27/86 [01:11<02:26,  2.49s/it, eval_loss=0.0848, gpu_mem=6.91 GB]"
     ]
    },
    {
     "name": "stderr",
     "output_type": "stream",
     "text": [
      "\r",
      "Val:  33%|███▎      | 28/86 [01:11<02:22,  2.45s/it, eval_loss=0.0848, gpu_mem=6.91 GB]"
     ]
    },
    {
     "name": "stderr",
     "output_type": "stream",
     "text": [
      "\r",
      "Val:  33%|███▎      | 28/86 [01:14<02:22,  2.45s/it, eval_loss=0.0838, gpu_mem=6.91 GB]"
     ]
    },
    {
     "name": "stderr",
     "output_type": "stream",
     "text": [
      "\r",
      "Val:  34%|███▎      | 29/86 [01:14<02:18,  2.43s/it, eval_loss=0.0838, gpu_mem=6.91 GB]"
     ]
    },
    {
     "name": "stderr",
     "output_type": "stream",
     "text": [
      "\r",
      "Val:  34%|███▎      | 29/86 [01:16<02:18,  2.43s/it, eval_loss=0.0838, gpu_mem=6.91 GB]"
     ]
    },
    {
     "name": "stderr",
     "output_type": "stream",
     "text": [
      "\r",
      "Val:  35%|███▍      | 30/86 [01:16<02:19,  2.50s/it, eval_loss=0.0838, gpu_mem=6.91 GB]"
     ]
    },
    {
     "name": "stderr",
     "output_type": "stream",
     "text": [
      "\r",
      "Val:  35%|███▍      | 30/86 [01:19<02:19,  2.50s/it, eval_loss=0.0830, gpu_mem=6.91 GB]"
     ]
    },
    {
     "name": "stderr",
     "output_type": "stream",
     "text": [
      "\r",
      "Val:  36%|███▌      | 31/86 [01:19<02:15,  2.47s/it, eval_loss=0.0830, gpu_mem=6.91 GB]"
     ]
    },
    {
     "name": "stderr",
     "output_type": "stream",
     "text": [
      "\r",
      "Val:  36%|███▌      | 31/86 [01:21<02:15,  2.47s/it, eval_loss=0.0905, gpu_mem=6.91 GB]"
     ]
    },
    {
     "name": "stderr",
     "output_type": "stream",
     "text": [
      "\r",
      "Val:  37%|███▋      | 32/86 [01:21<02:11,  2.44s/it, eval_loss=0.0905, gpu_mem=6.91 GB]"
     ]
    },
    {
     "name": "stderr",
     "output_type": "stream",
     "text": [
      "\r",
      "Val:  37%|███▋      | 32/86 [01:24<02:11,  2.44s/it, eval_loss=0.0886, gpu_mem=6.91 GB]"
     ]
    },
    {
     "name": "stderr",
     "output_type": "stream",
     "text": [
      "\r",
      "Val:  38%|███▊      | 33/86 [01:24<02:08,  2.42s/it, eval_loss=0.0886, gpu_mem=6.91 GB]"
     ]
    },
    {
     "name": "stderr",
     "output_type": "stream",
     "text": [
      "\r",
      "Val:  38%|███▊      | 33/86 [01:26<02:08,  2.42s/it, eval_loss=0.0899, gpu_mem=6.91 GB]"
     ]
    },
    {
     "name": "stderr",
     "output_type": "stream",
     "text": [
      "\r",
      "Val:  40%|███▉      | 34/86 [01:26<02:04,  2.40s/it, eval_loss=0.0899, gpu_mem=6.91 GB]"
     ]
    },
    {
     "name": "stderr",
     "output_type": "stream",
     "text": [
      "\r",
      "Val:  40%|███▉      | 34/86 [01:29<02:04,  2.40s/it, eval_loss=0.0889, gpu_mem=6.91 GB]"
     ]
    },
    {
     "name": "stderr",
     "output_type": "stream",
     "text": [
      "\r",
      "Val:  41%|████      | 35/86 [01:29<02:12,  2.59s/it, eval_loss=0.0889, gpu_mem=6.91 GB]"
     ]
    },
    {
     "name": "stderr",
     "output_type": "stream",
     "text": [
      "\r",
      "Val:  41%|████      | 35/86 [01:31<02:12,  2.59s/it, eval_loss=0.0875, gpu_mem=6.91 GB]"
     ]
    },
    {
     "name": "stderr",
     "output_type": "stream",
     "text": [
      "\r",
      "Val:  42%|████▏     | 36/86 [01:31<02:06,  2.52s/it, eval_loss=0.0875, gpu_mem=6.91 GB]"
     ]
    },
    {
     "name": "stderr",
     "output_type": "stream",
     "text": [
      "\r",
      "Val:  42%|████▏     | 36/86 [01:34<02:06,  2.52s/it, eval_loss=0.0881, gpu_mem=6.91 GB]"
     ]
    },
    {
     "name": "stderr",
     "output_type": "stream",
     "text": [
      "\r",
      "Val:  43%|████▎     | 37/86 [01:34<02:01,  2.49s/it, eval_loss=0.0881, gpu_mem=6.91 GB]"
     ]
    },
    {
     "name": "stderr",
     "output_type": "stream",
     "text": [
      "\r",
      "Val:  43%|████▎     | 37/86 [01:36<02:01,  2.49s/it, eval_loss=0.0879, gpu_mem=6.91 GB]"
     ]
    },
    {
     "name": "stderr",
     "output_type": "stream",
     "text": [
      "\r",
      "Val:  44%|████▍     | 38/86 [01:36<01:57,  2.45s/it, eval_loss=0.0879, gpu_mem=6.91 GB]"
     ]
    },
    {
     "name": "stderr",
     "output_type": "stream",
     "text": [
      "\r",
      "Val:  44%|████▍     | 38/86 [01:39<01:57,  2.45s/it, eval_loss=0.0865, gpu_mem=6.91 GB]"
     ]
    },
    {
     "name": "stderr",
     "output_type": "stream",
     "text": [
      "\r",
      "Val:  45%|████▌     | 39/86 [01:39<01:57,  2.49s/it, eval_loss=0.0865, gpu_mem=6.91 GB]"
     ]
    },
    {
     "name": "stderr",
     "output_type": "stream",
     "text": [
      "\r",
      "Val:  45%|████▌     | 39/86 [01:41<01:57,  2.49s/it, eval_loss=0.0864, gpu_mem=6.91 GB]"
     ]
    },
    {
     "name": "stderr",
     "output_type": "stream",
     "text": [
      "\r",
      "Val:  47%|████▋     | 40/86 [01:41<01:55,  2.50s/it, eval_loss=0.0864, gpu_mem=6.91 GB]"
     ]
    },
    {
     "name": "stderr",
     "output_type": "stream",
     "text": [
      "\r",
      "Val:  47%|████▋     | 40/86 [01:44<01:55,  2.50s/it, eval_loss=0.0859, gpu_mem=6.91 GB]"
     ]
    },
    {
     "name": "stderr",
     "output_type": "stream",
     "text": [
      "\r",
      "Val:  48%|████▊     | 41/86 [01:44<01:50,  2.47s/it, eval_loss=0.0859, gpu_mem=6.91 GB]"
     ]
    },
    {
     "name": "stderr",
     "output_type": "stream",
     "text": [
      "\r",
      "Val:  48%|████▊     | 41/86 [01:46<01:50,  2.47s/it, eval_loss=0.0854, gpu_mem=6.91 GB]"
     ]
    },
    {
     "name": "stderr",
     "output_type": "stream",
     "text": [
      "\r",
      "Val:  49%|████▉     | 42/86 [01:46<01:48,  2.45s/it, eval_loss=0.0854, gpu_mem=6.91 GB]"
     ]
    },
    {
     "name": "stderr",
     "output_type": "stream",
     "text": [
      "\r",
      "Val:  49%|████▉     | 42/86 [01:48<01:48,  2.45s/it, eval_loss=0.0845, gpu_mem=6.91 GB]"
     ]
    },
    {
     "name": "stderr",
     "output_type": "stream",
     "text": [
      "\r",
      "Val:  50%|█████     | 43/86 [01:48<01:45,  2.44s/it, eval_loss=0.0845, gpu_mem=6.91 GB]"
     ]
    },
    {
     "name": "stderr",
     "output_type": "stream",
     "text": [
      "\r",
      "Val:  50%|█████     | 43/86 [01:51<01:45,  2.44s/it, eval_loss=0.0877, gpu_mem=6.91 GB]"
     ]
    },
    {
     "name": "stderr",
     "output_type": "stream",
     "text": [
      "\r",
      "Val:  51%|█████     | 44/86 [01:51<01:42,  2.44s/it, eval_loss=0.0877, gpu_mem=6.91 GB]"
     ]
    },
    {
     "name": "stderr",
     "output_type": "stream",
     "text": [
      "\r",
      "Val:  51%|█████     | 44/86 [01:53<01:42,  2.44s/it, eval_loss=0.0864, gpu_mem=6.91 GB]"
     ]
    },
    {
     "name": "stderr",
     "output_type": "stream",
     "text": [
      "\r",
      "Val:  52%|█████▏    | 45/86 [01:53<01:39,  2.42s/it, eval_loss=0.0864, gpu_mem=6.91 GB]"
     ]
    },
    {
     "name": "stderr",
     "output_type": "stream",
     "text": [
      "\r",
      "Val:  52%|█████▏    | 45/86 [01:56<01:39,  2.42s/it, eval_loss=0.0863, gpu_mem=6.91 GB]"
     ]
    },
    {
     "name": "stderr",
     "output_type": "stream",
     "text": [
      "\r",
      "Val:  53%|█████▎    | 46/86 [01:56<01:36,  2.41s/it, eval_loss=0.0863, gpu_mem=6.91 GB]"
     ]
    },
    {
     "name": "stderr",
     "output_type": "stream",
     "text": [
      "\r",
      "Val:  53%|█████▎    | 46/86 [01:58<01:36,  2.41s/it, eval_loss=0.0856, gpu_mem=6.91 GB]"
     ]
    },
    {
     "name": "stderr",
     "output_type": "stream",
     "text": [
      "\r",
      "Val:  55%|█████▍    | 47/86 [01:58<01:33,  2.40s/it, eval_loss=0.0856, gpu_mem=6.91 GB]"
     ]
    },
    {
     "name": "stderr",
     "output_type": "stream",
     "text": [
      "\r",
      "Val:  55%|█████▍    | 47/86 [02:01<01:33,  2.40s/it, eval_loss=0.0874, gpu_mem=6.91 GB]"
     ]
    },
    {
     "name": "stderr",
     "output_type": "stream",
     "text": [
      "\r",
      "Val:  56%|█████▌    | 48/86 [02:01<01:36,  2.54s/it, eval_loss=0.0874, gpu_mem=6.91 GB]"
     ]
    },
    {
     "name": "stderr",
     "output_type": "stream",
     "text": [
      "\r",
      "Val:  56%|█████▌    | 48/86 [02:03<01:36,  2.54s/it, eval_loss=0.0869, gpu_mem=6.91 GB]"
     ]
    },
    {
     "name": "stderr",
     "output_type": "stream",
     "text": [
      "\r",
      "Val:  57%|█████▋    | 49/86 [02:03<01:31,  2.49s/it, eval_loss=0.0869, gpu_mem=6.91 GB]"
     ]
    },
    {
     "name": "stderr",
     "output_type": "stream",
     "text": [
      "\r",
      "Val:  57%|█████▋    | 49/86 [02:06<01:31,  2.49s/it, eval_loss=0.0866, gpu_mem=6.91 GB]"
     ]
    },
    {
     "name": "stderr",
     "output_type": "stream",
     "text": [
      "\r",
      "Val:  58%|█████▊    | 50/86 [02:06<01:28,  2.45s/it, eval_loss=0.0866, gpu_mem=6.91 GB]"
     ]
    },
    {
     "name": "stderr",
     "output_type": "stream",
     "text": [
      "\r",
      "Val:  58%|█████▊    | 50/86 [02:08<01:28,  2.45s/it, eval_loss=0.0895, gpu_mem=6.91 GB]"
     ]
    },
    {
     "name": "stderr",
     "output_type": "stream",
     "text": [
      "\r",
      "Val:  59%|█████▉    | 51/86 [02:08<01:25,  2.43s/it, eval_loss=0.0895, gpu_mem=6.91 GB]"
     ]
    },
    {
     "name": "stderr",
     "output_type": "stream",
     "text": [
      "\r",
      "Val:  59%|█████▉    | 51/86 [02:10<01:25,  2.43s/it, eval_loss=0.0909, gpu_mem=6.91 GB]"
     ]
    },
    {
     "name": "stderr",
     "output_type": "stream",
     "text": [
      "\r",
      "Val:  60%|██████    | 52/86 [02:10<01:21,  2.40s/it, eval_loss=0.0909, gpu_mem=6.91 GB]"
     ]
    },
    {
     "name": "stderr",
     "output_type": "stream",
     "text": [
      "\r",
      "Val:  60%|██████    | 52/86 [02:13<01:21,  2.40s/it, eval_loss=0.0922, gpu_mem=6.91 GB]"
     ]
    },
    {
     "name": "stderr",
     "output_type": "stream",
     "text": [
      "\r",
      "Val:  62%|██████▏   | 53/86 [02:13<01:19,  2.40s/it, eval_loss=0.0922, gpu_mem=6.91 GB]"
     ]
    },
    {
     "name": "stderr",
     "output_type": "stream",
     "text": [
      "\r",
      "Val:  62%|██████▏   | 53/86 [02:15<01:19,  2.40s/it, eval_loss=0.0915, gpu_mem=6.91 GB]"
     ]
    },
    {
     "name": "stderr",
     "output_type": "stream",
     "text": [
      "\r",
      "Val:  63%|██████▎   | 54/86 [02:15<01:16,  2.38s/it, eval_loss=0.0915, gpu_mem=6.91 GB]"
     ]
    },
    {
     "name": "stderr",
     "output_type": "stream",
     "text": [
      "\r",
      "Val:  63%|██████▎   | 54/86 [02:17<01:16,  2.38s/it, eval_loss=0.0922, gpu_mem=6.91 GB]"
     ]
    },
    {
     "name": "stderr",
     "output_type": "stream",
     "text": [
      "\r",
      "Val:  64%|██████▍   | 55/86 [02:17<01:13,  2.38s/it, eval_loss=0.0922, gpu_mem=6.91 GB]"
     ]
    },
    {
     "name": "stderr",
     "output_type": "stream",
     "text": [
      "\r",
      "Val:  64%|██████▍   | 55/86 [02:20<01:13,  2.38s/it, eval_loss=0.0918, gpu_mem=6.91 GB]"
     ]
    },
    {
     "name": "stderr",
     "output_type": "stream",
     "text": [
      "\r",
      "Val:  65%|██████▌   | 56/86 [02:20<01:11,  2.38s/it, eval_loss=0.0918, gpu_mem=6.91 GB]"
     ]
    },
    {
     "name": "stderr",
     "output_type": "stream",
     "text": [
      "\r",
      "Val:  65%|██████▌   | 56/86 [02:22<01:11,  2.38s/it, eval_loss=0.0917, gpu_mem=6.91 GB]"
     ]
    },
    {
     "name": "stderr",
     "output_type": "stream",
     "text": [
      "\r",
      "Val:  66%|██████▋   | 57/86 [02:22<01:09,  2.40s/it, eval_loss=0.0917, gpu_mem=6.91 GB]"
     ]
    },
    {
     "name": "stderr",
     "output_type": "stream",
     "text": [
      "\r",
      "Val:  66%|██████▋   | 57/86 [02:25<01:09,  2.40s/it, eval_loss=0.0940, gpu_mem=6.91 GB]"
     ]
    },
    {
     "name": "stderr",
     "output_type": "stream",
     "text": [
      "\r",
      "Val:  67%|██████▋   | 58/86 [02:25<01:06,  2.38s/it, eval_loss=0.0940, gpu_mem=6.91 GB]"
     ]
    },
    {
     "name": "stderr",
     "output_type": "stream",
     "text": [
      "\r",
      "Val:  67%|██████▋   | 58/86 [02:27<01:06,  2.38s/it, eval_loss=0.0935, gpu_mem=6.91 GB]"
     ]
    },
    {
     "name": "stderr",
     "output_type": "stream",
     "text": [
      "\r",
      "Val:  69%|██████▊   | 59/86 [02:27<01:04,  2.40s/it, eval_loss=0.0935, gpu_mem=6.91 GB]"
     ]
    },
    {
     "name": "stderr",
     "output_type": "stream",
     "text": [
      "\r",
      "Val:  69%|██████▊   | 59/86 [02:30<01:04,  2.40s/it, eval_loss=0.0953, gpu_mem=6.91 GB]"
     ]
    },
    {
     "name": "stderr",
     "output_type": "stream",
     "text": [
      "\r",
      "Val:  70%|██████▉   | 60/86 [02:30<01:04,  2.46s/it, eval_loss=0.0953, gpu_mem=6.91 GB]"
     ]
    },
    {
     "name": "stderr",
     "output_type": "stream",
     "text": [
      "\r",
      "Val:  70%|██████▉   | 60/86 [02:33<01:04,  2.46s/it, eval_loss=0.0947, gpu_mem=6.91 GB]"
     ]
    },
    {
     "name": "stderr",
     "output_type": "stream",
     "text": [
      "\r",
      "Val:  71%|███████   | 61/86 [02:33<01:04,  2.59s/it, eval_loss=0.0947, gpu_mem=6.91 GB]"
     ]
    },
    {
     "name": "stderr",
     "output_type": "stream",
     "text": [
      "\r",
      "Val:  71%|███████   | 61/86 [02:35<01:04,  2.59s/it, eval_loss=0.0943, gpu_mem=6.91 GB]"
     ]
    },
    {
     "name": "stderr",
     "output_type": "stream",
     "text": [
      "\r",
      "Val:  72%|███████▏  | 62/86 [02:35<01:00,  2.51s/it, eval_loss=0.0943, gpu_mem=6.91 GB]"
     ]
    },
    {
     "name": "stderr",
     "output_type": "stream",
     "text": [
      "\r",
      "Val:  72%|███████▏  | 62/86 [02:37<01:00,  2.51s/it, eval_loss=0.0942, gpu_mem=6.91 GB]"
     ]
    },
    {
     "name": "stderr",
     "output_type": "stream",
     "text": [
      "\r",
      "Val:  73%|███████▎  | 63/86 [02:37<00:56,  2.47s/it, eval_loss=0.0942, gpu_mem=6.91 GB]"
     ]
    },
    {
     "name": "stderr",
     "output_type": "stream",
     "text": [
      "\r",
      "Val:  73%|███████▎  | 63/86 [02:40<00:56,  2.47s/it, eval_loss=0.0941, gpu_mem=6.91 GB]"
     ]
    },
    {
     "name": "stderr",
     "output_type": "stream",
     "text": [
      "\r",
      "Val:  74%|███████▍  | 64/86 [02:40<00:54,  2.50s/it, eval_loss=0.0941, gpu_mem=6.91 GB]"
     ]
    },
    {
     "name": "stderr",
     "output_type": "stream",
     "text": [
      "\r",
      "Val:  74%|███████▍  | 64/86 [02:42<00:54,  2.50s/it, eval_loss=0.0932, gpu_mem=6.91 GB]"
     ]
    },
    {
     "name": "stderr",
     "output_type": "stream",
     "text": [
      "\r",
      "Val:  76%|███████▌  | 65/86 [02:42<00:51,  2.45s/it, eval_loss=0.0932, gpu_mem=6.91 GB]"
     ]
    },
    {
     "name": "stderr",
     "output_type": "stream",
     "text": [
      "\r",
      "Val:  76%|███████▌  | 65/86 [02:44<00:51,  2.45s/it, eval_loss=0.0950, gpu_mem=6.91 GB]"
     ]
    },
    {
     "name": "stderr",
     "output_type": "stream",
     "text": [
      "\r",
      "Val:  77%|███████▋  | 66/86 [02:44<00:48,  2.42s/it, eval_loss=0.0950, gpu_mem=6.91 GB]"
     ]
    },
    {
     "name": "stderr",
     "output_type": "stream",
     "text": [
      "\r",
      "Val:  77%|███████▋  | 66/86 [02:47<00:48,  2.42s/it, eval_loss=0.0942, gpu_mem=6.91 GB]"
     ]
    },
    {
     "name": "stderr",
     "output_type": "stream",
     "text": [
      "\r",
      "Val:  78%|███████▊  | 67/86 [02:47<00:46,  2.44s/it, eval_loss=0.0942, gpu_mem=6.91 GB]"
     ]
    },
    {
     "name": "stderr",
     "output_type": "stream",
     "text": [
      "\r",
      "Val:  78%|███████▊  | 67/86 [02:49<00:46,  2.44s/it, eval_loss=0.0966, gpu_mem=6.91 GB]"
     ]
    },
    {
     "name": "stderr",
     "output_type": "stream",
     "text": [
      "\r",
      "Val:  79%|███████▉  | 68/86 [02:49<00:44,  2.45s/it, eval_loss=0.0966, gpu_mem=6.91 GB]"
     ]
    },
    {
     "name": "stderr",
     "output_type": "stream",
     "text": [
      "\r",
      "Val:  79%|███████▉  | 68/86 [02:52<00:44,  2.45s/it, eval_loss=0.0967, gpu_mem=6.91 GB]"
     ]
    },
    {
     "name": "stderr",
     "output_type": "stream",
     "text": [
      "\r",
      "Val:  80%|████████  | 69/86 [02:52<00:42,  2.49s/it, eval_loss=0.0967, gpu_mem=6.91 GB]"
     ]
    },
    {
     "name": "stderr",
     "output_type": "stream",
     "text": [
      "\r",
      "Val:  80%|████████  | 69/86 [02:54<00:42,  2.49s/it, eval_loss=0.0964, gpu_mem=6.91 GB]"
     ]
    },
    {
     "name": "stderr",
     "output_type": "stream",
     "text": [
      "\r",
      "Val:  81%|████████▏ | 70/86 [02:54<00:39,  2.46s/it, eval_loss=0.0964, gpu_mem=6.91 GB]"
     ]
    },
    {
     "name": "stderr",
     "output_type": "stream",
     "text": [
      "\r",
      "Val:  81%|████████▏ | 70/86 [02:57<00:39,  2.46s/it, eval_loss=0.0971, gpu_mem=6.91 GB]"
     ]
    },
    {
     "name": "stderr",
     "output_type": "stream",
     "text": [
      "\r",
      "Val:  83%|████████▎ | 71/86 [02:57<00:36,  2.46s/it, eval_loss=0.0971, gpu_mem=6.91 GB]"
     ]
    },
    {
     "name": "stderr",
     "output_type": "stream",
     "text": [
      "\r",
      "Val:  83%|████████▎ | 71/86 [02:59<00:36,  2.46s/it, eval_loss=0.0967, gpu_mem=6.91 GB]"
     ]
    },
    {
     "name": "stderr",
     "output_type": "stream",
     "text": [
      "\r",
      "Val:  84%|████████▎ | 72/86 [02:59<00:34,  2.45s/it, eval_loss=0.0967, gpu_mem=6.91 GB]"
     ]
    },
    {
     "name": "stderr",
     "output_type": "stream",
     "text": [
      "\r",
      "Val:  84%|████████▎ | 72/86 [03:02<00:34,  2.45s/it, eval_loss=0.0964, gpu_mem=6.91 GB]"
     ]
    },
    {
     "name": "stderr",
     "output_type": "stream",
     "text": [
      "\r",
      "Val:  85%|████████▍ | 73/86 [03:02<00:32,  2.49s/it, eval_loss=0.0964, gpu_mem=6.91 GB]"
     ]
    },
    {
     "name": "stderr",
     "output_type": "stream",
     "text": [
      "\r",
      "Val:  85%|████████▍ | 73/86 [03:05<00:32,  2.49s/it, eval_loss=0.0967, gpu_mem=6.91 GB]"
     ]
    },
    {
     "name": "stderr",
     "output_type": "stream",
     "text": [
      "\r",
      "Val:  86%|████████▌ | 74/86 [03:05<00:31,  2.60s/it, eval_loss=0.0967, gpu_mem=6.91 GB]"
     ]
    },
    {
     "name": "stderr",
     "output_type": "stream",
     "text": [
      "\r",
      "Val:  86%|████████▌ | 74/86 [03:07<00:31,  2.60s/it, eval_loss=0.0961, gpu_mem=6.91 GB]"
     ]
    },
    {
     "name": "stderr",
     "output_type": "stream",
     "text": [
      "\r",
      "Val:  87%|████████▋ | 75/86 [03:07<00:28,  2.56s/it, eval_loss=0.0961, gpu_mem=6.91 GB]"
     ]
    },
    {
     "name": "stderr",
     "output_type": "stream",
     "text": [
      "\r",
      "Val:  87%|████████▋ | 75/86 [03:10<00:28,  2.56s/it, eval_loss=0.0955, gpu_mem=6.91 GB]"
     ]
    },
    {
     "name": "stderr",
     "output_type": "stream",
     "text": [
      "\r",
      "Val:  88%|████████▊ | 76/86 [03:10<00:25,  2.50s/it, eval_loss=0.0955, gpu_mem=6.91 GB]"
     ]
    },
    {
     "name": "stderr",
     "output_type": "stream",
     "text": [
      "\r",
      "Val:  88%|████████▊ | 76/86 [03:12<00:25,  2.50s/it, eval_loss=0.0966, gpu_mem=6.91 GB]"
     ]
    },
    {
     "name": "stderr",
     "output_type": "stream",
     "text": [
      "\r",
      "Val:  90%|████████▉ | 77/86 [03:12<00:22,  2.50s/it, eval_loss=0.0966, gpu_mem=6.91 GB]"
     ]
    },
    {
     "name": "stderr",
     "output_type": "stream",
     "text": [
      "\r",
      "Val:  90%|████████▉ | 77/86 [03:15<00:22,  2.50s/it, eval_loss=0.0959, gpu_mem=6.91 GB]"
     ]
    },
    {
     "name": "stderr",
     "output_type": "stream",
     "text": [
      "\r",
      "Val:  91%|█████████ | 78/86 [03:15<00:20,  2.52s/it, eval_loss=0.0959, gpu_mem=6.91 GB]"
     ]
    },
    {
     "name": "stderr",
     "output_type": "stream",
     "text": [
      "\r",
      "Val:  91%|█████████ | 78/86 [03:17<00:20,  2.52s/it, eval_loss=0.0958, gpu_mem=6.91 GB]"
     ]
    },
    {
     "name": "stderr",
     "output_type": "stream",
     "text": [
      "\r",
      "Val:  92%|█████████▏| 79/86 [03:17<00:17,  2.48s/it, eval_loss=0.0958, gpu_mem=6.91 GB]"
     ]
    },
    {
     "name": "stderr",
     "output_type": "stream",
     "text": [
      "\r",
      "Val:  92%|█████████▏| 79/86 [03:19<00:17,  2.48s/it, eval_loss=0.0960, gpu_mem=6.91 GB]"
     ]
    },
    {
     "name": "stderr",
     "output_type": "stream",
     "text": [
      "\r",
      "Val:  93%|█████████▎| 80/86 [03:19<00:14,  2.43s/it, eval_loss=0.0960, gpu_mem=6.91 GB]"
     ]
    },
    {
     "name": "stderr",
     "output_type": "stream",
     "text": [
      "\r",
      "Val:  93%|█████████▎| 80/86 [03:22<00:14,  2.43s/it, eval_loss=0.0954, gpu_mem=6.91 GB]"
     ]
    },
    {
     "name": "stderr",
     "output_type": "stream",
     "text": [
      "\r",
      "Val:  94%|█████████▍| 81/86 [03:22<00:12,  2.41s/it, eval_loss=0.0954, gpu_mem=6.91 GB]"
     ]
    },
    {
     "name": "stderr",
     "output_type": "stream",
     "text": [
      "\r",
      "Val:  94%|█████████▍| 81/86 [03:24<00:12,  2.41s/it, eval_loss=0.0950, gpu_mem=6.91 GB]"
     ]
    },
    {
     "name": "stderr",
     "output_type": "stream",
     "text": [
      "\r",
      "Val:  95%|█████████▌| 82/86 [03:24<00:09,  2.48s/it, eval_loss=0.0950, gpu_mem=6.91 GB]"
     ]
    },
    {
     "name": "stderr",
     "output_type": "stream",
     "text": [
      "\r",
      "Val:  95%|█████████▌| 82/86 [03:27<00:09,  2.48s/it, eval_loss=0.0948, gpu_mem=6.91 GB]"
     ]
    },
    {
     "name": "stderr",
     "output_type": "stream",
     "text": [
      "\r",
      "Val:  97%|█████████▋| 83/86 [03:27<00:07,  2.49s/it, eval_loss=0.0948, gpu_mem=6.91 GB]"
     ]
    },
    {
     "name": "stderr",
     "output_type": "stream",
     "text": [
      "\r",
      "Val:  97%|█████████▋| 83/86 [03:29<00:07,  2.49s/it, eval_loss=0.0945, gpu_mem=6.91 GB]"
     ]
    },
    {
     "name": "stderr",
     "output_type": "stream",
     "text": [
      "\r",
      "Val:  98%|█████████▊| 84/86 [03:29<00:04,  2.45s/it, eval_loss=0.0945, gpu_mem=6.91 GB]"
     ]
    },
    {
     "name": "stderr",
     "output_type": "stream",
     "text": [
      "\r",
      "Val:  98%|█████████▊| 84/86 [03:32<00:04,  2.45s/it, eval_loss=0.0972, gpu_mem=6.91 GB]"
     ]
    },
    {
     "name": "stderr",
     "output_type": "stream",
     "text": [
      "\r",
      "Val:  99%|█████████▉| 85/86 [03:32<00:02,  2.43s/it, eval_loss=0.0972, gpu_mem=6.91 GB]"
     ]
    },
    {
     "name": "stderr",
     "output_type": "stream",
     "text": [
      "\r",
      "Val:  99%|█████████▉| 85/86 [03:32<00:02,  2.43s/it, eval_loss=0.0972, gpu_mem=6.91 GB]"
     ]
    },
    {
     "name": "stderr",
     "output_type": "stream",
     "text": [
      "\r",
      "Val: 100%|██████████| 86/86 [03:32<00:00,  1.86s/it, eval_loss=0.0972, gpu_mem=6.91 GB]"
     ]
    },
    {
     "name": "stderr",
     "output_type": "stream",
     "text": [
      "\r",
      "Val: 100%|██████████| 86/86 [03:32<00:00,  2.47s/it, eval_loss=0.0972, gpu_mem=6.91 GB]"
     ]
    },
    {
     "name": "stderr",
     "output_type": "stream",
     "text": [
      "\n",
      "Valid loss:0.0972\n"
     ]
    },
    {
     "name": "stderr",
     "output_type": "stream",
     "text": [
      "Val metric mean prob: 0.1867\n"
     ]
    },
    {
     "name": "stderr",
     "output_type": "stream",
     "text": [
      "Best metric at: 0.5111 0.3630  0.7308\n"
     ]
    },
    {
     "name": "stderr",
     "output_type": "stream",
     "text": [
      "Cf: [[2315   18]\n",
      " [  26   23]]\n"
     ]
    },
    {
     "name": "stderr",
     "output_type": "stream",
     "text": [
      "\u001b[32m[I 2023-02-15 04:25:35,758]\u001b[0m Trial 7 finished with value: 0.5111111111111111 and parameters: {'a1': 0.05783653792400003}. Best is trial 0 with value: 0.5111111111111111.\u001b[0m\n"
     ]
    },
    {
     "name": "stdout",
     "output_type": "stream",
     "text": [
      "/kaggle/input/10folds/tf_efficientnetv2_b2_fold_1_model_epoch_3_0.5055_0.360.pth\n",
      "none:  /kaggle/input/10folds/tf_efficientnetv2_b2_fold_1_model_epoch_3_0.5055_0.360.pth\n",
      "/kaggle/input/10folds/tf_efficientnetv2_b2_fold_1_model_epoch_5_0.4865_0.324.pth\n",
      "hehe /kaggle/input/10folds/tf_efficientnetv2_b2_fold_1_model_epoch_5_0.4865_0.324.pth\n",
      "0.10792999009478718 0.8920700099052128\n",
      "\n"
     ]
    },
    {
     "name": "stderr",
     "output_type": "stream",
     "text": [
      "\r",
      "Val:   0%|          | 0/86 [00:00<?, ?it/s]"
     ]
    },
    {
     "name": "stderr",
     "output_type": "stream",
     "text": [
      "\r",
      "Val:   0%|          | 0/86 [00:04<?, ?it/s, eval_loss=0.0552, gpu_mem=6.91 GB]"
     ]
    },
    {
     "name": "stderr",
     "output_type": "stream",
     "text": [
      "\r",
      "Val:   1%|          | 1/86 [00:04<06:17,  4.44s/it, eval_loss=0.0552, gpu_mem=6.91 GB]"
     ]
    },
    {
     "name": "stderr",
     "output_type": "stream",
     "text": [
      "\r",
      "Val:   1%|          | 1/86 [00:06<06:17,  4.44s/it, eval_loss=0.0431, gpu_mem=6.91 GB]"
     ]
    },
    {
     "name": "stderr",
     "output_type": "stream",
     "text": [
      "\r",
      "Val:   2%|▏         | 2/86 [00:06<04:39,  3.33s/it, eval_loss=0.0431, gpu_mem=6.91 GB]"
     ]
    },
    {
     "name": "stderr",
     "output_type": "stream",
     "text": [
      "\r",
      "Val:   2%|▏         | 2/86 [00:09<04:39,  3.33s/it, eval_loss=0.0889, gpu_mem=6.91 GB]"
     ]
    },
    {
     "name": "stderr",
     "output_type": "stream",
     "text": [
      "\r",
      "Val:   3%|▎         | 3/86 [00:09<04:16,  3.09s/it, eval_loss=0.0889, gpu_mem=6.91 GB]"
     ]
    },
    {
     "name": "stderr",
     "output_type": "stream",
     "text": [
      "\r",
      "Val:   3%|▎         | 3/86 [00:12<04:16,  3.09s/it, eval_loss=0.0997, gpu_mem=6.91 GB]"
     ]
    },
    {
     "name": "stderr",
     "output_type": "stream",
     "text": [
      "\r",
      "Val:   5%|▍         | 4/86 [00:12<03:56,  2.88s/it, eval_loss=0.0997, gpu_mem=6.91 GB]"
     ]
    },
    {
     "name": "stderr",
     "output_type": "stream",
     "text": [
      "\r",
      "Val:   5%|▍         | 4/86 [00:14<03:56,  2.88s/it, eval_loss=0.0955, gpu_mem=6.91 GB]"
     ]
    },
    {
     "name": "stderr",
     "output_type": "stream",
     "text": [
      "\r",
      "Val:   6%|▌         | 5/86 [00:14<03:41,  2.73s/it, eval_loss=0.0955, gpu_mem=6.91 GB]"
     ]
    },
    {
     "name": "stderr",
     "output_type": "stream",
     "text": [
      "\r",
      "Val:   6%|▌         | 5/86 [00:17<03:41,  2.73s/it, eval_loss=0.0924, gpu_mem=6.91 GB]"
     ]
    },
    {
     "name": "stderr",
     "output_type": "stream",
     "text": [
      "\r",
      "Val:   7%|▋         | 6/86 [00:17<03:32,  2.66s/it, eval_loss=0.0924, gpu_mem=6.91 GB]"
     ]
    },
    {
     "name": "stderr",
     "output_type": "stream",
     "text": [
      "\r",
      "Val:   7%|▋         | 6/86 [00:20<03:32,  2.66s/it, eval_loss=0.0847, gpu_mem=6.91 GB]"
     ]
    },
    {
     "name": "stderr",
     "output_type": "stream",
     "text": [
      "\r",
      "Val:   8%|▊         | 7/86 [00:20<03:32,  2.69s/it, eval_loss=0.0847, gpu_mem=6.91 GB]"
     ]
    },
    {
     "name": "stderr",
     "output_type": "stream",
     "text": [
      "\r",
      "Val:   8%|▊         | 7/86 [00:22<03:32,  2.69s/it, eval_loss=0.0818, gpu_mem=6.91 GB]"
     ]
    },
    {
     "name": "stderr",
     "output_type": "stream",
     "text": [
      "\r",
      "Val:   9%|▉         | 8/86 [00:22<03:26,  2.64s/it, eval_loss=0.0818, gpu_mem=6.91 GB]"
     ]
    },
    {
     "name": "stderr",
     "output_type": "stream",
     "text": [
      "\r",
      "Val:   9%|▉         | 8/86 [00:25<03:26,  2.64s/it, eval_loss=0.0801, gpu_mem=6.91 GB]"
     ]
    },
    {
     "name": "stderr",
     "output_type": "stream",
     "text": [
      "\r",
      "Val:  10%|█         | 9/86 [00:25<03:19,  2.59s/it, eval_loss=0.0801, gpu_mem=6.91 GB]"
     ]
    },
    {
     "name": "stderr",
     "output_type": "stream",
     "text": [
      "\r",
      "Val:  10%|█         | 9/86 [00:27<03:19,  2.59s/it, eval_loss=0.0871, gpu_mem=6.91 GB]"
     ]
    },
    {
     "name": "stderr",
     "output_type": "stream",
     "text": [
      "\r",
      "Val:  12%|█▏        | 10/86 [00:27<03:13,  2.55s/it, eval_loss=0.0871, gpu_mem=6.91 GB]"
     ]
    },
    {
     "name": "stderr",
     "output_type": "stream",
     "text": [
      "\r",
      "Val:  12%|█▏        | 10/86 [00:30<03:13,  2.55s/it, eval_loss=0.0842, gpu_mem=6.91 GB]"
     ]
    },
    {
     "name": "stderr",
     "output_type": "stream",
     "text": [
      "\r",
      "Val:  13%|█▎        | 11/86 [00:30<03:14,  2.59s/it, eval_loss=0.0842, gpu_mem=6.91 GB]"
     ]
    },
    {
     "name": "stderr",
     "output_type": "stream",
     "text": [
      "\r",
      "Val:  13%|█▎        | 11/86 [00:33<03:14,  2.59s/it, eval_loss=0.0844, gpu_mem=6.91 GB]"
     ]
    },
    {
     "name": "stderr",
     "output_type": "stream",
     "text": [
      "\r",
      "Val:  14%|█▍        | 12/86 [00:33<03:25,  2.78s/it, eval_loss=0.0844, gpu_mem=6.91 GB]"
     ]
    },
    {
     "name": "stderr",
     "output_type": "stream",
     "text": [
      "\r",
      "Val:  14%|█▍        | 12/86 [00:35<03:25,  2.78s/it, eval_loss=0.0865, gpu_mem=6.91 GB]"
     ]
    },
    {
     "name": "stderr",
     "output_type": "stream",
     "text": [
      "\r",
      "Val:  15%|█▌        | 13/86 [00:35<03:15,  2.68s/it, eval_loss=0.0865, gpu_mem=6.91 GB]"
     ]
    },
    {
     "name": "stderr",
     "output_type": "stream",
     "text": [
      "\r",
      "Val:  15%|█▌        | 13/86 [00:38<03:15,  2.68s/it, eval_loss=0.0828, gpu_mem=6.91 GB]"
     ]
    },
    {
     "name": "stderr",
     "output_type": "stream",
     "text": [
      "\r",
      "Val:  16%|█▋        | 14/86 [00:38<03:08,  2.62s/it, eval_loss=0.0828, gpu_mem=6.91 GB]"
     ]
    },
    {
     "name": "stderr",
     "output_type": "stream",
     "text": [
      "\r",
      "Val:  16%|█▋        | 14/86 [00:40<03:08,  2.62s/it, eval_loss=0.0800, gpu_mem=6.91 GB]"
     ]
    },
    {
     "name": "stderr",
     "output_type": "stream",
     "text": [
      "\r",
      "Val:  17%|█▋        | 15/86 [00:40<03:05,  2.61s/it, eval_loss=0.0800, gpu_mem=6.91 GB]"
     ]
    },
    {
     "name": "stderr",
     "output_type": "stream",
     "text": [
      "\r",
      "Val:  17%|█▋        | 15/86 [00:43<03:05,  2.61s/it, eval_loss=0.0781, gpu_mem=6.91 GB]"
     ]
    },
    {
     "name": "stderr",
     "output_type": "stream",
     "text": [
      "\r",
      "Val:  19%|█▊        | 16/86 [00:43<03:06,  2.67s/it, eval_loss=0.0781, gpu_mem=6.91 GB]"
     ]
    },
    {
     "name": "stderr",
     "output_type": "stream",
     "text": [
      "\r",
      "Val:  19%|█▊        | 16/86 [00:46<03:06,  2.67s/it, eval_loss=0.0782, gpu_mem=6.91 GB]"
     ]
    },
    {
     "name": "stderr",
     "output_type": "stream",
     "text": [
      "\r",
      "Val:  20%|█▉        | 17/86 [00:46<03:00,  2.61s/it, eval_loss=0.0782, gpu_mem=6.91 GB]"
     ]
    },
    {
     "name": "stderr",
     "output_type": "stream",
     "text": [
      "\r",
      "Val:  20%|█▉        | 17/86 [00:48<03:00,  2.61s/it, eval_loss=0.0777, gpu_mem=6.91 GB]"
     ]
    },
    {
     "name": "stderr",
     "output_type": "stream",
     "text": [
      "\r",
      "Val:  21%|██        | 18/86 [00:48<02:54,  2.57s/it, eval_loss=0.0777, gpu_mem=6.91 GB]"
     ]
    },
    {
     "name": "stderr",
     "output_type": "stream",
     "text": [
      "\r",
      "Val:  21%|██        | 18/86 [00:51<02:54,  2.57s/it, eval_loss=0.0779, gpu_mem=6.91 GB]"
     ]
    },
    {
     "name": "stderr",
     "output_type": "stream",
     "text": [
      "\r",
      "Val:  22%|██▏       | 19/86 [00:51<02:50,  2.54s/it, eval_loss=0.0779, gpu_mem=6.91 GB]"
     ]
    },
    {
     "name": "stderr",
     "output_type": "stream",
     "text": [
      "\r",
      "Val:  22%|██▏       | 19/86 [00:54<02:50,  2.54s/it, eval_loss=0.0785, gpu_mem=6.91 GB]"
     ]
    },
    {
     "name": "stderr",
     "output_type": "stream",
     "text": [
      "\r",
      "Val:  23%|██▎       | 20/86 [00:54<02:52,  2.62s/it, eval_loss=0.0785, gpu_mem=6.91 GB]"
     ]
    },
    {
     "name": "stderr",
     "output_type": "stream",
     "text": [
      "\r",
      "Val:  23%|██▎       | 20/86 [00:56<02:52,  2.62s/it, eval_loss=0.0771, gpu_mem=6.91 GB]"
     ]
    },
    {
     "name": "stderr",
     "output_type": "stream",
     "text": [
      "\r",
      "Val:  24%|██▍       | 21/86 [00:56<02:48,  2.59s/it, eval_loss=0.0771, gpu_mem=6.91 GB]"
     ]
    },
    {
     "name": "stderr",
     "output_type": "stream",
     "text": [
      "\r",
      "Val:  24%|██▍       | 21/86 [00:59<02:48,  2.59s/it, eval_loss=0.0804, gpu_mem=6.91 GB]"
     ]
    },
    {
     "name": "stderr",
     "output_type": "stream",
     "text": [
      "\r",
      "Val:  26%|██▌       | 22/86 [00:59<02:44,  2.57s/it, eval_loss=0.0804, gpu_mem=6.91 GB]"
     ]
    },
    {
     "name": "stderr",
     "output_type": "stream",
     "text": [
      "\r",
      "Val:  26%|██▌       | 22/86 [01:01<02:44,  2.57s/it, eval_loss=0.0844, gpu_mem=6.91 GB]"
     ]
    },
    {
     "name": "stderr",
     "output_type": "stream",
     "text": [
      "\r",
      "Val:  27%|██▋       | 23/86 [01:01<02:40,  2.55s/it, eval_loss=0.0844, gpu_mem=6.91 GB]"
     ]
    },
    {
     "name": "stderr",
     "output_type": "stream",
     "text": [
      "\r",
      "Val:  27%|██▋       | 23/86 [01:04<02:40,  2.55s/it, eval_loss=0.0839, gpu_mem=6.91 GB]"
     ]
    },
    {
     "name": "stderr",
     "output_type": "stream",
     "text": [
      "\r",
      "Val:  28%|██▊       | 24/86 [01:04<02:50,  2.75s/it, eval_loss=0.0839, gpu_mem=6.91 GB]"
     ]
    },
    {
     "name": "stderr",
     "output_type": "stream",
     "text": [
      "\r",
      "Val:  28%|██▊       | 24/86 [01:07<02:50,  2.75s/it, eval_loss=0.0837, gpu_mem=6.91 GB]"
     ]
    },
    {
     "name": "stderr",
     "output_type": "stream",
     "text": [
      "\r",
      "Val:  29%|██▉       | 25/86 [01:07<02:43,  2.67s/it, eval_loss=0.0837, gpu_mem=6.91 GB]"
     ]
    },
    {
     "name": "stderr",
     "output_type": "stream",
     "text": [
      "\r",
      "Val:  29%|██▉       | 25/86 [01:09<02:43,  2.67s/it, eval_loss=0.0816, gpu_mem=6.91 GB]"
     ]
    },
    {
     "name": "stderr",
     "output_type": "stream",
     "text": [
      "\r",
      "Val:  30%|███       | 26/86 [01:09<02:37,  2.63s/it, eval_loss=0.0816, gpu_mem=6.91 GB]"
     ]
    },
    {
     "name": "stderr",
     "output_type": "stream",
     "text": [
      "\r",
      "Val:  30%|███       | 26/86 [01:12<02:37,  2.63s/it, eval_loss=0.0853, gpu_mem=6.91 GB]"
     ]
    },
    {
     "name": "stderr",
     "output_type": "stream",
     "text": [
      "\r",
      "Val:  31%|███▏      | 27/86 [01:12<02:32,  2.59s/it, eval_loss=0.0853, gpu_mem=6.91 GB]"
     ]
    },
    {
     "name": "stderr",
     "output_type": "stream",
     "text": [
      "\r",
      "Val:  31%|███▏      | 27/86 [01:15<02:32,  2.59s/it, eval_loss=0.0848, gpu_mem=6.91 GB]"
     ]
    },
    {
     "name": "stderr",
     "output_type": "stream",
     "text": [
      "\r",
      "Val:  33%|███▎      | 28/86 [01:15<02:32,  2.63s/it, eval_loss=0.0848, gpu_mem=6.91 GB]"
     ]
    },
    {
     "name": "stderr",
     "output_type": "stream",
     "text": [
      "\r",
      "Val:  33%|███▎      | 28/86 [01:17<02:32,  2.63s/it, eval_loss=0.0838, gpu_mem=6.91 GB]"
     ]
    },
    {
     "name": "stderr",
     "output_type": "stream",
     "text": [
      "\r",
      "Val:  34%|███▎      | 29/86 [01:17<02:29,  2.62s/it, eval_loss=0.0838, gpu_mem=6.91 GB]"
     ]
    },
    {
     "name": "stderr",
     "output_type": "stream",
     "text": [
      "\r",
      "Val:  34%|███▎      | 29/86 [01:20<02:29,  2.62s/it, eval_loss=0.0838, gpu_mem=6.91 GB]"
     ]
    },
    {
     "name": "stderr",
     "output_type": "stream",
     "text": [
      "\r",
      "Val:  35%|███▍      | 30/86 [01:20<02:24,  2.58s/it, eval_loss=0.0838, gpu_mem=6.91 GB]"
     ]
    },
    {
     "name": "stderr",
     "output_type": "stream",
     "text": [
      "\r",
      "Val:  35%|███▍      | 30/86 [01:22<02:24,  2.58s/it, eval_loss=0.0830, gpu_mem=6.91 GB]"
     ]
    },
    {
     "name": "stderr",
     "output_type": "stream",
     "text": [
      "\r",
      "Val:  36%|███▌      | 31/86 [01:22<02:20,  2.56s/it, eval_loss=0.0830, gpu_mem=6.91 GB]"
     ]
    },
    {
     "name": "stderr",
     "output_type": "stream",
     "text": [
      "\r",
      "Val:  36%|███▌      | 31/86 [01:25<02:20,  2.56s/it, eval_loss=0.0905, gpu_mem=6.91 GB]"
     ]
    },
    {
     "name": "stderr",
     "output_type": "stream",
     "text": [
      "\r",
      "Val:  37%|███▋      | 32/86 [01:25<02:20,  2.60s/it, eval_loss=0.0905, gpu_mem=6.91 GB]"
     ]
    },
    {
     "name": "stderr",
     "output_type": "stream",
     "text": [
      "\r",
      "Val:  37%|███▋      | 32/86 [01:27<02:20,  2.60s/it, eval_loss=0.0886, gpu_mem=6.91 GB]"
     ]
    },
    {
     "name": "stderr",
     "output_type": "stream",
     "text": [
      "\r",
      "Val:  38%|███▊      | 33/86 [01:27<02:18,  2.61s/it, eval_loss=0.0886, gpu_mem=6.91 GB]"
     ]
    },
    {
     "name": "stderr",
     "output_type": "stream",
     "text": [
      "\r",
      "Val:  38%|███▊      | 33/86 [01:30<02:18,  2.61s/it, eval_loss=0.0899, gpu_mem=6.91 GB]"
     ]
    },
    {
     "name": "stderr",
     "output_type": "stream",
     "text": [
      "\r",
      "Val:  40%|███▉      | 34/86 [01:30<02:13,  2.57s/it, eval_loss=0.0899, gpu_mem=6.91 GB]"
     ]
    },
    {
     "name": "stderr",
     "output_type": "stream",
     "text": [
      "\r",
      "Val:  40%|███▉      | 34/86 [01:32<02:13,  2.57s/it, eval_loss=0.0889, gpu_mem=6.91 GB]"
     ]
    },
    {
     "name": "stderr",
     "output_type": "stream",
     "text": [
      "\r",
      "Val:  41%|████      | 35/86 [01:32<02:10,  2.56s/it, eval_loss=0.0889, gpu_mem=6.91 GB]"
     ]
    },
    {
     "name": "stderr",
     "output_type": "stream",
     "text": [
      "\r",
      "Val:  41%|████      | 35/86 [01:35<02:10,  2.56s/it, eval_loss=0.0875, gpu_mem=6.91 GB]"
     ]
    },
    {
     "name": "stderr",
     "output_type": "stream",
     "text": [
      "\r",
      "Val:  42%|████▏     | 36/86 [01:35<02:15,  2.70s/it, eval_loss=0.0875, gpu_mem=6.91 GB]"
     ]
    },
    {
     "name": "stderr",
     "output_type": "stream",
     "text": [
      "\r",
      "Val:  42%|████▏     | 36/86 [01:38<02:15,  2.70s/it, eval_loss=0.0881, gpu_mem=6.91 GB]"
     ]
    },
    {
     "name": "stderr",
     "output_type": "stream",
     "text": [
      "\r",
      "Val:  43%|████▎     | 37/86 [01:38<02:12,  2.70s/it, eval_loss=0.0881, gpu_mem=6.91 GB]"
     ]
    },
    {
     "name": "stderr",
     "output_type": "stream",
     "text": [
      "\r",
      "Val:  43%|████▎     | 37/86 [01:41<02:12,  2.70s/it, eval_loss=0.0879, gpu_mem=6.91 GB]"
     ]
    },
    {
     "name": "stderr",
     "output_type": "stream",
     "text": [
      "\r",
      "Val:  44%|████▍     | 38/86 [01:41<02:06,  2.64s/it, eval_loss=0.0879, gpu_mem=6.91 GB]"
     ]
    },
    {
     "name": "stderr",
     "output_type": "stream",
     "text": [
      "\r",
      "Val:  44%|████▍     | 38/86 [01:43<02:06,  2.64s/it, eval_loss=0.0865, gpu_mem=6.91 GB]"
     ]
    },
    {
     "name": "stderr",
     "output_type": "stream",
     "text": [
      "\r",
      "Val:  45%|████▌     | 39/86 [01:43<02:02,  2.60s/it, eval_loss=0.0865, gpu_mem=6.91 GB]"
     ]
    },
    {
     "name": "stderr",
     "output_type": "stream",
     "text": [
      "\r",
      "Val:  45%|████▌     | 39/86 [01:46<02:02,  2.60s/it, eval_loss=0.0864, gpu_mem=6.91 GB]"
     ]
    },
    {
     "name": "stderr",
     "output_type": "stream",
     "text": [
      "\r",
      "Val:  47%|████▋     | 40/86 [01:46<01:57,  2.55s/it, eval_loss=0.0864, gpu_mem=6.91 GB]"
     ]
    },
    {
     "name": "stderr",
     "output_type": "stream",
     "text": [
      "\r",
      "Val:  47%|████▋     | 40/86 [01:48<01:57,  2.55s/it, eval_loss=0.0859, gpu_mem=6.91 GB]"
     ]
    },
    {
     "name": "stderr",
     "output_type": "stream",
     "text": [
      "\r",
      "Val:  48%|████▊     | 41/86 [01:48<01:55,  2.57s/it, eval_loss=0.0859, gpu_mem=6.91 GB]"
     ]
    },
    {
     "name": "stderr",
     "output_type": "stream",
     "text": [
      "\r",
      "Val:  48%|████▊     | 41/86 [01:51<01:55,  2.57s/it, eval_loss=0.0854, gpu_mem=6.91 GB]"
     ]
    },
    {
     "name": "stderr",
     "output_type": "stream",
     "text": [
      "\r",
      "Val:  49%|████▉     | 42/86 [01:51<01:52,  2.55s/it, eval_loss=0.0854, gpu_mem=6.91 GB]"
     ]
    },
    {
     "name": "stderr",
     "output_type": "stream",
     "text": [
      "\r",
      "Val:  49%|████▉     | 42/86 [01:53<01:52,  2.55s/it, eval_loss=0.0845, gpu_mem=6.91 GB]"
     ]
    },
    {
     "name": "stderr",
     "output_type": "stream",
     "text": [
      "\r",
      "Val:  50%|█████     | 43/86 [01:53<01:48,  2.53s/it, eval_loss=0.0845, gpu_mem=6.91 GB]"
     ]
    },
    {
     "name": "stderr",
     "output_type": "stream",
     "text": [
      "\r",
      "Val:  50%|█████     | 43/86 [01:56<01:48,  2.53s/it, eval_loss=0.0877, gpu_mem=6.91 GB]"
     ]
    },
    {
     "name": "stderr",
     "output_type": "stream",
     "text": [
      "\r",
      "Val:  51%|█████     | 44/86 [01:56<01:46,  2.53s/it, eval_loss=0.0877, gpu_mem=6.91 GB]"
     ]
    },
    {
     "name": "stderr",
     "output_type": "stream",
     "text": [
      "\r",
      "Val:  51%|█████     | 44/86 [01:58<01:46,  2.53s/it, eval_loss=0.0864, gpu_mem=6.91 GB]"
     ]
    },
    {
     "name": "stderr",
     "output_type": "stream",
     "text": [
      "\r",
      "Val:  52%|█████▏    | 45/86 [01:58<01:45,  2.58s/it, eval_loss=0.0864, gpu_mem=6.91 GB]"
     ]
    },
    {
     "name": "stderr",
     "output_type": "stream",
     "text": [
      "\r",
      "Val:  52%|█████▏    | 45/86 [02:01<01:45,  2.58s/it, eval_loss=0.0863, gpu_mem=6.91 GB]"
     ]
    },
    {
     "name": "stderr",
     "output_type": "stream",
     "text": [
      "\r",
      "Val:  53%|█████▎    | 46/86 [02:01<01:43,  2.59s/it, eval_loss=0.0863, gpu_mem=6.91 GB]"
     ]
    },
    {
     "name": "stderr",
     "output_type": "stream",
     "text": [
      "\r",
      "Val:  53%|█████▎    | 46/86 [02:04<01:43,  2.59s/it, eval_loss=0.0856, gpu_mem=6.91 GB]"
     ]
    },
    {
     "name": "stderr",
     "output_type": "stream",
     "text": [
      "\r",
      "Val:  55%|█████▍    | 47/86 [02:04<01:39,  2.55s/it, eval_loss=0.0856, gpu_mem=6.91 GB]"
     ]
    },
    {
     "name": "stderr",
     "output_type": "stream",
     "text": [
      "\r",
      "Val:  55%|█████▍    | 47/86 [02:06<01:39,  2.55s/it, eval_loss=0.0874, gpu_mem=6.91 GB]"
     ]
    },
    {
     "name": "stderr",
     "output_type": "stream",
     "text": [
      "\r",
      "Val:  56%|█████▌    | 48/86 [02:06<01:39,  2.61s/it, eval_loss=0.0874, gpu_mem=6.91 GB]"
     ]
    },
    {
     "name": "stderr",
     "output_type": "stream",
     "text": [
      "\r",
      "Val:  56%|█████▌    | 48/86 [02:10<01:39,  2.61s/it, eval_loss=0.0869, gpu_mem=6.91 GB]"
     ]
    },
    {
     "name": "stderr",
     "output_type": "stream",
     "text": [
      "\r",
      "Val:  57%|█████▋    | 49/86 [02:10<01:43,  2.79s/it, eval_loss=0.0869, gpu_mem=6.91 GB]"
     ]
    },
    {
     "name": "stderr",
     "output_type": "stream",
     "text": [
      "\r",
      "Val:  57%|█████▋    | 49/86 [02:12<01:43,  2.79s/it, eval_loss=0.0866, gpu_mem=6.91 GB]"
     ]
    },
    {
     "name": "stderr",
     "output_type": "stream",
     "text": [
      "\r",
      "Val:  58%|█████▊    | 50/86 [02:12<01:37,  2.70s/it, eval_loss=0.0866, gpu_mem=6.91 GB]"
     ]
    },
    {
     "name": "stderr",
     "output_type": "stream",
     "text": [
      "\r",
      "Val:  58%|█████▊    | 50/86 [02:14<01:37,  2.70s/it, eval_loss=0.0895, gpu_mem=6.91 GB]"
     ]
    },
    {
     "name": "stderr",
     "output_type": "stream",
     "text": [
      "\r",
      "Val:  59%|█████▉    | 51/86 [02:14<01:32,  2.63s/it, eval_loss=0.0895, gpu_mem=6.91 GB]"
     ]
    },
    {
     "name": "stderr",
     "output_type": "stream",
     "text": [
      "\r",
      "Val:  59%|█████▉    | 51/86 [02:17<01:32,  2.63s/it, eval_loss=0.0909, gpu_mem=6.91 GB]"
     ]
    },
    {
     "name": "stderr",
     "output_type": "stream",
     "text": [
      "\r",
      "Val:  60%|██████    | 52/86 [02:17<01:27,  2.58s/it, eval_loss=0.0909, gpu_mem=6.91 GB]"
     ]
    },
    {
     "name": "stderr",
     "output_type": "stream",
     "text": [
      "\r",
      "Val:  60%|██████    | 52/86 [02:19<01:27,  2.58s/it, eval_loss=0.0922, gpu_mem=6.91 GB]"
     ]
    },
    {
     "name": "stderr",
     "output_type": "stream",
     "text": [
      "\r",
      "Val:  62%|██████▏   | 53/86 [02:19<01:24,  2.57s/it, eval_loss=0.0922, gpu_mem=6.91 GB]"
     ]
    },
    {
     "name": "stderr",
     "output_type": "stream",
     "text": [
      "\r",
      "Val:  62%|██████▏   | 53/86 [02:22<01:24,  2.57s/it, eval_loss=0.0915, gpu_mem=6.91 GB]"
     ]
    },
    {
     "name": "stderr",
     "output_type": "stream",
     "text": [
      "\r",
      "Val:  63%|██████▎   | 54/86 [02:22<01:23,  2.61s/it, eval_loss=0.0915, gpu_mem=6.91 GB]"
     ]
    },
    {
     "name": "stderr",
     "output_type": "stream",
     "text": [
      "\r",
      "Val:  63%|██████▎   | 54/86 [02:25<01:23,  2.61s/it, eval_loss=0.0922, gpu_mem=6.91 GB]"
     ]
    },
    {
     "name": "stderr",
     "output_type": "stream",
     "text": [
      "\r",
      "Val:  64%|██████▍   | 55/86 [02:25<01:19,  2.57s/it, eval_loss=0.0922, gpu_mem=6.91 GB]"
     ]
    },
    {
     "name": "stderr",
     "output_type": "stream",
     "text": [
      "\r",
      "Val:  64%|██████▍   | 55/86 [02:27<01:19,  2.57s/it, eval_loss=0.0918, gpu_mem=6.91 GB]"
     ]
    },
    {
     "name": "stderr",
     "output_type": "stream",
     "text": [
      "\r",
      "Val:  65%|██████▌   | 56/86 [02:27<01:16,  2.56s/it, eval_loss=0.0918, gpu_mem=6.91 GB]"
     ]
    },
    {
     "name": "stderr",
     "output_type": "stream",
     "text": [
      "\r",
      "Val:  65%|██████▌   | 56/86 [02:30<01:16,  2.56s/it, eval_loss=0.0917, gpu_mem=6.91 GB]"
     ]
    },
    {
     "name": "stderr",
     "output_type": "stream",
     "text": [
      "\r",
      "Val:  66%|██████▋   | 57/86 [02:30<01:13,  2.55s/it, eval_loss=0.0917, gpu_mem=6.91 GB]"
     ]
    },
    {
     "name": "stderr",
     "output_type": "stream",
     "text": [
      "\r",
      "Val:  66%|██████▋   | 57/86 [02:32<01:13,  2.55s/it, eval_loss=0.0940, gpu_mem=6.91 GB]"
     ]
    },
    {
     "name": "stderr",
     "output_type": "stream",
     "text": [
      "\r",
      "Val:  67%|██████▋   | 58/86 [02:32<01:12,  2.58s/it, eval_loss=0.0940, gpu_mem=6.91 GB]"
     ]
    },
    {
     "name": "stderr",
     "output_type": "stream",
     "text": [
      "\r",
      "Val:  67%|██████▋   | 58/86 [02:35<01:12,  2.58s/it, eval_loss=0.0935, gpu_mem=6.91 GB]"
     ]
    },
    {
     "name": "stderr",
     "output_type": "stream",
     "text": [
      "\r",
      "Val:  69%|██████▊   | 59/86 [02:35<01:08,  2.54s/it, eval_loss=0.0935, gpu_mem=6.91 GB]"
     ]
    },
    {
     "name": "stderr",
     "output_type": "stream",
     "text": [
      "\r",
      "Val:  69%|██████▊   | 59/86 [02:37<01:08,  2.54s/it, eval_loss=0.0953, gpu_mem=6.91 GB]"
     ]
    },
    {
     "name": "stderr",
     "output_type": "stream",
     "text": [
      "\r",
      "Val:  70%|██████▉   | 60/86 [02:37<01:05,  2.52s/it, eval_loss=0.0953, gpu_mem=6.91 GB]"
     ]
    },
    {
     "name": "stderr",
     "output_type": "stream",
     "text": [
      "\r",
      "Val:  70%|██████▉   | 60/86 [02:40<01:05,  2.52s/it, eval_loss=0.0947, gpu_mem=6.91 GB]"
     ]
    },
    {
     "name": "stderr",
     "output_type": "stream",
     "text": [
      "\r",
      "Val:  71%|███████   | 61/86 [02:40<01:06,  2.68s/it, eval_loss=0.0947, gpu_mem=6.91 GB]"
     ]
    },
    {
     "name": "stderr",
     "output_type": "stream",
     "text": [
      "\r",
      "Val:  71%|███████   | 61/86 [02:43<01:06,  2.68s/it, eval_loss=0.0943, gpu_mem=6.91 GB]"
     ]
    },
    {
     "name": "stderr",
     "output_type": "stream",
     "text": [
      "\r",
      "Val:  72%|███████▏  | 62/86 [02:43<01:03,  2.66s/it, eval_loss=0.0943, gpu_mem=6.91 GB]"
     ]
    },
    {
     "name": "stderr",
     "output_type": "stream",
     "text": [
      "\r",
      "Val:  72%|███████▏  | 62/86 [02:45<01:03,  2.66s/it, eval_loss=0.0942, gpu_mem=6.91 GB]"
     ]
    },
    {
     "name": "stderr",
     "output_type": "stream",
     "text": [
      "\r",
      "Val:  73%|███████▎  | 63/86 [02:45<00:58,  2.56s/it, eval_loss=0.0942, gpu_mem=6.91 GB]"
     ]
    },
    {
     "name": "stderr",
     "output_type": "stream",
     "text": [
      "\r",
      "Val:  73%|███████▎  | 63/86 [02:48<00:58,  2.56s/it, eval_loss=0.0941, gpu_mem=6.91 GB]"
     ]
    },
    {
     "name": "stderr",
     "output_type": "stream",
     "text": [
      "\r",
      "Val:  74%|███████▍  | 64/86 [02:48<00:55,  2.50s/it, eval_loss=0.0941, gpu_mem=6.91 GB]"
     ]
    },
    {
     "name": "stderr",
     "output_type": "stream",
     "text": [
      "\r",
      "Val:  74%|███████▍  | 64/86 [02:50<00:55,  2.50s/it, eval_loss=0.0932, gpu_mem=6.91 GB]"
     ]
    },
    {
     "name": "stderr",
     "output_type": "stream",
     "text": [
      "\r",
      "Val:  76%|███████▌  | 65/86 [02:50<00:51,  2.47s/it, eval_loss=0.0932, gpu_mem=6.91 GB]"
     ]
    },
    {
     "name": "stderr",
     "output_type": "stream",
     "text": [
      "\r",
      "Val:  76%|███████▌  | 65/86 [02:53<00:51,  2.47s/it, eval_loss=0.0950, gpu_mem=6.91 GB]"
     ]
    },
    {
     "name": "stderr",
     "output_type": "stream",
     "text": [
      "\r",
      "Val:  77%|███████▋  | 66/86 [02:53<00:50,  2.51s/it, eval_loss=0.0950, gpu_mem=6.91 GB]"
     ]
    },
    {
     "name": "stderr",
     "output_type": "stream",
     "text": [
      "\r",
      "Val:  77%|███████▋  | 66/86 [02:55<00:50,  2.51s/it, eval_loss=0.0942, gpu_mem=6.91 GB]"
     ]
    },
    {
     "name": "stderr",
     "output_type": "stream",
     "text": [
      "\r",
      "Val:  78%|███████▊  | 67/86 [02:55<00:48,  2.56s/it, eval_loss=0.0942, gpu_mem=6.91 GB]"
     ]
    },
    {
     "name": "stderr",
     "output_type": "stream",
     "text": [
      "\r",
      "Val:  78%|███████▊  | 67/86 [02:58<00:48,  2.56s/it, eval_loss=0.0966, gpu_mem=6.91 GB]"
     ]
    },
    {
     "name": "stderr",
     "output_type": "stream",
     "text": [
      "\r",
      "Val:  79%|███████▉  | 68/86 [02:58<00:45,  2.51s/it, eval_loss=0.0966, gpu_mem=6.91 GB]"
     ]
    },
    {
     "name": "stderr",
     "output_type": "stream",
     "text": [
      "\r",
      "Val:  79%|███████▉  | 68/86 [03:00<00:45,  2.51s/it, eval_loss=0.0967, gpu_mem=6.91 GB]"
     ]
    },
    {
     "name": "stderr",
     "output_type": "stream",
     "text": [
      "\r",
      "Val:  80%|████████  | 69/86 [03:00<00:41,  2.47s/it, eval_loss=0.0967, gpu_mem=6.91 GB]"
     ]
    },
    {
     "name": "stderr",
     "output_type": "stream",
     "text": [
      "\r",
      "Val:  80%|████████  | 69/86 [03:02<00:41,  2.47s/it, eval_loss=0.0964, gpu_mem=6.91 GB]"
     ]
    },
    {
     "name": "stderr",
     "output_type": "stream",
     "text": [
      "\r",
      "Val:  81%|████████▏ | 70/86 [03:02<00:38,  2.42s/it, eval_loss=0.0964, gpu_mem=6.91 GB]"
     ]
    },
    {
     "name": "stderr",
     "output_type": "stream",
     "text": [
      "\r",
      "Val:  81%|████████▏ | 70/86 [03:05<00:38,  2.42s/it, eval_loss=0.0971, gpu_mem=6.91 GB]"
     ]
    },
    {
     "name": "stderr",
     "output_type": "stream",
     "text": [
      "\r",
      "Val:  83%|████████▎ | 71/86 [03:05<00:37,  2.47s/it, eval_loss=0.0971, gpu_mem=6.91 GB]"
     ]
    },
    {
     "name": "stderr",
     "output_type": "stream",
     "text": [
      "\r",
      "Val:  83%|████████▎ | 71/86 [03:07<00:37,  2.47s/it, eval_loss=0.0967, gpu_mem=6.91 GB]"
     ]
    },
    {
     "name": "stderr",
     "output_type": "stream",
     "text": [
      "\r",
      "Val:  84%|████████▎ | 72/86 [03:07<00:34,  2.46s/it, eval_loss=0.0967, gpu_mem=6.91 GB]"
     ]
    },
    {
     "name": "stderr",
     "output_type": "stream",
     "text": [
      "\r",
      "Val:  84%|████████▎ | 72/86 [03:10<00:34,  2.46s/it, eval_loss=0.0964, gpu_mem=6.91 GB]"
     ]
    },
    {
     "name": "stderr",
     "output_type": "stream",
     "text": [
      "\r",
      "Val:  85%|████████▍ | 73/86 [03:10<00:32,  2.53s/it, eval_loss=0.0964, gpu_mem=6.91 GB]"
     ]
    },
    {
     "name": "stderr",
     "output_type": "stream",
     "text": [
      "\r",
      "Val:  85%|████████▍ | 73/86 [03:13<00:32,  2.53s/it, eval_loss=0.0967, gpu_mem=6.91 GB]"
     ]
    },
    {
     "name": "stderr",
     "output_type": "stream",
     "text": [
      "\r",
      "Val:  86%|████████▌ | 74/86 [03:13<00:31,  2.60s/it, eval_loss=0.0967, gpu_mem=6.91 GB]"
     ]
    },
    {
     "name": "stderr",
     "output_type": "stream",
     "text": [
      "\r",
      "Val:  86%|████████▌ | 74/86 [03:15<00:31,  2.60s/it, eval_loss=0.0961, gpu_mem=6.91 GB]"
     ]
    },
    {
     "name": "stderr",
     "output_type": "stream",
     "text": [
      "\r",
      "Val:  87%|████████▋ | 75/86 [03:15<00:28,  2.58s/it, eval_loss=0.0961, gpu_mem=6.91 GB]"
     ]
    },
    {
     "name": "stderr",
     "output_type": "stream",
     "text": [
      "\r",
      "Val:  87%|████████▋ | 75/86 [03:18<00:28,  2.58s/it, eval_loss=0.0955, gpu_mem=6.91 GB]"
     ]
    },
    {
     "name": "stderr",
     "output_type": "stream",
     "text": [
      "\r",
      "Val:  88%|████████▊ | 76/86 [03:18<00:25,  2.57s/it, eval_loss=0.0955, gpu_mem=6.91 GB]"
     ]
    },
    {
     "name": "stderr",
     "output_type": "stream",
     "text": [
      "\r",
      "Val:  88%|████████▊ | 76/86 [03:20<00:25,  2.57s/it, eval_loss=0.0966, gpu_mem=6.91 GB]"
     ]
    },
    {
     "name": "stderr",
     "output_type": "stream",
     "text": [
      "\r",
      "Val:  90%|████████▉ | 77/86 [03:20<00:22,  2.53s/it, eval_loss=0.0966, gpu_mem=6.91 GB]"
     ]
    },
    {
     "name": "stderr",
     "output_type": "stream",
     "text": [
      "\r",
      "Val:  90%|████████▉ | 77/86 [03:23<00:22,  2.53s/it, eval_loss=0.0959, gpu_mem=6.91 GB]"
     ]
    },
    {
     "name": "stderr",
     "output_type": "stream",
     "text": [
      "\r",
      "Val:  91%|█████████ | 78/86 [03:23<00:19,  2.48s/it, eval_loss=0.0959, gpu_mem=6.91 GB]"
     ]
    },
    {
     "name": "stderr",
     "output_type": "stream",
     "text": [
      "\r",
      "Val:  91%|█████████ | 78/86 [03:25<00:19,  2.48s/it, eval_loss=0.0958, gpu_mem=6.91 GB]"
     ]
    },
    {
     "name": "stderr",
     "output_type": "stream",
     "text": [
      "\r",
      "Val:  92%|█████████▏| 79/86 [03:25<00:17,  2.46s/it, eval_loss=0.0958, gpu_mem=6.91 GB]"
     ]
    },
    {
     "name": "stderr",
     "output_type": "stream",
     "text": [
      "\r",
      "Val:  92%|█████████▏| 79/86 [03:28<00:17,  2.46s/it, eval_loss=0.0960, gpu_mem=6.91 GB]"
     ]
    },
    {
     "name": "stderr",
     "output_type": "stream",
     "text": [
      "\r",
      "Val:  93%|█████████▎| 80/86 [03:28<00:15,  2.53s/it, eval_loss=0.0960, gpu_mem=6.91 GB]"
     ]
    },
    {
     "name": "stderr",
     "output_type": "stream",
     "text": [
      "\r",
      "Val:  93%|█████████▎| 80/86 [03:30<00:15,  2.53s/it, eval_loss=0.0954, gpu_mem=6.91 GB]"
     ]
    },
    {
     "name": "stderr",
     "output_type": "stream",
     "text": [
      "\r",
      "Val:  94%|█████████▍| 81/86 [03:30<00:12,  2.50s/it, eval_loss=0.0954, gpu_mem=6.91 GB]"
     ]
    },
    {
     "name": "stderr",
     "output_type": "stream",
     "text": [
      "\r",
      "Val:  94%|█████████▍| 81/86 [03:33<00:12,  2.50s/it, eval_loss=0.0950, gpu_mem=6.91 GB]"
     ]
    },
    {
     "name": "stderr",
     "output_type": "stream",
     "text": [
      "\r",
      "Val:  95%|█████████▌| 82/86 [03:33<00:09,  2.47s/it, eval_loss=0.0950, gpu_mem=6.91 GB]"
     ]
    },
    {
     "name": "stderr",
     "output_type": "stream",
     "text": [
      "\r",
      "Val:  95%|█████████▌| 82/86 [03:35<00:09,  2.47s/it, eval_loss=0.0948, gpu_mem=6.91 GB]"
     ]
    },
    {
     "name": "stderr",
     "output_type": "stream",
     "text": [
      "\r",
      "Val:  97%|█████████▋| 83/86 [03:35<00:07,  2.44s/it, eval_loss=0.0948, gpu_mem=6.91 GB]"
     ]
    },
    {
     "name": "stderr",
     "output_type": "stream",
     "text": [
      "\r",
      "Val:  97%|█████████▋| 83/86 [03:38<00:07,  2.44s/it, eval_loss=0.0945, gpu_mem=6.91 GB]"
     ]
    },
    {
     "name": "stderr",
     "output_type": "stream",
     "text": [
      "\r",
      "Val:  98%|█████████▊| 84/86 [03:38<00:04,  2.50s/it, eval_loss=0.0945, gpu_mem=6.91 GB]"
     ]
    },
    {
     "name": "stderr",
     "output_type": "stream",
     "text": [
      "\r",
      "Val:  98%|█████████▊| 84/86 [03:40<00:04,  2.50s/it, eval_loss=0.0972, gpu_mem=6.91 GB]"
     ]
    },
    {
     "name": "stderr",
     "output_type": "stream",
     "text": [
      "\r",
      "Val:  99%|█████████▉| 85/86 [03:40<00:02,  2.48s/it, eval_loss=0.0972, gpu_mem=6.91 GB]"
     ]
    },
    {
     "name": "stderr",
     "output_type": "stream",
     "text": [
      "\r",
      "Val:  99%|█████████▉| 85/86 [03:41<00:02,  2.48s/it, eval_loss=0.0972, gpu_mem=6.91 GB]"
     ]
    },
    {
     "name": "stderr",
     "output_type": "stream",
     "text": [
      "\r",
      "Val: 100%|██████████| 86/86 [03:41<00:00,  1.89s/it, eval_loss=0.0972, gpu_mem=6.91 GB]"
     ]
    },
    {
     "name": "stderr",
     "output_type": "stream",
     "text": [
      "\r",
      "Val: 100%|██████████| 86/86 [03:41<00:00,  2.57s/it, eval_loss=0.0972, gpu_mem=6.91 GB]"
     ]
    },
    {
     "name": "stderr",
     "output_type": "stream",
     "text": [
      "\n",
      "Valid loss:0.0972\n"
     ]
    },
    {
     "name": "stderr",
     "output_type": "stream",
     "text": [
      "Val metric mean prob: 0.1867\n"
     ]
    },
    {
     "name": "stderr",
     "output_type": "stream",
     "text": [
      "Best metric at: 0.5111 0.3630  0.7308\n"
     ]
    },
    {
     "name": "stderr",
     "output_type": "stream",
     "text": [
      "Cf: [[2315   18]\n",
      " [  26   23]]\n"
     ]
    },
    {
     "name": "stderr",
     "output_type": "stream",
     "text": [
      "\u001b[32m[I 2023-02-15 04:29:20,412]\u001b[0m Trial 8 finished with value: 0.5111111111111111 and parameters: {'a1': 0.10792999009478718}. Best is trial 0 with value: 0.5111111111111111.\u001b[0m\n"
     ]
    },
    {
     "name": "stdout",
     "output_type": "stream",
     "text": [
      "/kaggle/input/10folds/tf_efficientnetv2_b2_fold_1_model_epoch_3_0.5055_0.360.pth\n",
      "none:  /kaggle/input/10folds/tf_efficientnetv2_b2_fold_1_model_epoch_3_0.5055_0.360.pth\n",
      "/kaggle/input/10folds/tf_efficientnetv2_b2_fold_1_model_epoch_5_0.4865_0.324.pth\n",
      "hehe /kaggle/input/10folds/tf_efficientnetv2_b2_fold_1_model_epoch_5_0.4865_0.324.pth\n",
      "0.5079049796516664 0.49209502034833363\n",
      "\n"
     ]
    },
    {
     "name": "stderr",
     "output_type": "stream",
     "text": [
      "\r",
      "Val:   0%|          | 0/86 [00:00<?, ?it/s]"
     ]
    },
    {
     "name": "stderr",
     "output_type": "stream",
     "text": [
      "\r",
      "Val:   0%|          | 0/86 [00:04<?, ?it/s, eval_loss=0.0552, gpu_mem=6.91 GB]"
     ]
    },
    {
     "name": "stderr",
     "output_type": "stream",
     "text": [
      "\r",
      "Val:   1%|          | 1/86 [00:04<06:39,  4.70s/it, eval_loss=0.0552, gpu_mem=6.91 GB]"
     ]
    },
    {
     "name": "stderr",
     "output_type": "stream",
     "text": [
      "\r",
      "Val:   1%|          | 1/86 [00:07<06:39,  4.70s/it, eval_loss=0.0431, gpu_mem=6.91 GB]"
     ]
    },
    {
     "name": "stderr",
     "output_type": "stream",
     "text": [
      "\r",
      "Val:   2%|▏         | 2/86 [00:07<04:40,  3.34s/it, eval_loss=0.0431, gpu_mem=6.91 GB]"
     ]
    },
    {
     "name": "stderr",
     "output_type": "stream",
     "text": [
      "\r",
      "Val:   2%|▏         | 2/86 [00:09<04:40,  3.34s/it, eval_loss=0.0889, gpu_mem=6.91 GB]"
     ]
    },
    {
     "name": "stderr",
     "output_type": "stream",
     "text": [
      "\r",
      "Val:   3%|▎         | 3/86 [00:09<03:58,  2.87s/it, eval_loss=0.0889, gpu_mem=6.91 GB]"
     ]
    },
    {
     "name": "stderr",
     "output_type": "stream",
     "text": [
      "\r",
      "Val:   3%|▎         | 3/86 [00:11<03:58,  2.87s/it, eval_loss=0.0997, gpu_mem=6.91 GB]"
     ]
    },
    {
     "name": "stderr",
     "output_type": "stream",
     "text": [
      "\r",
      "Val:   5%|▍         | 4/86 [00:11<03:38,  2.67s/it, eval_loss=0.0997, gpu_mem=6.91 GB]"
     ]
    },
    {
     "name": "stderr",
     "output_type": "stream",
     "text": [
      "\r",
      "Val:   5%|▍         | 4/86 [00:13<03:38,  2.67s/it, eval_loss=0.0955, gpu_mem=6.91 GB]"
     ]
    },
    {
     "name": "stderr",
     "output_type": "stream",
     "text": [
      "\r",
      "Val:   6%|▌         | 5/86 [00:14<03:23,  2.52s/it, eval_loss=0.0955, gpu_mem=6.91 GB]"
     ]
    },
    {
     "name": "stderr",
     "output_type": "stream",
     "text": [
      "\r",
      "Val:   6%|▌         | 5/86 [00:16<03:23,  2.52s/it, eval_loss=0.0924, gpu_mem=6.91 GB]"
     ]
    },
    {
     "name": "stderr",
     "output_type": "stream",
     "text": [
      "\r",
      "Val:   7%|▋         | 6/86 [00:16<03:22,  2.53s/it, eval_loss=0.0924, gpu_mem=6.91 GB]"
     ]
    },
    {
     "name": "stderr",
     "output_type": "stream",
     "text": [
      "\r",
      "Val:   7%|▋         | 6/86 [00:18<03:22,  2.53s/it, eval_loss=0.0847, gpu_mem=6.91 GB]"
     ]
    },
    {
     "name": "stderr",
     "output_type": "stream",
     "text": [
      "\r",
      "Val:   8%|▊         | 7/86 [00:18<03:14,  2.46s/it, eval_loss=0.0847, gpu_mem=6.91 GB]"
     ]
    },
    {
     "name": "stderr",
     "output_type": "stream",
     "text": [
      "\r",
      "Val:   8%|▊         | 7/86 [00:21<03:14,  2.46s/it, eval_loss=0.0818, gpu_mem=6.91 GB]"
     ]
    },
    {
     "name": "stderr",
     "output_type": "stream",
     "text": [
      "\r",
      "Val:   9%|▉         | 8/86 [00:21<03:06,  2.39s/it, eval_loss=0.0818, gpu_mem=6.91 GB]"
     ]
    },
    {
     "name": "stderr",
     "output_type": "stream",
     "text": [
      "\r",
      "Val:   9%|▉         | 8/86 [00:23<03:06,  2.39s/it, eval_loss=0.0801, gpu_mem=6.91 GB]"
     ]
    },
    {
     "name": "stderr",
     "output_type": "stream",
     "text": [
      "\r",
      "Val:  10%|█         | 9/86 [00:23<03:01,  2.35s/it, eval_loss=0.0801, gpu_mem=6.91 GB]"
     ]
    },
    {
     "name": "stderr",
     "output_type": "stream",
     "text": [
      "\r",
      "Val:  10%|█         | 9/86 [00:25<03:01,  2.35s/it, eval_loss=0.0871, gpu_mem=6.91 GB]"
     ]
    },
    {
     "name": "stderr",
     "output_type": "stream",
     "text": [
      "\r",
      "Val:  12%|█▏        | 10/86 [00:25<02:58,  2.35s/it, eval_loss=0.0871, gpu_mem=6.91 GB]"
     ]
    },
    {
     "name": "stderr",
     "output_type": "stream",
     "text": [
      "\r",
      "Val:  12%|█▏        | 10/86 [00:28<02:58,  2.35s/it, eval_loss=0.0842, gpu_mem=6.91 GB]"
     ]
    },
    {
     "name": "stderr",
     "output_type": "stream",
     "text": [
      "\r",
      "Val:  13%|█▎        | 11/86 [00:28<02:58,  2.38s/it, eval_loss=0.0842, gpu_mem=6.91 GB]"
     ]
    },
    {
     "name": "stderr",
     "output_type": "stream",
     "text": [
      "\r",
      "Val:  13%|█▎        | 11/86 [00:30<02:58,  2.38s/it, eval_loss=0.0844, gpu_mem=6.91 GB]"
     ]
    },
    {
     "name": "stderr",
     "output_type": "stream",
     "text": [
      "\r",
      "Val:  14%|█▍        | 12/86 [00:30<03:03,  2.48s/it, eval_loss=0.0844, gpu_mem=6.91 GB]"
     ]
    },
    {
     "name": "stderr",
     "output_type": "stream",
     "text": [
      "\r",
      "Val:  14%|█▍        | 12/86 [00:33<03:03,  2.48s/it, eval_loss=0.0865, gpu_mem=6.91 GB]"
     ]
    },
    {
     "name": "stderr",
     "output_type": "stream",
     "text": [
      "\r",
      "Val:  15%|█▌        | 13/86 [00:33<02:55,  2.40s/it, eval_loss=0.0865, gpu_mem=6.91 GB]"
     ]
    },
    {
     "name": "stderr",
     "output_type": "stream",
     "text": [
      "\r",
      "Val:  15%|█▌        | 13/86 [00:35<02:55,  2.40s/it, eval_loss=0.0828, gpu_mem=6.91 GB]"
     ]
    },
    {
     "name": "stderr",
     "output_type": "stream",
     "text": [
      "\r",
      "Val:  16%|█▋        | 14/86 [00:35<02:49,  2.35s/it, eval_loss=0.0828, gpu_mem=6.91 GB]"
     ]
    },
    {
     "name": "stderr",
     "output_type": "stream",
     "text": [
      "\r",
      "Val:  16%|█▋        | 14/86 [00:37<02:49,  2.35s/it, eval_loss=0.0800, gpu_mem=6.91 GB]"
     ]
    },
    {
     "name": "stderr",
     "output_type": "stream",
     "text": [
      "\r",
      "Val:  17%|█▋        | 15/86 [00:37<02:49,  2.39s/it, eval_loss=0.0800, gpu_mem=6.91 GB]"
     ]
    },
    {
     "name": "stderr",
     "output_type": "stream",
     "text": [
      "\r",
      "Val:  17%|█▋        | 15/86 [00:40<02:49,  2.39s/it, eval_loss=0.0781, gpu_mem=6.91 GB]"
     ]
    },
    {
     "name": "stderr",
     "output_type": "stream",
     "text": [
      "\r",
      "Val:  19%|█▊        | 16/86 [00:40<02:45,  2.36s/it, eval_loss=0.0781, gpu_mem=6.91 GB]"
     ]
    },
    {
     "name": "stderr",
     "output_type": "stream",
     "text": [
      "\r",
      "Val:  19%|█▊        | 16/86 [00:42<02:45,  2.36s/it, eval_loss=0.0782, gpu_mem=6.91 GB]"
     ]
    },
    {
     "name": "stderr",
     "output_type": "stream",
     "text": [
      "\r",
      "Val:  20%|█▉        | 17/86 [00:42<02:39,  2.32s/it, eval_loss=0.0782, gpu_mem=6.91 GB]"
     ]
    },
    {
     "name": "stderr",
     "output_type": "stream",
     "text": [
      "\r",
      "Val:  20%|█▉        | 17/86 [00:44<02:39,  2.32s/it, eval_loss=0.0777, gpu_mem=6.91 GB]"
     ]
    },
    {
     "name": "stderr",
     "output_type": "stream",
     "text": [
      "\r",
      "Val:  21%|██        | 18/86 [00:44<02:36,  2.30s/it, eval_loss=0.0777, gpu_mem=6.91 GB]"
     ]
    },
    {
     "name": "stderr",
     "output_type": "stream",
     "text": [
      "\r",
      "Val:  21%|██        | 18/86 [00:46<02:36,  2.30s/it, eval_loss=0.0779, gpu_mem=6.91 GB]"
     ]
    },
    {
     "name": "stderr",
     "output_type": "stream",
     "text": [
      "\r",
      "Val:  22%|██▏       | 19/86 [00:46<02:32,  2.28s/it, eval_loss=0.0779, gpu_mem=6.91 GB]"
     ]
    },
    {
     "name": "stderr",
     "output_type": "stream",
     "text": [
      "\r",
      "Val:  22%|██▏       | 19/86 [00:49<02:32,  2.28s/it, eval_loss=0.0785, gpu_mem=6.91 GB]"
     ]
    },
    {
     "name": "stderr",
     "output_type": "stream",
     "text": [
      "\r",
      "Val:  23%|██▎       | 20/86 [00:49<02:35,  2.36s/it, eval_loss=0.0785, gpu_mem=6.91 GB]"
     ]
    },
    {
     "name": "stderr",
     "output_type": "stream",
     "text": [
      "\r",
      "Val:  23%|██▎       | 20/86 [00:51<02:35,  2.36s/it, eval_loss=0.0771, gpu_mem=6.91 GB]"
     ]
    },
    {
     "name": "stderr",
     "output_type": "stream",
     "text": [
      "\r",
      "Val:  24%|██▍       | 21/86 [00:51<02:31,  2.32s/it, eval_loss=0.0771, gpu_mem=6.91 GB]"
     ]
    },
    {
     "name": "stderr",
     "output_type": "stream",
     "text": [
      "\r",
      "Val:  24%|██▍       | 21/86 [00:53<02:31,  2.32s/it, eval_loss=0.0804, gpu_mem=6.91 GB]"
     ]
    },
    {
     "name": "stderr",
     "output_type": "stream",
     "text": [
      "\r",
      "Val:  26%|██▌       | 22/86 [00:53<02:27,  2.30s/it, eval_loss=0.0804, gpu_mem=6.91 GB]"
     ]
    },
    {
     "name": "stderr",
     "output_type": "stream",
     "text": [
      "\r",
      "Val:  26%|██▌       | 22/86 [00:56<02:27,  2.30s/it, eval_loss=0.0844, gpu_mem=6.91 GB]"
     ]
    },
    {
     "name": "stderr",
     "output_type": "stream",
     "text": [
      "\r",
      "Val:  27%|██▋       | 23/86 [00:56<02:24,  2.29s/it, eval_loss=0.0844, gpu_mem=6.91 GB]"
     ]
    },
    {
     "name": "stderr",
     "output_type": "stream",
     "text": [
      "\r",
      "Val:  27%|██▋       | 23/86 [00:58<02:24,  2.29s/it, eval_loss=0.0839, gpu_mem=6.91 GB]"
     ]
    },
    {
     "name": "stderr",
     "output_type": "stream",
     "text": [
      "\r",
      "Val:  28%|██▊       | 24/86 [00:58<02:21,  2.29s/it, eval_loss=0.0839, gpu_mem=6.91 GB]"
     ]
    },
    {
     "name": "stderr",
     "output_type": "stream",
     "text": [
      "\r",
      "Val:  28%|██▊       | 24/86 [01:01<02:21,  2.29s/it, eval_loss=0.0837, gpu_mem=6.91 GB]"
     ]
    },
    {
     "name": "stderr",
     "output_type": "stream",
     "text": [
      "\r",
      "Val:  29%|██▉       | 25/86 [01:01<02:27,  2.42s/it, eval_loss=0.0837, gpu_mem=6.91 GB]"
     ]
    },
    {
     "name": "stderr",
     "output_type": "stream",
     "text": [
      "\r",
      "Val:  29%|██▉       | 25/86 [01:03<02:27,  2.42s/it, eval_loss=0.0816, gpu_mem=6.91 GB]"
     ]
    },
    {
     "name": "stderr",
     "output_type": "stream",
     "text": [
      "\r",
      "Val:  30%|███       | 26/86 [01:03<02:29,  2.48s/it, eval_loss=0.0816, gpu_mem=6.91 GB]"
     ]
    },
    {
     "name": "stderr",
     "output_type": "stream",
     "text": [
      "\r",
      "Val:  30%|███       | 26/86 [01:05<02:29,  2.48s/it, eval_loss=0.0853, gpu_mem=6.91 GB]"
     ]
    },
    {
     "name": "stderr",
     "output_type": "stream",
     "text": [
      "\r",
      "Val:  31%|███▏      | 27/86 [01:05<02:22,  2.41s/it, eval_loss=0.0853, gpu_mem=6.91 GB]"
     ]
    },
    {
     "name": "stderr",
     "output_type": "stream",
     "text": [
      "\r",
      "Val:  31%|███▏      | 27/86 [01:08<02:22,  2.41s/it, eval_loss=0.0848, gpu_mem=6.91 GB]"
     ]
    },
    {
     "name": "stderr",
     "output_type": "stream",
     "text": [
      "\r",
      "Val:  33%|███▎      | 28/86 [01:08<02:16,  2.35s/it, eval_loss=0.0848, gpu_mem=6.91 GB]"
     ]
    },
    {
     "name": "stderr",
     "output_type": "stream",
     "text": [
      "\r",
      "Val:  33%|███▎      | 28/86 [01:10<02:16,  2.35s/it, eval_loss=0.0838, gpu_mem=6.91 GB]"
     ]
    },
    {
     "name": "stderr",
     "output_type": "stream",
     "text": [
      "\r",
      "Val:  34%|███▎      | 29/86 [01:10<02:15,  2.38s/it, eval_loss=0.0838, gpu_mem=6.91 GB]"
     ]
    },
    {
     "name": "stderr",
     "output_type": "stream",
     "text": [
      "\r",
      "Val:  34%|███▎      | 29/86 [01:12<02:15,  2.38s/it, eval_loss=0.0838, gpu_mem=6.91 GB]"
     ]
    },
    {
     "name": "stderr",
     "output_type": "stream",
     "text": [
      "\r",
      "Val:  35%|███▍      | 30/86 [01:12<02:10,  2.34s/it, eval_loss=0.0838, gpu_mem=6.91 GB]"
     ]
    },
    {
     "name": "stderr",
     "output_type": "stream",
     "text": [
      "\r",
      "Val:  35%|███▍      | 30/86 [01:15<02:10,  2.34s/it, eval_loss=0.0830, gpu_mem=6.91 GB]"
     ]
    },
    {
     "name": "stderr",
     "output_type": "stream",
     "text": [
      "\r",
      "Val:  36%|███▌      | 31/86 [01:15<02:06,  2.30s/it, eval_loss=0.0830, gpu_mem=6.91 GB]"
     ]
    },
    {
     "name": "stderr",
     "output_type": "stream",
     "text": [
      "\r",
      "Val:  36%|███▌      | 31/86 [01:17<02:06,  2.30s/it, eval_loss=0.0905, gpu_mem=6.91 GB]"
     ]
    },
    {
     "name": "stderr",
     "output_type": "stream",
     "text": [
      "\r",
      "Val:  37%|███▋      | 32/86 [01:17<02:03,  2.28s/it, eval_loss=0.0905, gpu_mem=6.91 GB]"
     ]
    },
    {
     "name": "stderr",
     "output_type": "stream",
     "text": [
      "\r",
      "Val:  37%|███▋      | 32/86 [01:19<02:03,  2.28s/it, eval_loss=0.0886, gpu_mem=6.91 GB]"
     ]
    },
    {
     "name": "stderr",
     "output_type": "stream",
     "text": [
      "\r",
      "Val:  38%|███▊      | 33/86 [01:19<01:59,  2.26s/it, eval_loss=0.0886, gpu_mem=6.91 GB]"
     ]
    },
    {
     "name": "stderr",
     "output_type": "stream",
     "text": [
      "\r",
      "Val:  38%|███▊      | 33/86 [01:21<01:59,  2.26s/it, eval_loss=0.0899, gpu_mem=6.91 GB]"
     ]
    },
    {
     "name": "stderr",
     "output_type": "stream",
     "text": [
      "\r",
      "Val:  40%|███▉      | 34/86 [01:21<02:00,  2.31s/it, eval_loss=0.0899, gpu_mem=6.91 GB]"
     ]
    },
    {
     "name": "stderr",
     "output_type": "stream",
     "text": [
      "\r",
      "Val:  40%|███▉      | 34/86 [01:24<02:00,  2.31s/it, eval_loss=0.0889, gpu_mem=6.91 GB]"
     ]
    },
    {
     "name": "stderr",
     "output_type": "stream",
     "text": [
      "\r",
      "Val:  41%|████      | 35/86 [01:24<01:55,  2.27s/it, eval_loss=0.0889, gpu_mem=6.91 GB]"
     ]
    },
    {
     "name": "stderr",
     "output_type": "stream",
     "text": [
      "\r",
      "Val:  41%|████      | 35/86 [01:26<01:55,  2.27s/it, eval_loss=0.0875, gpu_mem=6.91 GB]"
     ]
    },
    {
     "name": "stderr",
     "output_type": "stream",
     "text": [
      "\r",
      "Val:  42%|████▏     | 36/86 [01:26<01:52,  2.25s/it, eval_loss=0.0875, gpu_mem=6.91 GB]"
     ]
    },
    {
     "name": "stderr",
     "output_type": "stream",
     "text": [
      "\r",
      "Val:  42%|████▏     | 36/86 [01:28<01:52,  2.25s/it, eval_loss=0.0881, gpu_mem=6.91 GB]"
     ]
    },
    {
     "name": "stderr",
     "output_type": "stream",
     "text": [
      "\r",
      "Val:  43%|████▎     | 37/86 [01:28<01:49,  2.23s/it, eval_loss=0.0881, gpu_mem=6.91 GB]"
     ]
    },
    {
     "name": "stderr",
     "output_type": "stream",
     "text": [
      "\r",
      "Val:  43%|████▎     | 37/86 [01:30<01:49,  2.23s/it, eval_loss=0.0879, gpu_mem=6.91 GB]"
     ]
    },
    {
     "name": "stderr",
     "output_type": "stream",
     "text": [
      "\r",
      "Val:  44%|████▍     | 38/86 [01:30<01:46,  2.21s/it, eval_loss=0.0879, gpu_mem=6.91 GB]"
     ]
    },
    {
     "name": "stderr",
     "output_type": "stream",
     "text": [
      "\r",
      "Val:  44%|████▍     | 38/86 [01:33<01:46,  2.21s/it, eval_loss=0.0865, gpu_mem=6.91 GB]"
     ]
    },
    {
     "name": "stderr",
     "output_type": "stream",
     "text": [
      "\r",
      "Val:  45%|████▌     | 39/86 [01:33<01:53,  2.42s/it, eval_loss=0.0865, gpu_mem=6.91 GB]"
     ]
    },
    {
     "name": "stderr",
     "output_type": "stream",
     "text": [
      "\r",
      "Val:  45%|████▌     | 39/86 [01:35<01:53,  2.42s/it, eval_loss=0.0864, gpu_mem=6.91 GB]"
     ]
    },
    {
     "name": "stderr",
     "output_type": "stream",
     "text": [
      "\r",
      "Val:  47%|████▋     | 40/86 [01:35<01:49,  2.38s/it, eval_loss=0.0864, gpu_mem=6.91 GB]"
     ]
    },
    {
     "name": "stderr",
     "output_type": "stream",
     "text": [
      "\r",
      "Val:  47%|████▋     | 40/86 [01:38<01:49,  2.38s/it, eval_loss=0.0859, gpu_mem=6.91 GB]"
     ]
    },
    {
     "name": "stderr",
     "output_type": "stream",
     "text": [
      "\r",
      "Val:  48%|████▊     | 41/86 [01:38<01:44,  2.33s/it, eval_loss=0.0859, gpu_mem=6.91 GB]"
     ]
    },
    {
     "name": "stderr",
     "output_type": "stream",
     "text": [
      "\r",
      "Val:  48%|████▊     | 41/86 [01:40<01:44,  2.33s/it, eval_loss=0.0854, gpu_mem=6.91 GB]"
     ]
    },
    {
     "name": "stderr",
     "output_type": "stream",
     "text": [
      "\r",
      "Val:  49%|████▉     | 42/86 [01:40<01:40,  2.29s/it, eval_loss=0.0854, gpu_mem=6.91 GB]"
     ]
    },
    {
     "name": "stderr",
     "output_type": "stream",
     "text": [
      "\r",
      "Val:  49%|████▉     | 42/86 [01:42<01:40,  2.29s/it, eval_loss=0.0845, gpu_mem=6.91 GB]"
     ]
    },
    {
     "name": "stderr",
     "output_type": "stream",
     "text": [
      "\r",
      "Val:  50%|█████     | 43/86 [01:42<01:38,  2.29s/it, eval_loss=0.0845, gpu_mem=6.91 GB]"
     ]
    },
    {
     "name": "stderr",
     "output_type": "stream",
     "text": [
      "\r",
      "Val:  50%|█████     | 43/86 [01:45<01:38,  2.29s/it, eval_loss=0.0877, gpu_mem=6.91 GB]"
     ]
    },
    {
     "name": "stderr",
     "output_type": "stream",
     "text": [
      "\r",
      "Val:  51%|█████     | 44/86 [01:45<01:38,  2.35s/it, eval_loss=0.0877, gpu_mem=6.91 GB]"
     ]
    },
    {
     "name": "stderr",
     "output_type": "stream",
     "text": [
      "\r",
      "Val:  51%|█████     | 44/86 [01:47<01:38,  2.35s/it, eval_loss=0.0864, gpu_mem=6.91 GB]"
     ]
    },
    {
     "name": "stderr",
     "output_type": "stream",
     "text": [
      "\r",
      "Val:  52%|█████▏    | 45/86 [01:47<01:38,  2.41s/it, eval_loss=0.0864, gpu_mem=6.91 GB]"
     ]
    },
    {
     "name": "stderr",
     "output_type": "stream",
     "text": [
      "\r",
      "Val:  52%|█████▏    | 45/86 [01:50<01:38,  2.41s/it, eval_loss=0.0863, gpu_mem=6.91 GB]"
     ]
    },
    {
     "name": "stderr",
     "output_type": "stream",
     "text": [
      "\r",
      "Val:  53%|█████▎    | 46/86 [01:50<01:36,  2.42s/it, eval_loss=0.0863, gpu_mem=6.91 GB]"
     ]
    },
    {
     "name": "stderr",
     "output_type": "stream",
     "text": [
      "\r",
      "Val:  53%|█████▎    | 46/86 [01:52<01:36,  2.42s/it, eval_loss=0.0856, gpu_mem=6.91 GB]"
     ]
    },
    {
     "name": "stderr",
     "output_type": "stream",
     "text": [
      "\r",
      "Val:  55%|█████▍    | 47/86 [01:52<01:31,  2.35s/it, eval_loss=0.0856, gpu_mem=6.91 GB]"
     ]
    },
    {
     "name": "stderr",
     "output_type": "stream",
     "text": [
      "\r",
      "Val:  55%|█████▍    | 47/86 [01:54<01:31,  2.35s/it, eval_loss=0.0874, gpu_mem=6.91 GB]"
     ]
    },
    {
     "name": "stderr",
     "output_type": "stream",
     "text": [
      "\r",
      "Val:  56%|█████▌    | 48/86 [01:54<01:29,  2.36s/it, eval_loss=0.0874, gpu_mem=6.91 GB]"
     ]
    },
    {
     "name": "stderr",
     "output_type": "stream",
     "text": [
      "\r",
      "Val:  56%|█████▌    | 48/86 [01:56<01:29,  2.36s/it, eval_loss=0.0869, gpu_mem=6.91 GB]"
     ]
    },
    {
     "name": "stderr",
     "output_type": "stream",
     "text": [
      "\r",
      "Val:  57%|█████▋    | 49/86 [01:56<01:25,  2.32s/it, eval_loss=0.0869, gpu_mem=6.91 GB]"
     ]
    },
    {
     "name": "stderr",
     "output_type": "stream",
     "text": [
      "\r",
      "Val:  57%|█████▋    | 49/86 [01:59<01:25,  2.32s/it, eval_loss=0.0866, gpu_mem=6.91 GB]"
     ]
    },
    {
     "name": "stderr",
     "output_type": "stream",
     "text": [
      "\r",
      "Val:  58%|█████▊    | 50/86 [01:59<01:22,  2.29s/it, eval_loss=0.0866, gpu_mem=6.91 GB]"
     ]
    },
    {
     "name": "stderr",
     "output_type": "stream",
     "text": [
      "\r",
      "Val:  58%|█████▊    | 50/86 [02:01<01:22,  2.29s/it, eval_loss=0.0895, gpu_mem=6.91 GB]"
     ]
    },
    {
     "name": "stderr",
     "output_type": "stream",
     "text": [
      "\r",
      "Val:  59%|█████▉    | 51/86 [02:01<01:19,  2.26s/it, eval_loss=0.0895, gpu_mem=6.91 GB]"
     ]
    },
    {
     "name": "stderr",
     "output_type": "stream",
     "text": [
      "\r",
      "Val:  59%|█████▉    | 51/86 [02:03<01:19,  2.26s/it, eval_loss=0.0909, gpu_mem=6.91 GB]"
     ]
    },
    {
     "name": "stderr",
     "output_type": "stream",
     "text": [
      "\r",
      "Val:  60%|██████    | 52/86 [02:03<01:16,  2.24s/it, eval_loss=0.0909, gpu_mem=6.91 GB]"
     ]
    },
    {
     "name": "stderr",
     "output_type": "stream",
     "text": [
      "\r",
      "Val:  60%|██████    | 52/86 [02:06<01:16,  2.24s/it, eval_loss=0.0922, gpu_mem=6.91 GB]"
     ]
    },
    {
     "name": "stderr",
     "output_type": "stream",
     "text": [
      "\r",
      "Val:  62%|██████▏   | 53/86 [02:06<01:21,  2.47s/it, eval_loss=0.0922, gpu_mem=6.91 GB]"
     ]
    },
    {
     "name": "stderr",
     "output_type": "stream",
     "text": [
      "\r",
      "Val:  62%|██████▏   | 53/86 [02:08<01:21,  2.47s/it, eval_loss=0.0915, gpu_mem=6.91 GB]"
     ]
    },
    {
     "name": "stderr",
     "output_type": "stream",
     "text": [
      "\r",
      "Val:  63%|██████▎   | 54/86 [02:08<01:16,  2.39s/it, eval_loss=0.0915, gpu_mem=6.91 GB]"
     ]
    },
    {
     "name": "stderr",
     "output_type": "stream",
     "text": [
      "\r",
      "Val:  63%|██████▎   | 54/86 [02:10<01:16,  2.39s/it, eval_loss=0.0922, gpu_mem=6.91 GB]"
     ]
    },
    {
     "name": "stderr",
     "output_type": "stream",
     "text": [
      "\r",
      "Val:  64%|██████▍   | 55/86 [02:10<01:12,  2.33s/it, eval_loss=0.0922, gpu_mem=6.91 GB]"
     ]
    },
    {
     "name": "stderr",
     "output_type": "stream",
     "text": [
      "\r",
      "Val:  64%|██████▍   | 55/86 [02:13<01:12,  2.33s/it, eval_loss=0.0918, gpu_mem=6.91 GB]"
     ]
    },
    {
     "name": "stderr",
     "output_type": "stream",
     "text": [
      "\r",
      "Val:  65%|██████▌   | 56/86 [02:13<01:08,  2.29s/it, eval_loss=0.0918, gpu_mem=6.91 GB]"
     ]
    },
    {
     "name": "stderr",
     "output_type": "stream",
     "text": [
      "\r",
      "Val:  65%|██████▌   | 56/86 [02:15<01:08,  2.29s/it, eval_loss=0.0917, gpu_mem=6.91 GB]"
     ]
    },
    {
     "name": "stderr",
     "output_type": "stream",
     "text": [
      "\r",
      "Val:  66%|██████▋   | 57/86 [02:15<01:06,  2.29s/it, eval_loss=0.0917, gpu_mem=6.91 GB]"
     ]
    },
    {
     "name": "stderr",
     "output_type": "stream",
     "text": [
      "\r",
      "Val:  66%|██████▋   | 57/86 [02:17<01:06,  2.29s/it, eval_loss=0.0940, gpu_mem=6.91 GB]"
     ]
    },
    {
     "name": "stderr",
     "output_type": "stream",
     "text": [
      "\r",
      "Val:  67%|██████▋   | 58/86 [02:17<01:04,  2.32s/it, eval_loss=0.0940, gpu_mem=6.91 GB]"
     ]
    },
    {
     "name": "stderr",
     "output_type": "stream",
     "text": [
      "\r",
      "Val:  67%|██████▋   | 58/86 [02:19<01:04,  2.32s/it, eval_loss=0.0935, gpu_mem=6.91 GB]"
     ]
    },
    {
     "name": "stderr",
     "output_type": "stream",
     "text": [
      "\r",
      "Val:  69%|██████▊   | 59/86 [02:19<01:01,  2.29s/it, eval_loss=0.0935, gpu_mem=6.91 GB]"
     ]
    },
    {
     "name": "stderr",
     "output_type": "stream",
     "text": [
      "\r",
      "Val:  69%|██████▊   | 59/86 [02:22<01:01,  2.29s/it, eval_loss=0.0953, gpu_mem=6.91 GB]"
     ]
    },
    {
     "name": "stderr",
     "output_type": "stream",
     "text": [
      "\r",
      "Val:  70%|██████▉   | 60/86 [02:22<00:58,  2.26s/it, eval_loss=0.0953, gpu_mem=6.91 GB]"
     ]
    },
    {
     "name": "stderr",
     "output_type": "stream",
     "text": [
      "\r",
      "Val:  70%|██████▉   | 60/86 [02:24<00:58,  2.26s/it, eval_loss=0.0947, gpu_mem=6.91 GB]"
     ]
    },
    {
     "name": "stderr",
     "output_type": "stream",
     "text": [
      "\r",
      "Val:  71%|███████   | 61/86 [02:24<00:56,  2.24s/it, eval_loss=0.0947, gpu_mem=6.91 GB]"
     ]
    },
    {
     "name": "stderr",
     "output_type": "stream",
     "text": [
      "\r",
      "Val:  71%|███████   | 61/86 [02:26<00:56,  2.24s/it, eval_loss=0.0943, gpu_mem=6.91 GB]"
     ]
    },
    {
     "name": "stderr",
     "output_type": "stream",
     "text": [
      "\r",
      "Val:  72%|███████▏  | 62/86 [02:26<00:54,  2.25s/it, eval_loss=0.0943, gpu_mem=6.91 GB]"
     ]
    },
    {
     "name": "stderr",
     "output_type": "stream",
     "text": [
      "\r",
      "Val:  72%|███████▏  | 62/86 [02:29<00:54,  2.25s/it, eval_loss=0.0942, gpu_mem=6.91 GB]"
     ]
    },
    {
     "name": "stderr",
     "output_type": "stream",
     "text": [
      "\r",
      "Val:  73%|███████▎  | 63/86 [02:29<00:52,  2.30s/it, eval_loss=0.0942, gpu_mem=6.91 GB]"
     ]
    },
    {
     "name": "stderr",
     "output_type": "stream",
     "text": [
      "\r",
      "Val:  73%|███████▎  | 63/86 [02:31<00:52,  2.30s/it, eval_loss=0.0941, gpu_mem=6.91 GB]"
     ]
    },
    {
     "name": "stderr",
     "output_type": "stream",
     "text": [
      "\r",
      "Val:  74%|███████▍  | 64/86 [02:31<00:49,  2.26s/it, eval_loss=0.0941, gpu_mem=6.91 GB]"
     ]
    },
    {
     "name": "stderr",
     "output_type": "stream",
     "text": [
      "\r",
      "Val:  74%|███████▍  | 64/86 [02:33<00:49,  2.26s/it, eval_loss=0.0932, gpu_mem=6.91 GB]"
     ]
    },
    {
     "name": "stderr",
     "output_type": "stream",
     "text": [
      "\r",
      "Val:  76%|███████▌  | 65/86 [02:33<00:47,  2.24s/it, eval_loss=0.0932, gpu_mem=6.91 GB]"
     ]
    },
    {
     "name": "stderr",
     "output_type": "stream",
     "text": [
      "\r",
      "Val:  76%|███████▌  | 65/86 [02:35<00:47,  2.24s/it, eval_loss=0.0950, gpu_mem=6.91 GB]"
     ]
    },
    {
     "name": "stderr",
     "output_type": "stream",
     "text": [
      "\r",
      "Val:  77%|███████▋  | 66/86 [02:35<00:44,  2.24s/it, eval_loss=0.0950, gpu_mem=6.91 GB]"
     ]
    },
    {
     "name": "stderr",
     "output_type": "stream",
     "text": [
      "\r",
      "Val:  77%|███████▋  | 66/86 [02:38<00:44,  2.24s/it, eval_loss=0.0942, gpu_mem=6.91 GB]"
     ]
    },
    {
     "name": "stderr",
     "output_type": "stream",
     "text": [
      "\r",
      "Val:  78%|███████▊  | 67/86 [02:38<00:46,  2.43s/it, eval_loss=0.0942, gpu_mem=6.91 GB]"
     ]
    },
    {
     "name": "stderr",
     "output_type": "stream",
     "text": [
      "\r",
      "Val:  78%|███████▊  | 67/86 [02:40<00:46,  2.43s/it, eval_loss=0.0966, gpu_mem=6.91 GB]"
     ]
    },
    {
     "name": "stderr",
     "output_type": "stream",
     "text": [
      "\r",
      "Val:  79%|███████▉  | 68/86 [02:40<00:42,  2.38s/it, eval_loss=0.0966, gpu_mem=6.91 GB]"
     ]
    },
    {
     "name": "stderr",
     "output_type": "stream",
     "text": [
      "\r",
      "Val:  79%|███████▉  | 68/86 [02:43<00:42,  2.38s/it, eval_loss=0.0967, gpu_mem=6.91 GB]"
     ]
    },
    {
     "name": "stderr",
     "output_type": "stream",
     "text": [
      "\r",
      "Val:  80%|████████  | 69/86 [02:43<00:39,  2.33s/it, eval_loss=0.0967, gpu_mem=6.91 GB]"
     ]
    },
    {
     "name": "stderr",
     "output_type": "stream",
     "text": [
      "\r",
      "Val:  80%|████████  | 69/86 [02:45<00:39,  2.33s/it, eval_loss=0.0964, gpu_mem=6.91 GB]"
     ]
    },
    {
     "name": "stderr",
     "output_type": "stream",
     "text": [
      "\r",
      "Val:  81%|████████▏ | 70/86 [02:45<00:36,  2.28s/it, eval_loss=0.0964, gpu_mem=6.91 GB]"
     ]
    },
    {
     "name": "stderr",
     "output_type": "stream",
     "text": [
      "\r",
      "Val:  81%|████████▏ | 70/86 [02:47<00:36,  2.28s/it, eval_loss=0.0971, gpu_mem=6.91 GB]"
     ]
    },
    {
     "name": "stderr",
     "output_type": "stream",
     "text": [
      "\r",
      "Val:  83%|████████▎ | 71/86 [02:47<00:34,  2.27s/it, eval_loss=0.0971, gpu_mem=6.91 GB]"
     ]
    },
    {
     "name": "stderr",
     "output_type": "stream",
     "text": [
      "\r",
      "Val:  83%|████████▎ | 71/86 [02:49<00:34,  2.27s/it, eval_loss=0.0967, gpu_mem=6.91 GB]"
     ]
    },
    {
     "name": "stderr",
     "output_type": "stream",
     "text": [
      "\r",
      "Val:  84%|████████▎ | 72/86 [02:49<00:32,  2.31s/it, eval_loss=0.0967, gpu_mem=6.91 GB]"
     ]
    },
    {
     "name": "stderr",
     "output_type": "stream",
     "text": [
      "\r",
      "Val:  84%|████████▎ | 72/86 [02:52<00:32,  2.31s/it, eval_loss=0.0964, gpu_mem=6.91 GB]"
     ]
    },
    {
     "name": "stderr",
     "output_type": "stream",
     "text": [
      "\r",
      "Val:  85%|████████▍ | 73/86 [02:52<00:29,  2.27s/it, eval_loss=0.0964, gpu_mem=6.91 GB]"
     ]
    },
    {
     "name": "stderr",
     "output_type": "stream",
     "text": [
      "\r",
      "Val:  85%|████████▍ | 73/86 [02:54<00:29,  2.27s/it, eval_loss=0.0967, gpu_mem=6.91 GB]"
     ]
    },
    {
     "name": "stderr",
     "output_type": "stream",
     "text": [
      "\r",
      "Val:  86%|████████▌ | 74/86 [02:54<00:27,  2.27s/it, eval_loss=0.0967, gpu_mem=6.91 GB]"
     ]
    },
    {
     "name": "stderr",
     "output_type": "stream",
     "text": [
      "\r",
      "Val:  86%|████████▌ | 74/86 [02:56<00:27,  2.27s/it, eval_loss=0.0961, gpu_mem=6.91 GB]"
     ]
    },
    {
     "name": "stderr",
     "output_type": "stream",
     "text": [
      "\r",
      "Val:  87%|████████▋ | 75/86 [02:56<00:24,  2.27s/it, eval_loss=0.0961, gpu_mem=6.91 GB]"
     ]
    },
    {
     "name": "stderr",
     "output_type": "stream",
     "text": [
      "\r",
      "Val:  87%|████████▋ | 75/86 [02:58<00:24,  2.27s/it, eval_loss=0.0955, gpu_mem=6.91 GB]"
     ]
    },
    {
     "name": "stderr",
     "output_type": "stream",
     "text": [
      "\r",
      "Val:  88%|████████▊ | 76/86 [02:58<00:22,  2.25s/it, eval_loss=0.0955, gpu_mem=6.91 GB]"
     ]
    },
    {
     "name": "stderr",
     "output_type": "stream",
     "text": [
      "\r",
      "Val:  88%|████████▊ | 76/86 [03:01<00:22,  2.25s/it, eval_loss=0.0966, gpu_mem=6.91 GB]"
     ]
    },
    {
     "name": "stderr",
     "output_type": "stream",
     "text": [
      "\r",
      "Val:  90%|████████▉ | 77/86 [03:01<00:20,  2.30s/it, eval_loss=0.0966, gpu_mem=6.91 GB]"
     ]
    },
    {
     "name": "stderr",
     "output_type": "stream",
     "text": [
      "\r",
      "Val:  90%|████████▉ | 77/86 [03:03<00:20,  2.30s/it, eval_loss=0.0959, gpu_mem=6.91 GB]"
     ]
    },
    {
     "name": "stderr",
     "output_type": "stream",
     "text": [
      "\r",
      "Val:  91%|█████████ | 78/86 [03:03<00:18,  2.26s/it, eval_loss=0.0959, gpu_mem=6.91 GB]"
     ]
    },
    {
     "name": "stderr",
     "output_type": "stream",
     "text": [
      "\r",
      "Val:  91%|█████████ | 78/86 [03:05<00:18,  2.26s/it, eval_loss=0.0958, gpu_mem=6.91 GB]"
     ]
    },
    {
     "name": "stderr",
     "output_type": "stream",
     "text": [
      "\r",
      "Val:  92%|█████████▏| 79/86 [03:05<00:15,  2.24s/it, eval_loss=0.0958, gpu_mem=6.91 GB]"
     ]
    },
    {
     "name": "stderr",
     "output_type": "stream",
     "text": [
      "\r",
      "Val:  92%|█████████▏| 79/86 [03:07<00:15,  2.24s/it, eval_loss=0.0960, gpu_mem=6.91 GB]"
     ]
    },
    {
     "name": "stderr",
     "output_type": "stream",
     "text": [
      "\r",
      "Val:  93%|█████████▎| 80/86 [03:07<00:13,  2.23s/it, eval_loss=0.0960, gpu_mem=6.91 GB]"
     ]
    },
    {
     "name": "stderr",
     "output_type": "stream",
     "text": [
      "\r",
      "Val:  93%|█████████▎| 80/86 [03:10<00:13,  2.23s/it, eval_loss=0.0954, gpu_mem=6.91 GB]"
     ]
    },
    {
     "name": "stderr",
     "output_type": "stream",
     "text": [
      "\r",
      "Val:  94%|█████████▍| 81/86 [03:10<00:11,  2.39s/it, eval_loss=0.0954, gpu_mem=6.91 GB]"
     ]
    },
    {
     "name": "stderr",
     "output_type": "stream",
     "text": [
      "\r",
      "Val:  94%|█████████▍| 81/86 [03:12<00:11,  2.39s/it, eval_loss=0.0950, gpu_mem=6.91 GB]"
     ]
    },
    {
     "name": "stderr",
     "output_type": "stream",
     "text": [
      "\r",
      "Val:  95%|█████████▌| 82/86 [03:12<00:09,  2.41s/it, eval_loss=0.0950, gpu_mem=6.91 GB]"
     ]
    },
    {
     "name": "stderr",
     "output_type": "stream",
     "text": [
      "\r",
      "Val:  95%|█████████▌| 82/86 [03:15<00:09,  2.41s/it, eval_loss=0.0948, gpu_mem=6.91 GB]"
     ]
    },
    {
     "name": "stderr",
     "output_type": "stream",
     "text": [
      "\r",
      "Val:  97%|█████████▋| 83/86 [03:15<00:07,  2.36s/it, eval_loss=0.0948, gpu_mem=6.91 GB]"
     ]
    },
    {
     "name": "stderr",
     "output_type": "stream",
     "text": [
      "\r",
      "Val:  97%|█████████▋| 83/86 [03:17<00:07,  2.36s/it, eval_loss=0.0945, gpu_mem=6.91 GB]"
     ]
    },
    {
     "name": "stderr",
     "output_type": "stream",
     "text": [
      "\r",
      "Val:  98%|█████████▊| 84/86 [03:17<00:04,  2.33s/it, eval_loss=0.0945, gpu_mem=6.91 GB]"
     ]
    },
    {
     "name": "stderr",
     "output_type": "stream",
     "text": [
      "\r",
      "Val:  98%|█████████▊| 84/86 [03:19<00:04,  2.33s/it, eval_loss=0.0972, gpu_mem=6.91 GB]"
     ]
    },
    {
     "name": "stderr",
     "output_type": "stream",
     "text": [
      "\r",
      "Val:  99%|█████████▉| 85/86 [03:19<00:02,  2.29s/it, eval_loss=0.0972, gpu_mem=6.91 GB]"
     ]
    },
    {
     "name": "stderr",
     "output_type": "stream",
     "text": [
      "\r",
      "Val:  99%|█████████▉| 85/86 [03:20<00:02,  2.29s/it, eval_loss=0.0972, gpu_mem=6.91 GB]"
     ]
    },
    {
     "name": "stderr",
     "output_type": "stream",
     "text": [
      "\r",
      "Val: 100%|██████████| 86/86 [03:20<00:00,  1.76s/it, eval_loss=0.0972, gpu_mem=6.91 GB]"
     ]
    },
    {
     "name": "stderr",
     "output_type": "stream",
     "text": [
      "\r",
      "Val: 100%|██████████| 86/86 [03:20<00:00,  2.33s/it, eval_loss=0.0972, gpu_mem=6.91 GB]"
     ]
    },
    {
     "name": "stderr",
     "output_type": "stream",
     "text": [
      "\n",
      "Valid loss:0.0972\n"
     ]
    },
    {
     "name": "stderr",
     "output_type": "stream",
     "text": [
      "Val metric mean prob: 0.1867\n"
     ]
    },
    {
     "name": "stderr",
     "output_type": "stream",
     "text": [
      "Best metric at: 0.5111 0.3630  0.7308\n"
     ]
    },
    {
     "name": "stderr",
     "output_type": "stream",
     "text": [
      "Cf: [[2315   18]\n",
      " [  26   23]]\n"
     ]
    },
    {
     "name": "stderr",
     "output_type": "stream",
     "text": [
      "\u001b[32m[I 2023-02-15 04:32:43,716]\u001b[0m Trial 9 finished with value: 0.5111111111111111 and parameters: {'a1': 0.5079049796516664}. Best is trial 0 with value: 0.5111111111111111.\u001b[0m\n"
     ]
    },
    {
     "name": "stdout",
     "output_type": "stream",
     "text": [
      "/kaggle/input/10folds/tf_efficientnetv2_b2_fold_1_model_epoch_3_0.5055_0.360.pth\n",
      "none:  /kaggle/input/10folds/tf_efficientnetv2_b2_fold_1_model_epoch_3_0.5055_0.360.pth\n",
      "/kaggle/input/10folds/tf_efficientnetv2_b2_fold_1_model_epoch_5_0.4865_0.324.pth\n",
      "hehe /kaggle/input/10folds/tf_efficientnetv2_b2_fold_1_model_epoch_5_0.4865_0.324.pth\n"
     ]
    },
    {
     "name": "stdout",
     "output_type": "stream",
     "text": [
      "0.9670527924953918 0.03294720750460822\n",
      "\n"
     ]
    },
    {
     "name": "stderr",
     "output_type": "stream",
     "text": [
      "\r",
      "Val:   0%|          | 0/86 [00:00<?, ?it/s]"
     ]
    },
    {
     "name": "stderr",
     "output_type": "stream",
     "text": [
      "\r",
      "Val:   0%|          | 0/86 [00:04<?, ?it/s, eval_loss=0.0552, gpu_mem=6.91 GB]"
     ]
    },
    {
     "name": "stderr",
     "output_type": "stream",
     "text": [
      "\r",
      "Val:   1%|          | 1/86 [00:04<06:06,  4.31s/it, eval_loss=0.0552, gpu_mem=6.91 GB]"
     ]
    },
    {
     "name": "stderr",
     "output_type": "stream",
     "text": [
      "\r",
      "Val:   1%|          | 1/86 [00:06<06:06,  4.31s/it, eval_loss=0.0431, gpu_mem=6.91 GB]"
     ]
    },
    {
     "name": "stderr",
     "output_type": "stream",
     "text": [
      "\r",
      "Val:   2%|▏         | 2/86 [00:06<04:30,  3.22s/it, eval_loss=0.0431, gpu_mem=6.91 GB]"
     ]
    },
    {
     "name": "stderr",
     "output_type": "stream",
     "text": [
      "\r",
      "Val:   2%|▏         | 2/86 [00:09<04:30,  3.22s/it, eval_loss=0.0889, gpu_mem=6.91 GB]"
     ]
    },
    {
     "name": "stderr",
     "output_type": "stream",
     "text": [
      "\r",
      "Val:   3%|▎         | 3/86 [00:09<04:02,  2.93s/it, eval_loss=0.0889, gpu_mem=6.91 GB]"
     ]
    },
    {
     "name": "stderr",
     "output_type": "stream",
     "text": [
      "\r",
      "Val:   3%|▎         | 3/86 [00:12<04:02,  2.93s/it, eval_loss=0.0997, gpu_mem=6.91 GB]"
     ]
    },
    {
     "name": "stderr",
     "output_type": "stream",
     "text": [
      "\r",
      "Val:   5%|▍         | 4/86 [00:12<03:56,  2.88s/it, eval_loss=0.0997, gpu_mem=6.91 GB]"
     ]
    },
    {
     "name": "stderr",
     "output_type": "stream",
     "text": [
      "\r",
      "Val:   5%|▍         | 4/86 [00:14<03:56,  2.88s/it, eval_loss=0.0955, gpu_mem=6.91 GB]"
     ]
    },
    {
     "name": "stderr",
     "output_type": "stream",
     "text": [
      "\r",
      "Val:   6%|▌         | 5/86 [00:14<03:41,  2.73s/it, eval_loss=0.0955, gpu_mem=6.91 GB]"
     ]
    },
    {
     "name": "stderr",
     "output_type": "stream",
     "text": [
      "\r",
      "Val:   6%|▌         | 5/86 [00:17<03:41,  2.73s/it, eval_loss=0.0924, gpu_mem=6.91 GB]"
     ]
    },
    {
     "name": "stderr",
     "output_type": "stream",
     "text": [
      "\r",
      "Val:   7%|▋         | 6/86 [00:17<03:48,  2.86s/it, eval_loss=0.0924, gpu_mem=6.91 GB]"
     ]
    },
    {
     "name": "stderr",
     "output_type": "stream",
     "text": [
      "\r",
      "Val:   7%|▋         | 6/86 [00:20<03:48,  2.86s/it, eval_loss=0.0847, gpu_mem=6.91 GB]"
     ]
    },
    {
     "name": "stderr",
     "output_type": "stream",
     "text": [
      "\r",
      "Val:   8%|▊         | 7/86 [00:20<03:38,  2.77s/it, eval_loss=0.0847, gpu_mem=6.91 GB]"
     ]
    },
    {
     "name": "stderr",
     "output_type": "stream",
     "text": [
      "\r",
      "Val:   8%|▊         | 7/86 [00:23<03:38,  2.77s/it, eval_loss=0.0818, gpu_mem=6.91 GB]"
     ]
    },
    {
     "name": "stderr",
     "output_type": "stream",
     "text": [
      "\r",
      "Val:   9%|▉         | 8/86 [00:23<03:35,  2.76s/it, eval_loss=0.0818, gpu_mem=6.91 GB]"
     ]
    },
    {
     "name": "stderr",
     "output_type": "stream",
     "text": [
      "\r",
      "Val:   9%|▉         | 8/86 [00:25<03:35,  2.76s/it, eval_loss=0.0801, gpu_mem=6.91 GB]"
     ]
    },
    {
     "name": "stderr",
     "output_type": "stream",
     "text": [
      "\r",
      "Val:  10%|█         | 9/86 [00:25<03:27,  2.69s/it, eval_loss=0.0801, gpu_mem=6.91 GB]"
     ]
    },
    {
     "name": "stderr",
     "output_type": "stream",
     "text": [
      "\r",
      "Val:  10%|█         | 9/86 [00:28<03:27,  2.69s/it, eval_loss=0.0871, gpu_mem=6.91 GB]"
     ]
    },
    {
     "name": "stderr",
     "output_type": "stream",
     "text": [
      "\r",
      "Val:  12%|█▏        | 10/86 [00:28<03:19,  2.62s/it, eval_loss=0.0871, gpu_mem=6.91 GB]"
     ]
    },
    {
     "name": "stderr",
     "output_type": "stream",
     "text": [
      "\r",
      "Val:  12%|█▏        | 10/86 [00:30<03:19,  2.62s/it, eval_loss=0.0842, gpu_mem=6.91 GB]"
     ]
    },
    {
     "name": "stderr",
     "output_type": "stream",
     "text": [
      "\r",
      "Val:  13%|█▎        | 11/86 [00:30<03:14,  2.59s/it, eval_loss=0.0842, gpu_mem=6.91 GB]"
     ]
    },
    {
     "name": "stderr",
     "output_type": "stream",
     "text": [
      "\r",
      "Val:  13%|█▎        | 11/86 [00:33<03:14,  2.59s/it, eval_loss=0.0844, gpu_mem=6.91 GB]"
     ]
    },
    {
     "name": "stderr",
     "output_type": "stream",
     "text": [
      "\r",
      "Val:  14%|█▍        | 12/86 [00:33<03:18,  2.68s/it, eval_loss=0.0844, gpu_mem=6.91 GB]"
     ]
    },
    {
     "name": "stderr",
     "output_type": "stream",
     "text": [
      "\r",
      "Val:  14%|█▍        | 12/86 [00:35<03:18,  2.68s/it, eval_loss=0.0865, gpu_mem=6.91 GB]"
     ]
    },
    {
     "name": "stderr",
     "output_type": "stream",
     "text": [
      "\r",
      "Val:  15%|█▌        | 13/86 [00:35<03:11,  2.62s/it, eval_loss=0.0865, gpu_mem=6.91 GB]"
     ]
    },
    {
     "name": "stderr",
     "output_type": "stream",
     "text": [
      "\r",
      "Val:  15%|█▌        | 13/86 [00:38<03:11,  2.62s/it, eval_loss=0.0828, gpu_mem=6.91 GB]"
     ]
    },
    {
     "name": "stderr",
     "output_type": "stream",
     "text": [
      "\r",
      "Val:  16%|█▋        | 14/86 [00:38<03:05,  2.57s/it, eval_loss=0.0828, gpu_mem=6.91 GB]"
     ]
    },
    {
     "name": "stderr",
     "output_type": "stream",
     "text": [
      "\r",
      "Val:  16%|█▋        | 14/86 [00:40<03:05,  2.57s/it, eval_loss=0.0800, gpu_mem=6.91 GB]"
     ]
    },
    {
     "name": "stderr",
     "output_type": "stream",
     "text": [
      "\r",
      "Val:  17%|█▋        | 15/86 [00:40<03:00,  2.55s/it, eval_loss=0.0800, gpu_mem=6.91 GB]"
     ]
    },
    {
     "name": "stderr",
     "output_type": "stream",
     "text": [
      "\r",
      "Val:  17%|█▋        | 15/86 [00:43<03:00,  2.55s/it, eval_loss=0.0781, gpu_mem=6.91 GB]"
     ]
    },
    {
     "name": "stderr",
     "output_type": "stream",
     "text": [
      "\r",
      "Val:  19%|█▊        | 16/86 [00:43<03:02,  2.60s/it, eval_loss=0.0781, gpu_mem=6.91 GB]"
     ]
    },
    {
     "name": "stderr",
     "output_type": "stream",
     "text": [
      "\r",
      "Val:  19%|█▊        | 16/86 [00:46<03:02,  2.60s/it, eval_loss=0.0782, gpu_mem=6.91 GB]"
     ]
    },
    {
     "name": "stderr",
     "output_type": "stream",
     "text": [
      "\r",
      "Val:  20%|█▉        | 17/86 [00:46<02:58,  2.59s/it, eval_loss=0.0782, gpu_mem=6.91 GB]"
     ]
    },
    {
     "name": "stderr",
     "output_type": "stream",
     "text": [
      "\r",
      "Val:  20%|█▉        | 17/86 [00:49<02:58,  2.59s/it, eval_loss=0.0777, gpu_mem=6.91 GB]"
     ]
    },
    {
     "name": "stderr",
     "output_type": "stream",
     "text": [
      "\r",
      "Val:  21%|██        | 18/86 [00:49<03:08,  2.77s/it, eval_loss=0.0777, gpu_mem=6.91 GB]"
     ]
    },
    {
     "name": "stderr",
     "output_type": "stream",
     "text": [
      "\r",
      "Val:  21%|██        | 18/86 [00:51<03:08,  2.77s/it, eval_loss=0.0779, gpu_mem=6.91 GB]"
     ]
    },
    {
     "name": "stderr",
     "output_type": "stream",
     "text": [
      "\r",
      "Val:  22%|██▏       | 19/86 [00:51<02:58,  2.66s/it, eval_loss=0.0779, gpu_mem=6.91 GB]"
     ]
    },
    {
     "name": "stderr",
     "output_type": "stream",
     "text": [
      "\r",
      "Val:  22%|██▏       | 19/86 [00:54<02:58,  2.66s/it, eval_loss=0.0785, gpu_mem=6.91 GB]"
     ]
    },
    {
     "name": "stderr",
     "output_type": "stream",
     "text": [
      "\r",
      "Val:  23%|██▎       | 20/86 [00:54<02:56,  2.67s/it, eval_loss=0.0785, gpu_mem=6.91 GB]"
     ]
    },
    {
     "name": "stderr",
     "output_type": "stream",
     "text": [
      "\r",
      "Val:  23%|██▎       | 20/86 [00:56<02:56,  2.67s/it, eval_loss=0.0771, gpu_mem=6.91 GB]"
     ]
    },
    {
     "name": "stderr",
     "output_type": "stream",
     "text": [
      "\r",
      "Val:  24%|██▍       | 21/86 [00:56<02:49,  2.61s/it, eval_loss=0.0771, gpu_mem=6.91 GB]"
     ]
    },
    {
     "name": "stderr",
     "output_type": "stream",
     "text": [
      "\r",
      "Val:  24%|██▍       | 21/86 [00:59<02:49,  2.61s/it, eval_loss=0.0804, gpu_mem=6.91 GB]"
     ]
    },
    {
     "name": "stderr",
     "output_type": "stream",
     "text": [
      "\r",
      "Val:  26%|██▌       | 22/86 [00:59<02:44,  2.58s/it, eval_loss=0.0804, gpu_mem=6.91 GB]"
     ]
    },
    {
     "name": "stderr",
     "output_type": "stream",
     "text": [
      "\r",
      "Val:  26%|██▌       | 22/86 [01:01<02:44,  2.58s/it, eval_loss=0.0844, gpu_mem=6.91 GB]"
     ]
    },
    {
     "name": "stderr",
     "output_type": "stream",
     "text": [
      "\r",
      "Val:  27%|██▋       | 23/86 [01:01<02:40,  2.55s/it, eval_loss=0.0844, gpu_mem=6.91 GB]"
     ]
    },
    {
     "name": "stderr",
     "output_type": "stream",
     "text": [
      "\r",
      "Val:  27%|██▋       | 23/86 [01:04<02:40,  2.55s/it, eval_loss=0.0839, gpu_mem=6.91 GB]"
     ]
    },
    {
     "name": "stderr",
     "output_type": "stream",
     "text": [
      "\r",
      "Val:  28%|██▊       | 24/86 [01:04<02:42,  2.61s/it, eval_loss=0.0839, gpu_mem=6.91 GB]"
     ]
    },
    {
     "name": "stderr",
     "output_type": "stream",
     "text": [
      "\r",
      "Val:  28%|██▊       | 24/86 [01:07<02:42,  2.61s/it, eval_loss=0.0837, gpu_mem=6.91 GB]"
     ]
    },
    {
     "name": "stderr",
     "output_type": "stream",
     "text": [
      "\r",
      "Val:  29%|██▉       | 25/86 [01:07<02:40,  2.63s/it, eval_loss=0.0837, gpu_mem=6.91 GB]"
     ]
    },
    {
     "name": "stderr",
     "output_type": "stream",
     "text": [
      "\r",
      "Val:  29%|██▉       | 25/86 [01:09<02:40,  2.63s/it, eval_loss=0.0816, gpu_mem=6.91 GB]"
     ]
    },
    {
     "name": "stderr",
     "output_type": "stream",
     "text": [
      "\r",
      "Val:  30%|███       | 26/86 [01:09<02:36,  2.60s/it, eval_loss=0.0816, gpu_mem=6.91 GB]"
     ]
    },
    {
     "name": "stderr",
     "output_type": "stream",
     "text": [
      "\r",
      "Val:  30%|███       | 26/86 [01:12<02:36,  2.60s/it, eval_loss=0.0853, gpu_mem=6.91 GB]"
     ]
    },
    {
     "name": "stderr",
     "output_type": "stream",
     "text": [
      "\r",
      "Val:  31%|███▏      | 27/86 [01:12<02:32,  2.58s/it, eval_loss=0.0853, gpu_mem=6.91 GB]"
     ]
    },
    {
     "name": "stderr",
     "output_type": "stream",
     "text": [
      "\r",
      "Val:  31%|███▏      | 27/86 [01:14<02:32,  2.58s/it, eval_loss=0.0848, gpu_mem=6.91 GB]"
     ]
    },
    {
     "name": "stderr",
     "output_type": "stream",
     "text": [
      "\r",
      "Val:  33%|███▎      | 28/86 [01:14<02:29,  2.58s/it, eval_loss=0.0848, gpu_mem=6.91 GB]"
     ]
    },
    {
     "name": "stderr",
     "output_type": "stream",
     "text": [
      "\r",
      "Val:  33%|███▎      | 28/86 [01:17<02:29,  2.58s/it, eval_loss=0.0838, gpu_mem=6.91 GB]"
     ]
    },
    {
     "name": "stderr",
     "output_type": "stream",
     "text": [
      "\r",
      "Val:  34%|███▎      | 29/86 [01:17<02:30,  2.64s/it, eval_loss=0.0838, gpu_mem=6.91 GB]"
     ]
    },
    {
     "name": "stderr",
     "output_type": "stream",
     "text": [
      "\r",
      "Val:  34%|███▎      | 29/86 [01:20<02:30,  2.64s/it, eval_loss=0.0838, gpu_mem=6.91 GB]"
     ]
    },
    {
     "name": "stderr",
     "output_type": "stream",
     "text": [
      "\r",
      "Val:  35%|███▍      | 30/86 [01:20<02:34,  2.76s/it, eval_loss=0.0838, gpu_mem=6.91 GB]"
     ]
    },
    {
     "name": "stderr",
     "output_type": "stream",
     "text": [
      "\r",
      "Val:  35%|███▍      | 30/86 [01:23<02:34,  2.76s/it, eval_loss=0.0830, gpu_mem=6.91 GB]"
     ]
    },
    {
     "name": "stderr",
     "output_type": "stream",
     "text": [
      "\r",
      "Val:  36%|███▌      | 31/86 [01:23<02:31,  2.76s/it, eval_loss=0.0830, gpu_mem=6.91 GB]"
     ]
    },
    {
     "name": "stderr",
     "output_type": "stream",
     "text": [
      "\r",
      "Val:  36%|███▌      | 31/86 [01:26<02:31,  2.76s/it, eval_loss=0.0905, gpu_mem=6.91 GB]"
     ]
    },
    {
     "name": "stderr",
     "output_type": "stream",
     "text": [
      "\r",
      "Val:  37%|███▋      | 32/86 [01:26<02:28,  2.75s/it, eval_loss=0.0905, gpu_mem=6.91 GB]"
     ]
    },
    {
     "name": "stderr",
     "output_type": "stream",
     "text": [
      "\r",
      "Val:  37%|███▋      | 32/86 [01:29<02:28,  2.75s/it, eval_loss=0.0886, gpu_mem=6.91 GB]"
     ]
    },
    {
     "name": "stderr",
     "output_type": "stream",
     "text": [
      "\r",
      "Val:  38%|███▊      | 33/86 [01:29<02:27,  2.78s/it, eval_loss=0.0886, gpu_mem=6.91 GB]"
     ]
    },
    {
     "name": "stderr",
     "output_type": "stream",
     "text": [
      "\r",
      "Val:  38%|███▊      | 33/86 [01:31<02:27,  2.78s/it, eval_loss=0.0899, gpu_mem=6.91 GB]"
     ]
    },
    {
     "name": "stderr",
     "output_type": "stream",
     "text": [
      "\r",
      "Val:  40%|███▉      | 34/86 [01:31<02:21,  2.71s/it, eval_loss=0.0899, gpu_mem=6.91 GB]"
     ]
    },
    {
     "name": "stderr",
     "output_type": "stream",
     "text": [
      "\r",
      "Val:  40%|███▉      | 34/86 [01:34<02:21,  2.71s/it, eval_loss=0.0889, gpu_mem=6.91 GB]"
     ]
    },
    {
     "name": "stderr",
     "output_type": "stream",
     "text": [
      "\r",
      "Val:  41%|████      | 35/86 [01:34<02:16,  2.67s/it, eval_loss=0.0889, gpu_mem=6.91 GB]"
     ]
    },
    {
     "name": "stderr",
     "output_type": "stream",
     "text": [
      "\r",
      "Val:  41%|████      | 35/86 [01:36<02:16,  2.67s/it, eval_loss=0.0875, gpu_mem=6.91 GB]"
     ]
    },
    {
     "name": "stderr",
     "output_type": "stream",
     "text": [
      "\r",
      "Val:  42%|████▏     | 36/86 [01:36<02:12,  2.66s/it, eval_loss=0.0875, gpu_mem=6.91 GB]"
     ]
    },
    {
     "name": "stderr",
     "output_type": "stream",
     "text": [
      "\r",
      "Val:  42%|████▏     | 36/86 [01:39<02:12,  2.66s/it, eval_loss=0.0881, gpu_mem=6.91 GB]"
     ]
    },
    {
     "name": "stderr",
     "output_type": "stream",
     "text": [
      "\r",
      "Val:  43%|████▎     | 37/86 [01:39<02:13,  2.72s/it, eval_loss=0.0881, gpu_mem=6.91 GB]"
     ]
    },
    {
     "name": "stderr",
     "output_type": "stream",
     "text": [
      "\r",
      "Val:  43%|████▎     | 37/86 [01:42<02:13,  2.72s/it, eval_loss=0.0879, gpu_mem=6.91 GB]"
     ]
    },
    {
     "name": "stderr",
     "output_type": "stream",
     "text": [
      "\r",
      "Val:  44%|████▍     | 38/86 [01:42<02:08,  2.69s/it, eval_loss=0.0879, gpu_mem=6.91 GB]"
     ]
    },
    {
     "name": "stderr",
     "output_type": "stream",
     "text": [
      "\r",
      "Val:  44%|████▍     | 38/86 [01:44<02:08,  2.69s/it, eval_loss=0.0865, gpu_mem=6.91 GB]"
     ]
    },
    {
     "name": "stderr",
     "output_type": "stream",
     "text": [
      "\r",
      "Val:  45%|████▌     | 39/86 [01:44<02:04,  2.64s/it, eval_loss=0.0865, gpu_mem=6.91 GB]"
     ]
    },
    {
     "name": "stderr",
     "output_type": "stream",
     "text": [
      "\r",
      "Val:  45%|████▌     | 39/86 [01:47<02:04,  2.64s/it, eval_loss=0.0864, gpu_mem=6.91 GB]"
     ]
    },
    {
     "name": "stderr",
     "output_type": "stream",
     "text": [
      "\r",
      "Val:  47%|████▋     | 40/86 [01:47<01:59,  2.61s/it, eval_loss=0.0864, gpu_mem=6.91 GB]"
     ]
    },
    {
     "name": "stderr",
     "output_type": "stream",
     "text": [
      "\r",
      "Val:  47%|████▋     | 40/86 [01:50<01:59,  2.61s/it, eval_loss=0.0859, gpu_mem=6.91 GB]"
     ]
    },
    {
     "name": "stderr",
     "output_type": "stream",
     "text": [
      "\r",
      "Val:  48%|████▊     | 41/86 [01:50<01:59,  2.65s/it, eval_loss=0.0859, gpu_mem=6.91 GB]"
     ]
    },
    {
     "name": "stderr",
     "output_type": "stream",
     "text": [
      "\r",
      "Val:  48%|████▊     | 41/86 [01:53<01:59,  2.65s/it, eval_loss=0.0854, gpu_mem=6.91 GB]"
     ]
    },
    {
     "name": "stderr",
     "output_type": "stream",
     "text": [
      "\r",
      "Val:  49%|████▉     | 42/86 [01:53<02:01,  2.76s/it, eval_loss=0.0854, gpu_mem=6.91 GB]"
     ]
    },
    {
     "name": "stderr",
     "output_type": "stream",
     "text": [
      "\r",
      "Val:  49%|████▉     | 42/86 [01:55<02:01,  2.76s/it, eval_loss=0.0845, gpu_mem=6.91 GB]"
     ]
    },
    {
     "name": "stderr",
     "output_type": "stream",
     "text": [
      "\r",
      "Val:  50%|█████     | 43/86 [01:55<01:54,  2.67s/it, eval_loss=0.0845, gpu_mem=6.91 GB]"
     ]
    },
    {
     "name": "stderr",
     "output_type": "stream",
     "text": [
      "\r",
      "Val:  50%|█████     | 43/86 [01:58<01:54,  2.67s/it, eval_loss=0.0877, gpu_mem=6.91 GB]"
     ]
    },
    {
     "name": "stderr",
     "output_type": "stream",
     "text": [
      "\r",
      "Val:  51%|█████     | 44/86 [01:58<01:50,  2.64s/it, eval_loss=0.0877, gpu_mem=6.91 GB]"
     ]
    },
    {
     "name": "stderr",
     "output_type": "stream",
     "text": [
      "\r",
      "Val:  51%|█████     | 44/86 [02:01<01:50,  2.64s/it, eval_loss=0.0864, gpu_mem=6.91 GB]"
     ]
    },
    {
     "name": "stderr",
     "output_type": "stream",
     "text": [
      "\r",
      "Val:  52%|█████▏    | 45/86 [02:01<01:49,  2.68s/it, eval_loss=0.0864, gpu_mem=6.91 GB]"
     ]
    },
    {
     "name": "stderr",
     "output_type": "stream",
     "text": [
      "\r",
      "Val:  52%|█████▏    | 45/86 [02:03<01:49,  2.68s/it, eval_loss=0.0863, gpu_mem=6.91 GB]"
     ]
    },
    {
     "name": "stderr",
     "output_type": "stream",
     "text": [
      "\r",
      "Val:  53%|█████▎    | 46/86 [02:03<01:45,  2.64s/it, eval_loss=0.0863, gpu_mem=6.91 GB]"
     ]
    },
    {
     "name": "stderr",
     "output_type": "stream",
     "text": [
      "\r",
      "Val:  53%|█████▎    | 46/86 [02:06<01:45,  2.64s/it, eval_loss=0.0856, gpu_mem=6.91 GB]"
     ]
    },
    {
     "name": "stderr",
     "output_type": "stream",
     "text": [
      "\r",
      "Val:  55%|█████▍    | 47/86 [02:06<01:41,  2.61s/it, eval_loss=0.0856, gpu_mem=6.91 GB]"
     ]
    },
    {
     "name": "stderr",
     "output_type": "stream",
     "text": [
      "\r",
      "Val:  55%|█████▍    | 47/86 [02:08<01:41,  2.61s/it, eval_loss=0.0874, gpu_mem=6.91 GB]"
     ]
    },
    {
     "name": "stderr",
     "output_type": "stream",
     "text": [
      "\r",
      "Val:  56%|█████▌    | 48/86 [02:08<01:39,  2.61s/it, eval_loss=0.0874, gpu_mem=6.91 GB]"
     ]
    },
    {
     "name": "stderr",
     "output_type": "stream",
     "text": [
      "\r",
      "Val:  56%|█████▌    | 48/86 [02:11<01:39,  2.61s/it, eval_loss=0.0869, gpu_mem=6.91 GB]"
     ]
    },
    {
     "name": "stderr",
     "output_type": "stream",
     "text": [
      "\r",
      "Val:  57%|█████▋    | 49/86 [02:11<01:38,  2.65s/it, eval_loss=0.0869, gpu_mem=6.91 GB]"
     ]
    },
    {
     "name": "stderr",
     "output_type": "stream",
     "text": [
      "\r",
      "Val:  57%|█████▋    | 49/86 [02:14<01:38,  2.65s/it, eval_loss=0.0866, gpu_mem=6.91 GB]"
     ]
    },
    {
     "name": "stderr",
     "output_type": "stream",
     "text": [
      "\r",
      "Val:  58%|█████▊    | 50/86 [02:14<01:34,  2.63s/it, eval_loss=0.0866, gpu_mem=6.91 GB]"
     ]
    },
    {
     "name": "stderr",
     "output_type": "stream",
     "text": [
      "\r",
      "Val:  58%|█████▊    | 50/86 [02:16<01:34,  2.63s/it, eval_loss=0.0895, gpu_mem=6.91 GB]"
     ]
    },
    {
     "name": "stderr",
     "output_type": "stream",
     "text": [
      "\r",
      "Val:  59%|█████▉    | 51/86 [02:16<01:30,  2.60s/it, eval_loss=0.0895, gpu_mem=6.91 GB]"
     ]
    },
    {
     "name": "stderr",
     "output_type": "stream",
     "text": [
      "\r",
      "Val:  59%|█████▉    | 51/86 [02:19<01:30,  2.60s/it, eval_loss=0.0909, gpu_mem=6.91 GB]"
     ]
    },
    {
     "name": "stderr",
     "output_type": "stream",
     "text": [
      "\r",
      "Val:  60%|██████    | 52/86 [02:19<01:27,  2.56s/it, eval_loss=0.0909, gpu_mem=6.91 GB]"
     ]
    },
    {
     "name": "stderr",
     "output_type": "stream",
     "text": [
      "\r",
      "Val:  60%|██████    | 52/86 [02:21<01:27,  2.56s/it, eval_loss=0.0922, gpu_mem=6.91 GB]"
     ]
    },
    {
     "name": "stderr",
     "output_type": "stream",
     "text": [
      "\r",
      "Val:  62%|██████▏   | 53/86 [02:21<01:26,  2.63s/it, eval_loss=0.0922, gpu_mem=6.91 GB]"
     ]
    },
    {
     "name": "stderr",
     "output_type": "stream",
     "text": [
      "\r",
      "Val:  62%|██████▏   | 53/86 [02:24<01:26,  2.63s/it, eval_loss=0.0915, gpu_mem=6.91 GB]"
     ]
    },
    {
     "name": "stderr",
     "output_type": "stream",
     "text": [
      "\r",
      "Val:  63%|██████▎   | 54/86 [02:24<01:28,  2.75s/it, eval_loss=0.0915, gpu_mem=6.91 GB]"
     ]
    },
    {
     "name": "stderr",
     "output_type": "stream",
     "text": [
      "\r",
      "Val:  63%|██████▎   | 54/86 [02:27<01:28,  2.75s/it, eval_loss=0.0922, gpu_mem=6.91 GB]"
     ]
    },
    {
     "name": "stderr",
     "output_type": "stream",
     "text": [
      "\r",
      "Val:  64%|██████▍   | 55/86 [02:27<01:22,  2.66s/it, eval_loss=0.0922, gpu_mem=6.91 GB]"
     ]
    },
    {
     "name": "stderr",
     "output_type": "stream",
     "text": [
      "\r",
      "Val:  64%|██████▍   | 55/86 [02:29<01:22,  2.66s/it, eval_loss=0.0918, gpu_mem=6.91 GB]"
     ]
    },
    {
     "name": "stderr",
     "output_type": "stream",
     "text": [
      "\r",
      "Val:  65%|██████▌   | 56/86 [02:29<01:18,  2.60s/it, eval_loss=0.0918, gpu_mem=6.91 GB]"
     ]
    },
    {
     "name": "stderr",
     "output_type": "stream",
     "text": [
      "\r",
      "Val:  65%|██████▌   | 56/86 [02:32<01:18,  2.60s/it, eval_loss=0.0917, gpu_mem=6.91 GB]"
     ]
    },
    {
     "name": "stderr",
     "output_type": "stream",
     "text": [
      "\r",
      "Val:  66%|██████▋   | 57/86 [02:32<01:15,  2.61s/it, eval_loss=0.0917, gpu_mem=6.91 GB]"
     ]
    },
    {
     "name": "stderr",
     "output_type": "stream",
     "text": [
      "\r",
      "Val:  66%|██████▋   | 57/86 [02:35<01:15,  2.61s/it, eval_loss=0.0940, gpu_mem=6.91 GB]"
     ]
    },
    {
     "name": "stderr",
     "output_type": "stream",
     "text": [
      "\r",
      "Val:  67%|██████▋   | 58/86 [02:35<01:14,  2.67s/it, eval_loss=0.0940, gpu_mem=6.91 GB]"
     ]
    },
    {
     "name": "stderr",
     "output_type": "stream",
     "text": [
      "\r",
      "Val:  67%|██████▋   | 58/86 [02:37<01:14,  2.67s/it, eval_loss=0.0935, gpu_mem=6.91 GB]"
     ]
    },
    {
     "name": "stderr",
     "output_type": "stream",
     "text": [
      "\r",
      "Val:  69%|██████▊   | 59/86 [02:37<01:11,  2.63s/it, eval_loss=0.0935, gpu_mem=6.91 GB]"
     ]
    },
    {
     "name": "stderr",
     "output_type": "stream",
     "text": [
      "\r",
      "Val:  69%|██████▊   | 59/86 [02:40<01:11,  2.63s/it, eval_loss=0.0953, gpu_mem=6.91 GB]"
     ]
    },
    {
     "name": "stderr",
     "output_type": "stream",
     "text": [
      "\r",
      "Val:  70%|██████▉   | 60/86 [02:40<01:08,  2.62s/it, eval_loss=0.0953, gpu_mem=6.91 GB]"
     ]
    },
    {
     "name": "stderr",
     "output_type": "stream",
     "text": [
      "\r",
      "Val:  70%|██████▉   | 60/86 [02:42<01:08,  2.62s/it, eval_loss=0.0947, gpu_mem=6.91 GB]"
     ]
    },
    {
     "name": "stderr",
     "output_type": "stream",
     "text": [
      "\r",
      "Val:  71%|███████   | 61/86 [02:42<01:04,  2.59s/it, eval_loss=0.0947, gpu_mem=6.91 GB]"
     ]
    },
    {
     "name": "stderr",
     "output_type": "stream",
     "text": [
      "\r",
      "Val:  71%|███████   | 61/86 [02:45<01:04,  2.59s/it, eval_loss=0.0943, gpu_mem=6.91 GB]"
     ]
    },
    {
     "name": "stderr",
     "output_type": "stream",
     "text": [
      "\r",
      "Val:  72%|███████▏  | 62/86 [02:45<01:03,  2.65s/it, eval_loss=0.0943, gpu_mem=6.91 GB]"
     ]
    },
    {
     "name": "stderr",
     "output_type": "stream",
     "text": [
      "\r",
      "Val:  72%|███████▏  | 62/86 [02:48<01:03,  2.65s/it, eval_loss=0.0942, gpu_mem=6.91 GB]"
     ]
    },
    {
     "name": "stderr",
     "output_type": "stream",
     "text": [
      "\r",
      "Val:  73%|███████▎  | 63/86 [02:48<01:00,  2.64s/it, eval_loss=0.0942, gpu_mem=6.91 GB]"
     ]
    },
    {
     "name": "stderr",
     "output_type": "stream",
     "text": [
      "\r",
      "Val:  73%|███████▎  | 63/86 [02:50<01:00,  2.64s/it, eval_loss=0.0941, gpu_mem=6.91 GB]"
     ]
    },
    {
     "name": "stderr",
     "output_type": "stream",
     "text": [
      "\r",
      "Val:  74%|███████▍  | 64/86 [02:50<00:57,  2.62s/it, eval_loss=0.0941, gpu_mem=6.91 GB]"
     ]
    },
    {
     "name": "stderr",
     "output_type": "stream",
     "text": [
      "\r",
      "Val:  74%|███████▍  | 64/86 [02:53<00:57,  2.62s/it, eval_loss=0.0932, gpu_mem=6.91 GB]"
     ]
    },
    {
     "name": "stderr",
     "output_type": "stream",
     "text": [
      "\r",
      "Val:  76%|███████▌  | 65/86 [02:53<00:53,  2.56s/it, eval_loss=0.0932, gpu_mem=6.91 GB]"
     ]
    },
    {
     "name": "stderr",
     "output_type": "stream",
     "text": [
      "\r",
      "Val:  76%|███████▌  | 65/86 [02:56<00:53,  2.56s/it, eval_loss=0.0950, gpu_mem=6.91 GB]"
     ]
    },
    {
     "name": "stderr",
     "output_type": "stream",
     "text": [
      "\r",
      "Val:  77%|███████▋  | 66/86 [02:56<00:55,  2.77s/it, eval_loss=0.0950, gpu_mem=6.91 GB]"
     ]
    },
    {
     "name": "stderr",
     "output_type": "stream",
     "text": [
      "\r",
      "Val:  77%|███████▋  | 66/86 [02:59<00:55,  2.77s/it, eval_loss=0.0942, gpu_mem=6.91 GB]"
     ]
    },
    {
     "name": "stderr",
     "output_type": "stream",
     "text": [
      "\r",
      "Val:  78%|███████▊  | 67/86 [02:59<00:51,  2.70s/it, eval_loss=0.0942, gpu_mem=6.91 GB]"
     ]
    },
    {
     "name": "stderr",
     "output_type": "stream",
     "text": [
      "\r",
      "Val:  78%|███████▊  | 67/86 [03:01<00:51,  2.70s/it, eval_loss=0.0966, gpu_mem=6.91 GB]"
     ]
    },
    {
     "name": "stderr",
     "output_type": "stream",
     "text": [
      "\r",
      "Val:  79%|███████▉  | 68/86 [03:01<00:47,  2.65s/it, eval_loss=0.0966, gpu_mem=6.91 GB]"
     ]
    },
    {
     "name": "stderr",
     "output_type": "stream",
     "text": [
      "\r",
      "Val:  79%|███████▉  | 68/86 [03:04<00:47,  2.65s/it, eval_loss=0.0967, gpu_mem=6.91 GB]"
     ]
    },
    {
     "name": "stderr",
     "output_type": "stream",
     "text": [
      "\r",
      "Val:  80%|████████  | 69/86 [03:04<00:44,  2.61s/it, eval_loss=0.0967, gpu_mem=6.91 GB]"
     ]
    },
    {
     "name": "stderr",
     "output_type": "stream",
     "text": [
      "\r",
      "Val:  80%|████████  | 69/86 [03:06<00:44,  2.61s/it, eval_loss=0.0964, gpu_mem=6.91 GB]"
     ]
    },
    {
     "name": "stderr",
     "output_type": "stream",
     "text": [
      "\r",
      "Val:  81%|████████▏ | 70/86 [03:06<00:42,  2.63s/it, eval_loss=0.0964, gpu_mem=6.91 GB]"
     ]
    },
    {
     "name": "stderr",
     "output_type": "stream",
     "text": [
      "\r",
      "Val:  81%|████████▏ | 70/86 [03:09<00:42,  2.63s/it, eval_loss=0.0971, gpu_mem=6.91 GB]"
     ]
    },
    {
     "name": "stderr",
     "output_type": "stream",
     "text": [
      "\r",
      "Val:  83%|████████▎ | 71/86 [03:09<00:39,  2.60s/it, eval_loss=0.0971, gpu_mem=6.91 GB]"
     ]
    },
    {
     "name": "stderr",
     "output_type": "stream",
     "text": [
      "\r",
      "Val:  83%|████████▎ | 71/86 [03:11<00:39,  2.60s/it, eval_loss=0.0967, gpu_mem=6.91 GB]"
     ]
    },
    {
     "name": "stderr",
     "output_type": "stream",
     "text": [
      "\r",
      "Val:  84%|████████▎ | 72/86 [03:11<00:36,  2.60s/it, eval_loss=0.0967, gpu_mem=6.91 GB]"
     ]
    },
    {
     "name": "stderr",
     "output_type": "stream",
     "text": [
      "\r",
      "Val:  84%|████████▎ | 72/86 [03:14<00:36,  2.60s/it, eval_loss=0.0964, gpu_mem=6.91 GB]"
     ]
    },
    {
     "name": "stderr",
     "output_type": "stream",
     "text": [
      "\r",
      "Val:  85%|████████▍ | 73/86 [03:14<00:33,  2.58s/it, eval_loss=0.0964, gpu_mem=6.91 GB]"
     ]
    },
    {
     "name": "stderr",
     "output_type": "stream",
     "text": [
      "\r",
      "Val:  85%|████████▍ | 73/86 [03:17<00:33,  2.58s/it, eval_loss=0.0967, gpu_mem=6.91 GB]"
     ]
    },
    {
     "name": "stderr",
     "output_type": "stream",
     "text": [
      "\r",
      "Val:  86%|████████▌ | 74/86 [03:17<00:31,  2.62s/it, eval_loss=0.0967, gpu_mem=6.91 GB]"
     ]
    },
    {
     "name": "stderr",
     "output_type": "stream",
     "text": [
      "\r",
      "Val:  86%|████████▌ | 74/86 [03:19<00:31,  2.62s/it, eval_loss=0.0961, gpu_mem=6.91 GB]"
     ]
    },
    {
     "name": "stderr",
     "output_type": "stream",
     "text": [
      "\r",
      "Val:  87%|████████▋ | 75/86 [03:19<00:28,  2.62s/it, eval_loss=0.0961, gpu_mem=6.91 GB]"
     ]
    },
    {
     "name": "stderr",
     "output_type": "stream",
     "text": [
      "\r",
      "Val:  87%|████████▋ | 75/86 [03:22<00:28,  2.62s/it, eval_loss=0.0955, gpu_mem=6.91 GB]"
     ]
    },
    {
     "name": "stderr",
     "output_type": "stream",
     "text": [
      "\r",
      "Val:  88%|████████▊ | 76/86 [03:22<00:25,  2.58s/it, eval_loss=0.0955, gpu_mem=6.91 GB]"
     ]
    },
    {
     "name": "stderr",
     "output_type": "stream",
     "text": [
      "\r",
      "Val:  88%|████████▊ | 76/86 [03:24<00:25,  2.58s/it, eval_loss=0.0966, gpu_mem=6.91 GB]"
     ]
    },
    {
     "name": "stderr",
     "output_type": "stream",
     "text": [
      "\r",
      "Val:  90%|████████▉ | 77/86 [03:24<00:22,  2.55s/it, eval_loss=0.0966, gpu_mem=6.91 GB]"
     ]
    },
    {
     "name": "stderr",
     "output_type": "stream",
     "text": [
      "\r",
      "Val:  90%|████████▉ | 77/86 [03:27<00:22,  2.55s/it, eval_loss=0.0959, gpu_mem=6.91 GB]"
     ]
    },
    {
     "name": "stderr",
     "output_type": "stream",
     "text": [
      "\r",
      "Val:  91%|█████████ | 78/86 [03:27<00:20,  2.59s/it, eval_loss=0.0959, gpu_mem=6.91 GB]"
     ]
    },
    {
     "name": "stderr",
     "output_type": "stream",
     "text": [
      "\r",
      "Val:  91%|█████████ | 78/86 [03:30<00:20,  2.59s/it, eval_loss=0.0958, gpu_mem=6.91 GB]"
     ]
    },
    {
     "name": "stderr",
     "output_type": "stream",
     "text": [
      "\r",
      "Val:  92%|█████████▏| 79/86 [03:30<00:19,  2.79s/it, eval_loss=0.0958, gpu_mem=6.91 GB]"
     ]
    },
    {
     "name": "stderr",
     "output_type": "stream",
     "text": [
      "\r",
      "Val:  92%|█████████▏| 79/86 [03:33<00:19,  2.79s/it, eval_loss=0.0960, gpu_mem=6.91 GB]"
     ]
    },
    {
     "name": "stderr",
     "output_type": "stream",
     "text": [
      "\r",
      "Val:  93%|█████████▎| 80/86 [03:33<00:16,  2.72s/it, eval_loss=0.0960, gpu_mem=6.91 GB]"
     ]
    },
    {
     "name": "stderr",
     "output_type": "stream",
     "text": [
      "\r",
      "Val:  93%|█████████▎| 80/86 [03:35<00:16,  2.72s/it, eval_loss=0.0954, gpu_mem=6.91 GB]"
     ]
    },
    {
     "name": "stderr",
     "output_type": "stream",
     "text": [
      "\r",
      "Val:  94%|█████████▍| 81/86 [03:35<00:13,  2.66s/it, eval_loss=0.0954, gpu_mem=6.91 GB]"
     ]
    },
    {
     "name": "stderr",
     "output_type": "stream",
     "text": [
      "\r",
      "Val:  94%|█████████▍| 81/86 [03:38<00:13,  2.66s/it, eval_loss=0.0950, gpu_mem=6.91 GB]"
     ]
    },
    {
     "name": "stderr",
     "output_type": "stream",
     "text": [
      "\r",
      "Val:  95%|█████████▌| 82/86 [03:38<00:10,  2.64s/it, eval_loss=0.0950, gpu_mem=6.91 GB]"
     ]
    },
    {
     "name": "stderr",
     "output_type": "stream",
     "text": [
      "\r",
      "Val:  95%|█████████▌| 82/86 [03:40<00:10,  2.64s/it, eval_loss=0.0948, gpu_mem=6.91 GB]"
     ]
    },
    {
     "name": "stderr",
     "output_type": "stream",
     "text": [
      "\r",
      "Val:  97%|█████████▋| 83/86 [03:40<00:07,  2.64s/it, eval_loss=0.0948, gpu_mem=6.91 GB]"
     ]
    },
    {
     "name": "stderr",
     "output_type": "stream",
     "text": [
      "\r",
      "Val:  97%|█████████▋| 83/86 [03:43<00:07,  2.64s/it, eval_loss=0.0945, gpu_mem=6.91 GB]"
     ]
    },
    {
     "name": "stderr",
     "output_type": "stream",
     "text": [
      "\r",
      "Val:  98%|█████████▊| 84/86 [03:43<00:05,  2.64s/it, eval_loss=0.0945, gpu_mem=6.91 GB]"
     ]
    },
    {
     "name": "stderr",
     "output_type": "stream",
     "text": [
      "\r",
      "Val:  98%|█████████▊| 84/86 [03:46<00:05,  2.64s/it, eval_loss=0.0972, gpu_mem=6.91 GB]"
     ]
    },
    {
     "name": "stderr",
     "output_type": "stream",
     "text": [
      "\r",
      "Val:  99%|█████████▉| 85/86 [03:46<00:02,  2.63s/it, eval_loss=0.0972, gpu_mem=6.91 GB]"
     ]
    },
    {
     "name": "stderr",
     "output_type": "stream",
     "text": [
      "\r",
      "Val:  99%|█████████▉| 85/86 [03:46<00:02,  2.63s/it, eval_loss=0.0972, gpu_mem=6.91 GB]"
     ]
    },
    {
     "name": "stderr",
     "output_type": "stream",
     "text": [
      "\r",
      "Val: 100%|██████████| 86/86 [03:46<00:00,  1.99s/it, eval_loss=0.0972, gpu_mem=6.91 GB]"
     ]
    },
    {
     "name": "stderr",
     "output_type": "stream",
     "text": [
      "\r",
      "Val: 100%|██████████| 86/86 [03:46<00:00,  2.64s/it, eval_loss=0.0972, gpu_mem=6.91 GB]"
     ]
    },
    {
     "name": "stderr",
     "output_type": "stream",
     "text": [
      "\n",
      "Valid loss:0.0972\n"
     ]
    },
    {
     "name": "stderr",
     "output_type": "stream",
     "text": [
      "Val metric mean prob: 0.1867\n"
     ]
    },
    {
     "name": "stderr",
     "output_type": "stream",
     "text": [
      "Best metric at: 0.5111 0.3630  0.7308\n"
     ]
    },
    {
     "name": "stderr",
     "output_type": "stream",
     "text": [
      "Cf: [[2315   18]\n",
      " [  26   23]]\n"
     ]
    },
    {
     "name": "stderr",
     "output_type": "stream",
     "text": [
      "\u001b[32m[I 2023-02-15 04:36:33,605]\u001b[0m Trial 10 finished with value: 0.5111111111111111 and parameters: {'a1': 0.9670527924953918}. Best is trial 0 with value: 0.5111111111111111.\u001b[0m\n"
     ]
    },
    {
     "name": "stdout",
     "output_type": "stream",
     "text": [
      "/kaggle/input/10folds/tf_efficientnetv2_b2_fold_1_model_epoch_3_0.5055_0.360.pth\n",
      "none:  /kaggle/input/10folds/tf_efficientnetv2_b2_fold_1_model_epoch_3_0.5055_0.360.pth\n",
      "/kaggle/input/10folds/tf_efficientnetv2_b2_fold_1_model_epoch_5_0.4865_0.324.pth\n",
      "hehe /kaggle/input/10folds/tf_efficientnetv2_b2_fold_1_model_epoch_5_0.4865_0.324.pth\n",
      "0.7934229002282495 0.20657709977175054\n",
      "\n"
     ]
    },
    {
     "name": "stderr",
     "output_type": "stream",
     "text": [
      "\r",
      "Val:   0%|          | 0/86 [00:00<?, ?it/s]"
     ]
    },
    {
     "name": "stderr",
     "output_type": "stream",
     "text": [
      "\r",
      "Val:   0%|          | 0/86 [00:04<?, ?it/s, eval_loss=0.0552, gpu_mem=6.91 GB]"
     ]
    },
    {
     "name": "stderr",
     "output_type": "stream",
     "text": [
      "\r",
      "Val:   1%|          | 1/86 [00:04<06:08,  4.34s/it, eval_loss=0.0552, gpu_mem=6.91 GB]"
     ]
    },
    {
     "name": "stderr",
     "output_type": "stream",
     "text": [
      "\r",
      "Val:   1%|          | 1/86 [00:06<06:08,  4.34s/it, eval_loss=0.0431, gpu_mem=6.91 GB]"
     ]
    },
    {
     "name": "stderr",
     "output_type": "stream",
     "text": [
      "\r",
      "Val:   2%|▏         | 2/86 [00:06<04:17,  3.07s/it, eval_loss=0.0431, gpu_mem=6.91 GB]"
     ]
    },
    {
     "name": "stderr",
     "output_type": "stream",
     "text": [
      "\r",
      "Val:   2%|▏         | 2/86 [00:08<04:17,  3.07s/it, eval_loss=0.0889, gpu_mem=6.91 GB]"
     ]
    },
    {
     "name": "stderr",
     "output_type": "stream",
     "text": [
      "\r",
      "Val:   3%|▎         | 3/86 [00:08<03:42,  2.68s/it, eval_loss=0.0889, gpu_mem=6.91 GB]"
     ]
    },
    {
     "name": "stderr",
     "output_type": "stream",
     "text": [
      "\r",
      "Val:   3%|▎         | 3/86 [00:11<03:42,  2.68s/it, eval_loss=0.0997, gpu_mem=6.91 GB]"
     ]
    },
    {
     "name": "stderr",
     "output_type": "stream",
     "text": [
      "\r",
      "Val:   5%|▍         | 4/86 [00:11<03:47,  2.77s/it, eval_loss=0.0997, gpu_mem=6.91 GB]"
     ]
    },
    {
     "name": "stderr",
     "output_type": "stream",
     "text": [
      "\r",
      "Val:   5%|▍         | 4/86 [00:13<03:47,  2.77s/it, eval_loss=0.0955, gpu_mem=6.91 GB]"
     ]
    },
    {
     "name": "stderr",
     "output_type": "stream",
     "text": [
      "\r",
      "Val:   6%|▌         | 5/86 [00:13<03:28,  2.58s/it, eval_loss=0.0955, gpu_mem=6.91 GB]"
     ]
    },
    {
     "name": "stderr",
     "output_type": "stream",
     "text": [
      "\r",
      "Val:   6%|▌         | 5/86 [00:16<03:28,  2.58s/it, eval_loss=0.0924, gpu_mem=6.91 GB]"
     ]
    },
    {
     "name": "stderr",
     "output_type": "stream",
     "text": [
      "\r",
      "Val:   7%|▋         | 6/86 [00:16<03:16,  2.45s/it, eval_loss=0.0924, gpu_mem=6.91 GB]"
     ]
    },
    {
     "name": "stderr",
     "output_type": "stream",
     "text": [
      "\r",
      "Val:   7%|▋         | 6/86 [00:18<03:16,  2.45s/it, eval_loss=0.0847, gpu_mem=6.91 GB]"
     ]
    },
    {
     "name": "stderr",
     "output_type": "stream",
     "text": [
      "\r",
      "Val:   8%|▊         | 7/86 [00:18<03:07,  2.37s/it, eval_loss=0.0847, gpu_mem=6.91 GB]"
     ]
    },
    {
     "name": "stderr",
     "output_type": "stream",
     "text": [
      "\r",
      "Val:   8%|▊         | 7/86 [00:20<03:07,  2.37s/it, eval_loss=0.0818, gpu_mem=6.91 GB]"
     ]
    },
    {
     "name": "stderr",
     "output_type": "stream",
     "text": [
      "\r",
      "Val:   9%|▉         | 8/86 [00:20<03:01,  2.32s/it, eval_loss=0.0818, gpu_mem=6.91 GB]"
     ]
    },
    {
     "name": "stderr",
     "output_type": "stream",
     "text": [
      "\r",
      "Val:   9%|▉         | 8/86 [00:22<03:01,  2.32s/it, eval_loss=0.0801, gpu_mem=6.91 GB]"
     ]
    },
    {
     "name": "stderr",
     "output_type": "stream",
     "text": [
      "\r",
      "Val:  10%|█         | 9/86 [00:22<03:01,  2.36s/it, eval_loss=0.0801, gpu_mem=6.91 GB]"
     ]
    },
    {
     "name": "stderr",
     "output_type": "stream",
     "text": [
      "\r",
      "Val:  10%|█         | 9/86 [00:25<03:01,  2.36s/it, eval_loss=0.0871, gpu_mem=6.91 GB]"
     ]
    },
    {
     "name": "stderr",
     "output_type": "stream",
     "text": [
      "\r",
      "Val:  12%|█▏        | 10/86 [00:25<02:56,  2.33s/it, eval_loss=0.0871, gpu_mem=6.91 GB]"
     ]
    },
    {
     "name": "stderr",
     "output_type": "stream",
     "text": [
      "\r",
      "Val:  12%|█▏        | 10/86 [00:27<02:56,  2.33s/it, eval_loss=0.0842, gpu_mem=6.91 GB]"
     ]
    },
    {
     "name": "stderr",
     "output_type": "stream",
     "text": [
      "\r",
      "Val:  13%|█▎        | 11/86 [00:27<02:51,  2.29s/it, eval_loss=0.0842, gpu_mem=6.91 GB]"
     ]
    },
    {
     "name": "stderr",
     "output_type": "stream",
     "text": [
      "\r",
      "Val:  13%|█▎        | 11/86 [00:29<02:51,  2.29s/it, eval_loss=0.0844, gpu_mem=6.91 GB]"
     ]
    },
    {
     "name": "stderr",
     "output_type": "stream",
     "text": [
      "\r",
      "Val:  14%|█▍        | 12/86 [00:29<02:48,  2.27s/it, eval_loss=0.0844, gpu_mem=6.91 GB]"
     ]
    },
    {
     "name": "stderr",
     "output_type": "stream",
     "text": [
      "\r",
      "Val:  14%|█▍        | 12/86 [00:31<02:48,  2.27s/it, eval_loss=0.0865, gpu_mem=6.91 GB]"
     ]
    },
    {
     "name": "stderr",
     "output_type": "stream",
     "text": [
      "\r",
      "Val:  15%|█▌        | 13/86 [00:31<02:44,  2.25s/it, eval_loss=0.0865, gpu_mem=6.91 GB]"
     ]
    },
    {
     "name": "stderr",
     "output_type": "stream",
     "text": [
      "\r",
      "Val:  15%|█▌        | 13/86 [00:34<02:44,  2.25s/it, eval_loss=0.0828, gpu_mem=6.91 GB]"
     ]
    },
    {
     "name": "stderr",
     "output_type": "stream",
     "text": [
      "\r",
      "Val:  16%|█▋        | 14/86 [00:34<02:44,  2.29s/it, eval_loss=0.0828, gpu_mem=6.91 GB]"
     ]
    },
    {
     "name": "stderr",
     "output_type": "stream",
     "text": [
      "\r",
      "Val:  16%|█▋        | 14/86 [00:36<02:44,  2.29s/it, eval_loss=0.0800, gpu_mem=6.91 GB]"
     ]
    },
    {
     "name": "stderr",
     "output_type": "stream",
     "text": [
      "\r",
      "Val:  17%|█▋        | 15/86 [00:36<02:40,  2.26s/it, eval_loss=0.0800, gpu_mem=6.91 GB]"
     ]
    },
    {
     "name": "stderr",
     "output_type": "stream",
     "text": [
      "\r",
      "Val:  17%|█▋        | 15/86 [00:38<02:40,  2.26s/it, eval_loss=0.0781, gpu_mem=6.91 GB]"
     ]
    },
    {
     "name": "stderr",
     "output_type": "stream",
     "text": [
      "\r",
      "Val:  19%|█▊        | 16/86 [00:38<02:37,  2.25s/it, eval_loss=0.0781, gpu_mem=6.91 GB]"
     ]
    },
    {
     "name": "stderr",
     "output_type": "stream",
     "text": [
      "\r",
      "Val:  19%|█▊        | 16/86 [00:40<02:37,  2.25s/it, eval_loss=0.0782, gpu_mem=6.91 GB]"
     ]
    },
    {
     "name": "stderr",
     "output_type": "stream",
     "text": [
      "\r",
      "Val:  20%|█▉        | 17/86 [00:40<02:34,  2.24s/it, eval_loss=0.0782, gpu_mem=6.91 GB]"
     ]
    },
    {
     "name": "stderr",
     "output_type": "stream",
     "text": [
      "\r",
      "Val:  20%|█▉        | 17/86 [00:43<02:34,  2.24s/it, eval_loss=0.0777, gpu_mem=6.91 GB]"
     ]
    },
    {
     "name": "stderr",
     "output_type": "stream",
     "text": [
      "\r",
      "Val:  21%|██        | 18/86 [00:43<02:44,  2.42s/it, eval_loss=0.0777, gpu_mem=6.91 GB]"
     ]
    },
    {
     "name": "stderr",
     "output_type": "stream",
     "text": [
      "\r",
      "Val:  21%|██        | 18/86 [00:46<02:44,  2.42s/it, eval_loss=0.0779, gpu_mem=6.91 GB]"
     ]
    },
    {
     "name": "stderr",
     "output_type": "stream",
     "text": [
      "\r",
      "Val:  22%|██▏       | 19/86 [00:46<02:42,  2.42s/it, eval_loss=0.0779, gpu_mem=6.91 GB]"
     ]
    },
    {
     "name": "stderr",
     "output_type": "stream",
     "text": [
      "\r",
      "Val:  22%|██▏       | 19/86 [00:48<02:42,  2.42s/it, eval_loss=0.0785, gpu_mem=6.91 GB]"
     ]
    },
    {
     "name": "stderr",
     "output_type": "stream",
     "text": [
      "\r",
      "Val:  23%|██▎       | 20/86 [00:48<02:35,  2.36s/it, eval_loss=0.0785, gpu_mem=6.91 GB]"
     ]
    },
    {
     "name": "stderr",
     "output_type": "stream",
     "text": [
      "\r",
      "Val:  23%|██▎       | 20/86 [00:50<02:35,  2.36s/it, eval_loss=0.0771, gpu_mem=6.91 GB]"
     ]
    },
    {
     "name": "stderr",
     "output_type": "stream",
     "text": [
      "\r",
      "Val:  24%|██▍       | 21/86 [00:50<02:29,  2.30s/it, eval_loss=0.0771, gpu_mem=6.91 GB]"
     ]
    },
    {
     "name": "stderr",
     "output_type": "stream",
     "text": [
      "\r",
      "Val:  24%|██▍       | 21/86 [00:52<02:29,  2.30s/it, eval_loss=0.0804, gpu_mem=6.91 GB]"
     ]
    },
    {
     "name": "stderr",
     "output_type": "stream",
     "text": [
      "\r",
      "Val:  26%|██▌       | 22/86 [00:52<02:25,  2.28s/it, eval_loss=0.0804, gpu_mem=6.91 GB]"
     ]
    },
    {
     "name": "stderr",
     "output_type": "stream",
     "text": [
      "\r",
      "Val:  26%|██▌       | 22/86 [00:55<02:25,  2.28s/it, eval_loss=0.0844, gpu_mem=6.91 GB]"
     ]
    },
    {
     "name": "stderr",
     "output_type": "stream",
     "text": [
      "\r",
      "Val:  27%|██▋       | 23/86 [00:55<02:23,  2.28s/it, eval_loss=0.0844, gpu_mem=6.91 GB]"
     ]
    },
    {
     "name": "stderr",
     "output_type": "stream",
     "text": [
      "\r",
      "Val:  27%|██▋       | 23/86 [00:57<02:23,  2.28s/it, eval_loss=0.0839, gpu_mem=6.91 GB]"
     ]
    },
    {
     "name": "stderr",
     "output_type": "stream",
     "text": [
      "\r",
      "Val:  28%|██▊       | 24/86 [00:57<02:26,  2.37s/it, eval_loss=0.0839, gpu_mem=6.91 GB]"
     ]
    },
    {
     "name": "stderr",
     "output_type": "stream",
     "text": [
      "\r",
      "Val:  28%|██▊       | 24/86 [00:59<02:26,  2.37s/it, eval_loss=0.0837, gpu_mem=6.91 GB]"
     ]
    },
    {
     "name": "stderr",
     "output_type": "stream",
     "text": [
      "\r",
      "Val:  29%|██▉       | 25/86 [00:59<02:20,  2.31s/it, eval_loss=0.0837, gpu_mem=6.91 GB]"
     ]
    },
    {
     "name": "stderr",
     "output_type": "stream",
     "text": [
      "\r",
      "Val:  29%|██▉       | 25/86 [01:01<02:20,  2.31s/it, eval_loss=0.0816, gpu_mem=6.91 GB]"
     ]
    },
    {
     "name": "stderr",
     "output_type": "stream",
     "text": [
      "\r",
      "Val:  30%|███       | 26/86 [01:01<02:16,  2.27s/it, eval_loss=0.0816, gpu_mem=6.91 GB]"
     ]
    },
    {
     "name": "stderr",
     "output_type": "stream",
     "text": [
      "\r",
      "Val:  30%|███       | 26/86 [01:04<02:16,  2.27s/it, eval_loss=0.0853, gpu_mem=6.91 GB]"
     ]
    },
    {
     "name": "stderr",
     "output_type": "stream",
     "text": [
      "\r",
      "Val:  31%|███▏      | 27/86 [01:04<02:13,  2.26s/it, eval_loss=0.0853, gpu_mem=6.91 GB]"
     ]
    },
    {
     "name": "stderr",
     "output_type": "stream",
     "text": [
      "\r",
      "Val:  31%|███▏      | 27/86 [01:06<02:13,  2.26s/it, eval_loss=0.0848, gpu_mem=6.91 GB]"
     ]
    },
    {
     "name": "stderr",
     "output_type": "stream",
     "text": [
      "\r",
      "Val:  33%|███▎      | 28/86 [01:06<02:13,  2.30s/it, eval_loss=0.0848, gpu_mem=6.91 GB]"
     ]
    },
    {
     "name": "stderr",
     "output_type": "stream",
     "text": [
      "\r",
      "Val:  33%|███▎      | 28/86 [01:08<02:13,  2.30s/it, eval_loss=0.0838, gpu_mem=6.91 GB]"
     ]
    },
    {
     "name": "stderr",
     "output_type": "stream",
     "text": [
      "\r",
      "Val:  34%|███▎      | 29/86 [01:08<02:09,  2.28s/it, eval_loss=0.0838, gpu_mem=6.91 GB]"
     ]
    },
    {
     "name": "stderr",
     "output_type": "stream",
     "text": [
      "\r",
      "Val:  34%|███▎      | 29/86 [01:11<02:09,  2.28s/it, eval_loss=0.0838, gpu_mem=6.91 GB]"
     ]
    },
    {
     "name": "stderr",
     "output_type": "stream",
     "text": [
      "\r",
      "Val:  35%|███▍      | 30/86 [01:11<02:06,  2.26s/it, eval_loss=0.0838, gpu_mem=6.91 GB]"
     ]
    },
    {
     "name": "stderr",
     "output_type": "stream",
     "text": [
      "\r",
      "Val:  35%|███▍      | 30/86 [01:13<02:06,  2.26s/it, eval_loss=0.0830, gpu_mem=6.91 GB]"
     ]
    },
    {
     "name": "stderr",
     "output_type": "stream",
     "text": [
      "\r",
      "Val:  36%|███▌      | 31/86 [01:13<02:11,  2.39s/it, eval_loss=0.0830, gpu_mem=6.91 GB]"
     ]
    },
    {
     "name": "stderr",
     "output_type": "stream",
     "text": [
      "\r",
      "Val:  36%|███▌      | 31/86 [01:16<02:11,  2.39s/it, eval_loss=0.0905, gpu_mem=6.91 GB]"
     ]
    },
    {
     "name": "stderr",
     "output_type": "stream",
     "text": [
      "\r",
      "Val:  37%|███▋      | 32/86 [01:16<02:09,  2.39s/it, eval_loss=0.0905, gpu_mem=6.91 GB]"
     ]
    },
    {
     "name": "stderr",
     "output_type": "stream",
     "text": [
      "\r",
      "Val:  37%|███▋      | 32/86 [01:18<02:09,  2.39s/it, eval_loss=0.0886, gpu_mem=6.91 GB]"
     ]
    },
    {
     "name": "stderr",
     "output_type": "stream",
     "text": [
      "\r",
      "Val:  38%|███▊      | 33/86 [01:18<02:07,  2.40s/it, eval_loss=0.0886, gpu_mem=6.91 GB]"
     ]
    },
    {
     "name": "stderr",
     "output_type": "stream",
     "text": [
      "\r",
      "Val:  38%|███▊      | 33/86 [01:20<02:07,  2.40s/it, eval_loss=0.0899, gpu_mem=6.91 GB]"
     ]
    },
    {
     "name": "stderr",
     "output_type": "stream",
     "text": [
      "\r",
      "Val:  40%|███▉      | 34/86 [01:20<02:02,  2.35s/it, eval_loss=0.0899, gpu_mem=6.91 GB]"
     ]
    },
    {
     "name": "stderr",
     "output_type": "stream",
     "text": [
      "\r",
      "Val:  40%|███▉      | 34/86 [01:22<02:02,  2.35s/it, eval_loss=0.0889, gpu_mem=6.91 GB]"
     ]
    },
    {
     "name": "stderr",
     "output_type": "stream",
     "text": [
      "\r",
      "Val:  41%|████      | 35/86 [01:22<01:56,  2.29s/it, eval_loss=0.0889, gpu_mem=6.91 GB]"
     ]
    },
    {
     "name": "stderr",
     "output_type": "stream",
     "text": [
      "\r",
      "Val:  41%|████      | 35/86 [01:25<01:56,  2.29s/it, eval_loss=0.0875, gpu_mem=6.91 GB]"
     ]
    },
    {
     "name": "stderr",
     "output_type": "stream",
     "text": [
      "\r",
      "Val:  42%|████▏     | 36/86 [01:25<01:53,  2.26s/it, eval_loss=0.0875, gpu_mem=6.91 GB]"
     ]
    },
    {
     "name": "stderr",
     "output_type": "stream",
     "text": [
      "\r",
      "Val:  42%|████▏     | 36/86 [01:27<01:53,  2.26s/it, eval_loss=0.0881, gpu_mem=6.91 GB]"
     ]
    },
    {
     "name": "stderr",
     "output_type": "stream",
     "text": [
      "\r",
      "Val:  43%|████▎     | 37/86 [01:27<01:50,  2.26s/it, eval_loss=0.0881, gpu_mem=6.91 GB]"
     ]
    },
    {
     "name": "stderr",
     "output_type": "stream",
     "text": [
      "\r",
      "Val:  43%|████▎     | 37/86 [01:29<01:50,  2.26s/it, eval_loss=0.0879, gpu_mem=6.91 GB]"
     ]
    },
    {
     "name": "stderr",
     "output_type": "stream",
     "text": [
      "\r",
      "Val:  44%|████▍     | 38/86 [01:29<01:51,  2.32s/it, eval_loss=0.0879, gpu_mem=6.91 GB]"
     ]
    },
    {
     "name": "stderr",
     "output_type": "stream",
     "text": [
      "\r",
      "Val:  44%|████▍     | 38/86 [01:32<01:51,  2.32s/it, eval_loss=0.0865, gpu_mem=6.91 GB]"
     ]
    },
    {
     "name": "stderr",
     "output_type": "stream",
     "text": [
      "\r",
      "Val:  45%|████▌     | 39/86 [01:32<01:48,  2.30s/it, eval_loss=0.0865, gpu_mem=6.91 GB]"
     ]
    },
    {
     "name": "stderr",
     "output_type": "stream",
     "text": [
      "\r",
      "Val:  45%|████▌     | 39/86 [01:34<01:48,  2.30s/it, eval_loss=0.0864, gpu_mem=6.91 GB]"
     ]
    },
    {
     "name": "stderr",
     "output_type": "stream",
     "text": [
      "\r",
      "Val:  47%|████▋     | 40/86 [01:34<01:44,  2.28s/it, eval_loss=0.0864, gpu_mem=6.91 GB]"
     ]
    },
    {
     "name": "stderr",
     "output_type": "stream",
     "text": [
      "\r",
      "Val:  47%|████▋     | 40/86 [01:36<01:44,  2.28s/it, eval_loss=0.0859, gpu_mem=6.91 GB]"
     ]
    },
    {
     "name": "stderr",
     "output_type": "stream",
     "text": [
      "\r",
      "Val:  48%|████▊     | 41/86 [01:36<01:42,  2.28s/it, eval_loss=0.0859, gpu_mem=6.91 GB]"
     ]
    },
    {
     "name": "stderr",
     "output_type": "stream",
     "text": [
      "\r",
      "Val:  48%|████▊     | 41/86 [01:38<01:42,  2.28s/it, eval_loss=0.0854, gpu_mem=6.91 GB]"
     ]
    },
    {
     "name": "stderr",
     "output_type": "stream",
     "text": [
      "\r",
      "Val:  49%|████▉     | 42/86 [01:38<01:39,  2.27s/it, eval_loss=0.0854, gpu_mem=6.91 GB]"
     ]
    },
    {
     "name": "stderr",
     "output_type": "stream",
     "text": [
      "\r",
      "Val:  49%|████▉     | 42/86 [01:41<01:39,  2.27s/it, eval_loss=0.0845, gpu_mem=6.91 GB]"
     ]
    },
    {
     "name": "stderr",
     "output_type": "stream",
     "text": [
      "\r",
      "Val:  50%|█████     | 43/86 [01:41<01:40,  2.33s/it, eval_loss=0.0845, gpu_mem=6.91 GB]"
     ]
    },
    {
     "name": "stderr",
     "output_type": "stream",
     "text": [
      "\r",
      "Val:  50%|█████     | 43/86 [01:43<01:40,  2.33s/it, eval_loss=0.0877, gpu_mem=6.91 GB]"
     ]
    },
    {
     "name": "stderr",
     "output_type": "stream",
     "text": [
      "\r",
      "Val:  51%|█████     | 44/86 [01:43<01:36,  2.30s/it, eval_loss=0.0877, gpu_mem=6.91 GB]"
     ]
    },
    {
     "name": "stderr",
     "output_type": "stream",
     "text": [
      "\r",
      "Val:  51%|█████     | 44/86 [01:46<01:36,  2.30s/it, eval_loss=0.0864, gpu_mem=6.91 GB]"
     ]
    },
    {
     "name": "stderr",
     "output_type": "stream",
     "text": [
      "\r",
      "Val:  52%|█████▏    | 45/86 [01:46<01:39,  2.42s/it, eval_loss=0.0864, gpu_mem=6.91 GB]"
     ]
    },
    {
     "name": "stderr",
     "output_type": "stream",
     "text": [
      "\r",
      "Val:  52%|█████▏    | 45/86 [01:48<01:39,  2.42s/it, eval_loss=0.0863, gpu_mem=6.91 GB]"
     ]
    },
    {
     "name": "stderr",
     "output_type": "stream",
     "text": [
      "\r",
      "Val:  53%|█████▎    | 46/86 [01:48<01:34,  2.36s/it, eval_loss=0.0863, gpu_mem=6.91 GB]"
     ]
    },
    {
     "name": "stderr",
     "output_type": "stream",
     "text": [
      "\r",
      "Val:  53%|█████▎    | 46/86 [01:50<01:34,  2.36s/it, eval_loss=0.0856, gpu_mem=6.91 GB]"
     ]
    },
    {
     "name": "stderr",
     "output_type": "stream",
     "text": [
      "\r",
      "Val:  55%|█████▍    | 47/86 [01:50<01:32,  2.36s/it, eval_loss=0.0856, gpu_mem=6.91 GB]"
     ]
    },
    {
     "name": "stderr",
     "output_type": "stream",
     "text": [
      "\r",
      "Val:  55%|█████▍    | 47/86 [01:53<01:32,  2.36s/it, eval_loss=0.0874, gpu_mem=6.91 GB]"
     ]
    },
    {
     "name": "stderr",
     "output_type": "stream",
     "text": [
      "\r",
      "Val:  56%|█████▌    | 48/86 [01:53<01:28,  2.32s/it, eval_loss=0.0874, gpu_mem=6.91 GB]"
     ]
    },
    {
     "name": "stderr",
     "output_type": "stream",
     "text": [
      "\r",
      "Val:  56%|█████▌    | 48/86 [01:55<01:28,  2.32s/it, eval_loss=0.0869, gpu_mem=6.91 GB]"
     ]
    },
    {
     "name": "stderr",
     "output_type": "stream",
     "text": [
      "\r",
      "Val:  57%|█████▋    | 49/86 [01:55<01:24,  2.28s/it, eval_loss=0.0869, gpu_mem=6.91 GB]"
     ]
    },
    {
     "name": "stderr",
     "output_type": "stream",
     "text": [
      "\r",
      "Val:  57%|█████▋    | 49/86 [01:57<01:24,  2.28s/it, eval_loss=0.0866, gpu_mem=6.91 GB]"
     ]
    },
    {
     "name": "stderr",
     "output_type": "stream",
     "text": [
      "\r",
      "Val:  58%|█████▊    | 50/86 [01:57<01:21,  2.27s/it, eval_loss=0.0866, gpu_mem=6.91 GB]"
     ]
    },
    {
     "name": "stderr",
     "output_type": "stream",
     "text": [
      "\r",
      "Val:  58%|█████▊    | 50/86 [01:59<01:21,  2.27s/it, eval_loss=0.0895, gpu_mem=6.91 GB]"
     ]
    },
    {
     "name": "stderr",
     "output_type": "stream",
     "text": [
      "\r",
      "Val:  59%|█████▉    | 51/86 [01:59<01:18,  2.24s/it, eval_loss=0.0895, gpu_mem=6.91 GB]"
     ]
    },
    {
     "name": "stderr",
     "output_type": "stream",
     "text": [
      "\r",
      "Val:  59%|█████▉    | 51/86 [02:02<01:18,  2.24s/it, eval_loss=0.0909, gpu_mem=6.91 GB]"
     ]
    },
    {
     "name": "stderr",
     "output_type": "stream",
     "text": [
      "\r",
      "Val:  60%|██████    | 52/86 [02:02<01:18,  2.31s/it, eval_loss=0.0909, gpu_mem=6.91 GB]"
     ]
    },
    {
     "name": "stderr",
     "output_type": "stream",
     "text": [
      "\r",
      "Val:  60%|██████    | 52/86 [02:04<01:18,  2.31s/it, eval_loss=0.0922, gpu_mem=6.91 GB]"
     ]
    },
    {
     "name": "stderr",
     "output_type": "stream",
     "text": [
      "\r",
      "Val:  62%|██████▏   | 53/86 [02:04<01:14,  2.27s/it, eval_loss=0.0922, gpu_mem=6.91 GB]"
     ]
    },
    {
     "name": "stderr",
     "output_type": "stream",
     "text": [
      "\r",
      "Val:  62%|██████▏   | 53/86 [02:06<01:14,  2.27s/it, eval_loss=0.0915, gpu_mem=6.91 GB]"
     ]
    },
    {
     "name": "stderr",
     "output_type": "stream",
     "text": [
      "\r",
      "Val:  63%|██████▎   | 54/86 [02:06<01:11,  2.24s/it, eval_loss=0.0915, gpu_mem=6.91 GB]"
     ]
    },
    {
     "name": "stderr",
     "output_type": "stream",
     "text": [
      "\r",
      "Val:  63%|██████▎   | 54/86 [02:08<01:11,  2.24s/it, eval_loss=0.0922, gpu_mem=6.91 GB]"
     ]
    },
    {
     "name": "stderr",
     "output_type": "stream",
     "text": [
      "\r",
      "Val:  64%|██████▍   | 55/86 [02:08<01:09,  2.23s/it, eval_loss=0.0922, gpu_mem=6.91 GB]"
     ]
    },
    {
     "name": "stderr",
     "output_type": "stream",
     "text": [
      "\r",
      "Val:  64%|██████▍   | 55/86 [02:10<01:09,  2.23s/it, eval_loss=0.0918, gpu_mem=6.91 GB]"
     ]
    },
    {
     "name": "stderr",
     "output_type": "stream",
     "text": [
      "\r",
      "Val:  65%|██████▌   | 56/86 [02:10<01:06,  2.22s/it, eval_loss=0.0918, gpu_mem=6.91 GB]"
     ]
    },
    {
     "name": "stderr",
     "output_type": "stream",
     "text": [
      "\r",
      "Val:  65%|██████▌   | 56/86 [02:13<01:06,  2.22s/it, eval_loss=0.0917, gpu_mem=6.91 GB]"
     ]
    },
    {
     "name": "stderr",
     "output_type": "stream",
     "text": [
      "\r",
      "Val:  66%|██████▋   | 57/86 [02:13<01:06,  2.29s/it, eval_loss=0.0917, gpu_mem=6.91 GB]"
     ]
    },
    {
     "name": "stderr",
     "output_type": "stream",
     "text": [
      "\r",
      "Val:  66%|██████▋   | 57/86 [02:15<01:06,  2.29s/it, eval_loss=0.0940, gpu_mem=6.91 GB]"
     ]
    },
    {
     "name": "stderr",
     "output_type": "stream",
     "text": [
      "\r",
      "Val:  67%|██████▋   | 58/86 [02:15<01:03,  2.26s/it, eval_loss=0.0940, gpu_mem=6.91 GB]"
     ]
    },
    {
     "name": "stderr",
     "output_type": "stream",
     "text": [
      "\r",
      "Val:  67%|██████▋   | 58/86 [02:18<01:03,  2.26s/it, eval_loss=0.0935, gpu_mem=6.91 GB]"
     ]
    },
    {
     "name": "stderr",
     "output_type": "stream",
     "text": [
      "\r",
      "Val:  69%|██████▊   | 59/86 [02:18<01:04,  2.39s/it, eval_loss=0.0935, gpu_mem=6.91 GB]"
     ]
    },
    {
     "name": "stderr",
     "output_type": "stream",
     "text": [
      "\r",
      "Val:  69%|██████▊   | 59/86 [02:20<01:04,  2.39s/it, eval_loss=0.0953, gpu_mem=6.91 GB]"
     ]
    },
    {
     "name": "stderr",
     "output_type": "stream",
     "text": [
      "\r",
      "Val:  70%|██████▉   | 60/86 [02:20<01:00,  2.33s/it, eval_loss=0.0953, gpu_mem=6.91 GB]"
     ]
    },
    {
     "name": "stderr",
     "output_type": "stream",
     "text": [
      "\r",
      "Val:  70%|██████▉   | 60/86 [02:22<01:00,  2.33s/it, eval_loss=0.0947, gpu_mem=6.91 GB]"
     ]
    },
    {
     "name": "stderr",
     "output_type": "stream",
     "text": [
      "\r",
      "Val:  71%|███████   | 61/86 [02:22<00:57,  2.31s/it, eval_loss=0.0947, gpu_mem=6.91 GB]"
     ]
    },
    {
     "name": "stderr",
     "output_type": "stream",
     "text": [
      "\r",
      "Val:  71%|███████   | 61/86 [02:25<00:57,  2.31s/it, eval_loss=0.0943, gpu_mem=6.91 GB]"
     ]
    },
    {
     "name": "stderr",
     "output_type": "stream",
     "text": [
      "\r",
      "Val:  72%|███████▏  | 62/86 [02:25<00:55,  2.33s/it, eval_loss=0.0943, gpu_mem=6.91 GB]"
     ]
    },
    {
     "name": "stderr",
     "output_type": "stream",
     "text": [
      "\r",
      "Val:  72%|███████▏  | 62/86 [02:27<00:55,  2.33s/it, eval_loss=0.0942, gpu_mem=6.91 GB]"
     ]
    },
    {
     "name": "stderr",
     "output_type": "stream",
     "text": [
      "\r",
      "Val:  73%|███████▎  | 63/86 [02:27<00:52,  2.29s/it, eval_loss=0.0942, gpu_mem=6.91 GB]"
     ]
    },
    {
     "name": "stderr",
     "output_type": "stream",
     "text": [
      "\r",
      "Val:  73%|███████▎  | 63/86 [02:29<00:52,  2.29s/it, eval_loss=0.0941, gpu_mem=6.91 GB]"
     ]
    },
    {
     "name": "stderr",
     "output_type": "stream",
     "text": [
      "\r",
      "Val:  74%|███████▍  | 64/86 [02:29<00:49,  2.26s/it, eval_loss=0.0941, gpu_mem=6.91 GB]"
     ]
    },
    {
     "name": "stderr",
     "output_type": "stream",
     "text": [
      "\r",
      "Val:  74%|███████▍  | 64/86 [02:31<00:49,  2.26s/it, eval_loss=0.0932, gpu_mem=6.91 GB]"
     ]
    },
    {
     "name": "stderr",
     "output_type": "stream",
     "text": [
      "\r",
      "Val:  76%|███████▌  | 65/86 [02:31<00:47,  2.26s/it, eval_loss=0.0932, gpu_mem=6.91 GB]"
     ]
    },
    {
     "name": "stderr",
     "output_type": "stream",
     "text": [
      "\r",
      "Val:  76%|███████▌  | 65/86 [02:34<00:47,  2.26s/it, eval_loss=0.0950, gpu_mem=6.91 GB]"
     ]
    },
    {
     "name": "stderr",
     "output_type": "stream",
     "text": [
      "\r",
      "Val:  77%|███████▋  | 66/86 [02:34<00:46,  2.31s/it, eval_loss=0.0950, gpu_mem=6.91 GB]"
     ]
    },
    {
     "name": "stderr",
     "output_type": "stream",
     "text": [
      "\r",
      "Val:  77%|███████▋  | 66/86 [02:36<00:46,  2.31s/it, eval_loss=0.0942, gpu_mem=6.91 GB]"
     ]
    },
    {
     "name": "stderr",
     "output_type": "stream",
     "text": [
      "\r",
      "Val:  78%|███████▊  | 67/86 [02:36<00:44,  2.34s/it, eval_loss=0.0942, gpu_mem=6.91 GB]"
     ]
    },
    {
     "name": "stderr",
     "output_type": "stream",
     "text": [
      "\r",
      "Val:  78%|███████▊  | 67/86 [02:38<00:44,  2.34s/it, eval_loss=0.0966, gpu_mem=6.91 GB]"
     ]
    },
    {
     "name": "stderr",
     "output_type": "stream",
     "text": [
      "\r",
      "Val:  79%|███████▉  | 68/86 [02:38<00:41,  2.29s/it, eval_loss=0.0966, gpu_mem=6.91 GB]"
     ]
    },
    {
     "name": "stderr",
     "output_type": "stream",
     "text": [
      "\r",
      "Val:  79%|███████▉  | 68/86 [02:40<00:41,  2.29s/it, eval_loss=0.0967, gpu_mem=6.91 GB]"
     ]
    },
    {
     "name": "stderr",
     "output_type": "stream",
     "text": [
      "\r",
      "Val:  80%|████████  | 69/86 [02:40<00:38,  2.28s/it, eval_loss=0.0967, gpu_mem=6.91 GB]"
     ]
    },
    {
     "name": "stderr",
     "output_type": "stream",
     "text": [
      "\r",
      "Val:  80%|████████  | 69/86 [02:43<00:38,  2.28s/it, eval_loss=0.0964, gpu_mem=6.91 GB]"
     ]
    },
    {
     "name": "stderr",
     "output_type": "stream",
     "text": [
      "\r",
      "Val:  81%|████████▏ | 70/86 [02:43<00:36,  2.28s/it, eval_loss=0.0964, gpu_mem=6.91 GB]"
     ]
    },
    {
     "name": "stderr",
     "output_type": "stream",
     "text": [
      "\r",
      "Val:  81%|████████▏ | 70/86 [02:45<00:36,  2.28s/it, eval_loss=0.0971, gpu_mem=6.91 GB]"
     ]
    },
    {
     "name": "stderr",
     "output_type": "stream",
     "text": [
      "\r",
      "Val:  83%|████████▎ | 71/86 [02:45<00:34,  2.33s/it, eval_loss=0.0971, gpu_mem=6.91 GB]"
     ]
    },
    {
     "name": "stderr",
     "output_type": "stream",
     "text": [
      "\r",
      "Val:  83%|████████▎ | 71/86 [02:47<00:34,  2.33s/it, eval_loss=0.0967, gpu_mem=6.91 GB]"
     ]
    },
    {
     "name": "stderr",
     "output_type": "stream",
     "text": [
      "\r",
      "Val:  84%|████████▎ | 72/86 [02:47<00:32,  2.31s/it, eval_loss=0.0967, gpu_mem=6.91 GB]"
     ]
    },
    {
     "name": "stderr",
     "output_type": "stream",
     "text": [
      "\r",
      "Val:  84%|████████▎ | 72/86 [02:50<00:32,  2.31s/it, eval_loss=0.0964, gpu_mem=6.91 GB]"
     ]
    },
    {
     "name": "stderr",
     "output_type": "stream",
     "text": [
      "\r",
      "Val:  85%|████████▍ | 73/86 [02:50<00:31,  2.43s/it, eval_loss=0.0964, gpu_mem=6.91 GB]"
     ]
    },
    {
     "name": "stderr",
     "output_type": "stream",
     "text": [
      "\r",
      "Val:  85%|████████▍ | 73/86 [02:52<00:31,  2.43s/it, eval_loss=0.0967, gpu_mem=6.91 GB]"
     ]
    },
    {
     "name": "stderr",
     "output_type": "stream",
     "text": [
      "\r",
      "Val:  86%|████████▌ | 74/86 [02:52<00:28,  2.38s/it, eval_loss=0.0967, gpu_mem=6.91 GB]"
     ]
    },
    {
     "name": "stderr",
     "output_type": "stream",
     "text": [
      "\r",
      "Val:  86%|████████▌ | 74/86 [02:55<00:28,  2.38s/it, eval_loss=0.0961, gpu_mem=6.91 GB]"
     ]
    },
    {
     "name": "stderr",
     "output_type": "stream",
     "text": [
      "\r",
      "Val:  87%|████████▋ | 75/86 [02:55<00:25,  2.33s/it, eval_loss=0.0961, gpu_mem=6.91 GB]"
     ]
    },
    {
     "name": "stderr",
     "output_type": "stream",
     "text": [
      "\r",
      "Val:  87%|████████▋ | 75/86 [02:57<00:25,  2.33s/it, eval_loss=0.0955, gpu_mem=6.91 GB]"
     ]
    },
    {
     "name": "stderr",
     "output_type": "stream",
     "text": [
      "\r",
      "Val:  88%|████████▊ | 76/86 [02:57<00:23,  2.39s/it, eval_loss=0.0955, gpu_mem=6.91 GB]"
     ]
    },
    {
     "name": "stderr",
     "output_type": "stream",
     "text": [
      "\r",
      "Val:  88%|████████▊ | 76/86 [02:59<00:23,  2.39s/it, eval_loss=0.0966, gpu_mem=6.91 GB]"
     ]
    },
    {
     "name": "stderr",
     "output_type": "stream",
     "text": [
      "\r",
      "Val:  90%|████████▉ | 77/86 [02:59<00:20,  2.33s/it, eval_loss=0.0966, gpu_mem=6.91 GB]"
     ]
    },
    {
     "name": "stderr",
     "output_type": "stream",
     "text": [
      "\r",
      "Val:  90%|████████▉ | 77/86 [03:02<00:20,  2.33s/it, eval_loss=0.0959, gpu_mem=6.91 GB]"
     ]
    },
    {
     "name": "stderr",
     "output_type": "stream",
     "text": [
      "\r",
      "Val:  91%|█████████ | 78/86 [03:02<00:18,  2.28s/it, eval_loss=0.0959, gpu_mem=6.91 GB]"
     ]
    },
    {
     "name": "stderr",
     "output_type": "stream",
     "text": [
      "\r",
      "Val:  91%|█████████ | 78/86 [03:04<00:18,  2.28s/it, eval_loss=0.0958, gpu_mem=6.91 GB]"
     ]
    },
    {
     "name": "stderr",
     "output_type": "stream",
     "text": [
      "\r",
      "Val:  92%|█████████▏| 79/86 [03:04<00:15,  2.28s/it, eval_loss=0.0958, gpu_mem=6.91 GB]"
     ]
    },
    {
     "name": "stderr",
     "output_type": "stream",
     "text": [
      "\r",
      "Val:  92%|█████████▏| 79/86 [03:06<00:15,  2.28s/it, eval_loss=0.0960, gpu_mem=6.91 GB]"
     ]
    },
    {
     "name": "stderr",
     "output_type": "stream",
     "text": [
      "\r",
      "Val:  93%|█████████▎| 80/86 [03:06<00:13,  2.27s/it, eval_loss=0.0960, gpu_mem=6.91 GB]"
     ]
    },
    {
     "name": "stderr",
     "output_type": "stream",
     "text": [
      "\r",
      "Val:  93%|█████████▎| 80/86 [03:08<00:13,  2.27s/it, eval_loss=0.0954, gpu_mem=6.91 GB]"
     ]
    },
    {
     "name": "stderr",
     "output_type": "stream",
     "text": [
      "\r",
      "Val:  94%|█████████▍| 81/86 [03:08<00:11,  2.30s/it, eval_loss=0.0954, gpu_mem=6.91 GB]"
     ]
    },
    {
     "name": "stderr",
     "output_type": "stream",
     "text": [
      "\r",
      "Val:  94%|█████████▍| 81/86 [03:11<00:11,  2.30s/it, eval_loss=0.0950, gpu_mem=6.91 GB]"
     ]
    },
    {
     "name": "stderr",
     "output_type": "stream",
     "text": [
      "\r",
      "Val:  95%|█████████▌| 82/86 [03:11<00:09,  2.27s/it, eval_loss=0.0950, gpu_mem=6.91 GB]"
     ]
    },
    {
     "name": "stderr",
     "output_type": "stream",
     "text": [
      "\r",
      "Val:  95%|█████████▌| 82/86 [03:13<00:09,  2.27s/it, eval_loss=0.0948, gpu_mem=6.91 GB]"
     ]
    },
    {
     "name": "stderr",
     "output_type": "stream",
     "text": [
      "\r",
      "Val:  97%|█████████▋| 83/86 [03:13<00:06,  2.26s/it, eval_loss=0.0948, gpu_mem=6.91 GB]"
     ]
    },
    {
     "name": "stderr",
     "output_type": "stream",
     "text": [
      "\r",
      "Val:  97%|█████████▋| 83/86 [03:15<00:06,  2.26s/it, eval_loss=0.0945, gpu_mem=6.91 GB]"
     ]
    },
    {
     "name": "stderr",
     "output_type": "stream",
     "text": [
      "\r",
      "Val:  98%|█████████▊| 84/86 [03:15<00:04,  2.24s/it, eval_loss=0.0945, gpu_mem=6.91 GB]"
     ]
    },
    {
     "name": "stderr",
     "output_type": "stream",
     "text": [
      "\r",
      "Val:  98%|█████████▊| 84/86 [03:17<00:04,  2.24s/it, eval_loss=0.0972, gpu_mem=6.91 GB]"
     ]
    },
    {
     "name": "stderr",
     "output_type": "stream",
     "text": [
      "\r",
      "Val:  99%|█████████▉| 85/86 [03:17<00:02,  2.28s/it, eval_loss=0.0972, gpu_mem=6.91 GB]"
     ]
    },
    {
     "name": "stderr",
     "output_type": "stream",
     "text": [
      "\r",
      "Val:  99%|█████████▉| 85/86 [03:18<00:02,  2.28s/it, eval_loss=0.0972, gpu_mem=6.91 GB]"
     ]
    },
    {
     "name": "stderr",
     "output_type": "stream",
     "text": [
      "\r",
      "Val: 100%|██████████| 86/86 [03:18<00:00,  1.75s/it, eval_loss=0.0972, gpu_mem=6.91 GB]"
     ]
    },
    {
     "name": "stderr",
     "output_type": "stream",
     "text": [
      "\r",
      "Val: 100%|██████████| 86/86 [03:18<00:00,  2.31s/it, eval_loss=0.0972, gpu_mem=6.91 GB]"
     ]
    },
    {
     "name": "stderr",
     "output_type": "stream",
     "text": [
      "\n",
      "Valid loss:0.0972\n"
     ]
    },
    {
     "name": "stderr",
     "output_type": "stream",
     "text": [
      "Val metric mean prob: 0.1867\n"
     ]
    },
    {
     "name": "stderr",
     "output_type": "stream",
     "text": [
      "Best metric at: 0.5111 0.3630  0.7308\n"
     ]
    },
    {
     "name": "stderr",
     "output_type": "stream",
     "text": [
      "Cf: [[2315   18]\n",
      " [  26   23]]\n"
     ]
    },
    {
     "name": "stderr",
     "output_type": "stream",
     "text": [
      "\u001b[32m[I 2023-02-15 04:39:55,326]\u001b[0m Trial 11 finished with value: 0.5111111111111111 and parameters: {'a1': 0.7934229002282495}. Best is trial 0 with value: 0.5111111111111111.\u001b[0m\n"
     ]
    },
    {
     "name": "stdout",
     "output_type": "stream",
     "text": [
      "/kaggle/input/10folds/tf_efficientnetv2_b2_fold_1_model_epoch_3_0.5055_0.360.pth\n",
      "none:  /kaggle/input/10folds/tf_efficientnetv2_b2_fold_1_model_epoch_3_0.5055_0.360.pth\n",
      "/kaggle/input/10folds/tf_efficientnetv2_b2_fold_1_model_epoch_5_0.4865_0.324.pth\n",
      "hehe /kaggle/input/10folds/tf_efficientnetv2_b2_fold_1_model_epoch_5_0.4865_0.324.pth\n",
      "0.82053473289368 0.17946526710632005\n",
      "\n"
     ]
    },
    {
     "name": "stderr",
     "output_type": "stream",
     "text": [
      "\r",
      "Val:   0%|          | 0/86 [00:00<?, ?it/s]"
     ]
    },
    {
     "name": "stderr",
     "output_type": "stream",
     "text": [
      "\r",
      "Val:   0%|          | 0/86 [00:04<?, ?it/s, eval_loss=0.0552, gpu_mem=6.91 GB]"
     ]
    },
    {
     "name": "stderr",
     "output_type": "stream",
     "text": [
      "\r",
      "Val:   1%|          | 1/86 [00:04<06:01,  4.25s/it, eval_loss=0.0552, gpu_mem=6.91 GB]"
     ]
    },
    {
     "name": "stderr",
     "output_type": "stream",
     "text": [
      "\r",
      "Val:   1%|          | 1/86 [00:06<06:01,  4.25s/it, eval_loss=0.0431, gpu_mem=6.91 GB]"
     ]
    },
    {
     "name": "stderr",
     "output_type": "stream",
     "text": [
      "\r",
      "Val:   2%|▏         | 2/86 [00:06<04:18,  3.08s/it, eval_loss=0.0431, gpu_mem=6.91 GB]"
     ]
    },
    {
     "name": "stderr",
     "output_type": "stream",
     "text": [
      "\r",
      "Val:   2%|▏         | 2/86 [00:08<04:18,  3.08s/it, eval_loss=0.0889, gpu_mem=6.91 GB]"
     ]
    },
    {
     "name": "stderr",
     "output_type": "stream",
     "text": [
      "\r",
      "Val:   3%|▎         | 3/86 [00:08<03:52,  2.80s/it, eval_loss=0.0889, gpu_mem=6.91 GB]"
     ]
    },
    {
     "name": "stderr",
     "output_type": "stream",
     "text": [
      "\r",
      "Val:   3%|▎         | 3/86 [00:11<03:52,  2.80s/it, eval_loss=0.0997, gpu_mem=6.91 GB]"
     ]
    },
    {
     "name": "stderr",
     "output_type": "stream",
     "text": [
      "\r",
      "Val:   5%|▍         | 4/86 [00:11<03:32,  2.59s/it, eval_loss=0.0997, gpu_mem=6.91 GB]"
     ]
    },
    {
     "name": "stderr",
     "output_type": "stream",
     "text": [
      "\r",
      "Val:   5%|▍         | 4/86 [00:13<03:32,  2.59s/it, eval_loss=0.0955, gpu_mem=6.91 GB]"
     ]
    },
    {
     "name": "stderr",
     "output_type": "stream",
     "text": [
      "\r",
      "Val:   6%|▌         | 5/86 [00:13<03:20,  2.48s/it, eval_loss=0.0955, gpu_mem=6.91 GB]"
     ]
    },
    {
     "name": "stderr",
     "output_type": "stream",
     "text": [
      "\r",
      "Val:   6%|▌         | 5/86 [00:15<03:20,  2.48s/it, eval_loss=0.0924, gpu_mem=6.91 GB]"
     ]
    },
    {
     "name": "stderr",
     "output_type": "stream",
     "text": [
      "\r",
      "Val:   7%|▋         | 6/86 [00:15<03:12,  2.40s/it, eval_loss=0.0924, gpu_mem=6.91 GB]"
     ]
    },
    {
     "name": "stderr",
     "output_type": "stream",
     "text": [
      "\r",
      "Val:   7%|▋         | 6/86 [00:18<03:12,  2.40s/it, eval_loss=0.0847, gpu_mem=6.91 GB]"
     ]
    },
    {
     "name": "stderr",
     "output_type": "stream",
     "text": [
      "\r",
      "Val:   8%|▊         | 7/86 [00:18<03:06,  2.36s/it, eval_loss=0.0847, gpu_mem=6.91 GB]"
     ]
    },
    {
     "name": "stderr",
     "output_type": "stream",
     "text": [
      "\r",
      "Val:   8%|▊         | 7/86 [00:20<03:06,  2.36s/it, eval_loss=0.0818, gpu_mem=6.91 GB]"
     ]
    },
    {
     "name": "stderr",
     "output_type": "stream",
     "text": [
      "\r",
      "Val:   9%|▉         | 8/86 [00:20<03:06,  2.39s/it, eval_loss=0.0818, gpu_mem=6.91 GB]"
     ]
    },
    {
     "name": "stderr",
     "output_type": "stream",
     "text": [
      "\r",
      "Val:   9%|▉         | 8/86 [00:22<03:06,  2.39s/it, eval_loss=0.0801, gpu_mem=6.91 GB]"
     ]
    },
    {
     "name": "stderr",
     "output_type": "stream",
     "text": [
      "\r",
      "Val:  10%|█         | 9/86 [00:22<02:59,  2.33s/it, eval_loss=0.0801, gpu_mem=6.91 GB]"
     ]
    },
    {
     "name": "stderr",
     "output_type": "stream",
     "text": [
      "\r",
      "Val:  10%|█         | 9/86 [00:24<02:59,  2.33s/it, eval_loss=0.0871, gpu_mem=6.91 GB]"
     ]
    },
    {
     "name": "stderr",
     "output_type": "stream",
     "text": [
      "\r",
      "Val:  12%|█▏        | 10/86 [00:24<02:53,  2.29s/it, eval_loss=0.0871, gpu_mem=6.91 GB]"
     ]
    },
    {
     "name": "stderr",
     "output_type": "stream",
     "text": [
      "\r",
      "Val:  12%|█▏        | 10/86 [00:27<02:53,  2.29s/it, eval_loss=0.0842, gpu_mem=6.91 GB]"
     ]
    },
    {
     "name": "stderr",
     "output_type": "stream",
     "text": [
      "\r",
      "Val:  13%|█▎        | 11/86 [00:27<02:49,  2.25s/it, eval_loss=0.0842, gpu_mem=6.91 GB]"
     ]
    },
    {
     "name": "stderr",
     "output_type": "stream",
     "text": [
      "\r",
      "Val:  13%|█▎        | 11/86 [00:29<02:49,  2.25s/it, eval_loss=0.0844, gpu_mem=6.91 GB]"
     ]
    },
    {
     "name": "stderr",
     "output_type": "stream",
     "text": [
      "\r",
      "Val:  14%|█▍        | 12/86 [00:29<02:51,  2.31s/it, eval_loss=0.0844, gpu_mem=6.91 GB]"
     ]
    },
    {
     "name": "stderr",
     "output_type": "stream",
     "text": [
      "\r",
      "Val:  14%|█▍        | 12/86 [00:32<02:51,  2.31s/it, eval_loss=0.0865, gpu_mem=6.91 GB]"
     ]
    },
    {
     "name": "stderr",
     "output_type": "stream",
     "text": [
      "\r",
      "Val:  15%|█▌        | 13/86 [00:32<03:00,  2.47s/it, eval_loss=0.0865, gpu_mem=6.91 GB]"
     ]
    },
    {
     "name": "stderr",
     "output_type": "stream",
     "text": [
      "\r",
      "Val:  15%|█▌        | 13/86 [00:34<03:00,  2.47s/it, eval_loss=0.0828, gpu_mem=6.91 GB]"
     ]
    },
    {
     "name": "stderr",
     "output_type": "stream",
     "text": [
      "\r",
      "Val:  16%|█▋        | 14/86 [00:34<02:51,  2.39s/it, eval_loss=0.0828, gpu_mem=6.91 GB]"
     ]
    },
    {
     "name": "stderr",
     "output_type": "stream",
     "text": [
      "\r",
      "Val:  16%|█▋        | 14/86 [00:36<02:51,  2.39s/it, eval_loss=0.0800, gpu_mem=6.91 GB]"
     ]
    },
    {
     "name": "stderr",
     "output_type": "stream",
     "text": [
      "\r",
      "Val:  17%|█▋        | 15/86 [00:36<02:45,  2.34s/it, eval_loss=0.0800, gpu_mem=6.91 GB]"
     ]
    },
    {
     "name": "stderr",
     "output_type": "stream",
     "text": [
      "\r",
      "Val:  17%|█▋        | 15/86 [00:38<02:45,  2.34s/it, eval_loss=0.0781, gpu_mem=6.91 GB]"
     ]
    },
    {
     "name": "stderr",
     "output_type": "stream",
     "text": [
      "\r",
      "Val:  19%|█▊        | 16/86 [00:38<02:41,  2.30s/it, eval_loss=0.0781, gpu_mem=6.91 GB]"
     ]
    },
    {
     "name": "stderr",
     "output_type": "stream",
     "text": [
      "\r",
      "Val:  19%|█▊        | 16/86 [00:41<02:41,  2.30s/it, eval_loss=0.0782, gpu_mem=6.91 GB]"
     ]
    },
    {
     "name": "stderr",
     "output_type": "stream",
     "text": [
      "\r",
      "Val:  20%|█▉        | 17/86 [00:41<02:41,  2.35s/it, eval_loss=0.0782, gpu_mem=6.91 GB]"
     ]
    },
    {
     "name": "stderr",
     "output_type": "stream",
     "text": [
      "\r",
      "Val:  20%|█▉        | 17/86 [00:43<02:41,  2.35s/it, eval_loss=0.0777, gpu_mem=6.91 GB]"
     ]
    },
    {
     "name": "stderr",
     "output_type": "stream",
     "text": [
      "\r",
      "Val:  21%|██        | 18/86 [00:43<02:35,  2.29s/it, eval_loss=0.0777, gpu_mem=6.91 GB]"
     ]
    },
    {
     "name": "stderr",
     "output_type": "stream",
     "text": [
      "\r",
      "Val:  21%|██        | 18/86 [00:45<02:35,  2.29s/it, eval_loss=0.0779, gpu_mem=6.91 GB]"
     ]
    },
    {
     "name": "stderr",
     "output_type": "stream",
     "text": [
      "\r",
      "Val:  22%|██▏       | 19/86 [00:45<02:32,  2.28s/it, eval_loss=0.0779, gpu_mem=6.91 GB]"
     ]
    },
    {
     "name": "stderr",
     "output_type": "stream",
     "text": [
      "\r",
      "Val:  22%|██▏       | 19/86 [00:48<02:32,  2.28s/it, eval_loss=0.0785, gpu_mem=6.91 GB]"
     ]
    },
    {
     "name": "stderr",
     "output_type": "stream",
     "text": [
      "\r",
      "Val:  23%|██▎       | 20/86 [00:48<02:29,  2.26s/it, eval_loss=0.0785, gpu_mem=6.91 GB]"
     ]
    },
    {
     "name": "stderr",
     "output_type": "stream",
     "text": [
      "\r",
      "Val:  23%|██▎       | 20/86 [00:50<02:29,  2.26s/it, eval_loss=0.0771, gpu_mem=6.91 GB]"
     ]
    },
    {
     "name": "stderr",
     "output_type": "stream",
     "text": [
      "\r",
      "Val:  24%|██▍       | 21/86 [00:50<02:27,  2.26s/it, eval_loss=0.0771, gpu_mem=6.91 GB]"
     ]
    },
    {
     "name": "stderr",
     "output_type": "stream",
     "text": [
      "\r",
      "Val:  24%|██▍       | 21/86 [00:52<02:27,  2.26s/it, eval_loss=0.0804, gpu_mem=6.91 GB]"
     ]
    },
    {
     "name": "stderr",
     "output_type": "stream",
     "text": [
      "\r",
      "Val:  26%|██▌       | 22/86 [00:52<02:28,  2.32s/it, eval_loss=0.0804, gpu_mem=6.91 GB]"
     ]
    },
    {
     "name": "stderr",
     "output_type": "stream",
     "text": [
      "\r",
      "Val:  26%|██▌       | 22/86 [00:54<02:28,  2.32s/it, eval_loss=0.0844, gpu_mem=6.91 GB]"
     ]
    },
    {
     "name": "stderr",
     "output_type": "stream",
     "text": [
      "\r",
      "Val:  27%|██▋       | 23/86 [00:54<02:23,  2.28s/it, eval_loss=0.0844, gpu_mem=6.91 GB]"
     ]
    },
    {
     "name": "stderr",
     "output_type": "stream",
     "text": [
      "\r",
      "Val:  27%|██▋       | 23/86 [00:57<02:23,  2.28s/it, eval_loss=0.0839, gpu_mem=6.91 GB]"
     ]
    },
    {
     "name": "stderr",
     "output_type": "stream",
     "text": [
      "\r",
      "Val:  28%|██▊       | 24/86 [00:57<02:20,  2.27s/it, eval_loss=0.0839, gpu_mem=6.91 GB]"
     ]
    },
    {
     "name": "stderr",
     "output_type": "stream",
     "text": [
      "\r",
      "Val:  28%|██▊       | 24/86 [00:59<02:20,  2.27s/it, eval_loss=0.0837, gpu_mem=6.91 GB]"
     ]
    },
    {
     "name": "stderr",
     "output_type": "stream",
     "text": [
      "\r",
      "Val:  29%|██▉       | 25/86 [00:59<02:16,  2.24s/it, eval_loss=0.0837, gpu_mem=6.91 GB]"
     ]
    },
    {
     "name": "stderr",
     "output_type": "stream",
     "text": [
      "\r",
      "Val:  29%|██▉       | 25/86 [01:01<02:16,  2.24s/it, eval_loss=0.0816, gpu_mem=6.91 GB]"
     ]
    },
    {
     "name": "stderr",
     "output_type": "stream",
     "text": [
      "\r",
      "Val:  30%|███       | 26/86 [01:01<02:19,  2.32s/it, eval_loss=0.0816, gpu_mem=6.91 GB]"
     ]
    },
    {
     "name": "stderr",
     "output_type": "stream",
     "text": [
      "\r",
      "Val:  30%|███       | 26/86 [01:04<02:19,  2.32s/it, eval_loss=0.0853, gpu_mem=6.91 GB]"
     ]
    },
    {
     "name": "stderr",
     "output_type": "stream",
     "text": [
      "\r",
      "Val:  31%|███▏      | 27/86 [01:04<02:26,  2.48s/it, eval_loss=0.0853, gpu_mem=6.91 GB]"
     ]
    },
    {
     "name": "stderr",
     "output_type": "stream",
     "text": [
      "\r",
      "Val:  31%|███▏      | 27/86 [01:06<02:26,  2.48s/it, eval_loss=0.0848, gpu_mem=6.91 GB]"
     ]
    },
    {
     "name": "stderr",
     "output_type": "stream",
     "text": [
      "\r",
      "Val:  33%|███▎      | 28/86 [01:06<02:19,  2.41s/it, eval_loss=0.0848, gpu_mem=6.91 GB]"
     ]
    },
    {
     "name": "stderr",
     "output_type": "stream",
     "text": [
      "\r",
      "Val:  33%|███▎      | 28/86 [01:09<02:19,  2.41s/it, eval_loss=0.0838, gpu_mem=6.91 GB]"
     ]
    },
    {
     "name": "stderr",
     "output_type": "stream",
     "text": [
      "\r",
      "Val:  34%|███▎      | 29/86 [01:09<02:14,  2.35s/it, eval_loss=0.0838, gpu_mem=6.91 GB]"
     ]
    },
    {
     "name": "stderr",
     "output_type": "stream",
     "text": [
      "\r",
      "Val:  34%|███▎      | 29/86 [01:11<02:14,  2.35s/it, eval_loss=0.0838, gpu_mem=6.91 GB]"
     ]
    },
    {
     "name": "stderr",
     "output_type": "stream",
     "text": [
      "\r",
      "Val:  35%|███▍      | 30/86 [01:11<02:11,  2.34s/it, eval_loss=0.0838, gpu_mem=6.91 GB]"
     ]
    },
    {
     "name": "stderr",
     "output_type": "stream",
     "text": [
      "\r",
      "Val:  35%|███▍      | 30/86 [01:13<02:11,  2.34s/it, eval_loss=0.0830, gpu_mem=6.91 GB]"
     ]
    },
    {
     "name": "stderr",
     "output_type": "stream",
     "text": [
      "\r",
      "Val:  36%|███▌      | 31/86 [01:13<02:10,  2.37s/it, eval_loss=0.0830, gpu_mem=6.91 GB]"
     ]
    },
    {
     "name": "stderr",
     "output_type": "stream",
     "text": [
      "\r",
      "Val:  36%|███▌      | 31/86 [01:16<02:10,  2.37s/it, eval_loss=0.0905, gpu_mem=6.91 GB]"
     ]
    },
    {
     "name": "stderr",
     "output_type": "stream",
     "text": [
      "\r",
      "Val:  37%|███▋      | 32/86 [01:16<02:06,  2.35s/it, eval_loss=0.0905, gpu_mem=6.91 GB]"
     ]
    },
    {
     "name": "stderr",
     "output_type": "stream",
     "text": [
      "\r",
      "Val:  37%|███▋      | 32/86 [01:18<02:06,  2.35s/it, eval_loss=0.0886, gpu_mem=6.91 GB]"
     ]
    },
    {
     "name": "stderr",
     "output_type": "stream",
     "text": [
      "\r",
      "Val:  38%|███▊      | 33/86 [01:18<02:02,  2.31s/it, eval_loss=0.0886, gpu_mem=6.91 GB]"
     ]
    },
    {
     "name": "stderr",
     "output_type": "stream",
     "text": [
      "\r",
      "Val:  38%|███▊      | 33/86 [01:20<02:02,  2.31s/it, eval_loss=0.0899, gpu_mem=6.91 GB]"
     ]
    },
    {
     "name": "stderr",
     "output_type": "stream",
     "text": [
      "\r",
      "Val:  40%|███▉      | 34/86 [01:20<01:58,  2.28s/it, eval_loss=0.0899, gpu_mem=6.91 GB]"
     ]
    },
    {
     "name": "stderr",
     "output_type": "stream",
     "text": [
      "\r",
      "Val:  40%|███▉      | 34/86 [01:22<01:58,  2.28s/it, eval_loss=0.0889, gpu_mem=6.91 GB]"
     ]
    },
    {
     "name": "stderr",
     "output_type": "stream",
     "text": [
      "\r",
      "Val:  41%|████      | 35/86 [01:22<01:55,  2.27s/it, eval_loss=0.0889, gpu_mem=6.91 GB]"
     ]
    },
    {
     "name": "stderr",
     "output_type": "stream",
     "text": [
      "\r",
      "Val:  41%|████      | 35/86 [01:25<01:55,  2.27s/it, eval_loss=0.0875, gpu_mem=6.91 GB]"
     ]
    },
    {
     "name": "stderr",
     "output_type": "stream",
     "text": [
      "\r",
      "Val:  42%|████▏     | 36/86 [01:25<01:55,  2.31s/it, eval_loss=0.0875, gpu_mem=6.91 GB]"
     ]
    },
    {
     "name": "stderr",
     "output_type": "stream",
     "text": [
      "\r",
      "Val:  42%|████▏     | 36/86 [01:27<01:55,  2.31s/it, eval_loss=0.0881, gpu_mem=6.91 GB]"
     ]
    },
    {
     "name": "stderr",
     "output_type": "stream",
     "text": [
      "\r",
      "Val:  43%|████▎     | 37/86 [01:27<01:52,  2.29s/it, eval_loss=0.0881, gpu_mem=6.91 GB]"
     ]
    },
    {
     "name": "stderr",
     "output_type": "stream",
     "text": [
      "\r",
      "Val:  43%|████▎     | 37/86 [01:29<01:52,  2.29s/it, eval_loss=0.0879, gpu_mem=6.91 GB]"
     ]
    },
    {
     "name": "stderr",
     "output_type": "stream",
     "text": [
      "\r",
      "Val:  44%|████▍     | 38/86 [01:29<01:48,  2.26s/it, eval_loss=0.0879, gpu_mem=6.91 GB]"
     ]
    },
    {
     "name": "stderr",
     "output_type": "stream",
     "text": [
      "\r",
      "Val:  44%|████▍     | 38/86 [01:31<01:48,  2.26s/it, eval_loss=0.0865, gpu_mem=6.91 GB]"
     ]
    },
    {
     "name": "stderr",
     "output_type": "stream",
     "text": [
      "\r",
      "Val:  45%|████▌     | 39/86 [01:31<01:45,  2.25s/it, eval_loss=0.0865, gpu_mem=6.91 GB]"
     ]
    },
    {
     "name": "stderr",
     "output_type": "stream",
     "text": [
      "\r",
      "Val:  45%|████▌     | 39/86 [01:34<01:45,  2.25s/it, eval_loss=0.0864, gpu_mem=6.91 GB]"
     ]
    },
    {
     "name": "stderr",
     "output_type": "stream",
     "text": [
      "\r",
      "Val:  47%|████▋     | 40/86 [01:34<01:50,  2.41s/it, eval_loss=0.0864, gpu_mem=6.91 GB]"
     ]
    },
    {
     "name": "stderr",
     "output_type": "stream",
     "text": [
      "\r",
      "Val:  47%|████▋     | 40/86 [01:37<01:50,  2.41s/it, eval_loss=0.0859, gpu_mem=6.91 GB]"
     ]
    },
    {
     "name": "stderr",
     "output_type": "stream",
     "text": [
      "\r",
      "Val:  48%|████▊     | 41/86 [01:37<01:48,  2.40s/it, eval_loss=0.0859, gpu_mem=6.91 GB]"
     ]
    },
    {
     "name": "stderr",
     "output_type": "stream",
     "text": [
      "\r",
      "Val:  48%|████▊     | 41/86 [01:39<01:48,  2.40s/it, eval_loss=0.0854, gpu_mem=6.91 GB]"
     ]
    },
    {
     "name": "stderr",
     "output_type": "stream",
     "text": [
      "\r",
      "Val:  49%|████▉     | 42/86 [01:39<01:43,  2.34s/it, eval_loss=0.0854, gpu_mem=6.91 GB]"
     ]
    },
    {
     "name": "stderr",
     "output_type": "stream",
     "text": [
      "\r",
      "Val:  49%|████▉     | 42/86 [01:41<01:43,  2.34s/it, eval_loss=0.0845, gpu_mem=6.91 GB]"
     ]
    },
    {
     "name": "stderr",
     "output_type": "stream",
     "text": [
      "\r",
      "Val:  50%|█████     | 43/86 [01:41<01:38,  2.30s/it, eval_loss=0.0845, gpu_mem=6.91 GB]"
     ]
    },
    {
     "name": "stderr",
     "output_type": "stream",
     "text": [
      "\r",
      "Val:  50%|█████     | 43/86 [01:43<01:38,  2.30s/it, eval_loss=0.0877, gpu_mem=6.91 GB]"
     ]
    },
    {
     "name": "stderr",
     "output_type": "stream",
     "text": [
      "\r",
      "Val:  51%|█████     | 44/86 [01:43<01:35,  2.28s/it, eval_loss=0.0877, gpu_mem=6.91 GB]"
     ]
    },
    {
     "name": "stderr",
     "output_type": "stream",
     "text": [
      "\r",
      "Val:  51%|█████     | 44/86 [01:46<01:35,  2.28s/it, eval_loss=0.0864, gpu_mem=6.91 GB]"
     ]
    },
    {
     "name": "stderr",
     "output_type": "stream",
     "text": [
      "\r",
      "Val:  52%|█████▏    | 45/86 [01:46<01:35,  2.32s/it, eval_loss=0.0864, gpu_mem=6.91 GB]"
     ]
    },
    {
     "name": "stderr",
     "output_type": "stream",
     "text": [
      "\r",
      "Val:  52%|█████▏    | 45/86 [01:48<01:35,  2.32s/it, eval_loss=0.0863, gpu_mem=6.91 GB]"
     ]
    },
    {
     "name": "stderr",
     "output_type": "stream",
     "text": [
      "\r",
      "Val:  53%|█████▎    | 46/86 [01:48<01:33,  2.34s/it, eval_loss=0.0863, gpu_mem=6.91 GB]"
     ]
    },
    {
     "name": "stderr",
     "output_type": "stream",
     "text": [
      "\r",
      "Val:  53%|█████▎    | 46/86 [01:50<01:33,  2.34s/it, eval_loss=0.0856, gpu_mem=6.91 GB]"
     ]
    },
    {
     "name": "stderr",
     "output_type": "stream",
     "text": [
      "\r",
      "Val:  55%|█████▍    | 47/86 [01:50<01:29,  2.29s/it, eval_loss=0.0856, gpu_mem=6.91 GB]"
     ]
    },
    {
     "name": "stderr",
     "output_type": "stream",
     "text": [
      "\r",
      "Val:  55%|█████▍    | 47/86 [01:52<01:29,  2.29s/it, eval_loss=0.0874, gpu_mem=6.91 GB]"
     ]
    },
    {
     "name": "stderr",
     "output_type": "stream",
     "text": [
      "\r",
      "Val:  56%|█████▌    | 48/86 [01:52<01:26,  2.27s/it, eval_loss=0.0874, gpu_mem=6.91 GB]"
     ]
    },
    {
     "name": "stderr",
     "output_type": "stream",
     "text": [
      "\r",
      "Val:  56%|█████▌    | 48/86 [01:55<01:26,  2.27s/it, eval_loss=0.0869, gpu_mem=6.91 GB]"
     ]
    },
    {
     "name": "stderr",
     "output_type": "stream",
     "text": [
      "\r",
      "Val:  57%|█████▋    | 49/86 [01:55<01:23,  2.25s/it, eval_loss=0.0869, gpu_mem=6.91 GB]"
     ]
    },
    {
     "name": "stderr",
     "output_type": "stream",
     "text": [
      "\r",
      "Val:  57%|█████▋    | 49/86 [01:57<01:23,  2.25s/it, eval_loss=0.0866, gpu_mem=6.91 GB]"
     ]
    },
    {
     "name": "stderr",
     "output_type": "stream",
     "text": [
      "\r",
      "Val:  58%|█████▊    | 50/86 [01:57<01:21,  2.27s/it, eval_loss=0.0866, gpu_mem=6.91 GB]"
     ]
    },
    {
     "name": "stderr",
     "output_type": "stream",
     "text": [
      "\r",
      "Val:  58%|█████▊    | 50/86 [01:59<01:21,  2.27s/it, eval_loss=0.0895, gpu_mem=6.91 GB]"
     ]
    },
    {
     "name": "stderr",
     "output_type": "stream",
     "text": [
      "\r",
      "Val:  59%|█████▉    | 51/86 [01:59<01:20,  2.30s/it, eval_loss=0.0895, gpu_mem=6.91 GB]"
     ]
    },
    {
     "name": "stderr",
     "output_type": "stream",
     "text": [
      "\r",
      "Val:  59%|█████▉    | 51/86 [02:02<01:20,  2.30s/it, eval_loss=0.0909, gpu_mem=6.91 GB]"
     ]
    },
    {
     "name": "stderr",
     "output_type": "stream",
     "text": [
      "\r",
      "Val:  60%|██████    | 52/86 [02:02<01:17,  2.28s/it, eval_loss=0.0909, gpu_mem=6.91 GB]"
     ]
    },
    {
     "name": "stderr",
     "output_type": "stream",
     "text": [
      "\r",
      "Val:  60%|██████    | 52/86 [02:04<01:17,  2.28s/it, eval_loss=0.0922, gpu_mem=6.91 GB]"
     ]
    },
    {
     "name": "stderr",
     "output_type": "stream",
     "text": [
      "\r",
      "Val:  62%|██████▏   | 53/86 [02:04<01:14,  2.26s/it, eval_loss=0.0922, gpu_mem=6.91 GB]"
     ]
    },
    {
     "name": "stderr",
     "output_type": "stream",
     "text": [
      "\r",
      "Val:  62%|██████▏   | 53/86 [02:06<01:14,  2.26s/it, eval_loss=0.0915, gpu_mem=6.91 GB]"
     ]
    },
    {
     "name": "stderr",
     "output_type": "stream",
     "text": [
      "\r",
      "Val:  63%|██████▎   | 54/86 [02:07<01:16,  2.38s/it, eval_loss=0.0915, gpu_mem=6.91 GB]"
     ]
    },
    {
     "name": "stderr",
     "output_type": "stream",
     "text": [
      "\r",
      "Val:  63%|██████▎   | 54/86 [02:09<01:16,  2.38s/it, eval_loss=0.0922, gpu_mem=6.91 GB]"
     ]
    },
    {
     "name": "stderr",
     "output_type": "stream",
     "text": [
      "\r",
      "Val:  64%|██████▍   | 55/86 [02:09<01:14,  2.40s/it, eval_loss=0.0922, gpu_mem=6.91 GB]"
     ]
    },
    {
     "name": "stderr",
     "output_type": "stream",
     "text": [
      "\r",
      "Val:  64%|██████▍   | 55/86 [02:11<01:14,  2.40s/it, eval_loss=0.0918, gpu_mem=6.91 GB]"
     ]
    },
    {
     "name": "stderr",
     "output_type": "stream",
     "text": [
      "\r",
      "Val:  65%|██████▌   | 56/86 [02:11<01:09,  2.33s/it, eval_loss=0.0918, gpu_mem=6.91 GB]"
     ]
    },
    {
     "name": "stderr",
     "output_type": "stream",
     "text": [
      "\r",
      "Val:  65%|██████▌   | 56/86 [02:13<01:09,  2.33s/it, eval_loss=0.0917, gpu_mem=6.91 GB]"
     ]
    },
    {
     "name": "stderr",
     "output_type": "stream",
     "text": [
      "\r",
      "Val:  66%|██████▋   | 57/86 [02:13<01:06,  2.31s/it, eval_loss=0.0917, gpu_mem=6.91 GB]"
     ]
    },
    {
     "name": "stderr",
     "output_type": "stream",
     "text": [
      "\r",
      "Val:  66%|██████▋   | 57/86 [02:16<01:06,  2.31s/it, eval_loss=0.0940, gpu_mem=6.91 GB]"
     ]
    },
    {
     "name": "stderr",
     "output_type": "stream",
     "text": [
      "\r",
      "Val:  67%|██████▋   | 58/86 [02:16<01:03,  2.26s/it, eval_loss=0.0940, gpu_mem=6.91 GB]"
     ]
    },
    {
     "name": "stderr",
     "output_type": "stream",
     "text": [
      "\r",
      "Val:  67%|██████▋   | 58/86 [02:18<01:03,  2.26s/it, eval_loss=0.0935, gpu_mem=6.91 GB]"
     ]
    },
    {
     "name": "stderr",
     "output_type": "stream",
     "text": [
      "\r",
      "Val:  69%|██████▊   | 59/86 [02:18<01:00,  2.26s/it, eval_loss=0.0935, gpu_mem=6.91 GB]"
     ]
    },
    {
     "name": "stderr",
     "output_type": "stream",
     "text": [
      "\r",
      "Val:  69%|██████▊   | 59/86 [02:20<01:00,  2.26s/it, eval_loss=0.0953, gpu_mem=6.91 GB]"
     ]
    },
    {
     "name": "stderr",
     "output_type": "stream",
     "text": [
      "\r",
      "Val:  70%|██████▉   | 60/86 [02:20<01:00,  2.34s/it, eval_loss=0.0953, gpu_mem=6.91 GB]"
     ]
    },
    {
     "name": "stderr",
     "output_type": "stream",
     "text": [
      "\r",
      "Val:  70%|██████▉   | 60/86 [02:22<01:00,  2.34s/it, eval_loss=0.0947, gpu_mem=6.91 GB]"
     ]
    },
    {
     "name": "stderr",
     "output_type": "stream",
     "text": [
      "\r",
      "Val:  71%|███████   | 61/86 [02:22<00:57,  2.29s/it, eval_loss=0.0947, gpu_mem=6.91 GB]"
     ]
    },
    {
     "name": "stderr",
     "output_type": "stream",
     "text": [
      "\r",
      "Val:  71%|███████   | 61/86 [02:25<00:57,  2.29s/it, eval_loss=0.0943, gpu_mem=6.91 GB]"
     ]
    },
    {
     "name": "stderr",
     "output_type": "stream",
     "text": [
      "\r",
      "Val:  72%|███████▏  | 62/86 [02:25<00:54,  2.27s/it, eval_loss=0.0943, gpu_mem=6.91 GB]"
     ]
    },
    {
     "name": "stderr",
     "output_type": "stream",
     "text": [
      "\r",
      "Val:  72%|███████▏  | 62/86 [02:27<00:54,  2.27s/it, eval_loss=0.0942, gpu_mem=6.91 GB]"
     ]
    },
    {
     "name": "stderr",
     "output_type": "stream",
     "text": [
      "\r",
      "Val:  73%|███████▎  | 63/86 [02:27<00:52,  2.26s/it, eval_loss=0.0942, gpu_mem=6.91 GB]"
     ]
    },
    {
     "name": "stderr",
     "output_type": "stream",
     "text": [
      "\r",
      "Val:  73%|███████▎  | 63/86 [02:29<00:52,  2.26s/it, eval_loss=0.0941, gpu_mem=6.91 GB]"
     ]
    },
    {
     "name": "stderr",
     "output_type": "stream",
     "text": [
      "\r",
      "Val:  74%|███████▍  | 64/86 [02:29<00:50,  2.28s/it, eval_loss=0.0941, gpu_mem=6.91 GB]"
     ]
    },
    {
     "name": "stderr",
     "output_type": "stream",
     "text": [
      "\r",
      "Val:  74%|███████▍  | 64/86 [02:32<00:50,  2.28s/it, eval_loss=0.0932, gpu_mem=6.91 GB]"
     ]
    },
    {
     "name": "stderr",
     "output_type": "stream",
     "text": [
      "\r",
      "Val:  76%|███████▌  | 65/86 [02:32<00:49,  2.34s/it, eval_loss=0.0932, gpu_mem=6.91 GB]"
     ]
    },
    {
     "name": "stderr",
     "output_type": "stream",
     "text": [
      "\r",
      "Val:  76%|███████▌  | 65/86 [02:34<00:49,  2.34s/it, eval_loss=0.0950, gpu_mem=6.91 GB]"
     ]
    },
    {
     "name": "stderr",
     "output_type": "stream",
     "text": [
      "\r",
      "Val:  77%|███████▋  | 66/86 [02:34<00:46,  2.30s/it, eval_loss=0.0950, gpu_mem=6.91 GB]"
     ]
    },
    {
     "name": "stderr",
     "output_type": "stream",
     "text": [
      "\r",
      "Val:  77%|███████▋  | 66/86 [02:36<00:46,  2.30s/it, eval_loss=0.0942, gpu_mem=6.91 GB]"
     ]
    },
    {
     "name": "stderr",
     "output_type": "stream",
     "text": [
      "\r",
      "Val:  78%|███████▊  | 67/86 [02:36<00:43,  2.29s/it, eval_loss=0.0942, gpu_mem=6.91 GB]"
     ]
    },
    {
     "name": "stderr",
     "output_type": "stream",
     "text": [
      "\r",
      "Val:  78%|███████▊  | 67/86 [02:39<00:43,  2.29s/it, eval_loss=0.0966, gpu_mem=6.91 GB]"
     ]
    },
    {
     "name": "stderr",
     "output_type": "stream",
     "text": [
      "\r",
      "Val:  79%|███████▉  | 68/86 [02:39<00:43,  2.44s/it, eval_loss=0.0966, gpu_mem=6.91 GB]"
     ]
    },
    {
     "name": "stderr",
     "output_type": "stream",
     "text": [
      "\r",
      "Val:  79%|███████▉  | 68/86 [02:41<00:43,  2.44s/it, eval_loss=0.0967, gpu_mem=6.91 GB]"
     ]
    },
    {
     "name": "stderr",
     "output_type": "stream",
     "text": [
      "\r",
      "Val:  80%|████████  | 69/86 [02:41<00:41,  2.45s/it, eval_loss=0.0967, gpu_mem=6.91 GB]"
     ]
    },
    {
     "name": "stderr",
     "output_type": "stream",
     "text": [
      "\r",
      "Val:  80%|████████  | 69/86 [02:44<00:41,  2.45s/it, eval_loss=0.0964, gpu_mem=6.91 GB]"
     ]
    },
    {
     "name": "stderr",
     "output_type": "stream",
     "text": [
      "\r",
      "Val:  81%|████████▏ | 70/86 [02:44<00:38,  2.38s/it, eval_loss=0.0964, gpu_mem=6.91 GB]"
     ]
    },
    {
     "name": "stderr",
     "output_type": "stream",
     "text": [
      "\r",
      "Val:  81%|████████▏ | 70/86 [02:46<00:38,  2.38s/it, eval_loss=0.0971, gpu_mem=6.91 GB]"
     ]
    },
    {
     "name": "stderr",
     "output_type": "stream",
     "text": [
      "\r",
      "Val:  83%|████████▎ | 71/86 [02:46<00:34,  2.33s/it, eval_loss=0.0971, gpu_mem=6.91 GB]"
     ]
    },
    {
     "name": "stderr",
     "output_type": "stream",
     "text": [
      "\r",
      "Val:  83%|████████▎ | 71/86 [02:48<00:34,  2.33s/it, eval_loss=0.0967, gpu_mem=6.91 GB]"
     ]
    },
    {
     "name": "stderr",
     "output_type": "stream",
     "text": [
      "\r",
      "Val:  84%|████████▎ | 72/86 [02:48<00:32,  2.31s/it, eval_loss=0.0967, gpu_mem=6.91 GB]"
     ]
    },
    {
     "name": "stderr",
     "output_type": "stream",
     "text": [
      "\r",
      "Val:  84%|████████▎ | 72/86 [02:50<00:32,  2.31s/it, eval_loss=0.0964, gpu_mem=6.91 GB]"
     ]
    },
    {
     "name": "stderr",
     "output_type": "stream",
     "text": [
      "\r",
      "Val:  85%|████████▍ | 73/86 [02:50<00:29,  2.30s/it, eval_loss=0.0964, gpu_mem=6.91 GB]"
     ]
    },
    {
     "name": "stderr",
     "output_type": "stream",
     "text": [
      "\r",
      "Val:  85%|████████▍ | 73/86 [02:53<00:29,  2.30s/it, eval_loss=0.0967, gpu_mem=6.91 GB]"
     ]
    },
    {
     "name": "stderr",
     "output_type": "stream",
     "text": [
      "\r",
      "Val:  86%|████████▌ | 74/86 [02:53<00:28,  2.35s/it, eval_loss=0.0967, gpu_mem=6.91 GB]"
     ]
    },
    {
     "name": "stderr",
     "output_type": "stream",
     "text": [
      "\r",
      "Val:  86%|████████▌ | 74/86 [02:55<00:28,  2.35s/it, eval_loss=0.0961, gpu_mem=6.91 GB]"
     ]
    },
    {
     "name": "stderr",
     "output_type": "stream",
     "text": [
      "\r",
      "Val:  87%|████████▋ | 75/86 [02:55<00:25,  2.31s/it, eval_loss=0.0961, gpu_mem=6.91 GB]"
     ]
    },
    {
     "name": "stderr",
     "output_type": "stream",
     "text": [
      "\r",
      "Val:  87%|████████▋ | 75/86 [02:57<00:25,  2.31s/it, eval_loss=0.0955, gpu_mem=6.91 GB]"
     ]
    },
    {
     "name": "stderr",
     "output_type": "stream",
     "text": [
      "\r",
      "Val:  88%|████████▊ | 76/86 [02:57<00:22,  2.29s/it, eval_loss=0.0955, gpu_mem=6.91 GB]"
     ]
    },
    {
     "name": "stderr",
     "output_type": "stream",
     "text": [
      "\r",
      "Val:  88%|████████▊ | 76/86 [03:00<00:22,  2.29s/it, eval_loss=0.0966, gpu_mem=6.91 GB]"
     ]
    },
    {
     "name": "stderr",
     "output_type": "stream",
     "text": [
      "\r",
      "Val:  90%|████████▉ | 77/86 [03:00<00:20,  2.26s/it, eval_loss=0.0966, gpu_mem=6.91 GB]"
     ]
    },
    {
     "name": "stderr",
     "output_type": "stream",
     "text": [
      "\r",
      "Val:  90%|████████▉ | 77/86 [03:02<00:20,  2.26s/it, eval_loss=0.0959, gpu_mem=6.91 GB]"
     ]
    },
    {
     "name": "stderr",
     "output_type": "stream",
     "text": [
      "\r",
      "Val:  91%|█████████ | 78/86 [03:02<00:18,  2.25s/it, eval_loss=0.0959, gpu_mem=6.91 GB]"
     ]
    },
    {
     "name": "stderr",
     "output_type": "stream",
     "text": [
      "\r",
      "Val:  91%|█████████ | 78/86 [03:04<00:18,  2.25s/it, eval_loss=0.0958, gpu_mem=6.91 GB]"
     ]
    },
    {
     "name": "stderr",
     "output_type": "stream",
     "text": [
      "\r",
      "Val:  92%|█████████▏| 79/86 [03:04<00:16,  2.32s/it, eval_loss=0.0958, gpu_mem=6.91 GB]"
     ]
    },
    {
     "name": "stderr",
     "output_type": "stream",
     "text": [
      "\r",
      "Val:  92%|█████████▏| 79/86 [03:06<00:16,  2.32s/it, eval_loss=0.0960, gpu_mem=6.91 GB]"
     ]
    },
    {
     "name": "stderr",
     "output_type": "stream",
     "text": [
      "\r",
      "Val:  93%|█████████▎| 80/86 [03:06<00:13,  2.27s/it, eval_loss=0.0960, gpu_mem=6.91 GB]"
     ]
    },
    {
     "name": "stderr",
     "output_type": "stream",
     "text": [
      "\r",
      "Val:  93%|█████████▎| 80/86 [03:09<00:13,  2.27s/it, eval_loss=0.0954, gpu_mem=6.91 GB]"
     ]
    },
    {
     "name": "stderr",
     "output_type": "stream",
     "text": [
      "\r",
      "Val:  94%|█████████▍| 81/86 [03:09<00:11,  2.40s/it, eval_loss=0.0954, gpu_mem=6.91 GB]"
     ]
    },
    {
     "name": "stderr",
     "output_type": "stream",
     "text": [
      "\r",
      "Val:  94%|█████████▍| 81/86 [03:12<00:11,  2.40s/it, eval_loss=0.0950, gpu_mem=6.91 GB]"
     ]
    },
    {
     "name": "stderr",
     "output_type": "stream",
     "text": [
      "\r",
      "Val:  95%|█████████▌| 82/86 [03:12<00:09,  2.40s/it, eval_loss=0.0950, gpu_mem=6.91 GB]"
     ]
    },
    {
     "name": "stderr",
     "output_type": "stream",
     "text": [
      "\r",
      "Val:  95%|█████████▌| 82/86 [03:14<00:09,  2.40s/it, eval_loss=0.0948, gpu_mem=6.91 GB]"
     ]
    },
    {
     "name": "stderr",
     "output_type": "stream",
     "text": [
      "\r",
      "Val:  97%|█████████▋| 83/86 [03:14<00:07,  2.38s/it, eval_loss=0.0948, gpu_mem=6.91 GB]"
     ]
    },
    {
     "name": "stderr",
     "output_type": "stream",
     "text": [
      "\r",
      "Val:  97%|█████████▋| 83/86 [03:16<00:07,  2.38s/it, eval_loss=0.0945, gpu_mem=6.91 GB]"
     ]
    },
    {
     "name": "stderr",
     "output_type": "stream",
     "text": [
      "\r",
      "Val:  98%|█████████▊| 84/86 [03:16<00:04,  2.39s/it, eval_loss=0.0945, gpu_mem=6.91 GB]"
     ]
    },
    {
     "name": "stderr",
     "output_type": "stream",
     "text": [
      "\r",
      "Val:  98%|█████████▊| 84/86 [03:18<00:04,  2.39s/it, eval_loss=0.0972, gpu_mem=6.91 GB]"
     ]
    },
    {
     "name": "stderr",
     "output_type": "stream",
     "text": [
      "\r",
      "Val:  99%|█████████▉| 85/86 [03:18<00:02,  2.32s/it, eval_loss=0.0972, gpu_mem=6.91 GB]"
     ]
    },
    {
     "name": "stderr",
     "output_type": "stream",
     "text": [
      "\r",
      "Val:  99%|█████████▉| 85/86 [03:19<00:02,  2.32s/it, eval_loss=0.0972, gpu_mem=6.91 GB]"
     ]
    },
    {
     "name": "stderr",
     "output_type": "stream",
     "text": [
      "\r",
      "Val: 100%|██████████| 86/86 [03:19<00:00,  1.78s/it, eval_loss=0.0972, gpu_mem=6.91 GB]"
     ]
    },
    {
     "name": "stderr",
     "output_type": "stream",
     "text": [
      "\r",
      "Val: 100%|██████████| 86/86 [03:19<00:00,  2.32s/it, eval_loss=0.0972, gpu_mem=6.91 GB]"
     ]
    },
    {
     "name": "stderr",
     "output_type": "stream",
     "text": [
      "\n",
      "Valid loss:0.0972\n"
     ]
    },
    {
     "name": "stderr",
     "output_type": "stream",
     "text": [
      "Val metric mean prob: 0.1867\n"
     ]
    },
    {
     "name": "stderr",
     "output_type": "stream",
     "text": [
      "Best metric at: 0.5111 0.3630  0.7308\n"
     ]
    },
    {
     "name": "stderr",
     "output_type": "stream",
     "text": [
      "Cf: [[2315   18]\n",
      " [  26   23]]\n"
     ]
    },
    {
     "name": "stderr",
     "output_type": "stream",
     "text": [
      "\u001b[32m[I 2023-02-15 04:43:17,754]\u001b[0m Trial 12 finished with value: 0.5111111111111111 and parameters: {'a1': 0.82053473289368}. Best is trial 0 with value: 0.5111111111111111.\u001b[0m\n"
     ]
    },
    {
     "name": "stdout",
     "output_type": "stream",
     "text": [
      "/kaggle/input/10folds/tf_efficientnetv2_b2_fold_1_model_epoch_3_0.5055_0.360.pth\n",
      "none:  /kaggle/input/10folds/tf_efficientnetv2_b2_fold_1_model_epoch_3_0.5055_0.360.pth\n",
      "/kaggle/input/10folds/tf_efficientnetv2_b2_fold_1_model_epoch_5_0.4865_0.324.pth\n",
      "hehe /kaggle/input/10folds/tf_efficientnetv2_b2_fold_1_model_epoch_5_0.4865_0.324.pth\n",
      "0.617454067313065 0.38254593268693504\n",
      "\n"
     ]
    },
    {
     "name": "stderr",
     "output_type": "stream",
     "text": [
      "\r",
      "Val:   0%|          | 0/86 [00:00<?, ?it/s]"
     ]
    },
    {
     "name": "stderr",
     "output_type": "stream",
     "text": [
      "\r",
      "Val:   0%|          | 0/86 [00:04<?, ?it/s, eval_loss=0.0552, gpu_mem=6.91 GB]"
     ]
    },
    {
     "name": "stderr",
     "output_type": "stream",
     "text": [
      "\r",
      "Val:   1%|          | 1/86 [00:04<06:14,  4.40s/it, eval_loss=0.0552, gpu_mem=6.91 GB]"
     ]
    },
    {
     "name": "stderr",
     "output_type": "stream",
     "text": [
      "\r",
      "Val:   1%|          | 1/86 [00:06<06:14,  4.40s/it, eval_loss=0.0431, gpu_mem=6.91 GB]"
     ]
    },
    {
     "name": "stderr",
     "output_type": "stream",
     "text": [
      "\r",
      "Val:   2%|▏         | 2/86 [00:06<04:22,  3.12s/it, eval_loss=0.0431, gpu_mem=6.91 GB]"
     ]
    },
    {
     "name": "stderr",
     "output_type": "stream",
     "text": [
      "\r",
      "Val:   2%|▏         | 2/86 [00:08<04:22,  3.12s/it, eval_loss=0.0889, gpu_mem=6.91 GB]"
     ]
    },
    {
     "name": "stderr",
     "output_type": "stream",
     "text": [
      "\r",
      "Val:   3%|▎         | 3/86 [00:08<03:47,  2.74s/it, eval_loss=0.0889, gpu_mem=6.91 GB]"
     ]
    },
    {
     "name": "stderr",
     "output_type": "stream",
     "text": [
      "\r",
      "Val:   3%|▎         | 3/86 [00:11<03:47,  2.74s/it, eval_loss=0.0997, gpu_mem=6.91 GB]"
     ]
    },
    {
     "name": "stderr",
     "output_type": "stream",
     "text": [
      "\r",
      "Val:   5%|▍         | 4/86 [00:11<03:27,  2.53s/it, eval_loss=0.0997, gpu_mem=6.91 GB]"
     ]
    },
    {
     "name": "stderr",
     "output_type": "stream",
     "text": [
      "\r",
      "Val:   5%|▍         | 4/86 [00:13<03:27,  2.53s/it, eval_loss=0.0955, gpu_mem=6.91 GB]"
     ]
    },
    {
     "name": "stderr",
     "output_type": "stream",
     "text": [
      "\r",
      "Val:   6%|▌         | 5/86 [00:13<03:17,  2.44s/it, eval_loss=0.0955, gpu_mem=6.91 GB]"
     ]
    },
    {
     "name": "stderr",
     "output_type": "stream",
     "text": [
      "\r",
      "Val:   6%|▌         | 5/86 [00:15<03:17,  2.44s/it, eval_loss=0.0924, gpu_mem=6.91 GB]"
     ]
    },
    {
     "name": "stderr",
     "output_type": "stream",
     "text": [
      "\r",
      "Val:   7%|▋         | 6/86 [00:15<03:15,  2.44s/it, eval_loss=0.0924, gpu_mem=6.91 GB]"
     ]
    },
    {
     "name": "stderr",
     "output_type": "stream",
     "text": [
      "\r",
      "Val:   7%|▋         | 6/86 [00:18<03:15,  2.44s/it, eval_loss=0.0847, gpu_mem=6.91 GB]"
     ]
    },
    {
     "name": "stderr",
     "output_type": "stream",
     "text": [
      "\r",
      "Val:   8%|▊         | 7/86 [00:18<03:08,  2.39s/it, eval_loss=0.0847, gpu_mem=6.91 GB]"
     ]
    },
    {
     "name": "stderr",
     "output_type": "stream",
     "text": [
      "\r",
      "Val:   8%|▊         | 7/86 [00:20<03:08,  2.39s/it, eval_loss=0.0818, gpu_mem=6.91 GB]"
     ]
    },
    {
     "name": "stderr",
     "output_type": "stream",
     "text": [
      "\r",
      "Val:   9%|▉         | 8/86 [00:20<03:15,  2.51s/it, eval_loss=0.0818, gpu_mem=6.91 GB]"
     ]
    },
    {
     "name": "stderr",
     "output_type": "stream",
     "text": [
      "\r",
      "Val:   9%|▉         | 8/86 [00:23<03:15,  2.51s/it, eval_loss=0.0801, gpu_mem=6.91 GB]"
     ]
    },
    {
     "name": "stderr",
     "output_type": "stream",
     "text": [
      "\r",
      "Val:  10%|█         | 9/86 [00:23<03:05,  2.41s/it, eval_loss=0.0801, gpu_mem=6.91 GB]"
     ]
    },
    {
     "name": "stderr",
     "output_type": "stream",
     "text": [
      "\r",
      "Val:  10%|█         | 9/86 [00:25<03:05,  2.41s/it, eval_loss=0.0871, gpu_mem=6.91 GB]"
     ]
    },
    {
     "name": "stderr",
     "output_type": "stream",
     "text": [
      "\r",
      "Val:  12%|█▏        | 10/86 [00:25<03:03,  2.42s/it, eval_loss=0.0871, gpu_mem=6.91 GB]"
     ]
    },
    {
     "name": "stderr",
     "output_type": "stream",
     "text": [
      "\r",
      "Val:  12%|█▏        | 10/86 [00:27<03:03,  2.42s/it, eval_loss=0.0842, gpu_mem=6.91 GB]"
     ]
    },
    {
     "name": "stderr",
     "output_type": "stream",
     "text": [
      "\r",
      "Val:  13%|█▎        | 11/86 [00:27<02:57,  2.36s/it, eval_loss=0.0842, gpu_mem=6.91 GB]"
     ]
    },
    {
     "name": "stderr",
     "output_type": "stream",
     "text": [
      "\r",
      "Val:  13%|█▎        | 11/86 [00:30<02:57,  2.36s/it, eval_loss=0.0844, gpu_mem=6.91 GB]"
     ]
    },
    {
     "name": "stderr",
     "output_type": "stream",
     "text": [
      "\r",
      "Val:  14%|█▍        | 12/86 [00:30<02:53,  2.34s/it, eval_loss=0.0844, gpu_mem=6.91 GB]"
     ]
    },
    {
     "name": "stderr",
     "output_type": "stream",
     "text": [
      "\r",
      "Val:  14%|█▍        | 12/86 [00:32<02:53,  2.34s/it, eval_loss=0.0865, gpu_mem=6.91 GB]"
     ]
    },
    {
     "name": "stderr",
     "output_type": "stream",
     "text": [
      "\r",
      "Val:  15%|█▌        | 13/86 [00:32<02:47,  2.30s/it, eval_loss=0.0865, gpu_mem=6.91 GB]"
     ]
    },
    {
     "name": "stderr",
     "output_type": "stream",
     "text": [
      "\r",
      "Val:  15%|█▌        | 13/86 [00:34<02:47,  2.30s/it, eval_loss=0.0828, gpu_mem=6.91 GB]"
     ]
    },
    {
     "name": "stderr",
     "output_type": "stream",
     "text": [
      "\r",
      "Val:  16%|█▋        | 14/86 [00:34<02:42,  2.26s/it, eval_loss=0.0828, gpu_mem=6.91 GB]"
     ]
    },
    {
     "name": "stderr",
     "output_type": "stream",
     "text": [
      "\r",
      "Val:  16%|█▋        | 14/86 [00:36<02:42,  2.26s/it, eval_loss=0.0800, gpu_mem=6.91 GB]"
     ]
    },
    {
     "name": "stderr",
     "output_type": "stream",
     "text": [
      "\r",
      "Val:  17%|█▋        | 15/86 [00:36<02:43,  2.31s/it, eval_loss=0.0800, gpu_mem=6.91 GB]"
     ]
    },
    {
     "name": "stderr",
     "output_type": "stream",
     "text": [
      "\r",
      "Val:  17%|█▋        | 15/86 [00:39<02:43,  2.31s/it, eval_loss=0.0781, gpu_mem=6.91 GB]"
     ]
    },
    {
     "name": "stderr",
     "output_type": "stream",
     "text": [
      "\r",
      "Val:  19%|█▊        | 16/86 [00:39<02:39,  2.28s/it, eval_loss=0.0781, gpu_mem=6.91 GB]"
     ]
    },
    {
     "name": "stderr",
     "output_type": "stream",
     "text": [
      "\r",
      "Val:  19%|█▊        | 16/86 [00:41<02:39,  2.28s/it, eval_loss=0.0782, gpu_mem=6.91 GB]"
     ]
    },
    {
     "name": "stderr",
     "output_type": "stream",
     "text": [
      "\r",
      "Val:  20%|█▉        | 17/86 [00:41<02:34,  2.24s/it, eval_loss=0.0782, gpu_mem=6.91 GB]"
     ]
    },
    {
     "name": "stderr",
     "output_type": "stream",
     "text": [
      "\r",
      "Val:  20%|█▉        | 17/86 [00:43<02:34,  2.24s/it, eval_loss=0.0777, gpu_mem=6.91 GB]"
     ]
    },
    {
     "name": "stderr",
     "output_type": "stream",
     "text": [
      "\r",
      "Val:  21%|██        | 18/86 [00:43<02:31,  2.23s/it, eval_loss=0.0777, gpu_mem=6.91 GB]"
     ]
    },
    {
     "name": "stderr",
     "output_type": "stream",
     "text": [
      "\r",
      "Val:  21%|██        | 18/86 [00:45<02:31,  2.23s/it, eval_loss=0.0779, gpu_mem=6.91 GB]"
     ]
    },
    {
     "name": "stderr",
     "output_type": "stream",
     "text": [
      "\r",
      "Val:  22%|██▏       | 19/86 [00:45<02:30,  2.24s/it, eval_loss=0.0779, gpu_mem=6.91 GB]"
     ]
    },
    {
     "name": "stderr",
     "output_type": "stream",
     "text": [
      "\r",
      "Val:  22%|██▏       | 19/86 [00:48<02:30,  2.24s/it, eval_loss=0.0785, gpu_mem=6.91 GB]"
     ]
    },
    {
     "name": "stderr",
     "output_type": "stream",
     "text": [
      "\r",
      "Val:  23%|██▎       | 20/86 [00:48<02:31,  2.30s/it, eval_loss=0.0785, gpu_mem=6.91 GB]"
     ]
    },
    {
     "name": "stderr",
     "output_type": "stream",
     "text": [
      "\r",
      "Val:  23%|██▎       | 20/86 [00:50<02:31,  2.30s/it, eval_loss=0.0771, gpu_mem=6.91 GB]"
     ]
    },
    {
     "name": "stderr",
     "output_type": "stream",
     "text": [
      "\r",
      "Val:  24%|██▍       | 21/86 [00:50<02:35,  2.39s/it, eval_loss=0.0771, gpu_mem=6.91 GB]"
     ]
    },
    {
     "name": "stderr",
     "output_type": "stream",
     "text": [
      "\r",
      "Val:  24%|██▍       | 21/86 [00:53<02:35,  2.39s/it, eval_loss=0.0804, gpu_mem=6.91 GB]"
     ]
    },
    {
     "name": "stderr",
     "output_type": "stream",
     "text": [
      "\r",
      "Val:  26%|██▌       | 22/86 [00:53<02:32,  2.39s/it, eval_loss=0.0804, gpu_mem=6.91 GB]"
     ]
    },
    {
     "name": "stderr",
     "output_type": "stream",
     "text": [
      "\r",
      "Val:  26%|██▌       | 22/86 [00:55<02:32,  2.39s/it, eval_loss=0.0844, gpu_mem=6.91 GB]"
     ]
    },
    {
     "name": "stderr",
     "output_type": "stream",
     "text": [
      "\r",
      "Val:  27%|██▋       | 23/86 [00:55<02:26,  2.32s/it, eval_loss=0.0844, gpu_mem=6.91 GB]"
     ]
    },
    {
     "name": "stderr",
     "output_type": "stream",
     "text": [
      "\r",
      "Val:  27%|██▋       | 23/86 [00:57<02:26,  2.32s/it, eval_loss=0.0839, gpu_mem=6.91 GB]"
     ]
    },
    {
     "name": "stderr",
     "output_type": "stream",
     "text": [
      "\r",
      "Val:  28%|██▊       | 24/86 [00:57<02:23,  2.31s/it, eval_loss=0.0839, gpu_mem=6.91 GB]"
     ]
    },
    {
     "name": "stderr",
     "output_type": "stream",
     "text": [
      "\r",
      "Val:  28%|██▊       | 24/86 [00:59<02:23,  2.31s/it, eval_loss=0.0837, gpu_mem=6.91 GB]"
     ]
    },
    {
     "name": "stderr",
     "output_type": "stream",
     "text": [
      "\r",
      "Val:  29%|██▉       | 25/86 [00:59<02:22,  2.34s/it, eval_loss=0.0837, gpu_mem=6.91 GB]"
     ]
    },
    {
     "name": "stderr",
     "output_type": "stream",
     "text": [
      "\r",
      "Val:  29%|██▉       | 25/86 [01:02<02:22,  2.34s/it, eval_loss=0.0816, gpu_mem=6.91 GB]"
     ]
    },
    {
     "name": "stderr",
     "output_type": "stream",
     "text": [
      "\r",
      "Val:  30%|███       | 26/86 [01:02<02:19,  2.33s/it, eval_loss=0.0816, gpu_mem=6.91 GB]"
     ]
    },
    {
     "name": "stderr",
     "output_type": "stream",
     "text": [
      "\r",
      "Val:  30%|███       | 26/86 [01:04<02:19,  2.33s/it, eval_loss=0.0853, gpu_mem=6.91 GB]"
     ]
    },
    {
     "name": "stderr",
     "output_type": "stream",
     "text": [
      "\r",
      "Val:  31%|███▏      | 27/86 [01:04<02:15,  2.30s/it, eval_loss=0.0853, gpu_mem=6.91 GB]"
     ]
    },
    {
     "name": "stderr",
     "output_type": "stream",
     "text": [
      "\r",
      "Val:  31%|███▏      | 27/86 [01:06<02:15,  2.30s/it, eval_loss=0.0848, gpu_mem=6.91 GB]"
     ]
    },
    {
     "name": "stderr",
     "output_type": "stream",
     "text": [
      "\r",
      "Val:  33%|███▎      | 28/86 [01:06<02:12,  2.29s/it, eval_loss=0.0848, gpu_mem=6.91 GB]"
     ]
    },
    {
     "name": "stderr",
     "output_type": "stream",
     "text": [
      "\r",
      "Val:  33%|███▎      | 28/86 [01:09<02:12,  2.29s/it, eval_loss=0.0838, gpu_mem=6.91 GB]"
     ]
    },
    {
     "name": "stderr",
     "output_type": "stream",
     "text": [
      "\r",
      "Val:  34%|███▎      | 29/86 [01:09<02:12,  2.33s/it, eval_loss=0.0838, gpu_mem=6.91 GB]"
     ]
    },
    {
     "name": "stderr",
     "output_type": "stream",
     "text": [
      "\r",
      "Val:  34%|███▎      | 29/86 [01:11<02:12,  2.33s/it, eval_loss=0.0838, gpu_mem=6.91 GB]"
     ]
    },
    {
     "name": "stderr",
     "output_type": "stream",
     "text": [
      "\r",
      "Val:  35%|███▍      | 30/86 [01:11<02:11,  2.35s/it, eval_loss=0.0838, gpu_mem=6.91 GB]"
     ]
    },
    {
     "name": "stderr",
     "output_type": "stream",
     "text": [
      "\r",
      "Val:  35%|███▍      | 30/86 [01:13<02:11,  2.35s/it, eval_loss=0.0830, gpu_mem=6.91 GB]"
     ]
    },
    {
     "name": "stderr",
     "output_type": "stream",
     "text": [
      "\r",
      "Val:  36%|███▌      | 31/86 [01:13<02:07,  2.32s/it, eval_loss=0.0830, gpu_mem=6.91 GB]"
     ]
    },
    {
     "name": "stderr",
     "output_type": "stream",
     "text": [
      "\r",
      "Val:  36%|███▌      | 31/86 [01:16<02:07,  2.32s/it, eval_loss=0.0905, gpu_mem=6.91 GB]"
     ]
    },
    {
     "name": "stderr",
     "output_type": "stream",
     "text": [
      "\r",
      "Val:  37%|███▋      | 32/86 [01:16<02:03,  2.29s/it, eval_loss=0.0905, gpu_mem=6.91 GB]"
     ]
    },
    {
     "name": "stderr",
     "output_type": "stream",
     "text": [
      "\r",
      "Val:  37%|███▋      | 32/86 [01:18<02:03,  2.29s/it, eval_loss=0.0886, gpu_mem=6.91 GB]"
     ]
    },
    {
     "name": "stderr",
     "output_type": "stream",
     "text": [
      "\r",
      "Val:  38%|███▊      | 33/86 [01:18<01:59,  2.26s/it, eval_loss=0.0886, gpu_mem=6.91 GB]"
     ]
    },
    {
     "name": "stderr",
     "output_type": "stream",
     "text": [
      "\r",
      "Val:  38%|███▊      | 33/86 [01:20<01:59,  2.26s/it, eval_loss=0.0899, gpu_mem=6.91 GB]"
     ]
    },
    {
     "name": "stderr",
     "output_type": "stream",
     "text": [
      "\r",
      "Val:  40%|███▉      | 34/86 [01:20<02:00,  2.31s/it, eval_loss=0.0899, gpu_mem=6.91 GB]"
     ]
    },
    {
     "name": "stderr",
     "output_type": "stream",
     "text": [
      "\r",
      "Val:  40%|███▉      | 34/86 [01:23<02:00,  2.31s/it, eval_loss=0.0889, gpu_mem=6.91 GB]"
     ]
    },
    {
     "name": "stderr",
     "output_type": "stream",
     "text": [
      "\r",
      "Val:  41%|████      | 35/86 [01:23<02:01,  2.37s/it, eval_loss=0.0889, gpu_mem=6.91 GB]"
     ]
    },
    {
     "name": "stderr",
     "output_type": "stream",
     "text": [
      "\r",
      "Val:  41%|████      | 35/86 [01:25<02:01,  2.37s/it, eval_loss=0.0875, gpu_mem=6.91 GB]"
     ]
    },
    {
     "name": "stderr",
     "output_type": "stream",
     "text": [
      "\r",
      "Val:  42%|████▏     | 36/86 [01:25<01:56,  2.34s/it, eval_loss=0.0875, gpu_mem=6.91 GB]"
     ]
    },
    {
     "name": "stderr",
     "output_type": "stream",
     "text": [
      "\r",
      "Val:  42%|████▏     | 36/86 [01:27<01:56,  2.34s/it, eval_loss=0.0881, gpu_mem=6.91 GB]"
     ]
    },
    {
     "name": "stderr",
     "output_type": "stream",
     "text": [
      "\r",
      "Val:  43%|████▎     | 37/86 [01:27<01:52,  2.30s/it, eval_loss=0.0881, gpu_mem=6.91 GB]"
     ]
    },
    {
     "name": "stderr",
     "output_type": "stream",
     "text": [
      "\r",
      "Val:  43%|████▎     | 37/86 [01:29<01:52,  2.30s/it, eval_loss=0.0879, gpu_mem=6.91 GB]"
     ]
    },
    {
     "name": "stderr",
     "output_type": "stream",
     "text": [
      "\r",
      "Val:  44%|████▍     | 38/86 [01:29<01:48,  2.27s/it, eval_loss=0.0879, gpu_mem=6.91 GB]"
     ]
    },
    {
     "name": "stderr",
     "output_type": "stream",
     "text": [
      "\r",
      "Val:  44%|████▍     | 38/86 [01:32<01:48,  2.27s/it, eval_loss=0.0865, gpu_mem=6.91 GB]"
     ]
    },
    {
     "name": "stderr",
     "output_type": "stream",
     "text": [
      "\r",
      "Val:  45%|████▌     | 39/86 [01:32<01:48,  2.31s/it, eval_loss=0.0865, gpu_mem=6.91 GB]"
     ]
    },
    {
     "name": "stderr",
     "output_type": "stream",
     "text": [
      "\r",
      "Val:  45%|████▌     | 39/86 [01:34<01:48,  2.31s/it, eval_loss=0.0864, gpu_mem=6.91 GB]"
     ]
    },
    {
     "name": "stderr",
     "output_type": "stream",
     "text": [
      "\r",
      "Val:  47%|████▋     | 40/86 [01:34<01:45,  2.29s/it, eval_loss=0.0864, gpu_mem=6.91 GB]"
     ]
    },
    {
     "name": "stderr",
     "output_type": "stream",
     "text": [
      "\r",
      "Val:  47%|████▋     | 40/86 [01:36<01:45,  2.29s/it, eval_loss=0.0859, gpu_mem=6.91 GB]"
     ]
    },
    {
     "name": "stderr",
     "output_type": "stream",
     "text": [
      "\r",
      "Val:  48%|████▊     | 41/86 [01:36<01:41,  2.26s/it, eval_loss=0.0859, gpu_mem=6.91 GB]"
     ]
    },
    {
     "name": "stderr",
     "output_type": "stream",
     "text": [
      "\r",
      "Val:  48%|████▊     | 41/86 [01:38<01:41,  2.26s/it, eval_loss=0.0854, gpu_mem=6.91 GB]"
     ]
    },
    {
     "name": "stderr",
     "output_type": "stream",
     "text": [
      "\r",
      "Val:  49%|████▉     | 42/86 [01:38<01:38,  2.24s/it, eval_loss=0.0854, gpu_mem=6.91 GB]"
     ]
    },
    {
     "name": "stderr",
     "output_type": "stream",
     "text": [
      "\r",
      "Val:  49%|████▉     | 42/86 [01:41<01:38,  2.24s/it, eval_loss=0.0845, gpu_mem=6.91 GB]"
     ]
    },
    {
     "name": "stderr",
     "output_type": "stream",
     "text": [
      "\r",
      "Val:  50%|█████     | 43/86 [01:41<01:36,  2.26s/it, eval_loss=0.0845, gpu_mem=6.91 GB]"
     ]
    },
    {
     "name": "stderr",
     "output_type": "stream",
     "text": [
      "\r",
      "Val:  50%|█████     | 43/86 [01:43<01:36,  2.26s/it, eval_loss=0.0877, gpu_mem=6.91 GB]"
     ]
    },
    {
     "name": "stderr",
     "output_type": "stream",
     "text": [
      "\r",
      "Val:  51%|█████     | 44/86 [01:43<01:37,  2.32s/it, eval_loss=0.0877, gpu_mem=6.91 GB]"
     ]
    },
    {
     "name": "stderr",
     "output_type": "stream",
     "text": [
      "\r",
      "Val:  51%|█████     | 44/86 [01:45<01:37,  2.32s/it, eval_loss=0.0864, gpu_mem=6.91 GB]"
     ]
    },
    {
     "name": "stderr",
     "output_type": "stream",
     "text": [
      "\r",
      "Val:  52%|█████▏    | 45/86 [01:45<01:34,  2.30s/it, eval_loss=0.0864, gpu_mem=6.91 GB]"
     ]
    },
    {
     "name": "stderr",
     "output_type": "stream",
     "text": [
      "\r",
      "Val:  52%|█████▏    | 45/86 [01:48<01:34,  2.30s/it, eval_loss=0.0863, gpu_mem=6.91 GB]"
     ]
    },
    {
     "name": "stderr",
     "output_type": "stream",
     "text": [
      "\r",
      "Val:  53%|█████▎    | 46/86 [01:48<01:30,  2.27s/it, eval_loss=0.0863, gpu_mem=6.91 GB]"
     ]
    },
    {
     "name": "stderr",
     "output_type": "stream",
     "text": [
      "\r",
      "Val:  53%|█████▎    | 46/86 [01:50<01:30,  2.27s/it, eval_loss=0.0856, gpu_mem=6.91 GB]"
     ]
    },
    {
     "name": "stderr",
     "output_type": "stream",
     "text": [
      "\r",
      "Val:  55%|█████▍    | 47/86 [01:50<01:27,  2.25s/it, eval_loss=0.0856, gpu_mem=6.91 GB]"
     ]
    },
    {
     "name": "stderr",
     "output_type": "stream",
     "text": [
      "\r",
      "Val:  55%|█████▍    | 47/86 [01:52<01:27,  2.25s/it, eval_loss=0.0874, gpu_mem=6.91 GB]"
     ]
    },
    {
     "name": "stderr",
     "output_type": "stream",
     "text": [
      "\r",
      "Val:  56%|█████▌    | 48/86 [01:52<01:26,  2.27s/it, eval_loss=0.0874, gpu_mem=6.91 GB]"
     ]
    },
    {
     "name": "stderr",
     "output_type": "stream",
     "text": [
      "\r",
      "Val:  56%|█████▌    | 48/86 [01:55<01:26,  2.27s/it, eval_loss=0.0869, gpu_mem=6.91 GB]"
     ]
    },
    {
     "name": "stderr",
     "output_type": "stream",
     "text": [
      "\r",
      "Val:  57%|█████▋    | 49/86 [01:55<01:30,  2.46s/it, eval_loss=0.0869, gpu_mem=6.91 GB]"
     ]
    },
    {
     "name": "stderr",
     "output_type": "stream",
     "text": [
      "\r",
      "Val:  57%|█████▋    | 49/86 [01:57<01:30,  2.46s/it, eval_loss=0.0866, gpu_mem=6.91 GB]"
     ]
    },
    {
     "name": "stderr",
     "output_type": "stream",
     "text": [
      "\r",
      "Val:  58%|█████▊    | 50/86 [01:57<01:25,  2.38s/it, eval_loss=0.0866, gpu_mem=6.91 GB]"
     ]
    },
    {
     "name": "stderr",
     "output_type": "stream",
     "text": [
      "\r",
      "Val:  58%|█████▊    | 50/86 [01:59<01:25,  2.38s/it, eval_loss=0.0895, gpu_mem=6.91 GB]"
     ]
    },
    {
     "name": "stderr",
     "output_type": "stream",
     "text": [
      "\r",
      "Val:  59%|█████▉    | 51/86 [01:59<01:21,  2.32s/it, eval_loss=0.0895, gpu_mem=6.91 GB]"
     ]
    },
    {
     "name": "stderr",
     "output_type": "stream",
     "text": [
      "\r",
      "Val:  59%|█████▉    | 51/86 [02:02<01:21,  2.32s/it, eval_loss=0.0909, gpu_mem=6.91 GB]"
     ]
    },
    {
     "name": "stderr",
     "output_type": "stream",
     "text": [
      "\r",
      "Val:  60%|██████    | 52/86 [02:02<01:17,  2.29s/it, eval_loss=0.0909, gpu_mem=6.91 GB]"
     ]
    },
    {
     "name": "stderr",
     "output_type": "stream",
     "text": [
      "\r",
      "Val:  60%|██████    | 52/86 [02:04<01:17,  2.29s/it, eval_loss=0.0922, gpu_mem=6.91 GB]"
     ]
    },
    {
     "name": "stderr",
     "output_type": "stream",
     "text": [
      "\r",
      "Val:  62%|██████▏   | 53/86 [02:04<01:16,  2.32s/it, eval_loss=0.0922, gpu_mem=6.91 GB]"
     ]
    },
    {
     "name": "stderr",
     "output_type": "stream",
     "text": [
      "\r",
      "Val:  62%|██████▏   | 53/86 [02:06<01:16,  2.32s/it, eval_loss=0.0915, gpu_mem=6.91 GB]"
     ]
    },
    {
     "name": "stderr",
     "output_type": "stream",
     "text": [
      "\r",
      "Val:  63%|██████▎   | 54/86 [02:06<01:13,  2.31s/it, eval_loss=0.0915, gpu_mem=6.91 GB]"
     ]
    },
    {
     "name": "stderr",
     "output_type": "stream",
     "text": [
      "\r",
      "Val:  63%|██████▎   | 54/86 [02:09<01:13,  2.31s/it, eval_loss=0.0922, gpu_mem=6.91 GB]"
     ]
    },
    {
     "name": "stderr",
     "output_type": "stream",
     "text": [
      "\r",
      "Val:  64%|██████▍   | 55/86 [02:09<01:11,  2.29s/it, eval_loss=0.0922, gpu_mem=6.91 GB]"
     ]
    },
    {
     "name": "stderr",
     "output_type": "stream",
     "text": [
      "\r",
      "Val:  64%|██████▍   | 55/86 [02:11<01:11,  2.29s/it, eval_loss=0.0918, gpu_mem=6.91 GB]"
     ]
    },
    {
     "name": "stderr",
     "output_type": "stream",
     "text": [
      "\r",
      "Val:  65%|██████▌   | 56/86 [02:11<01:07,  2.27s/it, eval_loss=0.0918, gpu_mem=6.91 GB]"
     ]
    },
    {
     "name": "stderr",
     "output_type": "stream",
     "text": [
      "\r",
      "Val:  65%|██████▌   | 56/86 [02:13<01:07,  2.27s/it, eval_loss=0.0917, gpu_mem=6.91 GB]"
     ]
    },
    {
     "name": "stderr",
     "output_type": "stream",
     "text": [
      "\r",
      "Val:  66%|██████▋   | 57/86 [02:13<01:05,  2.27s/it, eval_loss=0.0917, gpu_mem=6.91 GB]"
     ]
    },
    {
     "name": "stderr",
     "output_type": "stream",
     "text": [
      "\r",
      "Val:  66%|██████▋   | 57/86 [02:15<01:05,  2.27s/it, eval_loss=0.0940, gpu_mem=6.91 GB]"
     ]
    },
    {
     "name": "stderr",
     "output_type": "stream",
     "text": [
      "\r",
      "Val:  67%|██████▋   | 58/86 [02:15<01:04,  2.32s/it, eval_loss=0.0940, gpu_mem=6.91 GB]"
     ]
    },
    {
     "name": "stderr",
     "output_type": "stream",
     "text": [
      "\r",
      "Val:  67%|██████▋   | 58/86 [02:18<01:04,  2.32s/it, eval_loss=0.0935, gpu_mem=6.91 GB]"
     ]
    },
    {
     "name": "stderr",
     "output_type": "stream",
     "text": [
      "\r",
      "Val:  69%|██████▊   | 59/86 [02:18<01:01,  2.28s/it, eval_loss=0.0935, gpu_mem=6.91 GB]"
     ]
    },
    {
     "name": "stderr",
     "output_type": "stream",
     "text": [
      "\r",
      "Val:  69%|██████▊   | 59/86 [02:20<01:01,  2.28s/it, eval_loss=0.0953, gpu_mem=6.91 GB]"
     ]
    },
    {
     "name": "stderr",
     "output_type": "stream",
     "text": [
      "\r",
      "Val:  70%|██████▉   | 60/86 [02:20<00:58,  2.26s/it, eval_loss=0.0953, gpu_mem=6.91 GB]"
     ]
    },
    {
     "name": "stderr",
     "output_type": "stream",
     "text": [
      "\r",
      "Val:  70%|██████▉   | 60/86 [02:22<00:58,  2.26s/it, eval_loss=0.0947, gpu_mem=6.91 GB]"
     ]
    },
    {
     "name": "stderr",
     "output_type": "stream",
     "text": [
      "\r",
      "Val:  71%|███████   | 61/86 [02:22<00:55,  2.24s/it, eval_loss=0.0947, gpu_mem=6.91 GB]"
     ]
    },
    {
     "name": "stderr",
     "output_type": "stream",
     "text": [
      "\r",
      "Val:  71%|███████   | 61/86 [02:24<00:55,  2.24s/it, eval_loss=0.0943, gpu_mem=6.91 GB]"
     ]
    },
    {
     "name": "stderr",
     "output_type": "stream",
     "text": [
      "\r",
      "Val:  72%|███████▏  | 62/86 [02:24<00:53,  2.23s/it, eval_loss=0.0943, gpu_mem=6.91 GB]"
     ]
    },
    {
     "name": "stderr",
     "output_type": "stream",
     "text": [
      "\r",
      "Val:  72%|███████▏  | 62/86 [02:27<00:53,  2.23s/it, eval_loss=0.0942, gpu_mem=6.91 GB]"
     ]
    },
    {
     "name": "stderr",
     "output_type": "stream",
     "text": [
      "\r",
      "Val:  73%|███████▎  | 63/86 [02:27<00:56,  2.47s/it, eval_loss=0.0942, gpu_mem=6.91 GB]"
     ]
    },
    {
     "name": "stderr",
     "output_type": "stream",
     "text": [
      "\r",
      "Val:  73%|███████▎  | 63/86 [02:29<00:56,  2.47s/it, eval_loss=0.0941, gpu_mem=6.91 GB]"
     ]
    },
    {
     "name": "stderr",
     "output_type": "stream",
     "text": [
      "\r",
      "Val:  74%|███████▍  | 64/86 [02:29<00:52,  2.39s/it, eval_loss=0.0941, gpu_mem=6.91 GB]"
     ]
    },
    {
     "name": "stderr",
     "output_type": "stream",
     "text": [
      "\r",
      "Val:  74%|███████▍  | 64/86 [02:32<00:52,  2.39s/it, eval_loss=0.0932, gpu_mem=6.91 GB]"
     ]
    },
    {
     "name": "stderr",
     "output_type": "stream",
     "text": [
      "\r",
      "Val:  76%|███████▌  | 65/86 [02:32<00:49,  2.33s/it, eval_loss=0.0932, gpu_mem=6.91 GB]"
     ]
    },
    {
     "name": "stderr",
     "output_type": "stream",
     "text": [
      "\r",
      "Val:  76%|███████▌  | 65/86 [02:34<00:49,  2.33s/it, eval_loss=0.0950, gpu_mem=6.91 GB]"
     ]
    },
    {
     "name": "stderr",
     "output_type": "stream",
     "text": [
      "\r",
      "Val:  77%|███████▋  | 66/86 [02:34<00:45,  2.29s/it, eval_loss=0.0950, gpu_mem=6.91 GB]"
     ]
    },
    {
     "name": "stderr",
     "output_type": "stream",
     "text": [
      "\r",
      "Val:  77%|███████▋  | 66/86 [02:36<00:45,  2.29s/it, eval_loss=0.0942, gpu_mem=6.91 GB]"
     ]
    },
    {
     "name": "stderr",
     "output_type": "stream",
     "text": [
      "\r",
      "Val:  78%|███████▊  | 67/86 [02:36<00:43,  2.30s/it, eval_loss=0.0942, gpu_mem=6.91 GB]"
     ]
    },
    {
     "name": "stderr",
     "output_type": "stream",
     "text": [
      "\r",
      "Val:  78%|███████▊  | 67/86 [02:39<00:43,  2.30s/it, eval_loss=0.0966, gpu_mem=6.91 GB]"
     ]
    },
    {
     "name": "stderr",
     "output_type": "stream",
     "text": [
      "\r",
      "Val:  79%|███████▉  | 68/86 [02:39<00:42,  2.38s/it, eval_loss=0.0966, gpu_mem=6.91 GB]"
     ]
    },
    {
     "name": "stderr",
     "output_type": "stream",
     "text": [
      "\r",
      "Val:  79%|███████▉  | 68/86 [02:41<00:42,  2.38s/it, eval_loss=0.0967, gpu_mem=6.91 GB]"
     ]
    },
    {
     "name": "stderr",
     "output_type": "stream",
     "text": [
      "\r",
      "Val:  80%|████████  | 69/86 [02:41<00:39,  2.34s/it, eval_loss=0.0967, gpu_mem=6.91 GB]"
     ]
    },
    {
     "name": "stderr",
     "output_type": "stream",
     "text": [
      "\r",
      "Val:  80%|████████  | 69/86 [02:43<00:39,  2.34s/it, eval_loss=0.0964, gpu_mem=6.91 GB]"
     ]
    },
    {
     "name": "stderr",
     "output_type": "stream",
     "text": [
      "\r",
      "Val:  81%|████████▏ | 70/86 [02:43<00:36,  2.30s/it, eval_loss=0.0964, gpu_mem=6.91 GB]"
     ]
    },
    {
     "name": "stderr",
     "output_type": "stream",
     "text": [
      "\r",
      "Val:  81%|████████▏ | 70/86 [02:45<00:36,  2.30s/it, eval_loss=0.0971, gpu_mem=6.91 GB]"
     ]
    },
    {
     "name": "stderr",
     "output_type": "stream",
     "text": [
      "\r",
      "Val:  83%|████████▎ | 71/86 [02:45<00:34,  2.29s/it, eval_loss=0.0971, gpu_mem=6.91 GB]"
     ]
    },
    {
     "name": "stderr",
     "output_type": "stream",
     "text": [
      "\r",
      "Val:  83%|████████▎ | 71/86 [02:48<00:34,  2.29s/it, eval_loss=0.0967, gpu_mem=6.91 GB]"
     ]
    },
    {
     "name": "stderr",
     "output_type": "stream",
     "text": [
      "\r",
      "Val:  84%|████████▎ | 72/86 [02:48<00:32,  2.35s/it, eval_loss=0.0967, gpu_mem=6.91 GB]"
     ]
    },
    {
     "name": "stderr",
     "output_type": "stream",
     "text": [
      "\r",
      "Val:  84%|████████▎ | 72/86 [02:50<00:32,  2.35s/it, eval_loss=0.0964, gpu_mem=6.91 GB]"
     ]
    },
    {
     "name": "stderr",
     "output_type": "stream",
     "text": [
      "\r",
      "Val:  85%|████████▍ | 73/86 [02:50<00:30,  2.31s/it, eval_loss=0.0964, gpu_mem=6.91 GB]"
     ]
    },
    {
     "name": "stderr",
     "output_type": "stream",
     "text": [
      "\r",
      "Val:  85%|████████▍ | 73/86 [02:52<00:30,  2.31s/it, eval_loss=0.0967, gpu_mem=6.91 GB]"
     ]
    },
    {
     "name": "stderr",
     "output_type": "stream",
     "text": [
      "\r",
      "Val:  86%|████████▌ | 74/86 [02:52<00:27,  2.28s/it, eval_loss=0.0967, gpu_mem=6.91 GB]"
     ]
    },
    {
     "name": "stderr",
     "output_type": "stream",
     "text": [
      "\r",
      "Val:  86%|████████▌ | 74/86 [02:55<00:27,  2.28s/it, eval_loss=0.0961, gpu_mem=6.91 GB]"
     ]
    },
    {
     "name": "stderr",
     "output_type": "stream",
     "text": [
      "\r",
      "Val:  87%|████████▋ | 75/86 [02:55<00:24,  2.26s/it, eval_loss=0.0961, gpu_mem=6.91 GB]"
     ]
    },
    {
     "name": "stderr",
     "output_type": "stream",
     "text": [
      "\r",
      "Val:  87%|████████▋ | 75/86 [02:57<00:24,  2.26s/it, eval_loss=0.0955, gpu_mem=6.91 GB]"
     ]
    },
    {
     "name": "stderr",
     "output_type": "stream",
     "text": [
      "\r",
      "Val:  88%|████████▊ | 76/86 [02:57<00:23,  2.39s/it, eval_loss=0.0955, gpu_mem=6.91 GB]"
     ]
    },
    {
     "name": "stderr",
     "output_type": "stream",
     "text": [
      "\r",
      "Val:  88%|████████▊ | 76/86 [03:00<00:23,  2.39s/it, eval_loss=0.0966, gpu_mem=6.91 GB]"
     ]
    },
    {
     "name": "stderr",
     "output_type": "stream",
     "text": [
      "\r",
      "Val:  90%|████████▉ | 77/86 [03:00<00:22,  2.46s/it, eval_loss=0.0966, gpu_mem=6.91 GB]"
     ]
    },
    {
     "name": "stderr",
     "output_type": "stream",
     "text": [
      "\r",
      "Val:  90%|████████▉ | 77/86 [03:02<00:22,  2.46s/it, eval_loss=0.0959, gpu_mem=6.91 GB]"
     ]
    },
    {
     "name": "stderr",
     "output_type": "stream",
     "text": [
      "\r",
      "Val:  91%|█████████ | 78/86 [03:02<00:19,  2.38s/it, eval_loss=0.0959, gpu_mem=6.91 GB]"
     ]
    },
    {
     "name": "stderr",
     "output_type": "stream",
     "text": [
      "\r",
      "Val:  91%|█████████ | 78/86 [03:04<00:19,  2.38s/it, eval_loss=0.0958, gpu_mem=6.91 GB]"
     ]
    },
    {
     "name": "stderr",
     "output_type": "stream",
     "text": [
      "\r",
      "Val:  92%|█████████▏| 79/86 [03:04<00:16,  2.32s/it, eval_loss=0.0958, gpu_mem=6.91 GB]"
     ]
    },
    {
     "name": "stderr",
     "output_type": "stream",
     "text": [
      "\r",
      "Val:  92%|█████████▏| 79/86 [03:06<00:16,  2.32s/it, eval_loss=0.0960, gpu_mem=6.91 GB]"
     ]
    },
    {
     "name": "stderr",
     "output_type": "stream",
     "text": [
      "\r",
      "Val:  93%|█████████▎| 80/86 [03:06<00:13,  2.28s/it, eval_loss=0.0960, gpu_mem=6.91 GB]"
     ]
    },
    {
     "name": "stderr",
     "output_type": "stream",
     "text": [
      "\r",
      "Val:  93%|█████████▎| 80/86 [03:09<00:13,  2.28s/it, eval_loss=0.0954, gpu_mem=6.91 GB]"
     ]
    },
    {
     "name": "stderr",
     "output_type": "stream",
     "text": [
      "\r",
      "Val:  94%|█████████▍| 81/86 [03:09<00:11,  2.28s/it, eval_loss=0.0954, gpu_mem=6.91 GB]"
     ]
    },
    {
     "name": "stderr",
     "output_type": "stream",
     "text": [
      "\r",
      "Val:  94%|█████████▍| 81/86 [03:11<00:11,  2.28s/it, eval_loss=0.0950, gpu_mem=6.91 GB]"
     ]
    },
    {
     "name": "stderr",
     "output_type": "stream",
     "text": [
      "\r",
      "Val:  95%|█████████▌| 82/86 [03:11<00:09,  2.35s/it, eval_loss=0.0950, gpu_mem=6.91 GB]"
     ]
    },
    {
     "name": "stderr",
     "output_type": "stream",
     "text": [
      "\r",
      "Val:  95%|█████████▌| 82/86 [03:14<00:09,  2.35s/it, eval_loss=0.0948, gpu_mem=6.91 GB]"
     ]
    },
    {
     "name": "stderr",
     "output_type": "stream",
     "text": [
      "\r",
      "Val:  97%|█████████▋| 83/86 [03:14<00:06,  2.32s/it, eval_loss=0.0948, gpu_mem=6.91 GB]"
     ]
    },
    {
     "name": "stderr",
     "output_type": "stream",
     "text": [
      "\r",
      "Val:  97%|█████████▋| 83/86 [03:16<00:06,  2.32s/it, eval_loss=0.0945, gpu_mem=6.91 GB]"
     ]
    },
    {
     "name": "stderr",
     "output_type": "stream",
     "text": [
      "\r",
      "Val:  98%|█████████▊| 84/86 [03:16<00:04,  2.27s/it, eval_loss=0.0945, gpu_mem=6.91 GB]"
     ]
    },
    {
     "name": "stderr",
     "output_type": "stream",
     "text": [
      "\r",
      "Val:  98%|█████████▊| 84/86 [03:18<00:04,  2.27s/it, eval_loss=0.0972, gpu_mem=6.91 GB]"
     ]
    },
    {
     "name": "stderr",
     "output_type": "stream",
     "text": [
      "\r",
      "Val:  99%|█████████▉| 85/86 [03:18<00:02,  2.24s/it, eval_loss=0.0972, gpu_mem=6.91 GB]"
     ]
    },
    {
     "name": "stderr",
     "output_type": "stream",
     "text": [
      "\r",
      "Val:  99%|█████████▉| 85/86 [03:18<00:02,  2.24s/it, eval_loss=0.0972, gpu_mem=6.91 GB]"
     ]
    },
    {
     "name": "stderr",
     "output_type": "stream",
     "text": [
      "\r",
      "Val: 100%|██████████| 86/86 [03:18<00:00,  1.73s/it, eval_loss=0.0972, gpu_mem=6.91 GB]"
     ]
    },
    {
     "name": "stderr",
     "output_type": "stream",
     "text": [
      "\r",
      "Val: 100%|██████████| 86/86 [03:18<00:00,  2.31s/it, eval_loss=0.0972, gpu_mem=6.91 GB]"
     ]
    },
    {
     "name": "stderr",
     "output_type": "stream",
     "text": [
      "\n",
      "Valid loss:0.0972\n"
     ]
    },
    {
     "name": "stderr",
     "output_type": "stream",
     "text": [
      "Val metric mean prob: 0.1867\n"
     ]
    },
    {
     "name": "stderr",
     "output_type": "stream",
     "text": [
      "Best metric at: 0.5111 0.3630  0.7308\n"
     ]
    },
    {
     "name": "stderr",
     "output_type": "stream",
     "text": [
      "Cf: [[2315   18]\n",
      " [  26   23]]\n"
     ]
    },
    {
     "name": "stderr",
     "output_type": "stream",
     "text": [
      "\u001b[32m[I 2023-02-15 04:46:39,694]\u001b[0m Trial 13 finished with value: 0.5111111111111111 and parameters: {'a1': 0.617454067313065}. Best is trial 0 with value: 0.5111111111111111.\u001b[0m\n"
     ]
    },
    {
     "name": "stdout",
     "output_type": "stream",
     "text": [
      "/kaggle/input/10folds/tf_efficientnetv2_b2_fold_1_model_epoch_3_0.5055_0.360.pth\n",
      "none:  /kaggle/input/10folds/tf_efficientnetv2_b2_fold_1_model_epoch_3_0.5055_0.360.pth\n",
      "/kaggle/input/10folds/tf_efficientnetv2_b2_fold_1_model_epoch_5_0.4865_0.324.pth\n",
      "hehe /kaggle/input/10folds/tf_efficientnetv2_b2_fold_1_model_epoch_5_0.4865_0.324.pth\n",
      "0.851309131334359 0.14869086866564096\n",
      "\n"
     ]
    },
    {
     "name": "stderr",
     "output_type": "stream",
     "text": [
      "\r",
      "Val:   0%|          | 0/86 [00:00<?, ?it/s]"
     ]
    },
    {
     "name": "stderr",
     "output_type": "stream",
     "text": [
      "\r",
      "Val:   0%|          | 0/86 [00:04<?, ?it/s, eval_loss=0.0552, gpu_mem=6.91 GB]"
     ]
    },
    {
     "name": "stderr",
     "output_type": "stream",
     "text": [
      "\r",
      "Val:   1%|          | 1/86 [00:04<06:23,  4.51s/it, eval_loss=0.0552, gpu_mem=6.91 GB]"
     ]
    },
    {
     "name": "stderr",
     "output_type": "stream",
     "text": [
      "\r",
      "Val:   1%|          | 1/86 [00:06<06:23,  4.51s/it, eval_loss=0.0431, gpu_mem=6.91 GB]"
     ]
    },
    {
     "name": "stderr",
     "output_type": "stream",
     "text": [
      "\r",
      "Val:   2%|▏         | 2/86 [00:06<04:33,  3.25s/it, eval_loss=0.0431, gpu_mem=6.91 GB]"
     ]
    },
    {
     "name": "stderr",
     "output_type": "stream",
     "text": [
      "\r",
      "Val:   2%|▏         | 2/86 [00:09<04:33,  3.25s/it, eval_loss=0.0889, gpu_mem=6.91 GB]"
     ]
    },
    {
     "name": "stderr",
     "output_type": "stream",
     "text": [
      "\r",
      "Val:   3%|▎         | 3/86 [00:09<04:11,  3.03s/it, eval_loss=0.0889, gpu_mem=6.91 GB]"
     ]
    },
    {
     "name": "stderr",
     "output_type": "stream",
     "text": [
      "\r",
      "Val:   3%|▎         | 3/86 [00:12<04:11,  3.03s/it, eval_loss=0.0997, gpu_mem=6.91 GB]"
     ]
    },
    {
     "name": "stderr",
     "output_type": "stream",
     "text": [
      "\r",
      "Val:   5%|▍         | 4/86 [00:12<03:50,  2.82s/it, eval_loss=0.0997, gpu_mem=6.91 GB]"
     ]
    },
    {
     "name": "stderr",
     "output_type": "stream",
     "text": [
      "\r",
      "Val:   5%|▍         | 4/86 [00:14<03:50,  2.82s/it, eval_loss=0.0955, gpu_mem=6.91 GB]"
     ]
    },
    {
     "name": "stderr",
     "output_type": "stream",
     "text": [
      "\r",
      "Val:   6%|▌         | 5/86 [00:14<03:30,  2.60s/it, eval_loss=0.0955, gpu_mem=6.91 GB]"
     ]
    },
    {
     "name": "stderr",
     "output_type": "stream",
     "text": [
      "\r",
      "Val:   6%|▌         | 5/86 [00:16<03:30,  2.60s/it, eval_loss=0.0924, gpu_mem=6.91 GB]"
     ]
    },
    {
     "name": "stderr",
     "output_type": "stream",
     "text": [
      "\r",
      "Val:   7%|▋         | 6/86 [00:16<03:17,  2.47s/it, eval_loss=0.0924, gpu_mem=6.91 GB]"
     ]
    },
    {
     "name": "stderr",
     "output_type": "stream",
     "text": [
      "\r",
      "Val:   7%|▋         | 6/86 [00:18<03:17,  2.47s/it, eval_loss=0.0847, gpu_mem=6.91 GB]"
     ]
    },
    {
     "name": "stderr",
     "output_type": "stream",
     "text": [
      "\r",
      "Val:   8%|▊         | 7/86 [00:18<03:08,  2.38s/it, eval_loss=0.0847, gpu_mem=6.91 GB]"
     ]
    },
    {
     "name": "stderr",
     "output_type": "stream",
     "text": [
      "\r",
      "Val:   8%|▊         | 7/86 [00:21<03:08,  2.38s/it, eval_loss=0.0818, gpu_mem=6.91 GB]"
     ]
    },
    {
     "name": "stderr",
     "output_type": "stream",
     "text": [
      "\r",
      "Val:   9%|▉         | 8/86 [00:21<03:10,  2.45s/it, eval_loss=0.0818, gpu_mem=6.91 GB]"
     ]
    },
    {
     "name": "stderr",
     "output_type": "stream",
     "text": [
      "\r",
      "Val:   9%|▉         | 8/86 [00:23<03:10,  2.45s/it, eval_loss=0.0801, gpu_mem=6.91 GB]"
     ]
    },
    {
     "name": "stderr",
     "output_type": "stream",
     "text": [
      "\r",
      "Val:  10%|█         | 9/86 [00:23<03:03,  2.39s/it, eval_loss=0.0801, gpu_mem=6.91 GB]"
     ]
    },
    {
     "name": "stderr",
     "output_type": "stream",
     "text": [
      "\r",
      "Val:  10%|█         | 9/86 [00:25<03:03,  2.39s/it, eval_loss=0.0871, gpu_mem=6.91 GB]"
     ]
    },
    {
     "name": "stderr",
     "output_type": "stream",
     "text": [
      "\r",
      "Val:  12%|█▏        | 10/86 [00:25<02:56,  2.32s/it, eval_loss=0.0871, gpu_mem=6.91 GB]"
     ]
    },
    {
     "name": "stderr",
     "output_type": "stream",
     "text": [
      "\r",
      "Val:  12%|█▏        | 10/86 [00:27<02:56,  2.32s/it, eval_loss=0.0842, gpu_mem=6.91 GB]"
     ]
    },
    {
     "name": "stderr",
     "output_type": "stream",
     "text": [
      "\r",
      "Val:  13%|█▎        | 11/86 [00:27<02:51,  2.28s/it, eval_loss=0.0842, gpu_mem=6.91 GB]"
     ]
    },
    {
     "name": "stderr",
     "output_type": "stream",
     "text": [
      "\r",
      "Val:  13%|█▎        | 11/86 [00:30<02:51,  2.28s/it, eval_loss=0.0844, gpu_mem=6.91 GB]"
     ]
    },
    {
     "name": "stderr",
     "output_type": "stream",
     "text": [
      "\r",
      "Val:  14%|█▍        | 12/86 [00:30<02:48,  2.27s/it, eval_loss=0.0844, gpu_mem=6.91 GB]"
     ]
    },
    {
     "name": "stderr",
     "output_type": "stream",
     "text": [
      "\r",
      "Val:  14%|█▍        | 12/86 [00:32<02:48,  2.27s/it, eval_loss=0.0865, gpu_mem=6.91 GB]"
     ]
    },
    {
     "name": "stderr",
     "output_type": "stream",
     "text": [
      "\r",
      "Val:  15%|█▌        | 13/86 [00:32<02:47,  2.29s/it, eval_loss=0.0865, gpu_mem=6.91 GB]"
     ]
    },
    {
     "name": "stderr",
     "output_type": "stream",
     "text": [
      "\r",
      "Val:  15%|█▌        | 13/86 [00:34<02:47,  2.29s/it, eval_loss=0.0828, gpu_mem=6.91 GB]"
     ]
    },
    {
     "name": "stderr",
     "output_type": "stream",
     "text": [
      "\r",
      "Val:  16%|█▋        | 14/86 [00:34<02:42,  2.26s/it, eval_loss=0.0828, gpu_mem=6.91 GB]"
     ]
    },
    {
     "name": "stderr",
     "output_type": "stream",
     "text": [
      "\r",
      "Val:  16%|█▋        | 14/86 [00:36<02:42,  2.26s/it, eval_loss=0.0800, gpu_mem=6.91 GB]"
     ]
    },
    {
     "name": "stderr",
     "output_type": "stream",
     "text": [
      "\r",
      "Val:  17%|█▋        | 15/86 [00:36<02:39,  2.25s/it, eval_loss=0.0800, gpu_mem=6.91 GB]"
     ]
    },
    {
     "name": "stderr",
     "output_type": "stream",
     "text": [
      "\r",
      "Val:  17%|█▋        | 15/86 [00:39<02:39,  2.25s/it, eval_loss=0.0781, gpu_mem=6.91 GB]"
     ]
    },
    {
     "name": "stderr",
     "output_type": "stream",
     "text": [
      "\r",
      "Val:  19%|█▊        | 16/86 [00:39<02:48,  2.41s/it, eval_loss=0.0781, gpu_mem=6.91 GB]"
     ]
    },
    {
     "name": "stderr",
     "output_type": "stream",
     "text": [
      "\r",
      "Val:  19%|█▊        | 16/86 [00:42<02:48,  2.41s/it, eval_loss=0.0782, gpu_mem=6.91 GB]"
     ]
    },
    {
     "name": "stderr",
     "output_type": "stream",
     "text": [
      "\r",
      "Val:  20%|█▉        | 17/86 [00:42<02:42,  2.36s/it, eval_loss=0.0782, gpu_mem=6.91 GB]"
     ]
    },
    {
     "name": "stderr",
     "output_type": "stream",
     "text": [
      "\r",
      "Val:  20%|█▉        | 17/86 [00:44<02:42,  2.36s/it, eval_loss=0.0777, gpu_mem=6.91 GB]"
     ]
    },
    {
     "name": "stderr",
     "output_type": "stream",
     "text": [
      "\r",
      "Val:  21%|██        | 18/86 [00:44<02:42,  2.39s/it, eval_loss=0.0777, gpu_mem=6.91 GB]"
     ]
    },
    {
     "name": "stderr",
     "output_type": "stream",
     "text": [
      "\r",
      "Val:  21%|██        | 18/86 [00:46<02:42,  2.39s/it, eval_loss=0.0779, gpu_mem=6.91 GB]"
     ]
    },
    {
     "name": "stderr",
     "output_type": "stream",
     "text": [
      "\r",
      "Val:  22%|██▏       | 19/86 [00:46<02:36,  2.34s/it, eval_loss=0.0779, gpu_mem=6.91 GB]"
     ]
    },
    {
     "name": "stderr",
     "output_type": "stream",
     "text": [
      "\r",
      "Val:  22%|██▏       | 19/86 [00:48<02:36,  2.34s/it, eval_loss=0.0785, gpu_mem=6.91 GB]"
     ]
    },
    {
     "name": "stderr",
     "output_type": "stream",
     "text": [
      "\r",
      "Val:  23%|██▎       | 20/86 [00:48<02:32,  2.31s/it, eval_loss=0.0785, gpu_mem=6.91 GB]"
     ]
    },
    {
     "name": "stderr",
     "output_type": "stream",
     "text": [
      "\r",
      "Val:  23%|██▎       | 20/86 [00:51<02:32,  2.31s/it, eval_loss=0.0771, gpu_mem=6.91 GB]"
     ]
    },
    {
     "name": "stderr",
     "output_type": "stream",
     "text": [
      "\r",
      "Val:  24%|██▍       | 21/86 [00:51<02:28,  2.29s/it, eval_loss=0.0771, gpu_mem=6.91 GB]"
     ]
    },
    {
     "name": "stderr",
     "output_type": "stream",
     "text": [
      "\r",
      "Val:  24%|██▍       | 21/86 [00:53<02:28,  2.29s/it, eval_loss=0.0804, gpu_mem=6.91 GB]"
     ]
    },
    {
     "name": "stderr",
     "output_type": "stream",
     "text": [
      "\r",
      "Val:  26%|██▌       | 22/86 [00:53<02:27,  2.31s/it, eval_loss=0.0804, gpu_mem=6.91 GB]"
     ]
    },
    {
     "name": "stderr",
     "output_type": "stream",
     "text": [
      "\r",
      "Val:  26%|██▌       | 22/86 [00:55<02:27,  2.31s/it, eval_loss=0.0844, gpu_mem=6.91 GB]"
     ]
    },
    {
     "name": "stderr",
     "output_type": "stream",
     "text": [
      "\r",
      "Val:  27%|██▋       | 23/86 [00:55<02:27,  2.35s/it, eval_loss=0.0844, gpu_mem=6.91 GB]"
     ]
    },
    {
     "name": "stderr",
     "output_type": "stream",
     "text": [
      "\r",
      "Val:  27%|██▋       | 23/86 [00:58<02:27,  2.35s/it, eval_loss=0.0839, gpu_mem=6.91 GB]"
     ]
    },
    {
     "name": "stderr",
     "output_type": "stream",
     "text": [
      "\r",
      "Val:  28%|██▊       | 24/86 [00:58<02:23,  2.31s/it, eval_loss=0.0839, gpu_mem=6.91 GB]"
     ]
    },
    {
     "name": "stderr",
     "output_type": "stream",
     "text": [
      "\r",
      "Val:  28%|██▊       | 24/86 [01:00<02:23,  2.31s/it, eval_loss=0.0837, gpu_mem=6.91 GB]"
     ]
    },
    {
     "name": "stderr",
     "output_type": "stream",
     "text": [
      "\r",
      "Val:  29%|██▉       | 25/86 [01:00<02:18,  2.28s/it, eval_loss=0.0837, gpu_mem=6.91 GB]"
     ]
    },
    {
     "name": "stderr",
     "output_type": "stream",
     "text": [
      "\r",
      "Val:  29%|██▉       | 25/86 [01:02<02:18,  2.28s/it, eval_loss=0.0816, gpu_mem=6.91 GB]"
     ]
    },
    {
     "name": "stderr",
     "output_type": "stream",
     "text": [
      "\r",
      "Val:  30%|███       | 26/86 [01:02<02:15,  2.26s/it, eval_loss=0.0816, gpu_mem=6.91 GB]"
     ]
    },
    {
     "name": "stderr",
     "output_type": "stream",
     "text": [
      "\r",
      "Val:  30%|███       | 26/86 [01:04<02:15,  2.26s/it, eval_loss=0.0853, gpu_mem=6.91 GB]"
     ]
    },
    {
     "name": "stderr",
     "output_type": "stream",
     "text": [
      "\r",
      "Val:  31%|███▏      | 27/86 [01:04<02:15,  2.30s/it, eval_loss=0.0853, gpu_mem=6.91 GB]"
     ]
    },
    {
     "name": "stderr",
     "output_type": "stream",
     "text": [
      "\r",
      "Val:  31%|███▏      | 27/86 [01:07<02:15,  2.30s/it, eval_loss=0.0848, gpu_mem=6.91 GB]"
     ]
    },
    {
     "name": "stderr",
     "output_type": "stream",
     "text": [
      "\r",
      "Val:  33%|███▎      | 28/86 [01:07<02:14,  2.31s/it, eval_loss=0.0848, gpu_mem=6.91 GB]"
     ]
    },
    {
     "name": "stderr",
     "output_type": "stream",
     "text": [
      "\r",
      "Val:  33%|███▎      | 28/86 [01:09<02:14,  2.31s/it, eval_loss=0.0838, gpu_mem=6.91 GB]"
     ]
    },
    {
     "name": "stderr",
     "output_type": "stream",
     "text": [
      "\r",
      "Val:  34%|███▎      | 29/86 [01:09<02:10,  2.29s/it, eval_loss=0.0838, gpu_mem=6.91 GB]"
     ]
    },
    {
     "name": "stderr",
     "output_type": "stream",
     "text": [
      "\r",
      "Val:  34%|███▎      | 29/86 [01:12<02:10,  2.29s/it, eval_loss=0.0838, gpu_mem=6.91 GB]"
     ]
    },
    {
     "name": "stderr",
     "output_type": "stream",
     "text": [
      "\r",
      "Val:  35%|███▍      | 30/86 [01:12<02:13,  2.39s/it, eval_loss=0.0838, gpu_mem=6.91 GB]"
     ]
    },
    {
     "name": "stderr",
     "output_type": "stream",
     "text": [
      "\r",
      "Val:  35%|███▍      | 30/86 [01:14<02:13,  2.39s/it, eval_loss=0.0830, gpu_mem=6.91 GB]"
     ]
    },
    {
     "name": "stderr",
     "output_type": "stream",
     "text": [
      "\r",
      "Val:  36%|███▌      | 31/86 [01:14<02:08,  2.33s/it, eval_loss=0.0830, gpu_mem=6.91 GB]"
     ]
    },
    {
     "name": "stderr",
     "output_type": "stream",
     "text": [
      "\r",
      "Val:  36%|███▌      | 31/86 [01:16<02:08,  2.33s/it, eval_loss=0.0905, gpu_mem=6.91 GB]"
     ]
    },
    {
     "name": "stderr",
     "output_type": "stream",
     "text": [
      "\r",
      "Val:  37%|███▋      | 32/86 [01:16<02:07,  2.36s/it, eval_loss=0.0905, gpu_mem=6.91 GB]"
     ]
    },
    {
     "name": "stderr",
     "output_type": "stream",
     "text": [
      "\r",
      "Val:  37%|███▋      | 32/86 [01:19<02:07,  2.36s/it, eval_loss=0.0886, gpu_mem=6.91 GB]"
     ]
    },
    {
     "name": "stderr",
     "output_type": "stream",
     "text": [
      "\r",
      "Val:  38%|███▊      | 33/86 [01:19<02:02,  2.31s/it, eval_loss=0.0886, gpu_mem=6.91 GB]"
     ]
    },
    {
     "name": "stderr",
     "output_type": "stream",
     "text": [
      "\r",
      "Val:  38%|███▊      | 33/86 [01:21<02:02,  2.31s/it, eval_loss=0.0899, gpu_mem=6.91 GB]"
     ]
    },
    {
     "name": "stderr",
     "output_type": "stream",
     "text": [
      "\r",
      "Val:  40%|███▉      | 34/86 [01:21<01:58,  2.28s/it, eval_loss=0.0899, gpu_mem=6.91 GB]"
     ]
    },
    {
     "name": "stderr",
     "output_type": "stream",
     "text": [
      "\r",
      "Val:  40%|███▉      | 34/86 [01:23<01:58,  2.28s/it, eval_loss=0.0889, gpu_mem=6.91 GB]"
     ]
    },
    {
     "name": "stderr",
     "output_type": "stream",
     "text": [
      "\r",
      "Val:  41%|████      | 35/86 [01:23<01:54,  2.25s/it, eval_loss=0.0889, gpu_mem=6.91 GB]"
     ]
    },
    {
     "name": "stderr",
     "output_type": "stream",
     "text": [
      "\r",
      "Val:  41%|████      | 35/86 [01:25<01:54,  2.25s/it, eval_loss=0.0875, gpu_mem=6.91 GB]"
     ]
    },
    {
     "name": "stderr",
     "output_type": "stream",
     "text": [
      "\r",
      "Val:  42%|████▏     | 36/86 [01:25<01:52,  2.25s/it, eval_loss=0.0875, gpu_mem=6.91 GB]"
     ]
    },
    {
     "name": "stderr",
     "output_type": "stream",
     "text": [
      "\r",
      "Val:  42%|████▏     | 36/86 [01:28<01:52,  2.25s/it, eval_loss=0.0881, gpu_mem=6.91 GB]"
     ]
    },
    {
     "name": "stderr",
     "output_type": "stream",
     "text": [
      "\r",
      "Val:  43%|████▎     | 37/86 [01:28<01:52,  2.30s/it, eval_loss=0.0881, gpu_mem=6.91 GB]"
     ]
    },
    {
     "name": "stderr",
     "output_type": "stream",
     "text": [
      "\r",
      "Val:  43%|████▎     | 37/86 [01:30<01:52,  2.30s/it, eval_loss=0.0879, gpu_mem=6.91 GB]"
     ]
    },
    {
     "name": "stderr",
     "output_type": "stream",
     "text": [
      "\r",
      "Val:  44%|████▍     | 38/86 [01:30<01:48,  2.27s/it, eval_loss=0.0879, gpu_mem=6.91 GB]"
     ]
    },
    {
     "name": "stderr",
     "output_type": "stream",
     "text": [
      "\r",
      "Val:  44%|████▍     | 38/86 [01:32<01:48,  2.27s/it, eval_loss=0.0865, gpu_mem=6.91 GB]"
     ]
    },
    {
     "name": "stderr",
     "output_type": "stream",
     "text": [
      "\r",
      "Val:  45%|████▌     | 39/86 [01:32<01:45,  2.24s/it, eval_loss=0.0865, gpu_mem=6.91 GB]"
     ]
    },
    {
     "name": "stderr",
     "output_type": "stream",
     "text": [
      "\r",
      "Val:  45%|████▌     | 39/86 [01:34<01:45,  2.24s/it, eval_loss=0.0864, gpu_mem=6.91 GB]"
     ]
    },
    {
     "name": "stderr",
     "output_type": "stream",
     "text": [
      "\r",
      "Val:  47%|████▋     | 40/86 [01:34<01:42,  2.22s/it, eval_loss=0.0864, gpu_mem=6.91 GB]"
     ]
    },
    {
     "name": "stderr",
     "output_type": "stream",
     "text": [
      "\r",
      "Val:  47%|████▋     | 40/86 [01:36<01:42,  2.22s/it, eval_loss=0.0859, gpu_mem=6.91 GB]"
     ]
    },
    {
     "name": "stderr",
     "output_type": "stream",
     "text": [
      "\r",
      "Val:  48%|████▊     | 41/86 [01:36<01:40,  2.23s/it, eval_loss=0.0859, gpu_mem=6.91 GB]"
     ]
    },
    {
     "name": "stderr",
     "output_type": "stream",
     "text": [
      "\r",
      "Val:  48%|████▊     | 41/86 [01:39<01:40,  2.23s/it, eval_loss=0.0854, gpu_mem=6.91 GB]"
     ]
    },
    {
     "name": "stderr",
     "output_type": "stream",
     "text": [
      "\r",
      "Val:  49%|████▉     | 42/86 [01:39<01:41,  2.30s/it, eval_loss=0.0854, gpu_mem=6.91 GB]"
     ]
    },
    {
     "name": "stderr",
     "output_type": "stream",
     "text": [
      "\r",
      "Val:  49%|████▉     | 42/86 [01:41<01:41,  2.30s/it, eval_loss=0.0845, gpu_mem=6.91 GB]"
     ]
    },
    {
     "name": "stderr",
     "output_type": "stream",
     "text": [
      "\r",
      "Val:  50%|█████     | 43/86 [01:41<01:38,  2.29s/it, eval_loss=0.0845, gpu_mem=6.91 GB]"
     ]
    },
    {
     "name": "stderr",
     "output_type": "stream",
     "text": [
      "\r",
      "Val:  50%|█████     | 43/86 [01:44<01:38,  2.29s/it, eval_loss=0.0877, gpu_mem=6.91 GB]"
     ]
    },
    {
     "name": "stderr",
     "output_type": "stream",
     "text": [
      "\r",
      "Val:  51%|█████     | 44/86 [01:44<01:41,  2.43s/it, eval_loss=0.0877, gpu_mem=6.91 GB]"
     ]
    },
    {
     "name": "stderr",
     "output_type": "stream",
     "text": [
      "\r",
      "Val:  51%|█████     | 44/86 [01:46<01:41,  2.43s/it, eval_loss=0.0864, gpu_mem=6.91 GB]"
     ]
    },
    {
     "name": "stderr",
     "output_type": "stream",
     "text": [
      "\r",
      "Val:  52%|█████▏    | 45/86 [01:46<01:37,  2.37s/it, eval_loss=0.0864, gpu_mem=6.91 GB]"
     ]
    },
    {
     "name": "stderr",
     "output_type": "stream",
     "text": [
      "\r",
      "Val:  52%|█████▏    | 45/86 [01:48<01:37,  2.37s/it, eval_loss=0.0863, gpu_mem=6.91 GB]"
     ]
    },
    {
     "name": "stderr",
     "output_type": "stream",
     "text": [
      "\r",
      "Val:  53%|█████▎    | 46/86 [01:48<01:34,  2.37s/it, eval_loss=0.0863, gpu_mem=6.91 GB]"
     ]
    },
    {
     "name": "stderr",
     "output_type": "stream",
     "text": [
      "\r",
      "Val:  53%|█████▎    | 46/86 [01:51<01:34,  2.37s/it, eval_loss=0.0856, gpu_mem=6.91 GB]"
     ]
    },
    {
     "name": "stderr",
     "output_type": "stream",
     "text": [
      "\r",
      "Val:  55%|█████▍    | 47/86 [01:51<01:33,  2.41s/it, eval_loss=0.0856, gpu_mem=6.91 GB]"
     ]
    },
    {
     "name": "stderr",
     "output_type": "stream",
     "text": [
      "\r",
      "Val:  55%|█████▍    | 47/86 [01:53<01:33,  2.41s/it, eval_loss=0.0874, gpu_mem=6.91 GB]"
     ]
    },
    {
     "name": "stderr",
     "output_type": "stream",
     "text": [
      "\r",
      "Val:  56%|█████▌    | 48/86 [01:53<01:29,  2.35s/it, eval_loss=0.0874, gpu_mem=6.91 GB]"
     ]
    },
    {
     "name": "stderr",
     "output_type": "stream",
     "text": [
      "\r",
      "Val:  56%|█████▌    | 48/86 [01:55<01:29,  2.35s/it, eval_loss=0.0869, gpu_mem=6.91 GB]"
     ]
    },
    {
     "name": "stderr",
     "output_type": "stream",
     "text": [
      "\r",
      "Val:  57%|█████▋    | 49/86 [01:55<01:25,  2.30s/it, eval_loss=0.0869, gpu_mem=6.91 GB]"
     ]
    },
    {
     "name": "stderr",
     "output_type": "stream",
     "text": [
      "\r",
      "Val:  57%|█████▋    | 49/86 [01:58<01:25,  2.30s/it, eval_loss=0.0866, gpu_mem=6.91 GB]"
     ]
    },
    {
     "name": "stderr",
     "output_type": "stream",
     "text": [
      "\r",
      "Val:  58%|█████▊    | 50/86 [01:58<01:22,  2.28s/it, eval_loss=0.0866, gpu_mem=6.91 GB]"
     ]
    },
    {
     "name": "stderr",
     "output_type": "stream",
     "text": [
      "\r",
      "Val:  58%|█████▊    | 50/86 [02:00<01:22,  2.28s/it, eval_loss=0.0895, gpu_mem=6.91 GB]"
     ]
    },
    {
     "name": "stderr",
     "output_type": "stream",
     "text": [
      "\r",
      "Val:  59%|█████▉    | 51/86 [02:00<01:22,  2.34s/it, eval_loss=0.0895, gpu_mem=6.91 GB]"
     ]
    },
    {
     "name": "stderr",
     "output_type": "stream",
     "text": [
      "\r",
      "Val:  59%|█████▉    | 51/86 [02:02<01:22,  2.34s/it, eval_loss=0.0909, gpu_mem=6.91 GB]"
     ]
    },
    {
     "name": "stderr",
     "output_type": "stream",
     "text": [
      "\r",
      "Val:  60%|██████    | 52/86 [02:02<01:18,  2.31s/it, eval_loss=0.0909, gpu_mem=6.91 GB]"
     ]
    },
    {
     "name": "stderr",
     "output_type": "stream",
     "text": [
      "\r",
      "Val:  60%|██████    | 52/86 [02:04<01:18,  2.31s/it, eval_loss=0.0922, gpu_mem=6.91 GB]"
     ]
    },
    {
     "name": "stderr",
     "output_type": "stream",
     "text": [
      "\r",
      "Val:  62%|██████▏   | 53/86 [02:04<01:14,  2.26s/it, eval_loss=0.0922, gpu_mem=6.91 GB]"
     ]
    },
    {
     "name": "stderr",
     "output_type": "stream",
     "text": [
      "\r",
      "Val:  62%|██████▏   | 53/86 [02:07<01:14,  2.26s/it, eval_loss=0.0915, gpu_mem=6.91 GB]"
     ]
    },
    {
     "name": "stderr",
     "output_type": "stream",
     "text": [
      "\r",
      "Val:  63%|██████▎   | 54/86 [02:07<01:11,  2.24s/it, eval_loss=0.0915, gpu_mem=6.91 GB]"
     ]
    },
    {
     "name": "stderr",
     "output_type": "stream",
     "text": [
      "\r",
      "Val:  63%|██████▎   | 54/86 [02:09<01:11,  2.24s/it, eval_loss=0.0922, gpu_mem=6.91 GB]"
     ]
    },
    {
     "name": "stderr",
     "output_type": "stream",
     "text": [
      "\r",
      "Val:  64%|██████▍   | 55/86 [02:09<01:08,  2.22s/it, eval_loss=0.0922, gpu_mem=6.91 GB]"
     ]
    },
    {
     "name": "stderr",
     "output_type": "stream",
     "text": [
      "\r",
      "Val:  64%|██████▍   | 55/86 [02:11<01:08,  2.22s/it, eval_loss=0.0918, gpu_mem=6.91 GB]"
     ]
    },
    {
     "name": "stderr",
     "output_type": "stream",
     "text": [
      "\r",
      "Val:  65%|██████▌   | 56/86 [02:11<01:07,  2.27s/it, eval_loss=0.0918, gpu_mem=6.91 GB]"
     ]
    },
    {
     "name": "stderr",
     "output_type": "stream",
     "text": [
      "\r",
      "Val:  65%|██████▌   | 56/86 [02:14<01:07,  2.27s/it, eval_loss=0.0917, gpu_mem=6.91 GB]"
     ]
    },
    {
     "name": "stderr",
     "output_type": "stream",
     "text": [
      "\r",
      "Val:  66%|██████▋   | 57/86 [02:14<01:08,  2.35s/it, eval_loss=0.0917, gpu_mem=6.91 GB]"
     ]
    },
    {
     "name": "stderr",
     "output_type": "stream",
     "text": [
      "\r",
      "Val:  66%|██████▋   | 57/86 [02:16<01:08,  2.35s/it, eval_loss=0.0940, gpu_mem=6.91 GB]"
     ]
    },
    {
     "name": "stderr",
     "output_type": "stream",
     "text": [
      "\r",
      "Val:  67%|██████▋   | 58/86 [02:16<01:06,  2.39s/it, eval_loss=0.0940, gpu_mem=6.91 GB]"
     ]
    },
    {
     "name": "stderr",
     "output_type": "stream",
     "text": [
      "\r",
      "Val:  67%|██████▋   | 58/86 [02:18<01:06,  2.39s/it, eval_loss=0.0935, gpu_mem=6.91 GB]"
     ]
    },
    {
     "name": "stderr",
     "output_type": "stream",
     "text": [
      "\r",
      "Val:  69%|██████▊   | 59/86 [02:18<01:03,  2.34s/it, eval_loss=0.0935, gpu_mem=6.91 GB]"
     ]
    },
    {
     "name": "stderr",
     "output_type": "stream",
     "text": [
      "\r",
      "Val:  69%|██████▊   | 59/86 [02:21<01:03,  2.34s/it, eval_loss=0.0953, gpu_mem=6.91 GB]"
     ]
    },
    {
     "name": "stderr",
     "output_type": "stream",
     "text": [
      "\r",
      "Val:  70%|██████▉   | 60/86 [02:21<01:00,  2.32s/it, eval_loss=0.0953, gpu_mem=6.91 GB]"
     ]
    },
    {
     "name": "stderr",
     "output_type": "stream",
     "text": [
      "\r",
      "Val:  70%|██████▉   | 60/86 [02:23<01:00,  2.32s/it, eval_loss=0.0947, gpu_mem=6.91 GB]"
     ]
    },
    {
     "name": "stderr",
     "output_type": "stream",
     "text": [
      "\r",
      "Val:  71%|███████   | 61/86 [02:23<00:59,  2.37s/it, eval_loss=0.0947, gpu_mem=6.91 GB]"
     ]
    },
    {
     "name": "stderr",
     "output_type": "stream",
     "text": [
      "\r",
      "Val:  71%|███████   | 61/86 [02:25<00:59,  2.37s/it, eval_loss=0.0943, gpu_mem=6.91 GB]"
     ]
    },
    {
     "name": "stderr",
     "output_type": "stream",
     "text": [
      "\r",
      "Val:  72%|███████▏  | 62/86 [02:25<00:55,  2.32s/it, eval_loss=0.0943, gpu_mem=6.91 GB]"
     ]
    },
    {
     "name": "stderr",
     "output_type": "stream",
     "text": [
      "\r",
      "Val:  72%|███████▏  | 62/86 [02:28<00:55,  2.32s/it, eval_loss=0.0942, gpu_mem=6.91 GB]"
     ]
    },
    {
     "name": "stderr",
     "output_type": "stream",
     "text": [
      "\r",
      "Val:  73%|███████▎  | 63/86 [02:28<00:52,  2.28s/it, eval_loss=0.0942, gpu_mem=6.91 GB]"
     ]
    },
    {
     "name": "stderr",
     "output_type": "stream",
     "text": [
      "\r",
      "Val:  73%|███████▎  | 63/86 [02:30<00:52,  2.28s/it, eval_loss=0.0941, gpu_mem=6.91 GB]"
     ]
    },
    {
     "name": "stderr",
     "output_type": "stream",
     "text": [
      "\r",
      "Val:  74%|███████▍  | 64/86 [02:30<00:50,  2.29s/it, eval_loss=0.0941, gpu_mem=6.91 GB]"
     ]
    },
    {
     "name": "stderr",
     "output_type": "stream",
     "text": [
      "\r",
      "Val:  74%|███████▍  | 64/86 [02:32<00:50,  2.29s/it, eval_loss=0.0932, gpu_mem=6.91 GB]"
     ]
    },
    {
     "name": "stderr",
     "output_type": "stream",
     "text": [
      "\r",
      "Val:  76%|███████▌  | 65/86 [02:32<00:48,  2.29s/it, eval_loss=0.0932, gpu_mem=6.91 GB]"
     ]
    },
    {
     "name": "stderr",
     "output_type": "stream",
     "text": [
      "\r",
      "Val:  76%|███████▌  | 65/86 [02:35<00:48,  2.29s/it, eval_loss=0.0950, gpu_mem=6.91 GB]"
     ]
    },
    {
     "name": "stderr",
     "output_type": "stream",
     "text": [
      "\r",
      "Val:  77%|███████▋  | 66/86 [02:35<00:46,  2.34s/it, eval_loss=0.0950, gpu_mem=6.91 GB]"
     ]
    },
    {
     "name": "stderr",
     "output_type": "stream",
     "text": [
      "\r",
      "Val:  77%|███████▋  | 66/86 [02:37<00:46,  2.34s/it, eval_loss=0.0942, gpu_mem=6.91 GB]"
     ]
    },
    {
     "name": "stderr",
     "output_type": "stream",
     "text": [
      "\r",
      "Val:  78%|███████▊  | 67/86 [02:37<00:44,  2.33s/it, eval_loss=0.0942, gpu_mem=6.91 GB]"
     ]
    },
    {
     "name": "stderr",
     "output_type": "stream",
     "text": [
      "\r",
      "Val:  78%|███████▊  | 67/86 [02:39<00:44,  2.33s/it, eval_loss=0.0966, gpu_mem=6.91 GB]"
     ]
    },
    {
     "name": "stderr",
     "output_type": "stream",
     "text": [
      "\r",
      "Val:  79%|███████▉  | 68/86 [02:39<00:41,  2.29s/it, eval_loss=0.0966, gpu_mem=6.91 GB]"
     ]
    },
    {
     "name": "stderr",
     "output_type": "stream",
     "text": [
      "\r",
      "Val:  79%|███████▉  | 68/86 [02:41<00:41,  2.29s/it, eval_loss=0.0967, gpu_mem=6.91 GB]"
     ]
    },
    {
     "name": "stderr",
     "output_type": "stream",
     "text": [
      "\r",
      "Val:  80%|████████  | 69/86 [02:41<00:38,  2.27s/it, eval_loss=0.0967, gpu_mem=6.91 GB]"
     ]
    },
    {
     "name": "stderr",
     "output_type": "stream",
     "text": [
      "\r",
      "Val:  80%|████████  | 69/86 [02:44<00:38,  2.27s/it, eval_loss=0.0964, gpu_mem=6.91 GB]"
     ]
    },
    {
     "name": "stderr",
     "output_type": "stream",
     "text": [
      "\r",
      "Val:  81%|████████▏ | 70/86 [02:44<00:37,  2.32s/it, eval_loss=0.0964, gpu_mem=6.91 GB]"
     ]
    },
    {
     "name": "stderr",
     "output_type": "stream",
     "text": [
      "\r",
      "Val:  81%|████████▏ | 70/86 [02:47<00:37,  2.32s/it, eval_loss=0.0971, gpu_mem=6.91 GB]"
     ]
    },
    {
     "name": "stderr",
     "output_type": "stream",
     "text": [
      "\r",
      "Val:  83%|████████▎ | 71/86 [02:47<00:36,  2.45s/it, eval_loss=0.0971, gpu_mem=6.91 GB]"
     ]
    },
    {
     "name": "stderr",
     "output_type": "stream",
     "text": [
      "\r",
      "Val:  83%|████████▎ | 71/86 [02:49<00:36,  2.45s/it, eval_loss=0.0967, gpu_mem=6.91 GB]"
     ]
    },
    {
     "name": "stderr",
     "output_type": "stream",
     "text": [
      "\r",
      "Val:  84%|████████▎ | 72/86 [02:49<00:33,  2.39s/it, eval_loss=0.0967, gpu_mem=6.91 GB]"
     ]
    },
    {
     "name": "stderr",
     "output_type": "stream",
     "text": [
      "\r",
      "Val:  84%|████████▎ | 72/86 [02:51<00:33,  2.39s/it, eval_loss=0.0964, gpu_mem=6.91 GB]"
     ]
    },
    {
     "name": "stderr",
     "output_type": "stream",
     "text": [
      "\r",
      "Val:  85%|████████▍ | 73/86 [02:51<00:30,  2.32s/it, eval_loss=0.0964, gpu_mem=6.91 GB]"
     ]
    },
    {
     "name": "stderr",
     "output_type": "stream",
     "text": [
      "\r",
      "Val:  85%|████████▍ | 73/86 [02:53<00:30,  2.32s/it, eval_loss=0.0967, gpu_mem=6.91 GB]"
     ]
    },
    {
     "name": "stderr",
     "output_type": "stream",
     "text": [
      "\r",
      "Val:  86%|████████▌ | 74/86 [02:53<00:27,  2.29s/it, eval_loss=0.0967, gpu_mem=6.91 GB]"
     ]
    },
    {
     "name": "stderr",
     "output_type": "stream",
     "text": [
      "\r",
      "Val:  86%|████████▌ | 74/86 [02:56<00:27,  2.29s/it, eval_loss=0.0961, gpu_mem=6.91 GB]"
     ]
    },
    {
     "name": "stderr",
     "output_type": "stream",
     "text": [
      "\r",
      "Val:  87%|████████▋ | 75/86 [02:56<00:25,  2.32s/it, eval_loss=0.0961, gpu_mem=6.91 GB]"
     ]
    },
    {
     "name": "stderr",
     "output_type": "stream",
     "text": [
      "\r",
      "Val:  87%|████████▋ | 75/86 [02:58<00:25,  2.32s/it, eval_loss=0.0955, gpu_mem=6.91 GB]"
     ]
    },
    {
     "name": "stderr",
     "output_type": "stream",
     "text": [
      "\r",
      "Val:  88%|████████▊ | 76/86 [02:58<00:22,  2.27s/it, eval_loss=0.0955, gpu_mem=6.91 GB]"
     ]
    },
    {
     "name": "stderr",
     "output_type": "stream",
     "text": [
      "\r",
      "Val:  88%|████████▊ | 76/86 [03:00<00:22,  2.27s/it, eval_loss=0.0966, gpu_mem=6.91 GB]"
     ]
    },
    {
     "name": "stderr",
     "output_type": "stream",
     "text": [
      "\r",
      "Val:  90%|████████▉ | 77/86 [03:00<00:20,  2.24s/it, eval_loss=0.0966, gpu_mem=6.91 GB]"
     ]
    },
    {
     "name": "stderr",
     "output_type": "stream",
     "text": [
      "\r",
      "Val:  90%|████████▉ | 77/86 [03:02<00:20,  2.24s/it, eval_loss=0.0959, gpu_mem=6.91 GB]"
     ]
    },
    {
     "name": "stderr",
     "output_type": "stream",
     "text": [
      "\r",
      "Val:  91%|█████████ | 78/86 [03:02<00:18,  2.27s/it, eval_loss=0.0959, gpu_mem=6.91 GB]"
     ]
    },
    {
     "name": "stderr",
     "output_type": "stream",
     "text": [
      "\r",
      "Val:  91%|█████████ | 78/86 [03:05<00:18,  2.27s/it, eval_loss=0.0958, gpu_mem=6.91 GB]"
     ]
    },
    {
     "name": "stderr",
     "output_type": "stream",
     "text": [
      "\r",
      "Val:  92%|█████████▏| 79/86 [03:05<00:16,  2.31s/it, eval_loss=0.0958, gpu_mem=6.91 GB]"
     ]
    },
    {
     "name": "stderr",
     "output_type": "stream",
     "text": [
      "\r",
      "Val:  92%|█████████▏| 79/86 [03:08<00:16,  2.31s/it, eval_loss=0.0960, gpu_mem=6.91 GB]"
     ]
    },
    {
     "name": "stderr",
     "output_type": "stream",
     "text": [
      "\r",
      "Val:  93%|█████████▎| 80/86 [03:08<00:15,  2.52s/it, eval_loss=0.0960, gpu_mem=6.91 GB]"
     ]
    },
    {
     "name": "stderr",
     "output_type": "stream",
     "text": [
      "\r",
      "Val:  93%|█████████▎| 80/86 [03:10<00:15,  2.52s/it, eval_loss=0.0954, gpu_mem=6.91 GB]"
     ]
    },
    {
     "name": "stderr",
     "output_type": "stream",
     "text": [
      "\r",
      "Val:  94%|█████████▍| 81/86 [03:10<00:12,  2.51s/it, eval_loss=0.0954, gpu_mem=6.91 GB]"
     ]
    },
    {
     "name": "stderr",
     "output_type": "stream",
     "text": [
      "\r",
      "Val:  94%|█████████▍| 81/86 [03:13<00:12,  2.51s/it, eval_loss=0.0950, gpu_mem=6.91 GB]"
     ]
    },
    {
     "name": "stderr",
     "output_type": "stream",
     "text": [
      "\r",
      "Val:  95%|█████████▌| 82/86 [03:13<00:10,  2.54s/it, eval_loss=0.0950, gpu_mem=6.91 GB]"
     ]
    },
    {
     "name": "stderr",
     "output_type": "stream",
     "text": [
      "\r",
      "Val:  95%|█████████▌| 82/86 [03:15<00:10,  2.54s/it, eval_loss=0.0948, gpu_mem=6.91 GB]"
     ]
    },
    {
     "name": "stderr",
     "output_type": "stream",
     "text": [
      "\r",
      "Val:  97%|█████████▋| 83/86 [03:15<00:07,  2.53s/it, eval_loss=0.0948, gpu_mem=6.91 GB]"
     ]
    },
    {
     "name": "stderr",
     "output_type": "stream",
     "text": [
      "\r",
      "Val:  97%|█████████▋| 83/86 [03:18<00:07,  2.53s/it, eval_loss=0.0945, gpu_mem=6.91 GB]"
     ]
    },
    {
     "name": "stderr",
     "output_type": "stream",
     "text": [
      "\r",
      "Val:  98%|█████████▊| 84/86 [03:18<00:05,  2.66s/it, eval_loss=0.0945, gpu_mem=6.91 GB]"
     ]
    },
    {
     "name": "stderr",
     "output_type": "stream",
     "text": [
      "\r",
      "Val:  98%|█████████▊| 84/86 [03:20<00:05,  2.66s/it, eval_loss=0.0972, gpu_mem=6.91 GB]"
     ]
    },
    {
     "name": "stderr",
     "output_type": "stream",
     "text": [
      "\r",
      "Val:  99%|█████████▉| 85/86 [03:20<00:02,  2.51s/it, eval_loss=0.0972, gpu_mem=6.91 GB]"
     ]
    },
    {
     "name": "stderr",
     "output_type": "stream",
     "text": [
      "\r",
      "Val:  99%|█████████▉| 85/86 [03:21<00:02,  2.51s/it, eval_loss=0.0972, gpu_mem=6.91 GB]"
     ]
    },
    {
     "name": "stderr",
     "output_type": "stream",
     "text": [
      "\r",
      "Val: 100%|██████████| 86/86 [03:21<00:00,  1.98s/it, eval_loss=0.0972, gpu_mem=6.91 GB]"
     ]
    },
    {
     "name": "stderr",
     "output_type": "stream",
     "text": [
      "\r",
      "Val: 100%|██████████| 86/86 [03:21<00:00,  2.35s/it, eval_loss=0.0972, gpu_mem=6.91 GB]"
     ]
    },
    {
     "name": "stderr",
     "output_type": "stream",
     "text": [
      "\n",
      "Valid loss:0.0972\n"
     ]
    },
    {
     "name": "stderr",
     "output_type": "stream",
     "text": [
      "Val metric mean prob: 0.1867\n"
     ]
    },
    {
     "name": "stderr",
     "output_type": "stream",
     "text": [
      "Best metric at: 0.5111 0.3630  0.7308\n"
     ]
    },
    {
     "name": "stderr",
     "output_type": "stream",
     "text": [
      "Cf: [[2315   18]\n",
      " [  26   23]]\n"
     ]
    },
    {
     "name": "stderr",
     "output_type": "stream",
     "text": [
      "\u001b[32m[I 2023-02-15 04:50:04,229]\u001b[0m Trial 14 finished with value: 0.5111111111111111 and parameters: {'a1': 0.851309131334359}. Best is trial 0 with value: 0.5111111111111111.\u001b[0m\n"
     ]
    },
    {
     "name": "stdout",
     "output_type": "stream",
     "text": [
      "/kaggle/input/10folds/tf_efficientnetv2_b2_fold_1_model_epoch_3_0.5055_0.360.pth\n",
      "none:  /kaggle/input/10folds/tf_efficientnetv2_b2_fold_1_model_epoch_3_0.5055_0.360.pth\n",
      "/kaggle/input/10folds/tf_efficientnetv2_b2_fold_1_model_epoch_5_0.4865_0.324.pth\n",
      "hehe /kaggle/input/10folds/tf_efficientnetv2_b2_fold_1_model_epoch_5_0.4865_0.324.pth\n",
      "0.6094919114782724 0.3905080885217276\n",
      "\n"
     ]
    },
    {
     "name": "stderr",
     "output_type": "stream",
     "text": [
      "\r",
      "Val:   0%|          | 0/86 [00:00<?, ?it/s]"
     ]
    },
    {
     "name": "stderr",
     "output_type": "stream",
     "text": [
      "\r",
      "Val:   0%|          | 0/86 [00:04<?, ?it/s, eval_loss=0.0552, gpu_mem=6.91 GB]"
     ]
    },
    {
     "name": "stderr",
     "output_type": "stream",
     "text": [
      "\r",
      "Val:   1%|          | 1/86 [00:04<06:54,  4.88s/it, eval_loss=0.0552, gpu_mem=6.91 GB]"
     ]
    },
    {
     "name": "stderr",
     "output_type": "stream",
     "text": [
      "\r",
      "Val:   1%|          | 1/86 [00:07<06:54,  4.88s/it, eval_loss=0.0431, gpu_mem=6.91 GB]"
     ]
    },
    {
     "name": "stderr",
     "output_type": "stream",
     "text": [
      "\r",
      "Val:   2%|▏         | 2/86 [00:07<05:10,  3.70s/it, eval_loss=0.0431, gpu_mem=6.91 GB]"
     ]
    },
    {
     "name": "stderr",
     "output_type": "stream",
     "text": [
      "\r",
      "Val:   2%|▏         | 2/86 [00:10<05:10,  3.70s/it, eval_loss=0.0889, gpu_mem=6.91 GB]"
     ]
    },
    {
     "name": "stderr",
     "output_type": "stream",
     "text": [
      "\r",
      "Val:   3%|▎         | 3/86 [00:10<04:24,  3.19s/it, eval_loss=0.0889, gpu_mem=6.91 GB]"
     ]
    },
    {
     "name": "stderr",
     "output_type": "stream",
     "text": [
      "\r",
      "Val:   3%|▎         | 3/86 [00:12<04:24,  3.19s/it, eval_loss=0.0997, gpu_mem=6.91 GB]"
     ]
    },
    {
     "name": "stderr",
     "output_type": "stream",
     "text": [
      "\r",
      "Val:   5%|▍         | 4/86 [00:12<03:56,  2.88s/it, eval_loss=0.0997, gpu_mem=6.91 GB]"
     ]
    },
    {
     "name": "stderr",
     "output_type": "stream",
     "text": [
      "\r",
      "Val:   5%|▍         | 4/86 [00:15<03:56,  2.88s/it, eval_loss=0.0955, gpu_mem=6.91 GB]"
     ]
    },
    {
     "name": "stderr",
     "output_type": "stream",
     "text": [
      "\r",
      "Val:   6%|▌         | 5/86 [00:15<03:42,  2.75s/it, eval_loss=0.0955, gpu_mem=6.91 GB]"
     ]
    },
    {
     "name": "stderr",
     "output_type": "stream",
     "text": [
      "\r",
      "Val:   6%|▌         | 5/86 [00:17<03:42,  2.75s/it, eval_loss=0.0924, gpu_mem=6.91 GB]"
     ]
    },
    {
     "name": "stderr",
     "output_type": "stream",
     "text": [
      "\r",
      "Val:   7%|▋         | 6/86 [00:17<03:27,  2.60s/it, eval_loss=0.0924, gpu_mem=6.91 GB]"
     ]
    },
    {
     "name": "stderr",
     "output_type": "stream",
     "text": [
      "\r",
      "Val:   7%|▋         | 6/86 [00:19<03:27,  2.60s/it, eval_loss=0.0847, gpu_mem=6.91 GB]"
     ]
    },
    {
     "name": "stderr",
     "output_type": "stream",
     "text": [
      "\r",
      "Val:   8%|▊         | 7/86 [00:19<03:17,  2.51s/it, eval_loss=0.0847, gpu_mem=6.91 GB]"
     ]
    },
    {
     "name": "stderr",
     "output_type": "stream",
     "text": [
      "\r",
      "Val:   8%|▊         | 7/86 [00:22<03:17,  2.51s/it, eval_loss=0.0818, gpu_mem=6.91 GB]"
     ]
    },
    {
     "name": "stderr",
     "output_type": "stream",
     "text": [
      "\r",
      "Val:   9%|▉         | 8/86 [00:22<03:12,  2.47s/it, eval_loss=0.0818, gpu_mem=6.91 GB]"
     ]
    },
    {
     "name": "stderr",
     "output_type": "stream",
     "text": [
      "\r",
      "Val:   9%|▉         | 8/86 [00:24<03:12,  2.47s/it, eval_loss=0.0801, gpu_mem=6.91 GB]"
     ]
    },
    {
     "name": "stderr",
     "output_type": "stream",
     "text": [
      "\r",
      "Val:  10%|█         | 9/86 [00:24<03:14,  2.53s/it, eval_loss=0.0801, gpu_mem=6.91 GB]"
     ]
    },
    {
     "name": "stderr",
     "output_type": "stream",
     "text": [
      "\r",
      "Val:  10%|█         | 9/86 [00:27<03:14,  2.53s/it, eval_loss=0.0871, gpu_mem=6.91 GB]"
     ]
    },
    {
     "name": "stderr",
     "output_type": "stream",
     "text": [
      "\r",
      "Val:  12%|█▏        | 10/86 [00:27<03:20,  2.64s/it, eval_loss=0.0871, gpu_mem=6.91 GB]"
     ]
    },
    {
     "name": "stderr",
     "output_type": "stream",
     "text": [
      "\r",
      "Val:  12%|█▏        | 10/86 [00:30<03:20,  2.64s/it, eval_loss=0.0842, gpu_mem=6.91 GB]"
     ]
    },
    {
     "name": "stderr",
     "output_type": "stream",
     "text": [
      "\r",
      "Val:  13%|█▎        | 11/86 [00:30<03:10,  2.54s/it, eval_loss=0.0842, gpu_mem=6.91 GB]"
     ]
    },
    {
     "name": "stderr",
     "output_type": "stream",
     "text": [
      "\r",
      "Val:  13%|█▎        | 11/86 [00:32<03:10,  2.54s/it, eval_loss=0.0844, gpu_mem=6.91 GB]"
     ]
    },
    {
     "name": "stderr",
     "output_type": "stream",
     "text": [
      "\r",
      "Val:  14%|█▍        | 12/86 [00:32<03:02,  2.46s/it, eval_loss=0.0844, gpu_mem=6.91 GB]"
     ]
    },
    {
     "name": "stderr",
     "output_type": "stream",
     "text": [
      "\r",
      "Val:  14%|█▍        | 12/86 [00:34<03:02,  2.46s/it, eval_loss=0.0865, gpu_mem=6.91 GB]"
     ]
    },
    {
     "name": "stderr",
     "output_type": "stream",
     "text": [
      "\r",
      "Val:  15%|█▌        | 13/86 [00:34<02:55,  2.40s/it, eval_loss=0.0865, gpu_mem=6.91 GB]"
     ]
    },
    {
     "name": "stderr",
     "output_type": "stream",
     "text": [
      "\r",
      "Val:  15%|█▌        | 13/86 [00:37<02:55,  2.40s/it, eval_loss=0.0828, gpu_mem=6.91 GB]"
     ]
    },
    {
     "name": "stderr",
     "output_type": "stream",
     "text": [
      "\r",
      "Val:  16%|█▋        | 14/86 [00:37<02:54,  2.42s/it, eval_loss=0.0828, gpu_mem=6.91 GB]"
     ]
    },
    {
     "name": "stderr",
     "output_type": "stream",
     "text": [
      "\r",
      "Val:  16%|█▋        | 14/86 [00:39<02:54,  2.42s/it, eval_loss=0.0800, gpu_mem=6.91 GB]"
     ]
    },
    {
     "name": "stderr",
     "output_type": "stream",
     "text": [
      "\r",
      "Val:  17%|█▋        | 15/86 [00:39<02:49,  2.39s/it, eval_loss=0.0800, gpu_mem=6.91 GB]"
     ]
    },
    {
     "name": "stderr",
     "output_type": "stream",
     "text": [
      "\r",
      "Val:  17%|█▋        | 15/86 [00:41<02:49,  2.39s/it, eval_loss=0.0781, gpu_mem=6.91 GB]"
     ]
    },
    {
     "name": "stderr",
     "output_type": "stream",
     "text": [
      "\r",
      "Val:  19%|█▊        | 16/86 [00:41<02:46,  2.38s/it, eval_loss=0.0781, gpu_mem=6.91 GB]"
     ]
    },
    {
     "name": "stderr",
     "output_type": "stream",
     "text": [
      "\r",
      "Val:  19%|█▊        | 16/86 [00:44<02:46,  2.38s/it, eval_loss=0.0782, gpu_mem=6.91 GB]"
     ]
    },
    {
     "name": "stderr",
     "output_type": "stream",
     "text": [
      "\r",
      "Val:  20%|█▉        | 17/86 [00:44<02:43,  2.36s/it, eval_loss=0.0782, gpu_mem=6.91 GB]"
     ]
    },
    {
     "name": "stderr",
     "output_type": "stream",
     "text": [
      "\r",
      "Val:  20%|█▉        | 17/86 [00:46<02:43,  2.36s/it, eval_loss=0.0777, gpu_mem=6.91 GB]"
     ]
    },
    {
     "name": "stderr",
     "output_type": "stream",
     "text": [
      "\r",
      "Val:  21%|██        | 18/86 [00:46<02:39,  2.34s/it, eval_loss=0.0777, gpu_mem=6.91 GB]"
     ]
    },
    {
     "name": "stderr",
     "output_type": "stream",
     "text": [
      "\r",
      "Val:  21%|██        | 18/86 [00:48<02:39,  2.34s/it, eval_loss=0.0779, gpu_mem=6.91 GB]"
     ]
    },
    {
     "name": "stderr",
     "output_type": "stream",
     "text": [
      "\r",
      "Val:  22%|██▏       | 19/86 [00:48<02:40,  2.40s/it, eval_loss=0.0779, gpu_mem=6.91 GB]"
     ]
    },
    {
     "name": "stderr",
     "output_type": "stream",
     "text": [
      "\r",
      "Val:  22%|██▏       | 19/86 [00:51<02:40,  2.40s/it, eval_loss=0.0785, gpu_mem=6.91 GB]"
     ]
    },
    {
     "name": "stderr",
     "output_type": "stream",
     "text": [
      "\r",
      "Val:  23%|██▎       | 20/86 [00:51<02:36,  2.36s/it, eval_loss=0.0785, gpu_mem=6.91 GB]"
     ]
    },
    {
     "name": "stderr",
     "output_type": "stream",
     "text": [
      "\r",
      "Val:  23%|██▎       | 20/86 [00:53<02:36,  2.36s/it, eval_loss=0.0771, gpu_mem=6.91 GB]"
     ]
    },
    {
     "name": "stderr",
     "output_type": "stream",
     "text": [
      "\r",
      "Val:  24%|██▍       | 21/86 [00:53<02:32,  2.35s/it, eval_loss=0.0771, gpu_mem=6.91 GB]"
     ]
    },
    {
     "name": "stderr",
     "output_type": "stream",
     "text": [
      "\r",
      "Val:  24%|██▍       | 21/86 [00:55<02:32,  2.35s/it, eval_loss=0.0804, gpu_mem=6.91 GB]"
     ]
    },
    {
     "name": "stderr",
     "output_type": "stream",
     "text": [
      "\r",
      "Val:  26%|██▌       | 22/86 [00:55<02:29,  2.34s/it, eval_loss=0.0804, gpu_mem=6.91 GB]"
     ]
    },
    {
     "name": "stderr",
     "output_type": "stream",
     "text": [
      "\r",
      "Val:  26%|██▌       | 22/86 [00:58<02:29,  2.34s/it, eval_loss=0.0844, gpu_mem=6.91 GB]"
     ]
    },
    {
     "name": "stderr",
     "output_type": "stream",
     "text": [
      "\r",
      "Val:  27%|██▋       | 23/86 [00:58<02:39,  2.54s/it, eval_loss=0.0844, gpu_mem=6.91 GB]"
     ]
    },
    {
     "name": "stderr",
     "output_type": "stream",
     "text": [
      "\r",
      "Val:  27%|██▋       | 23/86 [01:01<02:39,  2.54s/it, eval_loss=0.0839, gpu_mem=6.91 GB]"
     ]
    },
    {
     "name": "stderr",
     "output_type": "stream",
     "text": [
      "\r",
      "Val:  28%|██▊       | 24/86 [01:01<02:34,  2.49s/it, eval_loss=0.0839, gpu_mem=6.91 GB]"
     ]
    },
    {
     "name": "stderr",
     "output_type": "stream",
     "text": [
      "\r",
      "Val:  28%|██▊       | 24/86 [01:03<02:34,  2.49s/it, eval_loss=0.0837, gpu_mem=6.91 GB]"
     ]
    },
    {
     "name": "stderr",
     "output_type": "stream",
     "text": [
      "\r",
      "Val:  29%|██▉       | 25/86 [01:03<02:28,  2.43s/it, eval_loss=0.0837, gpu_mem=6.91 GB]"
     ]
    },
    {
     "name": "stderr",
     "output_type": "stream",
     "text": [
      "\r",
      "Val:  29%|██▉       | 25/86 [01:05<02:28,  2.43s/it, eval_loss=0.0816, gpu_mem=6.91 GB]"
     ]
    },
    {
     "name": "stderr",
     "output_type": "stream",
     "text": [
      "\r",
      "Val:  30%|███       | 26/86 [01:05<02:24,  2.41s/it, eval_loss=0.0816, gpu_mem=6.91 GB]"
     ]
    },
    {
     "name": "stderr",
     "output_type": "stream",
     "text": [
      "\r",
      "Val:  30%|███       | 26/86 [01:08<02:24,  2.41s/it, eval_loss=0.0853, gpu_mem=6.91 GB]"
     ]
    },
    {
     "name": "stderr",
     "output_type": "stream",
     "text": [
      "\r",
      "Val:  31%|███▏      | 27/86 [01:08<02:21,  2.40s/it, eval_loss=0.0853, gpu_mem=6.91 GB]"
     ]
    },
    {
     "name": "stderr",
     "output_type": "stream",
     "text": [
      "\r",
      "Val:  31%|███▏      | 27/86 [01:11<02:21,  2.40s/it, eval_loss=0.0848, gpu_mem=6.91 GB]"
     ]
    },
    {
     "name": "stderr",
     "output_type": "stream",
     "text": [
      "\r",
      "Val:  33%|███▎      | 28/86 [01:11<02:25,  2.51s/it, eval_loss=0.0848, gpu_mem=6.91 GB]"
     ]
    },
    {
     "name": "stderr",
     "output_type": "stream",
     "text": [
      "\r",
      "Val:  33%|███▎      | 28/86 [01:13<02:25,  2.51s/it, eval_loss=0.0838, gpu_mem=6.91 GB]"
     ]
    },
    {
     "name": "stderr",
     "output_type": "stream",
     "text": [
      "\r",
      "Val:  34%|███▎      | 29/86 [01:13<02:21,  2.48s/it, eval_loss=0.0838, gpu_mem=6.91 GB]"
     ]
    },
    {
     "name": "stderr",
     "output_type": "stream",
     "text": [
      "\r",
      "Val:  34%|███▎      | 29/86 [01:15<02:21,  2.48s/it, eval_loss=0.0838, gpu_mem=6.91 GB]"
     ]
    },
    {
     "name": "stderr",
     "output_type": "stream",
     "text": [
      "\r",
      "Val:  35%|███▍      | 30/86 [01:15<02:16,  2.43s/it, eval_loss=0.0838, gpu_mem=6.91 GB]"
     ]
    },
    {
     "name": "stderr",
     "output_type": "stream",
     "text": [
      "\r",
      "Val:  35%|███▍      | 30/86 [01:18<02:16,  2.43s/it, eval_loss=0.0830, gpu_mem=6.91 GB]"
     ]
    },
    {
     "name": "stderr",
     "output_type": "stream",
     "text": [
      "\r",
      "Val:  36%|███▌      | 31/86 [01:18<02:11,  2.39s/it, eval_loss=0.0830, gpu_mem=6.91 GB]"
     ]
    },
    {
     "name": "stderr",
     "output_type": "stream",
     "text": [
      "\r",
      "Val:  36%|███▌      | 31/86 [01:20<02:11,  2.39s/it, eval_loss=0.0905, gpu_mem=6.91 GB]"
     ]
    },
    {
     "name": "stderr",
     "output_type": "stream",
     "text": [
      "\r",
      "Val:  37%|███▋      | 32/86 [01:20<02:13,  2.47s/it, eval_loss=0.0905, gpu_mem=6.91 GB]"
     ]
    },
    {
     "name": "stderr",
     "output_type": "stream",
     "text": [
      "\r",
      "Val:  37%|███▋      | 32/86 [01:23<02:13,  2.47s/it, eval_loss=0.0886, gpu_mem=6.91 GB]"
     ]
    },
    {
     "name": "stderr",
     "output_type": "stream",
     "text": [
      "\r",
      "Val:  38%|███▊      | 33/86 [01:23<02:08,  2.42s/it, eval_loss=0.0886, gpu_mem=6.91 GB]"
     ]
    },
    {
     "name": "stderr",
     "output_type": "stream",
     "text": [
      "\r",
      "Val:  38%|███▊      | 33/86 [01:25<02:08,  2.42s/it, eval_loss=0.0899, gpu_mem=6.91 GB]"
     ]
    },
    {
     "name": "stderr",
     "output_type": "stream",
     "text": [
      "\r",
      "Val:  40%|███▉      | 34/86 [01:25<02:03,  2.38s/it, eval_loss=0.0899, gpu_mem=6.91 GB]"
     ]
    },
    {
     "name": "stderr",
     "output_type": "stream",
     "text": [
      "\r",
      "Val:  40%|███▉      | 34/86 [01:27<02:03,  2.38s/it, eval_loss=0.0889, gpu_mem=6.91 GB]"
     ]
    },
    {
     "name": "stderr",
     "output_type": "stream",
     "text": [
      "\r",
      "Val:  41%|████      | 35/86 [01:27<02:00,  2.36s/it, eval_loss=0.0889, gpu_mem=6.91 GB]"
     ]
    },
    {
     "name": "stderr",
     "output_type": "stream",
     "text": [
      "\r",
      "Val:  41%|████      | 35/86 [01:30<02:00,  2.36s/it, eval_loss=0.0875, gpu_mem=6.91 GB]"
     ]
    },
    {
     "name": "stderr",
     "output_type": "stream",
     "text": [
      "\r",
      "Val:  42%|████▏     | 36/86 [01:30<02:04,  2.50s/it, eval_loss=0.0875, gpu_mem=6.91 GB]"
     ]
    },
    {
     "name": "stderr",
     "output_type": "stream",
     "text": [
      "\r",
      "Val:  42%|████▏     | 36/86 [01:33<02:04,  2.50s/it, eval_loss=0.0881, gpu_mem=6.91 GB]"
     ]
    },
    {
     "name": "stderr",
     "output_type": "stream",
     "text": [
      "\r",
      "Val:  43%|████▎     | 37/86 [01:33<02:04,  2.54s/it, eval_loss=0.0881, gpu_mem=6.91 GB]"
     ]
    },
    {
     "name": "stderr",
     "output_type": "stream",
     "text": [
      "\r",
      "Val:  43%|████▎     | 37/86 [01:35<02:04,  2.54s/it, eval_loss=0.0879, gpu_mem=6.91 GB]"
     ]
    },
    {
     "name": "stderr",
     "output_type": "stream",
     "text": [
      "\r",
      "Val:  44%|████▍     | 38/86 [01:35<01:58,  2.46s/it, eval_loss=0.0879, gpu_mem=6.91 GB]"
     ]
    },
    {
     "name": "stderr",
     "output_type": "stream",
     "text": [
      "\r",
      "Val:  44%|████▍     | 38/86 [01:37<01:58,  2.46s/it, eval_loss=0.0865, gpu_mem=6.91 GB]"
     ]
    },
    {
     "name": "stderr",
     "output_type": "stream",
     "text": [
      "\r",
      "Val:  45%|████▌     | 39/86 [01:37<01:54,  2.43s/it, eval_loss=0.0865, gpu_mem=6.91 GB]"
     ]
    },
    {
     "name": "stderr",
     "output_type": "stream",
     "text": [
      "\r",
      "Val:  45%|████▌     | 39/86 [01:40<01:54,  2.43s/it, eval_loss=0.0864, gpu_mem=6.91 GB]"
     ]
    },
    {
     "name": "stderr",
     "output_type": "stream",
     "text": [
      "\r",
      "Val:  47%|████▋     | 40/86 [01:40<01:50,  2.40s/it, eval_loss=0.0864, gpu_mem=6.91 GB]"
     ]
    },
    {
     "name": "stderr",
     "output_type": "stream",
     "text": [
      "\r",
      "Val:  47%|████▋     | 40/86 [01:42<01:50,  2.40s/it, eval_loss=0.0859, gpu_mem=6.91 GB]"
     ]
    },
    {
     "name": "stderr",
     "output_type": "stream",
     "text": [
      "\r",
      "Val:  48%|████▊     | 41/86 [01:42<01:49,  2.44s/it, eval_loss=0.0859, gpu_mem=6.91 GB]"
     ]
    },
    {
     "name": "stderr",
     "output_type": "stream",
     "text": [
      "\r",
      "Val:  48%|████▊     | 41/86 [01:45<01:49,  2.44s/it, eval_loss=0.0854, gpu_mem=6.91 GB]"
     ]
    },
    {
     "name": "stderr",
     "output_type": "stream",
     "text": [
      "\r",
      "Val:  49%|████▉     | 42/86 [01:45<01:49,  2.48s/it, eval_loss=0.0854, gpu_mem=6.91 GB]"
     ]
    },
    {
     "name": "stderr",
     "output_type": "stream",
     "text": [
      "\r",
      "Val:  49%|████▉     | 42/86 [01:47<01:49,  2.48s/it, eval_loss=0.0845, gpu_mem=6.91 GB]"
     ]
    },
    {
     "name": "stderr",
     "output_type": "stream",
     "text": [
      "\r",
      "Val:  50%|█████     | 43/86 [01:47<01:44,  2.43s/it, eval_loss=0.0845, gpu_mem=6.91 GB]"
     ]
    },
    {
     "name": "stderr",
     "output_type": "stream",
     "text": [
      "\r",
      "Val:  50%|█████     | 43/86 [01:49<01:44,  2.43s/it, eval_loss=0.0877, gpu_mem=6.91 GB]"
     ]
    },
    {
     "name": "stderr",
     "output_type": "stream",
     "text": [
      "\r",
      "Val:  51%|█████     | 44/86 [01:49<01:41,  2.41s/it, eval_loss=0.0877, gpu_mem=6.91 GB]"
     ]
    },
    {
     "name": "stderr",
     "output_type": "stream",
     "text": [
      "\r",
      "Val:  51%|█████     | 44/86 [01:52<01:41,  2.41s/it, eval_loss=0.0864, gpu_mem=6.91 GB]"
     ]
    },
    {
     "name": "stderr",
     "output_type": "stream",
     "text": [
      "\r",
      "Val:  52%|█████▏    | 45/86 [01:52<01:38,  2.39s/it, eval_loss=0.0864, gpu_mem=6.91 GB]"
     ]
    },
    {
     "name": "stderr",
     "output_type": "stream",
     "text": [
      "\r",
      "Val:  52%|█████▏    | 45/86 [01:54<01:38,  2.39s/it, eval_loss=0.0863, gpu_mem=6.91 GB]"
     ]
    },
    {
     "name": "stderr",
     "output_type": "stream",
     "text": [
      "\r",
      "Val:  53%|█████▎    | 46/86 [01:54<01:37,  2.43s/it, eval_loss=0.0863, gpu_mem=6.91 GB]"
     ]
    },
    {
     "name": "stderr",
     "output_type": "stream",
     "text": [
      "\r",
      "Val:  53%|█████▎    | 46/86 [01:57<01:37,  2.43s/it, eval_loss=0.0856, gpu_mem=6.91 GB]"
     ]
    },
    {
     "name": "stderr",
     "output_type": "stream",
     "text": [
      "\r",
      "Val:  55%|█████▍    | 47/86 [01:57<01:33,  2.40s/it, eval_loss=0.0856, gpu_mem=6.91 GB]"
     ]
    },
    {
     "name": "stderr",
     "output_type": "stream",
     "text": [
      "\r",
      "Val:  55%|█████▍    | 47/86 [01:59<01:33,  2.40s/it, eval_loss=0.0874, gpu_mem=6.91 GB]"
     ]
    },
    {
     "name": "stderr",
     "output_type": "stream",
     "text": [
      "\r",
      "Val:  56%|█████▌    | 48/86 [01:59<01:30,  2.38s/it, eval_loss=0.0874, gpu_mem=6.91 GB]"
     ]
    },
    {
     "name": "stderr",
     "output_type": "stream",
     "text": [
      "\r",
      "Val:  56%|█████▌    | 48/86 [02:02<01:30,  2.38s/it, eval_loss=0.0869, gpu_mem=6.91 GB]"
     ]
    },
    {
     "name": "stderr",
     "output_type": "stream",
     "text": [
      "\r",
      "Val:  57%|█████▋    | 49/86 [02:02<01:32,  2.51s/it, eval_loss=0.0869, gpu_mem=6.91 GB]"
     ]
    },
    {
     "name": "stderr",
     "output_type": "stream",
     "text": [
      "\r",
      "Val:  57%|█████▋    | 49/86 [02:04<01:32,  2.51s/it, eval_loss=0.0866, gpu_mem=6.91 GB]"
     ]
    },
    {
     "name": "stderr",
     "output_type": "stream",
     "text": [
      "\r",
      "Val:  58%|█████▊    | 50/86 [02:04<01:30,  2.52s/it, eval_loss=0.0866, gpu_mem=6.91 GB]"
     ]
    },
    {
     "name": "stderr",
     "output_type": "stream",
     "text": [
      "\r",
      "Val:  58%|█████▊    | 50/86 [02:07<01:30,  2.52s/it, eval_loss=0.0895, gpu_mem=6.91 GB]"
     ]
    },
    {
     "name": "stderr",
     "output_type": "stream",
     "text": [
      "\r",
      "Val:  59%|█████▉    | 51/86 [02:07<01:27,  2.49s/it, eval_loss=0.0895, gpu_mem=6.91 GB]"
     ]
    },
    {
     "name": "stderr",
     "output_type": "stream",
     "text": [
      "\r",
      "Val:  59%|█████▉    | 51/86 [02:09<01:27,  2.49s/it, eval_loss=0.0909, gpu_mem=6.91 GB]"
     ]
    },
    {
     "name": "stderr",
     "output_type": "stream",
     "text": [
      "\r",
      "Val:  60%|██████    | 52/86 [02:09<01:22,  2.44s/it, eval_loss=0.0909, gpu_mem=6.91 GB]"
     ]
    },
    {
     "name": "stderr",
     "output_type": "stream",
     "text": [
      "\r",
      "Val:  60%|██████    | 52/86 [02:11<01:22,  2.44s/it, eval_loss=0.0922, gpu_mem=6.91 GB]"
     ]
    },
    {
     "name": "stderr",
     "output_type": "stream",
     "text": [
      "\r",
      "Val:  62%|██████▏   | 53/86 [02:11<01:19,  2.39s/it, eval_loss=0.0922, gpu_mem=6.91 GB]"
     ]
    },
    {
     "name": "stderr",
     "output_type": "stream",
     "text": [
      "\r",
      "Val:  62%|██████▏   | 53/86 [02:14<01:19,  2.39s/it, eval_loss=0.0915, gpu_mem=6.91 GB]"
     ]
    },
    {
     "name": "stderr",
     "output_type": "stream",
     "text": [
      "\r",
      "Val:  63%|██████▎   | 54/86 [02:14<01:15,  2.37s/it, eval_loss=0.0915, gpu_mem=6.91 GB]"
     ]
    },
    {
     "name": "stderr",
     "output_type": "stream",
     "text": [
      "\r",
      "Val:  63%|██████▎   | 54/86 [02:16<01:15,  2.37s/it, eval_loss=0.0922, gpu_mem=6.91 GB]"
     ]
    },
    {
     "name": "stderr",
     "output_type": "stream",
     "text": [
      "\r",
      "Val:  64%|██████▍   | 55/86 [02:16<01:16,  2.46s/it, eval_loss=0.0922, gpu_mem=6.91 GB]"
     ]
    },
    {
     "name": "stderr",
     "output_type": "stream",
     "text": [
      "\r",
      "Val:  64%|██████▍   | 55/86 [02:19<01:16,  2.46s/it, eval_loss=0.0918, gpu_mem=6.91 GB]"
     ]
    },
    {
     "name": "stderr",
     "output_type": "stream",
     "text": [
      "\r",
      "Val:  65%|██████▌   | 56/86 [02:19<01:12,  2.41s/it, eval_loss=0.0918, gpu_mem=6.91 GB]"
     ]
    },
    {
     "name": "stderr",
     "output_type": "stream",
     "text": [
      "\r",
      "Val:  65%|██████▌   | 56/86 [02:21<01:12,  2.41s/it, eval_loss=0.0917, gpu_mem=6.91 GB]"
     ]
    },
    {
     "name": "stderr",
     "output_type": "stream",
     "text": [
      "\r",
      "Val:  66%|██████▋   | 57/86 [02:21<01:09,  2.39s/it, eval_loss=0.0917, gpu_mem=6.91 GB]"
     ]
    },
    {
     "name": "stderr",
     "output_type": "stream",
     "text": [
      "\r",
      "Val:  66%|██████▋   | 57/86 [02:23<01:09,  2.39s/it, eval_loss=0.0940, gpu_mem=6.91 GB]"
     ]
    },
    {
     "name": "stderr",
     "output_type": "stream",
     "text": [
      "\r",
      "Val:  67%|██████▋   | 58/86 [02:23<01:06,  2.37s/it, eval_loss=0.0940, gpu_mem=6.91 GB]"
     ]
    },
    {
     "name": "stderr",
     "output_type": "stream",
     "text": [
      "\r",
      "Val:  67%|██████▋   | 58/86 [02:26<01:06,  2.37s/it, eval_loss=0.0935, gpu_mem=6.91 GB]"
     ]
    },
    {
     "name": "stderr",
     "output_type": "stream",
     "text": [
      "\r",
      "Val:  69%|██████▊   | 59/86 [02:26<01:03,  2.37s/it, eval_loss=0.0935, gpu_mem=6.91 GB]"
     ]
    },
    {
     "name": "stderr",
     "output_type": "stream",
     "text": [
      "\r",
      "Val:  69%|██████▊   | 59/86 [02:28<01:03,  2.37s/it, eval_loss=0.0953, gpu_mem=6.91 GB]"
     ]
    },
    {
     "name": "stderr",
     "output_type": "stream",
     "text": [
      "\r",
      "Val:  70%|██████▉   | 60/86 [02:28<01:02,  2.42s/it, eval_loss=0.0953, gpu_mem=6.91 GB]"
     ]
    },
    {
     "name": "stderr",
     "output_type": "stream",
     "text": [
      "\r",
      "Val:  70%|██████▉   | 60/86 [02:30<01:02,  2.42s/it, eval_loss=0.0947, gpu_mem=6.91 GB]"
     ]
    },
    {
     "name": "stderr",
     "output_type": "stream",
     "text": [
      "\r",
      "Val:  71%|███████   | 61/86 [02:30<00:59,  2.38s/it, eval_loss=0.0947, gpu_mem=6.91 GB]"
     ]
    },
    {
     "name": "stderr",
     "output_type": "stream",
     "text": [
      "\r",
      "Val:  71%|███████   | 61/86 [02:33<00:59,  2.38s/it, eval_loss=0.0943, gpu_mem=6.91 GB]"
     ]
    },
    {
     "name": "stderr",
     "output_type": "stream",
     "text": [
      "\r",
      "Val:  72%|███████▏  | 62/86 [02:33<01:00,  2.50s/it, eval_loss=0.0943, gpu_mem=6.91 GB]"
     ]
    },
    {
     "name": "stderr",
     "output_type": "stream",
     "text": [
      "\r",
      "Val:  72%|███████▏  | 62/86 [02:35<01:00,  2.50s/it, eval_loss=0.0942, gpu_mem=6.91 GB]"
     ]
    },
    {
     "name": "stderr",
     "output_type": "stream",
     "text": [
      "\r",
      "Val:  73%|███████▎  | 63/86 [02:36<00:56,  2.45s/it, eval_loss=0.0942, gpu_mem=6.91 GB]"
     ]
    },
    {
     "name": "stderr",
     "output_type": "stream",
     "text": [
      "\r",
      "Val:  73%|███████▎  | 63/86 [02:38<00:56,  2.45s/it, eval_loss=0.0941, gpu_mem=6.91 GB]"
     ]
    },
    {
     "name": "stderr",
     "output_type": "stream",
     "text": [
      "\r",
      "Val:  74%|███████▍  | 64/86 [02:38<00:54,  2.48s/it, eval_loss=0.0941, gpu_mem=6.91 GB]"
     ]
    },
    {
     "name": "stderr",
     "output_type": "stream",
     "text": [
      "\r",
      "Val:  74%|███████▍  | 64/86 [02:40<00:54,  2.48s/it, eval_loss=0.0932, gpu_mem=6.91 GB]"
     ]
    },
    {
     "name": "stderr",
     "output_type": "stream",
     "text": [
      "\r",
      "Val:  76%|███████▌  | 65/86 [02:40<00:51,  2.43s/it, eval_loss=0.0932, gpu_mem=6.91 GB]"
     ]
    },
    {
     "name": "stderr",
     "output_type": "stream",
     "text": [
      "\r",
      "Val:  76%|███████▌  | 65/86 [02:43<00:51,  2.43s/it, eval_loss=0.0950, gpu_mem=6.91 GB]"
     ]
    },
    {
     "name": "stderr",
     "output_type": "stream",
     "text": [
      "\r",
      "Val:  77%|███████▋  | 66/86 [02:43<00:48,  2.45s/it, eval_loss=0.0950, gpu_mem=6.91 GB]"
     ]
    },
    {
     "name": "stderr",
     "output_type": "stream",
     "text": [
      "\r",
      "Val:  77%|███████▋  | 66/86 [02:45<00:48,  2.45s/it, eval_loss=0.0942, gpu_mem=6.91 GB]"
     ]
    },
    {
     "name": "stderr",
     "output_type": "stream",
     "text": [
      "\r",
      "Val:  78%|███████▊  | 67/86 [02:45<00:46,  2.46s/it, eval_loss=0.0942, gpu_mem=6.91 GB]"
     ]
    },
    {
     "name": "stderr",
     "output_type": "stream",
     "text": [
      "\r",
      "Val:  78%|███████▊  | 67/86 [02:48<00:46,  2.46s/it, eval_loss=0.0966, gpu_mem=6.91 GB]"
     ]
    },
    {
     "name": "stderr",
     "output_type": "stream",
     "text": [
      "\r",
      "Val:  79%|███████▉  | 68/86 [02:48<00:44,  2.49s/it, eval_loss=0.0966, gpu_mem=6.91 GB]"
     ]
    },
    {
     "name": "stderr",
     "output_type": "stream",
     "text": [
      "\r",
      "Val:  79%|███████▉  | 68/86 [02:50<00:44,  2.49s/it, eval_loss=0.0967, gpu_mem=6.91 GB]"
     ]
    },
    {
     "name": "stderr",
     "output_type": "stream",
     "text": [
      "\r",
      "Val:  80%|████████  | 69/86 [02:50<00:42,  2.49s/it, eval_loss=0.0967, gpu_mem=6.91 GB]"
     ]
    },
    {
     "name": "stderr",
     "output_type": "stream",
     "text": [
      "\r",
      "Val:  80%|████████  | 69/86 [02:53<00:42,  2.49s/it, eval_loss=0.0964, gpu_mem=6.91 GB]"
     ]
    },
    {
     "name": "stderr",
     "output_type": "stream",
     "text": [
      "\r",
      "Val:  81%|████████▏ | 70/86 [02:53<00:39,  2.44s/it, eval_loss=0.0964, gpu_mem=6.91 GB]"
     ]
    },
    {
     "name": "stderr",
     "output_type": "stream",
     "text": [
      "\r",
      "Val:  81%|████████▏ | 70/86 [02:55<00:39,  2.44s/it, eval_loss=0.0971, gpu_mem=6.91 GB]"
     ]
    },
    {
     "name": "stderr",
     "output_type": "stream",
     "text": [
      "\r",
      "Val:  83%|████████▎ | 71/86 [02:55<00:36,  2.40s/it, eval_loss=0.0971, gpu_mem=6.91 GB]"
     ]
    },
    {
     "name": "stderr",
     "output_type": "stream",
     "text": [
      "\r",
      "Val:  83%|████████▎ | 71/86 [02:57<00:36,  2.40s/it, eval_loss=0.0967, gpu_mem=6.91 GB]"
     ]
    },
    {
     "name": "stderr",
     "output_type": "stream",
     "text": [
      "\r",
      "Val:  84%|████████▎ | 72/86 [02:57<00:33,  2.39s/it, eval_loss=0.0967, gpu_mem=6.91 GB]"
     ]
    },
    {
     "name": "stderr",
     "output_type": "stream",
     "text": [
      "\r",
      "Val:  84%|████████▎ | 72/86 [03:00<00:33,  2.39s/it, eval_loss=0.0964, gpu_mem=6.91 GB]"
     ]
    },
    {
     "name": "stderr",
     "output_type": "stream",
     "text": [
      "\r",
      "Val:  85%|████████▍ | 73/86 [03:00<00:31,  2.42s/it, eval_loss=0.0964, gpu_mem=6.91 GB]"
     ]
    },
    {
     "name": "stderr",
     "output_type": "stream",
     "text": [
      "\r",
      "Val:  85%|████████▍ | 73/86 [03:02<00:31,  2.42s/it, eval_loss=0.0967, gpu_mem=6.91 GB]"
     ]
    },
    {
     "name": "stderr",
     "output_type": "stream",
     "text": [
      "\r",
      "Val:  86%|████████▌ | 74/86 [03:02<00:28,  2.39s/it, eval_loss=0.0967, gpu_mem=6.91 GB]"
     ]
    },
    {
     "name": "stderr",
     "output_type": "stream",
     "text": [
      "\r",
      "Val:  86%|████████▌ | 74/86 [03:05<00:28,  2.39s/it, eval_loss=0.0961, gpu_mem=6.91 GB]"
     ]
    },
    {
     "name": "stderr",
     "output_type": "stream",
     "text": [
      "\r",
      "Val:  87%|████████▋ | 75/86 [03:05<00:27,  2.50s/it, eval_loss=0.0961, gpu_mem=6.91 GB]"
     ]
    },
    {
     "name": "stderr",
     "output_type": "stream",
     "text": [
      "\r",
      "Val:  87%|████████▋ | 75/86 [03:07<00:27,  2.50s/it, eval_loss=0.0955, gpu_mem=6.91 GB]"
     ]
    },
    {
     "name": "stderr",
     "output_type": "stream",
     "text": [
      "\r",
      "Val:  88%|████████▊ | 76/86 [03:07<00:24,  2.45s/it, eval_loss=0.0955, gpu_mem=6.91 GB]"
     ]
    },
    {
     "name": "stderr",
     "output_type": "stream",
     "text": [
      "\r",
      "Val:  88%|████████▊ | 76/86 [03:10<00:24,  2.45s/it, eval_loss=0.0966, gpu_mem=6.91 GB]"
     ]
    },
    {
     "name": "stderr",
     "output_type": "stream",
     "text": [
      "\r",
      "Val:  90%|████████▉ | 77/86 [03:10<00:22,  2.50s/it, eval_loss=0.0966, gpu_mem=6.91 GB]"
     ]
    },
    {
     "name": "stderr",
     "output_type": "stream",
     "text": [
      "\r",
      "Val:  90%|████████▉ | 77/86 [03:12<00:22,  2.50s/it, eval_loss=0.0959, gpu_mem=6.91 GB]"
     ]
    },
    {
     "name": "stderr",
     "output_type": "stream",
     "text": [
      "\r",
      "Val:  91%|█████████ | 78/86 [03:12<00:20,  2.50s/it, eval_loss=0.0959, gpu_mem=6.91 GB]"
     ]
    },
    {
     "name": "stderr",
     "output_type": "stream",
     "text": [
      "\r",
      "Val:  91%|█████████ | 78/86 [03:15<00:20,  2.50s/it, eval_loss=0.0958, gpu_mem=6.91 GB]"
     ]
    },
    {
     "name": "stderr",
     "output_type": "stream",
     "text": [
      "\r",
      "Val:  92%|█████████▏| 79/86 [03:15<00:17,  2.43s/it, eval_loss=0.0958, gpu_mem=6.91 GB]"
     ]
    },
    {
     "name": "stderr",
     "output_type": "stream",
     "text": [
      "\r",
      "Val:  92%|█████████▏| 79/86 [03:17<00:17,  2.43s/it, eval_loss=0.0960, gpu_mem=6.91 GB]"
     ]
    },
    {
     "name": "stderr",
     "output_type": "stream",
     "text": [
      "\r",
      "Val:  93%|█████████▎| 80/86 [03:17<00:14,  2.39s/it, eval_loss=0.0960, gpu_mem=6.91 GB]"
     ]
    },
    {
     "name": "stderr",
     "output_type": "stream",
     "text": [
      "\r",
      "Val:  93%|█████████▎| 80/86 [03:19<00:14,  2.39s/it, eval_loss=0.0954, gpu_mem=6.91 GB]"
     ]
    },
    {
     "name": "stderr",
     "output_type": "stream",
     "text": [
      "\r",
      "Val:  94%|█████████▍| 81/86 [03:19<00:11,  2.39s/it, eval_loss=0.0954, gpu_mem=6.91 GB]"
     ]
    },
    {
     "name": "stderr",
     "output_type": "stream",
     "text": [
      "\r",
      "Val:  94%|█████████▍| 81/86 [03:22<00:11,  2.39s/it, eval_loss=0.0950, gpu_mem=6.91 GB]"
     ]
    },
    {
     "name": "stderr",
     "output_type": "stream",
     "text": [
      "\r",
      "Val:  95%|█████████▌| 82/86 [03:22<00:09,  2.45s/it, eval_loss=0.0950, gpu_mem=6.91 GB]"
     ]
    },
    {
     "name": "stderr",
     "output_type": "stream",
     "text": [
      "\r",
      "Val:  95%|█████████▌| 82/86 [03:24<00:09,  2.45s/it, eval_loss=0.0948, gpu_mem=6.91 GB]"
     ]
    },
    {
     "name": "stderr",
     "output_type": "stream",
     "text": [
      "\r",
      "Val:  97%|█████████▋| 83/86 [03:24<00:07,  2.41s/it, eval_loss=0.0948, gpu_mem=6.91 GB]"
     ]
    },
    {
     "name": "stderr",
     "output_type": "stream",
     "text": [
      "\r",
      "Val:  97%|█████████▋| 83/86 [03:27<00:07,  2.41s/it, eval_loss=0.0945, gpu_mem=6.91 GB]"
     ]
    },
    {
     "name": "stderr",
     "output_type": "stream",
     "text": [
      "\r",
      "Val:  98%|█████████▊| 84/86 [03:27<00:04,  2.39s/it, eval_loss=0.0945, gpu_mem=6.91 GB]"
     ]
    },
    {
     "name": "stderr",
     "output_type": "stream",
     "text": [
      "\r",
      "Val:  98%|█████████▊| 84/86 [03:29<00:04,  2.39s/it, eval_loss=0.0972, gpu_mem=6.91 GB]"
     ]
    },
    {
     "name": "stderr",
     "output_type": "stream",
     "text": [
      "\r",
      "Val:  99%|█████████▉| 85/86 [03:29<00:02,  2.36s/it, eval_loss=0.0972, gpu_mem=6.91 GB]"
     ]
    },
    {
     "name": "stderr",
     "output_type": "stream",
     "text": [
      "\r",
      "Val:  99%|█████████▉| 85/86 [03:29<00:02,  2.36s/it, eval_loss=0.0972, gpu_mem=6.91 GB]"
     ]
    },
    {
     "name": "stderr",
     "output_type": "stream",
     "text": [
      "\r",
      "Val: 100%|██████████| 86/86 [03:29<00:00,  1.81s/it, eval_loss=0.0972, gpu_mem=6.91 GB]"
     ]
    },
    {
     "name": "stderr",
     "output_type": "stream",
     "text": [
      "\r",
      "Val: 100%|██████████| 86/86 [03:30<00:00,  2.44s/it, eval_loss=0.0972, gpu_mem=6.91 GB]"
     ]
    },
    {
     "name": "stderr",
     "output_type": "stream",
     "text": [
      "\n",
      "Valid loss:0.0972\n"
     ]
    },
    {
     "name": "stderr",
     "output_type": "stream",
     "text": [
      "Val metric mean prob: 0.1867\n"
     ]
    },
    {
     "name": "stderr",
     "output_type": "stream",
     "text": [
      "Best metric at: 0.5111 0.3630  0.7308\n"
     ]
    },
    {
     "name": "stderr",
     "output_type": "stream",
     "text": [
      "Cf: [[2315   18]\n",
      " [  26   23]]\n"
     ]
    },
    {
     "name": "stderr",
     "output_type": "stream",
     "text": [
      "\u001b[32m[I 2023-02-15 04:53:37,300]\u001b[0m Trial 15 finished with value: 0.5111111111111111 and parameters: {'a1': 0.6094919114782724}. Best is trial 0 with value: 0.5111111111111111.\u001b[0m\n"
     ]
    },
    {
     "name": "stdout",
     "output_type": "stream",
     "text": [
      "/kaggle/input/10folds/tf_efficientnetv2_b2_fold_1_model_epoch_3_0.5055_0.360.pth\n",
      "none:  /kaggle/input/10folds/tf_efficientnetv2_b2_fold_1_model_epoch_3_0.5055_0.360.pth\n",
      "/kaggle/input/10folds/tf_efficientnetv2_b2_fold_1_model_epoch_5_0.4865_0.324.pth\n",
      "hehe /kaggle/input/10folds/tf_efficientnetv2_b2_fold_1_model_epoch_5_0.4865_0.324.pth\n",
      "0.8656064078208842 0.13439359217911584\n",
      "\n"
     ]
    },
    {
     "name": "stderr",
     "output_type": "stream",
     "text": [
      "\r",
      "Val:   0%|          | 0/86 [00:00<?, ?it/s]"
     ]
    },
    {
     "name": "stderr",
     "output_type": "stream",
     "text": [
      "\r",
      "Val:   0%|          | 0/86 [00:04<?, ?it/s, eval_loss=0.0552, gpu_mem=6.91 GB]"
     ]
    },
    {
     "name": "stderr",
     "output_type": "stream",
     "text": [
      "\r",
      "Val:   1%|          | 1/86 [00:04<06:32,  4.61s/it, eval_loss=0.0552, gpu_mem=6.91 GB]"
     ]
    },
    {
     "name": "stderr",
     "output_type": "stream",
     "text": [
      "\r",
      "Val:   1%|          | 1/86 [00:06<06:32,  4.61s/it, eval_loss=0.0431, gpu_mem=6.91 GB]"
     ]
    },
    {
     "name": "stderr",
     "output_type": "stream",
     "text": [
      "\r",
      "Val:   2%|▏         | 2/86 [00:06<04:28,  3.19s/it, eval_loss=0.0431, gpu_mem=6.91 GB]"
     ]
    },
    {
     "name": "stderr",
     "output_type": "stream",
     "text": [
      "\r",
      "Val:   2%|▏         | 2/86 [00:09<04:28,  3.19s/it, eval_loss=0.0889, gpu_mem=6.91 GB]"
     ]
    },
    {
     "name": "stderr",
     "output_type": "stream",
     "text": [
      "\r",
      "Val:   3%|▎         | 3/86 [00:09<03:48,  2.76s/it, eval_loss=0.0889, gpu_mem=6.91 GB]"
     ]
    },
    {
     "name": "stderr",
     "output_type": "stream",
     "text": [
      "\r",
      "Val:   3%|▎         | 3/86 [00:11<03:48,  2.76s/it, eval_loss=0.0997, gpu_mem=6.91 GB]"
     ]
    },
    {
     "name": "stderr",
     "output_type": "stream",
     "text": [
      "\r",
      "Val:   5%|▍         | 4/86 [00:11<03:35,  2.63s/it, eval_loss=0.0997, gpu_mem=6.91 GB]"
     ]
    },
    {
     "name": "stderr",
     "output_type": "stream",
     "text": [
      "\r",
      "Val:   5%|▍         | 4/86 [00:13<03:35,  2.63s/it, eval_loss=0.0955, gpu_mem=6.91 GB]"
     ]
    },
    {
     "name": "stderr",
     "output_type": "stream",
     "text": [
      "\r",
      "Val:   6%|▌         | 5/86 [00:13<03:20,  2.47s/it, eval_loss=0.0955, gpu_mem=6.91 GB]"
     ]
    },
    {
     "name": "stderr",
     "output_type": "stream",
     "text": [
      "\r",
      "Val:   6%|▌         | 5/86 [00:15<03:20,  2.47s/it, eval_loss=0.0924, gpu_mem=6.91 GB]"
     ]
    },
    {
     "name": "stderr",
     "output_type": "stream",
     "text": [
      "\r",
      "Val:   7%|▋         | 6/86 [00:15<03:10,  2.38s/it, eval_loss=0.0924, gpu_mem=6.91 GB]"
     ]
    },
    {
     "name": "stderr",
     "output_type": "stream",
     "text": [
      "\r",
      "Val:   7%|▋         | 6/86 [00:18<03:10,  2.38s/it, eval_loss=0.0847, gpu_mem=6.91 GB]"
     ]
    },
    {
     "name": "stderr",
     "output_type": "stream",
     "text": [
      "\r",
      "Val:   8%|▊         | 7/86 [00:18<03:04,  2.34s/it, eval_loss=0.0847, gpu_mem=6.91 GB]"
     ]
    },
    {
     "name": "stderr",
     "output_type": "stream",
     "text": [
      "\r",
      "Val:   8%|▊         | 7/86 [00:20<03:04,  2.34s/it, eval_loss=0.0818, gpu_mem=6.91 GB]"
     ]
    },
    {
     "name": "stderr",
     "output_type": "stream",
     "text": [
      "\r",
      "Val:   9%|▉         | 8/86 [00:20<03:01,  2.32s/it, eval_loss=0.0818, gpu_mem=6.91 GB]"
     ]
    },
    {
     "name": "stderr",
     "output_type": "stream",
     "text": [
      "\r",
      "Val:   9%|▉         | 8/86 [00:22<03:01,  2.32s/it, eval_loss=0.0801, gpu_mem=6.91 GB]"
     ]
    },
    {
     "name": "stderr",
     "output_type": "stream",
     "text": [
      "\r",
      "Val:  10%|█         | 9/86 [00:22<03:01,  2.36s/it, eval_loss=0.0801, gpu_mem=6.91 GB]"
     ]
    },
    {
     "name": "stderr",
     "output_type": "stream",
     "text": [
      "\r",
      "Val:  10%|█         | 9/86 [00:25<03:01,  2.36s/it, eval_loss=0.0871, gpu_mem=6.91 GB]"
     ]
    },
    {
     "name": "stderr",
     "output_type": "stream",
     "text": [
      "\r",
      "Val:  12%|█▏        | 10/86 [00:25<02:55,  2.31s/it, eval_loss=0.0871, gpu_mem=6.91 GB]"
     ]
    },
    {
     "name": "stderr",
     "output_type": "stream",
     "text": [
      "\r",
      "Val:  12%|█▏        | 10/86 [00:27<02:55,  2.31s/it, eval_loss=0.0842, gpu_mem=6.91 GB]"
     ]
    },
    {
     "name": "stderr",
     "output_type": "stream",
     "text": [
      "\r",
      "Val:  13%|█▎        | 11/86 [00:27<02:51,  2.28s/it, eval_loss=0.0842, gpu_mem=6.91 GB]"
     ]
    },
    {
     "name": "stderr",
     "output_type": "stream",
     "text": [
      "\r",
      "Val:  13%|█▎        | 11/86 [00:29<02:51,  2.28s/it, eval_loss=0.0844, gpu_mem=6.91 GB]"
     ]
    },
    {
     "name": "stderr",
     "output_type": "stream",
     "text": [
      "\r",
      "Val:  14%|█▍        | 12/86 [00:29<02:47,  2.27s/it, eval_loss=0.0844, gpu_mem=6.91 GB]"
     ]
    },
    {
     "name": "stderr",
     "output_type": "stream",
     "text": [
      "\r",
      "Val:  14%|█▍        | 12/86 [00:31<02:47,  2.27s/it, eval_loss=0.0865, gpu_mem=6.91 GB]"
     ]
    },
    {
     "name": "stderr",
     "output_type": "stream",
     "text": [
      "\r",
      "Val:  15%|█▌        | 13/86 [00:31<02:44,  2.26s/it, eval_loss=0.0865, gpu_mem=6.91 GB]"
     ]
    },
    {
     "name": "stderr",
     "output_type": "stream",
     "text": [
      "\r",
      "Val:  15%|█▌        | 13/86 [00:34<02:44,  2.26s/it, eval_loss=0.0828, gpu_mem=6.91 GB]"
     ]
    },
    {
     "name": "stderr",
     "output_type": "stream",
     "text": [
      "\r",
      "Val:  16%|█▋        | 14/86 [00:34<02:57,  2.46s/it, eval_loss=0.0828, gpu_mem=6.91 GB]"
     ]
    },
    {
     "name": "stderr",
     "output_type": "stream",
     "text": [
      "\r",
      "Val:  16%|█▋        | 14/86 [00:36<02:57,  2.46s/it, eval_loss=0.0800, gpu_mem=6.91 GB]"
     ]
    },
    {
     "name": "stderr",
     "output_type": "stream",
     "text": [
      "\r",
      "Val:  17%|█▋        | 15/86 [00:36<02:49,  2.38s/it, eval_loss=0.0800, gpu_mem=6.91 GB]"
     ]
    },
    {
     "name": "stderr",
     "output_type": "stream",
     "text": [
      "\r",
      "Val:  17%|█▋        | 15/86 [00:39<02:49,  2.38s/it, eval_loss=0.0781, gpu_mem=6.91 GB]"
     ]
    },
    {
     "name": "stderr",
     "output_type": "stream",
     "text": [
      "\r",
      "Val:  19%|█▊        | 16/86 [00:39<02:44,  2.35s/it, eval_loss=0.0781, gpu_mem=6.91 GB]"
     ]
    },
    {
     "name": "stderr",
     "output_type": "stream",
     "text": [
      "\r",
      "Val:  19%|█▊        | 16/86 [00:41<02:44,  2.35s/it, eval_loss=0.0782, gpu_mem=6.91 GB]"
     ]
    },
    {
     "name": "stderr",
     "output_type": "stream",
     "text": [
      "\r",
      "Val:  20%|█▉        | 17/86 [00:41<02:39,  2.31s/it, eval_loss=0.0782, gpu_mem=6.91 GB]"
     ]
    },
    {
     "name": "stderr",
     "output_type": "stream",
     "text": [
      "\r",
      "Val:  20%|█▉        | 17/86 [00:43<02:39,  2.31s/it, eval_loss=0.0777, gpu_mem=6.91 GB]"
     ]
    },
    {
     "name": "stderr",
     "output_type": "stream",
     "text": [
      "\r",
      "Val:  21%|██        | 18/86 [00:43<02:39,  2.34s/it, eval_loss=0.0777, gpu_mem=6.91 GB]"
     ]
    },
    {
     "name": "stderr",
     "output_type": "stream",
     "text": [
      "\r",
      "Val:  21%|██        | 18/86 [00:46<02:39,  2.34s/it, eval_loss=0.0779, gpu_mem=6.91 GB]"
     ]
    },
    {
     "name": "stderr",
     "output_type": "stream",
     "text": [
      "\r",
      "Val:  22%|██▏       | 19/86 [00:46<02:35,  2.32s/it, eval_loss=0.0779, gpu_mem=6.91 GB]"
     ]
    },
    {
     "name": "stderr",
     "output_type": "stream",
     "text": [
      "\r",
      "Val:  22%|██▏       | 19/86 [00:48<02:35,  2.32s/it, eval_loss=0.0785, gpu_mem=6.91 GB]"
     ]
    },
    {
     "name": "stderr",
     "output_type": "stream",
     "text": [
      "\r",
      "Val:  23%|██▎       | 20/86 [00:48<02:32,  2.30s/it, eval_loss=0.0785, gpu_mem=6.91 GB]"
     ]
    },
    {
     "name": "stderr",
     "output_type": "stream",
     "text": [
      "\r",
      "Val:  23%|██▎       | 20/86 [00:50<02:32,  2.30s/it, eval_loss=0.0771, gpu_mem=6.91 GB]"
     ]
    },
    {
     "name": "stderr",
     "output_type": "stream",
     "text": [
      "\r",
      "Val:  24%|██▍       | 21/86 [00:50<02:29,  2.30s/it, eval_loss=0.0771, gpu_mem=6.91 GB]"
     ]
    },
    {
     "name": "stderr",
     "output_type": "stream",
     "text": [
      "\r",
      "Val:  24%|██▍       | 21/86 [00:52<02:29,  2.30s/it, eval_loss=0.0804, gpu_mem=6.91 GB]"
     ]
    },
    {
     "name": "stderr",
     "output_type": "stream",
     "text": [
      "\r",
      "Val:  26%|██▌       | 22/86 [00:52<02:25,  2.28s/it, eval_loss=0.0804, gpu_mem=6.91 GB]"
     ]
    },
    {
     "name": "stderr",
     "output_type": "stream",
     "text": [
      "\r",
      "Val:  26%|██▌       | 22/86 [00:55<02:25,  2.28s/it, eval_loss=0.0844, gpu_mem=6.91 GB]"
     ]
    },
    {
     "name": "stderr",
     "output_type": "stream",
     "text": [
      "\r",
      "Val:  27%|██▋       | 23/86 [00:55<02:25,  2.31s/it, eval_loss=0.0844, gpu_mem=6.91 GB]"
     ]
    },
    {
     "name": "stderr",
     "output_type": "stream",
     "text": [
      "\r",
      "Val:  27%|██▋       | 23/86 [00:57<02:25,  2.31s/it, eval_loss=0.0839, gpu_mem=6.91 GB]"
     ]
    },
    {
     "name": "stderr",
     "output_type": "stream",
     "text": [
      "\r",
      "Val:  28%|██▊       | 24/86 [00:57<02:20,  2.27s/it, eval_loss=0.0839, gpu_mem=6.91 GB]"
     ]
    },
    {
     "name": "stderr",
     "output_type": "stream",
     "text": [
      "\r",
      "Val:  28%|██▊       | 24/86 [00:59<02:20,  2.27s/it, eval_loss=0.0837, gpu_mem=6.91 GB]"
     ]
    },
    {
     "name": "stderr",
     "output_type": "stream",
     "text": [
      "\r",
      "Val:  29%|██▉       | 25/86 [00:59<02:17,  2.25s/it, eval_loss=0.0837, gpu_mem=6.91 GB]"
     ]
    },
    {
     "name": "stderr",
     "output_type": "stream",
     "text": [
      "\r",
      "Val:  29%|██▉       | 25/86 [01:01<02:17,  2.25s/it, eval_loss=0.0816, gpu_mem=6.91 GB]"
     ]
    },
    {
     "name": "stderr",
     "output_type": "stream",
     "text": [
      "\r",
      "Val:  30%|███       | 26/86 [01:01<02:14,  2.24s/it, eval_loss=0.0816, gpu_mem=6.91 GB]"
     ]
    },
    {
     "name": "stderr",
     "output_type": "stream",
     "text": [
      "\r",
      "Val:  30%|███       | 26/86 [01:04<02:14,  2.24s/it, eval_loss=0.0853, gpu_mem=6.91 GB]"
     ]
    },
    {
     "name": "stderr",
     "output_type": "stream",
     "text": [
      "\r",
      "Val:  31%|███▏      | 27/86 [01:04<02:11,  2.23s/it, eval_loss=0.0853, gpu_mem=6.91 GB]"
     ]
    },
    {
     "name": "stderr",
     "output_type": "stream",
     "text": [
      "\r",
      "Val:  31%|███▏      | 27/86 [01:07<02:11,  2.23s/it, eval_loss=0.0848, gpu_mem=6.91 GB]"
     ]
    },
    {
     "name": "stderr",
     "output_type": "stream",
     "text": [
      "\r",
      "Val:  33%|███▎      | 28/86 [01:07<02:22,  2.46s/it, eval_loss=0.0848, gpu_mem=6.91 GB]"
     ]
    },
    {
     "name": "stderr",
     "output_type": "stream",
     "text": [
      "\r",
      "Val:  33%|███▎      | 28/86 [01:09<02:22,  2.46s/it, eval_loss=0.0838, gpu_mem=6.91 GB]"
     ]
    },
    {
     "name": "stderr",
     "output_type": "stream",
     "text": [
      "\r",
      "Val:  34%|███▎      | 29/86 [01:09<02:16,  2.40s/it, eval_loss=0.0838, gpu_mem=6.91 GB]"
     ]
    },
    {
     "name": "stderr",
     "output_type": "stream",
     "text": [
      "\r",
      "Val:  34%|███▎      | 29/86 [01:11<02:16,  2.40s/it, eval_loss=0.0838, gpu_mem=6.91 GB]"
     ]
    },
    {
     "name": "stderr",
     "output_type": "stream",
     "text": [
      "\r",
      "Val:  35%|███▍      | 30/86 [01:11<02:11,  2.34s/it, eval_loss=0.0838, gpu_mem=6.91 GB]"
     ]
    },
    {
     "name": "stderr",
     "output_type": "stream",
     "text": [
      "\r",
      "Val:  35%|███▍      | 30/86 [01:13<02:11,  2.34s/it, eval_loss=0.0830, gpu_mem=6.91 GB]"
     ]
    },
    {
     "name": "stderr",
     "output_type": "stream",
     "text": [
      "\r",
      "Val:  36%|███▌      | 31/86 [01:13<02:07,  2.31s/it, eval_loss=0.0830, gpu_mem=6.91 GB]"
     ]
    },
    {
     "name": "stderr",
     "output_type": "stream",
     "text": [
      "\r",
      "Val:  36%|███▌      | 31/86 [01:16<02:07,  2.31s/it, eval_loss=0.0905, gpu_mem=6.91 GB]"
     ]
    },
    {
     "name": "stderr",
     "output_type": "stream",
     "text": [
      "\r",
      "Val:  37%|███▋      | 32/86 [01:16<02:06,  2.33s/it, eval_loss=0.0905, gpu_mem=6.91 GB]"
     ]
    },
    {
     "name": "stderr",
     "output_type": "stream",
     "text": [
      "\r",
      "Val:  37%|███▋      | 32/86 [01:18<02:06,  2.33s/it, eval_loss=0.0886, gpu_mem=6.91 GB]"
     ]
    },
    {
     "name": "stderr",
     "output_type": "stream",
     "text": [
      "\r",
      "Val:  38%|███▊      | 33/86 [01:18<02:04,  2.34s/it, eval_loss=0.0886, gpu_mem=6.91 GB]"
     ]
    },
    {
     "name": "stderr",
     "output_type": "stream",
     "text": [
      "\r",
      "Val:  38%|███▊      | 33/86 [01:20<02:04,  2.34s/it, eval_loss=0.0899, gpu_mem=6.91 GB]"
     ]
    },
    {
     "name": "stderr",
     "output_type": "stream",
     "text": [
      "\r",
      "Val:  40%|███▉      | 34/86 [01:20<02:00,  2.31s/it, eval_loss=0.0899, gpu_mem=6.91 GB]"
     ]
    },
    {
     "name": "stderr",
     "output_type": "stream",
     "text": [
      "\r",
      "Val:  40%|███▉      | 34/86 [01:22<02:00,  2.31s/it, eval_loss=0.0889, gpu_mem=6.91 GB]"
     ]
    },
    {
     "name": "stderr",
     "output_type": "stream",
     "text": [
      "\r",
      "Val:  41%|████      | 35/86 [01:22<01:56,  2.29s/it, eval_loss=0.0889, gpu_mem=6.91 GB]"
     ]
    },
    {
     "name": "stderr",
     "output_type": "stream",
     "text": [
      "\r",
      "Val:  41%|████      | 35/86 [01:25<01:56,  2.29s/it, eval_loss=0.0875, gpu_mem=6.91 GB]"
     ]
    },
    {
     "name": "stderr",
     "output_type": "stream",
     "text": [
      "\r",
      "Val:  42%|████▏     | 36/86 [01:25<01:53,  2.26s/it, eval_loss=0.0875, gpu_mem=6.91 GB]"
     ]
    },
    {
     "name": "stderr",
     "output_type": "stream",
     "text": [
      "\r",
      "Val:  42%|████▏     | 36/86 [01:27<01:53,  2.26s/it, eval_loss=0.0881, gpu_mem=6.91 GB]"
     ]
    },
    {
     "name": "stderr",
     "output_type": "stream",
     "text": [
      "\r",
      "Val:  43%|████▎     | 37/86 [01:27<01:53,  2.33s/it, eval_loss=0.0881, gpu_mem=6.91 GB]"
     ]
    },
    {
     "name": "stderr",
     "output_type": "stream",
     "text": [
      "\r",
      "Val:  43%|████▎     | 37/86 [01:29<01:53,  2.33s/it, eval_loss=0.0879, gpu_mem=6.91 GB]"
     ]
    },
    {
     "name": "stderr",
     "output_type": "stream",
     "text": [
      "\r",
      "Val:  44%|████▍     | 38/86 [01:29<01:51,  2.31s/it, eval_loss=0.0879, gpu_mem=6.91 GB]"
     ]
    },
    {
     "name": "stderr",
     "output_type": "stream",
     "text": [
      "\r",
      "Val:  44%|████▍     | 38/86 [01:32<01:51,  2.31s/it, eval_loss=0.0865, gpu_mem=6.91 GB]"
     ]
    },
    {
     "name": "stderr",
     "output_type": "stream",
     "text": [
      "\r",
      "Val:  45%|████▌     | 39/86 [01:32<01:47,  2.28s/it, eval_loss=0.0865, gpu_mem=6.91 GB]"
     ]
    },
    {
     "name": "stderr",
     "output_type": "stream",
     "text": [
      "\r",
      "Val:  45%|████▌     | 39/86 [01:34<01:47,  2.28s/it, eval_loss=0.0864, gpu_mem=6.91 GB]"
     ]
    },
    {
     "name": "stderr",
     "output_type": "stream",
     "text": [
      "\r",
      "Val:  47%|████▋     | 40/86 [01:34<01:43,  2.26s/it, eval_loss=0.0864, gpu_mem=6.91 GB]"
     ]
    },
    {
     "name": "stderr",
     "output_type": "stream",
     "text": [
      "\r",
      "Val:  47%|████▋     | 40/86 [01:36<01:43,  2.26s/it, eval_loss=0.0859, gpu_mem=6.91 GB]"
     ]
    },
    {
     "name": "stderr",
     "output_type": "stream",
     "text": [
      "\r",
      "Val:  48%|████▊     | 41/86 [01:36<01:40,  2.24s/it, eval_loss=0.0859, gpu_mem=6.91 GB]"
     ]
    },
    {
     "name": "stderr",
     "output_type": "stream",
     "text": [
      "\r",
      "Val:  48%|████▊     | 41/86 [01:39<01:40,  2.24s/it, eval_loss=0.0854, gpu_mem=6.91 GB]"
     ]
    },
    {
     "name": "stderr",
     "output_type": "stream",
     "text": [
      "\r",
      "Val:  49%|████▉     | 42/86 [01:39<01:47,  2.44s/it, eval_loss=0.0854, gpu_mem=6.91 GB]"
     ]
    },
    {
     "name": "stderr",
     "output_type": "stream",
     "text": [
      "\r",
      "Val:  49%|████▉     | 42/86 [01:41<01:47,  2.44s/it, eval_loss=0.0845, gpu_mem=6.91 GB]"
     ]
    },
    {
     "name": "stderr",
     "output_type": "stream",
     "text": [
      "\r",
      "Val:  50%|█████     | 43/86 [01:41<01:42,  2.38s/it, eval_loss=0.0845, gpu_mem=6.91 GB]"
     ]
    },
    {
     "name": "stderr",
     "output_type": "stream",
     "text": [
      "\r",
      "Val:  50%|█████     | 43/86 [01:43<01:42,  2.38s/it, eval_loss=0.0877, gpu_mem=6.91 GB]"
     ]
    },
    {
     "name": "stderr",
     "output_type": "stream",
     "text": [
      "\r",
      "Val:  51%|█████     | 44/86 [01:43<01:37,  2.33s/it, eval_loss=0.0877, gpu_mem=6.91 GB]"
     ]
    },
    {
     "name": "stderr",
     "output_type": "stream",
     "text": [
      "\r",
      "Val:  51%|█████     | 44/86 [01:46<01:37,  2.33s/it, eval_loss=0.0864, gpu_mem=6.91 GB]"
     ]
    },
    {
     "name": "stderr",
     "output_type": "stream",
     "text": [
      "\r",
      "Val:  52%|█████▏    | 45/86 [01:46<01:34,  2.29s/it, eval_loss=0.0864, gpu_mem=6.91 GB]"
     ]
    },
    {
     "name": "stderr",
     "output_type": "stream",
     "text": [
      "\r",
      "Val:  52%|█████▏    | 45/86 [01:48<01:34,  2.29s/it, eval_loss=0.0863, gpu_mem=6.91 GB]"
     ]
    },
    {
     "name": "stderr",
     "output_type": "stream",
     "text": [
      "\r",
      "Val:  53%|█████▎    | 46/86 [01:48<01:31,  2.28s/it, eval_loss=0.0863, gpu_mem=6.91 GB]"
     ]
    },
    {
     "name": "stderr",
     "output_type": "stream",
     "text": [
      "\r",
      "Val:  53%|█████▎    | 46/86 [01:50<01:31,  2.28s/it, eval_loss=0.0856, gpu_mem=6.91 GB]"
     ]
    },
    {
     "name": "stderr",
     "output_type": "stream",
     "text": [
      "\r",
      "Val:  55%|█████▍    | 47/86 [01:50<01:31,  2.34s/it, eval_loss=0.0856, gpu_mem=6.91 GB]"
     ]
    },
    {
     "name": "stderr",
     "output_type": "stream",
     "text": [
      "\r",
      "Val:  55%|█████▍    | 47/86 [01:53<01:31,  2.34s/it, eval_loss=0.0874, gpu_mem=6.91 GB]"
     ]
    },
    {
     "name": "stderr",
     "output_type": "stream",
     "text": [
      "\r",
      "Val:  56%|█████▌    | 48/86 [01:53<01:27,  2.31s/it, eval_loss=0.0874, gpu_mem=6.91 GB]"
     ]
    },
    {
     "name": "stderr",
     "output_type": "stream",
     "text": [
      "\r",
      "Val:  56%|█████▌    | 48/86 [01:55<01:27,  2.31s/it, eval_loss=0.0869, gpu_mem=6.91 GB]"
     ]
    },
    {
     "name": "stderr",
     "output_type": "stream",
     "text": [
      "\r",
      "Val:  57%|█████▋    | 49/86 [01:55<01:25,  2.30s/it, eval_loss=0.0869, gpu_mem=6.91 GB]"
     ]
    },
    {
     "name": "stderr",
     "output_type": "stream",
     "text": [
      "\r",
      "Val:  57%|█████▋    | 49/86 [01:57<01:25,  2.30s/it, eval_loss=0.0866, gpu_mem=6.91 GB]"
     ]
    },
    {
     "name": "stderr",
     "output_type": "stream",
     "text": [
      "\r",
      "Val:  58%|█████▊    | 50/86 [01:57<01:22,  2.28s/it, eval_loss=0.0866, gpu_mem=6.91 GB]"
     ]
    },
    {
     "name": "stderr",
     "output_type": "stream",
     "text": [
      "\r",
      "Val:  58%|█████▊    | 50/86 [01:59<01:22,  2.28s/it, eval_loss=0.0895, gpu_mem=6.91 GB]"
     ]
    },
    {
     "name": "stderr",
     "output_type": "stream",
     "text": [
      "\r",
      "Val:  59%|█████▉    | 51/86 [01:59<01:19,  2.28s/it, eval_loss=0.0895, gpu_mem=6.91 GB]"
     ]
    },
    {
     "name": "stderr",
     "output_type": "stream",
     "text": [
      "\r",
      "Val:  59%|█████▉    | 51/86 [02:02<01:19,  2.28s/it, eval_loss=0.0909, gpu_mem=6.91 GB]"
     ]
    },
    {
     "name": "stderr",
     "output_type": "stream",
     "text": [
      "\r",
      "Val:  60%|██████    | 52/86 [02:02<01:19,  2.34s/it, eval_loss=0.0909, gpu_mem=6.91 GB]"
     ]
    },
    {
     "name": "stderr",
     "output_type": "stream",
     "text": [
      "\r",
      "Val:  60%|██████    | 52/86 [02:04<01:19,  2.34s/it, eval_loss=0.0922, gpu_mem=6.91 GB]"
     ]
    },
    {
     "name": "stderr",
     "output_type": "stream",
     "text": [
      "\r",
      "Val:  62%|██████▏   | 53/86 [02:04<01:15,  2.30s/it, eval_loss=0.0922, gpu_mem=6.91 GB]"
     ]
    },
    {
     "name": "stderr",
     "output_type": "stream",
     "text": [
      "\r",
      "Val:  62%|██████▏   | 53/86 [02:06<01:15,  2.30s/it, eval_loss=0.0915, gpu_mem=6.91 GB]"
     ]
    },
    {
     "name": "stderr",
     "output_type": "stream",
     "text": [
      "\r",
      "Val:  63%|██████▎   | 54/86 [02:06<01:13,  2.29s/it, eval_loss=0.0915, gpu_mem=6.91 GB]"
     ]
    },
    {
     "name": "stderr",
     "output_type": "stream",
     "text": [
      "\r",
      "Val:  63%|██████▎   | 54/86 [02:09<01:13,  2.29s/it, eval_loss=0.0922, gpu_mem=6.91 GB]"
     ]
    },
    {
     "name": "stderr",
     "output_type": "stream",
     "text": [
      "\r",
      "Val:  64%|██████▍   | 55/86 [02:09<01:13,  2.38s/it, eval_loss=0.0922, gpu_mem=6.91 GB]"
     ]
    },
    {
     "name": "stderr",
     "output_type": "stream",
     "text": [
      "\r",
      "Val:  64%|██████▍   | 55/86 [02:12<01:13,  2.38s/it, eval_loss=0.0918, gpu_mem=6.91 GB]"
     ]
    },
    {
     "name": "stderr",
     "output_type": "stream",
     "text": [
      "\r",
      "Val:  65%|██████▌   | 56/86 [02:12<01:14,  2.48s/it, eval_loss=0.0918, gpu_mem=6.91 GB]"
     ]
    },
    {
     "name": "stderr",
     "output_type": "stream",
     "text": [
      "\r",
      "Val:  65%|██████▌   | 56/86 [02:14<01:14,  2.48s/it, eval_loss=0.0917, gpu_mem=6.91 GB]"
     ]
    },
    {
     "name": "stderr",
     "output_type": "stream",
     "text": [
      "\r",
      "Val:  66%|██████▋   | 57/86 [02:14<01:09,  2.39s/it, eval_loss=0.0917, gpu_mem=6.91 GB]"
     ]
    },
    {
     "name": "stderr",
     "output_type": "stream",
     "text": [
      "\r",
      "Val:  66%|██████▋   | 57/86 [02:16<01:09,  2.39s/it, eval_loss=0.0940, gpu_mem=6.91 GB]"
     ]
    },
    {
     "name": "stderr",
     "output_type": "stream",
     "text": [
      "\r",
      "Val:  67%|██████▋   | 58/86 [02:16<01:05,  2.34s/it, eval_loss=0.0940, gpu_mem=6.91 GB]"
     ]
    },
    {
     "name": "stderr",
     "output_type": "stream",
     "text": [
      "\r",
      "Val:  67%|██████▋   | 58/86 [02:18<01:05,  2.34s/it, eval_loss=0.0935, gpu_mem=6.91 GB]"
     ]
    },
    {
     "name": "stderr",
     "output_type": "stream",
     "text": [
      "\r",
      "Val:  69%|██████▊   | 59/86 [02:18<01:02,  2.30s/it, eval_loss=0.0935, gpu_mem=6.91 GB]"
     ]
    },
    {
     "name": "stderr",
     "output_type": "stream",
     "text": [
      "\r",
      "Val:  69%|██████▊   | 59/86 [02:20<01:02,  2.30s/it, eval_loss=0.0953, gpu_mem=6.91 GB]"
     ]
    },
    {
     "name": "stderr",
     "output_type": "stream",
     "text": [
      "\r",
      "Val:  70%|██████▉   | 60/86 [02:20<00:59,  2.27s/it, eval_loss=0.0953, gpu_mem=6.91 GB]"
     ]
    },
    {
     "name": "stderr",
     "output_type": "stream",
     "text": [
      "\r",
      "Val:  70%|██████▉   | 60/86 [02:23<00:59,  2.27s/it, eval_loss=0.0947, gpu_mem=6.91 GB]"
     ]
    },
    {
     "name": "stderr",
     "output_type": "stream",
     "text": [
      "\r",
      "Val:  71%|███████   | 61/86 [02:23<00:57,  2.32s/it, eval_loss=0.0947, gpu_mem=6.91 GB]"
     ]
    },
    {
     "name": "stderr",
     "output_type": "stream",
     "text": [
      "\r",
      "Val:  71%|███████   | 61/86 [02:25<00:57,  2.32s/it, eval_loss=0.0943, gpu_mem=6.91 GB]"
     ]
    },
    {
     "name": "stderr",
     "output_type": "stream",
     "text": [
      "\r",
      "Val:  72%|███████▏  | 62/86 [02:25<00:54,  2.28s/it, eval_loss=0.0943, gpu_mem=6.91 GB]"
     ]
    },
    {
     "name": "stderr",
     "output_type": "stream",
     "text": [
      "\r",
      "Val:  72%|███████▏  | 62/86 [02:27<00:54,  2.28s/it, eval_loss=0.0942, gpu_mem=6.91 GB]"
     ]
    },
    {
     "name": "stderr",
     "output_type": "stream",
     "text": [
      "\r",
      "Val:  73%|███████▎  | 63/86 [02:27<00:52,  2.28s/it, eval_loss=0.0942, gpu_mem=6.91 GB]"
     ]
    },
    {
     "name": "stderr",
     "output_type": "stream",
     "text": [
      "\r",
      "Val:  73%|███████▎  | 63/86 [02:30<00:52,  2.28s/it, eval_loss=0.0941, gpu_mem=6.91 GB]"
     ]
    },
    {
     "name": "stderr",
     "output_type": "stream",
     "text": [
      "\r",
      "Val:  74%|███████▍  | 64/86 [02:30<00:49,  2.26s/it, eval_loss=0.0941, gpu_mem=6.91 GB]"
     ]
    },
    {
     "name": "stderr",
     "output_type": "stream",
     "text": [
      "\r",
      "Val:  74%|███████▍  | 64/86 [02:32<00:49,  2.26s/it, eval_loss=0.0932, gpu_mem=6.91 GB]"
     ]
    },
    {
     "name": "stderr",
     "output_type": "stream",
     "text": [
      "\r",
      "Val:  76%|███████▌  | 65/86 [02:32<00:47,  2.24s/it, eval_loss=0.0932, gpu_mem=6.91 GB]"
     ]
    },
    {
     "name": "stderr",
     "output_type": "stream",
     "text": [
      "\r",
      "Val:  76%|███████▌  | 65/86 [02:34<00:47,  2.24s/it, eval_loss=0.0950, gpu_mem=6.91 GB]"
     ]
    },
    {
     "name": "stderr",
     "output_type": "stream",
     "text": [
      "\r",
      "Val:  77%|███████▋  | 66/86 [02:34<00:46,  2.32s/it, eval_loss=0.0950, gpu_mem=6.91 GB]"
     ]
    },
    {
     "name": "stderr",
     "output_type": "stream",
     "text": [
      "\r",
      "Val:  77%|███████▋  | 66/86 [02:36<00:46,  2.32s/it, eval_loss=0.0942, gpu_mem=6.91 GB]"
     ]
    },
    {
     "name": "stderr",
     "output_type": "stream",
     "text": [
      "\r",
      "Val:  78%|███████▊  | 67/86 [02:36<00:43,  2.28s/it, eval_loss=0.0942, gpu_mem=6.91 GB]"
     ]
    },
    {
     "name": "stderr",
     "output_type": "stream",
     "text": [
      "\r",
      "Val:  78%|███████▊  | 67/86 [02:39<00:43,  2.28s/it, eval_loss=0.0966, gpu_mem=6.91 GB]"
     ]
    },
    {
     "name": "stderr",
     "output_type": "stream",
     "text": [
      "\r",
      "Val:  79%|███████▉  | 68/86 [02:39<00:40,  2.26s/it, eval_loss=0.0966, gpu_mem=6.91 GB]"
     ]
    },
    {
     "name": "stderr",
     "output_type": "stream",
     "text": [
      "\r",
      "Val:  79%|███████▉  | 68/86 [02:41<00:40,  2.26s/it, eval_loss=0.0967, gpu_mem=6.91 GB]"
     ]
    },
    {
     "name": "stderr",
     "output_type": "stream",
     "text": [
      "\r",
      "Val:  80%|████████  | 69/86 [02:41<00:41,  2.42s/it, eval_loss=0.0967, gpu_mem=6.91 GB]"
     ]
    },
    {
     "name": "stderr",
     "output_type": "stream",
     "text": [
      "\r",
      "Val:  80%|████████  | 69/86 [02:44<00:41,  2.42s/it, eval_loss=0.0964, gpu_mem=6.91 GB]"
     ]
    },
    {
     "name": "stderr",
     "output_type": "stream",
     "text": [
      "\r",
      "Val:  81%|████████▏ | 70/86 [02:44<00:37,  2.35s/it, eval_loss=0.0964, gpu_mem=6.91 GB]"
     ]
    },
    {
     "name": "stderr",
     "output_type": "stream",
     "text": [
      "\r",
      "Val:  81%|████████▏ | 70/86 [02:46<00:37,  2.35s/it, eval_loss=0.0971, gpu_mem=6.91 GB]"
     ]
    },
    {
     "name": "stderr",
     "output_type": "stream",
     "text": [
      "\r",
      "Val:  83%|████████▎ | 71/86 [02:46<00:35,  2.38s/it, eval_loss=0.0971, gpu_mem=6.91 GB]"
     ]
    },
    {
     "name": "stderr",
     "output_type": "stream",
     "text": [
      "\r",
      "Val:  83%|████████▎ | 71/86 [02:48<00:35,  2.38s/it, eval_loss=0.0967, gpu_mem=6.91 GB]"
     ]
    },
    {
     "name": "stderr",
     "output_type": "stream",
     "text": [
      "\r",
      "Val:  84%|████████▎ | 72/86 [02:48<00:32,  2.33s/it, eval_loss=0.0967, gpu_mem=6.91 GB]"
     ]
    },
    {
     "name": "stderr",
     "output_type": "stream",
     "text": [
      "\r",
      "Val:  84%|████████▎ | 72/86 [02:50<00:32,  2.33s/it, eval_loss=0.0964, gpu_mem=6.91 GB]"
     ]
    },
    {
     "name": "stderr",
     "output_type": "stream",
     "text": [
      "\r",
      "Val:  85%|████████▍ | 73/86 [02:50<00:29,  2.30s/it, eval_loss=0.0964, gpu_mem=6.91 GB]"
     ]
    },
    {
     "name": "stderr",
     "output_type": "stream",
     "text": [
      "\r",
      "Val:  85%|████████▍ | 73/86 [02:53<00:29,  2.30s/it, eval_loss=0.0967, gpu_mem=6.91 GB]"
     ]
    },
    {
     "name": "stderr",
     "output_type": "stream",
     "text": [
      "\r",
      "Val:  86%|████████▌ | 74/86 [02:53<00:27,  2.27s/it, eval_loss=0.0967, gpu_mem=6.91 GB]"
     ]
    },
    {
     "name": "stderr",
     "output_type": "stream",
     "text": [
      "\r",
      "Val:  86%|████████▌ | 74/86 [02:55<00:27,  2.27s/it, eval_loss=0.0961, gpu_mem=6.91 GB]"
     ]
    },
    {
     "name": "stderr",
     "output_type": "stream",
     "text": [
      "\r",
      "Val:  87%|████████▋ | 75/86 [02:55<00:25,  2.30s/it, eval_loss=0.0961, gpu_mem=6.91 GB]"
     ]
    },
    {
     "name": "stderr",
     "output_type": "stream",
     "text": [
      "\r",
      "Val:  87%|████████▋ | 75/86 [02:57<00:25,  2.30s/it, eval_loss=0.0955, gpu_mem=6.91 GB]"
     ]
    },
    {
     "name": "stderr",
     "output_type": "stream",
     "text": [
      "\r",
      "Val:  88%|████████▊ | 76/86 [02:57<00:23,  2.33s/it, eval_loss=0.0955, gpu_mem=6.91 GB]"
     ]
    },
    {
     "name": "stderr",
     "output_type": "stream",
     "text": [
      "\r",
      "Val:  88%|████████▊ | 76/86 [03:00<00:23,  2.33s/it, eval_loss=0.0966, gpu_mem=6.91 GB]"
     ]
    },
    {
     "name": "stderr",
     "output_type": "stream",
     "text": [
      "\r",
      "Val:  90%|████████▉ | 77/86 [03:00<00:20,  2.31s/it, eval_loss=0.0966, gpu_mem=6.91 GB]"
     ]
    },
    {
     "name": "stderr",
     "output_type": "stream",
     "text": [
      "\r",
      "Val:  90%|████████▉ | 77/86 [03:02<00:20,  2.31s/it, eval_loss=0.0959, gpu_mem=6.91 GB]"
     ]
    },
    {
     "name": "stderr",
     "output_type": "stream",
     "text": [
      "\r",
      "Val:  91%|█████████ | 78/86 [03:02<00:18,  2.27s/it, eval_loss=0.0959, gpu_mem=6.91 GB]"
     ]
    },
    {
     "name": "stderr",
     "output_type": "stream",
     "text": [
      "\r",
      "Val:  91%|█████████ | 78/86 [03:04<00:18,  2.27s/it, eval_loss=0.0958, gpu_mem=6.91 GB]"
     ]
    },
    {
     "name": "stderr",
     "output_type": "stream",
     "text": [
      "\r",
      "Val:  92%|█████████▏| 79/86 [03:04<00:15,  2.26s/it, eval_loss=0.0958, gpu_mem=6.91 GB]"
     ]
    },
    {
     "name": "stderr",
     "output_type": "stream",
     "text": [
      "\r",
      "Val:  92%|█████████▏| 79/86 [03:07<00:15,  2.26s/it, eval_loss=0.0960, gpu_mem=6.91 GB]"
     ]
    },
    {
     "name": "stderr",
     "output_type": "stream",
     "text": [
      "\r",
      "Val:  93%|█████████▎| 80/86 [03:07<00:13,  2.30s/it, eval_loss=0.0960, gpu_mem=6.91 GB]"
     ]
    },
    {
     "name": "stderr",
     "output_type": "stream",
     "text": [
      "\r",
      "Val:  93%|█████████▎| 80/86 [03:09<00:13,  2.30s/it, eval_loss=0.0954, gpu_mem=6.91 GB]"
     ]
    },
    {
     "name": "stderr",
     "output_type": "stream",
     "text": [
      "\r",
      "Val:  94%|█████████▍| 81/86 [03:09<00:11,  2.27s/it, eval_loss=0.0954, gpu_mem=6.91 GB]"
     ]
    },
    {
     "name": "stderr",
     "output_type": "stream",
     "text": [
      "\r",
      "Val:  94%|█████████▍| 81/86 [03:11<00:11,  2.27s/it, eval_loss=0.0950, gpu_mem=6.91 GB]"
     ]
    },
    {
     "name": "stderr",
     "output_type": "stream",
     "text": [
      "\r",
      "Val:  95%|█████████▌| 82/86 [03:11<00:09,  2.25s/it, eval_loss=0.0950, gpu_mem=6.91 GB]"
     ]
    },
    {
     "name": "stderr",
     "output_type": "stream",
     "text": [
      "\r",
      "Val:  95%|█████████▌| 82/86 [03:14<00:09,  2.25s/it, eval_loss=0.0948, gpu_mem=6.91 GB]"
     ]
    },
    {
     "name": "stderr",
     "output_type": "stream",
     "text": [
      "\r",
      "Val:  97%|█████████▋| 83/86 [03:14<00:07,  2.36s/it, eval_loss=0.0948, gpu_mem=6.91 GB]"
     ]
    },
    {
     "name": "stderr",
     "output_type": "stream",
     "text": [
      "\r",
      "Val:  97%|█████████▋| 83/86 [03:16<00:07,  2.36s/it, eval_loss=0.0945, gpu_mem=6.91 GB]"
     ]
    },
    {
     "name": "stderr",
     "output_type": "stream",
     "text": [
      "\r",
      "Val:  98%|█████████▊| 84/86 [03:16<00:04,  2.31s/it, eval_loss=0.0945, gpu_mem=6.91 GB]"
     ]
    },
    {
     "name": "stderr",
     "output_type": "stream",
     "text": [
      "\r",
      "Val:  98%|█████████▊| 84/86 [03:18<00:04,  2.31s/it, eval_loss=0.0972, gpu_mem=6.91 GB]"
     ]
    },
    {
     "name": "stderr",
     "output_type": "stream",
     "text": [
      "\r",
      "Val:  99%|█████████▉| 85/86 [03:18<00:02,  2.36s/it, eval_loss=0.0972, gpu_mem=6.91 GB]"
     ]
    },
    {
     "name": "stderr",
     "output_type": "stream",
     "text": [
      "\r",
      "Val:  99%|█████████▉| 85/86 [03:19<00:02,  2.36s/it, eval_loss=0.0972, gpu_mem=6.91 GB]"
     ]
    },
    {
     "name": "stderr",
     "output_type": "stream",
     "text": [
      "\r",
      "Val: 100%|██████████| 86/86 [03:19<00:00,  1.81s/it, eval_loss=0.0972, gpu_mem=6.91 GB]"
     ]
    },
    {
     "name": "stderr",
     "output_type": "stream",
     "text": [
      "\r",
      "Val: 100%|██████████| 86/86 [03:19<00:00,  2.32s/it, eval_loss=0.0972, gpu_mem=6.91 GB]"
     ]
    },
    {
     "name": "stderr",
     "output_type": "stream",
     "text": [
      "\n",
      "Valid loss:0.0972\n"
     ]
    },
    {
     "name": "stderr",
     "output_type": "stream",
     "text": [
      "Val metric mean prob: 0.1867\n"
     ]
    },
    {
     "name": "stderr",
     "output_type": "stream",
     "text": [
      "Best metric at: 0.5111 0.3630  0.7308\n"
     ]
    },
    {
     "name": "stderr",
     "output_type": "stream",
     "text": [
      "Cf: [[2315   18]\n",
      " [  26   23]]\n"
     ]
    },
    {
     "name": "stderr",
     "output_type": "stream",
     "text": [
      "\u001b[32m[I 2023-02-15 04:56:59,466]\u001b[0m Trial 16 finished with value: 0.5111111111111111 and parameters: {'a1': 0.8656064078208842}. Best is trial 0 with value: 0.5111111111111111.\u001b[0m\n"
     ]
    },
    {
     "name": "stdout",
     "output_type": "stream",
     "text": [
      "/kaggle/input/10folds/tf_efficientnetv2_b2_fold_1_model_epoch_3_0.5055_0.360.pth\n",
      "none:  /kaggle/input/10folds/tf_efficientnetv2_b2_fold_1_model_epoch_3_0.5055_0.360.pth\n",
      "/kaggle/input/10folds/tf_efficientnetv2_b2_fold_1_model_epoch_5_0.4865_0.324.pth\n",
      "hehe /kaggle/input/10folds/tf_efficientnetv2_b2_fold_1_model_epoch_5_0.4865_0.324.pth\n",
      "0.7457924812862755 0.2542075187137245\n",
      "\n"
     ]
    },
    {
     "name": "stderr",
     "output_type": "stream",
     "text": [
      "\r",
      "Val:   0%|          | 0/86 [00:00<?, ?it/s]"
     ]
    },
    {
     "name": "stderr",
     "output_type": "stream",
     "text": [
      "\r",
      "Val:   0%|          | 0/86 [00:04<?, ?it/s, eval_loss=0.0552, gpu_mem=6.91 GB]"
     ]
    },
    {
     "name": "stderr",
     "output_type": "stream",
     "text": [
      "\r",
      "Val:   1%|          | 1/86 [00:04<06:02,  4.26s/it, eval_loss=0.0552, gpu_mem=6.91 GB]"
     ]
    },
    {
     "name": "stderr",
     "output_type": "stream",
     "text": [
      "\r",
      "Val:   1%|          | 1/86 [00:06<06:02,  4.26s/it, eval_loss=0.0431, gpu_mem=6.91 GB]"
     ]
    },
    {
     "name": "stderr",
     "output_type": "stream",
     "text": [
      "\r",
      "Val:   2%|▏         | 2/86 [00:06<04:31,  3.23s/it, eval_loss=0.0431, gpu_mem=6.91 GB]"
     ]
    },
    {
     "name": "stderr",
     "output_type": "stream",
     "text": [
      "\r",
      "Val:   2%|▏         | 2/86 [00:09<04:31,  3.23s/it, eval_loss=0.0889, gpu_mem=6.91 GB]"
     ]
    },
    {
     "name": "stderr",
     "output_type": "stream",
     "text": [
      "\r",
      "Val:   3%|▎         | 3/86 [00:09<03:55,  2.83s/it, eval_loss=0.0889, gpu_mem=6.91 GB]"
     ]
    },
    {
     "name": "stderr",
     "output_type": "stream",
     "text": [
      "\r",
      "Val:   3%|▎         | 3/86 [00:11<03:55,  2.83s/it, eval_loss=0.0997, gpu_mem=6.91 GB]"
     ]
    },
    {
     "name": "stderr",
     "output_type": "stream",
     "text": [
      "\r",
      "Val:   5%|▍         | 4/86 [00:11<03:32,  2.59s/it, eval_loss=0.0997, gpu_mem=6.91 GB]"
     ]
    },
    {
     "name": "stderr",
     "output_type": "stream",
     "text": [
      "\r",
      "Val:   5%|▍         | 4/86 [00:13<03:32,  2.59s/it, eval_loss=0.0955, gpu_mem=6.91 GB]"
     ]
    },
    {
     "name": "stderr",
     "output_type": "stream",
     "text": [
      "\r",
      "Val:   6%|▌         | 5/86 [00:13<03:18,  2.45s/it, eval_loss=0.0955, gpu_mem=6.91 GB]"
     ]
    },
    {
     "name": "stderr",
     "output_type": "stream",
     "text": [
      "\r",
      "Val:   6%|▌         | 5/86 [00:15<03:18,  2.45s/it, eval_loss=0.0924, gpu_mem=6.91 GB]"
     ]
    },
    {
     "name": "stderr",
     "output_type": "stream",
     "text": [
      "\r",
      "Val:   7%|▋         | 6/86 [00:15<03:10,  2.38s/it, eval_loss=0.0924, gpu_mem=6.91 GB]"
     ]
    },
    {
     "name": "stderr",
     "output_type": "stream",
     "text": [
      "\r",
      "Val:   7%|▋         | 6/86 [00:18<03:10,  2.38s/it, eval_loss=0.0847, gpu_mem=6.91 GB]"
     ]
    },
    {
     "name": "stderr",
     "output_type": "stream",
     "text": [
      "\r",
      "Val:   8%|▊         | 7/86 [00:18<03:09,  2.40s/it, eval_loss=0.0847, gpu_mem=6.91 GB]"
     ]
    },
    {
     "name": "stderr",
     "output_type": "stream",
     "text": [
      "\r",
      "Val:   8%|▊         | 7/86 [00:20<03:09,  2.40s/it, eval_loss=0.0818, gpu_mem=6.91 GB]"
     ]
    },
    {
     "name": "stderr",
     "output_type": "stream",
     "text": [
      "\r",
      "Val:   9%|▉         | 8/86 [00:20<03:03,  2.35s/it, eval_loss=0.0818, gpu_mem=6.91 GB]"
     ]
    },
    {
     "name": "stderr",
     "output_type": "stream",
     "text": [
      "\r",
      "Val:   9%|▉         | 8/86 [00:23<03:03,  2.35s/it, eval_loss=0.0801, gpu_mem=6.91 GB]"
     ]
    },
    {
     "name": "stderr",
     "output_type": "stream",
     "text": [
      "\r",
      "Val:  10%|█         | 9/86 [00:23<03:09,  2.46s/it, eval_loss=0.0801, gpu_mem=6.91 GB]"
     ]
    },
    {
     "name": "stderr",
     "output_type": "stream",
     "text": [
      "\r",
      "Val:  10%|█         | 9/86 [00:25<03:09,  2.46s/it, eval_loss=0.0871, gpu_mem=6.91 GB]"
     ]
    },
    {
     "name": "stderr",
     "output_type": "stream",
     "text": [
      "\r",
      "Val:  12%|█▏        | 10/86 [00:25<02:59,  2.36s/it, eval_loss=0.0871, gpu_mem=6.91 GB]"
     ]
    },
    {
     "name": "stderr",
     "output_type": "stream",
     "text": [
      "\r",
      "Val:  12%|█▏        | 10/86 [00:27<02:59,  2.36s/it, eval_loss=0.0842, gpu_mem=6.91 GB]"
     ]
    },
    {
     "name": "stderr",
     "output_type": "stream",
     "text": [
      "\r",
      "Val:  13%|█▎        | 11/86 [00:27<02:56,  2.35s/it, eval_loss=0.0842, gpu_mem=6.91 GB]"
     ]
    },
    {
     "name": "stderr",
     "output_type": "stream",
     "text": [
      "\r",
      "Val:  13%|█▎        | 11/86 [00:30<02:56,  2.35s/it, eval_loss=0.0844, gpu_mem=6.91 GB]"
     ]
    },
    {
     "name": "stderr",
     "output_type": "stream",
     "text": [
      "\r",
      "Val:  14%|█▍        | 12/86 [00:30<02:55,  2.37s/it, eval_loss=0.0844, gpu_mem=6.91 GB]"
     ]
    },
    {
     "name": "stderr",
     "output_type": "stream",
     "text": [
      "\r",
      "Val:  14%|█▍        | 12/86 [00:32<02:55,  2.37s/it, eval_loss=0.0865, gpu_mem=6.91 GB]"
     ]
    },
    {
     "name": "stderr",
     "output_type": "stream",
     "text": [
      "\r",
      "Val:  15%|█▌        | 13/86 [00:32<02:49,  2.32s/it, eval_loss=0.0865, gpu_mem=6.91 GB]"
     ]
    },
    {
     "name": "stderr",
     "output_type": "stream",
     "text": [
      "\r",
      "Val:  15%|█▌        | 13/86 [00:34<02:49,  2.32s/it, eval_loss=0.0828, gpu_mem=6.91 GB]"
     ]
    },
    {
     "name": "stderr",
     "output_type": "stream",
     "text": [
      "\r",
      "Val:  16%|█▋        | 14/86 [00:34<02:44,  2.29s/it, eval_loss=0.0828, gpu_mem=6.91 GB]"
     ]
    },
    {
     "name": "stderr",
     "output_type": "stream",
     "text": [
      "\r",
      "Val:  16%|█▋        | 14/86 [00:36<02:44,  2.29s/it, eval_loss=0.0800, gpu_mem=6.91 GB]"
     ]
    },
    {
     "name": "stderr",
     "output_type": "stream",
     "text": [
      "\r",
      "Val:  17%|█▋        | 15/86 [00:36<02:40,  2.26s/it, eval_loss=0.0800, gpu_mem=6.91 GB]"
     ]
    },
    {
     "name": "stderr",
     "output_type": "stream",
     "text": [
      "\r",
      "Val:  17%|█▋        | 15/86 [00:38<02:40,  2.26s/it, eval_loss=0.0781, gpu_mem=6.91 GB]"
     ]
    },
    {
     "name": "stderr",
     "output_type": "stream",
     "text": [
      "\r",
      "Val:  19%|█▊        | 16/86 [00:38<02:38,  2.26s/it, eval_loss=0.0781, gpu_mem=6.91 GB]"
     ]
    },
    {
     "name": "stderr",
     "output_type": "stream",
     "text": [
      "\r",
      "Val:  19%|█▊        | 16/86 [00:41<02:38,  2.26s/it, eval_loss=0.0782, gpu_mem=6.91 GB]"
     ]
    },
    {
     "name": "stderr",
     "output_type": "stream",
     "text": [
      "\r",
      "Val:  20%|█▉        | 17/86 [00:41<02:41,  2.34s/it, eval_loss=0.0782, gpu_mem=6.91 GB]"
     ]
    },
    {
     "name": "stderr",
     "output_type": "stream",
     "text": [
      "\r",
      "Val:  20%|█▉        | 17/86 [00:43<02:41,  2.34s/it, eval_loss=0.0777, gpu_mem=6.91 GB]"
     ]
    },
    {
     "name": "stderr",
     "output_type": "stream",
     "text": [
      "\r",
      "Val:  21%|██        | 18/86 [00:43<02:37,  2.32s/it, eval_loss=0.0777, gpu_mem=6.91 GB]"
     ]
    },
    {
     "name": "stderr",
     "output_type": "stream",
     "text": [
      "\r",
      "Val:  21%|██        | 18/86 [00:45<02:37,  2.32s/it, eval_loss=0.0779, gpu_mem=6.91 GB]"
     ]
    },
    {
     "name": "stderr",
     "output_type": "stream",
     "text": [
      "\r",
      "Val:  22%|██▏       | 19/86 [00:45<02:33,  2.29s/it, eval_loss=0.0779, gpu_mem=6.91 GB]"
     ]
    },
    {
     "name": "stderr",
     "output_type": "stream",
     "text": [
      "\r",
      "Val:  22%|██▏       | 19/86 [00:48<02:33,  2.29s/it, eval_loss=0.0785, gpu_mem=6.91 GB]"
     ]
    },
    {
     "name": "stderr",
     "output_type": "stream",
     "text": [
      "\r",
      "Val:  23%|██▎       | 20/86 [00:48<02:29,  2.27s/it, eval_loss=0.0785, gpu_mem=6.91 GB]"
     ]
    },
    {
     "name": "stderr",
     "output_type": "stream",
     "text": [
      "\r",
      "Val:  23%|██▎       | 20/86 [00:50<02:29,  2.27s/it, eval_loss=0.0771, gpu_mem=6.91 GB]"
     ]
    },
    {
     "name": "stderr",
     "output_type": "stream",
     "text": [
      "\r",
      "Val:  24%|██▍       | 21/86 [00:50<02:30,  2.32s/it, eval_loss=0.0771, gpu_mem=6.91 GB]"
     ]
    },
    {
     "name": "stderr",
     "output_type": "stream",
     "text": [
      "\r",
      "Val:  24%|██▍       | 21/86 [00:52<02:30,  2.32s/it, eval_loss=0.0804, gpu_mem=6.91 GB]"
     ]
    },
    {
     "name": "stderr",
     "output_type": "stream",
     "text": [
      "\r",
      "Val:  26%|██▌       | 22/86 [00:52<02:26,  2.29s/it, eval_loss=0.0804, gpu_mem=6.91 GB]"
     ]
    },
    {
     "name": "stderr",
     "output_type": "stream",
     "text": [
      "\r",
      "Val:  26%|██▌       | 22/86 [00:55<02:26,  2.29s/it, eval_loss=0.0844, gpu_mem=6.91 GB]"
     ]
    },
    {
     "name": "stderr",
     "output_type": "stream",
     "text": [
      "\r",
      "Val:  27%|██▋       | 23/86 [00:55<02:31,  2.40s/it, eval_loss=0.0844, gpu_mem=6.91 GB]"
     ]
    },
    {
     "name": "stderr",
     "output_type": "stream",
     "text": [
      "\r",
      "Val:  27%|██▋       | 23/86 [00:57<02:31,  2.40s/it, eval_loss=0.0839, gpu_mem=6.91 GB]"
     ]
    },
    {
     "name": "stderr",
     "output_type": "stream",
     "text": [
      "\r",
      "Val:  28%|██▊       | 24/86 [00:57<02:28,  2.39s/it, eval_loss=0.0839, gpu_mem=6.91 GB]"
     ]
    },
    {
     "name": "stderr",
     "output_type": "stream",
     "text": [
      "\r",
      "Val:  28%|██▊       | 24/86 [01:00<02:28,  2.39s/it, eval_loss=0.0837, gpu_mem=6.91 GB]"
     ]
    },
    {
     "name": "stderr",
     "output_type": "stream",
     "text": [
      "\r",
      "Val:  29%|██▉       | 25/86 [01:00<02:21,  2.33s/it, eval_loss=0.0837, gpu_mem=6.91 GB]"
     ]
    },
    {
     "name": "stderr",
     "output_type": "stream",
     "text": [
      "\r",
      "Val:  29%|██▉       | 25/86 [01:02<02:21,  2.33s/it, eval_loss=0.0816, gpu_mem=6.91 GB]"
     ]
    },
    {
     "name": "stderr",
     "output_type": "stream",
     "text": [
      "\r",
      "Val:  30%|███       | 26/86 [01:02<02:17,  2.29s/it, eval_loss=0.0816, gpu_mem=6.91 GB]"
     ]
    },
    {
     "name": "stderr",
     "output_type": "stream",
     "text": [
      "\r",
      "Val:  30%|███       | 26/86 [01:04<02:17,  2.29s/it, eval_loss=0.0853, gpu_mem=6.91 GB]"
     ]
    },
    {
     "name": "stderr",
     "output_type": "stream",
     "text": [
      "\r",
      "Val:  31%|███▏      | 27/86 [01:04<02:13,  2.26s/it, eval_loss=0.0853, gpu_mem=6.91 GB]"
     ]
    },
    {
     "name": "stderr",
     "output_type": "stream",
     "text": [
      "\r",
      "Val:  31%|███▏      | 27/86 [01:06<02:13,  2.26s/it, eval_loss=0.0848, gpu_mem=6.91 GB]"
     ]
    },
    {
     "name": "stderr",
     "output_type": "stream",
     "text": [
      "\r",
      "Val:  33%|███▎      | 28/86 [01:06<02:10,  2.25s/it, eval_loss=0.0848, gpu_mem=6.91 GB]"
     ]
    },
    {
     "name": "stderr",
     "output_type": "stream",
     "text": [
      "\r",
      "Val:  33%|███▎      | 28/86 [01:08<02:10,  2.25s/it, eval_loss=0.0838, gpu_mem=6.91 GB]"
     ]
    },
    {
     "name": "stderr",
     "output_type": "stream",
     "text": [
      "\r",
      "Val:  34%|███▎      | 29/86 [01:08<02:07,  2.23s/it, eval_loss=0.0838, gpu_mem=6.91 GB]"
     ]
    },
    {
     "name": "stderr",
     "output_type": "stream",
     "text": [
      "\r",
      "Val:  34%|███▎      | 29/86 [01:11<02:07,  2.23s/it, eval_loss=0.0838, gpu_mem=6.91 GB]"
     ]
    },
    {
     "name": "stderr",
     "output_type": "stream",
     "text": [
      "\r",
      "Val:  35%|███▍      | 30/86 [01:11<02:04,  2.22s/it, eval_loss=0.0838, gpu_mem=6.91 GB]"
     ]
    },
    {
     "name": "stderr",
     "output_type": "stream",
     "text": [
      "\r",
      "Val:  35%|███▍      | 30/86 [01:13<02:04,  2.22s/it, eval_loss=0.0830, gpu_mem=6.91 GB]"
     ]
    },
    {
     "name": "stderr",
     "output_type": "stream",
     "text": [
      "\r",
      "Val:  36%|███▌      | 31/86 [01:13<02:03,  2.24s/it, eval_loss=0.0830, gpu_mem=6.91 GB]"
     ]
    },
    {
     "name": "stderr",
     "output_type": "stream",
     "text": [
      "\r",
      "Val:  36%|███▌      | 31/86 [01:15<02:03,  2.24s/it, eval_loss=0.0905, gpu_mem=6.91 GB]"
     ]
    },
    {
     "name": "stderr",
     "output_type": "stream",
     "text": [
      "\r",
      "Val:  37%|███▋      | 32/86 [01:15<02:01,  2.24s/it, eval_loss=0.0905, gpu_mem=6.91 GB]"
     ]
    },
    {
     "name": "stderr",
     "output_type": "stream",
     "text": [
      "\r",
      "Val:  37%|███▋      | 32/86 [01:17<02:01,  2.24s/it, eval_loss=0.0886, gpu_mem=6.91 GB]"
     ]
    },
    {
     "name": "stderr",
     "output_type": "stream",
     "text": [
      "\r",
      "Val:  38%|███▊      | 33/86 [01:17<01:58,  2.23s/it, eval_loss=0.0886, gpu_mem=6.91 GB]"
     ]
    },
    {
     "name": "stderr",
     "output_type": "stream",
     "text": [
      "\r",
      "Val:  38%|███▊      | 33/86 [01:20<01:58,  2.23s/it, eval_loss=0.0899, gpu_mem=6.91 GB]"
     ]
    },
    {
     "name": "stderr",
     "output_type": "stream",
     "text": [
      "\r",
      "Val:  40%|███▉      | 34/86 [01:20<01:56,  2.23s/it, eval_loss=0.0899, gpu_mem=6.91 GB]"
     ]
    },
    {
     "name": "stderr",
     "output_type": "stream",
     "text": [
      "\r",
      "Val:  40%|███▉      | 34/86 [01:22<01:56,  2.23s/it, eval_loss=0.0889, gpu_mem=6.91 GB]"
     ]
    },
    {
     "name": "stderr",
     "output_type": "stream",
     "text": [
      "\r",
      "Val:  41%|████      | 35/86 [01:22<01:53,  2.22s/it, eval_loss=0.0889, gpu_mem=6.91 GB]"
     ]
    },
    {
     "name": "stderr",
     "output_type": "stream",
     "text": [
      "\r",
      "Val:  41%|████      | 35/86 [01:24<01:53,  2.22s/it, eval_loss=0.0875, gpu_mem=6.91 GB]"
     ]
    },
    {
     "name": "stderr",
     "output_type": "stream",
     "text": [
      "\r",
      "Val:  42%|████▏     | 36/86 [01:24<01:50,  2.21s/it, eval_loss=0.0875, gpu_mem=6.91 GB]"
     ]
    },
    {
     "name": "stderr",
     "output_type": "stream",
     "text": [
      "\r",
      "Val:  42%|████▏     | 36/86 [01:27<01:50,  2.21s/it, eval_loss=0.0881, gpu_mem=6.91 GB]"
     ]
    },
    {
     "name": "stderr",
     "output_type": "stream",
     "text": [
      "\r",
      "Val:  43%|████▎     | 37/86 [01:27<01:54,  2.34s/it, eval_loss=0.0881, gpu_mem=6.91 GB]"
     ]
    },
    {
     "name": "stderr",
     "output_type": "stream",
     "text": [
      "\r",
      "Val:  43%|████▎     | 37/86 [01:29<01:54,  2.34s/it, eval_loss=0.0879, gpu_mem=6.91 GB]"
     ]
    },
    {
     "name": "stderr",
     "output_type": "stream",
     "text": [
      "\r",
      "Val:  44%|████▍     | 38/86 [01:29<01:50,  2.31s/it, eval_loss=0.0879, gpu_mem=6.91 GB]"
     ]
    },
    {
     "name": "stderr",
     "output_type": "stream",
     "text": [
      "\r",
      "Val:  44%|████▍     | 38/86 [01:31<01:50,  2.31s/it, eval_loss=0.0865, gpu_mem=6.91 GB]"
     ]
    },
    {
     "name": "stderr",
     "output_type": "stream",
     "text": [
      "\r",
      "Val:  45%|████▌     | 39/86 [01:31<01:47,  2.28s/it, eval_loss=0.0865, gpu_mem=6.91 GB]"
     ]
    },
    {
     "name": "stderr",
     "output_type": "stream",
     "text": [
      "\r",
      "Val:  45%|████▌     | 39/86 [01:33<01:47,  2.28s/it, eval_loss=0.0864, gpu_mem=6.91 GB]"
     ]
    },
    {
     "name": "stderr",
     "output_type": "stream",
     "text": [
      "\r",
      "Val:  47%|████▋     | 40/86 [01:33<01:43,  2.26s/it, eval_loss=0.0864, gpu_mem=6.91 GB]"
     ]
    },
    {
     "name": "stderr",
     "output_type": "stream",
     "text": [
      "\r",
      "Val:  47%|████▋     | 40/86 [01:35<01:43,  2.26s/it, eval_loss=0.0859, gpu_mem=6.91 GB]"
     ]
    },
    {
     "name": "stderr",
     "output_type": "stream",
     "text": [
      "\r",
      "Val:  48%|████▊     | 41/86 [01:35<01:40,  2.24s/it, eval_loss=0.0859, gpu_mem=6.91 GB]"
     ]
    },
    {
     "name": "stderr",
     "output_type": "stream",
     "text": [
      "\r",
      "Val:  48%|████▊     | 41/86 [01:38<01:40,  2.24s/it, eval_loss=0.0854, gpu_mem=6.91 GB]"
     ]
    },
    {
     "name": "stderr",
     "output_type": "stream",
     "text": [
      "\r",
      "Val:  49%|████▉     | 42/86 [01:38<01:38,  2.23s/it, eval_loss=0.0854, gpu_mem=6.91 GB]"
     ]
    },
    {
     "name": "stderr",
     "output_type": "stream",
     "text": [
      "\r",
      "Val:  49%|████▉     | 42/86 [01:40<01:38,  2.23s/it, eval_loss=0.0845, gpu_mem=6.91 GB]"
     ]
    },
    {
     "name": "stderr",
     "output_type": "stream",
     "text": [
      "\r",
      "Val:  50%|█████     | 43/86 [01:40<01:36,  2.23s/it, eval_loss=0.0845, gpu_mem=6.91 GB]"
     ]
    },
    {
     "name": "stderr",
     "output_type": "stream",
     "text": [
      "\r",
      "Val:  50%|█████     | 43/86 [01:42<01:36,  2.23s/it, eval_loss=0.0877, gpu_mem=6.91 GB]"
     ]
    },
    {
     "name": "stderr",
     "output_type": "stream",
     "text": [
      "\r",
      "Val:  51%|█████     | 44/86 [01:42<01:33,  2.23s/it, eval_loss=0.0877, gpu_mem=6.91 GB]"
     ]
    },
    {
     "name": "stderr",
     "output_type": "stream",
     "text": [
      "\r",
      "Val:  51%|█████     | 44/86 [01:44<01:33,  2.23s/it, eval_loss=0.0864, gpu_mem=6.91 GB]"
     ]
    },
    {
     "name": "stderr",
     "output_type": "stream",
     "text": [
      "\r",
      "Val:  52%|█████▏    | 45/86 [01:44<01:32,  2.24s/it, eval_loss=0.0864, gpu_mem=6.91 GB]"
     ]
    },
    {
     "name": "stderr",
     "output_type": "stream",
     "text": [
      "\r",
      "Val:  52%|█████▏    | 45/86 [01:47<01:32,  2.24s/it, eval_loss=0.0863, gpu_mem=6.91 GB]"
     ]
    },
    {
     "name": "stderr",
     "output_type": "stream",
     "text": [
      "\r",
      "Val:  53%|█████▎    | 46/86 [01:47<01:29,  2.24s/it, eval_loss=0.0863, gpu_mem=6.91 GB]"
     ]
    },
    {
     "name": "stderr",
     "output_type": "stream",
     "text": [
      "\r",
      "Val:  53%|█████▎    | 46/86 [01:49<01:29,  2.24s/it, eval_loss=0.0856, gpu_mem=6.91 GB]"
     ]
    },
    {
     "name": "stderr",
     "output_type": "stream",
     "text": [
      "\r",
      "Val:  55%|█████▍    | 47/86 [01:49<01:30,  2.32s/it, eval_loss=0.0856, gpu_mem=6.91 GB]"
     ]
    },
    {
     "name": "stderr",
     "output_type": "stream",
     "text": [
      "\r",
      "Val:  55%|█████▍    | 47/86 [01:51<01:30,  2.32s/it, eval_loss=0.0874, gpu_mem=6.91 GB]"
     ]
    },
    {
     "name": "stderr",
     "output_type": "stream",
     "text": [
      "\r",
      "Val:  56%|█████▌    | 48/86 [01:51<01:26,  2.28s/it, eval_loss=0.0874, gpu_mem=6.91 GB]"
     ]
    },
    {
     "name": "stderr",
     "output_type": "stream",
     "text": [
      "\r",
      "Val:  56%|█████▌    | 48/86 [01:53<01:26,  2.28s/it, eval_loss=0.0869, gpu_mem=6.91 GB]"
     ]
    },
    {
     "name": "stderr",
     "output_type": "stream",
     "text": [
      "\r",
      "Val:  57%|█████▋    | 49/86 [01:53<01:23,  2.26s/it, eval_loss=0.0869, gpu_mem=6.91 GB]"
     ]
    },
    {
     "name": "stderr",
     "output_type": "stream",
     "text": [
      "\r",
      "Val:  57%|█████▋    | 49/86 [01:56<01:23,  2.26s/it, eval_loss=0.0866, gpu_mem=6.91 GB]"
     ]
    },
    {
     "name": "stderr",
     "output_type": "stream",
     "text": [
      "\r",
      "Val:  58%|█████▊    | 50/86 [01:56<01:20,  2.24s/it, eval_loss=0.0866, gpu_mem=6.91 GB]"
     ]
    },
    {
     "name": "stderr",
     "output_type": "stream",
     "text": [
      "\r",
      "Val:  58%|█████▊    | 50/86 [01:59<01:20,  2.24s/it, eval_loss=0.0895, gpu_mem=6.91 GB]"
     ]
    },
    {
     "name": "stderr",
     "output_type": "stream",
     "text": [
      "\r",
      "Val:  59%|█████▉    | 51/86 [01:59<01:25,  2.44s/it, eval_loss=0.0895, gpu_mem=6.91 GB]"
     ]
    },
    {
     "name": "stderr",
     "output_type": "stream",
     "text": [
      "\r",
      "Val:  59%|█████▉    | 51/86 [02:01<01:25,  2.44s/it, eval_loss=0.0909, gpu_mem=6.91 GB]"
     ]
    },
    {
     "name": "stderr",
     "output_type": "stream",
     "text": [
      "\r",
      "Val:  60%|██████    | 52/86 [02:01<01:21,  2.39s/it, eval_loss=0.0909, gpu_mem=6.91 GB]"
     ]
    },
    {
     "name": "stderr",
     "output_type": "stream",
     "text": [
      "\r",
      "Val:  60%|██████    | 52/86 [02:03<01:21,  2.39s/it, eval_loss=0.0922, gpu_mem=6.91 GB]"
     ]
    },
    {
     "name": "stderr",
     "output_type": "stream",
     "text": [
      "\r",
      "Val:  62%|██████▏   | 53/86 [02:03<01:16,  2.32s/it, eval_loss=0.0922, gpu_mem=6.91 GB]"
     ]
    },
    {
     "name": "stderr",
     "output_type": "stream",
     "text": [
      "\r",
      "Val:  62%|██████▏   | 53/86 [02:05<01:16,  2.32s/it, eval_loss=0.0915, gpu_mem=6.91 GB]"
     ]
    },
    {
     "name": "stderr",
     "output_type": "stream",
     "text": [
      "\r",
      "Val:  63%|██████▎   | 54/86 [02:05<01:13,  2.28s/it, eval_loss=0.0915, gpu_mem=6.91 GB]"
     ]
    },
    {
     "name": "stderr",
     "output_type": "stream",
     "text": [
      "\r",
      "Val:  63%|██████▎   | 54/86 [02:07<01:13,  2.28s/it, eval_loss=0.0922, gpu_mem=6.91 GB]"
     ]
    },
    {
     "name": "stderr",
     "output_type": "stream",
     "text": [
      "\r",
      "Val:  64%|██████▍   | 55/86 [02:07<01:10,  2.27s/it, eval_loss=0.0922, gpu_mem=6.91 GB]"
     ]
    },
    {
     "name": "stderr",
     "output_type": "stream",
     "text": [
      "\r",
      "Val:  64%|██████▍   | 55/86 [02:10<01:10,  2.27s/it, eval_loss=0.0918, gpu_mem=6.91 GB]"
     ]
    },
    {
     "name": "stderr",
     "output_type": "stream",
     "text": [
      "\r",
      "Val:  65%|██████▌   | 56/86 [02:10<01:10,  2.34s/it, eval_loss=0.0918, gpu_mem=6.91 GB]"
     ]
    },
    {
     "name": "stderr",
     "output_type": "stream",
     "text": [
      "\r",
      "Val:  65%|██████▌   | 56/86 [02:12<01:10,  2.34s/it, eval_loss=0.0917, gpu_mem=6.91 GB]"
     ]
    },
    {
     "name": "stderr",
     "output_type": "stream",
     "text": [
      "\r",
      "Val:  66%|██████▋   | 57/86 [02:12<01:07,  2.32s/it, eval_loss=0.0917, gpu_mem=6.91 GB]"
     ]
    },
    {
     "name": "stderr",
     "output_type": "stream",
     "text": [
      "\r",
      "Val:  66%|██████▋   | 57/86 [02:14<01:07,  2.32s/it, eval_loss=0.0940, gpu_mem=6.91 GB]"
     ]
    },
    {
     "name": "stderr",
     "output_type": "stream",
     "text": [
      "\r",
      "Val:  67%|██████▋   | 58/86 [02:14<01:03,  2.28s/it, eval_loss=0.0940, gpu_mem=6.91 GB]"
     ]
    },
    {
     "name": "stderr",
     "output_type": "stream",
     "text": [
      "\r",
      "Val:  67%|██████▋   | 58/86 [02:17<01:03,  2.28s/it, eval_loss=0.0935, gpu_mem=6.91 GB]"
     ]
    },
    {
     "name": "stderr",
     "output_type": "stream",
     "text": [
      "\r",
      "Val:  69%|██████▊   | 59/86 [02:17<01:02,  2.33s/it, eval_loss=0.0935, gpu_mem=6.91 GB]"
     ]
    },
    {
     "name": "stderr",
     "output_type": "stream",
     "text": [
      "\r",
      "Val:  69%|██████▊   | 59/86 [02:19<01:02,  2.33s/it, eval_loss=0.0953, gpu_mem=6.91 GB]"
     ]
    },
    {
     "name": "stderr",
     "output_type": "stream",
     "text": [
      "\r",
      "Val:  70%|██████▉   | 60/86 [02:19<00:59,  2.30s/it, eval_loss=0.0953, gpu_mem=6.91 GB]"
     ]
    },
    {
     "name": "stderr",
     "output_type": "stream",
     "text": [
      "\r",
      "Val:  70%|██████▉   | 60/86 [02:21<00:59,  2.30s/it, eval_loss=0.0947, gpu_mem=6.91 GB]"
     ]
    },
    {
     "name": "stderr",
     "output_type": "stream",
     "text": [
      "\r",
      "Val:  71%|███████   | 61/86 [02:21<00:58,  2.33s/it, eval_loss=0.0947, gpu_mem=6.91 GB]"
     ]
    },
    {
     "name": "stderr",
     "output_type": "stream",
     "text": [
      "\r",
      "Val:  71%|███████   | 61/86 [02:24<00:58,  2.33s/it, eval_loss=0.0943, gpu_mem=6.91 GB]"
     ]
    },
    {
     "name": "stderr",
     "output_type": "stream",
     "text": [
      "\r",
      "Val:  72%|███████▏  | 62/86 [02:24<00:54,  2.28s/it, eval_loss=0.0943, gpu_mem=6.91 GB]"
     ]
    },
    {
     "name": "stderr",
     "output_type": "stream",
     "text": [
      "\r",
      "Val:  72%|███████▏  | 62/86 [02:26<00:54,  2.28s/it, eval_loss=0.0942, gpu_mem=6.91 GB]"
     ]
    },
    {
     "name": "stderr",
     "output_type": "stream",
     "text": [
      "\r",
      "Val:  73%|███████▎  | 63/86 [02:26<00:51,  2.26s/it, eval_loss=0.0942, gpu_mem=6.91 GB]"
     ]
    },
    {
     "name": "stderr",
     "output_type": "stream",
     "text": [
      "\r",
      "Val:  73%|███████▎  | 63/86 [02:28<00:51,  2.26s/it, eval_loss=0.0941, gpu_mem=6.91 GB]"
     ]
    },
    {
     "name": "stderr",
     "output_type": "stream",
     "text": [
      "\r",
      "Val:  74%|███████▍  | 64/86 [02:28<00:51,  2.34s/it, eval_loss=0.0941, gpu_mem=6.91 GB]"
     ]
    },
    {
     "name": "stderr",
     "output_type": "stream",
     "text": [
      "\r",
      "Val:  74%|███████▍  | 64/86 [02:31<00:51,  2.34s/it, eval_loss=0.0932, gpu_mem=6.91 GB]"
     ]
    },
    {
     "name": "stderr",
     "output_type": "stream",
     "text": [
      "\r",
      "Val:  76%|███████▌  | 65/86 [02:31<00:51,  2.44s/it, eval_loss=0.0932, gpu_mem=6.91 GB]"
     ]
    },
    {
     "name": "stderr",
     "output_type": "stream",
     "text": [
      "\r",
      "Val:  76%|███████▌  | 65/86 [02:34<00:51,  2.44s/it, eval_loss=0.0950, gpu_mem=6.91 GB]"
     ]
    },
    {
     "name": "stderr",
     "output_type": "stream",
     "text": [
      "\r",
      "Val:  77%|███████▋  | 66/86 [02:34<00:49,  2.46s/it, eval_loss=0.0950, gpu_mem=6.91 GB]"
     ]
    },
    {
     "name": "stderr",
     "output_type": "stream",
     "text": [
      "\r",
      "Val:  77%|███████▋  | 66/86 [02:36<00:49,  2.46s/it, eval_loss=0.0942, gpu_mem=6.91 GB]"
     ]
    },
    {
     "name": "stderr",
     "output_type": "stream",
     "text": [
      "\r",
      "Val:  78%|███████▊  | 67/86 [02:36<00:45,  2.38s/it, eval_loss=0.0942, gpu_mem=6.91 GB]"
     ]
    },
    {
     "name": "stderr",
     "output_type": "stream",
     "text": [
      "\r",
      "Val:  78%|███████▊  | 67/86 [02:38<00:45,  2.38s/it, eval_loss=0.0966, gpu_mem=6.91 GB]"
     ]
    },
    {
     "name": "stderr",
     "output_type": "stream",
     "text": [
      "\r",
      "Val:  79%|███████▉  | 68/86 [02:38<00:41,  2.32s/it, eval_loss=0.0966, gpu_mem=6.91 GB]"
     ]
    },
    {
     "name": "stderr",
     "output_type": "stream",
     "text": [
      "\r",
      "Val:  79%|███████▉  | 68/86 [02:40<00:41,  2.32s/it, eval_loss=0.0967, gpu_mem=6.91 GB]"
     ]
    },
    {
     "name": "stderr",
     "output_type": "stream",
     "text": [
      "\r",
      "Val:  80%|████████  | 69/86 [02:40<00:39,  2.30s/it, eval_loss=0.0967, gpu_mem=6.91 GB]"
     ]
    },
    {
     "name": "stderr",
     "output_type": "stream",
     "text": [
      "\r",
      "Val:  80%|████████  | 69/86 [02:43<00:39,  2.30s/it, eval_loss=0.0964, gpu_mem=6.91 GB]"
     ]
    },
    {
     "name": "stderr",
     "output_type": "stream",
     "text": [
      "\r",
      "Val:  81%|████████▏ | 70/86 [02:43<00:37,  2.32s/it, eval_loss=0.0964, gpu_mem=6.91 GB]"
     ]
    },
    {
     "name": "stderr",
     "output_type": "stream",
     "text": [
      "\r",
      "Val:  81%|████████▏ | 70/86 [02:45<00:37,  2.32s/it, eval_loss=0.0971, gpu_mem=6.91 GB]"
     ]
    },
    {
     "name": "stderr",
     "output_type": "stream",
     "text": [
      "\r",
      "Val:  83%|████████▎ | 71/86 [02:45<00:35,  2.36s/it, eval_loss=0.0971, gpu_mem=6.91 GB]"
     ]
    },
    {
     "name": "stderr",
     "output_type": "stream",
     "text": [
      "\r",
      "Val:  83%|████████▎ | 71/86 [02:47<00:35,  2.36s/it, eval_loss=0.0967, gpu_mem=6.91 GB]"
     ]
    },
    {
     "name": "stderr",
     "output_type": "stream",
     "text": [
      "\r",
      "Val:  84%|████████▎ | 72/86 [02:47<00:33,  2.36s/it, eval_loss=0.0967, gpu_mem=6.91 GB]"
     ]
    },
    {
     "name": "stderr",
     "output_type": "stream",
     "text": [
      "\r",
      "Val:  84%|████████▎ | 72/86 [02:50<00:33,  2.36s/it, eval_loss=0.0964, gpu_mem=6.91 GB]"
     ]
    },
    {
     "name": "stderr",
     "output_type": "stream",
     "text": [
      "\r",
      "Val:  85%|████████▍ | 73/86 [02:50<00:30,  2.31s/it, eval_loss=0.0964, gpu_mem=6.91 GB]"
     ]
    },
    {
     "name": "stderr",
     "output_type": "stream",
     "text": [
      "\r",
      "Val:  85%|████████▍ | 73/86 [02:52<00:30,  2.31s/it, eval_loss=0.0967, gpu_mem=6.91 GB]"
     ]
    },
    {
     "name": "stderr",
     "output_type": "stream",
     "text": [
      "\r",
      "Val:  86%|████████▌ | 74/86 [02:52<00:27,  2.28s/it, eval_loss=0.0967, gpu_mem=6.91 GB]"
     ]
    },
    {
     "name": "stderr",
     "output_type": "stream",
     "text": [
      "\r",
      "Val:  86%|████████▌ | 74/86 [02:54<00:27,  2.28s/it, eval_loss=0.0961, gpu_mem=6.91 GB]"
     ]
    },
    {
     "name": "stderr",
     "output_type": "stream",
     "text": [
      "\r",
      "Val:  87%|████████▋ | 75/86 [02:54<00:25,  2.33s/it, eval_loss=0.0961, gpu_mem=6.91 GB]"
     ]
    },
    {
     "name": "stderr",
     "output_type": "stream",
     "text": [
      "\r",
      "Val:  87%|████████▋ | 75/86 [02:56<00:25,  2.33s/it, eval_loss=0.0955, gpu_mem=6.91 GB]"
     ]
    },
    {
     "name": "stderr",
     "output_type": "stream",
     "text": [
      "\r",
      "Val:  88%|████████▊ | 76/86 [02:56<00:22,  2.30s/it, eval_loss=0.0955, gpu_mem=6.91 GB]"
     ]
    },
    {
     "name": "stderr",
     "output_type": "stream",
     "text": [
      "\r",
      "Val:  88%|████████▊ | 76/86 [02:59<00:22,  2.30s/it, eval_loss=0.0966, gpu_mem=6.91 GB]"
     ]
    },
    {
     "name": "stderr",
     "output_type": "stream",
     "text": [
      "\r",
      "Val:  90%|████████▉ | 77/86 [02:59<00:20,  2.28s/it, eval_loss=0.0966, gpu_mem=6.91 GB]"
     ]
    },
    {
     "name": "stderr",
     "output_type": "stream",
     "text": [
      "\r",
      "Val:  90%|████████▉ | 77/86 [03:01<00:20,  2.28s/it, eval_loss=0.0959, gpu_mem=6.91 GB]"
     ]
    },
    {
     "name": "stderr",
     "output_type": "stream",
     "text": [
      "\r",
      "Val:  91%|█████████ | 78/86 [03:01<00:19,  2.41s/it, eval_loss=0.0959, gpu_mem=6.91 GB]"
     ]
    },
    {
     "name": "stderr",
     "output_type": "stream",
     "text": [
      "\r",
      "Val:  91%|█████████ | 78/86 [03:04<00:19,  2.41s/it, eval_loss=0.0958, gpu_mem=6.91 GB]"
     ]
    },
    {
     "name": "stderr",
     "output_type": "stream",
     "text": [
      "\r",
      "Val:  92%|█████████▏| 79/86 [03:04<00:16,  2.35s/it, eval_loss=0.0958, gpu_mem=6.91 GB]"
     ]
    },
    {
     "name": "stderr",
     "output_type": "stream",
     "text": [
      "\r",
      "Val:  92%|█████████▏| 79/86 [03:06<00:16,  2.35s/it, eval_loss=0.0960, gpu_mem=6.91 GB]"
     ]
    },
    {
     "name": "stderr",
     "output_type": "stream",
     "text": [
      "\r",
      "Val:  93%|█████████▎| 80/86 [03:06<00:14,  2.39s/it, eval_loss=0.0960, gpu_mem=6.91 GB]"
     ]
    },
    {
     "name": "stderr",
     "output_type": "stream",
     "text": [
      "\r",
      "Val:  93%|█████████▎| 80/86 [03:08<00:14,  2.39s/it, eval_loss=0.0954, gpu_mem=6.91 GB]"
     ]
    },
    {
     "name": "stderr",
     "output_type": "stream",
     "text": [
      "\r",
      "Val:  94%|█████████▍| 81/86 [03:08<00:11,  2.33s/it, eval_loss=0.0954, gpu_mem=6.91 GB]"
     ]
    },
    {
     "name": "stderr",
     "output_type": "stream",
     "text": [
      "\r",
      "Val:  94%|█████████▍| 81/86 [03:10<00:11,  2.33s/it, eval_loss=0.0950, gpu_mem=6.91 GB]"
     ]
    },
    {
     "name": "stderr",
     "output_type": "stream",
     "text": [
      "\r",
      "Val:  95%|█████████▌| 82/86 [03:10<00:09,  2.29s/it, eval_loss=0.0950, gpu_mem=6.91 GB]"
     ]
    },
    {
     "name": "stderr",
     "output_type": "stream",
     "text": [
      "\r",
      "Val:  95%|█████████▌| 82/86 [03:13<00:09,  2.29s/it, eval_loss=0.0948, gpu_mem=6.91 GB]"
     ]
    },
    {
     "name": "stderr",
     "output_type": "stream",
     "text": [
      "\r",
      "Val:  97%|█████████▋| 83/86 [03:13<00:06,  2.26s/it, eval_loss=0.0948, gpu_mem=6.91 GB]"
     ]
    },
    {
     "name": "stderr",
     "output_type": "stream",
     "text": [
      "\r",
      "Val:  97%|█████████▋| 83/86 [03:15<00:06,  2.26s/it, eval_loss=0.0945, gpu_mem=6.91 GB]"
     ]
    },
    {
     "name": "stderr",
     "output_type": "stream",
     "text": [
      "\r",
      "Val:  98%|█████████▊| 84/86 [03:15<00:04,  2.27s/it, eval_loss=0.0945, gpu_mem=6.91 GB]"
     ]
    },
    {
     "name": "stderr",
     "output_type": "stream",
     "text": [
      "\r",
      "Val:  98%|█████████▊| 84/86 [03:18<00:04,  2.27s/it, eval_loss=0.0972, gpu_mem=6.91 GB]"
     ]
    },
    {
     "name": "stderr",
     "output_type": "stream",
     "text": [
      "\r",
      "Val:  99%|█████████▉| 85/86 [03:18<00:02,  2.35s/it, eval_loss=0.0972, gpu_mem=6.91 GB]"
     ]
    },
    {
     "name": "stderr",
     "output_type": "stream",
     "text": [
      "\r",
      "Val:  99%|█████████▉| 85/86 [03:18<00:02,  2.35s/it, eval_loss=0.0972, gpu_mem=6.91 GB]"
     ]
    },
    {
     "name": "stderr",
     "output_type": "stream",
     "text": [
      "\r",
      "Val: 100%|██████████| 86/86 [03:18<00:00,  1.80s/it, eval_loss=0.0972, gpu_mem=6.91 GB]"
     ]
    },
    {
     "name": "stderr",
     "output_type": "stream",
     "text": [
      "\r",
      "Val: 100%|██████████| 86/86 [03:18<00:00,  2.31s/it, eval_loss=0.0972, gpu_mem=6.91 GB]"
     ]
    },
    {
     "name": "stderr",
     "output_type": "stream",
     "text": [
      "\n",
      "Valid loss:0.0972\n"
     ]
    },
    {
     "name": "stderr",
     "output_type": "stream",
     "text": [
      "Val metric mean prob: 0.1867\n"
     ]
    },
    {
     "name": "stderr",
     "output_type": "stream",
     "text": [
      "Best metric at: 0.5111 0.3630  0.7308\n"
     ]
    },
    {
     "name": "stderr",
     "output_type": "stream",
     "text": [
      "Cf: [[2315   18]\n",
      " [  26   23]]\n"
     ]
    },
    {
     "name": "stderr",
     "output_type": "stream",
     "text": [
      "\u001b[32m[I 2023-02-15 05:00:21,001]\u001b[0m Trial 17 finished with value: 0.5111111111111111 and parameters: {'a1': 0.7457924812862755}. Best is trial 0 with value: 0.5111111111111111.\u001b[0m\n"
     ]
    },
    {
     "name": "stdout",
     "output_type": "stream",
     "text": [
      "/kaggle/input/10folds/tf_efficientnetv2_b2_fold_1_model_epoch_3_0.5055_0.360.pth\n",
      "none:  /kaggle/input/10folds/tf_efficientnetv2_b2_fold_1_model_epoch_3_0.5055_0.360.pth\n",
      "/kaggle/input/10folds/tf_efficientnetv2_b2_fold_1_model_epoch_5_0.4865_0.324.pth\n",
      "hehe /kaggle/input/10folds/tf_efficientnetv2_b2_fold_1_model_epoch_5_0.4865_0.324.pth\n",
      "0.9024459498943815 0.09755405010561846\n",
      "\n"
     ]
    },
    {
     "name": "stderr",
     "output_type": "stream",
     "text": [
      "\r",
      "Val:   0%|          | 0/86 [00:00<?, ?it/s]"
     ]
    },
    {
     "name": "stderr",
     "output_type": "stream",
     "text": [
      "\r",
      "Val:   0%|          | 0/86 [00:04<?, ?it/s, eval_loss=0.0552, gpu_mem=6.91 GB]"
     ]
    },
    {
     "name": "stderr",
     "output_type": "stream",
     "text": [
      "\r",
      "Val:   1%|          | 1/86 [00:04<06:06,  4.31s/it, eval_loss=0.0552, gpu_mem=6.91 GB]"
     ]
    },
    {
     "name": "stderr",
     "output_type": "stream",
     "text": [
      "\r",
      "Val:   1%|          | 1/86 [00:07<06:06,  4.31s/it, eval_loss=0.0431, gpu_mem=6.91 GB]"
     ]
    },
    {
     "name": "stderr",
     "output_type": "stream",
     "text": [
      "\r",
      "Val:   2%|▏         | 2/86 [00:07<04:53,  3.49s/it, eval_loss=0.0431, gpu_mem=6.91 GB]"
     ]
    },
    {
     "name": "stderr",
     "output_type": "stream",
     "text": [
      "\r",
      "Val:   2%|▏         | 2/86 [00:09<04:53,  3.49s/it, eval_loss=0.0889, gpu_mem=6.91 GB]"
     ]
    },
    {
     "name": "stderr",
     "output_type": "stream",
     "text": [
      "\r",
      "Val:   3%|▎         | 3/86 [00:09<04:14,  3.07s/it, eval_loss=0.0889, gpu_mem=6.91 GB]"
     ]
    },
    {
     "name": "stderr",
     "output_type": "stream",
     "text": [
      "\r",
      "Val:   3%|▎         | 3/86 [00:12<04:14,  3.07s/it, eval_loss=0.0997, gpu_mem=6.91 GB]"
     ]
    },
    {
     "name": "stderr",
     "output_type": "stream",
     "text": [
      "\r",
      "Val:   5%|▍         | 4/86 [00:12<04:09,  3.04s/it, eval_loss=0.0997, gpu_mem=6.91 GB]"
     ]
    },
    {
     "name": "stderr",
     "output_type": "stream",
     "text": [
      "\r",
      "Val:   5%|▍         | 4/86 [00:15<04:09,  3.04s/it, eval_loss=0.0955, gpu_mem=6.91 GB]"
     ]
    },
    {
     "name": "stderr",
     "output_type": "stream",
     "text": [
      "\r",
      "Val:   6%|▌         | 5/86 [00:15<03:52,  2.87s/it, eval_loss=0.0955, gpu_mem=6.91 GB]"
     ]
    },
    {
     "name": "stderr",
     "output_type": "stream",
     "text": [
      "\r",
      "Val:   6%|▌         | 5/86 [00:18<03:52,  2.87s/it, eval_loss=0.0924, gpu_mem=6.91 GB]"
     ]
    },
    {
     "name": "stderr",
     "output_type": "stream",
     "text": [
      "\r",
      "Val:   7%|▋         | 6/86 [00:18<03:44,  2.81s/it, eval_loss=0.0924, gpu_mem=6.91 GB]"
     ]
    },
    {
     "name": "stderr",
     "output_type": "stream",
     "text": [
      "\r",
      "Val:   7%|▋         | 6/86 [00:20<03:44,  2.81s/it, eval_loss=0.0847, gpu_mem=6.91 GB]"
     ]
    },
    {
     "name": "stderr",
     "output_type": "stream",
     "text": [
      "\r",
      "Val:   8%|▊         | 7/86 [00:20<03:34,  2.71s/it, eval_loss=0.0847, gpu_mem=6.91 GB]"
     ]
    },
    {
     "name": "stderr",
     "output_type": "stream",
     "text": [
      "\r",
      "Val:   8%|▊         | 7/86 [00:23<03:34,  2.71s/it, eval_loss=0.0818, gpu_mem=6.91 GB]"
     ]
    },
    {
     "name": "stderr",
     "output_type": "stream",
     "text": [
      "\r",
      "Val:   9%|▉         | 8/86 [00:23<03:28,  2.67s/it, eval_loss=0.0818, gpu_mem=6.91 GB]"
     ]
    },
    {
     "name": "stderr",
     "output_type": "stream",
     "text": [
      "\r",
      "Val:   9%|▉         | 8/86 [00:25<03:28,  2.67s/it, eval_loss=0.0801, gpu_mem=6.91 GB]"
     ]
    },
    {
     "name": "stderr",
     "output_type": "stream",
     "text": [
      "\r",
      "Val:  10%|█         | 9/86 [00:25<03:22,  2.63s/it, eval_loss=0.0801, gpu_mem=6.91 GB]"
     ]
    },
    {
     "name": "stderr",
     "output_type": "stream",
     "text": [
      "\r",
      "Val:  10%|█         | 9/86 [00:28<03:22,  2.63s/it, eval_loss=0.0871, gpu_mem=6.91 GB]"
     ]
    },
    {
     "name": "stderr",
     "output_type": "stream",
     "text": [
      "\r",
      "Val:  12%|█▏        | 10/86 [00:28<03:19,  2.63s/it, eval_loss=0.0871, gpu_mem=6.91 GB]"
     ]
    },
    {
     "name": "stderr",
     "output_type": "stream",
     "text": [
      "\r",
      "Val:  12%|█▏        | 10/86 [00:30<03:19,  2.63s/it, eval_loss=0.0842, gpu_mem=6.91 GB]"
     ]
    },
    {
     "name": "stderr",
     "output_type": "stream",
     "text": [
      "\r",
      "Val:  13%|█▎        | 11/86 [00:30<03:16,  2.62s/it, eval_loss=0.0842, gpu_mem=6.91 GB]"
     ]
    },
    {
     "name": "stderr",
     "output_type": "stream",
     "text": [
      "\r",
      "Val:  13%|█▎        | 11/86 [00:33<03:16,  2.62s/it, eval_loss=0.0844, gpu_mem=6.91 GB]"
     ]
    },
    {
     "name": "stderr",
     "output_type": "stream",
     "text": [
      "\r",
      "Val:  14%|█▍        | 12/86 [00:33<03:09,  2.56s/it, eval_loss=0.0844, gpu_mem=6.91 GB]"
     ]
    },
    {
     "name": "stderr",
     "output_type": "stream",
     "text": [
      "\r",
      "Val:  14%|█▍        | 12/86 [00:35<03:09,  2.56s/it, eval_loss=0.0865, gpu_mem=6.91 GB]"
     ]
    },
    {
     "name": "stderr",
     "output_type": "stream",
     "text": [
      "\r",
      "Val:  15%|█▌        | 13/86 [00:35<03:05,  2.54s/it, eval_loss=0.0865, gpu_mem=6.91 GB]"
     ]
    },
    {
     "name": "stderr",
     "output_type": "stream",
     "text": [
      "\r",
      "Val:  15%|█▌        | 13/86 [00:38<03:05,  2.54s/it, eval_loss=0.0828, gpu_mem=6.91 GB]"
     ]
    },
    {
     "name": "stderr",
     "output_type": "stream",
     "text": [
      "\r",
      "Val:  16%|█▋        | 14/86 [00:38<03:02,  2.54s/it, eval_loss=0.0828, gpu_mem=6.91 GB]"
     ]
    },
    {
     "name": "stderr",
     "output_type": "stream",
     "text": [
      "\r",
      "Val:  16%|█▋        | 14/86 [00:41<03:02,  2.54s/it, eval_loss=0.0800, gpu_mem=6.91 GB]"
     ]
    },
    {
     "name": "stderr",
     "output_type": "stream",
     "text": [
      "\r",
      "Val:  17%|█▋        | 15/86 [00:41<03:05,  2.61s/it, eval_loss=0.0800, gpu_mem=6.91 GB]"
     ]
    },
    {
     "name": "stderr",
     "output_type": "stream",
     "text": [
      "\r",
      "Val:  17%|█▋        | 15/86 [00:44<03:05,  2.61s/it, eval_loss=0.0781, gpu_mem=6.91 GB]"
     ]
    },
    {
     "name": "stderr",
     "output_type": "stream",
     "text": [
      "\r",
      "Val:  19%|█▊        | 16/86 [00:44<03:09,  2.71s/it, eval_loss=0.0781, gpu_mem=6.91 GB]"
     ]
    },
    {
     "name": "stderr",
     "output_type": "stream",
     "text": [
      "\r",
      "Val:  19%|█▊        | 16/86 [00:46<03:09,  2.71s/it, eval_loss=0.0782, gpu_mem=6.91 GB]"
     ]
    },
    {
     "name": "stderr",
     "output_type": "stream",
     "text": [
      "\r",
      "Val:  20%|█▉        | 17/86 [00:46<03:02,  2.64s/it, eval_loss=0.0782, gpu_mem=6.91 GB]"
     ]
    },
    {
     "name": "stderr",
     "output_type": "stream",
     "text": [
      "\r",
      "Val:  20%|█▉        | 17/86 [00:48<03:02,  2.64s/it, eval_loss=0.0777, gpu_mem=6.91 GB]"
     ]
    },
    {
     "name": "stderr",
     "output_type": "stream",
     "text": [
      "\r",
      "Val:  21%|██        | 18/86 [00:48<02:55,  2.58s/it, eval_loss=0.0777, gpu_mem=6.91 GB]"
     ]
    },
    {
     "name": "stderr",
     "output_type": "stream",
     "text": [
      "\r",
      "Val:  21%|██        | 18/86 [00:51<02:55,  2.58s/it, eval_loss=0.0779, gpu_mem=6.91 GB]"
     ]
    },
    {
     "name": "stderr",
     "output_type": "stream",
     "text": [
      "\r",
      "Val:  22%|██▏       | 19/86 [00:51<02:56,  2.63s/it, eval_loss=0.0779, gpu_mem=6.91 GB]"
     ]
    },
    {
     "name": "stderr",
     "output_type": "stream",
     "text": [
      "\r",
      "Val:  22%|██▏       | 19/86 [00:54<02:56,  2.63s/it, eval_loss=0.0785, gpu_mem=6.91 GB]"
     ]
    },
    {
     "name": "stderr",
     "output_type": "stream",
     "text": [
      "\r",
      "Val:  23%|██▎       | 20/86 [00:54<02:49,  2.57s/it, eval_loss=0.0785, gpu_mem=6.91 GB]"
     ]
    },
    {
     "name": "stderr",
     "output_type": "stream",
     "text": [
      "\r",
      "Val:  23%|██▎       | 20/86 [00:56<02:49,  2.57s/it, eval_loss=0.0771, gpu_mem=6.91 GB]"
     ]
    },
    {
     "name": "stderr",
     "output_type": "stream",
     "text": [
      "\r",
      "Val:  24%|██▍       | 21/86 [00:56<02:45,  2.55s/it, eval_loss=0.0771, gpu_mem=6.91 GB]"
     ]
    },
    {
     "name": "stderr",
     "output_type": "stream",
     "text": [
      "\r",
      "Val:  24%|██▍       | 21/86 [00:59<02:45,  2.55s/it, eval_loss=0.0804, gpu_mem=6.91 GB]"
     ]
    },
    {
     "name": "stderr",
     "output_type": "stream",
     "text": [
      "\r",
      "Val:  26%|██▌       | 22/86 [00:59<02:41,  2.53s/it, eval_loss=0.0804, gpu_mem=6.91 GB]"
     ]
    },
    {
     "name": "stderr",
     "output_type": "stream",
     "text": [
      "\r",
      "Val:  26%|██▌       | 22/86 [01:01<02:41,  2.53s/it, eval_loss=0.0844, gpu_mem=6.91 GB]"
     ]
    },
    {
     "name": "stderr",
     "output_type": "stream",
     "text": [
      "\r",
      "Val:  27%|██▋       | 23/86 [01:01<02:45,  2.62s/it, eval_loss=0.0844, gpu_mem=6.91 GB]"
     ]
    },
    {
     "name": "stderr",
     "output_type": "stream",
     "text": [
      "\r",
      "Val:  27%|██▋       | 23/86 [01:04<02:45,  2.62s/it, eval_loss=0.0839, gpu_mem=6.91 GB]"
     ]
    },
    {
     "name": "stderr",
     "output_type": "stream",
     "text": [
      "\r",
      "Val:  28%|██▊       | 24/86 [01:04<02:38,  2.56s/it, eval_loss=0.0839, gpu_mem=6.91 GB]"
     ]
    },
    {
     "name": "stderr",
     "output_type": "stream",
     "text": [
      "\r",
      "Val:  28%|██▊       | 24/86 [01:06<02:38,  2.56s/it, eval_loss=0.0837, gpu_mem=6.91 GB]"
     ]
    },
    {
     "name": "stderr",
     "output_type": "stream",
     "text": [
      "\r",
      "Val:  29%|██▉       | 25/86 [01:06<02:33,  2.52s/it, eval_loss=0.0837, gpu_mem=6.91 GB]"
     ]
    },
    {
     "name": "stderr",
     "output_type": "stream",
     "text": [
      "\r",
      "Val:  29%|██▉       | 25/86 [01:09<02:33,  2.52s/it, eval_loss=0.0816, gpu_mem=6.91 GB]"
     ]
    },
    {
     "name": "stderr",
     "output_type": "stream",
     "text": [
      "\r",
      "Val:  30%|███       | 26/86 [01:09<02:30,  2.51s/it, eval_loss=0.0816, gpu_mem=6.91 GB]"
     ]
    },
    {
     "name": "stderr",
     "output_type": "stream",
     "text": [
      "\r",
      "Val:  30%|███       | 26/86 [01:12<02:30,  2.51s/it, eval_loss=0.0853, gpu_mem=6.91 GB]"
     ]
    },
    {
     "name": "stderr",
     "output_type": "stream",
     "text": [
      "\r",
      "Val:  31%|███▏      | 27/86 [01:12<02:31,  2.57s/it, eval_loss=0.0853, gpu_mem=6.91 GB]"
     ]
    },
    {
     "name": "stderr",
     "output_type": "stream",
     "text": [
      "\r",
      "Val:  31%|███▏      | 27/86 [01:15<02:31,  2.57s/it, eval_loss=0.0848, gpu_mem=6.91 GB]"
     ]
    },
    {
     "name": "stderr",
     "output_type": "stream",
     "text": [
      "\r",
      "Val:  33%|███▎      | 28/86 [01:15<02:41,  2.78s/it, eval_loss=0.0848, gpu_mem=6.91 GB]"
     ]
    },
    {
     "name": "stderr",
     "output_type": "stream",
     "text": [
      "\r",
      "Val:  33%|███▎      | 28/86 [01:17<02:41,  2.78s/it, eval_loss=0.0838, gpu_mem=6.91 GB]"
     ]
    },
    {
     "name": "stderr",
     "output_type": "stream",
     "text": [
      "\r",
      "Val:  34%|███▎      | 29/86 [01:17<02:33,  2.70s/it, eval_loss=0.0838, gpu_mem=6.91 GB]"
     ]
    },
    {
     "name": "stderr",
     "output_type": "stream",
     "text": [
      "\r",
      "Val:  34%|███▎      | 29/86 [01:20<02:33,  2.70s/it, eval_loss=0.0838, gpu_mem=6.91 GB]"
     ]
    },
    {
     "name": "stderr",
     "output_type": "stream",
     "text": [
      "\r",
      "Val:  35%|███▍      | 30/86 [01:20<02:27,  2.64s/it, eval_loss=0.0838, gpu_mem=6.91 GB]"
     ]
    },
    {
     "name": "stderr",
     "output_type": "stream",
     "text": [
      "\r",
      "Val:  35%|███▍      | 30/86 [01:22<02:27,  2.64s/it, eval_loss=0.0830, gpu_mem=6.91 GB]"
     ]
    },
    {
     "name": "stderr",
     "output_type": "stream",
     "text": [
      "\r",
      "Val:  36%|███▌      | 31/86 [01:22<02:25,  2.64s/it, eval_loss=0.0830, gpu_mem=6.91 GB]"
     ]
    },
    {
     "name": "stderr",
     "output_type": "stream",
     "text": [
      "\r",
      "Val:  36%|███▌      | 31/86 [01:25<02:25,  2.64s/it, eval_loss=0.0905, gpu_mem=6.91 GB]"
     ]
    },
    {
     "name": "stderr",
     "output_type": "stream",
     "text": [
      "\r",
      "Val:  37%|███▋      | 32/86 [01:25<02:23,  2.65s/it, eval_loss=0.0905, gpu_mem=6.91 GB]"
     ]
    },
    {
     "name": "stderr",
     "output_type": "stream",
     "text": [
      "\r",
      "Val:  37%|███▋      | 32/86 [01:28<02:23,  2.65s/it, eval_loss=0.0886, gpu_mem=6.91 GB]"
     ]
    },
    {
     "name": "stderr",
     "output_type": "stream",
     "text": [
      "\r",
      "Val:  38%|███▊      | 33/86 [01:28<02:17,  2.60s/it, eval_loss=0.0886, gpu_mem=6.91 GB]"
     ]
    },
    {
     "name": "stderr",
     "output_type": "stream",
     "text": [
      "\r",
      "Val:  38%|███▊      | 33/86 [01:30<02:17,  2.60s/it, eval_loss=0.0899, gpu_mem=6.91 GB]"
     ]
    },
    {
     "name": "stderr",
     "output_type": "stream",
     "text": [
      "\r",
      "Val:  40%|███▉      | 34/86 [01:30<02:14,  2.58s/it, eval_loss=0.0899, gpu_mem=6.91 GB]"
     ]
    },
    {
     "name": "stderr",
     "output_type": "stream",
     "text": [
      "\r",
      "Val:  40%|███▉      | 34/86 [01:33<02:14,  2.58s/it, eval_loss=0.0889, gpu_mem=6.91 GB]"
     ]
    },
    {
     "name": "stderr",
     "output_type": "stream",
     "text": [
      "\r",
      "Val:  41%|████      | 35/86 [01:33<02:14,  2.63s/it, eval_loss=0.0889, gpu_mem=6.91 GB]"
     ]
    },
    {
     "name": "stderr",
     "output_type": "stream",
     "text": [
      "\r",
      "Val:  41%|████      | 35/86 [01:35<02:14,  2.63s/it, eval_loss=0.0875, gpu_mem=6.91 GB]"
     ]
    },
    {
     "name": "stderr",
     "output_type": "stream",
     "text": [
      "\r",
      "Val:  42%|████▏     | 36/86 [01:35<02:10,  2.61s/it, eval_loss=0.0875, gpu_mem=6.91 GB]"
     ]
    },
    {
     "name": "stderr",
     "output_type": "stream",
     "text": [
      "\r",
      "Val:  42%|████▏     | 36/86 [01:38<02:10,  2.61s/it, eval_loss=0.0881, gpu_mem=6.91 GB]"
     ]
    },
    {
     "name": "stderr",
     "output_type": "stream",
     "text": [
      "\r",
      "Val:  43%|████▎     | 37/86 [01:38<02:06,  2.57s/it, eval_loss=0.0881, gpu_mem=6.91 GB]"
     ]
    },
    {
     "name": "stderr",
     "output_type": "stream",
     "text": [
      "\r",
      "Val:  43%|████▎     | 37/86 [01:40<02:06,  2.57s/it, eval_loss=0.0879, gpu_mem=6.91 GB]"
     ]
    },
    {
     "name": "stderr",
     "output_type": "stream",
     "text": [
      "\r",
      "Val:  44%|████▍     | 38/86 [01:40<02:02,  2.56s/it, eval_loss=0.0879, gpu_mem=6.91 GB]"
     ]
    },
    {
     "name": "stderr",
     "output_type": "stream",
     "text": [
      "\r",
      "Val:  44%|████▍     | 38/86 [01:43<02:02,  2.56s/it, eval_loss=0.0865, gpu_mem=6.91 GB]"
     ]
    },
    {
     "name": "stderr",
     "output_type": "stream",
     "text": [
      "\r",
      "Val:  45%|████▌     | 39/86 [01:43<01:59,  2.55s/it, eval_loss=0.0865, gpu_mem=6.91 GB]"
     ]
    },
    {
     "name": "stderr",
     "output_type": "stream",
     "text": [
      "\r",
      "Val:  45%|████▌     | 39/86 [01:46<01:59,  2.55s/it, eval_loss=0.0864, gpu_mem=6.91 GB]"
     ]
    },
    {
     "name": "stderr",
     "output_type": "stream",
     "text": [
      "\r",
      "Val:  47%|████▋     | 40/86 [01:46<02:09,  2.81s/it, eval_loss=0.0864, gpu_mem=6.91 GB]"
     ]
    },
    {
     "name": "stderr",
     "output_type": "stream",
     "text": [
      "\r",
      "Val:  47%|████▋     | 40/86 [01:49<02:09,  2.81s/it, eval_loss=0.0859, gpu_mem=6.91 GB]"
     ]
    },
    {
     "name": "stderr",
     "output_type": "stream",
     "text": [
      "\r",
      "Val:  48%|████▊     | 41/86 [01:49<02:02,  2.72s/it, eval_loss=0.0859, gpu_mem=6.91 GB]"
     ]
    },
    {
     "name": "stderr",
     "output_type": "stream",
     "text": [
      "\r",
      "Val:  48%|████▊     | 41/86 [01:51<02:02,  2.72s/it, eval_loss=0.0854, gpu_mem=6.91 GB]"
     ]
    },
    {
     "name": "stderr",
     "output_type": "stream",
     "text": [
      "\r",
      "Val:  49%|████▉     | 42/86 [01:51<01:55,  2.63s/it, eval_loss=0.0854, gpu_mem=6.91 GB]"
     ]
    },
    {
     "name": "stderr",
     "output_type": "stream",
     "text": [
      "\r",
      "Val:  49%|████▉     | 42/86 [01:54<01:55,  2.63s/it, eval_loss=0.0845, gpu_mem=6.91 GB]"
     ]
    },
    {
     "name": "stderr",
     "output_type": "stream",
     "text": [
      "\r",
      "Val:  50%|█████     | 43/86 [01:54<01:51,  2.59s/it, eval_loss=0.0845, gpu_mem=6.91 GB]"
     ]
    },
    {
     "name": "stderr",
     "output_type": "stream",
     "text": [
      "\r",
      "Val:  50%|█████     | 43/86 [01:57<01:51,  2.59s/it, eval_loss=0.0877, gpu_mem=6.91 GB]"
     ]
    },
    {
     "name": "stderr",
     "output_type": "stream",
     "text": [
      "\r",
      "Val:  51%|█████     | 44/86 [01:57<01:49,  2.62s/it, eval_loss=0.0877, gpu_mem=6.91 GB]"
     ]
    },
    {
     "name": "stderr",
     "output_type": "stream",
     "text": [
      "\r",
      "Val:  51%|█████     | 44/86 [01:59<01:49,  2.62s/it, eval_loss=0.0864, gpu_mem=6.91 GB]"
     ]
    },
    {
     "name": "stderr",
     "output_type": "stream",
     "text": [
      "\r",
      "Val:  52%|█████▏    | 45/86 [01:59<01:45,  2.57s/it, eval_loss=0.0864, gpu_mem=6.91 GB]"
     ]
    },
    {
     "name": "stderr",
     "output_type": "stream",
     "text": [
      "\r",
      "Val:  52%|█████▏    | 45/86 [02:01<01:45,  2.57s/it, eval_loss=0.0863, gpu_mem=6.91 GB]"
     ]
    },
    {
     "name": "stderr",
     "output_type": "stream",
     "text": [
      "\r",
      "Val:  53%|█████▎    | 46/86 [02:01<01:41,  2.54s/it, eval_loss=0.0863, gpu_mem=6.91 GB]"
     ]
    },
    {
     "name": "stderr",
     "output_type": "stream",
     "text": [
      "\r",
      "Val:  53%|█████▎    | 46/86 [02:04<01:41,  2.54s/it, eval_loss=0.0856, gpu_mem=6.91 GB]"
     ]
    },
    {
     "name": "stderr",
     "output_type": "stream",
     "text": [
      "\r",
      "Val:  55%|█████▍    | 47/86 [02:04<01:39,  2.56s/it, eval_loss=0.0856, gpu_mem=6.91 GB]"
     ]
    },
    {
     "name": "stderr",
     "output_type": "stream",
     "text": [
      "\r",
      "Val:  55%|█████▍    | 47/86 [02:07<01:39,  2.56s/it, eval_loss=0.0874, gpu_mem=6.91 GB]"
     ]
    },
    {
     "name": "stderr",
     "output_type": "stream",
     "text": [
      "\r",
      "Val:  56%|█████▌    | 48/86 [02:07<01:39,  2.62s/it, eval_loss=0.0874, gpu_mem=6.91 GB]"
     ]
    },
    {
     "name": "stderr",
     "output_type": "stream",
     "text": [
      "\r",
      "Val:  56%|█████▌    | 48/86 [02:09<01:39,  2.62s/it, eval_loss=0.0869, gpu_mem=6.91 GB]"
     ]
    },
    {
     "name": "stderr",
     "output_type": "stream",
     "text": [
      "\r",
      "Val:  57%|█████▋    | 49/86 [02:09<01:35,  2.58s/it, eval_loss=0.0869, gpu_mem=6.91 GB]"
     ]
    },
    {
     "name": "stderr",
     "output_type": "stream",
     "text": [
      "\r",
      "Val:  57%|█████▋    | 49/86 [02:12<01:35,  2.58s/it, eval_loss=0.0866, gpu_mem=6.91 GB]"
     ]
    },
    {
     "name": "stderr",
     "output_type": "stream",
     "text": [
      "\r",
      "Val:  58%|█████▊    | 50/86 [02:12<01:32,  2.56s/it, eval_loss=0.0866, gpu_mem=6.91 GB]"
     ]
    },
    {
     "name": "stderr",
     "output_type": "stream",
     "text": [
      "\r",
      "Val:  58%|█████▊    | 50/86 [02:14<01:32,  2.56s/it, eval_loss=0.0895, gpu_mem=6.91 GB]"
     ]
    },
    {
     "name": "stderr",
     "output_type": "stream",
     "text": [
      "\r",
      "Val:  59%|█████▉    | 51/86 [02:14<01:27,  2.51s/it, eval_loss=0.0895, gpu_mem=6.91 GB]"
     ]
    },
    {
     "name": "stderr",
     "output_type": "stream",
     "text": [
      "\r",
      "Val:  59%|█████▉    | 51/86 [02:17<01:27,  2.51s/it, eval_loss=0.0909, gpu_mem=6.91 GB]"
     ]
    },
    {
     "name": "stderr",
     "output_type": "stream",
     "text": [
      "\r",
      "Val:  60%|██████    | 52/86 [02:17<01:26,  2.55s/it, eval_loss=0.0909, gpu_mem=6.91 GB]"
     ]
    },
    {
     "name": "stderr",
     "output_type": "stream",
     "text": [
      "\r",
      "Val:  60%|██████    | 52/86 [02:20<01:26,  2.55s/it, eval_loss=0.0922, gpu_mem=6.91 GB]"
     ]
    },
    {
     "name": "stderr",
     "output_type": "stream",
     "text": [
      "\r",
      "Val:  62%|██████▏   | 53/86 [02:20<01:29,  2.70s/it, eval_loss=0.0922, gpu_mem=6.91 GB]"
     ]
    },
    {
     "name": "stderr",
     "output_type": "stream",
     "text": [
      "\r",
      "Val:  62%|██████▏   | 53/86 [02:22<01:29,  2.70s/it, eval_loss=0.0915, gpu_mem=6.91 GB]"
     ]
    },
    {
     "name": "stderr",
     "output_type": "stream",
     "text": [
      "\r",
      "Val:  63%|██████▎   | 54/86 [02:22<01:24,  2.63s/it, eval_loss=0.0915, gpu_mem=6.91 GB]"
     ]
    },
    {
     "name": "stderr",
     "output_type": "stream",
     "text": [
      "\r",
      "Val:  63%|██████▎   | 54/86 [02:25<01:24,  2.63s/it, eval_loss=0.0922, gpu_mem=6.91 GB]"
     ]
    },
    {
     "name": "stderr",
     "output_type": "stream",
     "text": [
      "\r",
      "Val:  64%|██████▍   | 55/86 [02:25<01:20,  2.61s/it, eval_loss=0.0922, gpu_mem=6.91 GB]"
     ]
    },
    {
     "name": "stderr",
     "output_type": "stream",
     "text": [
      "\r",
      "Val:  64%|██████▍   | 55/86 [02:27<01:20,  2.61s/it, eval_loss=0.0918, gpu_mem=6.91 GB]"
     ]
    },
    {
     "name": "stderr",
     "output_type": "stream",
     "text": [
      "\r",
      "Val:  65%|██████▌   | 56/86 [02:27<01:17,  2.58s/it, eval_loss=0.0918, gpu_mem=6.91 GB]"
     ]
    },
    {
     "name": "stderr",
     "output_type": "stream",
     "text": [
      "\r",
      "Val:  65%|██████▌   | 56/86 [02:30<01:17,  2.58s/it, eval_loss=0.0917, gpu_mem=6.91 GB]"
     ]
    },
    {
     "name": "stderr",
     "output_type": "stream",
     "text": [
      "\r",
      "Val:  66%|██████▋   | 57/86 [02:30<01:16,  2.63s/it, eval_loss=0.0917, gpu_mem=6.91 GB]"
     ]
    },
    {
     "name": "stderr",
     "output_type": "stream",
     "text": [
      "\r",
      "Val:  66%|██████▋   | 57/86 [02:33<01:16,  2.63s/it, eval_loss=0.0940, gpu_mem=6.91 GB]"
     ]
    },
    {
     "name": "stderr",
     "output_type": "stream",
     "text": [
      "\r",
      "Val:  67%|██████▋   | 58/86 [02:33<01:12,  2.58s/it, eval_loss=0.0940, gpu_mem=6.91 GB]"
     ]
    },
    {
     "name": "stderr",
     "output_type": "stream",
     "text": [
      "\r",
      "Val:  67%|██████▋   | 58/86 [02:35<01:12,  2.58s/it, eval_loss=0.0935, gpu_mem=6.91 GB]"
     ]
    },
    {
     "name": "stderr",
     "output_type": "stream",
     "text": [
      "\r",
      "Val:  69%|██████▊   | 59/86 [02:35<01:09,  2.58s/it, eval_loss=0.0935, gpu_mem=6.91 GB]"
     ]
    },
    {
     "name": "stderr",
     "output_type": "stream",
     "text": [
      "\r",
      "Val:  69%|██████▊   | 59/86 [02:38<01:09,  2.58s/it, eval_loss=0.0953, gpu_mem=6.91 GB]"
     ]
    },
    {
     "name": "stderr",
     "output_type": "stream",
     "text": [
      "\r",
      "Val:  70%|██████▉   | 60/86 [02:38<01:06,  2.57s/it, eval_loss=0.0953, gpu_mem=6.91 GB]"
     ]
    },
    {
     "name": "stderr",
     "output_type": "stream",
     "text": [
      "\r",
      "Val:  70%|██████▉   | 60/86 [02:40<01:06,  2.57s/it, eval_loss=0.0947, gpu_mem=6.91 GB]"
     ]
    },
    {
     "name": "stderr",
     "output_type": "stream",
     "text": [
      "\r",
      "Val:  71%|███████   | 61/86 [02:40<01:04,  2.60s/it, eval_loss=0.0947, gpu_mem=6.91 GB]"
     ]
    },
    {
     "name": "stderr",
     "output_type": "stream",
     "text": [
      "\r",
      "Val:  71%|███████   | 61/86 [02:43<01:04,  2.60s/it, eval_loss=0.0943, gpu_mem=6.91 GB]"
     ]
    },
    {
     "name": "stderr",
     "output_type": "stream",
     "text": [
      "\r",
      "Val:  72%|███████▏  | 62/86 [02:43<01:01,  2.57s/it, eval_loss=0.0943, gpu_mem=6.91 GB]"
     ]
    },
    {
     "name": "stderr",
     "output_type": "stream",
     "text": [
      "\r",
      "Val:  72%|███████▏  | 62/86 [02:45<01:01,  2.57s/it, eval_loss=0.0942, gpu_mem=6.91 GB]"
     ]
    },
    {
     "name": "stderr",
     "output_type": "stream",
     "text": [
      "\r",
      "Val:  73%|███████▎  | 63/86 [02:45<00:58,  2.54s/it, eval_loss=0.0942, gpu_mem=6.91 GB]"
     ]
    },
    {
     "name": "stderr",
     "output_type": "stream",
     "text": [
      "\r",
      "Val:  73%|███████▎  | 63/86 [02:48<00:58,  2.54s/it, eval_loss=0.0941, gpu_mem=6.91 GB]"
     ]
    },
    {
     "name": "stderr",
     "output_type": "stream",
     "text": [
      "\r",
      "Val:  74%|███████▍  | 64/86 [02:48<00:55,  2.53s/it, eval_loss=0.0941, gpu_mem=6.91 GB]"
     ]
    },
    {
     "name": "stderr",
     "output_type": "stream",
     "text": [
      "\r",
      "Val:  74%|███████▍  | 64/86 [02:51<00:55,  2.53s/it, eval_loss=0.0932, gpu_mem=6.91 GB]"
     ]
    },
    {
     "name": "stderr",
     "output_type": "stream",
     "text": [
      "\r",
      "Val:  76%|███████▌  | 65/86 [02:51<00:57,  2.73s/it, eval_loss=0.0932, gpu_mem=6.91 GB]"
     ]
    },
    {
     "name": "stderr",
     "output_type": "stream",
     "text": [
      "\r",
      "Val:  76%|███████▌  | 65/86 [02:54<00:57,  2.73s/it, eval_loss=0.0950, gpu_mem=6.91 GB]"
     ]
    },
    {
     "name": "stderr",
     "output_type": "stream",
     "text": [
      "\r",
      "Val:  77%|███████▋  | 66/86 [02:54<00:53,  2.68s/it, eval_loss=0.0950, gpu_mem=6.91 GB]"
     ]
    },
    {
     "name": "stderr",
     "output_type": "stream",
     "text": [
      "\r",
      "Val:  77%|███████▋  | 66/86 [02:56<00:53,  2.68s/it, eval_loss=0.0942, gpu_mem=6.91 GB]"
     ]
    },
    {
     "name": "stderr",
     "output_type": "stream",
     "text": [
      "\r",
      "Val:  78%|███████▊  | 67/86 [02:56<00:50,  2.64s/it, eval_loss=0.0942, gpu_mem=6.91 GB]"
     ]
    },
    {
     "name": "stderr",
     "output_type": "stream",
     "text": [
      "\r",
      "Val:  78%|███████▊  | 67/86 [02:59<00:50,  2.64s/it, eval_loss=0.0966, gpu_mem=6.91 GB]"
     ]
    },
    {
     "name": "stderr",
     "output_type": "stream",
     "text": [
      "\r",
      "Val:  79%|███████▉  | 68/86 [02:59<00:46,  2.61s/it, eval_loss=0.0966, gpu_mem=6.91 GB]"
     ]
    },
    {
     "name": "stderr",
     "output_type": "stream",
     "text": [
      "\r",
      "Val:  79%|███████▉  | 68/86 [03:02<00:46,  2.61s/it, eval_loss=0.0967, gpu_mem=6.91 GB]"
     ]
    },
    {
     "name": "stderr",
     "output_type": "stream",
     "text": [
      "\r",
      "Val:  80%|████████  | 69/86 [03:02<00:45,  2.67s/it, eval_loss=0.0967, gpu_mem=6.91 GB]"
     ]
    },
    {
     "name": "stderr",
     "output_type": "stream",
     "text": [
      "\r",
      "Val:  80%|████████  | 69/86 [03:04<00:45,  2.67s/it, eval_loss=0.0964, gpu_mem=6.91 GB]"
     ]
    },
    {
     "name": "stderr",
     "output_type": "stream",
     "text": [
      "\r",
      "Val:  81%|████████▏ | 70/86 [03:04<00:41,  2.60s/it, eval_loss=0.0964, gpu_mem=6.91 GB]"
     ]
    },
    {
     "name": "stderr",
     "output_type": "stream",
     "text": [
      "\r",
      "Val:  81%|████████▏ | 70/86 [03:07<00:41,  2.60s/it, eval_loss=0.0971, gpu_mem=6.91 GB]"
     ]
    },
    {
     "name": "stderr",
     "output_type": "stream",
     "text": [
      "\r",
      "Val:  83%|████████▎ | 71/86 [03:07<00:39,  2.61s/it, eval_loss=0.0971, gpu_mem=6.91 GB]"
     ]
    },
    {
     "name": "stderr",
     "output_type": "stream",
     "text": [
      "\r",
      "Val:  83%|████████▎ | 71/86 [03:09<00:39,  2.61s/it, eval_loss=0.0967, gpu_mem=6.91 GB]"
     ]
    },
    {
     "name": "stderr",
     "output_type": "stream",
     "text": [
      "\r",
      "Val:  84%|████████▎ | 72/86 [03:09<00:35,  2.57s/it, eval_loss=0.0967, gpu_mem=6.91 GB]"
     ]
    },
    {
     "name": "stderr",
     "output_type": "stream",
     "text": [
      "\r",
      "Val:  84%|████████▎ | 72/86 [03:12<00:35,  2.57s/it, eval_loss=0.0964, gpu_mem=6.91 GB]"
     ]
    },
    {
     "name": "stderr",
     "output_type": "stream",
     "text": [
      "\r",
      "Val:  85%|████████▍ | 73/86 [03:12<00:33,  2.58s/it, eval_loss=0.0964, gpu_mem=6.91 GB]"
     ]
    },
    {
     "name": "stderr",
     "output_type": "stream",
     "text": [
      "\r",
      "Val:  85%|████████▍ | 73/86 [03:14<00:33,  2.58s/it, eval_loss=0.0967, gpu_mem=6.91 GB]"
     ]
    },
    {
     "name": "stderr",
     "output_type": "stream",
     "text": [
      "\r",
      "Val:  86%|████████▌ | 74/86 [03:14<00:31,  2.63s/it, eval_loss=0.0967, gpu_mem=6.91 GB]"
     ]
    },
    {
     "name": "stderr",
     "output_type": "stream",
     "text": [
      "\r",
      "Val:  86%|████████▌ | 74/86 [03:17<00:31,  2.63s/it, eval_loss=0.0961, gpu_mem=6.91 GB]"
     ]
    },
    {
     "name": "stderr",
     "output_type": "stream",
     "text": [
      "\r",
      "Val:  87%|████████▋ | 75/86 [03:17<00:28,  2.60s/it, eval_loss=0.0961, gpu_mem=6.91 GB]"
     ]
    },
    {
     "name": "stderr",
     "output_type": "stream",
     "text": [
      "\r",
      "Val:  87%|████████▋ | 75/86 [03:20<00:28,  2.60s/it, eval_loss=0.0955, gpu_mem=6.91 GB]"
     ]
    },
    {
     "name": "stderr",
     "output_type": "stream",
     "text": [
      "\r",
      "Val:  88%|████████▊ | 76/86 [03:20<00:25,  2.58s/it, eval_loss=0.0955, gpu_mem=6.91 GB]"
     ]
    },
    {
     "name": "stderr",
     "output_type": "stream",
     "text": [
      "\r",
      "Val:  88%|████████▊ | 76/86 [03:22<00:25,  2.58s/it, eval_loss=0.0966, gpu_mem=6.91 GB]"
     ]
    },
    {
     "name": "stderr",
     "output_type": "stream",
     "text": [
      "\r",
      "Val:  90%|████████▉ | 77/86 [03:22<00:24,  2.68s/it, eval_loss=0.0966, gpu_mem=6.91 GB]"
     ]
    },
    {
     "name": "stderr",
     "output_type": "stream",
     "text": [
      "\r",
      "Val:  90%|████████▉ | 77/86 [03:25<00:24,  2.68s/it, eval_loss=0.0959, gpu_mem=6.91 GB]"
     ]
    },
    {
     "name": "stderr",
     "output_type": "stream",
     "text": [
      "\r",
      "Val:  91%|█████████ | 78/86 [03:25<00:21,  2.72s/it, eval_loss=0.0959, gpu_mem=6.91 GB]"
     ]
    },
    {
     "name": "stderr",
     "output_type": "stream",
     "text": [
      "\r",
      "Val:  91%|█████████ | 78/86 [03:28<00:21,  2.72s/it, eval_loss=0.0958, gpu_mem=6.91 GB]"
     ]
    },
    {
     "name": "stderr",
     "output_type": "stream",
     "text": [
      "\r",
      "Val:  92%|█████████▏| 79/86 [03:28<00:18,  2.62s/it, eval_loss=0.0958, gpu_mem=6.91 GB]"
     ]
    },
    {
     "name": "stderr",
     "output_type": "stream",
     "text": [
      "\r",
      "Val:  92%|█████████▏| 79/86 [03:30<00:18,  2.62s/it, eval_loss=0.0960, gpu_mem=6.91 GB]"
     ]
    },
    {
     "name": "stderr",
     "output_type": "stream",
     "text": [
      "\r",
      "Val:  93%|█████████▎| 80/86 [03:30<00:15,  2.56s/it, eval_loss=0.0960, gpu_mem=6.91 GB]"
     ]
    },
    {
     "name": "stderr",
     "output_type": "stream",
     "text": [
      "\r",
      "Val:  93%|█████████▎| 80/86 [03:33<00:15,  2.56s/it, eval_loss=0.0954, gpu_mem=6.91 GB]"
     ]
    },
    {
     "name": "stderr",
     "output_type": "stream",
     "text": [
      "\r",
      "Val:  94%|█████████▍| 81/86 [03:33<00:12,  2.56s/it, eval_loss=0.0954, gpu_mem=6.91 GB]"
     ]
    },
    {
     "name": "stderr",
     "output_type": "stream",
     "text": [
      "\r",
      "Val:  94%|█████████▍| 81/86 [03:35<00:12,  2.56s/it, eval_loss=0.0950, gpu_mem=6.91 GB]"
     ]
    },
    {
     "name": "stderr",
     "output_type": "stream",
     "text": [
      "\r",
      "Val:  95%|█████████▌| 82/86 [03:35<00:10,  2.63s/it, eval_loss=0.0950, gpu_mem=6.91 GB]"
     ]
    },
    {
     "name": "stderr",
     "output_type": "stream",
     "text": [
      "\r",
      "Val:  95%|█████████▌| 82/86 [03:38<00:10,  2.63s/it, eval_loss=0.0948, gpu_mem=6.91 GB]"
     ]
    },
    {
     "name": "stderr",
     "output_type": "stream",
     "text": [
      "\r",
      "Val:  97%|█████████▋| 83/86 [03:38<00:07,  2.60s/it, eval_loss=0.0948, gpu_mem=6.91 GB]"
     ]
    },
    {
     "name": "stderr",
     "output_type": "stream",
     "text": [
      "\r",
      "Val:  97%|█████████▋| 83/86 [03:40<00:07,  2.60s/it, eval_loss=0.0945, gpu_mem=6.91 GB]"
     ]
    },
    {
     "name": "stderr",
     "output_type": "stream",
     "text": [
      "\r",
      "Val:  98%|█████████▊| 84/86 [03:40<00:05,  2.56s/it, eval_loss=0.0945, gpu_mem=6.91 GB]"
     ]
    },
    {
     "name": "stderr",
     "output_type": "stream",
     "text": [
      "\r",
      "Val:  98%|█████████▊| 84/86 [03:43<00:05,  2.56s/it, eval_loss=0.0972, gpu_mem=6.91 GB]"
     ]
    },
    {
     "name": "stderr",
     "output_type": "stream",
     "text": [
      "\r",
      "Val:  99%|█████████▉| 85/86 [03:43<00:02,  2.55s/it, eval_loss=0.0972, gpu_mem=6.91 GB]"
     ]
    },
    {
     "name": "stderr",
     "output_type": "stream",
     "text": [
      "\r",
      "Val:  99%|█████████▉| 85/86 [03:43<00:02,  2.55s/it, eval_loss=0.0972, gpu_mem=6.91 GB]"
     ]
    },
    {
     "name": "stderr",
     "output_type": "stream",
     "text": [
      "\r",
      "Val: 100%|██████████| 86/86 [03:43<00:00,  1.94s/it, eval_loss=0.0972, gpu_mem=6.91 GB]"
     ]
    },
    {
     "name": "stderr",
     "output_type": "stream",
     "text": [
      "\r",
      "Val: 100%|██████████| 86/86 [03:44<00:00,  2.61s/it, eval_loss=0.0972, gpu_mem=6.91 GB]"
     ]
    },
    {
     "name": "stderr",
     "output_type": "stream",
     "text": [
      "\n",
      "Valid loss:0.0972\n"
     ]
    },
    {
     "name": "stderr",
     "output_type": "stream",
     "text": [
      "Val metric mean prob: 0.1867\n"
     ]
    },
    {
     "name": "stderr",
     "output_type": "stream",
     "text": [
      "Best metric at: 0.5111 0.3630  0.7308\n"
     ]
    },
    {
     "name": "stderr",
     "output_type": "stream",
     "text": [
      "Cf: [[2315   18]\n",
      " [  26   23]]\n"
     ]
    },
    {
     "name": "stderr",
     "output_type": "stream",
     "text": [
      "\u001b[32m[I 2023-02-15 05:04:07,987]\u001b[0m Trial 18 finished with value: 0.5111111111111111 and parameters: {'a1': 0.9024459498943815}. Best is trial 0 with value: 0.5111111111111111.\u001b[0m\n"
     ]
    },
    {
     "name": "stdout",
     "output_type": "stream",
     "text": [
      "/kaggle/input/10folds/tf_efficientnetv2_b2_fold_1_model_epoch_3_0.5055_0.360.pth\n",
      "none:  /kaggle/input/10folds/tf_efficientnetv2_b2_fold_1_model_epoch_3_0.5055_0.360.pth\n",
      "/kaggle/input/10folds/tf_efficientnetv2_b2_fold_1_model_epoch_5_0.4865_0.324.pth\n",
      "hehe /kaggle/input/10folds/tf_efficientnetv2_b2_fold_1_model_epoch_5_0.4865_0.324.pth\n",
      "0.9574178539318775 0.042582146068122495\n",
      "\n"
     ]
    },
    {
     "name": "stderr",
     "output_type": "stream",
     "text": [
      "\r",
      "Val:   0%|          | 0/86 [00:00<?, ?it/s]"
     ]
    },
    {
     "name": "stderr",
     "output_type": "stream",
     "text": [
      "\r",
      "Val:   0%|          | 0/86 [00:04<?, ?it/s, eval_loss=0.0552, gpu_mem=6.91 GB]"
     ]
    },
    {
     "name": "stderr",
     "output_type": "stream",
     "text": [
      "\r",
      "Val:   1%|          | 1/86 [00:04<06:04,  4.28s/it, eval_loss=0.0552, gpu_mem=6.91 GB]"
     ]
    },
    {
     "name": "stderr",
     "output_type": "stream",
     "text": [
      "\r",
      "Val:   1%|          | 1/86 [00:07<06:04,  4.28s/it, eval_loss=0.0431, gpu_mem=6.91 GB]"
     ]
    },
    {
     "name": "stderr",
     "output_type": "stream",
     "text": [
      "\r",
      "Val:   2%|▏         | 2/86 [00:07<04:44,  3.39s/it, eval_loss=0.0431, gpu_mem=6.91 GB]"
     ]
    },
    {
     "name": "stderr",
     "output_type": "stream",
     "text": [
      "\r",
      "Val:   2%|▏         | 2/86 [00:09<04:44,  3.39s/it, eval_loss=0.0889, gpu_mem=6.91 GB]"
     ]
    },
    {
     "name": "stderr",
     "output_type": "stream",
     "text": [
      "\r",
      "Val:   3%|▎         | 3/86 [00:09<04:08,  3.00s/it, eval_loss=0.0889, gpu_mem=6.91 GB]"
     ]
    },
    {
     "name": "stderr",
     "output_type": "stream",
     "text": [
      "\r",
      "Val:   3%|▎         | 3/86 [00:11<04:08,  3.00s/it, eval_loss=0.0997, gpu_mem=6.91 GB]"
     ]
    },
    {
     "name": "stderr",
     "output_type": "stream",
     "text": [
      "\r",
      "Val:   5%|▍         | 4/86 [00:11<03:46,  2.77s/it, eval_loss=0.0997, gpu_mem=6.91 GB]"
     ]
    },
    {
     "name": "stderr",
     "output_type": "stream",
     "text": [
      "\r",
      "Val:   5%|▍         | 4/86 [00:14<03:46,  2.77s/it, eval_loss=0.0955, gpu_mem=6.91 GB]"
     ]
    },
    {
     "name": "stderr",
     "output_type": "stream",
     "text": [
      "\r",
      "Val:   6%|▌         | 5/86 [00:14<03:27,  2.56s/it, eval_loss=0.0955, gpu_mem=6.91 GB]"
     ]
    },
    {
     "name": "stderr",
     "output_type": "stream",
     "text": [
      "\r",
      "Val:   6%|▌         | 5/86 [00:16<03:27,  2.56s/it, eval_loss=0.0924, gpu_mem=6.91 GB]"
     ]
    },
    {
     "name": "stderr",
     "output_type": "stream",
     "text": [
      "\r",
      "Val:   7%|▋         | 6/86 [00:16<03:16,  2.45s/it, eval_loss=0.0924, gpu_mem=6.91 GB]"
     ]
    },
    {
     "name": "stderr",
     "output_type": "stream",
     "text": [
      "\r",
      "Val:   7%|▋         | 6/86 [00:18<03:16,  2.45s/it, eval_loss=0.0847, gpu_mem=6.91 GB]"
     ]
    },
    {
     "name": "stderr",
     "output_type": "stream",
     "text": [
      "\r",
      "Val:   8%|▊         | 7/86 [00:18<03:07,  2.37s/it, eval_loss=0.0847, gpu_mem=6.91 GB]"
     ]
    },
    {
     "name": "stderr",
     "output_type": "stream",
     "text": [
      "\r",
      "Val:   8%|▊         | 7/86 [00:21<03:07,  2.37s/it, eval_loss=0.0818, gpu_mem=6.91 GB]"
     ]
    },
    {
     "name": "stderr",
     "output_type": "stream",
     "text": [
      "\r",
      "Val:   9%|▉         | 8/86 [00:21<03:07,  2.41s/it, eval_loss=0.0818, gpu_mem=6.91 GB]"
     ]
    },
    {
     "name": "stderr",
     "output_type": "stream",
     "text": [
      "\r",
      "Val:   9%|▉         | 8/86 [00:23<03:07,  2.41s/it, eval_loss=0.0801, gpu_mem=6.91 GB]"
     ]
    },
    {
     "name": "stderr",
     "output_type": "stream",
     "text": [
      "\r",
      "Val:  10%|█         | 9/86 [00:23<03:02,  2.37s/it, eval_loss=0.0801, gpu_mem=6.91 GB]"
     ]
    },
    {
     "name": "stderr",
     "output_type": "stream",
     "text": [
      "\r",
      "Val:  10%|█         | 9/86 [00:25<03:02,  2.37s/it, eval_loss=0.0871, gpu_mem=6.91 GB]"
     ]
    },
    {
     "name": "stderr",
     "output_type": "stream",
     "text": [
      "\r",
      "Val:  12%|█▏        | 10/86 [00:25<02:56,  2.32s/it, eval_loss=0.0871, gpu_mem=6.91 GB]"
     ]
    },
    {
     "name": "stderr",
     "output_type": "stream",
     "text": [
      "\r",
      "Val:  12%|█▏        | 10/86 [00:27<02:56,  2.32s/it, eval_loss=0.0842, gpu_mem=6.91 GB]"
     ]
    },
    {
     "name": "stderr",
     "output_type": "stream",
     "text": [
      "\r",
      "Val:  13%|█▎        | 11/86 [00:27<02:51,  2.28s/it, eval_loss=0.0842, gpu_mem=6.91 GB]"
     ]
    },
    {
     "name": "stderr",
     "output_type": "stream",
     "text": [
      "\r",
      "Val:  13%|█▎        | 11/86 [00:30<02:51,  2.28s/it, eval_loss=0.0844, gpu_mem=6.91 GB]"
     ]
    },
    {
     "name": "stderr",
     "output_type": "stream",
     "text": [
      "\r",
      "Val:  14%|█▍        | 12/86 [00:30<02:47,  2.27s/it, eval_loss=0.0844, gpu_mem=6.91 GB]"
     ]
    },
    {
     "name": "stderr",
     "output_type": "stream",
     "text": [
      "\r",
      "Val:  14%|█▍        | 12/86 [00:32<02:47,  2.27s/it, eval_loss=0.0865, gpu_mem=6.91 GB]"
     ]
    },
    {
     "name": "stderr",
     "output_type": "stream",
     "text": [
      "\r",
      "Val:  15%|█▌        | 13/86 [00:32<02:48,  2.31s/it, eval_loss=0.0865, gpu_mem=6.91 GB]"
     ]
    },
    {
     "name": "stderr",
     "output_type": "stream",
     "text": [
      "\r",
      "Val:  15%|█▌        | 13/86 [00:34<02:48,  2.31s/it, eval_loss=0.0828, gpu_mem=6.91 GB]"
     ]
    },
    {
     "name": "stderr",
     "output_type": "stream",
     "text": [
      "\r",
      "Val:  16%|█▋        | 14/86 [00:34<02:43,  2.27s/it, eval_loss=0.0828, gpu_mem=6.91 GB]"
     ]
    },
    {
     "name": "stderr",
     "output_type": "stream",
     "text": [
      "\r",
      "Val:  16%|█▋        | 14/86 [00:36<02:43,  2.27s/it, eval_loss=0.0800, gpu_mem=6.91 GB]"
     ]
    },
    {
     "name": "stderr",
     "output_type": "stream",
     "text": [
      "\r",
      "Val:  17%|█▋        | 15/86 [00:36<02:39,  2.25s/it, eval_loss=0.0800, gpu_mem=6.91 GB]"
     ]
    },
    {
     "name": "stderr",
     "output_type": "stream",
     "text": [
      "\r",
      "Val:  17%|█▋        | 15/86 [00:39<02:39,  2.25s/it, eval_loss=0.0781, gpu_mem=6.91 GB]"
     ]
    },
    {
     "name": "stderr",
     "output_type": "stream",
     "text": [
      "\r",
      "Val:  19%|█▊        | 16/86 [00:39<02:45,  2.37s/it, eval_loss=0.0781, gpu_mem=6.91 GB]"
     ]
    },
    {
     "name": "stderr",
     "output_type": "stream",
     "text": [
      "\r",
      "Val:  19%|█▊        | 16/86 [00:42<02:45,  2.37s/it, eval_loss=0.0782, gpu_mem=6.91 GB]"
     ]
    },
    {
     "name": "stderr",
     "output_type": "stream",
     "text": [
      "\r",
      "Val:  20%|█▉        | 17/86 [00:42<02:50,  2.48s/it, eval_loss=0.0782, gpu_mem=6.91 GB]"
     ]
    },
    {
     "name": "stderr",
     "output_type": "stream",
     "text": [
      "\r",
      "Val:  20%|█▉        | 17/86 [00:44<02:50,  2.48s/it, eval_loss=0.0777, gpu_mem=6.91 GB]"
     ]
    },
    {
     "name": "stderr",
     "output_type": "stream",
     "text": [
      "\r",
      "Val:  21%|██        | 18/86 [00:44<02:41,  2.37s/it, eval_loss=0.0777, gpu_mem=6.91 GB]"
     ]
    },
    {
     "name": "stderr",
     "output_type": "stream",
     "text": [
      "\r",
      "Val:  21%|██        | 18/86 [00:46<02:41,  2.37s/it, eval_loss=0.0779, gpu_mem=6.91 GB]"
     ]
    },
    {
     "name": "stderr",
     "output_type": "stream",
     "text": [
      "\r",
      "Val:  22%|██▏       | 19/86 [00:46<02:36,  2.34s/it, eval_loss=0.0779, gpu_mem=6.91 GB]"
     ]
    },
    {
     "name": "stderr",
     "output_type": "stream",
     "text": [
      "\r",
      "Val:  22%|██▏       | 19/86 [00:48<02:36,  2.34s/it, eval_loss=0.0785, gpu_mem=6.91 GB]"
     ]
    },
    {
     "name": "stderr",
     "output_type": "stream",
     "text": [
      "\r",
      "Val:  23%|██▎       | 20/86 [00:48<02:32,  2.31s/it, eval_loss=0.0785, gpu_mem=6.91 GB]"
     ]
    },
    {
     "name": "stderr",
     "output_type": "stream",
     "text": [
      "\r",
      "Val:  23%|██▎       | 20/86 [00:51<02:32,  2.31s/it, eval_loss=0.0771, gpu_mem=6.91 GB]"
     ]
    },
    {
     "name": "stderr",
     "output_type": "stream",
     "text": [
      "\r",
      "Val:  24%|██▍       | 21/86 [00:51<02:27,  2.28s/it, eval_loss=0.0771, gpu_mem=6.91 GB]"
     ]
    },
    {
     "name": "stderr",
     "output_type": "stream",
     "text": [
      "\r",
      "Val:  24%|██▍       | 21/86 [00:53<02:27,  2.28s/it, eval_loss=0.0804, gpu_mem=6.91 GB]"
     ]
    },
    {
     "name": "stderr",
     "output_type": "stream",
     "text": [
      "\r",
      "Val:  26%|██▌       | 22/86 [00:53<02:28,  2.32s/it, eval_loss=0.0804, gpu_mem=6.91 GB]"
     ]
    },
    {
     "name": "stderr",
     "output_type": "stream",
     "text": [
      "\r",
      "Val:  26%|██▌       | 22/86 [00:55<02:28,  2.32s/it, eval_loss=0.0844, gpu_mem=6.91 GB]"
     ]
    },
    {
     "name": "stderr",
     "output_type": "stream",
     "text": [
      "\r",
      "Val:  27%|██▋       | 23/86 [00:55<02:28,  2.37s/it, eval_loss=0.0844, gpu_mem=6.91 GB]"
     ]
    },
    {
     "name": "stderr",
     "output_type": "stream",
     "text": [
      "\r",
      "Val:  27%|██▋       | 23/86 [00:58<02:28,  2.37s/it, eval_loss=0.0839, gpu_mem=6.91 GB]"
     ]
    },
    {
     "name": "stderr",
     "output_type": "stream",
     "text": [
      "\r",
      "Val:  28%|██▊       | 24/86 [00:58<02:24,  2.33s/it, eval_loss=0.0839, gpu_mem=6.91 GB]"
     ]
    },
    {
     "name": "stderr",
     "output_type": "stream",
     "text": [
      "\r",
      "Val:  28%|██▊       | 24/86 [01:00<02:24,  2.33s/it, eval_loss=0.0837, gpu_mem=6.91 GB]"
     ]
    },
    {
     "name": "stderr",
     "output_type": "stream",
     "text": [
      "\r",
      "Val:  29%|██▉       | 25/86 [01:00<02:20,  2.30s/it, eval_loss=0.0837, gpu_mem=6.91 GB]"
     ]
    },
    {
     "name": "stderr",
     "output_type": "stream",
     "text": [
      "\r",
      "Val:  29%|██▉       | 25/86 [01:02<02:20,  2.30s/it, eval_loss=0.0816, gpu_mem=6.91 GB]"
     ]
    },
    {
     "name": "stderr",
     "output_type": "stream",
     "text": [
      "\r",
      "Val:  30%|███       | 26/86 [01:02<02:16,  2.27s/it, eval_loss=0.0816, gpu_mem=6.91 GB]"
     ]
    },
    {
     "name": "stderr",
     "output_type": "stream",
     "text": [
      "\r",
      "Val:  30%|███       | 26/86 [01:05<02:16,  2.27s/it, eval_loss=0.0853, gpu_mem=6.91 GB]"
     ]
    },
    {
     "name": "stderr",
     "output_type": "stream",
     "text": [
      "\r",
      "Val:  31%|███▏      | 27/86 [01:05<02:18,  2.35s/it, eval_loss=0.0853, gpu_mem=6.91 GB]"
     ]
    },
    {
     "name": "stderr",
     "output_type": "stream",
     "text": [
      "\r",
      "Val:  31%|███▏      | 27/86 [01:07<02:18,  2.35s/it, eval_loss=0.0848, gpu_mem=6.91 GB]"
     ]
    },
    {
     "name": "stderr",
     "output_type": "stream",
     "text": [
      "\r",
      "Val:  33%|███▎      | 28/86 [01:07<02:14,  2.32s/it, eval_loss=0.0848, gpu_mem=6.91 GB]"
     ]
    },
    {
     "name": "stderr",
     "output_type": "stream",
     "text": [
      "\r",
      "Val:  33%|███▎      | 28/86 [01:09<02:14,  2.32s/it, eval_loss=0.0838, gpu_mem=6.91 GB]"
     ]
    },
    {
     "name": "stderr",
     "output_type": "stream",
     "text": [
      "\r",
      "Val:  34%|███▎      | 29/86 [01:09<02:11,  2.31s/it, eval_loss=0.0838, gpu_mem=6.91 GB]"
     ]
    },
    {
     "name": "stderr",
     "output_type": "stream",
     "text": [
      "\r",
      "Val:  34%|███▎      | 29/86 [01:12<02:11,  2.31s/it, eval_loss=0.0838, gpu_mem=6.91 GB]"
     ]
    },
    {
     "name": "stderr",
     "output_type": "stream",
     "text": [
      "\r",
      "Val:  35%|███▍      | 30/86 [01:12<02:21,  2.53s/it, eval_loss=0.0838, gpu_mem=6.91 GB]"
     ]
    },
    {
     "name": "stderr",
     "output_type": "stream",
     "text": [
      "\r",
      "Val:  35%|███▍      | 30/86 [01:14<02:21,  2.53s/it, eval_loss=0.0830, gpu_mem=6.91 GB]"
     ]
    },
    {
     "name": "stderr",
     "output_type": "stream",
     "text": [
      "\r",
      "Val:  36%|███▌      | 31/86 [01:14<02:13,  2.44s/it, eval_loss=0.0830, gpu_mem=6.91 GB]"
     ]
    },
    {
     "name": "stderr",
     "output_type": "stream",
     "text": [
      "\r",
      "Val:  36%|███▌      | 31/86 [01:17<02:13,  2.44s/it, eval_loss=0.0905, gpu_mem=6.91 GB]"
     ]
    },
    {
     "name": "stderr",
     "output_type": "stream",
     "text": [
      "\r",
      "Val:  37%|███▋      | 32/86 [01:17<02:12,  2.45s/it, eval_loss=0.0905, gpu_mem=6.91 GB]"
     ]
    },
    {
     "name": "stderr",
     "output_type": "stream",
     "text": [
      "\r",
      "Val:  37%|███▋      | 32/86 [01:19<02:12,  2.45s/it, eval_loss=0.0886, gpu_mem=6.91 GB]"
     ]
    },
    {
     "name": "stderr",
     "output_type": "stream",
     "text": [
      "\r",
      "Val:  38%|███▊      | 33/86 [01:19<02:05,  2.37s/it, eval_loss=0.0886, gpu_mem=6.91 GB]"
     ]
    },
    {
     "name": "stderr",
     "output_type": "stream",
     "text": [
      "\r",
      "Val:  38%|███▊      | 33/86 [01:21<02:05,  2.37s/it, eval_loss=0.0899, gpu_mem=6.91 GB]"
     ]
    },
    {
     "name": "stderr",
     "output_type": "stream",
     "text": [
      "\r",
      "Val:  40%|███▉      | 34/86 [01:21<02:00,  2.32s/it, eval_loss=0.0899, gpu_mem=6.91 GB]"
     ]
    },
    {
     "name": "stderr",
     "output_type": "stream",
     "text": [
      "\r",
      "Val:  40%|███▉      | 34/86 [01:23<02:00,  2.32s/it, eval_loss=0.0889, gpu_mem=6.91 GB]"
     ]
    },
    {
     "name": "stderr",
     "output_type": "stream",
     "text": [
      "\r",
      "Val:  41%|████      | 35/86 [01:23<01:56,  2.28s/it, eval_loss=0.0889, gpu_mem=6.91 GB]"
     ]
    },
    {
     "name": "stderr",
     "output_type": "stream",
     "text": [
      "\r",
      "Val:  41%|████      | 35/86 [01:26<01:56,  2.28s/it, eval_loss=0.0875, gpu_mem=6.91 GB]"
     ]
    },
    {
     "name": "stderr",
     "output_type": "stream",
     "text": [
      "\r",
      "Val:  42%|████▏     | 36/86 [01:26<01:56,  2.32s/it, eval_loss=0.0875, gpu_mem=6.91 GB]"
     ]
    },
    {
     "name": "stderr",
     "output_type": "stream",
     "text": [
      "\r",
      "Val:  42%|████▏     | 36/86 [01:28<01:56,  2.32s/it, eval_loss=0.0881, gpu_mem=6.91 GB]"
     ]
    },
    {
     "name": "stderr",
     "output_type": "stream",
     "text": [
      "\r",
      "Val:  43%|████▎     | 37/86 [01:28<01:55,  2.35s/it, eval_loss=0.0881, gpu_mem=6.91 GB]"
     ]
    },
    {
     "name": "stderr",
     "output_type": "stream",
     "text": [
      "\r",
      "Val:  43%|████▎     | 37/86 [01:31<01:55,  2.35s/it, eval_loss=0.0879, gpu_mem=6.91 GB]"
     ]
    },
    {
     "name": "stderr",
     "output_type": "stream",
     "text": [
      "\r",
      "Val:  44%|████▍     | 38/86 [01:31<01:50,  2.31s/it, eval_loss=0.0879, gpu_mem=6.91 GB]"
     ]
    },
    {
     "name": "stderr",
     "output_type": "stream",
     "text": [
      "\r",
      "Val:  44%|████▍     | 38/86 [01:33<01:50,  2.31s/it, eval_loss=0.0865, gpu_mem=6.91 GB]"
     ]
    },
    {
     "name": "stderr",
     "output_type": "stream",
     "text": [
      "\r",
      "Val:  45%|████▌     | 39/86 [01:33<01:46,  2.27s/it, eval_loss=0.0865, gpu_mem=6.91 GB]"
     ]
    },
    {
     "name": "stderr",
     "output_type": "stream",
     "text": [
      "\r",
      "Val:  45%|████▌     | 39/86 [01:35<01:46,  2.27s/it, eval_loss=0.0864, gpu_mem=6.91 GB]"
     ]
    },
    {
     "name": "stderr",
     "output_type": "stream",
     "text": [
      "\r",
      "Val:  47%|████▋     | 40/86 [01:35<01:43,  2.25s/it, eval_loss=0.0864, gpu_mem=6.91 GB]"
     ]
    },
    {
     "name": "stderr",
     "output_type": "stream",
     "text": [
      "\r",
      "Val:  47%|████▋     | 40/86 [01:37<01:43,  2.25s/it, eval_loss=0.0859, gpu_mem=6.91 GB]"
     ]
    },
    {
     "name": "stderr",
     "output_type": "stream",
     "text": [
      "\r",
      "Val:  48%|████▊     | 41/86 [01:37<01:45,  2.34s/it, eval_loss=0.0859, gpu_mem=6.91 GB]"
     ]
    },
    {
     "name": "stderr",
     "output_type": "stream",
     "text": [
      "\r",
      "Val:  48%|████▊     | 41/86 [01:40<01:45,  2.34s/it, eval_loss=0.0854, gpu_mem=6.91 GB]"
     ]
    },
    {
     "name": "stderr",
     "output_type": "stream",
     "text": [
      "\r",
      "Val:  49%|████▉     | 42/86 [01:40<01:41,  2.31s/it, eval_loss=0.0854, gpu_mem=6.91 GB]"
     ]
    },
    {
     "name": "stderr",
     "output_type": "stream",
     "text": [
      "\r",
      "Val:  49%|████▉     | 42/86 [01:42<01:41,  2.31s/it, eval_loss=0.0845, gpu_mem=6.91 GB]"
     ]
    },
    {
     "name": "stderr",
     "output_type": "stream",
     "text": [
      "\r",
      "Val:  50%|█████     | 43/86 [01:42<01:43,  2.41s/it, eval_loss=0.0845, gpu_mem=6.91 GB]"
     ]
    },
    {
     "name": "stderr",
     "output_type": "stream",
     "text": [
      "\r",
      "Val:  50%|█████     | 43/86 [01:45<01:43,  2.41s/it, eval_loss=0.0877, gpu_mem=6.91 GB]"
     ]
    },
    {
     "name": "stderr",
     "output_type": "stream",
     "text": [
      "\r",
      "Val:  51%|█████     | 44/86 [01:45<01:38,  2.35s/it, eval_loss=0.0877, gpu_mem=6.91 GB]"
     ]
    },
    {
     "name": "stderr",
     "output_type": "stream",
     "text": [
      "\r",
      "Val:  51%|█████     | 44/86 [01:47<01:38,  2.35s/it, eval_loss=0.0864, gpu_mem=6.91 GB]"
     ]
    },
    {
     "name": "stderr",
     "output_type": "stream",
     "text": [
      "\r",
      "Val:  52%|█████▏    | 45/86 [01:47<01:35,  2.32s/it, eval_loss=0.0864, gpu_mem=6.91 GB]"
     ]
    },
    {
     "name": "stderr",
     "output_type": "stream",
     "text": [
      "\r",
      "Val:  52%|█████▏    | 45/86 [01:49<01:35,  2.32s/it, eval_loss=0.0863, gpu_mem=6.91 GB]"
     ]
    },
    {
     "name": "stderr",
     "output_type": "stream",
     "text": [
      "\r",
      "Val:  53%|█████▎    | 46/86 [01:49<01:34,  2.37s/it, eval_loss=0.0863, gpu_mem=6.91 GB]"
     ]
    },
    {
     "name": "stderr",
     "output_type": "stream",
     "text": [
      "\r",
      "Val:  53%|█████▎    | 46/86 [01:51<01:34,  2.37s/it, eval_loss=0.0856, gpu_mem=6.91 GB]"
     ]
    },
    {
     "name": "stderr",
     "output_type": "stream",
     "text": [
      "\r",
      "Val:  55%|█████▍    | 47/86 [01:51<01:30,  2.31s/it, eval_loss=0.0856, gpu_mem=6.91 GB]"
     ]
    },
    {
     "name": "stderr",
     "output_type": "stream",
     "text": [
      "\r",
      "Val:  55%|█████▍    | 47/86 [01:54<01:30,  2.31s/it, eval_loss=0.0874, gpu_mem=6.91 GB]"
     ]
    },
    {
     "name": "stderr",
     "output_type": "stream",
     "text": [
      "\r",
      "Val:  56%|█████▌    | 48/86 [01:54<01:26,  2.28s/it, eval_loss=0.0874, gpu_mem=6.91 GB]"
     ]
    },
    {
     "name": "stderr",
     "output_type": "stream",
     "text": [
      "\r",
      "Val:  56%|█████▌    | 48/86 [01:56<01:26,  2.28s/it, eval_loss=0.0869, gpu_mem=6.91 GB]"
     ]
    },
    {
     "name": "stderr",
     "output_type": "stream",
     "text": [
      "\r",
      "Val:  57%|█████▋    | 49/86 [01:56<01:23,  2.26s/it, eval_loss=0.0869, gpu_mem=6.91 GB]"
     ]
    },
    {
     "name": "stderr",
     "output_type": "stream",
     "text": [
      "\r",
      "Val:  57%|█████▋    | 49/86 [01:58<01:23,  2.26s/it, eval_loss=0.0866, gpu_mem=6.91 GB]"
     ]
    },
    {
     "name": "stderr",
     "output_type": "stream",
     "text": [
      "\r",
      "Val:  58%|█████▊    | 50/86 [01:58<01:22,  2.28s/it, eval_loss=0.0866, gpu_mem=6.91 GB]"
     ]
    },
    {
     "name": "stderr",
     "output_type": "stream",
     "text": [
      "\r",
      "Val:  58%|█████▊    | 50/86 [02:01<01:22,  2.28s/it, eval_loss=0.0895, gpu_mem=6.91 GB]"
     ]
    },
    {
     "name": "stderr",
     "output_type": "stream",
     "text": [
      "\r",
      "Val:  59%|█████▉    | 51/86 [02:01<01:22,  2.35s/it, eval_loss=0.0895, gpu_mem=6.91 GB]"
     ]
    },
    {
     "name": "stderr",
     "output_type": "stream",
     "text": [
      "\r",
      "Val:  59%|█████▉    | 51/86 [02:03<01:22,  2.35s/it, eval_loss=0.0909, gpu_mem=6.91 GB]"
     ]
    },
    {
     "name": "stderr",
     "output_type": "stream",
     "text": [
      "\r",
      "Val:  60%|██████    | 52/86 [02:03<01:18,  2.30s/it, eval_loss=0.0909, gpu_mem=6.91 GB]"
     ]
    },
    {
     "name": "stderr",
     "output_type": "stream",
     "text": [
      "\r",
      "Val:  60%|██████    | 52/86 [02:05<01:18,  2.30s/it, eval_loss=0.0922, gpu_mem=6.91 GB]"
     ]
    },
    {
     "name": "stderr",
     "output_type": "stream",
     "text": [
      "\r",
      "Val:  62%|██████▏   | 53/86 [02:05<01:14,  2.27s/it, eval_loss=0.0922, gpu_mem=6.91 GB]"
     ]
    },
    {
     "name": "stderr",
     "output_type": "stream",
     "text": [
      "\r",
      "Val:  62%|██████▏   | 53/86 [02:07<01:14,  2.27s/it, eval_loss=0.0915, gpu_mem=6.91 GB]"
     ]
    },
    {
     "name": "stderr",
     "output_type": "stream",
     "text": [
      "\r",
      "Val:  63%|██████▎   | 54/86 [02:07<01:11,  2.25s/it, eval_loss=0.0915, gpu_mem=6.91 GB]"
     ]
    },
    {
     "name": "stderr",
     "output_type": "stream",
     "text": [
      "\r",
      "Val:  63%|██████▎   | 54/86 [02:10<01:11,  2.25s/it, eval_loss=0.0922, gpu_mem=6.91 GB]"
     ]
    },
    {
     "name": "stderr",
     "output_type": "stream",
     "text": [
      "\r",
      "Val:  64%|██████▍   | 55/86 [02:10<01:09,  2.23s/it, eval_loss=0.0922, gpu_mem=6.91 GB]"
     ]
    },
    {
     "name": "stderr",
     "output_type": "stream",
     "text": [
      "\r",
      "Val:  64%|██████▍   | 55/86 [02:12<01:09,  2.23s/it, eval_loss=0.0918, gpu_mem=6.91 GB]"
     ]
    },
    {
     "name": "stderr",
     "output_type": "stream",
     "text": [
      "\r",
      "Val:  65%|██████▌   | 56/86 [02:12<01:09,  2.30s/it, eval_loss=0.0918, gpu_mem=6.91 GB]"
     ]
    },
    {
     "name": "stderr",
     "output_type": "stream",
     "text": [
      "\r",
      "Val:  65%|██████▌   | 56/86 [02:15<01:09,  2.30s/it, eval_loss=0.0917, gpu_mem=6.91 GB]"
     ]
    },
    {
     "name": "stderr",
     "output_type": "stream",
     "text": [
      "\r",
      "Val:  66%|██████▋   | 57/86 [02:15<01:10,  2.42s/it, eval_loss=0.0917, gpu_mem=6.91 GB]"
     ]
    },
    {
     "name": "stderr",
     "output_type": "stream",
     "text": [
      "\r",
      "Val:  66%|██████▋   | 57/86 [02:17<01:10,  2.42s/it, eval_loss=0.0940, gpu_mem=6.91 GB]"
     ]
    },
    {
     "name": "stderr",
     "output_type": "stream",
     "text": [
      "\r",
      "Val:  67%|██████▋   | 58/86 [02:17<01:05,  2.35s/it, eval_loss=0.0940, gpu_mem=6.91 GB]"
     ]
    },
    {
     "name": "stderr",
     "output_type": "stream",
     "text": [
      "\r",
      "Val:  67%|██████▋   | 58/86 [02:19<01:05,  2.35s/it, eval_loss=0.0935, gpu_mem=6.91 GB]"
     ]
    },
    {
     "name": "stderr",
     "output_type": "stream",
     "text": [
      "\r",
      "Val:  69%|██████▊   | 59/86 [02:19<01:02,  2.32s/it, eval_loss=0.0935, gpu_mem=6.91 GB]"
     ]
    },
    {
     "name": "stderr",
     "output_type": "stream",
     "text": [
      "\r",
      "Val:  69%|██████▊   | 59/86 [02:22<01:02,  2.32s/it, eval_loss=0.0953, gpu_mem=6.91 GB]"
     ]
    },
    {
     "name": "stderr",
     "output_type": "stream",
     "text": [
      "\r",
      "Val:  70%|██████▉   | 60/86 [02:22<01:01,  2.37s/it, eval_loss=0.0953, gpu_mem=6.91 GB]"
     ]
    },
    {
     "name": "stderr",
     "output_type": "stream",
     "text": [
      "\r",
      "Val:  70%|██████▉   | 60/86 [02:24<01:01,  2.37s/it, eval_loss=0.0947, gpu_mem=6.91 GB]"
     ]
    },
    {
     "name": "stderr",
     "output_type": "stream",
     "text": [
      "\r",
      "Val:  71%|███████   | 61/86 [02:24<00:57,  2.32s/it, eval_loss=0.0947, gpu_mem=6.91 GB]"
     ]
    },
    {
     "name": "stderr",
     "output_type": "stream",
     "text": [
      "\r",
      "Val:  71%|███████   | 61/86 [02:26<00:57,  2.32s/it, eval_loss=0.0943, gpu_mem=6.91 GB]"
     ]
    },
    {
     "name": "stderr",
     "output_type": "stream",
     "text": [
      "\r",
      "Val:  72%|███████▏  | 62/86 [02:26<00:54,  2.28s/it, eval_loss=0.0943, gpu_mem=6.91 GB]"
     ]
    },
    {
     "name": "stderr",
     "output_type": "stream",
     "text": [
      "\r",
      "Val:  72%|███████▏  | 62/86 [02:28<00:54,  2.28s/it, eval_loss=0.0942, gpu_mem=6.91 GB]"
     ]
    },
    {
     "name": "stderr",
     "output_type": "stream",
     "text": [
      "\r",
      "Val:  73%|███████▎  | 63/86 [02:28<00:52,  2.27s/it, eval_loss=0.0942, gpu_mem=6.91 GB]"
     ]
    },
    {
     "name": "stderr",
     "output_type": "stream",
     "text": [
      "\r",
      "Val:  73%|███████▎  | 63/86 [02:31<00:52,  2.27s/it, eval_loss=0.0941, gpu_mem=6.91 GB]"
     ]
    },
    {
     "name": "stderr",
     "output_type": "stream",
     "text": [
      "\r",
      "Val:  74%|███████▍  | 64/86 [02:31<00:50,  2.29s/it, eval_loss=0.0941, gpu_mem=6.91 GB]"
     ]
    },
    {
     "name": "stderr",
     "output_type": "stream",
     "text": [
      "\r",
      "Val:  74%|███████▍  | 64/86 [02:33<00:50,  2.29s/it, eval_loss=0.0932, gpu_mem=6.91 GB]"
     ]
    },
    {
     "name": "stderr",
     "output_type": "stream",
     "text": [
      "\r",
      "Val:  76%|███████▌  | 65/86 [02:33<00:48,  2.31s/it, eval_loss=0.0932, gpu_mem=6.91 GB]"
     ]
    },
    {
     "name": "stderr",
     "output_type": "stream",
     "text": [
      "\r",
      "Val:  76%|███████▌  | 65/86 [02:35<00:48,  2.31s/it, eval_loss=0.0950, gpu_mem=6.91 GB]"
     ]
    },
    {
     "name": "stderr",
     "output_type": "stream",
     "text": [
      "\r",
      "Val:  77%|███████▋  | 66/86 [02:35<00:45,  2.29s/it, eval_loss=0.0950, gpu_mem=6.91 GB]"
     ]
    },
    {
     "name": "stderr",
     "output_type": "stream",
     "text": [
      "\r",
      "Val:  77%|███████▋  | 66/86 [02:37<00:45,  2.29s/it, eval_loss=0.0942, gpu_mem=6.91 GB]"
     ]
    },
    {
     "name": "stderr",
     "output_type": "stream",
     "text": [
      "\r",
      "Val:  78%|███████▊  | 67/86 [02:37<00:43,  2.29s/it, eval_loss=0.0942, gpu_mem=6.91 GB]"
     ]
    },
    {
     "name": "stderr",
     "output_type": "stream",
     "text": [
      "\r",
      "Val:  78%|███████▊  | 67/86 [02:40<00:43,  2.29s/it, eval_loss=0.0966, gpu_mem=6.91 GB]"
     ]
    },
    {
     "name": "stderr",
     "output_type": "stream",
     "text": [
      "\r",
      "Val:  79%|███████▉  | 68/86 [02:40<00:40,  2.26s/it, eval_loss=0.0966, gpu_mem=6.91 GB]"
     ]
    },
    {
     "name": "stderr",
     "output_type": "stream",
     "text": [
      "\r",
      "Val:  79%|███████▉  | 68/86 [02:42<00:40,  2.26s/it, eval_loss=0.0967, gpu_mem=6.91 GB]"
     ]
    },
    {
     "name": "stderr",
     "output_type": "stream",
     "text": [
      "\r",
      "Val:  80%|████████  | 69/86 [02:42<00:38,  2.25s/it, eval_loss=0.0967, gpu_mem=6.91 GB]"
     ]
    },
    {
     "name": "stderr",
     "output_type": "stream",
     "text": [
      "\r",
      "Val:  80%|████████  | 69/86 [02:44<00:38,  2.25s/it, eval_loss=0.0964, gpu_mem=6.91 GB]"
     ]
    },
    {
     "name": "stderr",
     "output_type": "stream",
     "text": [
      "\r",
      "Val:  81%|████████▏ | 70/86 [02:44<00:37,  2.32s/it, eval_loss=0.0964, gpu_mem=6.91 GB]"
     ]
    },
    {
     "name": "stderr",
     "output_type": "stream",
     "text": [
      "\r",
      "Val:  81%|████████▏ | 70/86 [02:47<00:37,  2.32s/it, eval_loss=0.0971, gpu_mem=6.91 GB]"
     ]
    },
    {
     "name": "stderr",
     "output_type": "stream",
     "text": [
      "\r",
      "Val:  83%|████████▎ | 71/86 [02:47<00:36,  2.44s/it, eval_loss=0.0971, gpu_mem=6.91 GB]"
     ]
    },
    {
     "name": "stderr",
     "output_type": "stream",
     "text": [
      "\r",
      "Val:  83%|████████▎ | 71/86 [02:49<00:36,  2.44s/it, eval_loss=0.0967, gpu_mem=6.91 GB]"
     ]
    },
    {
     "name": "stderr",
     "output_type": "stream",
     "text": [
      "\r",
      "Val:  84%|████████▎ | 72/86 [02:49<00:33,  2.38s/it, eval_loss=0.0967, gpu_mem=6.91 GB]"
     ]
    },
    {
     "name": "stderr",
     "output_type": "stream",
     "text": [
      "\r",
      "Val:  84%|████████▎ | 72/86 [02:52<00:33,  2.38s/it, eval_loss=0.0964, gpu_mem=6.91 GB]"
     ]
    },
    {
     "name": "stderr",
     "output_type": "stream",
     "text": [
      "\r",
      "Val:  85%|████████▍ | 73/86 [02:52<00:30,  2.33s/it, eval_loss=0.0964, gpu_mem=6.91 GB]"
     ]
    },
    {
     "name": "stderr",
     "output_type": "stream",
     "text": [
      "\r",
      "Val:  85%|████████▍ | 73/86 [02:54<00:30,  2.33s/it, eval_loss=0.0967, gpu_mem=6.91 GB]"
     ]
    },
    {
     "name": "stderr",
     "output_type": "stream",
     "text": [
      "\r",
      "Val:  86%|████████▌ | 74/86 [02:54<00:28,  2.34s/it, eval_loss=0.0967, gpu_mem=6.91 GB]"
     ]
    },
    {
     "name": "stderr",
     "output_type": "stream",
     "text": [
      "\r",
      "Val:  86%|████████▌ | 74/86 [02:56<00:28,  2.34s/it, eval_loss=0.0961, gpu_mem=6.91 GB]"
     ]
    },
    {
     "name": "stderr",
     "output_type": "stream",
     "text": [
      "\r",
      "Val:  87%|████████▋ | 75/86 [02:56<00:25,  2.36s/it, eval_loss=0.0961, gpu_mem=6.91 GB]"
     ]
    },
    {
     "name": "stderr",
     "output_type": "stream",
     "text": [
      "\r",
      "Val:  87%|████████▋ | 75/86 [02:58<00:25,  2.36s/it, eval_loss=0.0955, gpu_mem=6.91 GB]"
     ]
    },
    {
     "name": "stderr",
     "output_type": "stream",
     "text": [
      "\r",
      "Val:  88%|████████▊ | 76/86 [02:58<00:23,  2.30s/it, eval_loss=0.0955, gpu_mem=6.91 GB]"
     ]
    },
    {
     "name": "stderr",
     "output_type": "stream",
     "text": [
      "\r",
      "Val:  88%|████████▊ | 76/86 [03:01<00:23,  2.30s/it, eval_loss=0.0966, gpu_mem=6.91 GB]"
     ]
    },
    {
     "name": "stderr",
     "output_type": "stream",
     "text": [
      "\r",
      "Val:  90%|████████▉ | 77/86 [03:01<00:20,  2.27s/it, eval_loss=0.0966, gpu_mem=6.91 GB]"
     ]
    },
    {
     "name": "stderr",
     "output_type": "stream",
     "text": [
      "\r",
      "Val:  90%|████████▉ | 77/86 [03:03<00:20,  2.27s/it, eval_loss=0.0959, gpu_mem=6.91 GB]"
     ]
    },
    {
     "name": "stderr",
     "output_type": "stream",
     "text": [
      "\r",
      "Val:  91%|█████████ | 78/86 [03:03<00:18,  2.27s/it, eval_loss=0.0959, gpu_mem=6.91 GB]"
     ]
    },
    {
     "name": "stderr",
     "output_type": "stream",
     "text": [
      "\r",
      "Val:  91%|█████████ | 78/86 [03:05<00:18,  2.27s/it, eval_loss=0.0958, gpu_mem=6.91 GB]"
     ]
    },
    {
     "name": "stderr",
     "output_type": "stream",
     "text": [
      "\r",
      "Val:  92%|█████████▏| 79/86 [03:05<00:16,  2.33s/it, eval_loss=0.0958, gpu_mem=6.91 GB]"
     ]
    },
    {
     "name": "stderr",
     "output_type": "stream",
     "text": [
      "\r",
      "Val:  92%|█████████▏| 79/86 [03:08<00:16,  2.33s/it, eval_loss=0.0960, gpu_mem=6.91 GB]"
     ]
    },
    {
     "name": "stderr",
     "output_type": "stream",
     "text": [
      "\r",
      "Val:  93%|█████████▎| 80/86 [03:08<00:13,  2.31s/it, eval_loss=0.0960, gpu_mem=6.91 GB]"
     ]
    },
    {
     "name": "stderr",
     "output_type": "stream",
     "text": [
      "\r",
      "Val:  93%|█████████▎| 80/86 [03:10<00:13,  2.31s/it, eval_loss=0.0954, gpu_mem=6.91 GB]"
     ]
    },
    {
     "name": "stderr",
     "output_type": "stream",
     "text": [
      "\r",
      "Val:  94%|█████████▍| 81/86 [03:10<00:11,  2.26s/it, eval_loss=0.0954, gpu_mem=6.91 GB]"
     ]
    },
    {
     "name": "stderr",
     "output_type": "stream",
     "text": [
      "\r",
      "Val:  94%|█████████▍| 81/86 [03:12<00:11,  2.26s/it, eval_loss=0.0950, gpu_mem=6.91 GB]"
     ]
    },
    {
     "name": "stderr",
     "output_type": "stream",
     "text": [
      "\r",
      "Val:  95%|█████████▌| 82/86 [03:12<00:09,  2.26s/it, eval_loss=0.0950, gpu_mem=6.91 GB]"
     ]
    },
    {
     "name": "stderr",
     "output_type": "stream",
     "text": [
      "\r",
      "Val:  95%|█████████▌| 82/86 [03:14<00:09,  2.26s/it, eval_loss=0.0948, gpu_mem=6.91 GB]"
     ]
    },
    {
     "name": "stderr",
     "output_type": "stream",
     "text": [
      "\r",
      "Val:  97%|█████████▋| 83/86 [03:14<00:06,  2.23s/it, eval_loss=0.0948, gpu_mem=6.91 GB]"
     ]
    },
    {
     "name": "stderr",
     "output_type": "stream",
     "text": [
      "\r",
      "Val:  97%|█████████▋| 83/86 [03:17<00:06,  2.23s/it, eval_loss=0.0945, gpu_mem=6.91 GB]"
     ]
    },
    {
     "name": "stderr",
     "output_type": "stream",
     "text": [
      "\r",
      "Val:  98%|█████████▊| 84/86 [03:17<00:04,  2.47s/it, eval_loss=0.0945, gpu_mem=6.91 GB]"
     ]
    },
    {
     "name": "stderr",
     "output_type": "stream",
     "text": [
      "\r",
      "Val:  98%|█████████▊| 84/86 [03:20<00:04,  2.47s/it, eval_loss=0.0972, gpu_mem=6.91 GB]"
     ]
    },
    {
     "name": "stderr",
     "output_type": "stream",
     "text": [
      "\r",
      "Val:  99%|█████████▉| 85/86 [03:20<00:02,  2.42s/it, eval_loss=0.0972, gpu_mem=6.91 GB]"
     ]
    },
    {
     "name": "stderr",
     "output_type": "stream",
     "text": [
      "\r",
      "Val:  99%|█████████▉| 85/86 [03:20<00:02,  2.42s/it, eval_loss=0.0972, gpu_mem=6.91 GB]"
     ]
    },
    {
     "name": "stderr",
     "output_type": "stream",
     "text": [
      "\r",
      "Val: 100%|██████████| 86/86 [03:20<00:00,  1.85s/it, eval_loss=0.0972, gpu_mem=6.91 GB]"
     ]
    },
    {
     "name": "stderr",
     "output_type": "stream",
     "text": [
      "\r",
      "Val: 100%|██████████| 86/86 [03:20<00:00,  2.33s/it, eval_loss=0.0972, gpu_mem=6.91 GB]"
     ]
    },
    {
     "name": "stderr",
     "output_type": "stream",
     "text": [
      "\n",
      "Valid loss:0.0972\n"
     ]
    },
    {
     "name": "stderr",
     "output_type": "stream",
     "text": [
      "Val metric mean prob: 0.1867\n"
     ]
    },
    {
     "name": "stderr",
     "output_type": "stream",
     "text": [
      "Best metric at: 0.5111 0.3630  0.7308\n"
     ]
    },
    {
     "name": "stderr",
     "output_type": "stream",
     "text": [
      "Cf: [[2315   18]\n",
      " [  26   23]]\n"
     ]
    },
    {
     "name": "stderr",
     "output_type": "stream",
     "text": [
      "\u001b[32m[I 2023-02-15 05:07:31,503]\u001b[0m Trial 19 finished with value: 0.5111111111111111 and parameters: {'a1': 0.9574178539318775}. Best is trial 0 with value: 0.5111111111111111.\u001b[0m\n"
     ]
    },
    {
     "name": "stdout",
     "output_type": "stream",
     "text": [
      "/kaggle/input/10folds/tf_efficientnetv2_b2_fold_1_model_epoch_3_0.5055_0.360.pth\n",
      "none:  /kaggle/input/10folds/tf_efficientnetv2_b2_fold_1_model_epoch_3_0.5055_0.360.pth\n",
      "/kaggle/input/10folds/tf_efficientnetv2_b2_fold_1_model_epoch_5_0.4865_0.324.pth\n",
      "hehe /kaggle/input/10folds/tf_efficientnetv2_b2_fold_1_model_epoch_5_0.4865_0.324.pth\n",
      "0.78124811499372 0.21875188500627996\n",
      "\n"
     ]
    },
    {
     "name": "stderr",
     "output_type": "stream",
     "text": [
      "\r",
      "Val:   0%|          | 0/86 [00:00<?, ?it/s]"
     ]
    },
    {
     "name": "stderr",
     "output_type": "stream",
     "text": [
      "\r",
      "Val:   0%|          | 0/86 [00:04<?, ?it/s, eval_loss=0.0552, gpu_mem=6.91 GB]"
     ]
    },
    {
     "name": "stderr",
     "output_type": "stream",
     "text": [
      "\r",
      "Val:   1%|          | 1/86 [00:04<06:26,  4.55s/it, eval_loss=0.0552, gpu_mem=6.91 GB]"
     ]
    },
    {
     "name": "stderr",
     "output_type": "stream",
     "text": [
      "\r",
      "Val:   1%|          | 1/86 [00:06<06:26,  4.55s/it, eval_loss=0.0431, gpu_mem=6.91 GB]"
     ]
    },
    {
     "name": "stderr",
     "output_type": "stream",
     "text": [
      "\r",
      "Val:   2%|▏         | 2/86 [00:06<04:29,  3.20s/it, eval_loss=0.0431, gpu_mem=6.91 GB]"
     ]
    },
    {
     "name": "stderr",
     "output_type": "stream",
     "text": [
      "\r",
      "Val:   2%|▏         | 2/86 [00:09<04:29,  3.20s/it, eval_loss=0.0889, gpu_mem=6.91 GB]"
     ]
    },
    {
     "name": "stderr",
     "output_type": "stream",
     "text": [
      "\r",
      "Val:   3%|▎         | 3/86 [00:09<03:48,  2.75s/it, eval_loss=0.0889, gpu_mem=6.91 GB]"
     ]
    },
    {
     "name": "stderr",
     "output_type": "stream",
     "text": [
      "\r",
      "Val:   3%|▎         | 3/86 [00:11<03:48,  2.75s/it, eval_loss=0.0997, gpu_mem=6.91 GB]"
     ]
    },
    {
     "name": "stderr",
     "output_type": "stream",
     "text": [
      "\r",
      "Val:   5%|▍         | 4/86 [00:11<03:32,  2.59s/it, eval_loss=0.0997, gpu_mem=6.91 GB]"
     ]
    },
    {
     "name": "stderr",
     "output_type": "stream",
     "text": [
      "\r",
      "Val:   5%|▍         | 4/86 [00:13<03:32,  2.59s/it, eval_loss=0.0955, gpu_mem=6.91 GB]"
     ]
    },
    {
     "name": "stderr",
     "output_type": "stream",
     "text": [
      "\r",
      "Val:   6%|▌         | 5/86 [00:13<03:19,  2.46s/it, eval_loss=0.0955, gpu_mem=6.91 GB]"
     ]
    },
    {
     "name": "stderr",
     "output_type": "stream",
     "text": [
      "\r",
      "Val:   6%|▌         | 5/86 [00:16<03:19,  2.46s/it, eval_loss=0.0924, gpu_mem=6.91 GB]"
     ]
    },
    {
     "name": "stderr",
     "output_type": "stream",
     "text": [
      "\r",
      "Val:   7%|▋         | 6/86 [00:16<03:16,  2.46s/it, eval_loss=0.0924, gpu_mem=6.91 GB]"
     ]
    },
    {
     "name": "stderr",
     "output_type": "stream",
     "text": [
      "\r",
      "Val:   7%|▋         | 6/86 [00:18<03:16,  2.46s/it, eval_loss=0.0847, gpu_mem=6.91 GB]"
     ]
    },
    {
     "name": "stderr",
     "output_type": "stream",
     "text": [
      "\r",
      "Val:   8%|▊         | 7/86 [00:18<03:07,  2.37s/it, eval_loss=0.0847, gpu_mem=6.91 GB]"
     ]
    },
    {
     "name": "stderr",
     "output_type": "stream",
     "text": [
      "\r",
      "Val:   8%|▊         | 7/86 [00:20<03:07,  2.37s/it, eval_loss=0.0818, gpu_mem=6.91 GB]"
     ]
    },
    {
     "name": "stderr",
     "output_type": "stream",
     "text": [
      "\r",
      "Val:   9%|▉         | 8/86 [00:20<03:00,  2.31s/it, eval_loss=0.0818, gpu_mem=6.91 GB]"
     ]
    },
    {
     "name": "stderr",
     "output_type": "stream",
     "text": [
      "\r",
      "Val:   9%|▉         | 8/86 [00:22<03:00,  2.31s/it, eval_loss=0.0801, gpu_mem=6.91 GB]"
     ]
    },
    {
     "name": "stderr",
     "output_type": "stream",
     "text": [
      "\r",
      "Val:  10%|█         | 9/86 [00:22<02:54,  2.27s/it, eval_loss=0.0801, gpu_mem=6.91 GB]"
     ]
    },
    {
     "name": "stderr",
     "output_type": "stream",
     "text": [
      "\r",
      "Val:  10%|█         | 9/86 [00:24<02:54,  2.27s/it, eval_loss=0.0871, gpu_mem=6.91 GB]"
     ]
    },
    {
     "name": "stderr",
     "output_type": "stream",
     "text": [
      "\r",
      "Val:  12%|█▏        | 10/86 [00:24<02:53,  2.28s/it, eval_loss=0.0871, gpu_mem=6.91 GB]"
     ]
    },
    {
     "name": "stderr",
     "output_type": "stream",
     "text": [
      "\r",
      "Val:  12%|█▏        | 10/86 [00:27<02:53,  2.28s/it, eval_loss=0.0842, gpu_mem=6.91 GB]"
     ]
    },
    {
     "name": "stderr",
     "output_type": "stream",
     "text": [
      "\r",
      "Val:  13%|█▎        | 11/86 [00:27<03:07,  2.50s/it, eval_loss=0.0842, gpu_mem=6.91 GB]"
     ]
    },
    {
     "name": "stderr",
     "output_type": "stream",
     "text": [
      "\r",
      "Val:  13%|█▎        | 11/86 [00:30<03:07,  2.50s/it, eval_loss=0.0844, gpu_mem=6.91 GB]"
     ]
    },
    {
     "name": "stderr",
     "output_type": "stream",
     "text": [
      "\r",
      "Val:  14%|█▍        | 12/86 [00:30<02:59,  2.43s/it, eval_loss=0.0844, gpu_mem=6.91 GB]"
     ]
    },
    {
     "name": "stderr",
     "output_type": "stream",
     "text": [
      "\r",
      "Val:  14%|█▍        | 12/86 [00:32<02:59,  2.43s/it, eval_loss=0.0865, gpu_mem=6.91 GB]"
     ]
    },
    {
     "name": "stderr",
     "output_type": "stream",
     "text": [
      "\r",
      "Val:  15%|█▌        | 13/86 [00:32<02:52,  2.36s/it, eval_loss=0.0865, gpu_mem=6.91 GB]"
     ]
    },
    {
     "name": "stderr",
     "output_type": "stream",
     "text": [
      "\r",
      "Val:  15%|█▌        | 13/86 [00:34<02:52,  2.36s/it, eval_loss=0.0828, gpu_mem=6.91 GB]"
     ]
    },
    {
     "name": "stderr",
     "output_type": "stream",
     "text": [
      "\r",
      "Val:  16%|█▋        | 14/86 [00:34<02:46,  2.31s/it, eval_loss=0.0828, gpu_mem=6.91 GB]"
     ]
    },
    {
     "name": "stderr",
     "output_type": "stream",
     "text": [
      "\r",
      "Val:  16%|█▋        | 14/86 [00:36<02:46,  2.31s/it, eval_loss=0.0800, gpu_mem=6.91 GB]"
     ]
    },
    {
     "name": "stderr",
     "output_type": "stream",
     "text": [
      "\r",
      "Val:  17%|█▋        | 15/86 [00:36<02:44,  2.32s/it, eval_loss=0.0800, gpu_mem=6.91 GB]"
     ]
    },
    {
     "name": "stderr",
     "output_type": "stream",
     "text": [
      "\r",
      "Val:  17%|█▋        | 15/86 [00:39<02:44,  2.32s/it, eval_loss=0.0781, gpu_mem=6.91 GB]"
     ]
    },
    {
     "name": "stderr",
     "output_type": "stream",
     "text": [
      "\r",
      "Val:  19%|█▊        | 16/86 [00:39<02:43,  2.34s/it, eval_loss=0.0781, gpu_mem=6.91 GB]"
     ]
    },
    {
     "name": "stderr",
     "output_type": "stream",
     "text": [
      "\r",
      "Val:  19%|█▊        | 16/86 [00:41<02:43,  2.34s/it, eval_loss=0.0782, gpu_mem=6.91 GB]"
     ]
    },
    {
     "name": "stderr",
     "output_type": "stream",
     "text": [
      "\r",
      "Val:  20%|█▉        | 17/86 [00:41<02:38,  2.30s/it, eval_loss=0.0782, gpu_mem=6.91 GB]"
     ]
    },
    {
     "name": "stderr",
     "output_type": "stream",
     "text": [
      "\r",
      "Val:  20%|█▉        | 17/86 [00:43<02:38,  2.30s/it, eval_loss=0.0777, gpu_mem=6.91 GB]"
     ]
    },
    {
     "name": "stderr",
     "output_type": "stream",
     "text": [
      "\r",
      "Val:  21%|██        | 18/86 [00:43<02:35,  2.29s/it, eval_loss=0.0777, gpu_mem=6.91 GB]"
     ]
    },
    {
     "name": "stderr",
     "output_type": "stream",
     "text": [
      "\r",
      "Val:  21%|██        | 18/86 [00:45<02:35,  2.29s/it, eval_loss=0.0779, gpu_mem=6.91 GB]"
     ]
    },
    {
     "name": "stderr",
     "output_type": "stream",
     "text": [
      "\r",
      "Val:  22%|██▏       | 19/86 [00:45<02:31,  2.26s/it, eval_loss=0.0779, gpu_mem=6.91 GB]"
     ]
    },
    {
     "name": "stderr",
     "output_type": "stream",
     "text": [
      "\r",
      "Val:  22%|██▏       | 19/86 [00:48<02:31,  2.26s/it, eval_loss=0.0785, gpu_mem=6.91 GB]"
     ]
    },
    {
     "name": "stderr",
     "output_type": "stream",
     "text": [
      "\r",
      "Val:  23%|██▎       | 20/86 [00:48<02:33,  2.33s/it, eval_loss=0.0785, gpu_mem=6.91 GB]"
     ]
    },
    {
     "name": "stderr",
     "output_type": "stream",
     "text": [
      "\r",
      "Val:  23%|██▎       | 20/86 [00:50<02:33,  2.33s/it, eval_loss=0.0771, gpu_mem=6.91 GB]"
     ]
    },
    {
     "name": "stderr",
     "output_type": "stream",
     "text": [
      "\r",
      "Val:  24%|██▍       | 21/86 [00:50<02:28,  2.29s/it, eval_loss=0.0771, gpu_mem=6.91 GB]"
     ]
    },
    {
     "name": "stderr",
     "output_type": "stream",
     "text": [
      "\r",
      "Val:  24%|██▍       | 21/86 [00:52<02:28,  2.29s/it, eval_loss=0.0804, gpu_mem=6.91 GB]"
     ]
    },
    {
     "name": "stderr",
     "output_type": "stream",
     "text": [
      "\r",
      "Val:  26%|██▌       | 22/86 [00:52<02:25,  2.27s/it, eval_loss=0.0804, gpu_mem=6.91 GB]"
     ]
    },
    {
     "name": "stderr",
     "output_type": "stream",
     "text": [
      "\r",
      "Val:  26%|██▌       | 22/86 [00:55<02:25,  2.27s/it, eval_loss=0.0844, gpu_mem=6.91 GB]"
     ]
    },
    {
     "name": "stderr",
     "output_type": "stream",
     "text": [
      "\r",
      "Val:  27%|██▋       | 23/86 [00:55<02:21,  2.25s/it, eval_loss=0.0844, gpu_mem=6.91 GB]"
     ]
    },
    {
     "name": "stderr",
     "output_type": "stream",
     "text": [
      "\r",
      "Val:  27%|██▋       | 23/86 [00:57<02:21,  2.25s/it, eval_loss=0.0839, gpu_mem=6.91 GB]"
     ]
    },
    {
     "name": "stderr",
     "output_type": "stream",
     "text": [
      "\r",
      "Val:  28%|██▊       | 24/86 [00:57<02:30,  2.42s/it, eval_loss=0.0839, gpu_mem=6.91 GB]"
     ]
    },
    {
     "name": "stderr",
     "output_type": "stream",
     "text": [
      "\r",
      "Val:  28%|██▊       | 24/86 [01:00<02:30,  2.42s/it, eval_loss=0.0837, gpu_mem=6.91 GB]"
     ]
    },
    {
     "name": "stderr",
     "output_type": "stream",
     "text": [
      "\r",
      "Val:  29%|██▉       | 25/86 [01:00<02:29,  2.45s/it, eval_loss=0.0837, gpu_mem=6.91 GB]"
     ]
    },
    {
     "name": "stderr",
     "output_type": "stream",
     "text": [
      "\r",
      "Val:  29%|██▉       | 25/86 [01:02<02:29,  2.45s/it, eval_loss=0.0816, gpu_mem=6.91 GB]"
     ]
    },
    {
     "name": "stderr",
     "output_type": "stream",
     "text": [
      "\r",
      "Val:  30%|███       | 26/86 [01:02<02:21,  2.36s/it, eval_loss=0.0816, gpu_mem=6.91 GB]"
     ]
    },
    {
     "name": "stderr",
     "output_type": "stream",
     "text": [
      "\r",
      "Val:  30%|███       | 26/86 [01:04<02:21,  2.36s/it, eval_loss=0.0853, gpu_mem=6.91 GB]"
     ]
    },
    {
     "name": "stderr",
     "output_type": "stream",
     "text": [
      "\r",
      "Val:  31%|███▏      | 27/86 [01:04<02:16,  2.32s/it, eval_loss=0.0853, gpu_mem=6.91 GB]"
     ]
    },
    {
     "name": "stderr",
     "output_type": "stream",
     "text": [
      "\r",
      "Val:  31%|███▏      | 27/86 [01:07<02:16,  2.32s/it, eval_loss=0.0848, gpu_mem=6.91 GB]"
     ]
    },
    {
     "name": "stderr",
     "output_type": "stream",
     "text": [
      "\r",
      "Val:  33%|███▎      | 28/86 [01:07<02:12,  2.29s/it, eval_loss=0.0848, gpu_mem=6.91 GB]"
     ]
    },
    {
     "name": "stderr",
     "output_type": "stream",
     "text": [
      "\r",
      "Val:  33%|███▎      | 28/86 [01:09<02:12,  2.29s/it, eval_loss=0.0838, gpu_mem=6.91 GB]"
     ]
    },
    {
     "name": "stderr",
     "output_type": "stream",
     "text": [
      "\r",
      "Val:  34%|███▎      | 29/86 [01:09<02:09,  2.26s/it, eval_loss=0.0838, gpu_mem=6.91 GB]"
     ]
    },
    {
     "name": "stderr",
     "output_type": "stream",
     "text": [
      "\r",
      "Val:  34%|███▎      | 29/86 [01:11<02:09,  2.26s/it, eval_loss=0.0838, gpu_mem=6.91 GB]"
     ]
    },
    {
     "name": "stderr",
     "output_type": "stream",
     "text": [
      "\r",
      "Val:  35%|███▍      | 30/86 [01:11<02:10,  2.33s/it, eval_loss=0.0838, gpu_mem=6.91 GB]"
     ]
    },
    {
     "name": "stderr",
     "output_type": "stream",
     "text": [
      "\r",
      "Val:  35%|███▍      | 30/86 [01:13<02:10,  2.33s/it, eval_loss=0.0830, gpu_mem=6.91 GB]"
     ]
    },
    {
     "name": "stderr",
     "output_type": "stream",
     "text": [
      "\r",
      "Val:  36%|███▌      | 31/86 [01:13<02:06,  2.29s/it, eval_loss=0.0830, gpu_mem=6.91 GB]"
     ]
    },
    {
     "name": "stderr",
     "output_type": "stream",
     "text": [
      "\r",
      "Val:  36%|███▌      | 31/86 [01:16<02:06,  2.29s/it, eval_loss=0.0905, gpu_mem=6.91 GB]"
     ]
    },
    {
     "name": "stderr",
     "output_type": "stream",
     "text": [
      "\r",
      "Val:  37%|███▋      | 32/86 [01:16<02:04,  2.31s/it, eval_loss=0.0905, gpu_mem=6.91 GB]"
     ]
    },
    {
     "name": "stderr",
     "output_type": "stream",
     "text": [
      "\r",
      "Val:  37%|███▋      | 32/86 [01:18<02:04,  2.31s/it, eval_loss=0.0886, gpu_mem=6.91 GB]"
     ]
    },
    {
     "name": "stderr",
     "output_type": "stream",
     "text": [
      "\r",
      "Val:  38%|███▊      | 33/86 [01:18<01:59,  2.26s/it, eval_loss=0.0886, gpu_mem=6.91 GB]"
     ]
    },
    {
     "name": "stderr",
     "output_type": "stream",
     "text": [
      "\r",
      "Val:  38%|███▊      | 33/86 [01:20<01:59,  2.26s/it, eval_loss=0.0899, gpu_mem=6.91 GB]"
     ]
    },
    {
     "name": "stderr",
     "output_type": "stream",
     "text": [
      "\r",
      "Val:  40%|███▉      | 34/86 [01:20<01:57,  2.27s/it, eval_loss=0.0899, gpu_mem=6.91 GB]"
     ]
    },
    {
     "name": "stderr",
     "output_type": "stream",
     "text": [
      "\r",
      "Val:  40%|███▉      | 34/86 [01:23<01:57,  2.27s/it, eval_loss=0.0889, gpu_mem=6.91 GB]"
     ]
    },
    {
     "name": "stderr",
     "output_type": "stream",
     "text": [
      "\r",
      "Val:  41%|████      | 35/86 [01:23<01:58,  2.32s/it, eval_loss=0.0889, gpu_mem=6.91 GB]"
     ]
    },
    {
     "name": "stderr",
     "output_type": "stream",
     "text": [
      "\r",
      "Val:  41%|████      | 35/86 [01:25<01:58,  2.32s/it, eval_loss=0.0875, gpu_mem=6.91 GB]"
     ]
    },
    {
     "name": "stderr",
     "output_type": "stream",
     "text": [
      "\r",
      "Val:  42%|████▏     | 36/86 [01:25<01:53,  2.27s/it, eval_loss=0.0875, gpu_mem=6.91 GB]"
     ]
    },
    {
     "name": "stderr",
     "output_type": "stream",
     "text": [
      "\r",
      "Val:  42%|████▏     | 36/86 [01:27<01:53,  2.27s/it, eval_loss=0.0881, gpu_mem=6.91 GB]"
     ]
    },
    {
     "name": "stderr",
     "output_type": "stream",
     "text": [
      "\r",
      "Val:  43%|████▎     | 37/86 [01:27<01:50,  2.25s/it, eval_loss=0.0881, gpu_mem=6.91 GB]"
     ]
    },
    {
     "name": "stderr",
     "output_type": "stream",
     "text": [
      "\r",
      "Val:  43%|████▎     | 37/86 [01:30<01:50,  2.25s/it, eval_loss=0.0879, gpu_mem=6.91 GB]"
     ]
    },
    {
     "name": "stderr",
     "output_type": "stream",
     "text": [
      "\r",
      "Val:  44%|████▍     | 38/86 [01:30<01:54,  2.39s/it, eval_loss=0.0879, gpu_mem=6.91 GB]"
     ]
    },
    {
     "name": "stderr",
     "output_type": "stream",
     "text": [
      "\r",
      "Val:  44%|████▍     | 38/86 [01:32<01:54,  2.39s/it, eval_loss=0.0865, gpu_mem=6.91 GB]"
     ]
    },
    {
     "name": "stderr",
     "output_type": "stream",
     "text": [
      "\r",
      "Val:  45%|████▌     | 39/86 [01:32<01:52,  2.39s/it, eval_loss=0.0865, gpu_mem=6.91 GB]"
     ]
    },
    {
     "name": "stderr",
     "output_type": "stream",
     "text": [
      "\r",
      "Val:  45%|████▌     | 39/86 [01:34<01:52,  2.39s/it, eval_loss=0.0864, gpu_mem=6.91 GB]"
     ]
    },
    {
     "name": "stderr",
     "output_type": "stream",
     "text": [
      "\r",
      "Val:  47%|████▋     | 40/86 [01:34<01:46,  2.32s/it, eval_loss=0.0864, gpu_mem=6.91 GB]"
     ]
    },
    {
     "name": "stderr",
     "output_type": "stream",
     "text": [
      "\r",
      "Val:  47%|████▋     | 40/86 [01:36<01:46,  2.32s/it, eval_loss=0.0859, gpu_mem=6.91 GB]"
     ]
    },
    {
     "name": "stderr",
     "output_type": "stream",
     "text": [
      "\r",
      "Val:  48%|████▊     | 41/86 [01:36<01:41,  2.26s/it, eval_loss=0.0859, gpu_mem=6.91 GB]"
     ]
    },
    {
     "name": "stderr",
     "output_type": "stream",
     "text": [
      "\r",
      "Val:  48%|████▊     | 41/86 [01:39<01:41,  2.26s/it, eval_loss=0.0854, gpu_mem=6.91 GB]"
     ]
    },
    {
     "name": "stderr",
     "output_type": "stream",
     "text": [
      "\r",
      "Val:  49%|████▉     | 42/86 [01:39<01:38,  2.23s/it, eval_loss=0.0854, gpu_mem=6.91 GB]"
     ]
    },
    {
     "name": "stderr",
     "output_type": "stream",
     "text": [
      "\r",
      "Val:  49%|████▉     | 42/86 [01:41<01:38,  2.23s/it, eval_loss=0.0845, gpu_mem=6.91 GB]"
     ]
    },
    {
     "name": "stderr",
     "output_type": "stream",
     "text": [
      "\r",
      "Val:  50%|█████     | 43/86 [01:41<01:35,  2.23s/it, eval_loss=0.0845, gpu_mem=6.91 GB]"
     ]
    },
    {
     "name": "stderr",
     "output_type": "stream",
     "text": [
      "\r",
      "Val:  50%|█████     | 43/86 [01:43<01:35,  2.23s/it, eval_loss=0.0877, gpu_mem=6.91 GB]"
     ]
    },
    {
     "name": "stderr",
     "output_type": "stream",
     "text": [
      "\r",
      "Val:  51%|█████     | 44/86 [01:43<01:35,  2.28s/it, eval_loss=0.0877, gpu_mem=6.91 GB]"
     ]
    },
    {
     "name": "stderr",
     "output_type": "stream",
     "text": [
      "\r",
      "Val:  51%|█████     | 44/86 [01:45<01:35,  2.28s/it, eval_loss=0.0864, gpu_mem=6.91 GB]"
     ]
    },
    {
     "name": "stderr",
     "output_type": "stream",
     "text": [
      "\r",
      "Val:  52%|█████▏    | 45/86 [01:45<01:32,  2.26s/it, eval_loss=0.0864, gpu_mem=6.91 GB]"
     ]
    },
    {
     "name": "stderr",
     "output_type": "stream",
     "text": [
      "\r",
      "Val:  52%|█████▏    | 45/86 [01:48<01:32,  2.26s/it, eval_loss=0.0863, gpu_mem=6.91 GB]"
     ]
    },
    {
     "name": "stderr",
     "output_type": "stream",
     "text": [
      "\r",
      "Val:  53%|█████▎    | 46/86 [01:48<01:31,  2.28s/it, eval_loss=0.0863, gpu_mem=6.91 GB]"
     ]
    },
    {
     "name": "stderr",
     "output_type": "stream",
     "text": [
      "\r",
      "Val:  53%|█████▎    | 46/86 [01:50<01:31,  2.28s/it, eval_loss=0.0856, gpu_mem=6.91 GB]"
     ]
    },
    {
     "name": "stderr",
     "output_type": "stream",
     "text": [
      "\r",
      "Val:  55%|█████▍    | 47/86 [01:50<01:28,  2.26s/it, eval_loss=0.0856, gpu_mem=6.91 GB]"
     ]
    },
    {
     "name": "stderr",
     "output_type": "stream",
     "text": [
      "\r",
      "Val:  55%|█████▍    | 47/86 [01:52<01:28,  2.26s/it, eval_loss=0.0874, gpu_mem=6.91 GB]"
     ]
    },
    {
     "name": "stderr",
     "output_type": "stream",
     "text": [
      "\r",
      "Val:  56%|█████▌    | 48/86 [01:52<01:25,  2.26s/it, eval_loss=0.0874, gpu_mem=6.91 GB]"
     ]
    },
    {
     "name": "stderr",
     "output_type": "stream",
     "text": [
      "\r",
      "Val:  56%|█████▌    | 48/86 [01:55<01:25,  2.26s/it, eval_loss=0.0869, gpu_mem=6.91 GB]"
     ]
    },
    {
     "name": "stderr",
     "output_type": "stream",
     "text": [
      "\r",
      "Val:  57%|█████▋    | 49/86 [01:55<01:25,  2.31s/it, eval_loss=0.0869, gpu_mem=6.91 GB]"
     ]
    },
    {
     "name": "stderr",
     "output_type": "stream",
     "text": [
      "\r",
      "Val:  57%|█████▋    | 49/86 [01:57<01:25,  2.31s/it, eval_loss=0.0866, gpu_mem=6.91 GB]"
     ]
    },
    {
     "name": "stderr",
     "output_type": "stream",
     "text": [
      "\r",
      "Val:  58%|█████▊    | 50/86 [01:57<01:22,  2.29s/it, eval_loss=0.0866, gpu_mem=6.91 GB]"
     ]
    },
    {
     "name": "stderr",
     "output_type": "stream",
     "text": [
      "\r",
      "Val:  58%|█████▊    | 50/86 [01:59<01:22,  2.29s/it, eval_loss=0.0895, gpu_mem=6.91 GB]"
     ]
    },
    {
     "name": "stderr",
     "output_type": "stream",
     "text": [
      "\r",
      "Val:  59%|█████▉    | 51/86 [01:59<01:19,  2.26s/it, eval_loss=0.0895, gpu_mem=6.91 GB]"
     ]
    },
    {
     "name": "stderr",
     "output_type": "stream",
     "text": [
      "\r",
      "Val:  59%|█████▉    | 51/86 [02:02<01:19,  2.26s/it, eval_loss=0.0909, gpu_mem=6.91 GB]"
     ]
    },
    {
     "name": "stderr",
     "output_type": "stream",
     "text": [
      "\r",
      "Val:  60%|██████    | 52/86 [02:02<01:20,  2.37s/it, eval_loss=0.0909, gpu_mem=6.91 GB]"
     ]
    },
    {
     "name": "stderr",
     "output_type": "stream",
     "text": [
      "\r",
      "Val:  60%|██████    | 52/86 [02:04<01:20,  2.37s/it, eval_loss=0.0922, gpu_mem=6.91 GB]"
     ]
    },
    {
     "name": "stderr",
     "output_type": "stream",
     "text": [
      "\r",
      "Val:  62%|██████▏   | 53/86 [02:04<01:17,  2.34s/it, eval_loss=0.0922, gpu_mem=6.91 GB]"
     ]
    },
    {
     "name": "stderr",
     "output_type": "stream",
     "text": [
      "\r",
      "Val:  62%|██████▏   | 53/86 [02:06<01:17,  2.34s/it, eval_loss=0.0915, gpu_mem=6.91 GB]"
     ]
    },
    {
     "name": "stderr",
     "output_type": "stream",
     "text": [
      "\r",
      "Val:  63%|██████▎   | 54/86 [02:06<01:15,  2.35s/it, eval_loss=0.0915, gpu_mem=6.91 GB]"
     ]
    },
    {
     "name": "stderr",
     "output_type": "stream",
     "text": [
      "\r",
      "Val:  63%|██████▎   | 54/86 [02:08<01:15,  2.35s/it, eval_loss=0.0922, gpu_mem=6.91 GB]"
     ]
    },
    {
     "name": "stderr",
     "output_type": "stream",
     "text": [
      "\r",
      "Val:  64%|██████▍   | 55/86 [02:08<01:10,  2.29s/it, eval_loss=0.0922, gpu_mem=6.91 GB]"
     ]
    },
    {
     "name": "stderr",
     "output_type": "stream",
     "text": [
      "\r",
      "Val:  64%|██████▍   | 55/86 [02:11<01:10,  2.29s/it, eval_loss=0.0918, gpu_mem=6.91 GB]"
     ]
    },
    {
     "name": "stderr",
     "output_type": "stream",
     "text": [
      "\r",
      "Val:  65%|██████▌   | 56/86 [02:11<01:07,  2.25s/it, eval_loss=0.0918, gpu_mem=6.91 GB]"
     ]
    },
    {
     "name": "stderr",
     "output_type": "stream",
     "text": [
      "\r",
      "Val:  65%|██████▌   | 56/86 [02:13<01:07,  2.25s/it, eval_loss=0.0917, gpu_mem=6.91 GB]"
     ]
    },
    {
     "name": "stderr",
     "output_type": "stream",
     "text": [
      "\r",
      "Val:  66%|██████▋   | 57/86 [02:13<01:05,  2.25s/it, eval_loss=0.0917, gpu_mem=6.91 GB]"
     ]
    },
    {
     "name": "stderr",
     "output_type": "stream",
     "text": [
      "\r",
      "Val:  66%|██████▋   | 57/86 [02:15<01:05,  2.25s/it, eval_loss=0.0940, gpu_mem=6.91 GB]"
     ]
    },
    {
     "name": "stderr",
     "output_type": "stream",
     "text": [
      "\r",
      "Val:  67%|██████▋   | 58/86 [02:15<01:03,  2.28s/it, eval_loss=0.0940, gpu_mem=6.91 GB]"
     ]
    },
    {
     "name": "stderr",
     "output_type": "stream",
     "text": [
      "\r",
      "Val:  67%|██████▋   | 58/86 [02:18<01:03,  2.28s/it, eval_loss=0.0935, gpu_mem=6.91 GB]"
     ]
    },
    {
     "name": "stderr",
     "output_type": "stream",
     "text": [
      "\r",
      "Val:  69%|██████▊   | 59/86 [02:18<01:02,  2.32s/it, eval_loss=0.0935, gpu_mem=6.91 GB]"
     ]
    },
    {
     "name": "stderr",
     "output_type": "stream",
     "text": [
      "\r",
      "Val:  69%|██████▊   | 59/86 [02:20<01:02,  2.32s/it, eval_loss=0.0953, gpu_mem=6.91 GB]"
     ]
    },
    {
     "name": "stderr",
     "output_type": "stream",
     "text": [
      "\r",
      "Val:  70%|██████▉   | 60/86 [02:20<01:00,  2.31s/it, eval_loss=0.0953, gpu_mem=6.91 GB]"
     ]
    },
    {
     "name": "stderr",
     "output_type": "stream",
     "text": [
      "\r",
      "Val:  70%|██████▉   | 60/86 [02:22<01:00,  2.31s/it, eval_loss=0.0947, gpu_mem=6.91 GB]"
     ]
    },
    {
     "name": "stderr",
     "output_type": "stream",
     "text": [
      "\r",
      "Val:  71%|███████   | 61/86 [02:22<00:56,  2.27s/it, eval_loss=0.0947, gpu_mem=6.91 GB]"
     ]
    },
    {
     "name": "stderr",
     "output_type": "stream",
     "text": [
      "\r",
      "Val:  71%|███████   | 61/86 [02:24<00:56,  2.27s/it, eval_loss=0.0943, gpu_mem=6.91 GB]"
     ]
    },
    {
     "name": "stderr",
     "output_type": "stream",
     "text": [
      "\r",
      "Val:  72%|███████▏  | 62/86 [02:24<00:54,  2.25s/it, eval_loss=0.0943, gpu_mem=6.91 GB]"
     ]
    },
    {
     "name": "stderr",
     "output_type": "stream",
     "text": [
      "\r",
      "Val:  72%|███████▏  | 62/86 [02:27<00:54,  2.25s/it, eval_loss=0.0942, gpu_mem=6.91 GB]"
     ]
    },
    {
     "name": "stderr",
     "output_type": "stream",
     "text": [
      "\r",
      "Val:  73%|███████▎  | 63/86 [02:27<00:53,  2.32s/it, eval_loss=0.0942, gpu_mem=6.91 GB]"
     ]
    },
    {
     "name": "stderr",
     "output_type": "stream",
     "text": [
      "\r",
      "Val:  73%|███████▎  | 63/86 [02:29<00:53,  2.32s/it, eval_loss=0.0941, gpu_mem=6.91 GB]"
     ]
    },
    {
     "name": "stderr",
     "output_type": "stream",
     "text": [
      "\r",
      "Val:  74%|███████▍  | 64/86 [02:29<00:51,  2.32s/it, eval_loss=0.0941, gpu_mem=6.91 GB]"
     ]
    },
    {
     "name": "stderr",
     "output_type": "stream",
     "text": [
      "\r",
      "Val:  74%|███████▍  | 64/86 [02:31<00:51,  2.32s/it, eval_loss=0.0932, gpu_mem=6.91 GB]"
     ]
    },
    {
     "name": "stderr",
     "output_type": "stream",
     "text": [
      "\r",
      "Val:  76%|███████▌  | 65/86 [02:31<00:48,  2.30s/it, eval_loss=0.0932, gpu_mem=6.91 GB]"
     ]
    },
    {
     "name": "stderr",
     "output_type": "stream",
     "text": [
      "\r",
      "Val:  76%|███████▌  | 65/86 [02:34<00:48,  2.30s/it, eval_loss=0.0950, gpu_mem=6.91 GB]"
     ]
    },
    {
     "name": "stderr",
     "output_type": "stream",
     "text": [
      "\r",
      "Val:  77%|███████▋  | 66/86 [02:34<00:48,  2.43s/it, eval_loss=0.0950, gpu_mem=6.91 GB]"
     ]
    },
    {
     "name": "stderr",
     "output_type": "stream",
     "text": [
      "\r",
      "Val:  77%|███████▋  | 66/86 [02:36<00:48,  2.43s/it, eval_loss=0.0942, gpu_mem=6.91 GB]"
     ]
    },
    {
     "name": "stderr",
     "output_type": "stream",
     "text": [
      "\r",
      "Val:  78%|███████▊  | 67/86 [02:36<00:44,  2.36s/it, eval_loss=0.0942, gpu_mem=6.91 GB]"
     ]
    },
    {
     "name": "stderr",
     "output_type": "stream",
     "text": [
      "\r",
      "Val:  78%|███████▊  | 67/86 [02:39<00:44,  2.36s/it, eval_loss=0.0966, gpu_mem=6.91 GB]"
     ]
    },
    {
     "name": "stderr",
     "output_type": "stream",
     "text": [
      "\r",
      "Val:  79%|███████▉  | 68/86 [02:39<00:43,  2.44s/it, eval_loss=0.0966, gpu_mem=6.91 GB]"
     ]
    },
    {
     "name": "stderr",
     "output_type": "stream",
     "text": [
      "\r",
      "Val:  79%|███████▉  | 68/86 [02:41<00:43,  2.44s/it, eval_loss=0.0967, gpu_mem=6.91 GB]"
     ]
    },
    {
     "name": "stderr",
     "output_type": "stream",
     "text": [
      "\r",
      "Val:  80%|████████  | 69/86 [02:41<00:40,  2.37s/it, eval_loss=0.0967, gpu_mem=6.91 GB]"
     ]
    },
    {
     "name": "stderr",
     "output_type": "stream",
     "text": [
      "\r",
      "Val:  80%|████████  | 69/86 [02:43<00:40,  2.37s/it, eval_loss=0.0964, gpu_mem=6.91 GB]"
     ]
    },
    {
     "name": "stderr",
     "output_type": "stream",
     "text": [
      "\r",
      "Val:  81%|████████▏ | 70/86 [02:43<00:37,  2.34s/it, eval_loss=0.0964, gpu_mem=6.91 GB]"
     ]
    },
    {
     "name": "stderr",
     "output_type": "stream",
     "text": [
      "\r",
      "Val:  81%|████████▏ | 70/86 [02:46<00:37,  2.34s/it, eval_loss=0.0971, gpu_mem=6.91 GB]"
     ]
    },
    {
     "name": "stderr",
     "output_type": "stream",
     "text": [
      "\r",
      "Val:  83%|████████▎ | 71/86 [02:46<00:34,  2.31s/it, eval_loss=0.0971, gpu_mem=6.91 GB]"
     ]
    },
    {
     "name": "stderr",
     "output_type": "stream",
     "text": [
      "\r",
      "Val:  83%|████████▎ | 71/86 [02:48<00:34,  2.31s/it, eval_loss=0.0967, gpu_mem=6.91 GB]"
     ]
    },
    {
     "name": "stderr",
     "output_type": "stream",
     "text": [
      "\r",
      "Val:  84%|████████▎ | 72/86 [02:48<00:32,  2.29s/it, eval_loss=0.0967, gpu_mem=6.91 GB]"
     ]
    },
    {
     "name": "stderr",
     "output_type": "stream",
     "text": [
      "\r",
      "Val:  84%|████████▎ | 72/86 [02:50<00:32,  2.29s/it, eval_loss=0.0964, gpu_mem=6.91 GB]"
     ]
    },
    {
     "name": "stderr",
     "output_type": "stream",
     "text": [
      "\r",
      "Val:  85%|████████▍ | 73/86 [02:50<00:30,  2.34s/it, eval_loss=0.0964, gpu_mem=6.91 GB]"
     ]
    },
    {
     "name": "stderr",
     "output_type": "stream",
     "text": [
      "\r",
      "Val:  85%|████████▍ | 73/86 [02:53<00:30,  2.34s/it, eval_loss=0.0967, gpu_mem=6.91 GB]"
     ]
    },
    {
     "name": "stderr",
     "output_type": "stream",
     "text": [
      "\r",
      "Val:  86%|████████▌ | 74/86 [02:53<00:28,  2.34s/it, eval_loss=0.0967, gpu_mem=6.91 GB]"
     ]
    },
    {
     "name": "stderr",
     "output_type": "stream",
     "text": [
      "\r",
      "Val:  86%|████████▌ | 74/86 [02:55<00:28,  2.34s/it, eval_loss=0.0961, gpu_mem=6.91 GB]"
     ]
    },
    {
     "name": "stderr",
     "output_type": "stream",
     "text": [
      "\r",
      "Val:  87%|████████▋ | 75/86 [02:55<00:25,  2.30s/it, eval_loss=0.0961, gpu_mem=6.91 GB]"
     ]
    },
    {
     "name": "stderr",
     "output_type": "stream",
     "text": [
      "\r",
      "Val:  87%|████████▋ | 75/86 [02:57<00:25,  2.30s/it, eval_loss=0.0955, gpu_mem=6.91 GB]"
     ]
    },
    {
     "name": "stderr",
     "output_type": "stream",
     "text": [
      "\r",
      "Val:  88%|████████▊ | 76/86 [02:57<00:22,  2.27s/it, eval_loss=0.0955, gpu_mem=6.91 GB]"
     ]
    },
    {
     "name": "stderr",
     "output_type": "stream",
     "text": [
      "\r",
      "Val:  88%|████████▊ | 76/86 [02:59<00:22,  2.27s/it, eval_loss=0.0966, gpu_mem=6.91 GB]"
     ]
    },
    {
     "name": "stderr",
     "output_type": "stream",
     "text": [
      "\r",
      "Val:  90%|████████▉ | 77/86 [02:59<00:20,  2.30s/it, eval_loss=0.0966, gpu_mem=6.91 GB]"
     ]
    },
    {
     "name": "stderr",
     "output_type": "stream",
     "text": [
      "\r",
      "Val:  90%|████████▉ | 77/86 [03:02<00:20,  2.30s/it, eval_loss=0.0959, gpu_mem=6.91 GB]"
     ]
    },
    {
     "name": "stderr",
     "output_type": "stream",
     "text": [
      "\r",
      "Val:  91%|█████████ | 78/86 [03:02<00:18,  2.35s/it, eval_loss=0.0959, gpu_mem=6.91 GB]"
     ]
    },
    {
     "name": "stderr",
     "output_type": "stream",
     "text": [
      "\r",
      "Val:  91%|█████████ | 78/86 [03:05<00:18,  2.35s/it, eval_loss=0.0958, gpu_mem=6.91 GB]"
     ]
    },
    {
     "name": "stderr",
     "output_type": "stream",
     "text": [
      "\r",
      "Val:  92%|█████████▏| 79/86 [03:05<00:17,  2.46s/it, eval_loss=0.0958, gpu_mem=6.91 GB]"
     ]
    },
    {
     "name": "stderr",
     "output_type": "stream",
     "text": [
      "\r",
      "Val:  92%|█████████▏| 79/86 [03:07<00:17,  2.46s/it, eval_loss=0.0960, gpu_mem=6.91 GB]"
     ]
    },
    {
     "name": "stderr",
     "output_type": "stream",
     "text": [
      "\r",
      "Val:  93%|█████████▎| 80/86 [03:07<00:14,  2.38s/it, eval_loss=0.0960, gpu_mem=6.91 GB]"
     ]
    },
    {
     "name": "stderr",
     "output_type": "stream",
     "text": [
      "\r",
      "Val:  93%|█████████▎| 80/86 [03:09<00:14,  2.38s/it, eval_loss=0.0954, gpu_mem=6.91 GB]"
     ]
    },
    {
     "name": "stderr",
     "output_type": "stream",
     "text": [
      "\r",
      "Val:  94%|█████████▍| 81/86 [03:09<00:11,  2.32s/it, eval_loss=0.0954, gpu_mem=6.91 GB]"
     ]
    },
    {
     "name": "stderr",
     "output_type": "stream",
     "text": [
      "\r",
      "Val:  94%|█████████▍| 81/86 [03:11<00:11,  2.32s/it, eval_loss=0.0950, gpu_mem=6.91 GB]"
     ]
    },
    {
     "name": "stderr",
     "output_type": "stream",
     "text": [
      "\r",
      "Val:  95%|█████████▌| 82/86 [03:11<00:09,  2.34s/it, eval_loss=0.0950, gpu_mem=6.91 GB]"
     ]
    },
    {
     "name": "stderr",
     "output_type": "stream",
     "text": [
      "\r",
      "Val:  95%|█████████▌| 82/86 [03:14<00:09,  2.34s/it, eval_loss=0.0948, gpu_mem=6.91 GB]"
     ]
    },
    {
     "name": "stderr",
     "output_type": "stream",
     "text": [
      "\r",
      "Val:  97%|█████████▋| 83/86 [03:14<00:06,  2.30s/it, eval_loss=0.0948, gpu_mem=6.91 GB]"
     ]
    },
    {
     "name": "stderr",
     "output_type": "stream",
     "text": [
      "\r",
      "Val:  97%|█████████▋| 83/86 [03:16<00:06,  2.30s/it, eval_loss=0.0945, gpu_mem=6.91 GB]"
     ]
    },
    {
     "name": "stderr",
     "output_type": "stream",
     "text": [
      "\r",
      "Val:  98%|█████████▊| 84/86 [03:16<00:04,  2.28s/it, eval_loss=0.0945, gpu_mem=6.91 GB]"
     ]
    },
    {
     "name": "stderr",
     "output_type": "stream",
     "text": [
      "\r",
      "Val:  98%|█████████▊| 84/86 [03:18<00:04,  2.28s/it, eval_loss=0.0972, gpu_mem=6.91 GB]"
     ]
    },
    {
     "name": "stderr",
     "output_type": "stream",
     "text": [
      "\r",
      "Val:  99%|█████████▉| 85/86 [03:18<00:02,  2.26s/it, eval_loss=0.0972, gpu_mem=6.91 GB]"
     ]
    },
    {
     "name": "stderr",
     "output_type": "stream",
     "text": [
      "\r",
      "Val:  99%|█████████▉| 85/86 [03:19<00:02,  2.26s/it, eval_loss=0.0972, gpu_mem=6.91 GB]"
     ]
    },
    {
     "name": "stderr",
     "output_type": "stream",
     "text": [
      "\r",
      "Val: 100%|██████████| 86/86 [03:19<00:00,  1.74s/it, eval_loss=0.0972, gpu_mem=6.91 GB]"
     ]
    },
    {
     "name": "stderr",
     "output_type": "stream",
     "text": [
      "\r",
      "Val: 100%|██████████| 86/86 [03:19<00:00,  2.32s/it, eval_loss=0.0972, gpu_mem=6.91 GB]"
     ]
    },
    {
     "name": "stderr",
     "output_type": "stream",
     "text": [
      "\n",
      "Valid loss:0.0972\n"
     ]
    },
    {
     "name": "stderr",
     "output_type": "stream",
     "text": [
      "Val metric mean prob: 0.1867\n"
     ]
    },
    {
     "name": "stderr",
     "output_type": "stream",
     "text": [
      "Best metric at: 0.5111 0.3630  0.7308\n"
     ]
    },
    {
     "name": "stderr",
     "output_type": "stream",
     "text": [
      "Cf: [[2315   18]\n",
      " [  26   23]]\n"
     ]
    },
    {
     "name": "stderr",
     "output_type": "stream",
     "text": [
      "\u001b[32m[I 2023-02-15 05:10:53,667]\u001b[0m Trial 20 finished with value: 0.5111111111111111 and parameters: {'a1': 0.78124811499372}. Best is trial 0 with value: 0.5111111111111111.\u001b[0m\n"
     ]
    },
    {
     "name": "stdout",
     "output_type": "stream",
     "text": [
      "/kaggle/input/10folds/tf_efficientnetv2_b2_fold_1_model_epoch_3_0.5055_0.360.pth\n",
      "none:  /kaggle/input/10folds/tf_efficientnetv2_b2_fold_1_model_epoch_3_0.5055_0.360.pth\n",
      "/kaggle/input/10folds/tf_efficientnetv2_b2_fold_1_model_epoch_5_0.4865_0.324.pth\n",
      "hehe /kaggle/input/10folds/tf_efficientnetv2_b2_fold_1_model_epoch_5_0.4865_0.324.pth\n"
     ]
    },
    {
     "name": "stdout",
     "output_type": "stream",
     "text": [
      "0.6663661707848809 0.3336338292151191\n",
      "\n"
     ]
    },
    {
     "name": "stderr",
     "output_type": "stream",
     "text": [
      "\r",
      "Val:   0%|          | 0/86 [00:00<?, ?it/s]"
     ]
    },
    {
     "name": "stderr",
     "output_type": "stream",
     "text": [
      "\r",
      "Val:   0%|          | 0/86 [00:04<?, ?it/s, eval_loss=0.0552, gpu_mem=6.91 GB]"
     ]
    },
    {
     "name": "stderr",
     "output_type": "stream",
     "text": [
      "\r",
      "Val:   1%|          | 1/86 [00:04<06:12,  4.39s/it, eval_loss=0.0552, gpu_mem=6.91 GB]"
     ]
    },
    {
     "name": "stderr",
     "output_type": "stream",
     "text": [
      "\r",
      "Val:   1%|          | 1/86 [00:06<06:12,  4.39s/it, eval_loss=0.0431, gpu_mem=6.91 GB]"
     ]
    },
    {
     "name": "stderr",
     "output_type": "stream",
     "text": [
      "\r",
      "Val:   2%|▏         | 2/86 [00:06<04:24,  3.14s/it, eval_loss=0.0431, gpu_mem=6.91 GB]"
     ]
    },
    {
     "name": "stderr",
     "output_type": "stream",
     "text": [
      "\r",
      "Val:   2%|▏         | 2/86 [00:08<04:24,  3.14s/it, eval_loss=0.0889, gpu_mem=6.91 GB]"
     ]
    },
    {
     "name": "stderr",
     "output_type": "stream",
     "text": [
      "\r",
      "Val:   3%|▎         | 3/86 [00:08<03:48,  2.75s/it, eval_loss=0.0889, gpu_mem=6.91 GB]"
     ]
    },
    {
     "name": "stderr",
     "output_type": "stream",
     "text": [
      "\r",
      "Val:   3%|▎         | 3/86 [00:11<03:48,  2.75s/it, eval_loss=0.0997, gpu_mem=6.91 GB]"
     ]
    },
    {
     "name": "stderr",
     "output_type": "stream",
     "text": [
      "\r",
      "Val:   5%|▍         | 4/86 [00:11<03:36,  2.65s/it, eval_loss=0.0997, gpu_mem=6.91 GB]"
     ]
    },
    {
     "name": "stderr",
     "output_type": "stream",
     "text": [
      "\r",
      "Val:   5%|▍         | 4/86 [00:14<03:36,  2.65s/it, eval_loss=0.0955, gpu_mem=6.91 GB]"
     ]
    },
    {
     "name": "stderr",
     "output_type": "stream",
     "text": [
      "\r",
      "Val:   6%|▌         | 5/86 [00:14<03:32,  2.63s/it, eval_loss=0.0955, gpu_mem=6.91 GB]"
     ]
    },
    {
     "name": "stderr",
     "output_type": "stream",
     "text": [
      "\r",
      "Val:   6%|▌         | 5/86 [00:16<03:32,  2.63s/it, eval_loss=0.0924, gpu_mem=6.91 GB]"
     ]
    },
    {
     "name": "stderr",
     "output_type": "stream",
     "text": [
      "\r",
      "Val:   7%|▋         | 6/86 [00:16<03:27,  2.59s/it, eval_loss=0.0924, gpu_mem=6.91 GB]"
     ]
    },
    {
     "name": "stderr",
     "output_type": "stream",
     "text": [
      "\r",
      "Val:   7%|▋         | 6/86 [00:18<03:27,  2.59s/it, eval_loss=0.0847, gpu_mem=6.91 GB]"
     ]
    },
    {
     "name": "stderr",
     "output_type": "stream",
     "text": [
      "\r",
      "Val:   8%|▊         | 7/86 [00:18<03:15,  2.47s/it, eval_loss=0.0847, gpu_mem=6.91 GB]"
     ]
    },
    {
     "name": "stderr",
     "output_type": "stream",
     "text": [
      "\r",
      "Val:   8%|▊         | 7/86 [00:21<03:15,  2.47s/it, eval_loss=0.0818, gpu_mem=6.91 GB]"
     ]
    },
    {
     "name": "stderr",
     "output_type": "stream",
     "text": [
      "\r",
      "Val:   9%|▉         | 8/86 [00:21<03:09,  2.42s/it, eval_loss=0.0818, gpu_mem=6.91 GB]"
     ]
    },
    {
     "name": "stderr",
     "output_type": "stream",
     "text": [
      "\r",
      "Val:   9%|▉         | 8/86 [00:23<03:09,  2.42s/it, eval_loss=0.0801, gpu_mem=6.91 GB]"
     ]
    },
    {
     "name": "stderr",
     "output_type": "stream",
     "text": [
      "\r",
      "Val:  10%|█         | 9/86 [00:23<03:09,  2.47s/it, eval_loss=0.0801, gpu_mem=6.91 GB]"
     ]
    },
    {
     "name": "stderr",
     "output_type": "stream",
     "text": [
      "\r",
      "Val:  10%|█         | 9/86 [00:25<03:09,  2.47s/it, eval_loss=0.0871, gpu_mem=6.91 GB]"
     ]
    },
    {
     "name": "stderr",
     "output_type": "stream",
     "text": [
      "\r",
      "Val:  12%|█▏        | 10/86 [00:25<03:02,  2.40s/it, eval_loss=0.0871, gpu_mem=6.91 GB]"
     ]
    },
    {
     "name": "stderr",
     "output_type": "stream",
     "text": [
      "\r",
      "Val:  12%|█▏        | 10/86 [00:28<03:02,  2.40s/it, eval_loss=0.0842, gpu_mem=6.91 GB]"
     ]
    },
    {
     "name": "stderr",
     "output_type": "stream",
     "text": [
      "\r",
      "Val:  13%|█▎        | 11/86 [00:28<02:57,  2.36s/it, eval_loss=0.0842, gpu_mem=6.91 GB]"
     ]
    },
    {
     "name": "stderr",
     "output_type": "stream",
     "text": [
      "\r",
      "Val:  13%|█▎        | 11/86 [00:30<02:57,  2.36s/it, eval_loss=0.0844, gpu_mem=6.91 GB]"
     ]
    },
    {
     "name": "stderr",
     "output_type": "stream",
     "text": [
      "\r",
      "Val:  14%|█▍        | 12/86 [00:30<02:52,  2.33s/it, eval_loss=0.0844, gpu_mem=6.91 GB]"
     ]
    },
    {
     "name": "stderr",
     "output_type": "stream",
     "text": [
      "\r",
      "Val:  14%|█▍        | 12/86 [00:32<02:52,  2.33s/it, eval_loss=0.0865, gpu_mem=6.91 GB]"
     ]
    },
    {
     "name": "stderr",
     "output_type": "stream",
     "text": [
      "\r",
      "Val:  15%|█▌        | 13/86 [00:32<02:54,  2.38s/it, eval_loss=0.0865, gpu_mem=6.91 GB]"
     ]
    },
    {
     "name": "stderr",
     "output_type": "stream",
     "text": [
      "\r",
      "Val:  15%|█▌        | 13/86 [00:35<02:54,  2.38s/it, eval_loss=0.0828, gpu_mem=6.91 GB]"
     ]
    },
    {
     "name": "stderr",
     "output_type": "stream",
     "text": [
      "\r",
      "Val:  16%|█▋        | 14/86 [00:35<02:53,  2.41s/it, eval_loss=0.0828, gpu_mem=6.91 GB]"
     ]
    },
    {
     "name": "stderr",
     "output_type": "stream",
     "text": [
      "\r",
      "Val:  16%|█▋        | 14/86 [00:37<02:53,  2.41s/it, eval_loss=0.0800, gpu_mem=6.91 GB]"
     ]
    },
    {
     "name": "stderr",
     "output_type": "stream",
     "text": [
      "\r",
      "Val:  17%|█▋        | 15/86 [00:37<02:48,  2.37s/it, eval_loss=0.0800, gpu_mem=6.91 GB]"
     ]
    },
    {
     "name": "stderr",
     "output_type": "stream",
     "text": [
      "\r",
      "Val:  17%|█▋        | 15/86 [00:39<02:48,  2.37s/it, eval_loss=0.0781, gpu_mem=6.91 GB]"
     ]
    },
    {
     "name": "stderr",
     "output_type": "stream",
     "text": [
      "\r",
      "Val:  19%|█▊        | 16/86 [00:39<02:43,  2.34s/it, eval_loss=0.0781, gpu_mem=6.91 GB]"
     ]
    },
    {
     "name": "stderr",
     "output_type": "stream",
     "text": [
      "\r",
      "Val:  19%|█▊        | 16/86 [00:42<02:43,  2.34s/it, eval_loss=0.0782, gpu_mem=6.91 GB]"
     ]
    },
    {
     "name": "stderr",
     "output_type": "stream",
     "text": [
      "\r",
      "Val:  20%|█▉        | 17/86 [00:42<02:40,  2.32s/it, eval_loss=0.0782, gpu_mem=6.91 GB]"
     ]
    },
    {
     "name": "stderr",
     "output_type": "stream",
     "text": [
      "\r",
      "Val:  20%|█▉        | 17/86 [00:44<02:40,  2.32s/it, eval_loss=0.0777, gpu_mem=6.91 GB]"
     ]
    },
    {
     "name": "stderr",
     "output_type": "stream",
     "text": [
      "\r",
      "Val:  21%|██        | 18/86 [00:44<02:40,  2.36s/it, eval_loss=0.0777, gpu_mem=6.91 GB]"
     ]
    },
    {
     "name": "stderr",
     "output_type": "stream",
     "text": [
      "\r",
      "Val:  21%|██        | 18/86 [00:47<02:40,  2.36s/it, eval_loss=0.0779, gpu_mem=6.91 GB]"
     ]
    },
    {
     "name": "stderr",
     "output_type": "stream",
     "text": [
      "\r",
      "Val:  22%|██▏       | 19/86 [00:47<02:47,  2.50s/it, eval_loss=0.0779, gpu_mem=6.91 GB]"
     ]
    },
    {
     "name": "stderr",
     "output_type": "stream",
     "text": [
      "\r",
      "Val:  22%|██▏       | 19/86 [00:49<02:47,  2.50s/it, eval_loss=0.0785, gpu_mem=6.91 GB]"
     ]
    },
    {
     "name": "stderr",
     "output_type": "stream",
     "text": [
      "\r",
      "Val:  23%|██▎       | 20/86 [00:49<02:40,  2.44s/it, eval_loss=0.0785, gpu_mem=6.91 GB]"
     ]
    },
    {
     "name": "stderr",
     "output_type": "stream",
     "text": [
      "\r",
      "Val:  23%|██▎       | 20/86 [00:52<02:40,  2.44s/it, eval_loss=0.0771, gpu_mem=6.91 GB]"
     ]
    },
    {
     "name": "stderr",
     "output_type": "stream",
     "text": [
      "\r",
      "Val:  24%|██▍       | 21/86 [00:52<02:35,  2.39s/it, eval_loss=0.0771, gpu_mem=6.91 GB]"
     ]
    },
    {
     "name": "stderr",
     "output_type": "stream",
     "text": [
      "\r",
      "Val:  24%|██▍       | 21/86 [00:54<02:35,  2.39s/it, eval_loss=0.0804, gpu_mem=6.91 GB]"
     ]
    },
    {
     "name": "stderr",
     "output_type": "stream",
     "text": [
      "\r",
      "Val:  26%|██▌       | 22/86 [00:54<02:31,  2.37s/it, eval_loss=0.0804, gpu_mem=6.91 GB]"
     ]
    },
    {
     "name": "stderr",
     "output_type": "stream",
     "text": [
      "\r",
      "Val:  26%|██▌       | 22/86 [00:56<02:31,  2.37s/it, eval_loss=0.0844, gpu_mem=6.91 GB]"
     ]
    },
    {
     "name": "stderr",
     "output_type": "stream",
     "text": [
      "\r",
      "Val:  27%|██▋       | 23/86 [00:56<02:31,  2.40s/it, eval_loss=0.0844, gpu_mem=6.91 GB]"
     ]
    },
    {
     "name": "stderr",
     "output_type": "stream",
     "text": [
      "\r",
      "Val:  27%|██▋       | 23/86 [00:59<02:31,  2.40s/it, eval_loss=0.0839, gpu_mem=6.91 GB]"
     ]
    },
    {
     "name": "stderr",
     "output_type": "stream",
     "text": [
      "\r",
      "Val:  28%|██▊       | 24/86 [00:59<02:26,  2.36s/it, eval_loss=0.0839, gpu_mem=6.91 GB]"
     ]
    },
    {
     "name": "stderr",
     "output_type": "stream",
     "text": [
      "\r",
      "Val:  28%|██▊       | 24/86 [01:01<02:26,  2.36s/it, eval_loss=0.0837, gpu_mem=6.91 GB]"
     ]
    },
    {
     "name": "stderr",
     "output_type": "stream",
     "text": [
      "\r",
      "Val:  29%|██▉       | 25/86 [01:01<02:21,  2.33s/it, eval_loss=0.0837, gpu_mem=6.91 GB]"
     ]
    },
    {
     "name": "stderr",
     "output_type": "stream",
     "text": [
      "\r",
      "Val:  29%|██▉       | 25/86 [01:03<02:21,  2.33s/it, eval_loss=0.0816, gpu_mem=6.91 GB]"
     ]
    },
    {
     "name": "stderr",
     "output_type": "stream",
     "text": [
      "\r",
      "Val:  30%|███       | 26/86 [01:03<02:20,  2.34s/it, eval_loss=0.0816, gpu_mem=6.91 GB]"
     ]
    },
    {
     "name": "stderr",
     "output_type": "stream",
     "text": [
      "\r",
      "Val:  30%|███       | 26/86 [01:06<02:20,  2.34s/it, eval_loss=0.0853, gpu_mem=6.91 GB]"
     ]
    },
    {
     "name": "stderr",
     "output_type": "stream",
     "text": [
      "\r",
      "Val:  31%|███▏      | 27/86 [01:06<02:19,  2.36s/it, eval_loss=0.0853, gpu_mem=6.91 GB]"
     ]
    },
    {
     "name": "stderr",
     "output_type": "stream",
     "text": [
      "\r",
      "Val:  31%|███▏      | 27/86 [01:08<02:19,  2.36s/it, eval_loss=0.0848, gpu_mem=6.91 GB]"
     ]
    },
    {
     "name": "stderr",
     "output_type": "stream",
     "text": [
      "\r",
      "Val:  33%|███▎      | 28/86 [01:08<02:16,  2.36s/it, eval_loss=0.0848, gpu_mem=6.91 GB]"
     ]
    },
    {
     "name": "stderr",
     "output_type": "stream",
     "text": [
      "\r",
      "Val:  33%|███▎      | 28/86 [01:10<02:16,  2.36s/it, eval_loss=0.0838, gpu_mem=6.91 GB]"
     ]
    },
    {
     "name": "stderr",
     "output_type": "stream",
     "text": [
      "\r",
      "Val:  34%|███▎      | 29/86 [01:10<02:12,  2.33s/it, eval_loss=0.0838, gpu_mem=6.91 GB]"
     ]
    },
    {
     "name": "stderr",
     "output_type": "stream",
     "text": [
      "\r",
      "Val:  34%|███▎      | 29/86 [01:13<02:12,  2.33s/it, eval_loss=0.0838, gpu_mem=6.91 GB]"
     ]
    },
    {
     "name": "stderr",
     "output_type": "stream",
     "text": [
      "\r",
      "Val:  35%|███▍      | 30/86 [01:13<02:09,  2.32s/it, eval_loss=0.0838, gpu_mem=6.91 GB]"
     ]
    },
    {
     "name": "stderr",
     "output_type": "stream",
     "text": [
      "\r",
      "Val:  35%|███▍      | 30/86 [01:15<02:09,  2.32s/it, eval_loss=0.0830, gpu_mem=6.91 GB]"
     ]
    },
    {
     "name": "stderr",
     "output_type": "stream",
     "text": [
      "\r",
      "Val:  36%|███▌      | 31/86 [01:15<02:06,  2.30s/it, eval_loss=0.0830, gpu_mem=6.91 GB]"
     ]
    },
    {
     "name": "stderr",
     "output_type": "stream",
     "text": [
      "\r",
      "Val:  36%|███▌      | 31/86 [01:18<02:06,  2.30s/it, eval_loss=0.0905, gpu_mem=6.91 GB]"
     ]
    },
    {
     "name": "stderr",
     "output_type": "stream",
     "text": [
      "\r",
      "Val:  37%|███▋      | 32/86 [01:18<02:15,  2.51s/it, eval_loss=0.0905, gpu_mem=6.91 GB]"
     ]
    },
    {
     "name": "stderr",
     "output_type": "stream",
     "text": [
      "\r",
      "Val:  37%|███▋      | 32/86 [01:20<02:15,  2.51s/it, eval_loss=0.0886, gpu_mem=6.91 GB]"
     ]
    },
    {
     "name": "stderr",
     "output_type": "stream",
     "text": [
      "\r",
      "Val:  38%|███▊      | 33/86 [01:20<02:08,  2.43s/it, eval_loss=0.0886, gpu_mem=6.91 GB]"
     ]
    },
    {
     "name": "stderr",
     "output_type": "stream",
     "text": [
      "\r",
      "Val:  38%|███▊      | 33/86 [01:22<02:08,  2.43s/it, eval_loss=0.0899, gpu_mem=6.91 GB]"
     ]
    },
    {
     "name": "stderr",
     "output_type": "stream",
     "text": [
      "\r",
      "Val:  40%|███▉      | 34/86 [01:22<02:03,  2.37s/it, eval_loss=0.0899, gpu_mem=6.91 GB]"
     ]
    },
    {
     "name": "stderr",
     "output_type": "stream",
     "text": [
      "\r",
      "Val:  40%|███▉      | 34/86 [01:25<02:03,  2.37s/it, eval_loss=0.0889, gpu_mem=6.91 GB]"
     ]
    },
    {
     "name": "stderr",
     "output_type": "stream",
     "text": [
      "\r",
      "Val:  41%|████      | 35/86 [01:25<01:58,  2.33s/it, eval_loss=0.0889, gpu_mem=6.91 GB]"
     ]
    },
    {
     "name": "stderr",
     "output_type": "stream",
     "text": [
      "\r",
      "Val:  41%|████      | 35/86 [01:27<01:58,  2.33s/it, eval_loss=0.0875, gpu_mem=6.91 GB]"
     ]
    },
    {
     "name": "stderr",
     "output_type": "stream",
     "text": [
      "\r",
      "Val:  42%|████▏     | 36/86 [01:27<02:04,  2.48s/it, eval_loss=0.0875, gpu_mem=6.91 GB]"
     ]
    },
    {
     "name": "stderr",
     "output_type": "stream",
     "text": [
      "\r",
      "Val:  42%|████▏     | 36/86 [01:30<02:04,  2.48s/it, eval_loss=0.0881, gpu_mem=6.91 GB]"
     ]
    },
    {
     "name": "stderr",
     "output_type": "stream",
     "text": [
      "\r",
      "Val:  43%|████▎     | 37/86 [01:30<02:00,  2.45s/it, eval_loss=0.0881, gpu_mem=6.91 GB]"
     ]
    },
    {
     "name": "stderr",
     "output_type": "stream",
     "text": [
      "\r",
      "Val:  43%|████▎     | 37/86 [01:32<02:00,  2.45s/it, eval_loss=0.0879, gpu_mem=6.91 GB]"
     ]
    },
    {
     "name": "stderr",
     "output_type": "stream",
     "text": [
      "\r",
      "Val:  44%|████▍     | 38/86 [01:32<01:54,  2.39s/it, eval_loss=0.0879, gpu_mem=6.91 GB]"
     ]
    },
    {
     "name": "stderr",
     "output_type": "stream",
     "text": [
      "\r",
      "Val:  44%|████▍     | 38/86 [01:34<01:54,  2.39s/it, eval_loss=0.0865, gpu_mem=6.91 GB]"
     ]
    },
    {
     "name": "stderr",
     "output_type": "stream",
     "text": [
      "\r",
      "Val:  45%|████▌     | 39/86 [01:34<01:52,  2.39s/it, eval_loss=0.0865, gpu_mem=6.91 GB]"
     ]
    },
    {
     "name": "stderr",
     "output_type": "stream",
     "text": [
      "\r",
      "Val:  45%|████▌     | 39/86 [01:37<01:52,  2.39s/it, eval_loss=0.0864, gpu_mem=6.91 GB]"
     ]
    },
    {
     "name": "stderr",
     "output_type": "stream",
     "text": [
      "\r",
      "Val:  47%|████▋     | 40/86 [01:37<01:52,  2.44s/it, eval_loss=0.0864, gpu_mem=6.91 GB]"
     ]
    },
    {
     "name": "stderr",
     "output_type": "stream",
     "text": [
      "\r",
      "Val:  47%|████▋     | 40/86 [01:39<01:52,  2.44s/it, eval_loss=0.0859, gpu_mem=6.91 GB]"
     ]
    },
    {
     "name": "stderr",
     "output_type": "stream",
     "text": [
      "\r",
      "Val:  48%|████▊     | 41/86 [01:39<01:50,  2.45s/it, eval_loss=0.0859, gpu_mem=6.91 GB]"
     ]
    },
    {
     "name": "stderr",
     "output_type": "stream",
     "text": [
      "\r",
      "Val:  48%|████▊     | 41/86 [01:42<01:50,  2.45s/it, eval_loss=0.0854, gpu_mem=6.91 GB]"
     ]
    },
    {
     "name": "stderr",
     "output_type": "stream",
     "text": [
      "\r",
      "Val:  49%|████▉     | 42/86 [01:42<01:49,  2.49s/it, eval_loss=0.0854, gpu_mem=6.91 GB]"
     ]
    },
    {
     "name": "stderr",
     "output_type": "stream",
     "text": [
      "\r",
      "Val:  49%|████▉     | 42/86 [01:45<01:49,  2.49s/it, eval_loss=0.0845, gpu_mem=6.91 GB]"
     ]
    },
    {
     "name": "stderr",
     "output_type": "stream",
     "text": [
      "\r",
      "Val:  50%|█████     | 43/86 [01:45<01:49,  2.54s/it, eval_loss=0.0845, gpu_mem=6.91 GB]"
     ]
    },
    {
     "name": "stderr",
     "output_type": "stream",
     "text": [
      "\r",
      "Val:  50%|█████     | 43/86 [01:47<01:49,  2.54s/it, eval_loss=0.0877, gpu_mem=6.91 GB]"
     ]
    },
    {
     "name": "stderr",
     "output_type": "stream",
     "text": [
      "\r",
      "Val:  51%|█████     | 44/86 [01:47<01:45,  2.51s/it, eval_loss=0.0877, gpu_mem=6.91 GB]"
     ]
    },
    {
     "name": "stderr",
     "output_type": "stream",
     "text": [
      "\r",
      "Val:  51%|█████     | 44/86 [01:50<01:45,  2.51s/it, eval_loss=0.0864, gpu_mem=6.91 GB]"
     ]
    },
    {
     "name": "stderr",
     "output_type": "stream",
     "text": [
      "\r",
      "Val:  52%|█████▏    | 45/86 [01:50<01:48,  2.66s/it, eval_loss=0.0864, gpu_mem=6.91 GB]"
     ]
    },
    {
     "name": "stderr",
     "output_type": "stream",
     "text": [
      "\r",
      "Val:  52%|█████▏    | 45/86 [01:52<01:48,  2.66s/it, eval_loss=0.0863, gpu_mem=6.91 GB]"
     ]
    },
    {
     "name": "stderr",
     "output_type": "stream",
     "text": [
      "\r",
      "Val:  53%|█████▎    | 46/86 [01:52<01:41,  2.54s/it, eval_loss=0.0863, gpu_mem=6.91 GB]"
     ]
    },
    {
     "name": "stderr",
     "output_type": "stream",
     "text": [
      "\r",
      "Val:  53%|█████▎    | 46/86 [01:55<01:41,  2.54s/it, eval_loss=0.0856, gpu_mem=6.91 GB]"
     ]
    },
    {
     "name": "stderr",
     "output_type": "stream",
     "text": [
      "\r",
      "Val:  55%|█████▍    | 47/86 [01:55<01:35,  2.46s/it, eval_loss=0.0856, gpu_mem=6.91 GB]"
     ]
    },
    {
     "name": "stderr",
     "output_type": "stream",
     "text": [
      "\r",
      "Val:  55%|█████▍    | 47/86 [01:57<01:35,  2.46s/it, eval_loss=0.0874, gpu_mem=6.91 GB]"
     ]
    },
    {
     "name": "stderr",
     "output_type": "stream",
     "text": [
      "\r",
      "Val:  56%|█████▌    | 48/86 [01:57<01:31,  2.40s/it, eval_loss=0.0874, gpu_mem=6.91 GB]"
     ]
    },
    {
     "name": "stderr",
     "output_type": "stream",
     "text": [
      "\r",
      "Val:  56%|█████▌    | 48/86 [01:59<01:31,  2.40s/it, eval_loss=0.0869, gpu_mem=6.91 GB]"
     ]
    },
    {
     "name": "stderr",
     "output_type": "stream",
     "text": [
      "\r",
      "Val:  57%|█████▋    | 49/86 [01:59<01:26,  2.35s/it, eval_loss=0.0869, gpu_mem=6.91 GB]"
     ]
    },
    {
     "name": "stderr",
     "output_type": "stream",
     "text": [
      "\r",
      "Val:  57%|█████▋    | 49/86 [02:02<01:26,  2.35s/it, eval_loss=0.0866, gpu_mem=6.91 GB]"
     ]
    },
    {
     "name": "stderr",
     "output_type": "stream",
     "text": [
      "\r",
      "Val:  58%|█████▊    | 50/86 [02:02<01:26,  2.40s/it, eval_loss=0.0866, gpu_mem=6.91 GB]"
     ]
    },
    {
     "name": "stderr",
     "output_type": "stream",
     "text": [
      "\r",
      "Val:  58%|█████▊    | 50/86 [02:04<01:26,  2.40s/it, eval_loss=0.0895, gpu_mem=6.91 GB]"
     ]
    },
    {
     "name": "stderr",
     "output_type": "stream",
     "text": [
      "\r",
      "Val:  59%|█████▉    | 51/86 [02:04<01:22,  2.35s/it, eval_loss=0.0895, gpu_mem=6.91 GB]"
     ]
    },
    {
     "name": "stderr",
     "output_type": "stream",
     "text": [
      "\r",
      "Val:  59%|█████▉    | 51/86 [02:06<01:22,  2.35s/it, eval_loss=0.0909, gpu_mem=6.91 GB]"
     ]
    },
    {
     "name": "stderr",
     "output_type": "stream",
     "text": [
      "\r",
      "Val:  60%|██████    | 52/86 [02:06<01:19,  2.35s/it, eval_loss=0.0909, gpu_mem=6.91 GB]"
     ]
    },
    {
     "name": "stderr",
     "output_type": "stream",
     "text": [
      "\r",
      "Val:  60%|██████    | 52/86 [02:09<01:19,  2.35s/it, eval_loss=0.0922, gpu_mem=6.91 GB]"
     ]
    },
    {
     "name": "stderr",
     "output_type": "stream",
     "text": [
      "\r",
      "Val:  62%|██████▏   | 53/86 [02:09<01:16,  2.33s/it, eval_loss=0.0922, gpu_mem=6.91 GB]"
     ]
    },
    {
     "name": "stderr",
     "output_type": "stream",
     "text": [
      "\r",
      "Val:  62%|██████▏   | 53/86 [02:11<01:16,  2.33s/it, eval_loss=0.0915, gpu_mem=6.91 GB]"
     ]
    },
    {
     "name": "stderr",
     "output_type": "stream",
     "text": [
      "\r",
      "Val:  63%|██████▎   | 54/86 [02:11<01:13,  2.31s/it, eval_loss=0.0915, gpu_mem=6.91 GB]"
     ]
    },
    {
     "name": "stderr",
     "output_type": "stream",
     "text": [
      "\r",
      "Val:  63%|██████▎   | 54/86 [02:14<01:13,  2.31s/it, eval_loss=0.0922, gpu_mem=6.91 GB]"
     ]
    },
    {
     "name": "stderr",
     "output_type": "stream",
     "text": [
      "\r",
      "Val:  64%|██████▍   | 55/86 [02:14<01:16,  2.48s/it, eval_loss=0.0922, gpu_mem=6.91 GB]"
     ]
    },
    {
     "name": "stderr",
     "output_type": "stream",
     "text": [
      "\r",
      "Val:  64%|██████▍   | 55/86 [02:16<01:16,  2.48s/it, eval_loss=0.0918, gpu_mem=6.91 GB]"
     ]
    },
    {
     "name": "stderr",
     "output_type": "stream",
     "text": [
      "\r",
      "Val:  65%|██████▌   | 56/86 [02:16<01:15,  2.53s/it, eval_loss=0.0918, gpu_mem=6.91 GB]"
     ]
    },
    {
     "name": "stderr",
     "output_type": "stream",
     "text": [
      "\r",
      "Val:  65%|██████▌   | 56/86 [02:19<01:15,  2.53s/it, eval_loss=0.0917, gpu_mem=6.91 GB]"
     ]
    },
    {
     "name": "stderr",
     "output_type": "stream",
     "text": [
      "\r",
      "Val:  66%|██████▋   | 57/86 [02:19<01:11,  2.46s/it, eval_loss=0.0917, gpu_mem=6.91 GB]"
     ]
    },
    {
     "name": "stderr",
     "output_type": "stream",
     "text": [
      "\r",
      "Val:  66%|██████▋   | 57/86 [02:22<01:11,  2.46s/it, eval_loss=0.0940, gpu_mem=6.91 GB]"
     ]
    },
    {
     "name": "stderr",
     "output_type": "stream",
     "text": [
      "\r",
      "Val:  67%|██████▋   | 58/86 [02:22<01:15,  2.68s/it, eval_loss=0.0940, gpu_mem=6.91 GB]"
     ]
    },
    {
     "name": "stderr",
     "output_type": "stream",
     "text": [
      "\r",
      "Val:  67%|██████▋   | 58/86 [02:25<01:15,  2.68s/it, eval_loss=0.0935, gpu_mem=6.91 GB]"
     ]
    },
    {
     "name": "stderr",
     "output_type": "stream",
     "text": [
      "\r",
      "Val:  69%|██████▊   | 59/86 [02:25<01:13,  2.73s/it, eval_loss=0.0935, gpu_mem=6.91 GB]"
     ]
    },
    {
     "name": "stderr",
     "output_type": "stream",
     "text": [
      "\r",
      "Val:  69%|██████▊   | 59/86 [02:28<01:13,  2.73s/it, eval_loss=0.0953, gpu_mem=6.91 GB]"
     ]
    },
    {
     "name": "stderr",
     "output_type": "stream",
     "text": [
      "\r",
      "Val:  70%|██████▉   | 60/86 [02:28<01:12,  2.78s/it, eval_loss=0.0953, gpu_mem=6.91 GB]"
     ]
    },
    {
     "name": "stderr",
     "output_type": "stream",
     "text": [
      "\r",
      "Val:  70%|██████▉   | 60/86 [02:30<01:12,  2.78s/it, eval_loss=0.0947, gpu_mem=6.91 GB]"
     ]
    },
    {
     "name": "stderr",
     "output_type": "stream",
     "text": [
      "\r",
      "Val:  71%|███████   | 61/86 [02:30<01:09,  2.79s/it, eval_loss=0.0947, gpu_mem=6.91 GB]"
     ]
    },
    {
     "name": "stderr",
     "output_type": "stream",
     "text": [
      "\r",
      "Val:  71%|███████   | 61/86 [02:33<01:09,  2.79s/it, eval_loss=0.0943, gpu_mem=6.91 GB]"
     ]
    },
    {
     "name": "stderr",
     "output_type": "stream",
     "text": [
      "\r",
      "Val:  72%|███████▏  | 62/86 [02:33<01:08,  2.84s/it, eval_loss=0.0943, gpu_mem=6.91 GB]"
     ]
    },
    {
     "name": "stderr",
     "output_type": "stream",
     "text": [
      "\r",
      "Val:  72%|███████▏  | 62/86 [02:36<01:08,  2.84s/it, eval_loss=0.0942, gpu_mem=6.91 GB]"
     ]
    },
    {
     "name": "stderr",
     "output_type": "stream",
     "text": [
      "\r",
      "Val:  73%|███████▎  | 63/86 [02:36<01:06,  2.87s/it, eval_loss=0.0942, gpu_mem=6.91 GB]"
     ]
    },
    {
     "name": "stderr",
     "output_type": "stream",
     "text": [
      "\r",
      "Val:  73%|███████▎  | 63/86 [02:39<01:06,  2.87s/it, eval_loss=0.0941, gpu_mem=6.91 GB]"
     ]
    },
    {
     "name": "stderr",
     "output_type": "stream",
     "text": [
      "\r",
      "Val:  74%|███████▍  | 64/86 [02:39<01:03,  2.86s/it, eval_loss=0.0941, gpu_mem=6.91 GB]"
     ]
    },
    {
     "name": "stderr",
     "output_type": "stream",
     "text": [
      "\r",
      "Val:  74%|███████▍  | 64/86 [02:41<01:03,  2.86s/it, eval_loss=0.0932, gpu_mem=6.91 GB]"
     ]
    },
    {
     "name": "stderr",
     "output_type": "stream",
     "text": [
      "\r",
      "Val:  76%|███████▌  | 65/86 [02:41<00:56,  2.67s/it, eval_loss=0.0932, gpu_mem=6.91 GB]"
     ]
    },
    {
     "name": "stderr",
     "output_type": "stream",
     "text": [
      "\r",
      "Val:  76%|███████▌  | 65/86 [02:44<00:56,  2.67s/it, eval_loss=0.0950, gpu_mem=6.91 GB]"
     ]
    },
    {
     "name": "stderr",
     "output_type": "stream",
     "text": [
      "\r",
      "Val:  77%|███████▋  | 66/86 [02:44<00:51,  2.58s/it, eval_loss=0.0950, gpu_mem=6.91 GB]"
     ]
    },
    {
     "name": "stderr",
     "output_type": "stream",
     "text": [
      "\r",
      "Val:  77%|███████▋  | 66/86 [02:46<00:51,  2.58s/it, eval_loss=0.0942, gpu_mem=6.91 GB]"
     ]
    },
    {
     "name": "stderr",
     "output_type": "stream",
     "text": [
      "\r",
      "Val:  78%|███████▊  | 67/86 [02:46<00:48,  2.57s/it, eval_loss=0.0942, gpu_mem=6.91 GB]"
     ]
    },
    {
     "name": "stderr",
     "output_type": "stream",
     "text": [
      "\r",
      "Val:  78%|███████▊  | 67/86 [02:49<00:48,  2.57s/it, eval_loss=0.0966, gpu_mem=6.91 GB]"
     ]
    },
    {
     "name": "stderr",
     "output_type": "stream",
     "text": [
      "\r",
      "Val:  79%|███████▉  | 68/86 [02:49<00:44,  2.48s/it, eval_loss=0.0966, gpu_mem=6.91 GB]"
     ]
    },
    {
     "name": "stderr",
     "output_type": "stream",
     "text": [
      "\r",
      "Val:  79%|███████▉  | 68/86 [02:51<00:44,  2.48s/it, eval_loss=0.0967, gpu_mem=6.91 GB]"
     ]
    },
    {
     "name": "stderr",
     "output_type": "stream",
     "text": [
      "\r",
      "Val:  80%|████████  | 69/86 [02:51<00:41,  2.43s/it, eval_loss=0.0967, gpu_mem=6.91 GB]"
     ]
    },
    {
     "name": "stderr",
     "output_type": "stream",
     "text": [
      "\r",
      "Val:  80%|████████  | 69/86 [02:54<00:41,  2.43s/it, eval_loss=0.0964, gpu_mem=6.91 GB]"
     ]
    },
    {
     "name": "stderr",
     "output_type": "stream",
     "text": [
      "\r",
      "Val:  81%|████████▏ | 70/86 [02:54<00:40,  2.51s/it, eval_loss=0.0964, gpu_mem=6.91 GB]"
     ]
    },
    {
     "name": "stderr",
     "output_type": "stream",
     "text": [
      "\r",
      "Val:  81%|████████▏ | 70/86 [02:56<00:40,  2.51s/it, eval_loss=0.0971, gpu_mem=6.91 GB]"
     ]
    },
    {
     "name": "stderr",
     "output_type": "stream",
     "text": [
      "\r",
      "Val:  83%|████████▎ | 71/86 [02:56<00:37,  2.49s/it, eval_loss=0.0971, gpu_mem=6.91 GB]"
     ]
    },
    {
     "name": "stderr",
     "output_type": "stream",
     "text": [
      "\r",
      "Val:  83%|████████▎ | 71/86 [02:58<00:37,  2.49s/it, eval_loss=0.0967, gpu_mem=6.91 GB]"
     ]
    },
    {
     "name": "stderr",
     "output_type": "stream",
     "text": [
      "\r",
      "Val:  84%|████████▎ | 72/86 [02:58<00:33,  2.42s/it, eval_loss=0.0967, gpu_mem=6.91 GB]"
     ]
    },
    {
     "name": "stderr",
     "output_type": "stream",
     "text": [
      "\r",
      "Val:  84%|████████▎ | 72/86 [03:00<00:33,  2.42s/it, eval_loss=0.0964, gpu_mem=6.91 GB]"
     ]
    },
    {
     "name": "stderr",
     "output_type": "stream",
     "text": [
      "\r",
      "Val:  85%|████████▍ | 73/86 [03:00<00:30,  2.36s/it, eval_loss=0.0964, gpu_mem=6.91 GB]"
     ]
    },
    {
     "name": "stderr",
     "output_type": "stream",
     "text": [
      "\r",
      "Val:  85%|████████▍ | 73/86 [03:03<00:30,  2.36s/it, eval_loss=0.0967, gpu_mem=6.91 GB]"
     ]
    },
    {
     "name": "stderr",
     "output_type": "stream",
     "text": [
      "\r",
      "Val:  86%|████████▌ | 74/86 [03:03<00:27,  2.33s/it, eval_loss=0.0967, gpu_mem=6.91 GB]"
     ]
    },
    {
     "name": "stderr",
     "output_type": "stream",
     "text": [
      "\r",
      "Val:  86%|████████▌ | 74/86 [03:05<00:27,  2.33s/it, eval_loss=0.0961, gpu_mem=6.91 GB]"
     ]
    },
    {
     "name": "stderr",
     "output_type": "stream",
     "text": [
      "\r",
      "Val:  87%|████████▋ | 75/86 [03:05<00:25,  2.30s/it, eval_loss=0.0961, gpu_mem=6.91 GB]"
     ]
    },
    {
     "name": "stderr",
     "output_type": "stream",
     "text": [
      "\r",
      "Val:  87%|████████▋ | 75/86 [03:07<00:25,  2.30s/it, eval_loss=0.0955, gpu_mem=6.91 GB]"
     ]
    },
    {
     "name": "stderr",
     "output_type": "stream",
     "text": [
      "\r",
      "Val:  88%|████████▊ | 76/86 [03:07<00:23,  2.36s/it, eval_loss=0.0955, gpu_mem=6.91 GB]"
     ]
    },
    {
     "name": "stderr",
     "output_type": "stream",
     "text": [
      "\r",
      "Val:  88%|████████▊ | 76/86 [03:10<00:23,  2.36s/it, eval_loss=0.0966, gpu_mem=6.91 GB]"
     ]
    },
    {
     "name": "stderr",
     "output_type": "stream",
     "text": [
      "\r",
      "Val:  90%|████████▉ | 77/86 [03:10<00:21,  2.37s/it, eval_loss=0.0966, gpu_mem=6.91 GB]"
     ]
    },
    {
     "name": "stderr",
     "output_type": "stream",
     "text": [
      "\r",
      "Val:  90%|████████▉ | 77/86 [03:12<00:21,  2.37s/it, eval_loss=0.0959, gpu_mem=6.91 GB]"
     ]
    },
    {
     "name": "stderr",
     "output_type": "stream",
     "text": [
      "\r",
      "Val:  91%|█████████ | 78/86 [03:12<00:18,  2.34s/it, eval_loss=0.0959, gpu_mem=6.91 GB]"
     ]
    },
    {
     "name": "stderr",
     "output_type": "stream",
     "text": [
      "\r",
      "Val:  91%|█████████ | 78/86 [03:14<00:18,  2.34s/it, eval_loss=0.0958, gpu_mem=6.91 GB]"
     ]
    },
    {
     "name": "stderr",
     "output_type": "stream",
     "text": [
      "\r",
      "Val:  92%|█████████▏| 79/86 [03:14<00:16,  2.32s/it, eval_loss=0.0958, gpu_mem=6.91 GB]"
     ]
    },
    {
     "name": "stderr",
     "output_type": "stream",
     "text": [
      "\r",
      "Val:  92%|█████████▏| 79/86 [03:17<00:16,  2.32s/it, eval_loss=0.0960, gpu_mem=6.91 GB]"
     ]
    },
    {
     "name": "stderr",
     "output_type": "stream",
     "text": [
      "\r",
      "Val:  93%|█████████▎| 80/86 [03:17<00:13,  2.29s/it, eval_loss=0.0960, gpu_mem=6.91 GB]"
     ]
    },
    {
     "name": "stderr",
     "output_type": "stream",
     "text": [
      "\r",
      "Val:  93%|█████████▎| 80/86 [03:19<00:13,  2.29s/it, eval_loss=0.0954, gpu_mem=6.91 GB]"
     ]
    },
    {
     "name": "stderr",
     "output_type": "stream",
     "text": [
      "\r",
      "Val:  94%|█████████▍| 81/86 [03:19<00:11,  2.37s/it, eval_loss=0.0954, gpu_mem=6.91 GB]"
     ]
    },
    {
     "name": "stderr",
     "output_type": "stream",
     "text": [
      "\r",
      "Val:  94%|█████████▍| 81/86 [03:22<00:11,  2.37s/it, eval_loss=0.0950, gpu_mem=6.91 GB]"
     ]
    },
    {
     "name": "stderr",
     "output_type": "stream",
     "text": [
      "\r",
      "Val:  95%|█████████▌| 82/86 [03:22<00:09,  2.37s/it, eval_loss=0.0950, gpu_mem=6.91 GB]"
     ]
    },
    {
     "name": "stderr",
     "output_type": "stream",
     "text": [
      "\r",
      "Val:  95%|█████████▌| 82/86 [03:24<00:09,  2.37s/it, eval_loss=0.0948, gpu_mem=6.91 GB]"
     ]
    },
    {
     "name": "stderr",
     "output_type": "stream",
     "text": [
      "\r",
      "Val:  97%|█████████▋| 83/86 [03:24<00:07,  2.47s/it, eval_loss=0.0948, gpu_mem=6.91 GB]"
     ]
    },
    {
     "name": "stderr",
     "output_type": "stream",
     "text": [
      "\r",
      "Val:  97%|█████████▋| 83/86 [03:27<00:07,  2.47s/it, eval_loss=0.0945, gpu_mem=6.91 GB]"
     ]
    },
    {
     "name": "stderr",
     "output_type": "stream",
     "text": [
      "\r",
      "Val:  98%|█████████▊| 84/86 [03:27<00:04,  2.45s/it, eval_loss=0.0945, gpu_mem=6.91 GB]"
     ]
    },
    {
     "name": "stderr",
     "output_type": "stream",
     "text": [
      "\r",
      "Val:  98%|█████████▊| 84/86 [03:29<00:04,  2.45s/it, eval_loss=0.0972, gpu_mem=6.91 GB]"
     ]
    },
    {
     "name": "stderr",
     "output_type": "stream",
     "text": [
      "\r",
      "Val:  99%|█████████▉| 85/86 [03:29<00:02,  2.43s/it, eval_loss=0.0972, gpu_mem=6.91 GB]"
     ]
    },
    {
     "name": "stderr",
     "output_type": "stream",
     "text": [
      "\r",
      "Val:  99%|█████████▉| 85/86 [03:30<00:02,  2.43s/it, eval_loss=0.0972, gpu_mem=6.91 GB]"
     ]
    },
    {
     "name": "stderr",
     "output_type": "stream",
     "text": [
      "\r",
      "Val: 100%|██████████| 86/86 [03:30<00:00,  1.86s/it, eval_loss=0.0972, gpu_mem=6.91 GB]"
     ]
    },
    {
     "name": "stderr",
     "output_type": "stream",
     "text": [
      "\r",
      "Val: 100%|██████████| 86/86 [03:30<00:00,  2.44s/it, eval_loss=0.0972, gpu_mem=6.91 GB]"
     ]
    },
    {
     "name": "stderr",
     "output_type": "stream",
     "text": [
      "\n",
      "Valid loss:0.0972\n"
     ]
    },
    {
     "name": "stderr",
     "output_type": "stream",
     "text": [
      "Val metric mean prob: 0.1867\n"
     ]
    },
    {
     "name": "stderr",
     "output_type": "stream",
     "text": [
      "Best metric at: 0.5111 0.3630  0.7308\n"
     ]
    },
    {
     "name": "stderr",
     "output_type": "stream",
     "text": [
      "Cf: [[2315   18]\n",
      " [  26   23]]\n"
     ]
    },
    {
     "name": "stderr",
     "output_type": "stream",
     "text": [
      "\u001b[32m[I 2023-02-15 05:14:26,743]\u001b[0m Trial 21 finished with value: 0.5111111111111111 and parameters: {'a1': 0.6663661707848809}. Best is trial 0 with value: 0.5111111111111111.\u001b[0m\n"
     ]
    },
    {
     "name": "stdout",
     "output_type": "stream",
     "text": [
      "/kaggle/input/10folds/tf_efficientnetv2_b2_fold_1_model_epoch_3_0.5055_0.360.pth\n",
      "none:  /kaggle/input/10folds/tf_efficientnetv2_b2_fold_1_model_epoch_3_0.5055_0.360.pth\n",
      "/kaggle/input/10folds/tf_efficientnetv2_b2_fold_1_model_epoch_5_0.4865_0.324.pth\n",
      "hehe /kaggle/input/10folds/tf_efficientnetv2_b2_fold_1_model_epoch_5_0.4865_0.324.pth\n",
      "0.6524841049463367 0.3475158950536633\n",
      "\n"
     ]
    },
    {
     "name": "stderr",
     "output_type": "stream",
     "text": [
      "\r",
      "Val:   0%|          | 0/86 [00:00<?, ?it/s]"
     ]
    },
    {
     "name": "stderr",
     "output_type": "stream",
     "text": [
      "\r",
      "Val:   0%|          | 0/86 [00:04<?, ?it/s, eval_loss=0.0552, gpu_mem=6.91 GB]"
     ]
    },
    {
     "name": "stderr",
     "output_type": "stream",
     "text": [
      "\r",
      "Val:   1%|          | 1/86 [00:04<06:09,  4.34s/it, eval_loss=0.0552, gpu_mem=6.91 GB]"
     ]
    },
    {
     "name": "stderr",
     "output_type": "stream",
     "text": [
      "\r",
      "Val:   1%|          | 1/86 [00:06<06:09,  4.34s/it, eval_loss=0.0431, gpu_mem=6.91 GB]"
     ]
    },
    {
     "name": "stderr",
     "output_type": "stream",
     "text": [
      "\r",
      "Val:   2%|▏         | 2/86 [00:06<04:23,  3.14s/it, eval_loss=0.0431, gpu_mem=6.91 GB]"
     ]
    },
    {
     "name": "stderr",
     "output_type": "stream",
     "text": [
      "\r",
      "Val:   2%|▏         | 2/86 [00:09<04:23,  3.14s/it, eval_loss=0.0889, gpu_mem=6.91 GB]"
     ]
    },
    {
     "name": "stderr",
     "output_type": "stream",
     "text": [
      "\r",
      "Val:   3%|▎         | 3/86 [00:09<04:00,  2.90s/it, eval_loss=0.0889, gpu_mem=6.91 GB]"
     ]
    },
    {
     "name": "stderr",
     "output_type": "stream",
     "text": [
      "\r",
      "Val:   3%|▎         | 3/86 [00:11<04:00,  2.90s/it, eval_loss=0.0997, gpu_mem=6.91 GB]"
     ]
    },
    {
     "name": "stderr",
     "output_type": "stream",
     "text": [
      "\r",
      "Val:   5%|▍         | 4/86 [00:11<03:35,  2.63s/it, eval_loss=0.0997, gpu_mem=6.91 GB]"
     ]
    },
    {
     "name": "stderr",
     "output_type": "stream",
     "text": [
      "\r",
      "Val:   5%|▍         | 4/86 [00:13<03:35,  2.63s/it, eval_loss=0.0955, gpu_mem=6.91 GB]"
     ]
    },
    {
     "name": "stderr",
     "output_type": "stream",
     "text": [
      "\r",
      "Val:   6%|▌         | 5/86 [00:13<03:20,  2.47s/it, eval_loss=0.0955, gpu_mem=6.91 GB]"
     ]
    },
    {
     "name": "stderr",
     "output_type": "stream",
     "text": [
      "\r",
      "Val:   6%|▌         | 5/86 [00:15<03:20,  2.47s/it, eval_loss=0.0924, gpu_mem=6.91 GB]"
     ]
    },
    {
     "name": "stderr",
     "output_type": "stream",
     "text": [
      "\r",
      "Val:   7%|▋         | 6/86 [00:15<03:10,  2.38s/it, eval_loss=0.0924, gpu_mem=6.91 GB]"
     ]
    },
    {
     "name": "stderr",
     "output_type": "stream",
     "text": [
      "\r",
      "Val:   7%|▋         | 6/86 [00:18<03:10,  2.38s/it, eval_loss=0.0847, gpu_mem=6.91 GB]"
     ]
    },
    {
     "name": "stderr",
     "output_type": "stream",
     "text": [
      "\r",
      "Val:   8%|▊         | 7/86 [00:18<03:08,  2.39s/it, eval_loss=0.0847, gpu_mem=6.91 GB]"
     ]
    },
    {
     "name": "stderr",
     "output_type": "stream",
     "text": [
      "\r",
      "Val:   8%|▊         | 7/86 [00:20<03:08,  2.39s/it, eval_loss=0.0818, gpu_mem=6.91 GB]"
     ]
    },
    {
     "name": "stderr",
     "output_type": "stream",
     "text": [
      "\r",
      "Val:   9%|▉         | 8/86 [00:20<03:04,  2.37s/it, eval_loss=0.0818, gpu_mem=6.91 GB]"
     ]
    },
    {
     "name": "stderr",
     "output_type": "stream",
     "text": [
      "\r",
      "Val:   9%|▉         | 8/86 [00:23<03:04,  2.37s/it, eval_loss=0.0801, gpu_mem=6.91 GB]"
     ]
    },
    {
     "name": "stderr",
     "output_type": "stream",
     "text": [
      "\r",
      "Val:  10%|█         | 9/86 [00:23<03:04,  2.39s/it, eval_loss=0.0801, gpu_mem=6.91 GB]"
     ]
    },
    {
     "name": "stderr",
     "output_type": "stream",
     "text": [
      "\r",
      "Val:  10%|█         | 9/86 [00:25<03:04,  2.39s/it, eval_loss=0.0871, gpu_mem=6.91 GB]"
     ]
    },
    {
     "name": "stderr",
     "output_type": "stream",
     "text": [
      "\r",
      "Val:  12%|█▏        | 10/86 [00:25<03:05,  2.44s/it, eval_loss=0.0871, gpu_mem=6.91 GB]"
     ]
    },
    {
     "name": "stderr",
     "output_type": "stream",
     "text": [
      "\r",
      "Val:  12%|█▏        | 10/86 [00:27<03:05,  2.44s/it, eval_loss=0.0842, gpu_mem=6.91 GB]"
     ]
    },
    {
     "name": "stderr",
     "output_type": "stream",
     "text": [
      "\r",
      "Val:  13%|█▎        | 11/86 [00:27<02:56,  2.36s/it, eval_loss=0.0842, gpu_mem=6.91 GB]"
     ]
    },
    {
     "name": "stderr",
     "output_type": "stream",
     "text": [
      "\r",
      "Val:  13%|█▎        | 11/86 [00:30<02:56,  2.36s/it, eval_loss=0.0844, gpu_mem=6.91 GB]"
     ]
    },
    {
     "name": "stderr",
     "output_type": "stream",
     "text": [
      "\r",
      "Val:  14%|█▍        | 12/86 [00:30<02:58,  2.41s/it, eval_loss=0.0844, gpu_mem=6.91 GB]"
     ]
    },
    {
     "name": "stderr",
     "output_type": "stream",
     "text": [
      "\r",
      "Val:  14%|█▍        | 12/86 [00:32<02:58,  2.41s/it, eval_loss=0.0865, gpu_mem=6.91 GB]"
     ]
    },
    {
     "name": "stderr",
     "output_type": "stream",
     "text": [
      "\r",
      "Val:  15%|█▌        | 13/86 [00:32<02:50,  2.34s/it, eval_loss=0.0865, gpu_mem=6.91 GB]"
     ]
    },
    {
     "name": "stderr",
     "output_type": "stream",
     "text": [
      "\r",
      "Val:  15%|█▌        | 13/86 [00:34<02:50,  2.34s/it, eval_loss=0.0828, gpu_mem=6.91 GB]"
     ]
    },
    {
     "name": "stderr",
     "output_type": "stream",
     "text": [
      "\r",
      "Val:  16%|█▋        | 14/86 [00:34<02:45,  2.30s/it, eval_loss=0.0828, gpu_mem=6.91 GB]"
     ]
    },
    {
     "name": "stderr",
     "output_type": "stream",
     "text": [
      "\r",
      "Val:  16%|█▋        | 14/86 [00:36<02:45,  2.30s/it, eval_loss=0.0800, gpu_mem=6.91 GB]"
     ]
    },
    {
     "name": "stderr",
     "output_type": "stream",
     "text": [
      "\r",
      "Val:  17%|█▋        | 15/86 [00:36<02:41,  2.28s/it, eval_loss=0.0800, gpu_mem=6.91 GB]"
     ]
    },
    {
     "name": "stderr",
     "output_type": "stream",
     "text": [
      "\r",
      "Val:  17%|█▋        | 15/86 [00:39<02:41,  2.28s/it, eval_loss=0.0781, gpu_mem=6.91 GB]"
     ]
    },
    {
     "name": "stderr",
     "output_type": "stream",
     "text": [
      "\r",
      "Val:  19%|█▊        | 16/86 [00:39<02:39,  2.27s/it, eval_loss=0.0781, gpu_mem=6.91 GB]"
     ]
    },
    {
     "name": "stderr",
     "output_type": "stream",
     "text": [
      "\r",
      "Val:  19%|█▊        | 16/86 [00:41<02:39,  2.27s/it, eval_loss=0.0782, gpu_mem=6.91 GB]"
     ]
    },
    {
     "name": "stderr",
     "output_type": "stream",
     "text": [
      "\r",
      "Val:  20%|█▉        | 17/86 [00:41<02:43,  2.36s/it, eval_loss=0.0782, gpu_mem=6.91 GB]"
     ]
    },
    {
     "name": "stderr",
     "output_type": "stream",
     "text": [
      "\r",
      "Val:  20%|█▉        | 17/86 [00:43<02:43,  2.36s/it, eval_loss=0.0777, gpu_mem=6.91 GB]"
     ]
    },
    {
     "name": "stderr",
     "output_type": "stream",
     "text": [
      "\r",
      "Val:  21%|██        | 18/86 [00:43<02:38,  2.33s/it, eval_loss=0.0777, gpu_mem=6.91 GB]"
     ]
    },
    {
     "name": "stderr",
     "output_type": "stream",
     "text": [
      "\r",
      "Val:  21%|██        | 18/86 [00:46<02:38,  2.33s/it, eval_loss=0.0779, gpu_mem=6.91 GB]"
     ]
    },
    {
     "name": "stderr",
     "output_type": "stream",
     "text": [
      "\r",
      "Val:  22%|██▏       | 19/86 [00:46<02:32,  2.28s/it, eval_loss=0.0779, gpu_mem=6.91 GB]"
     ]
    },
    {
     "name": "stderr",
     "output_type": "stream",
     "text": [
      "\r",
      "Val:  22%|██▏       | 19/86 [00:48<02:32,  2.28s/it, eval_loss=0.0785, gpu_mem=6.91 GB]"
     ]
    },
    {
     "name": "stderr",
     "output_type": "stream",
     "text": [
      "\r",
      "Val:  23%|██▎       | 20/86 [00:48<02:28,  2.25s/it, eval_loss=0.0785, gpu_mem=6.91 GB]"
     ]
    },
    {
     "name": "stderr",
     "output_type": "stream",
     "text": [
      "\r",
      "Val:  23%|██▎       | 20/86 [00:50<02:28,  2.25s/it, eval_loss=0.0771, gpu_mem=6.91 GB]"
     ]
    },
    {
     "name": "stderr",
     "output_type": "stream",
     "text": [
      "\r",
      "Val:  24%|██▍       | 21/86 [00:50<02:26,  2.26s/it, eval_loss=0.0771, gpu_mem=6.91 GB]"
     ]
    },
    {
     "name": "stderr",
     "output_type": "stream",
     "text": [
      "\r",
      "Val:  24%|██▍       | 21/86 [00:53<02:26,  2.26s/it, eval_loss=0.0804, gpu_mem=6.91 GB]"
     ]
    },
    {
     "name": "stderr",
     "output_type": "stream",
     "text": [
      "\r",
      "Val:  26%|██▌       | 22/86 [00:53<02:28,  2.32s/it, eval_loss=0.0804, gpu_mem=6.91 GB]"
     ]
    },
    {
     "name": "stderr",
     "output_type": "stream",
     "text": [
      "\r",
      "Val:  26%|██▌       | 22/86 [00:55<02:28,  2.32s/it, eval_loss=0.0844, gpu_mem=6.91 GB]"
     ]
    },
    {
     "name": "stderr",
     "output_type": "stream",
     "text": [
      "\r",
      "Val:  27%|██▋       | 23/86 [00:55<02:34,  2.45s/it, eval_loss=0.0844, gpu_mem=6.91 GB]"
     ]
    },
    {
     "name": "stderr",
     "output_type": "stream",
     "text": [
      "\r",
      "Val:  27%|██▋       | 23/86 [00:57<02:34,  2.45s/it, eval_loss=0.0839, gpu_mem=6.91 GB]"
     ]
    },
    {
     "name": "stderr",
     "output_type": "stream",
     "text": [
      "\r",
      "Val:  28%|██▊       | 24/86 [00:58<02:26,  2.37s/it, eval_loss=0.0839, gpu_mem=6.91 GB]"
     ]
    },
    {
     "name": "stderr",
     "output_type": "stream",
     "text": [
      "\r",
      "Val:  28%|██▊       | 24/86 [01:00<02:26,  2.37s/it, eval_loss=0.0837, gpu_mem=6.91 GB]"
     ]
    },
    {
     "name": "stderr",
     "output_type": "stream",
     "text": [
      "\r",
      "Val:  29%|██▉       | 25/86 [01:00<02:21,  2.32s/it, eval_loss=0.0837, gpu_mem=6.91 GB]"
     ]
    },
    {
     "name": "stderr",
     "output_type": "stream",
     "text": [
      "\r",
      "Val:  29%|██▉       | 25/86 [01:02<02:21,  2.32s/it, eval_loss=0.0816, gpu_mem=6.91 GB]"
     ]
    },
    {
     "name": "stderr",
     "output_type": "stream",
     "text": [
      "\r",
      "Val:  30%|███       | 26/86 [01:02<02:21,  2.35s/it, eval_loss=0.0816, gpu_mem=6.91 GB]"
     ]
    },
    {
     "name": "stderr",
     "output_type": "stream",
     "text": [
      "\r",
      "Val:  30%|███       | 26/86 [01:04<02:21,  2.35s/it, eval_loss=0.0853, gpu_mem=6.91 GB]"
     ]
    },
    {
     "name": "stderr",
     "output_type": "stream",
     "text": [
      "\r",
      "Val:  31%|███▏      | 27/86 [01:04<02:16,  2.32s/it, eval_loss=0.0853, gpu_mem=6.91 GB]"
     ]
    },
    {
     "name": "stderr",
     "output_type": "stream",
     "text": [
      "\r",
      "Val:  31%|███▏      | 27/86 [01:07<02:16,  2.32s/it, eval_loss=0.0848, gpu_mem=6.91 GB]"
     ]
    },
    {
     "name": "stderr",
     "output_type": "stream",
     "text": [
      "\r",
      "Val:  33%|███▎      | 28/86 [01:07<02:13,  2.29s/it, eval_loss=0.0848, gpu_mem=6.91 GB]"
     ]
    },
    {
     "name": "stderr",
     "output_type": "stream",
     "text": [
      "\r",
      "Val:  33%|███▎      | 28/86 [01:09<02:13,  2.29s/it, eval_loss=0.0838, gpu_mem=6.91 GB]"
     ]
    },
    {
     "name": "stderr",
     "output_type": "stream",
     "text": [
      "\r",
      "Val:  34%|███▎      | 29/86 [01:09<02:09,  2.27s/it, eval_loss=0.0838, gpu_mem=6.91 GB]"
     ]
    },
    {
     "name": "stderr",
     "output_type": "stream",
     "text": [
      "\r",
      "Val:  34%|███▎      | 29/86 [01:11<02:09,  2.27s/it, eval_loss=0.0838, gpu_mem=6.91 GB]"
     ]
    }
   ],
   "source": [
    "set_seed(1)\n",
    "out_file = 'swa_model_fold1_10.pth' \n",
    "iteration = [\n",
    "    '/kaggle/input/10folds/tf_efficientnetv2_b2_fold_1_model_epoch_3_0.5055_0.360.pth',\n",
    "    '/kaggle/input/10folds/tf_efficientnetv2_b2_fold_1_model_epoch_5_0.4865_0.324.pth',\n",
    "#     '/kaggle/input/10folds/tf_efficientnetv2_b2_fold_2_model_epoch_7_0.4848_0.266.pth'\n",
    "]\n",
    "\n",
    "criterion = nn.CrossEntropyLoss().to(CFG.device)\n",
    "best_metric = 0\n",
    "torch.cuda.empty_cache()\n",
    "def objective(trial):\n",
    "#     a1 = 1\n",
    "#     a2 = 0.0\n",
    "#     a1 = 0.1689507073116359 \n",
    "#     a2 = 0.47142151346976024 \n",
    "#     a3 = 0.3596277792186039\n",
    "    a1 = trial.suggest_uniform('a1', 0.01, 0.99)\n",
    "    a2 = 1-a1\n",
    "#     a2 = trial.suggest_uniform('a2', 0.1, 1-a1)\n",
    "#     a3 = 1-a1-a2\n",
    "    state_dict = None\n",
    "    for i in iteration:\n",
    "        f = i\n",
    "        print(f)\n",
    "        f = torch.load(f, map_location=lambda storage, loc: storage)\n",
    "        if state_dict is None:\n",
    "            print(\"none: \", i)\n",
    "            state_dict = f['state_dict']\n",
    "            key = list(f['state_dict'].keys())\n",
    "            for k in key:\n",
    "                state_dict[k] = f['state_dict'][k]*a1\n",
    "        elif i=='/kaggle/input/10folds/tf_efficientnetv2_b2_fold_1_model_epoch_5_0.4865_0.324.pth': \n",
    "            print(\"hehe\", i)\n",
    "            key = list(f['state_dict'].keys())\n",
    "            for k in key:\n",
    "                state_dict[k] = state_dict[k] + a2*f['state_dict'][k]\n",
    "#         elif i=='/kaggle/input/10folds/tf_efficientnetv2_b2_fold_2_model_epoch_7_0.4848_0.266.pth':\n",
    "#             print(\"noob\", i)\n",
    "#             key = list(f['state_dict'].keys())\n",
    "#             for k in key:\n",
    "#                 state_dict[k] = state_dict[k] + a3*f['state_dict'][k]\n",
    "    print(a1, a2)\n",
    "    # for k in key:\n",
    "    #     state_dict[k] = state_dict[k] / len(iteration)\n",
    "    print('')\n",
    "\n",
    "    # print(out_file)\n",
    "    torch.save({'state_dict': state_dict}, out_file)\n",
    "\n",
    "    model = ModelOld(model_name=CFG.model_name).to(CFG.device)\n",
    "    checkpoint = torch.load(\"/kaggle/input/10folds/tf_efficientnetv2_b2_fold_1_model_epoch_3_0.5055_0.360.pth\")\n",
    "    model.load_state_dict(checkpoint['state_dict'])\n",
    "#     model = nn.DataParallel(model)\n",
    "\n",
    "    loss_valid, valid_preds = valid_fn_two(valid_loader, model, criterion, CFG.device)\n",
    "    valid_preds = valid_preds[:, 1]\n",
    "    valid_df['prediction_id'] = valid_df['patient_id'].astype(str) + '_' + valid_df['laterality'].astype(str)\n",
    "    valid_preds = np.array(valid_preds).flatten()\n",
    "    \n",
    "    valid_df['raw_pred'] = valid_preds\n",
    "    LOGGER.info(f\"Valid loss:{loss_valid:.4f}\")\n",
    "    grp_df = valid_df.groupby('prediction_id')['raw_pred', 'cancer'].mean()\n",
    "    grp_df['cancer'] = grp_df['cancer'].astype(np.int)\n",
    "    valid_labels_mean = grp_df['cancer'].values\n",
    "    valid_preds_mean = grp_df['raw_pred'].values\n",
    "    # print(valid_labels[:5], valid_preds_mean[:5])\n",
    "    val_metric_mean = pfbeta(valid_labels_mean, valid_preds_mean)\n",
    "    LOGGER.info(f\"Val metric mean prob: {val_metric_mean:.4f}\")\n",
    "    best_metric_mean_at_epoch = 0\n",
    "    best_metric = 0\n",
    "    \n",
    "    best_threshold_mean = 0\n",
    "    best_auc = 0\n",
    "    best_cf = None\n",
    "    for i in np.arange(0.001, 0.599, 0.001):\n",
    "        valid_argmax = (valid_preds_mean>i).astype(np.int32)\n",
    "        val_metric = pfbeta_np(valid_labels_mean, valid_argmax)\n",
    "        val_acc = accuracy_score(valid_labels_mean, valid_argmax)\n",
    "        val_f1 = f1_score(valid_labels_mean, valid_argmax)\n",
    "        val_auc = roc_auc_score(valid_labels_mean, valid_argmax)\n",
    "        cf = confusion_matrix(valid_labels_mean, valid_argmax)\n",
    "        if val_metric> best_metric:\n",
    "            best_metric = val_metric\n",
    "            # best_metric_mean_at_epoch = val_metric\n",
    "            best_threshold_mean = i\n",
    "            best_auc = val_auc\n",
    "            best_cf = cf\n",
    "    state = {'state_dict': model.state_dict()}\n",
    "    path = f'swa_{CFG.model_name}_fold_{fold}_model_{best_metric:.4f}_{best_threshold_mean:.4f}.pth'\n",
    "    torch.save(state, path)\n",
    "    \n",
    "    LOGGER.info(f\"Best metric at: {best_metric:.4f} {best_threshold_mean:.4f}  {best_auc:.4f}\")\n",
    "    LOGGER.info(f\"Cf: {best_cf}\")\n",
    "    return best_metric\n",
    "\n",
    "study = optuna.create_study(direction='maximize', sampler = TPESampler(seed=666))\n",
    "study.optimize(func=objective, n_trials=40)\n",
    "study.best_params\n",
    "# 0.5563409550491111 0.4436590449508889 fold 0\n",
    "# 0.12634002523631388 0.8351954705276587 0.03846450423602743 0.5393 \n",
    "# 0.583301614081906 0.3673525472043472 0.04934583871374687 fold 2 0.50\n",
    "# 0.1689507073116359 0.47142151346976024 0.3596277792186039 fold 2 0.5055 0.5055 0.3670  0.7261"
   ]
  }
 ],
 "metadata": {
  "kernelspec": {
   "display_name": "Python 3",
   "language": "python",
   "name": "python3"
  },
  "language_info": {
   "codemirror_mode": {
    "name": "ipython",
    "version": 3
   },
   "file_extension": ".py",
   "mimetype": "text/x-python",
   "name": "python",
   "nbconvert_exporter": "python",
   "pygments_lexer": "ipython3",
   "version": "3.6.4"
  },
  "papermill": {
   "default_parameters": {},
   "duration": null,
   "end_time": null,
   "environment_variables": {},
   "exception": null,
   "input_path": "__notebook__.ipynb",
   "output_path": "__notebook__.ipynb",
   "parameters": {},
   "start_time": "2023-02-15T03:53:01.139490",
   "version": "2.3.4"
  }
 },
 "nbformat": 4,
 "nbformat_minor": 5
}